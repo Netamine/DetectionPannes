{
 "cells": [
  {
   "cell_type": "markdown",
   "id": "2a55cb04",
   "metadata": {},
   "source": [
    "<h3 style=\"text-align: center; font-family: Arial, sans-serif; color: #4CAF50;\">TSS - Temporal Similarity Search</h3>\n",
    "<ul style=\"font-family: Arial, sans-serif; font-size: 12pt; color: #333;\">\n",
    "</ul>\n"
   ]
  },
  {
   "cell_type": "code",
   "execution_count": 1,
   "id": "295ac897",
   "metadata": {},
   "outputs": [],
   "source": [
    "import pandas as pd\n",
    "import numpy as np\n",
    "from tqdm import tqdm\n",
    "\n",
    "# Charger les données\n",
    "df = pd.read_csv(\"../Datasources/MetroPT3_imputed_final.csv\", delimiter=\",\", decimal=\".\", index_col=0)\n",
    "df.reset_index(drop=True, inplace=True)\n",
    "\n",
    "# Convertir la colonne timestamp\n",
    "df['timestamp'] = pd.to_datetime(df['timestamp'], errors='coerce')\n",
    "\n",
    "# Sélection des colonnes continues et catégoriques\n",
    "continuous_features = [\"TP2\", \"DV_pressure\", \"Oil_temperature\", \"Motor_current\", \"Reservoirs\"]\n",
    "categorical_features = [\"COMP\", \"DV_eletric\", \"Towers\", \"LPS\", \"Pressure_switch\", \"Oil_level\", \"Caudal_impulses\"]\n",
    "columns_to_keep = [\"timestamp\", \"panne\"] + continuous_features + categorical_features\n",
    "\n",
    "# Filtrer les colonnes utiles\n",
    "df = df[columns_to_keep]\n"
   ]
  },
  {
   "cell_type": "code",
   "execution_count": 10,
   "id": "10b9fb69",
   "metadata": {},
   "outputs": [
    {
     "data": {
      "text/html": [
       "<div>\n",
       "<style scoped>\n",
       "    .dataframe tbody tr th:only-of-type {\n",
       "        vertical-align: middle;\n",
       "    }\n",
       "\n",
       "    .dataframe tbody tr th {\n",
       "        vertical-align: top;\n",
       "    }\n",
       "\n",
       "    .dataframe thead th {\n",
       "        text-align: right;\n",
       "    }\n",
       "</style>\n",
       "<table border=\"1\" class=\"dataframe\">\n",
       "  <thead>\n",
       "    <tr style=\"text-align: right;\">\n",
       "      <th></th>\n",
       "      <th>timestamp</th>\n",
       "      <th>TP2</th>\n",
       "      <th>DV_pressure</th>\n",
       "      <th>Oil_temperature</th>\n",
       "      <th>Motor_current</th>\n",
       "      <th>Reservoirs</th>\n",
       "      <th>COMP</th>\n",
       "      <th>DV_eletric</th>\n",
       "      <th>Towers</th>\n",
       "      <th>LPS</th>\n",
       "      <th>Pressure_switch</th>\n",
       "      <th>Oil_level</th>\n",
       "      <th>Caudal_impulses</th>\n",
       "      <th>panne</th>\n",
       "    </tr>\n",
       "  </thead>\n",
       "  <tbody>\n",
       "    <tr>\n",
       "      <th>0</th>\n",
       "      <td>2020-02-01 00:00:00</td>\n",
       "      <td>-0.012</td>\n",
       "      <td>-0.024</td>\n",
       "      <td>53.600</td>\n",
       "      <td>0.0400</td>\n",
       "      <td>9.358</td>\n",
       "      <td>1.0</td>\n",
       "      <td>0.0</td>\n",
       "      <td>1.0</td>\n",
       "      <td>0.0</td>\n",
       "      <td>1.0</td>\n",
       "      <td>1.0</td>\n",
       "      <td>1.0</td>\n",
       "      <td>0</td>\n",
       "    </tr>\n",
       "    <tr>\n",
       "      <th>1</th>\n",
       "      <td>2020-02-01 00:00:10</td>\n",
       "      <td>-0.014</td>\n",
       "      <td>-0.022</td>\n",
       "      <td>53.675</td>\n",
       "      <td>0.0400</td>\n",
       "      <td>9.348</td>\n",
       "      <td>1.0</td>\n",
       "      <td>0.0</td>\n",
       "      <td>1.0</td>\n",
       "      <td>0.0</td>\n",
       "      <td>1.0</td>\n",
       "      <td>1.0</td>\n",
       "      <td>1.0</td>\n",
       "      <td>0</td>\n",
       "    </tr>\n",
       "    <tr>\n",
       "      <th>2</th>\n",
       "      <td>2020-02-01 00:00:20</td>\n",
       "      <td>-0.012</td>\n",
       "      <td>-0.022</td>\n",
       "      <td>53.600</td>\n",
       "      <td>0.0425</td>\n",
       "      <td>9.338</td>\n",
       "      <td>1.0</td>\n",
       "      <td>0.0</td>\n",
       "      <td>1.0</td>\n",
       "      <td>0.0</td>\n",
       "      <td>1.0</td>\n",
       "      <td>1.0</td>\n",
       "      <td>1.0</td>\n",
       "      <td>0</td>\n",
       "    </tr>\n",
       "  </tbody>\n",
       "</table>\n",
       "</div>"
      ],
      "text/plain": [
       "            timestamp    TP2  DV_pressure  Oil_temperature  Motor_current  \\\n",
       "0 2020-02-01 00:00:00 -0.012       -0.024           53.600         0.0400   \n",
       "1 2020-02-01 00:00:10 -0.014       -0.022           53.675         0.0400   \n",
       "2 2020-02-01 00:00:20 -0.012       -0.022           53.600         0.0425   \n",
       "\n",
       "   Reservoirs  COMP  DV_eletric  Towers  LPS  Pressure_switch  Oil_level  \\\n",
       "0       9.358   1.0         0.0     1.0  0.0              1.0        1.0   \n",
       "1       9.348   1.0         0.0     1.0  0.0              1.0        1.0   \n",
       "2       9.338   1.0         0.0     1.0  0.0              1.0        1.0   \n",
       "\n",
       "   Caudal_impulses  panne  \n",
       "0              1.0      0  \n",
       "1              1.0      0  \n",
       "2              1.0      0  "
      ]
     },
     "metadata": {},
     "output_type": "display_data"
    }
   ],
   "source": [
    "display(df.head(3))"
   ]
  },
  {
   "cell_type": "code",
   "execution_count": 2,
   "id": "71e8e69e",
   "metadata": {
    "scrolled": true
   },
   "outputs": [
    {
     "data": {
      "text/html": [
       "<div>\n",
       "<style scoped>\n",
       "    .dataframe tbody tr th:only-of-type {\n",
       "        vertical-align: middle;\n",
       "    }\n",
       "\n",
       "    .dataframe tbody tr th {\n",
       "        vertical-align: top;\n",
       "    }\n",
       "\n",
       "    .dataframe thead th {\n",
       "        text-align: right;\n",
       "    }\n",
       "</style>\n",
       "<table border=\"1\" class=\"dataframe\">\n",
       "  <thead>\n",
       "    <tr style=\"text-align: right;\">\n",
       "      <th></th>\n",
       "      <th>timestamp</th>\n",
       "      <th>TP2</th>\n",
       "      <th>DV_pressure</th>\n",
       "      <th>Oil_temperature</th>\n",
       "      <th>Motor_current</th>\n",
       "      <th>Reservoirs</th>\n",
       "      <th>COMP</th>\n",
       "      <th>DV_eletric</th>\n",
       "      <th>Towers</th>\n",
       "      <th>LPS</th>\n",
       "      <th>Pressure_switch</th>\n",
       "      <th>Oil_level</th>\n",
       "      <th>Caudal_impulses</th>\n",
       "    </tr>\n",
       "  </thead>\n",
       "  <tbody>\n",
       "    <tr>\n",
       "      <th>0</th>\n",
       "      <td>2020-02-01 00:00:00</td>\n",
       "      <td>-0.012</td>\n",
       "      <td>-0.024</td>\n",
       "      <td>53.600</td>\n",
       "      <td>0.0400</td>\n",
       "      <td>9.358</td>\n",
       "      <td>1.0</td>\n",
       "      <td>0.0</td>\n",
       "      <td>1.0</td>\n",
       "      <td>0.0</td>\n",
       "      <td>1.0</td>\n",
       "      <td>1.0</td>\n",
       "      <td>1.0</td>\n",
       "    </tr>\n",
       "    <tr>\n",
       "      <th>1</th>\n",
       "      <td>2020-02-01 00:00:10</td>\n",
       "      <td>-0.014</td>\n",
       "      <td>-0.022</td>\n",
       "      <td>53.675</td>\n",
       "      <td>0.0400</td>\n",
       "      <td>9.348</td>\n",
       "      <td>1.0</td>\n",
       "      <td>0.0</td>\n",
       "      <td>1.0</td>\n",
       "      <td>0.0</td>\n",
       "      <td>1.0</td>\n",
       "      <td>1.0</td>\n",
       "      <td>1.0</td>\n",
       "    </tr>\n",
       "    <tr>\n",
       "      <th>2</th>\n",
       "      <td>2020-02-01 00:00:20</td>\n",
       "      <td>-0.012</td>\n",
       "      <td>-0.022</td>\n",
       "      <td>53.600</td>\n",
       "      <td>0.0425</td>\n",
       "      <td>9.338</td>\n",
       "      <td>1.0</td>\n",
       "      <td>0.0</td>\n",
       "      <td>1.0</td>\n",
       "      <td>0.0</td>\n",
       "      <td>1.0</td>\n",
       "      <td>1.0</td>\n",
       "      <td>1.0</td>\n",
       "    </tr>\n",
       "    <tr>\n",
       "      <th>3</th>\n",
       "      <td>2020-02-01 00:00:30</td>\n",
       "      <td>-0.012</td>\n",
       "      <td>-0.022</td>\n",
       "      <td>53.425</td>\n",
       "      <td>0.0400</td>\n",
       "      <td>9.328</td>\n",
       "      <td>1.0</td>\n",
       "      <td>0.0</td>\n",
       "      <td>1.0</td>\n",
       "      <td>0.0</td>\n",
       "      <td>1.0</td>\n",
       "      <td>1.0</td>\n",
       "      <td>1.0</td>\n",
       "    </tr>\n",
       "    <tr>\n",
       "      <th>4</th>\n",
       "      <td>2020-02-01 00:00:40</td>\n",
       "      <td>-0.012</td>\n",
       "      <td>-0.022</td>\n",
       "      <td>53.475</td>\n",
       "      <td>0.0400</td>\n",
       "      <td>9.318</td>\n",
       "      <td>1.0</td>\n",
       "      <td>0.0</td>\n",
       "      <td>1.0</td>\n",
       "      <td>0.0</td>\n",
       "      <td>1.0</td>\n",
       "      <td>1.0</td>\n",
       "      <td>1.0</td>\n",
       "    </tr>\n",
       "  </tbody>\n",
       "</table>\n",
       "</div>"
      ],
      "text/plain": [
       "            timestamp    TP2  DV_pressure  Oil_temperature  Motor_current  \\\n",
       "0 2020-02-01 00:00:00 -0.012       -0.024           53.600         0.0400   \n",
       "1 2020-02-01 00:00:10 -0.014       -0.022           53.675         0.0400   \n",
       "2 2020-02-01 00:00:20 -0.012       -0.022           53.600         0.0425   \n",
       "3 2020-02-01 00:00:30 -0.012       -0.022           53.425         0.0400   \n",
       "4 2020-02-01 00:00:40 -0.012       -0.022           53.475         0.0400   \n",
       "\n",
       "   Reservoirs  COMP  DV_eletric  Towers  LPS  Pressure_switch  Oil_level  \\\n",
       "0       9.358   1.0         0.0     1.0  0.0              1.0        1.0   \n",
       "1       9.348   1.0         0.0     1.0  0.0              1.0        1.0   \n",
       "2       9.338   1.0         0.0     1.0  0.0              1.0        1.0   \n",
       "3       9.328   1.0         0.0     1.0  0.0              1.0        1.0   \n",
       "4       9.318   1.0         0.0     1.0  0.0              1.0        1.0   \n",
       "\n",
       "   Caudal_impulses  \n",
       "0              1.0  \n",
       "1              1.0  \n",
       "2              1.0  \n",
       "3              1.0  \n",
       "4              1.0  "
      ]
     },
     "metadata": {},
     "output_type": "display_data"
    }
   ],
   "source": [
    "# Supprimer la colonne 'panne' de df\n",
    "df = df.drop(columns=['panne'])\n",
    "\n",
    "# Vérifier si la colonne a été supprimée\n",
    "display(df.head())\n"
   ]
  },
  {
   "cell_type": "code",
   "execution_count": 3,
   "id": "1a11b41b",
   "metadata": {},
   "outputs": [
    {
     "data": {
      "text/html": [
       "<div>\n",
       "<style scoped>\n",
       "    .dataframe tbody tr th:only-of-type {\n",
       "        vertical-align: middle;\n",
       "    }\n",
       "\n",
       "    .dataframe tbody tr th {\n",
       "        vertical-align: top;\n",
       "    }\n",
       "\n",
       "    .dataframe thead th {\n",
       "        text-align: right;\n",
       "    }\n",
       "</style>\n",
       "<table border=\"1\" class=\"dataframe\">\n",
       "  <thead>\n",
       "    <tr style=\"text-align: right;\">\n",
       "      <th></th>\n",
       "      <th>timestamp</th>\n",
       "      <th>TP2</th>\n",
       "      <th>DV_pressure</th>\n",
       "      <th>Oil_temperature</th>\n",
       "      <th>Motor_current</th>\n",
       "      <th>Reservoirs</th>\n",
       "      <th>COMP</th>\n",
       "      <th>DV_eletric</th>\n",
       "      <th>Towers</th>\n",
       "      <th>LPS</th>\n",
       "      <th>Pressure_switch</th>\n",
       "      <th>Oil_level</th>\n",
       "      <th>Caudal_impulses</th>\n",
       "      <th>panne</th>\n",
       "    </tr>\n",
       "  </thead>\n",
       "  <tbody>\n",
       "    <tr>\n",
       "      <th>0</th>\n",
       "      <td>2020-02-01 00:00:00</td>\n",
       "      <td>-0.012</td>\n",
       "      <td>-0.024</td>\n",
       "      <td>53.600</td>\n",
       "      <td>0.0400</td>\n",
       "      <td>9.358</td>\n",
       "      <td>1.0</td>\n",
       "      <td>0.0</td>\n",
       "      <td>1.0</td>\n",
       "      <td>0.0</td>\n",
       "      <td>1.0</td>\n",
       "      <td>1.0</td>\n",
       "      <td>1.0</td>\n",
       "      <td>0</td>\n",
       "    </tr>\n",
       "    <tr>\n",
       "      <th>1</th>\n",
       "      <td>2020-02-01 00:00:10</td>\n",
       "      <td>-0.014</td>\n",
       "      <td>-0.022</td>\n",
       "      <td>53.675</td>\n",
       "      <td>0.0400</td>\n",
       "      <td>9.348</td>\n",
       "      <td>1.0</td>\n",
       "      <td>0.0</td>\n",
       "      <td>1.0</td>\n",
       "      <td>0.0</td>\n",
       "      <td>1.0</td>\n",
       "      <td>1.0</td>\n",
       "      <td>1.0</td>\n",
       "      <td>0</td>\n",
       "    </tr>\n",
       "    <tr>\n",
       "      <th>2</th>\n",
       "      <td>2020-02-01 00:00:20</td>\n",
       "      <td>-0.012</td>\n",
       "      <td>-0.022</td>\n",
       "      <td>53.600</td>\n",
       "      <td>0.0425</td>\n",
       "      <td>9.338</td>\n",
       "      <td>1.0</td>\n",
       "      <td>0.0</td>\n",
       "      <td>1.0</td>\n",
       "      <td>0.0</td>\n",
       "      <td>1.0</td>\n",
       "      <td>1.0</td>\n",
       "      <td>1.0</td>\n",
       "      <td>0</td>\n",
       "    </tr>\n",
       "    <tr>\n",
       "      <th>3</th>\n",
       "      <td>2020-02-01 00:00:30</td>\n",
       "      <td>-0.012</td>\n",
       "      <td>-0.022</td>\n",
       "      <td>53.425</td>\n",
       "      <td>0.0400</td>\n",
       "      <td>9.328</td>\n",
       "      <td>1.0</td>\n",
       "      <td>0.0</td>\n",
       "      <td>1.0</td>\n",
       "      <td>0.0</td>\n",
       "      <td>1.0</td>\n",
       "      <td>1.0</td>\n",
       "      <td>1.0</td>\n",
       "      <td>0</td>\n",
       "    </tr>\n",
       "    <tr>\n",
       "      <th>4</th>\n",
       "      <td>2020-02-01 00:00:40</td>\n",
       "      <td>-0.012</td>\n",
       "      <td>-0.022</td>\n",
       "      <td>53.475</td>\n",
       "      <td>0.0400</td>\n",
       "      <td>9.318</td>\n",
       "      <td>1.0</td>\n",
       "      <td>0.0</td>\n",
       "      <td>1.0</td>\n",
       "      <td>0.0</td>\n",
       "      <td>1.0</td>\n",
       "      <td>1.0</td>\n",
       "      <td>1.0</td>\n",
       "      <td>0</td>\n",
       "    </tr>\n",
       "    <tr>\n",
       "      <th>5</th>\n",
       "      <td>2020-02-01 00:00:50</td>\n",
       "      <td>-0.012</td>\n",
       "      <td>-0.024</td>\n",
       "      <td>53.500</td>\n",
       "      <td>0.0400</td>\n",
       "      <td>9.308</td>\n",
       "      <td>1.0</td>\n",
       "      <td>0.0</td>\n",
       "      <td>1.0</td>\n",
       "      <td>0.0</td>\n",
       "      <td>1.0</td>\n",
       "      <td>1.0</td>\n",
       "      <td>1.0</td>\n",
       "      <td>0</td>\n",
       "    </tr>\n",
       "    <tr>\n",
       "      <th>6</th>\n",
       "      <td>2020-02-01 00:01:00</td>\n",
       "      <td>-0.012</td>\n",
       "      <td>-0.024</td>\n",
       "      <td>53.375</td>\n",
       "      <td>0.0400</td>\n",
       "      <td>9.298</td>\n",
       "      <td>1.0</td>\n",
       "      <td>0.0</td>\n",
       "      <td>1.0</td>\n",
       "      <td>0.0</td>\n",
       "      <td>1.0</td>\n",
       "      <td>1.0</td>\n",
       "      <td>1.0</td>\n",
       "      <td>0</td>\n",
       "    </tr>\n",
       "    <tr>\n",
       "      <th>7</th>\n",
       "      <td>2020-02-01 00:01:10</td>\n",
       "      <td>-0.014</td>\n",
       "      <td>-0.024</td>\n",
       "      <td>53.550</td>\n",
       "      <td>0.0400</td>\n",
       "      <td>9.286</td>\n",
       "      <td>1.0</td>\n",
       "      <td>0.0</td>\n",
       "      <td>1.0</td>\n",
       "      <td>0.0</td>\n",
       "      <td>1.0</td>\n",
       "      <td>1.0</td>\n",
       "      <td>1.0</td>\n",
       "      <td>0</td>\n",
       "    </tr>\n",
       "    <tr>\n",
       "      <th>8</th>\n",
       "      <td>2020-02-01 00:01:20</td>\n",
       "      <td>-0.012</td>\n",
       "      <td>-0.022</td>\n",
       "      <td>53.425</td>\n",
       "      <td>0.0400</td>\n",
       "      <td>9.276</td>\n",
       "      <td>1.0</td>\n",
       "      <td>0.0</td>\n",
       "      <td>1.0</td>\n",
       "      <td>0.0</td>\n",
       "      <td>1.0</td>\n",
       "      <td>1.0</td>\n",
       "      <td>1.0</td>\n",
       "      <td>0</td>\n",
       "    </tr>\n",
       "    <tr>\n",
       "      <th>9</th>\n",
       "      <td>2020-02-01 00:01:30</td>\n",
       "      <td>-0.012</td>\n",
       "      <td>-0.022</td>\n",
       "      <td>53.375</td>\n",
       "      <td>0.0400</td>\n",
       "      <td>9.264</td>\n",
       "      <td>1.0</td>\n",
       "      <td>0.0</td>\n",
       "      <td>1.0</td>\n",
       "      <td>0.0</td>\n",
       "      <td>1.0</td>\n",
       "      <td>1.0</td>\n",
       "      <td>1.0</td>\n",
       "      <td>0</td>\n",
       "    </tr>\n",
       "    <tr>\n",
       "      <th>10</th>\n",
       "      <td>2020-02-01 00:01:40</td>\n",
       "      <td>-0.014</td>\n",
       "      <td>-0.024</td>\n",
       "      <td>53.400</td>\n",
       "      <td>0.0400</td>\n",
       "      <td>9.256</td>\n",
       "      <td>1.0</td>\n",
       "      <td>0.0</td>\n",
       "      <td>1.0</td>\n",
       "      <td>0.0</td>\n",
       "      <td>1.0</td>\n",
       "      <td>1.0</td>\n",
       "      <td>1.0</td>\n",
       "      <td>0</td>\n",
       "    </tr>\n",
       "    <tr>\n",
       "      <th>11</th>\n",
       "      <td>2020-02-01 00:01:50</td>\n",
       "      <td>-0.012</td>\n",
       "      <td>-0.024</td>\n",
       "      <td>53.350</td>\n",
       "      <td>0.0400</td>\n",
       "      <td>9.244</td>\n",
       "      <td>1.0</td>\n",
       "      <td>0.0</td>\n",
       "      <td>1.0</td>\n",
       "      <td>0.0</td>\n",
       "      <td>1.0</td>\n",
       "      <td>1.0</td>\n",
       "      <td>1.0</td>\n",
       "      <td>0</td>\n",
       "    </tr>\n",
       "    <tr>\n",
       "      <th>12</th>\n",
       "      <td>2020-02-01 00:02:00</td>\n",
       "      <td>-0.014</td>\n",
       "      <td>-0.024</td>\n",
       "      <td>53.425</td>\n",
       "      <td>0.0400</td>\n",
       "      <td>9.232</td>\n",
       "      <td>1.0</td>\n",
       "      <td>0.0</td>\n",
       "      <td>1.0</td>\n",
       "      <td>0.0</td>\n",
       "      <td>1.0</td>\n",
       "      <td>1.0</td>\n",
       "      <td>1.0</td>\n",
       "      <td>0</td>\n",
       "    </tr>\n",
       "    <tr>\n",
       "      <th>13</th>\n",
       "      <td>2020-02-01 00:02:10</td>\n",
       "      <td>-0.012</td>\n",
       "      <td>-0.022</td>\n",
       "      <td>53.325</td>\n",
       "      <td>0.0400</td>\n",
       "      <td>9.222</td>\n",
       "      <td>1.0</td>\n",
       "      <td>0.0</td>\n",
       "      <td>1.0</td>\n",
       "      <td>0.0</td>\n",
       "      <td>1.0</td>\n",
       "      <td>1.0</td>\n",
       "      <td>1.0</td>\n",
       "      <td>0</td>\n",
       "    </tr>\n",
       "    <tr>\n",
       "      <th>14</th>\n",
       "      <td>2020-02-01 00:02:20</td>\n",
       "      <td>-0.012</td>\n",
       "      <td>-0.022</td>\n",
       "      <td>53.425</td>\n",
       "      <td>0.0400</td>\n",
       "      <td>9.216</td>\n",
       "      <td>1.0</td>\n",
       "      <td>0.0</td>\n",
       "      <td>1.0</td>\n",
       "      <td>0.0</td>\n",
       "      <td>1.0</td>\n",
       "      <td>1.0</td>\n",
       "      <td>1.0</td>\n",
       "      <td>0</td>\n",
       "    </tr>\n",
       "    <tr>\n",
       "      <th>15</th>\n",
       "      <td>2020-02-01 00:02:30</td>\n",
       "      <td>-0.014</td>\n",
       "      <td>-0.024</td>\n",
       "      <td>53.325</td>\n",
       "      <td>0.0400</td>\n",
       "      <td>9.204</td>\n",
       "      <td>1.0</td>\n",
       "      <td>0.0</td>\n",
       "      <td>1.0</td>\n",
       "      <td>0.0</td>\n",
       "      <td>1.0</td>\n",
       "      <td>1.0</td>\n",
       "      <td>1.0</td>\n",
       "      <td>0</td>\n",
       "    </tr>\n",
       "    <tr>\n",
       "      <th>16</th>\n",
       "      <td>2020-02-01 00:02:40</td>\n",
       "      <td>-0.012</td>\n",
       "      <td>-0.022</td>\n",
       "      <td>53.325</td>\n",
       "      <td>0.0400</td>\n",
       "      <td>9.194</td>\n",
       "      <td>1.0</td>\n",
       "      <td>0.0</td>\n",
       "      <td>1.0</td>\n",
       "      <td>0.0</td>\n",
       "      <td>1.0</td>\n",
       "      <td>1.0</td>\n",
       "      <td>1.0</td>\n",
       "      <td>0</td>\n",
       "    </tr>\n",
       "    <tr>\n",
       "      <th>17</th>\n",
       "      <td>2020-02-01 00:02:50</td>\n",
       "      <td>-0.012</td>\n",
       "      <td>-0.022</td>\n",
       "      <td>53.275</td>\n",
       "      <td>0.0400</td>\n",
       "      <td>9.184</td>\n",
       "      <td>1.0</td>\n",
       "      <td>0.0</td>\n",
       "      <td>1.0</td>\n",
       "      <td>0.0</td>\n",
       "      <td>1.0</td>\n",
       "      <td>1.0</td>\n",
       "      <td>1.0</td>\n",
       "      <td>0</td>\n",
       "    </tr>\n",
       "    <tr>\n",
       "      <th>18</th>\n",
       "      <td>2020-02-01 00:03:00</td>\n",
       "      <td>-0.014</td>\n",
       "      <td>-0.022</td>\n",
       "      <td>53.275</td>\n",
       "      <td>0.0400</td>\n",
       "      <td>9.174</td>\n",
       "      <td>1.0</td>\n",
       "      <td>0.0</td>\n",
       "      <td>1.0</td>\n",
       "      <td>0.0</td>\n",
       "      <td>1.0</td>\n",
       "      <td>1.0</td>\n",
       "      <td>1.0</td>\n",
       "      <td>0</td>\n",
       "    </tr>\n",
       "    <tr>\n",
       "      <th>19</th>\n",
       "      <td>2020-02-01 00:03:10</td>\n",
       "      <td>-0.012</td>\n",
       "      <td>-0.024</td>\n",
       "      <td>53.325</td>\n",
       "      <td>0.0400</td>\n",
       "      <td>9.164</td>\n",
       "      <td>1.0</td>\n",
       "      <td>0.0</td>\n",
       "      <td>1.0</td>\n",
       "      <td>0.0</td>\n",
       "      <td>1.0</td>\n",
       "      <td>1.0</td>\n",
       "      <td>1.0</td>\n",
       "      <td>0</td>\n",
       "    </tr>\n",
       "    <tr>\n",
       "      <th>20</th>\n",
       "      <td>2020-02-01 00:03:20</td>\n",
       "      <td>-0.012</td>\n",
       "      <td>-0.022</td>\n",
       "      <td>53.150</td>\n",
       "      <td>0.0375</td>\n",
       "      <td>9.152</td>\n",
       "      <td>1.0</td>\n",
       "      <td>0.0</td>\n",
       "      <td>1.0</td>\n",
       "      <td>0.0</td>\n",
       "      <td>1.0</td>\n",
       "      <td>1.0</td>\n",
       "      <td>1.0</td>\n",
       "      <td>0</td>\n",
       "    </tr>\n",
       "    <tr>\n",
       "      <th>21</th>\n",
       "      <td>2020-02-01 00:03:30</td>\n",
       "      <td>-0.012</td>\n",
       "      <td>-0.022</td>\n",
       "      <td>53.200</td>\n",
       "      <td>0.0400</td>\n",
       "      <td>9.142</td>\n",
       "      <td>1.0</td>\n",
       "      <td>0.0</td>\n",
       "      <td>1.0</td>\n",
       "      <td>0.0</td>\n",
       "      <td>1.0</td>\n",
       "      <td>1.0</td>\n",
       "      <td>1.0</td>\n",
       "      <td>0</td>\n",
       "    </tr>\n",
       "    <tr>\n",
       "      <th>22</th>\n",
       "      <td>2020-02-01 00:03:40</td>\n",
       "      <td>-0.012</td>\n",
       "      <td>-0.022</td>\n",
       "      <td>53.225</td>\n",
       "      <td>0.0400</td>\n",
       "      <td>9.132</td>\n",
       "      <td>1.0</td>\n",
       "      <td>0.0</td>\n",
       "      <td>1.0</td>\n",
       "      <td>0.0</td>\n",
       "      <td>1.0</td>\n",
       "      <td>1.0</td>\n",
       "      <td>1.0</td>\n",
       "      <td>0</td>\n",
       "    </tr>\n",
       "    <tr>\n",
       "      <th>23</th>\n",
       "      <td>2020-02-01 00:03:50</td>\n",
       "      <td>-0.012</td>\n",
       "      <td>-0.022</td>\n",
       "      <td>53.175</td>\n",
       "      <td>0.0400</td>\n",
       "      <td>9.120</td>\n",
       "      <td>1.0</td>\n",
       "      <td>0.0</td>\n",
       "      <td>1.0</td>\n",
       "      <td>0.0</td>\n",
       "      <td>1.0</td>\n",
       "      <td>1.0</td>\n",
       "      <td>1.0</td>\n",
       "      <td>0</td>\n",
       "    </tr>\n",
       "    <tr>\n",
       "      <th>24</th>\n",
       "      <td>2020-02-01 00:04:00</td>\n",
       "      <td>-0.014</td>\n",
       "      <td>-0.024</td>\n",
       "      <td>53.125</td>\n",
       "      <td>0.0425</td>\n",
       "      <td>9.110</td>\n",
       "      <td>1.0</td>\n",
       "      <td>0.0</td>\n",
       "      <td>1.0</td>\n",
       "      <td>0.0</td>\n",
       "      <td>1.0</td>\n",
       "      <td>1.0</td>\n",
       "      <td>1.0</td>\n",
       "      <td>0</td>\n",
       "    </tr>\n",
       "    <tr>\n",
       "      <th>25</th>\n",
       "      <td>2020-02-01 00:04:10</td>\n",
       "      <td>-0.014</td>\n",
       "      <td>-0.024</td>\n",
       "      <td>53.100</td>\n",
       "      <td>0.0400</td>\n",
       "      <td>9.100</td>\n",
       "      <td>1.0</td>\n",
       "      <td>0.0</td>\n",
       "      <td>1.0</td>\n",
       "      <td>0.0</td>\n",
       "      <td>1.0</td>\n",
       "      <td>1.0</td>\n",
       "      <td>1.0</td>\n",
       "      <td>0</td>\n",
       "    </tr>\n",
       "    <tr>\n",
       "      <th>26</th>\n",
       "      <td>2020-02-01 00:04:20</td>\n",
       "      <td>-0.012</td>\n",
       "      <td>-0.022</td>\n",
       "      <td>53.125</td>\n",
       "      <td>0.0400</td>\n",
       "      <td>9.090</td>\n",
       "      <td>1.0</td>\n",
       "      <td>0.0</td>\n",
       "      <td>1.0</td>\n",
       "      <td>0.0</td>\n",
       "      <td>1.0</td>\n",
       "      <td>1.0</td>\n",
       "      <td>1.0</td>\n",
       "      <td>0</td>\n",
       "    </tr>\n",
       "    <tr>\n",
       "      <th>27</th>\n",
       "      <td>2020-02-01 00:04:30</td>\n",
       "      <td>-0.012</td>\n",
       "      <td>-0.024</td>\n",
       "      <td>53.225</td>\n",
       "      <td>0.0400</td>\n",
       "      <td>9.082</td>\n",
       "      <td>1.0</td>\n",
       "      <td>0.0</td>\n",
       "      <td>1.0</td>\n",
       "      <td>0.0</td>\n",
       "      <td>1.0</td>\n",
       "      <td>1.0</td>\n",
       "      <td>1.0</td>\n",
       "      <td>0</td>\n",
       "    </tr>\n",
       "    <tr>\n",
       "      <th>28</th>\n",
       "      <td>2020-02-01 00:04:40</td>\n",
       "      <td>-0.014</td>\n",
       "      <td>-0.022</td>\n",
       "      <td>53.100</td>\n",
       "      <td>0.0400</td>\n",
       "      <td>9.070</td>\n",
       "      <td>1.0</td>\n",
       "      <td>0.0</td>\n",
       "      <td>1.0</td>\n",
       "      <td>0.0</td>\n",
       "      <td>1.0</td>\n",
       "      <td>1.0</td>\n",
       "      <td>1.0</td>\n",
       "      <td>0</td>\n",
       "    </tr>\n",
       "    <tr>\n",
       "      <th>29</th>\n",
       "      <td>2020-02-01 00:04:50</td>\n",
       "      <td>-0.014</td>\n",
       "      <td>-0.022</td>\n",
       "      <td>53.125</td>\n",
       "      <td>0.0400</td>\n",
       "      <td>9.062</td>\n",
       "      <td>1.0</td>\n",
       "      <td>0.0</td>\n",
       "      <td>1.0</td>\n",
       "      <td>0.0</td>\n",
       "      <td>1.0</td>\n",
       "      <td>1.0</td>\n",
       "      <td>1.0</td>\n",
       "      <td>0</td>\n",
       "    </tr>\n",
       "    <tr>\n",
       "      <th>30</th>\n",
       "      <td>2020-02-01 00:05:00</td>\n",
       "      <td>-0.012</td>\n",
       "      <td>-0.024</td>\n",
       "      <td>53.100</td>\n",
       "      <td>0.0400</td>\n",
       "      <td>9.050</td>\n",
       "      <td>1.0</td>\n",
       "      <td>0.0</td>\n",
       "      <td>1.0</td>\n",
       "      <td>0.0</td>\n",
       "      <td>1.0</td>\n",
       "      <td>1.0</td>\n",
       "      <td>1.0</td>\n",
       "      <td>0</td>\n",
       "    </tr>\n",
       "    <tr>\n",
       "      <th>31</th>\n",
       "      <td>2020-02-01 00:05:10</td>\n",
       "      <td>-0.012</td>\n",
       "      <td>-0.022</td>\n",
       "      <td>53.100</td>\n",
       "      <td>0.0400</td>\n",
       "      <td>9.042</td>\n",
       "      <td>1.0</td>\n",
       "      <td>0.0</td>\n",
       "      <td>1.0</td>\n",
       "      <td>0.0</td>\n",
       "      <td>1.0</td>\n",
       "      <td>1.0</td>\n",
       "      <td>1.0</td>\n",
       "      <td>0</td>\n",
       "    </tr>\n",
       "    <tr>\n",
       "      <th>32</th>\n",
       "      <td>2020-02-01 00:05:20</td>\n",
       "      <td>-0.014</td>\n",
       "      <td>-0.024</td>\n",
       "      <td>53.125</td>\n",
       "      <td>0.0400</td>\n",
       "      <td>9.032</td>\n",
       "      <td>1.0</td>\n",
       "      <td>0.0</td>\n",
       "      <td>1.0</td>\n",
       "      <td>0.0</td>\n",
       "      <td>1.0</td>\n",
       "      <td>1.0</td>\n",
       "      <td>1.0</td>\n",
       "      <td>0</td>\n",
       "    </tr>\n",
       "    <tr>\n",
       "      <th>33</th>\n",
       "      <td>2020-02-01 00:05:30</td>\n",
       "      <td>-0.014</td>\n",
       "      <td>-0.024</td>\n",
       "      <td>53.125</td>\n",
       "      <td>0.0400</td>\n",
       "      <td>9.022</td>\n",
       "      <td>1.0</td>\n",
       "      <td>0.0</td>\n",
       "      <td>1.0</td>\n",
       "      <td>0.0</td>\n",
       "      <td>1.0</td>\n",
       "      <td>1.0</td>\n",
       "      <td>1.0</td>\n",
       "      <td>0</td>\n",
       "    </tr>\n",
       "    <tr>\n",
       "      <th>34</th>\n",
       "      <td>2020-02-01 00:05:40</td>\n",
       "      <td>-0.014</td>\n",
       "      <td>-0.022</td>\n",
       "      <td>53.100</td>\n",
       "      <td>0.0400</td>\n",
       "      <td>9.010</td>\n",
       "      <td>1.0</td>\n",
       "      <td>0.0</td>\n",
       "      <td>1.0</td>\n",
       "      <td>0.0</td>\n",
       "      <td>1.0</td>\n",
       "      <td>1.0</td>\n",
       "      <td>1.0</td>\n",
       "      <td>0</td>\n",
       "    </tr>\n",
       "    <tr>\n",
       "      <th>35</th>\n",
       "      <td>2020-02-01 00:05:50</td>\n",
       "      <td>-0.014</td>\n",
       "      <td>-0.022</td>\n",
       "      <td>53.025</td>\n",
       "      <td>0.0400</td>\n",
       "      <td>9.002</td>\n",
       "      <td>1.0</td>\n",
       "      <td>0.0</td>\n",
       "      <td>1.0</td>\n",
       "      <td>0.0</td>\n",
       "      <td>1.0</td>\n",
       "      <td>1.0</td>\n",
       "      <td>1.0</td>\n",
       "      <td>0</td>\n",
       "    </tr>\n",
       "    <tr>\n",
       "      <th>36</th>\n",
       "      <td>2020-02-01 00:06:00</td>\n",
       "      <td>-0.014</td>\n",
       "      <td>-0.022</td>\n",
       "      <td>53.025</td>\n",
       "      <td>0.0400</td>\n",
       "      <td>8.992</td>\n",
       "      <td>1.0</td>\n",
       "      <td>0.0</td>\n",
       "      <td>1.0</td>\n",
       "      <td>0.0</td>\n",
       "      <td>1.0</td>\n",
       "      <td>1.0</td>\n",
       "      <td>1.0</td>\n",
       "      <td>0</td>\n",
       "    </tr>\n",
       "    <tr>\n",
       "      <th>37</th>\n",
       "      <td>2020-02-01 00:06:10</td>\n",
       "      <td>-0.014</td>\n",
       "      <td>-0.022</td>\n",
       "      <td>53.000</td>\n",
       "      <td>0.0375</td>\n",
       "      <td>8.982</td>\n",
       "      <td>1.0</td>\n",
       "      <td>0.0</td>\n",
       "      <td>1.0</td>\n",
       "      <td>0.0</td>\n",
       "      <td>1.0</td>\n",
       "      <td>1.0</td>\n",
       "      <td>1.0</td>\n",
       "      <td>0</td>\n",
       "    </tr>\n",
       "    <tr>\n",
       "      <th>38</th>\n",
       "      <td>2020-02-01 00:06:20</td>\n",
       "      <td>-0.014</td>\n",
       "      <td>-0.024</td>\n",
       "      <td>52.975</td>\n",
       "      <td>0.0400</td>\n",
       "      <td>8.974</td>\n",
       "      <td>1.0</td>\n",
       "      <td>0.0</td>\n",
       "      <td>1.0</td>\n",
       "      <td>0.0</td>\n",
       "      <td>1.0</td>\n",
       "      <td>1.0</td>\n",
       "      <td>1.0</td>\n",
       "      <td>0</td>\n",
       "    </tr>\n",
       "    <tr>\n",
       "      <th>39</th>\n",
       "      <td>2020-02-01 00:06:30</td>\n",
       "      <td>-0.012</td>\n",
       "      <td>-0.024</td>\n",
       "      <td>52.900</td>\n",
       "      <td>0.0400</td>\n",
       "      <td>8.962</td>\n",
       "      <td>1.0</td>\n",
       "      <td>0.0</td>\n",
       "      <td>1.0</td>\n",
       "      <td>0.0</td>\n",
       "      <td>1.0</td>\n",
       "      <td>1.0</td>\n",
       "      <td>1.0</td>\n",
       "      <td>0</td>\n",
       "    </tr>\n",
       "    <tr>\n",
       "      <th>40</th>\n",
       "      <td>2020-02-01 00:06:40</td>\n",
       "      <td>-0.014</td>\n",
       "      <td>-0.022</td>\n",
       "      <td>52.825</td>\n",
       "      <td>0.0375</td>\n",
       "      <td>8.952</td>\n",
       "      <td>1.0</td>\n",
       "      <td>0.0</td>\n",
       "      <td>1.0</td>\n",
       "      <td>0.0</td>\n",
       "      <td>1.0</td>\n",
       "      <td>1.0</td>\n",
       "      <td>1.0</td>\n",
       "      <td>0</td>\n",
       "    </tr>\n",
       "    <tr>\n",
       "      <th>41</th>\n",
       "      <td>2020-02-01 00:06:50</td>\n",
       "      <td>-0.012</td>\n",
       "      <td>-0.022</td>\n",
       "      <td>52.825</td>\n",
       "      <td>0.0400</td>\n",
       "      <td>8.944</td>\n",
       "      <td>1.0</td>\n",
       "      <td>0.0</td>\n",
       "      <td>1.0</td>\n",
       "      <td>0.0</td>\n",
       "      <td>1.0</td>\n",
       "      <td>1.0</td>\n",
       "      <td>1.0</td>\n",
       "      <td>0</td>\n",
       "    </tr>\n",
       "    <tr>\n",
       "      <th>42</th>\n",
       "      <td>2020-02-01 00:07:00</td>\n",
       "      <td>-0.014</td>\n",
       "      <td>-0.024</td>\n",
       "      <td>52.825</td>\n",
       "      <td>0.0400</td>\n",
       "      <td>8.932</td>\n",
       "      <td>1.0</td>\n",
       "      <td>0.0</td>\n",
       "      <td>1.0</td>\n",
       "      <td>0.0</td>\n",
       "      <td>1.0</td>\n",
       "      <td>1.0</td>\n",
       "      <td>1.0</td>\n",
       "      <td>0</td>\n",
       "    </tr>\n",
       "    <tr>\n",
       "      <th>43</th>\n",
       "      <td>2020-02-01 00:07:10</td>\n",
       "      <td>-0.012</td>\n",
       "      <td>-0.022</td>\n",
       "      <td>52.775</td>\n",
       "      <td>0.0400</td>\n",
       "      <td>8.922</td>\n",
       "      <td>1.0</td>\n",
       "      <td>0.0</td>\n",
       "      <td>1.0</td>\n",
       "      <td>0.0</td>\n",
       "      <td>1.0</td>\n",
       "      <td>1.0</td>\n",
       "      <td>1.0</td>\n",
       "      <td>0</td>\n",
       "    </tr>\n",
       "    <tr>\n",
       "      <th>44</th>\n",
       "      <td>2020-02-01 00:07:20</td>\n",
       "      <td>-0.012</td>\n",
       "      <td>-0.022</td>\n",
       "      <td>52.750</td>\n",
       "      <td>0.0400</td>\n",
       "      <td>8.914</td>\n",
       "      <td>1.0</td>\n",
       "      <td>0.0</td>\n",
       "      <td>1.0</td>\n",
       "      <td>0.0</td>\n",
       "      <td>1.0</td>\n",
       "      <td>1.0</td>\n",
       "      <td>1.0</td>\n",
       "      <td>0</td>\n",
       "    </tr>\n",
       "    <tr>\n",
       "      <th>45</th>\n",
       "      <td>2020-02-01 00:07:30</td>\n",
       "      <td>-0.012</td>\n",
       "      <td>-0.024</td>\n",
       "      <td>52.725</td>\n",
       "      <td>0.0400</td>\n",
       "      <td>8.902</td>\n",
       "      <td>1.0</td>\n",
       "      <td>0.0</td>\n",
       "      <td>1.0</td>\n",
       "      <td>0.0</td>\n",
       "      <td>1.0</td>\n",
       "      <td>1.0</td>\n",
       "      <td>1.0</td>\n",
       "      <td>0</td>\n",
       "    </tr>\n",
       "    <tr>\n",
       "      <th>46</th>\n",
       "      <td>2020-02-01 00:07:40</td>\n",
       "      <td>-0.014</td>\n",
       "      <td>-0.022</td>\n",
       "      <td>52.775</td>\n",
       "      <td>0.0400</td>\n",
       "      <td>8.894</td>\n",
       "      <td>1.0</td>\n",
       "      <td>0.0</td>\n",
       "      <td>1.0</td>\n",
       "      <td>0.0</td>\n",
       "      <td>1.0</td>\n",
       "      <td>1.0</td>\n",
       "      <td>1.0</td>\n",
       "      <td>0</td>\n",
       "    </tr>\n",
       "    <tr>\n",
       "      <th>47</th>\n",
       "      <td>2020-02-01 00:07:50</td>\n",
       "      <td>-0.014</td>\n",
       "      <td>-0.022</td>\n",
       "      <td>52.700</td>\n",
       "      <td>0.0400</td>\n",
       "      <td>8.886</td>\n",
       "      <td>1.0</td>\n",
       "      <td>0.0</td>\n",
       "      <td>1.0</td>\n",
       "      <td>0.0</td>\n",
       "      <td>1.0</td>\n",
       "      <td>1.0</td>\n",
       "      <td>1.0</td>\n",
       "      <td>0</td>\n",
       "    </tr>\n",
       "    <tr>\n",
       "      <th>48</th>\n",
       "      <td>2020-02-01 00:08:00</td>\n",
       "      <td>-0.014</td>\n",
       "      <td>-0.024</td>\n",
       "      <td>52.700</td>\n",
       "      <td>0.0400</td>\n",
       "      <td>8.876</td>\n",
       "      <td>1.0</td>\n",
       "      <td>0.0</td>\n",
       "      <td>1.0</td>\n",
       "      <td>0.0</td>\n",
       "      <td>1.0</td>\n",
       "      <td>1.0</td>\n",
       "      <td>1.0</td>\n",
       "      <td>0</td>\n",
       "    </tr>\n",
       "    <tr>\n",
       "      <th>49</th>\n",
       "      <td>2020-02-01 00:08:10</td>\n",
       "      <td>-0.014</td>\n",
       "      <td>-0.024</td>\n",
       "      <td>52.650</td>\n",
       "      <td>0.0400</td>\n",
       "      <td>8.866</td>\n",
       "      <td>1.0</td>\n",
       "      <td>0.0</td>\n",
       "      <td>1.0</td>\n",
       "      <td>0.0</td>\n",
       "      <td>1.0</td>\n",
       "      <td>1.0</td>\n",
       "      <td>1.0</td>\n",
       "      <td>0</td>\n",
       "    </tr>\n",
       "  </tbody>\n",
       "</table>\n",
       "</div>"
      ],
      "text/plain": [
       "             timestamp    TP2  DV_pressure  Oil_temperature  Motor_current  \\\n",
       "0  2020-02-01 00:00:00 -0.012       -0.024           53.600         0.0400   \n",
       "1  2020-02-01 00:00:10 -0.014       -0.022           53.675         0.0400   \n",
       "2  2020-02-01 00:00:20 -0.012       -0.022           53.600         0.0425   \n",
       "3  2020-02-01 00:00:30 -0.012       -0.022           53.425         0.0400   \n",
       "4  2020-02-01 00:00:40 -0.012       -0.022           53.475         0.0400   \n",
       "5  2020-02-01 00:00:50 -0.012       -0.024           53.500         0.0400   \n",
       "6  2020-02-01 00:01:00 -0.012       -0.024           53.375         0.0400   \n",
       "7  2020-02-01 00:01:10 -0.014       -0.024           53.550         0.0400   \n",
       "8  2020-02-01 00:01:20 -0.012       -0.022           53.425         0.0400   \n",
       "9  2020-02-01 00:01:30 -0.012       -0.022           53.375         0.0400   \n",
       "10 2020-02-01 00:01:40 -0.014       -0.024           53.400         0.0400   \n",
       "11 2020-02-01 00:01:50 -0.012       -0.024           53.350         0.0400   \n",
       "12 2020-02-01 00:02:00 -0.014       -0.024           53.425         0.0400   \n",
       "13 2020-02-01 00:02:10 -0.012       -0.022           53.325         0.0400   \n",
       "14 2020-02-01 00:02:20 -0.012       -0.022           53.425         0.0400   \n",
       "15 2020-02-01 00:02:30 -0.014       -0.024           53.325         0.0400   \n",
       "16 2020-02-01 00:02:40 -0.012       -0.022           53.325         0.0400   \n",
       "17 2020-02-01 00:02:50 -0.012       -0.022           53.275         0.0400   \n",
       "18 2020-02-01 00:03:00 -0.014       -0.022           53.275         0.0400   \n",
       "19 2020-02-01 00:03:10 -0.012       -0.024           53.325         0.0400   \n",
       "20 2020-02-01 00:03:20 -0.012       -0.022           53.150         0.0375   \n",
       "21 2020-02-01 00:03:30 -0.012       -0.022           53.200         0.0400   \n",
       "22 2020-02-01 00:03:40 -0.012       -0.022           53.225         0.0400   \n",
       "23 2020-02-01 00:03:50 -0.012       -0.022           53.175         0.0400   \n",
       "24 2020-02-01 00:04:00 -0.014       -0.024           53.125         0.0425   \n",
       "25 2020-02-01 00:04:10 -0.014       -0.024           53.100         0.0400   \n",
       "26 2020-02-01 00:04:20 -0.012       -0.022           53.125         0.0400   \n",
       "27 2020-02-01 00:04:30 -0.012       -0.024           53.225         0.0400   \n",
       "28 2020-02-01 00:04:40 -0.014       -0.022           53.100         0.0400   \n",
       "29 2020-02-01 00:04:50 -0.014       -0.022           53.125         0.0400   \n",
       "30 2020-02-01 00:05:00 -0.012       -0.024           53.100         0.0400   \n",
       "31 2020-02-01 00:05:10 -0.012       -0.022           53.100         0.0400   \n",
       "32 2020-02-01 00:05:20 -0.014       -0.024           53.125         0.0400   \n",
       "33 2020-02-01 00:05:30 -0.014       -0.024           53.125         0.0400   \n",
       "34 2020-02-01 00:05:40 -0.014       -0.022           53.100         0.0400   \n",
       "35 2020-02-01 00:05:50 -0.014       -0.022           53.025         0.0400   \n",
       "36 2020-02-01 00:06:00 -0.014       -0.022           53.025         0.0400   \n",
       "37 2020-02-01 00:06:10 -0.014       -0.022           53.000         0.0375   \n",
       "38 2020-02-01 00:06:20 -0.014       -0.024           52.975         0.0400   \n",
       "39 2020-02-01 00:06:30 -0.012       -0.024           52.900         0.0400   \n",
       "40 2020-02-01 00:06:40 -0.014       -0.022           52.825         0.0375   \n",
       "41 2020-02-01 00:06:50 -0.012       -0.022           52.825         0.0400   \n",
       "42 2020-02-01 00:07:00 -0.014       -0.024           52.825         0.0400   \n",
       "43 2020-02-01 00:07:10 -0.012       -0.022           52.775         0.0400   \n",
       "44 2020-02-01 00:07:20 -0.012       -0.022           52.750         0.0400   \n",
       "45 2020-02-01 00:07:30 -0.012       -0.024           52.725         0.0400   \n",
       "46 2020-02-01 00:07:40 -0.014       -0.022           52.775         0.0400   \n",
       "47 2020-02-01 00:07:50 -0.014       -0.022           52.700         0.0400   \n",
       "48 2020-02-01 00:08:00 -0.014       -0.024           52.700         0.0400   \n",
       "49 2020-02-01 00:08:10 -0.014       -0.024           52.650         0.0400   \n",
       "\n",
       "    Reservoirs  COMP  DV_eletric  Towers  LPS  Pressure_switch  Oil_level  \\\n",
       "0        9.358   1.0         0.0     1.0  0.0              1.0        1.0   \n",
       "1        9.348   1.0         0.0     1.0  0.0              1.0        1.0   \n",
       "2        9.338   1.0         0.0     1.0  0.0              1.0        1.0   \n",
       "3        9.328   1.0         0.0     1.0  0.0              1.0        1.0   \n",
       "4        9.318   1.0         0.0     1.0  0.0              1.0        1.0   \n",
       "5        9.308   1.0         0.0     1.0  0.0              1.0        1.0   \n",
       "6        9.298   1.0         0.0     1.0  0.0              1.0        1.0   \n",
       "7        9.286   1.0         0.0     1.0  0.0              1.0        1.0   \n",
       "8        9.276   1.0         0.0     1.0  0.0              1.0        1.0   \n",
       "9        9.264   1.0         0.0     1.0  0.0              1.0        1.0   \n",
       "10       9.256   1.0         0.0     1.0  0.0              1.0        1.0   \n",
       "11       9.244   1.0         0.0     1.0  0.0              1.0        1.0   \n",
       "12       9.232   1.0         0.0     1.0  0.0              1.0        1.0   \n",
       "13       9.222   1.0         0.0     1.0  0.0              1.0        1.0   \n",
       "14       9.216   1.0         0.0     1.0  0.0              1.0        1.0   \n",
       "15       9.204   1.0         0.0     1.0  0.0              1.0        1.0   \n",
       "16       9.194   1.0         0.0     1.0  0.0              1.0        1.0   \n",
       "17       9.184   1.0         0.0     1.0  0.0              1.0        1.0   \n",
       "18       9.174   1.0         0.0     1.0  0.0              1.0        1.0   \n",
       "19       9.164   1.0         0.0     1.0  0.0              1.0        1.0   \n",
       "20       9.152   1.0         0.0     1.0  0.0              1.0        1.0   \n",
       "21       9.142   1.0         0.0     1.0  0.0              1.0        1.0   \n",
       "22       9.132   1.0         0.0     1.0  0.0              1.0        1.0   \n",
       "23       9.120   1.0         0.0     1.0  0.0              1.0        1.0   \n",
       "24       9.110   1.0         0.0     1.0  0.0              1.0        1.0   \n",
       "25       9.100   1.0         0.0     1.0  0.0              1.0        1.0   \n",
       "26       9.090   1.0         0.0     1.0  0.0              1.0        1.0   \n",
       "27       9.082   1.0         0.0     1.0  0.0              1.0        1.0   \n",
       "28       9.070   1.0         0.0     1.0  0.0              1.0        1.0   \n",
       "29       9.062   1.0         0.0     1.0  0.0              1.0        1.0   \n",
       "30       9.050   1.0         0.0     1.0  0.0              1.0        1.0   \n",
       "31       9.042   1.0         0.0     1.0  0.0              1.0        1.0   \n",
       "32       9.032   1.0         0.0     1.0  0.0              1.0        1.0   \n",
       "33       9.022   1.0         0.0     1.0  0.0              1.0        1.0   \n",
       "34       9.010   1.0         0.0     1.0  0.0              1.0        1.0   \n",
       "35       9.002   1.0         0.0     1.0  0.0              1.0        1.0   \n",
       "36       8.992   1.0         0.0     1.0  0.0              1.0        1.0   \n",
       "37       8.982   1.0         0.0     1.0  0.0              1.0        1.0   \n",
       "38       8.974   1.0         0.0     1.0  0.0              1.0        1.0   \n",
       "39       8.962   1.0         0.0     1.0  0.0              1.0        1.0   \n",
       "40       8.952   1.0         0.0     1.0  0.0              1.0        1.0   \n",
       "41       8.944   1.0         0.0     1.0  0.0              1.0        1.0   \n",
       "42       8.932   1.0         0.0     1.0  0.0              1.0        1.0   \n",
       "43       8.922   1.0         0.0     1.0  0.0              1.0        1.0   \n",
       "44       8.914   1.0         0.0     1.0  0.0              1.0        1.0   \n",
       "45       8.902   1.0         0.0     1.0  0.0              1.0        1.0   \n",
       "46       8.894   1.0         0.0     1.0  0.0              1.0        1.0   \n",
       "47       8.886   1.0         0.0     1.0  0.0              1.0        1.0   \n",
       "48       8.876   1.0         0.0     1.0  0.0              1.0        1.0   \n",
       "49       8.866   1.0         0.0     1.0  0.0              1.0        1.0   \n",
       "\n",
       "    Caudal_impulses  panne  \n",
       "0               1.0      0  \n",
       "1               1.0      0  \n",
       "2               1.0      0  \n",
       "3               1.0      0  \n",
       "4               1.0      0  \n",
       "5               1.0      0  \n",
       "6               1.0      0  \n",
       "7               1.0      0  \n",
       "8               1.0      0  \n",
       "9               1.0      0  \n",
       "10              1.0      0  \n",
       "11              1.0      0  \n",
       "12              1.0      0  \n",
       "13              1.0      0  \n",
       "14              1.0      0  \n",
       "15              1.0      0  \n",
       "16              1.0      0  \n",
       "17              1.0      0  \n",
       "18              1.0      0  \n",
       "19              1.0      0  \n",
       "20              1.0      0  \n",
       "21              1.0      0  \n",
       "22              1.0      0  \n",
       "23              1.0      0  \n",
       "24              1.0      0  \n",
       "25              1.0      0  \n",
       "26              1.0      0  \n",
       "27              1.0      0  \n",
       "28              1.0      0  \n",
       "29              1.0      0  \n",
       "30              1.0      0  \n",
       "31              1.0      0  \n",
       "32              1.0      0  \n",
       "33              1.0      0  \n",
       "34              1.0      0  \n",
       "35              1.0      0  \n",
       "36              1.0      0  \n",
       "37              1.0      0  \n",
       "38              1.0      0  \n",
       "39              1.0      0  \n",
       "40              1.0      0  \n",
       "41              1.0      0  \n",
       "42              1.0      0  \n",
       "43              1.0      0  \n",
       "44              1.0      0  \n",
       "45              1.0      0  \n",
       "46              1.0      0  \n",
       "47              1.0      0  \n",
       "48              1.0      0  \n",
       "49              1.0      0  "
      ]
     },
     "metadata": {},
     "output_type": "display_data"
    }
   ],
   "source": [
    "# Ajouter les classes de panne\n",
    "# Classe 0 : Pas de panne détectée\n",
    "# Classe 1 : En pleine panne\n",
    "# Classe 2 : Panne prévue dans moins de 30 minutes\n",
    "\n",
    "# Liste des intervalles de pannes\n",
    "pannes = [\n",
    "    {'start': '2020-04-18 00:00:00', 'end': '2020-04-18 23:59:00'},\n",
    "    {'start': '2020-05-29 23:30:00', 'end': '2020-05-30 06:00:00'},\n",
    "    {'start': '2020-06-05 10:00:00', 'end': '2020-06-07 14:30:00'},\n",
    "    {'start': '2020-07-15 14:30:00', 'end': '2020-07-15 19:00:00'},\n",
    "         ]\n",
    "\n",
    "# Convertir les timestamps des pannes en datetime\n",
    "for panne in pannes:\n",
    "    panne['start'] = pd.to_datetime(panne['start'])\n",
    "    panne['end']   = pd.to_datetime(panne['end'])\n",
    "\n",
    "# Ajouter une colonne 'panne' avec la valeur par défaut 0 (aucune panne détectée)\n",
    "df['panne'] = 0\n",
    "\n",
    "\n",
    "for panne in pannes:\n",
    "    # Classe 1 : En pleine panne\n",
    "    df.loc[(df['timestamp'] >= panne['start']) & (df['timestamp'] <= panne['end']), 'panne'] = 1\n",
    "    # Classe 2 : Panne prévue dans moins de 15 minutes\n",
    "    df.loc[(df['timestamp'] < panne['start']) & (df['timestamp'] >= panne['start'] - pd.Timedelta(minutes=15)), 'panne'] = 2\n",
    "\n",
    "display(df.head(50))"
   ]
  },
  {
   "cell_type": "code",
   "execution_count": null,
   "id": "5f01d323",
   "metadata": {},
   "outputs": [],
   "source": []
  },
  {
   "cell_type": "code",
   "execution_count": null,
   "id": "71c19443",
   "metadata": {},
   "outputs": [],
   "source": []
  },
  {
   "cell_type": "code",
   "execution_count": 4,
   "id": "5ad179d1",
   "metadata": {},
   "outputs": [
    {
     "name": "stdout",
     "output_type": "stream",
     "text": [
      "Entrainement : 1093861 lignes\n",
      "Test : 329940 lignes\n"
     ]
    }
   ],
   "source": [
    "###################################################################################################\n",
    "################ Train : Panne1   (1J ET DEMI)                                              #######\n",
    "################ Test  : Panne4  (15mn + 15mn + 15mn)     #########################################\n",
    "###################################################################################################\n",
    "\n",
    "# Classe 0 : Pas de panne détectée\n",
    "# Classe 1 : En pleine panne\n",
    "# Classe 2 : Panne prévue dans moins de 30 minutes\n",
    "\n",
    "pannes = [\n",
    "    {'start': '2020-04-18 00:00:00', 'end': '2020-04-18 23:59:00'},\n",
    "    {'start': '2020-05-29 23:30:00', 'end': '2020-05-30 06:00:00'},\n",
    "    {'start': '2020-06-05 10:00:00', 'end': '2020-06-07 14:30:00'},\n",
    "    {'start': '2020-07-15 14:30:00', 'end': '2020-07-15 19:00:00'},\n",
    "         ]\n",
    "\n",
    "\n",
    "# Définir les périodes d'entraînement et de test\n",
    "train_periods = [{'start': '2020-02-02 00:00', 'end': '2020-06-07 14:30:00'}]\n",
    "test_periods  = [{'start': '2020-06-07 14:30:10', 'end': '2020-07-15 19:00:00'}]\n",
    "\n",
    "# Séparer les données pour l'entraînement\n",
    "train_df = pd.concat([\n",
    "    df[(df['timestamp'] >= pd.Timestamp(period['start'])) & \n",
    "       (df['timestamp'] <= pd.Timestamp(period['end']))]\n",
    "    for period in train_periods\n",
    "])\n",
    "\n",
    "# Séparer les données pour le test\n",
    "test_df = pd.concat([\n",
    "    df[(df['timestamp'] >= pd.Timestamp(period['start'])) & \n",
    "       (df['timestamp'] <= pd.Timestamp(period['end']))]\n",
    "    for period in test_periods\n",
    "])\n",
    "\n",
    "print(f\"Entrainement : {len(train_df)} lignes\")\n",
    "print(f\"Test : {len(test_df)} lignes\")"
   ]
  },
  {
   "cell_type": "code",
   "execution_count": 11,
   "id": "9fcb7c76",
   "metadata": {},
   "outputs": [
    {
     "name": "stdout",
     "output_type": "stream",
     "text": [
      "Modalités de 'panne' dans l'ensemble d'entraînement :\n",
      "0    1063714\n",
      "1      29877\n",
      "2        270\n",
      "Name: panne, dtype: int64\n",
      "\n",
      "Modalités de 'panne' dans l'ensemble de test :\n",
      "0    328229\n",
      "1      1621\n",
      "2        90\n",
      "Name: panne, dtype: int64\n"
     ]
    }
   ],
   "source": [
    "# Distribution des modalités de la variable 'panne' dans l'ensemble d'entraînement\n",
    "print(\"Modalités de 'panne' dans l'ensemble d'entraînement :\")\n",
    "print(train_df[\"panne\"].value_counts())\n",
    "\n",
    "# Distribution des modalités de la variable 'panne' dans l'ensemble de test\n",
    "print(\"\\nModalités de 'panne' dans l'ensemble de test :\")\n",
    "print(test_df[\"panne\"].value_counts())\n"
   ]
  },
  {
   "cell_type": "code",
   "execution_count": 6,
   "id": "d94e2c58",
   "metadata": {},
   "outputs": [
    {
     "name": "stderr",
     "output_type": "stream",
     "text": [
      "100%|███████████████████████████████████████████████████████████████████████| 1093762/1093762 [36:54<00:00, 493.95it/s]\n",
      "100%|█████████████████████████████████████████████████████████████████████████| 329841/329841 [20:40<00:00, 265.94it/s]"
     ]
    },
    {
     "name": "stdout",
     "output_type": "stream",
     "text": [
      "Fenêtres d'entraînement : 1093762\n",
      "Fenêtres de test : 329841\n"
     ]
    },
    {
     "name": "stderr",
     "output_type": "stream",
     "text": [
      "\n"
     ]
    }
   ],
   "source": [
    "# Paramètres des fenêtres\n",
    "window_size = 100  # Taille de la fenêtre\n",
    "step_size = 1     # Pas de glissement\n",
    "numeric_columns = continuous_features\n",
    "\n",
    "# Générer les fenêtres pour l'entraînement\n",
    "train_windows = []\n",
    "for i in tqdm(range(0, len(train_df) - window_size + 1, step_size)):\n",
    "    window_data = train_df.iloc[i:i + window_size][numeric_columns].values.flatten()\n",
    "    #panne_value = train_df.iloc[i + window_size - 1][\"panne\"]          # Dernière valeur de panne dans la fenêtre\n",
    "    panne_value  = train_df.iloc[i:i + window_size][\"panne\"].mode()[0]  # Classe majoritaire\n",
    "    train_windows.append({\n",
    "        \"index\": i,\n",
    "        \"timestamp\": train_df.iloc[i][\"timestamp\"],\n",
    "        \"sensor_data\": window_data.tolist(),\n",
    "        \"panne\": panne_value\n",
    "    })\n",
    "\n",
    "# Générer les fenêtres pour le test\n",
    "test_windows = []\n",
    "for i in tqdm(range(0, len(test_df) - window_size + 1, step_size)):\n",
    "    window_data = test_df.iloc[i:i + window_size][numeric_columns].values.flatten()\n",
    "    #panne_value  = test_df.iloc[i + window_size - 1][\"panne\"]           # Dernière valeur de panne dans la fenêtre\n",
    "    panne_value   = test_df.iloc[i:i + window_size][\"panne\"].mode()[0]  # Classe majoritaire\n",
    "    test_windows.append({\n",
    "        \"index\": i,\n",
    "        \"timestamp\": test_df.iloc[i][\"timestamp\"],\n",
    "        \"sensor_data\": window_data.tolist(),\n",
    "        \"panne\": panne_value\n",
    "    })\n",
    "\n",
    "print(f\"Fenêtres d'entraînement : {len(train_windows)}\")\n",
    "print(f\"Fenêtres de test : {len(test_windows)}\")\n"
   ]
  },
  {
   "cell_type": "code",
   "execution_count": 78,
   "id": "41db0934",
   "metadata": {},
   "outputs": [],
   "source": [
    "# Sauvegarder au format Parquet pour réduire la taille\n",
    "train_df.to_parquet(\"train_windows_2025_01_18.parquet\", compression=\"snappy\", index=False)\n",
    "\n",
    "# Charger le fichier Parquet\n",
    "#train_df = pd.read_parquet(\"train_windows.parquet\")\n"
   ]
  },
  {
   "cell_type": "code",
   "execution_count": 79,
   "id": "57b4ba8f",
   "metadata": {},
   "outputs": [
    {
     "name": "stdout",
     "output_type": "stream",
     "text": [
      "Nombre de lignes dans les données d'entraînement : 1093861\n"
     ]
    }
   ],
   "source": [
    "# Afficher le nombre de lignes\n",
    "print(f\"Nombre de lignes dans les données d'entraînement : {train_df.shape[0]}\")\n"
   ]
  },
  {
   "cell_type": "code",
   "execution_count": 81,
   "id": "8c6d7f39",
   "metadata": {},
   "outputs": [],
   "source": [
    "train_df2 = pd.read_parquet(\"train_windows_2025_01_18.parquet\")"
   ]
  },
  {
   "cell_type": "code",
   "execution_count": 82,
   "id": "ca832add",
   "metadata": {},
   "outputs": [
    {
     "name": "stdout",
     "output_type": "stream",
     "text": [
      "Nombre de lignes dans les données d'entraînement : 1093861\n"
     ]
    }
   ],
   "source": [
    "# Afficher le nombre de lignes\n",
    "print(f\"Nombre de lignes dans les données d'entraînement : {train_df2.shape[0]}\")"
   ]
  },
  {
   "cell_type": "code",
   "execution_count": 84,
   "id": "2294aa4c",
   "metadata": {},
   "outputs": [],
   "source": [
    "import numpy as np\n",
    "\n",
    "# Fonction pour calculer la distance euclidienne\n",
    "def euclidean_distance(v1, v2):\n",
    "    return np.sqrt(np.sum((np.array(v1) - np.array(v2)) ** 2))\n",
    "\n",
    "# Rechercher les fenêtres similaires dans les données d'entraînement\n",
    "def find_similar_windows(test_vector, train_df2, top_n=5):\n",
    "    distances = []\n",
    "    for _, row in train_df2.iterrows():\n",
    "        distance = euclidean_distance(test_vector, row[\"sensor_data\"])\n",
    "        distances.append((distance, row[\"panne\"]))\n",
    "    \n",
    "    # Trier par distance croissante\n",
    "    distances.sort(key=lambda x: x[0])\n",
    "    return distances[:top_n]  # Retourner les top_n fenêtres les plus proches\n"
   ]
  },
  {
   "cell_type": "code",
   "execution_count": 85,
   "id": "a3985d5c",
   "metadata": {},
   "outputs": [
    {
     "name": "stderr",
     "output_type": "stream",
     "text": [
      "Exception ignored in: <finalize object at 0x2c123cc9c60; dead>\n",
      "Traceback (most recent call last):\n",
      "  File \"C:\\Users\\usermine\\anaconda3\\lib\\weakref.py\", line 591, in __call__\n",
      "    return info.func(*info.args, **(info.kwargs or {}))\n",
      "  File \"C:\\Users\\usermine\\anaconda3\\lib\\site-packages\\urllib3\\connectionpool.py\", line 1176, in _close_pool_connections\n",
      "    conn.close()\n",
      "  File \"C:\\Users\\usermine\\anaconda3\\lib\\site-packages\\urllib3\\connection.py\", line 322, in close\n",
      "    super().close()\n",
      "  File \"C:\\Users\\usermine\\anaconda3\\lib\\http\\client.py\", line 960, in close\n",
      "    sock.close()   # close it manually... there may be other refs\n",
      "  File \"C:\\Users\\usermine\\anaconda3\\lib\\socket.py\", line 502, in close\n",
      "    self._real_close()\n",
      "  File \"C:\\Users\\usermine\\anaconda3\\lib\\ssl.py\", line 1333, in _real_close\n",
      "    super()._real_close()\n",
      "  File \"C:\\Users\\usermine\\anaconda3\\lib\\socket.py\", line 494, in _real_close\n",
      "    def _real_close(self, _ss=_socket.socket):\n",
      "KeyboardInterrupt: \n"
     ]
    },
    {
     "ename": "KeyError",
     "evalue": "'sensor_data'",
     "output_type": "error",
     "traceback": [
      "\u001b[1;31m---------------------------------------------------------------------------\u001b[0m",
      "\u001b[1;31mKeyError\u001b[0m                                  Traceback (most recent call last)",
      "File \u001b[1;32m~\\anaconda3\\lib\\site-packages\\pandas\\core\\indexes\\base.py:3802\u001b[0m, in \u001b[0;36mIndex.get_loc\u001b[1;34m(self, key, method, tolerance)\u001b[0m\n\u001b[0;32m   3801\u001b[0m \u001b[38;5;28;01mtry\u001b[39;00m:\n\u001b[1;32m-> 3802\u001b[0m     \u001b[38;5;28;01mreturn\u001b[39;00m \u001b[38;5;28;43mself\u001b[39;49m\u001b[38;5;241;43m.\u001b[39;49m\u001b[43m_engine\u001b[49m\u001b[38;5;241;43m.\u001b[39;49m\u001b[43mget_loc\u001b[49m\u001b[43m(\u001b[49m\u001b[43mcasted_key\u001b[49m\u001b[43m)\u001b[49m\n\u001b[0;32m   3803\u001b[0m \u001b[38;5;28;01mexcept\u001b[39;00m \u001b[38;5;167;01mKeyError\u001b[39;00m \u001b[38;5;28;01mas\u001b[39;00m err:\n",
      "File \u001b[1;32m~\\anaconda3\\lib\\site-packages\\pandas\\_libs\\index.pyx:138\u001b[0m, in \u001b[0;36mpandas._libs.index.IndexEngine.get_loc\u001b[1;34m()\u001b[0m\n",
      "File \u001b[1;32m~\\anaconda3\\lib\\site-packages\\pandas\\_libs\\index.pyx:165\u001b[0m, in \u001b[0;36mpandas._libs.index.IndexEngine.get_loc\u001b[1;34m()\u001b[0m\n",
      "File \u001b[1;32mpandas\\_libs\\hashtable_class_helper.pxi:5745\u001b[0m, in \u001b[0;36mpandas._libs.hashtable.PyObjectHashTable.get_item\u001b[1;34m()\u001b[0m\n",
      "File \u001b[1;32mpandas\\_libs\\hashtable_class_helper.pxi:5753\u001b[0m, in \u001b[0;36mpandas._libs.hashtable.PyObjectHashTable.get_item\u001b[1;34m()\u001b[0m\n",
      "\u001b[1;31mKeyError\u001b[0m: 'sensor_data'",
      "\nThe above exception was the direct cause of the following exception:\n",
      "\u001b[1;31mKeyError\u001b[0m                                  Traceback (most recent call last)",
      "Cell \u001b[1;32mIn[85], line 3\u001b[0m\n\u001b[0;32m      1\u001b[0m \u001b[38;5;66;03m# Exemple de prédiction pour une fenêtre de test\u001b[39;00m\n\u001b[0;32m      2\u001b[0m test_vector \u001b[38;5;241m=\u001b[39m test_windows[\u001b[38;5;241m0\u001b[39m][\u001b[38;5;124m\"\u001b[39m\u001b[38;5;124msensor_data\u001b[39m\u001b[38;5;124m\"\u001b[39m]  \u001b[38;5;66;03m# Prenez un vecteur de test\u001b[39;00m\n\u001b[1;32m----> 3\u001b[0m similar_windows \u001b[38;5;241m=\u001b[39m \u001b[43mfind_similar_windows\u001b[49m\u001b[43m(\u001b[49m\u001b[43mtest_vector\u001b[49m\u001b[43m,\u001b[49m\u001b[43m \u001b[49m\u001b[43mtrain_df\u001b[49m\u001b[43m)\u001b[49m\n\u001b[0;32m      5\u001b[0m \u001b[38;5;66;03m# Prédiction par vote majoritaire\u001b[39;00m\n\u001b[0;32m      6\u001b[0m similar_pannes \u001b[38;5;241m=\u001b[39m [panne \u001b[38;5;28;01mfor\u001b[39;00m _, panne \u001b[38;5;129;01min\u001b[39;00m similar_windows]\n",
      "Cell \u001b[1;32mIn[84], line 11\u001b[0m, in \u001b[0;36mfind_similar_windows\u001b[1;34m(test_vector, train_df2, top_n)\u001b[0m\n\u001b[0;32m      9\u001b[0m distances \u001b[38;5;241m=\u001b[39m []\n\u001b[0;32m     10\u001b[0m \u001b[38;5;28;01mfor\u001b[39;00m _, row \u001b[38;5;129;01min\u001b[39;00m train_df2\u001b[38;5;241m.\u001b[39miterrows():\n\u001b[1;32m---> 11\u001b[0m     distance \u001b[38;5;241m=\u001b[39m euclidean_distance(test_vector, \u001b[43mrow\u001b[49m\u001b[43m[\u001b[49m\u001b[38;5;124;43m\"\u001b[39;49m\u001b[38;5;124;43msensor_data\u001b[39;49m\u001b[38;5;124;43m\"\u001b[39;49m\u001b[43m]\u001b[49m)\n\u001b[0;32m     12\u001b[0m     distances\u001b[38;5;241m.\u001b[39mappend((distance, row[\u001b[38;5;124m\"\u001b[39m\u001b[38;5;124mpanne\u001b[39m\u001b[38;5;124m\"\u001b[39m]))\n\u001b[0;32m     14\u001b[0m \u001b[38;5;66;03m# Trier par distance croissante\u001b[39;00m\n",
      "File \u001b[1;32m~\\anaconda3\\lib\\site-packages\\pandas\\core\\series.py:981\u001b[0m, in \u001b[0;36mSeries.__getitem__\u001b[1;34m(self, key)\u001b[0m\n\u001b[0;32m    978\u001b[0m     \u001b[38;5;28;01mreturn\u001b[39;00m \u001b[38;5;28mself\u001b[39m\u001b[38;5;241m.\u001b[39m_values[key]\n\u001b[0;32m    980\u001b[0m \u001b[38;5;28;01melif\u001b[39;00m key_is_scalar:\n\u001b[1;32m--> 981\u001b[0m     \u001b[38;5;28;01mreturn\u001b[39;00m \u001b[38;5;28;43mself\u001b[39;49m\u001b[38;5;241;43m.\u001b[39;49m\u001b[43m_get_value\u001b[49m\u001b[43m(\u001b[49m\u001b[43mkey\u001b[49m\u001b[43m)\u001b[49m\n\u001b[0;32m    983\u001b[0m \u001b[38;5;28;01mif\u001b[39;00m is_hashable(key):\n\u001b[0;32m    984\u001b[0m     \u001b[38;5;66;03m# Otherwise index.get_value will raise InvalidIndexError\u001b[39;00m\n\u001b[0;32m    985\u001b[0m     \u001b[38;5;28;01mtry\u001b[39;00m:\n\u001b[0;32m    986\u001b[0m         \u001b[38;5;66;03m# For labels that don't resolve as scalars like tuples and frozensets\u001b[39;00m\n",
      "File \u001b[1;32m~\\anaconda3\\lib\\site-packages\\pandas\\core\\series.py:1089\u001b[0m, in \u001b[0;36mSeries._get_value\u001b[1;34m(self, label, takeable)\u001b[0m\n\u001b[0;32m   1086\u001b[0m     \u001b[38;5;28;01mreturn\u001b[39;00m \u001b[38;5;28mself\u001b[39m\u001b[38;5;241m.\u001b[39m_values[label]\n\u001b[0;32m   1088\u001b[0m \u001b[38;5;66;03m# Similar to Index.get_value, but we do not fall back to positional\u001b[39;00m\n\u001b[1;32m-> 1089\u001b[0m loc \u001b[38;5;241m=\u001b[39m \u001b[38;5;28;43mself\u001b[39;49m\u001b[38;5;241;43m.\u001b[39;49m\u001b[43mindex\u001b[49m\u001b[38;5;241;43m.\u001b[39;49m\u001b[43mget_loc\u001b[49m\u001b[43m(\u001b[49m\u001b[43mlabel\u001b[49m\u001b[43m)\u001b[49m\n\u001b[0;32m   1090\u001b[0m \u001b[38;5;28;01mreturn\u001b[39;00m \u001b[38;5;28mself\u001b[39m\u001b[38;5;241m.\u001b[39mindex\u001b[38;5;241m.\u001b[39m_get_values_for_loc(\u001b[38;5;28mself\u001b[39m, loc, label)\n",
      "File \u001b[1;32m~\\anaconda3\\lib\\site-packages\\pandas\\core\\indexes\\base.py:3804\u001b[0m, in \u001b[0;36mIndex.get_loc\u001b[1;34m(self, key, method, tolerance)\u001b[0m\n\u001b[0;32m   3802\u001b[0m     \u001b[38;5;28;01mreturn\u001b[39;00m \u001b[38;5;28mself\u001b[39m\u001b[38;5;241m.\u001b[39m_engine\u001b[38;5;241m.\u001b[39mget_loc(casted_key)\n\u001b[0;32m   3803\u001b[0m \u001b[38;5;28;01mexcept\u001b[39;00m \u001b[38;5;167;01mKeyError\u001b[39;00m \u001b[38;5;28;01mas\u001b[39;00m err:\n\u001b[1;32m-> 3804\u001b[0m     \u001b[38;5;28;01mraise\u001b[39;00m \u001b[38;5;167;01mKeyError\u001b[39;00m(key) \u001b[38;5;28;01mfrom\u001b[39;00m \u001b[38;5;21;01merr\u001b[39;00m\n\u001b[0;32m   3805\u001b[0m \u001b[38;5;28;01mexcept\u001b[39;00m \u001b[38;5;167;01mTypeError\u001b[39;00m:\n\u001b[0;32m   3806\u001b[0m     \u001b[38;5;66;03m# If we have a listlike key, _check_indexing_error will raise\u001b[39;00m\n\u001b[0;32m   3807\u001b[0m     \u001b[38;5;66;03m#  InvalidIndexError. Otherwise we fall through and re-raise\u001b[39;00m\n\u001b[0;32m   3808\u001b[0m     \u001b[38;5;66;03m#  the TypeError.\u001b[39;00m\n\u001b[0;32m   3809\u001b[0m     \u001b[38;5;28mself\u001b[39m\u001b[38;5;241m.\u001b[39m_check_indexing_error(key)\n",
      "\u001b[1;31mKeyError\u001b[0m: 'sensor_data'"
     ]
    }
   ],
   "source": [
    "# Exemple de prédiction pour une fenêtre de test\n",
    "test_vector = test_windows[0][\"sensor_data\"]  # Prenez un vecteur de test\n",
    "similar_windows = find_similar_windows(test_vector, train_df)\n",
    "\n",
    "# Prédiction par vote majoritaire\n",
    "similar_pannes = [panne for _, panne in similar_windows]\n",
    "predicted_panne = max(set(similar_pannes), key=similar_pannes.count)\n",
    "\n",
    "print(f\"Prédiction pour la fenêtre de test : {predicted_panne}\")\n"
   ]
  },
  {
   "cell_type": "code",
   "execution_count": null,
   "id": "8ece4480",
   "metadata": {},
   "outputs": [],
   "source": []
  },
  {
   "cell_type": "code",
   "execution_count": null,
   "id": "38eefbc3",
   "metadata": {},
   "outputs": [],
   "source": []
  },
  {
   "cell_type": "code",
   "execution_count": null,
   "id": "c97b4403",
   "metadata": {},
   "outputs": [],
   "source": []
  },
  {
   "cell_type": "code",
   "execution_count": null,
   "id": "85b2e3ac",
   "metadata": {},
   "outputs": [],
   "source": []
  },
  {
   "cell_type": "code",
   "execution_count": null,
   "id": "be6629b7",
   "metadata": {},
   "outputs": [],
   "source": []
  },
  {
   "cell_type": "code",
   "execution_count": 12,
   "id": "c2c3379d",
   "metadata": {},
   "outputs": [],
   "source": [
    "import kdbai_client as kdbai\n",
    "\n",
    "# Connexion à KDB.AI\n",
    "session = kdbai.Session(endpoint=\"https://cloud.kdb.ai/instance/atr0v2owym\", api_key=\"a5b897a7b4-Av/lT//S3W++g8K11vVKfJo5rIj5gK492sbpts/1f+cr/5m5n5JluPcqcQR2gGiiQQ7SrCFAc7ma2RhT\")\n",
    "db = session.database('default')\n",
    "\n"
   ]
  },
  {
   "cell_type": "code",
   "execution_count": null,
   "id": "369fc3c5",
   "metadata": {
    "scrolled": true
   },
   "outputs": [],
   "source": [
    "\n",
    "# Schéma de la table\n",
    "schema = [\n",
    "    {\"name\": \"index\", \"type\": \"int64\"},\n",
    "    {\"name\": \"timestamp\", \"type\": \"datetime64[ns]\"},\n",
    "    {\"name\": \"sensor_data\", \"type\": \"float64s\"},\n",
    "    {\"name\": \"panne\", \"type\": \"int64\"}\n",
    "]\n",
    "indexes = [\n",
    "    {\"name\": \"flat_index\", \"type\": \"flat\", \"column\": \"sensor_data\", \"params\": {\"metric\": \"L2\",\"dims\": 500}}\n",
    "]\n",
    "\n",
    "# Création de la table\n",
    "train_table = db.create_table(\"train_sensors\", schema=schema, indexes=indexes)\n",
    "\n",
    "# Insertion des données d'entraînement\n",
    "batch_size = 100\n",
    "for i in tqdm(range(0, len(train_windows), batch_size)):\n",
    "    batch = train_windows[i:i + batch_size]\n",
    "    train_table.insert(batch)"
   ]
  },
  {
   "cell_type": "code",
   "execution_count": 59,
   "id": "592e213e",
   "metadata": {},
   "outputs": [
    {
     "name": "stdout",
     "output_type": "stream",
     "text": [
      "Nombre d'enregistrements insérés dans la table : 0    947500\n",
      "Name: row_count, dtype: int64\n"
     ]
    }
   ],
   "source": [
    "######################################################\n",
    "#### Vérifier le Nombre d'Enregistrements Insérés ####\n",
    "######################################################\n",
    "\n",
    "aggs = {\"row_count\": [\"count\", \"index\"]}\n",
    "\n",
    "query_result = train_table.query(aggs=aggs)\n",
    "\n",
    "print(f\"Nombre d'enregistrements insérés dans la table : {query_result['row_count']}\")"
   ]
  },
  {
   "cell_type": "code",
   "execution_count": 49,
   "id": "999f74d4",
   "metadata": {},
   "outputs": [
    {
     "name": "stdout",
     "output_type": "stream",
     "text": [
      "947500\n"
     ]
    }
   ],
   "source": [
    "#######################################\n",
    "##### Calculer le Point de Reprise ####\n",
    "#######################################\n",
    "\n",
    "# Récupérer le dernier index inséré\n",
    "rows_inserted = query_result[\"row_count\"].iloc[0]  # Nombre d'enregistrements déjà insérés\n",
    "print(rows_inserted)"
   ]
  },
  {
   "cell_type": "code",
   "execution_count": 39,
   "id": "12b4e595",
   "metadata": {},
   "outputs": [
    {
     "name": "stdout",
     "output_type": "stream",
     "text": [
      "Reprise de l'insertion à partir de l'index 947500\n"
     ]
    },
    {
     "name": "stderr",
     "output_type": "stream",
     "text": [
      "  0%|                                                                                         | 0/1463 [00:03<?, ?it/s]"
     ]
    },
    {
     "name": "stdout",
     "output_type": "stream",
     "text": [
      "Erreur lors de l'insertion à l'index 947500: Neither Sparse nor Dense Index : /data/vdb/default/train_sensors/vdb/default_train_sensors_flat_index/metadata. OS reports: No such file or directory No index with this name present on disk\n"
     ]
    },
    {
     "name": "stderr",
     "output_type": "stream",
     "text": [
      "\n"
     ]
    }
   ],
   "source": [
    "################################\n",
    "##### Reprendre l'Insertion ####\n",
    "################################\n",
    "\n",
    "# Définir la taille des batches\n",
    "batch_size = 100\n",
    "\n",
    "# Reprise de l'insertion à partir de rows_inserted\n",
    "start_index = rows_inserted\n",
    "\n",
    "print(f\"Reprise de l'insertion à partir de l'index {start_index}\")\n",
    "\n",
    "for i in tqdm(range(start_index, len(train_windows), batch_size)):\n",
    "    batch = train_windows[i:i + batch_size]\n",
    "    try:\n",
    "        train_table.insert(batch)\n",
    "    except Exception as e:\n",
    "        print(f\"Erreur lors de l'insertion à l'index {i}: {e}\")\n",
    "        break\n"
   ]
  },
  {
   "cell_type": "code",
   "execution_count": 51,
   "id": "e62cbec3",
   "metadata": {},
   "outputs": [
    {
     "name": "stderr",
     "output_type": "stream",
     "text": [
      "  0%|                                                                            | 2/329841 [00:00<14:51:22,  6.17it/s]"
     ]
    },
    {
     "name": "stdout",
     "output_type": "stream",
     "text": [
      "Erreur lors de la prédiction pour la fenêtre 0: Neither Sparse nor Dense Index : /data/vdb/default/train_sensors/vdb/default_train_sensors_flat_index/metadata. OS reports: No such file or directory No index with this name present on disk\n",
      "Erreur lors de la prédiction pour la fenêtre 1: Neither Sparse nor Dense Index : /data/vdb/default/train_sensors/vdb/default_train_sensors_flat_index/metadata. OS reports: No such file or directory No index with this name present on disk\n"
     ]
    },
    {
     "name": "stderr",
     "output_type": "stream",
     "text": [
      "  0%|                                                                            | 4/329841 [00:00<13:41:35,  6.69it/s]"
     ]
    },
    {
     "name": "stdout",
     "output_type": "stream",
     "text": [
      "Erreur lors de la prédiction pour la fenêtre 2: Neither Sparse nor Dense Index : /data/vdb/default/train_sensors/vdb/default_train_sensors_flat_index/metadata. OS reports: No such file or directory No index with this name present on disk\n",
      "Erreur lors de la prédiction pour la fenêtre 3: Neither Sparse nor Dense Index : /data/vdb/default/train_sensors/vdb/default_train_sensors_flat_index/metadata. OS reports: No such file or directory No index with this name present on disk\n"
     ]
    },
    {
     "name": "stderr",
     "output_type": "stream",
     "text": [
      "  0%|                                                                            | 6/329841 [00:00<13:16:05,  6.91it/s]"
     ]
    },
    {
     "name": "stdout",
     "output_type": "stream",
     "text": [
      "Erreur lors de la prédiction pour la fenêtre 4: Neither Sparse nor Dense Index : /data/vdb/default/train_sensors/vdb/default_train_sensors_flat_index/metadata. OS reports: No such file or directory No index with this name present on disk\n",
      "Erreur lors de la prédiction pour la fenêtre 5: Neither Sparse nor Dense Index : /data/vdb/default/train_sensors/vdb/default_train_sensors_flat_index/metadata. OS reports: No such file or directory No index with this name present on disk\n"
     ]
    },
    {
     "name": "stderr",
     "output_type": "stream",
     "text": [
      "  0%|                                                                            | 8/329841 [00:01<13:14:25,  6.92it/s]"
     ]
    },
    {
     "name": "stdout",
     "output_type": "stream",
     "text": [
      "Erreur lors de la prédiction pour la fenêtre 6: Neither Sparse nor Dense Index : /data/vdb/default/train_sensors/vdb/default_train_sensors_flat_index/metadata. OS reports: No such file or directory No index with this name present on disk\n",
      "Erreur lors de la prédiction pour la fenêtre 7: Neither Sparse nor Dense Index : /data/vdb/default/train_sensors/vdb/default_train_sensors_flat_index/metadata. OS reports: No such file or directory No index with this name present on disk\n"
     ]
    },
    {
     "name": "stderr",
     "output_type": "stream",
     "text": [
      "  0%|                                                                           | 10/329841 [00:01<13:22:03,  6.85it/s]"
     ]
    },
    {
     "name": "stdout",
     "output_type": "stream",
     "text": [
      "Erreur lors de la prédiction pour la fenêtre 8: Neither Sparse nor Dense Index : /data/vdb/default/train_sensors/vdb/default_train_sensors_flat_index/metadata. OS reports: No such file or directory No index with this name present on disk\n",
      "Erreur lors de la prédiction pour la fenêtre 9: Neither Sparse nor Dense Index : /data/vdb/default/train_sensors/vdb/default_train_sensors_flat_index/metadata. OS reports: No such file or directory No index with this name present on disk\n"
     ]
    },
    {
     "name": "stderr",
     "output_type": "stream",
     "text": [
      "  0%|                                                                           | 12/329841 [00:01<13:18:06,  6.89it/s]"
     ]
    },
    {
     "name": "stdout",
     "output_type": "stream",
     "text": [
      "Erreur lors de la prédiction pour la fenêtre 10: Neither Sparse nor Dense Index : /data/vdb/default/train_sensors/vdb/default_train_sensors_flat_index/metadata. OS reports: No such file or directory No index with this name present on disk\n",
      "Erreur lors de la prédiction pour la fenêtre 11: Neither Sparse nor Dense Index : /data/vdb/default/train_sensors/vdb/default_train_sensors_flat_index/metadata. OS reports: No such file or directory No index with this name present on disk\n"
     ]
    },
    {
     "name": "stderr",
     "output_type": "stream",
     "text": [
      "  0%|                                                                           | 14/329841 [00:02<13:20:31,  6.87it/s]"
     ]
    },
    {
     "name": "stdout",
     "output_type": "stream",
     "text": [
      "Erreur lors de la prédiction pour la fenêtre 12: Neither Sparse nor Dense Index : /data/vdb/default/train_sensors/vdb/default_train_sensors_flat_index/metadata. OS reports: No such file or directory No index with this name present on disk\n",
      "Erreur lors de la prédiction pour la fenêtre 13: Neither Sparse nor Dense Index : /data/vdb/default/train_sensors/vdb/default_train_sensors_flat_index/metadata. OS reports: No such file or directory No index with this name present on disk\n"
     ]
    },
    {
     "name": "stderr",
     "output_type": "stream",
     "text": [
      "  0%|                                                                           | 16/329841 [00:02<13:10:51,  6.95it/s]"
     ]
    },
    {
     "name": "stdout",
     "output_type": "stream",
     "text": [
      "Erreur lors de la prédiction pour la fenêtre 14: Neither Sparse nor Dense Index : /data/vdb/default/train_sensors/vdb/default_train_sensors_flat_index/metadata. OS reports: No such file or directory No index with this name present on disk\n",
      "Erreur lors de la prédiction pour la fenêtre 15: Neither Sparse nor Dense Index : /data/vdb/default/train_sensors/vdb/default_train_sensors_flat_index/metadata. OS reports: No such file or directory No index with this name present on disk\n"
     ]
    },
    {
     "name": "stderr",
     "output_type": "stream",
     "text": [
      "  0%|                                                                           | 18/329841 [00:02<13:28:21,  6.80it/s]"
     ]
    },
    {
     "name": "stdout",
     "output_type": "stream",
     "text": [
      "Erreur lors de la prédiction pour la fenêtre 16: Neither Sparse nor Dense Index : /data/vdb/default/train_sensors/vdb/default_train_sensors_flat_index/metadata. OS reports: No such file or directory No index with this name present on disk\n",
      "Erreur lors de la prédiction pour la fenêtre 17: Neither Sparse nor Dense Index : /data/vdb/default/train_sensors/vdb/default_train_sensors_flat_index/metadata. OS reports: No such file or directory No index with this name present on disk\n"
     ]
    },
    {
     "name": "stderr",
     "output_type": "stream",
     "text": [
      "  0%|                                                                           | 20/329841 [00:02<13:50:44,  6.62it/s]"
     ]
    },
    {
     "name": "stdout",
     "output_type": "stream",
     "text": [
      "Erreur lors de la prédiction pour la fenêtre 18: Neither Sparse nor Dense Index : /data/vdb/default/train_sensors/vdb/default_train_sensors_flat_index/metadata. OS reports: No such file or directory No index with this name present on disk\n",
      "Erreur lors de la prédiction pour la fenêtre 19: Neither Sparse nor Dense Index : /data/vdb/default/train_sensors/vdb/default_train_sensors_flat_index/metadata. OS reports: No such file or directory No index with this name present on disk\n"
     ]
    },
    {
     "name": "stderr",
     "output_type": "stream",
     "text": [
      "  0%|                                                                           | 22/329841 [00:03<13:35:55,  6.74it/s]"
     ]
    },
    {
     "name": "stdout",
     "output_type": "stream",
     "text": [
      "Erreur lors de la prédiction pour la fenêtre 20: Neither Sparse nor Dense Index : /data/vdb/default/train_sensors/vdb/default_train_sensors_flat_index/metadata. OS reports: No such file or directory No index with this name present on disk\n",
      "Erreur lors de la prédiction pour la fenêtre 21: Neither Sparse nor Dense Index : /data/vdb/default/train_sensors/vdb/default_train_sensors_flat_index/metadata. OS reports: No such file or directory No index with this name present on disk\n"
     ]
    },
    {
     "name": "stderr",
     "output_type": "stream",
     "text": [
      "  0%|                                                                           | 24/329841 [00:03<13:29:54,  6.79it/s]"
     ]
    },
    {
     "name": "stdout",
     "output_type": "stream",
     "text": [
      "Erreur lors de la prédiction pour la fenêtre 22: Neither Sparse nor Dense Index : /data/vdb/default/train_sensors/vdb/default_train_sensors_flat_index/metadata. OS reports: No such file or directory No index with this name present on disk\n",
      "Erreur lors de la prédiction pour la fenêtre 23: Neither Sparse nor Dense Index : /data/vdb/default/train_sensors/vdb/default_train_sensors_flat_index/metadata. OS reports: No such file or directory No index with this name present on disk\n"
     ]
    },
    {
     "name": "stderr",
     "output_type": "stream",
     "text": [
      "  0%|                                                                           | 26/329841 [00:03<13:45:49,  6.66it/s]"
     ]
    },
    {
     "name": "stdout",
     "output_type": "stream",
     "text": [
      "Erreur lors de la prédiction pour la fenêtre 24: Neither Sparse nor Dense Index : /data/vdb/default/train_sensors/vdb/default_train_sensors_flat_index/metadata. OS reports: No such file or directory No index with this name present on disk\n",
      "Erreur lors de la prédiction pour la fenêtre 25: Neither Sparse nor Dense Index : /data/vdb/default/train_sensors/vdb/default_train_sensors_flat_index/metadata. OS reports: No such file or directory No index with this name present on disk\n"
     ]
    },
    {
     "name": "stderr",
     "output_type": "stream",
     "text": [
      "  0%|                                                                           | 28/329841 [00:04<13:29:11,  6.79it/s]"
     ]
    },
    {
     "name": "stdout",
     "output_type": "stream",
     "text": [
      "Erreur lors de la prédiction pour la fenêtre 26: Neither Sparse nor Dense Index : /data/vdb/default/train_sensors/vdb/default_train_sensors_flat_index/metadata. OS reports: No such file or directory No index with this name present on disk\n",
      "Erreur lors de la prédiction pour la fenêtre 27: Neither Sparse nor Dense Index : /data/vdb/default/train_sensors/vdb/default_train_sensors_flat_index/metadata. OS reports: No such file or directory No index with this name present on disk\n"
     ]
    },
    {
     "name": "stderr",
     "output_type": "stream",
     "text": [
      "  0%|                                                                           | 30/329841 [00:04<14:04:49,  6.51it/s]"
     ]
    },
    {
     "name": "stdout",
     "output_type": "stream",
     "text": [
      "Erreur lors de la prédiction pour la fenêtre 28: Neither Sparse nor Dense Index : /data/vdb/default/train_sensors/vdb/default_train_sensors_flat_index/metadata. OS reports: No such file or directory No index with this name present on disk\n",
      "Erreur lors de la prédiction pour la fenêtre 29: Neither Sparse nor Dense Index : /data/vdb/default/train_sensors/vdb/default_train_sensors_flat_index/metadata. OS reports: No such file or directory No index with this name present on disk\n"
     ]
    },
    {
     "name": "stderr",
     "output_type": "stream",
     "text": [
      "  0%|                                                                           | 32/329841 [00:04<13:37:00,  6.73it/s]"
     ]
    },
    {
     "name": "stdout",
     "output_type": "stream",
     "text": [
      "Erreur lors de la prédiction pour la fenêtre 30: Neither Sparse nor Dense Index : /data/vdb/default/train_sensors/vdb/default_train_sensors_flat_index/metadata. OS reports: No such file or directory No index with this name present on disk\n",
      "Erreur lors de la prédiction pour la fenêtre 31: Neither Sparse nor Dense Index : /data/vdb/default/train_sensors/vdb/default_train_sensors_flat_index/metadata. OS reports: No such file or directory No index with this name present on disk\n"
     ]
    },
    {
     "name": "stderr",
     "output_type": "stream",
     "text": [
      "  0%|                                                                           | 34/329841 [00:05<13:15:20,  6.91it/s]"
     ]
    },
    {
     "name": "stdout",
     "output_type": "stream",
     "text": [
      "Erreur lors de la prédiction pour la fenêtre 32: Neither Sparse nor Dense Index : /data/vdb/default/train_sensors/vdb/default_train_sensors_flat_index/metadata. OS reports: No such file or directory No index with this name present on disk\n",
      "Erreur lors de la prédiction pour la fenêtre 33: Neither Sparse nor Dense Index : /data/vdb/default/train_sensors/vdb/default_train_sensors_flat_index/metadata. OS reports: No such file or directory No index with this name present on disk\n"
     ]
    },
    {
     "name": "stderr",
     "output_type": "stream",
     "text": [
      "  0%|                                                                           | 36/329841 [00:05<13:18:35,  6.88it/s]"
     ]
    },
    {
     "name": "stdout",
     "output_type": "stream",
     "text": [
      "Erreur lors de la prédiction pour la fenêtre 34: Neither Sparse nor Dense Index : /data/vdb/default/train_sensors/vdb/default_train_sensors_flat_index/metadata. OS reports: No such file or directory No index with this name present on disk\n",
      "Erreur lors de la prédiction pour la fenêtre 35: Neither Sparse nor Dense Index : /data/vdb/default/train_sensors/vdb/default_train_sensors_flat_index/metadata. OS reports: No such file or directory No index with this name present on disk\n"
     ]
    },
    {
     "name": "stderr",
     "output_type": "stream",
     "text": [
      "  0%|                                                                           | 38/329841 [00:05<13:59:11,  6.55it/s]"
     ]
    },
    {
     "name": "stdout",
     "output_type": "stream",
     "text": [
      "Erreur lors de la prédiction pour la fenêtre 36: Neither Sparse nor Dense Index : /data/vdb/default/train_sensors/vdb/default_train_sensors_flat_index/metadata. OS reports: No such file or directory No index with this name present on disk\n",
      "Erreur lors de la prédiction pour la fenêtre 37: Neither Sparse nor Dense Index : /data/vdb/default/train_sensors/vdb/default_train_sensors_flat_index/metadata. OS reports: No such file or directory No index with this name present on disk\n"
     ]
    },
    {
     "name": "stderr",
     "output_type": "stream",
     "text": [
      "  0%|                                                                           | 40/329841 [00:05<13:47:03,  6.65it/s]"
     ]
    },
    {
     "name": "stdout",
     "output_type": "stream",
     "text": [
      "Erreur lors de la prédiction pour la fenêtre 38: Neither Sparse nor Dense Index : /data/vdb/default/train_sensors/vdb/default_train_sensors_flat_index/metadata. OS reports: No such file or directory No index with this name present on disk\n",
      "Erreur lors de la prédiction pour la fenêtre 39: Neither Sparse nor Dense Index : /data/vdb/default/train_sensors/vdb/default_train_sensors_flat_index/metadata. OS reports: No such file or directory No index with this name present on disk\n"
     ]
    },
    {
     "name": "stderr",
     "output_type": "stream",
     "text": [
      "  0%|                                                                           | 42/329841 [00:06<13:31:24,  6.77it/s]"
     ]
    },
    {
     "name": "stdout",
     "output_type": "stream",
     "text": [
      "Erreur lors de la prédiction pour la fenêtre 40: Neither Sparse nor Dense Index : /data/vdb/default/train_sensors/vdb/default_train_sensors_flat_index/metadata. OS reports: No such file or directory No index with this name present on disk\n",
      "Erreur lors de la prédiction pour la fenêtre 41: Neither Sparse nor Dense Index : /data/vdb/default/train_sensors/vdb/default_train_sensors_flat_index/metadata. OS reports: No such file or directory No index with this name present on disk\n"
     ]
    },
    {
     "name": "stderr",
     "output_type": "stream",
     "text": [
      "  0%|                                                                           | 44/329841 [00:06<13:36:58,  6.73it/s]"
     ]
    },
    {
     "name": "stdout",
     "output_type": "stream",
     "text": [
      "Erreur lors de la prédiction pour la fenêtre 42: Neither Sparse nor Dense Index : /data/vdb/default/train_sensors/vdb/default_train_sensors_flat_index/metadata. OS reports: No such file or directory No index with this name present on disk\n",
      "Erreur lors de la prédiction pour la fenêtre 43: Neither Sparse nor Dense Index : /data/vdb/default/train_sensors/vdb/default_train_sensors_flat_index/metadata. OS reports: No such file or directory No index with this name present on disk\n"
     ]
    },
    {
     "name": "stderr",
     "output_type": "stream",
     "text": [
      "  0%|                                                                           | 46/329841 [00:06<13:46:02,  6.65it/s]"
     ]
    },
    {
     "name": "stdout",
     "output_type": "stream",
     "text": [
      "Erreur lors de la prédiction pour la fenêtre 44: Neither Sparse nor Dense Index : /data/vdb/default/train_sensors/vdb/default_train_sensors_flat_index/metadata. OS reports: No such file or directory No index with this name present on disk\n",
      "Erreur lors de la prédiction pour la fenêtre 45: Neither Sparse nor Dense Index : /data/vdb/default/train_sensors/vdb/default_train_sensors_flat_index/metadata. OS reports: No such file or directory No index with this name present on disk\n"
     ]
    },
    {
     "name": "stderr",
     "output_type": "stream",
     "text": [
      "  0%|                                                                           | 48/329841 [00:07<13:39:49,  6.70it/s]"
     ]
    },
    {
     "name": "stdout",
     "output_type": "stream",
     "text": [
      "Erreur lors de la prédiction pour la fenêtre 46: Neither Sparse nor Dense Index : /data/vdb/default/train_sensors/vdb/default_train_sensors_flat_index/metadata. OS reports: No such file or directory No index with this name present on disk\n",
      "Erreur lors de la prédiction pour la fenêtre 47: Neither Sparse nor Dense Index : /data/vdb/default/train_sensors/vdb/default_train_sensors_flat_index/metadata. OS reports: No such file or directory No index with this name present on disk\n"
     ]
    },
    {
     "name": "stderr",
     "output_type": "stream",
     "text": [
      "  0%|                                                                           | 50/329841 [00:07<13:30:19,  6.78it/s]"
     ]
    },
    {
     "name": "stdout",
     "output_type": "stream",
     "text": [
      "Erreur lors de la prédiction pour la fenêtre 48: Neither Sparse nor Dense Index : /data/vdb/default/train_sensors/vdb/default_train_sensors_flat_index/metadata. OS reports: No such file or directory No index with this name present on disk\n",
      "Erreur lors de la prédiction pour la fenêtre 49: Neither Sparse nor Dense Index : /data/vdb/default/train_sensors/vdb/default_train_sensors_flat_index/metadata. OS reports: No such file or directory No index with this name present on disk\n"
     ]
    },
    {
     "name": "stderr",
     "output_type": "stream",
     "text": [
      "  0%|                                                                           | 52/329841 [00:07<14:21:35,  6.38it/s]"
     ]
    },
    {
     "name": "stdout",
     "output_type": "stream",
     "text": [
      "Erreur lors de la prédiction pour la fenêtre 50: Neither Sparse nor Dense Index : /data/vdb/default/train_sensors/vdb/default_train_sensors_flat_index/metadata. OS reports: No such file or directory No index with this name present on disk\n",
      "Erreur lors de la prédiction pour la fenêtre 51: Neither Sparse nor Dense Index : /data/vdb/default/train_sensors/vdb/default_train_sensors_flat_index/metadata. OS reports: No such file or directory No index with this name present on disk\n"
     ]
    },
    {
     "name": "stderr",
     "output_type": "stream",
     "text": [
      "  0%|                                                                           | 54/329841 [00:08<14:10:04,  6.47it/s]"
     ]
    },
    {
     "name": "stdout",
     "output_type": "stream",
     "text": [
      "Erreur lors de la prédiction pour la fenêtre 52: Neither Sparse nor Dense Index : /data/vdb/default/train_sensors/vdb/default_train_sensors_flat_index/metadata. OS reports: No such file or directory No index with this name present on disk\n",
      "Erreur lors de la prédiction pour la fenêtre 53: Neither Sparse nor Dense Index : /data/vdb/default/train_sensors/vdb/default_train_sensors_flat_index/metadata. OS reports: No such file or directory No index with this name present on disk\n"
     ]
    },
    {
     "name": "stderr",
     "output_type": "stream",
     "text": [
      "  0%|                                                                           | 56/329841 [00:08<13:28:33,  6.80it/s]"
     ]
    },
    {
     "name": "stdout",
     "output_type": "stream",
     "text": [
      "Erreur lors de la prédiction pour la fenêtre 54: Neither Sparse nor Dense Index : /data/vdb/default/train_sensors/vdb/default_train_sensors_flat_index/metadata. OS reports: No such file or directory No index with this name present on disk\n",
      "Erreur lors de la prédiction pour la fenêtre 55: Neither Sparse nor Dense Index : /data/vdb/default/train_sensors/vdb/default_train_sensors_flat_index/metadata. OS reports: No such file or directory No index with this name present on disk\n"
     ]
    },
    {
     "name": "stderr",
     "output_type": "stream",
     "text": [
      "  0%|                                                                           | 58/329841 [00:08<13:26:52,  6.81it/s]"
     ]
    },
    {
     "name": "stdout",
     "output_type": "stream",
     "text": [
      "Erreur lors de la prédiction pour la fenêtre 56: Neither Sparse nor Dense Index : /data/vdb/default/train_sensors/vdb/default_train_sensors_flat_index/metadata. OS reports: No such file or directory No index with this name present on disk\n",
      "Erreur lors de la prédiction pour la fenêtre 57: Neither Sparse nor Dense Index : /data/vdb/default/train_sensors/vdb/default_train_sensors_flat_index/metadata. OS reports: No such file or directory No index with this name present on disk\n"
     ]
    },
    {
     "name": "stderr",
     "output_type": "stream",
     "text": [
      "  0%|                                                                           | 60/329841 [00:08<13:26:25,  6.82it/s]"
     ]
    },
    {
     "name": "stdout",
     "output_type": "stream",
     "text": [
      "Erreur lors de la prédiction pour la fenêtre 58: Neither Sparse nor Dense Index : /data/vdb/default/train_sensors/vdb/default_train_sensors_flat_index/metadata. OS reports: No such file or directory No index with this name present on disk\n",
      "Erreur lors de la prédiction pour la fenêtre 59: Neither Sparse nor Dense Index : /data/vdb/default/train_sensors/vdb/default_train_sensors_flat_index/metadata. OS reports: No such file or directory No index with this name present on disk\n"
     ]
    },
    {
     "name": "stderr",
     "output_type": "stream",
     "text": [
      "  0%|                                                                           | 62/329841 [00:09<14:05:51,  6.50it/s]"
     ]
    },
    {
     "name": "stdout",
     "output_type": "stream",
     "text": [
      "Erreur lors de la prédiction pour la fenêtre 60: Neither Sparse nor Dense Index : /data/vdb/default/train_sensors/vdb/default_train_sensors_flat_index/metadata. OS reports: No such file or directory No index with this name present on disk\n",
      "Erreur lors de la prédiction pour la fenêtre 61: Neither Sparse nor Dense Index : /data/vdb/default/train_sensors/vdb/default_train_sensors_flat_index/metadata. OS reports: No such file or directory No index with this name present on disk\n"
     ]
    },
    {
     "name": "stderr",
     "output_type": "stream",
     "text": [
      "  0%|                                                                           | 64/329841 [00:09<13:46:53,  6.65it/s]"
     ]
    },
    {
     "name": "stdout",
     "output_type": "stream",
     "text": [
      "Erreur lors de la prédiction pour la fenêtre 62: Neither Sparse nor Dense Index : /data/vdb/default/train_sensors/vdb/default_train_sensors_flat_index/metadata. OS reports: No such file or directory No index with this name present on disk\n",
      "Erreur lors de la prédiction pour la fenêtre 63: Neither Sparse nor Dense Index : /data/vdb/default/train_sensors/vdb/default_train_sensors_flat_index/metadata. OS reports: No such file or directory No index with this name present on disk\n"
     ]
    },
    {
     "name": "stderr",
     "output_type": "stream",
     "text": [
      "  0%|                                                                           | 66/329841 [00:09<13:31:20,  6.77it/s]"
     ]
    },
    {
     "name": "stdout",
     "output_type": "stream",
     "text": [
      "Erreur lors de la prédiction pour la fenêtre 64: Neither Sparse nor Dense Index : /data/vdb/default/train_sensors/vdb/default_train_sensors_flat_index/metadata. OS reports: No such file or directory No index with this name present on disk\n",
      "Erreur lors de la prédiction pour la fenêtre 65: Neither Sparse nor Dense Index : /data/vdb/default/train_sensors/vdb/default_train_sensors_flat_index/metadata. OS reports: No such file or directory No index with this name present on disk\n"
     ]
    },
    {
     "name": "stderr",
     "output_type": "stream",
     "text": [
      "  0%|                                                                           | 68/329841 [00:10<13:14:50,  6.91it/s]"
     ]
    },
    {
     "name": "stdout",
     "output_type": "stream",
     "text": [
      "Erreur lors de la prédiction pour la fenêtre 66: Neither Sparse nor Dense Index : /data/vdb/default/train_sensors/vdb/default_train_sensors_flat_index/metadata. OS reports: No such file or directory No index with this name present on disk\n",
      "Erreur lors de la prédiction pour la fenêtre 67: Neither Sparse nor Dense Index : /data/vdb/default/train_sensors/vdb/default_train_sensors_flat_index/metadata. OS reports: No such file or directory No index with this name present on disk\n"
     ]
    },
    {
     "name": "stderr",
     "output_type": "stream",
     "text": [
      "  0%|                                                                           | 70/329841 [00:10<13:42:43,  6.68it/s]"
     ]
    },
    {
     "name": "stdout",
     "output_type": "stream",
     "text": [
      "Erreur lors de la prédiction pour la fenêtre 68: Neither Sparse nor Dense Index : /data/vdb/default/train_sensors/vdb/default_train_sensors_flat_index/metadata. OS reports: No such file or directory No index with this name present on disk\n",
      "Erreur lors de la prédiction pour la fenêtre 69: Neither Sparse nor Dense Index : /data/vdb/default/train_sensors/vdb/default_train_sensors_flat_index/metadata. OS reports: No such file or directory No index with this name present on disk\n"
     ]
    },
    {
     "name": "stderr",
     "output_type": "stream",
     "text": [
      "  0%|                                                                           | 72/329841 [00:10<13:41:36,  6.69it/s]"
     ]
    },
    {
     "name": "stdout",
     "output_type": "stream",
     "text": [
      "Erreur lors de la prédiction pour la fenêtre 70: Neither Sparse nor Dense Index : /data/vdb/default/train_sensors/vdb/default_train_sensors_flat_index/metadata. OS reports: No such file or directory No index with this name present on disk\n",
      "Erreur lors de la prédiction pour la fenêtre 71: Neither Sparse nor Dense Index : /data/vdb/default/train_sensors/vdb/default_train_sensors_flat_index/metadata. OS reports: No such file or directory No index with this name present on disk\n"
     ]
    },
    {
     "name": "stderr",
     "output_type": "stream",
     "text": [
      "  0%|                                                                           | 74/329841 [00:11<14:26:03,  6.35it/s]"
     ]
    },
    {
     "name": "stdout",
     "output_type": "stream",
     "text": [
      "Erreur lors de la prédiction pour la fenêtre 72: Neither Sparse nor Dense Index : /data/vdb/default/train_sensors/vdb/default_train_sensors_flat_index/metadata. OS reports: No such file or directory No index with this name present on disk\n",
      "Erreur lors de la prédiction pour la fenêtre 73: Neither Sparse nor Dense Index : /data/vdb/default/train_sensors/vdb/default_train_sensors_flat_index/metadata. OS reports: No such file or directory No index with this name present on disk\n"
     ]
    },
    {
     "name": "stderr",
     "output_type": "stream",
     "text": [
      "  0%|                                                                           | 76/329841 [00:11<13:51:22,  6.61it/s]"
     ]
    },
    {
     "name": "stdout",
     "output_type": "stream",
     "text": [
      "Erreur lors de la prédiction pour la fenêtre 74: Neither Sparse nor Dense Index : /data/vdb/default/train_sensors/vdb/default_train_sensors_flat_index/metadata. OS reports: No such file or directory No index with this name present on disk\n",
      "Erreur lors de la prédiction pour la fenêtre 75: Neither Sparse nor Dense Index : /data/vdb/default/train_sensors/vdb/default_train_sensors_flat_index/metadata. OS reports: No such file or directory No index with this name present on disk\n"
     ]
    },
    {
     "name": "stderr",
     "output_type": "stream",
     "text": [
      "  0%|                                                                           | 78/329841 [00:11<13:39:54,  6.70it/s]"
     ]
    },
    {
     "name": "stdout",
     "output_type": "stream",
     "text": [
      "Erreur lors de la prédiction pour la fenêtre 76: Neither Sparse nor Dense Index : /data/vdb/default/train_sensors/vdb/default_train_sensors_flat_index/metadata. OS reports: No such file or directory No index with this name present on disk\n",
      "Erreur lors de la prédiction pour la fenêtre 77: Neither Sparse nor Dense Index : /data/vdb/default/train_sensors/vdb/default_train_sensors_flat_index/metadata. OS reports: No such file or directory No index with this name present on disk\n"
     ]
    },
    {
     "name": "stderr",
     "output_type": "stream",
     "text": [
      "  0%|                                                                           | 80/329841 [00:11<13:34:59,  6.74it/s]"
     ]
    },
    {
     "name": "stdout",
     "output_type": "stream",
     "text": [
      "Erreur lors de la prédiction pour la fenêtre 78: Neither Sparse nor Dense Index : /data/vdb/default/train_sensors/vdb/default_train_sensors_flat_index/metadata. OS reports: No such file or directory No index with this name present on disk\n",
      "Erreur lors de la prédiction pour la fenêtre 79: Neither Sparse nor Dense Index : /data/vdb/default/train_sensors/vdb/default_train_sensors_flat_index/metadata. OS reports: No such file or directory No index with this name present on disk\n"
     ]
    },
    {
     "name": "stderr",
     "output_type": "stream",
     "text": [
      "  0%|                                                                           | 82/329841 [00:12<13:13:11,  6.93it/s]"
     ]
    },
    {
     "name": "stdout",
     "output_type": "stream",
     "text": [
      "Erreur lors de la prédiction pour la fenêtre 80: Neither Sparse nor Dense Index : /data/vdb/default/train_sensors/vdb/default_train_sensors_flat_index/metadata. OS reports: No such file or directory No index with this name present on disk\n",
      "Erreur lors de la prédiction pour la fenêtre 81: Neither Sparse nor Dense Index : /data/vdb/default/train_sensors/vdb/default_train_sensors_flat_index/metadata. OS reports: No such file or directory No index with this name present on disk\n"
     ]
    },
    {
     "name": "stderr",
     "output_type": "stream",
     "text": [
      "  0%|                                                                           | 84/329841 [00:12<13:06:04,  6.99it/s]"
     ]
    },
    {
     "name": "stdout",
     "output_type": "stream",
     "text": [
      "Erreur lors de la prédiction pour la fenêtre 82: Neither Sparse nor Dense Index : /data/vdb/default/train_sensors/vdb/default_train_sensors_flat_index/metadata. OS reports: No such file or directory No index with this name present on disk\n",
      "Erreur lors de la prédiction pour la fenêtre 83: Neither Sparse nor Dense Index : /data/vdb/default/train_sensors/vdb/default_train_sensors_flat_index/metadata. OS reports: No such file or directory No index with this name present on disk\n"
     ]
    },
    {
     "name": "stderr",
     "output_type": "stream",
     "text": [
      "  0%|                                                                           | 86/329841 [00:12<13:12:29,  6.93it/s]"
     ]
    },
    {
     "name": "stdout",
     "output_type": "stream",
     "text": [
      "Erreur lors de la prédiction pour la fenêtre 84: Neither Sparse nor Dense Index : /data/vdb/default/train_sensors/vdb/default_train_sensors_flat_index/metadata. OS reports: No such file or directory No index with this name present on disk\n",
      "Erreur lors de la prédiction pour la fenêtre 85: Neither Sparse nor Dense Index : /data/vdb/default/train_sensors/vdb/default_train_sensors_flat_index/metadata. OS reports: No such file or directory No index with this name present on disk\n"
     ]
    },
    {
     "name": "stderr",
     "output_type": "stream",
     "text": [
      "  0%|                                                                           | 88/329841 [00:13<13:32:42,  6.76it/s]"
     ]
    },
    {
     "name": "stdout",
     "output_type": "stream",
     "text": [
      "Erreur lors de la prédiction pour la fenêtre 86: Neither Sparse nor Dense Index : /data/vdb/default/train_sensors/vdb/default_train_sensors_flat_index/metadata. OS reports: No such file or directory No index with this name present on disk\n",
      "Erreur lors de la prédiction pour la fenêtre 87: Neither Sparse nor Dense Index : /data/vdb/default/train_sensors/vdb/default_train_sensors_flat_index/metadata. OS reports: No such file or directory No index with this name present on disk\n"
     ]
    },
    {
     "name": "stderr",
     "output_type": "stream",
     "text": [
      "  0%|                                                                           | 90/329841 [00:13<13:32:22,  6.77it/s]"
     ]
    },
    {
     "name": "stdout",
     "output_type": "stream",
     "text": [
      "Erreur lors de la prédiction pour la fenêtre 88: Neither Sparse nor Dense Index : /data/vdb/default/train_sensors/vdb/default_train_sensors_flat_index/metadata. OS reports: No such file or directory No index with this name present on disk\n",
      "Erreur lors de la prédiction pour la fenêtre 89: Neither Sparse nor Dense Index : /data/vdb/default/train_sensors/vdb/default_train_sensors_flat_index/metadata. OS reports: No such file or directory No index with this name present on disk\n"
     ]
    },
    {
     "name": "stderr",
     "output_type": "stream",
     "text": [
      "  0%|                                                                           | 92/329841 [00:13<13:25:15,  6.82it/s]"
     ]
    },
    {
     "name": "stdout",
     "output_type": "stream",
     "text": [
      "Erreur lors de la prédiction pour la fenêtre 90: Neither Sparse nor Dense Index : /data/vdb/default/train_sensors/vdb/default_train_sensors_flat_index/metadata. OS reports: No such file or directory No index with this name present on disk\n",
      "Erreur lors de la prédiction pour la fenêtre 91: Neither Sparse nor Dense Index : /data/vdb/default/train_sensors/vdb/default_train_sensors_flat_index/metadata. OS reports: No such file or directory No index with this name present on disk\n"
     ]
    },
    {
     "name": "stderr",
     "output_type": "stream",
     "text": [
      "  0%|                                                                           | 94/329841 [00:13<13:17:26,  6.89it/s]"
     ]
    },
    {
     "name": "stdout",
     "output_type": "stream",
     "text": [
      "Erreur lors de la prédiction pour la fenêtre 92: Neither Sparse nor Dense Index : /data/vdb/default/train_sensors/vdb/default_train_sensors_flat_index/metadata. OS reports: No such file or directory No index with this name present on disk\n",
      "Erreur lors de la prédiction pour la fenêtre 93: Neither Sparse nor Dense Index : /data/vdb/default/train_sensors/vdb/default_train_sensors_flat_index/metadata. OS reports: No such file or directory No index with this name present on disk\n"
     ]
    },
    {
     "name": "stderr",
     "output_type": "stream",
     "text": [
      "  0%|                                                                           | 96/329841 [00:14<13:13:18,  6.93it/s]"
     ]
    },
    {
     "name": "stdout",
     "output_type": "stream",
     "text": [
      "Erreur lors de la prédiction pour la fenêtre 94: Neither Sparse nor Dense Index : /data/vdb/default/train_sensors/vdb/default_train_sensors_flat_index/metadata. OS reports: No such file or directory No index with this name present on disk\n",
      "Erreur lors de la prédiction pour la fenêtre 95: Neither Sparse nor Dense Index : /data/vdb/default/train_sensors/vdb/default_train_sensors_flat_index/metadata. OS reports: No such file or directory No index with this name present on disk\n"
     ]
    },
    {
     "name": "stderr",
     "output_type": "stream",
     "text": [
      "  0%|                                                                           | 98/329841 [00:14<13:08:20,  6.97it/s]"
     ]
    },
    {
     "name": "stdout",
     "output_type": "stream",
     "text": [
      "Erreur lors de la prédiction pour la fenêtre 96: Neither Sparse nor Dense Index : /data/vdb/default/train_sensors/vdb/default_train_sensors_flat_index/metadata. OS reports: No such file or directory No index with this name present on disk\n",
      "Erreur lors de la prédiction pour la fenêtre 97: Neither Sparse nor Dense Index : /data/vdb/default/train_sensors/vdb/default_train_sensors_flat_index/metadata. OS reports: No such file or directory No index with this name present on disk\n"
     ]
    },
    {
     "name": "stderr",
     "output_type": "stream",
     "text": [
      "  0%|                                                                          | 100/329841 [00:14<13:13:02,  6.93it/s]"
     ]
    },
    {
     "name": "stdout",
     "output_type": "stream",
     "text": [
      "Erreur lors de la prédiction pour la fenêtre 98: Neither Sparse nor Dense Index : /data/vdb/default/train_sensors/vdb/default_train_sensors_flat_index/metadata. OS reports: No such file or directory No index with this name present on disk\n",
      "Erreur lors de la prédiction pour la fenêtre 99: Neither Sparse nor Dense Index : /data/vdb/default/train_sensors/vdb/default_train_sensors_flat_index/metadata. OS reports: No such file or directory No index with this name present on disk\n"
     ]
    },
    {
     "name": "stderr",
     "output_type": "stream",
     "text": [
      "  0%|                                                                          | 102/329841 [00:15<13:06:33,  6.99it/s]"
     ]
    },
    {
     "name": "stdout",
     "output_type": "stream",
     "text": [
      "Erreur lors de la prédiction pour la fenêtre 100: Neither Sparse nor Dense Index : /data/vdb/default/train_sensors/vdb/default_train_sensors_flat_index/metadata. OS reports: No such file or directory No index with this name present on disk\n",
      "Erreur lors de la prédiction pour la fenêtre 101: Neither Sparse nor Dense Index : /data/vdb/default/train_sensors/vdb/default_train_sensors_flat_index/metadata. OS reports: No such file or directory No index with this name present on disk\n"
     ]
    },
    {
     "name": "stderr",
     "output_type": "stream",
     "text": [
      "  0%|                                                                          | 104/329841 [00:15<13:08:37,  6.97it/s]"
     ]
    },
    {
     "name": "stdout",
     "output_type": "stream",
     "text": [
      "Erreur lors de la prédiction pour la fenêtre 102: Neither Sparse nor Dense Index : /data/vdb/default/train_sensors/vdb/default_train_sensors_flat_index/metadata. OS reports: No such file or directory No index with this name present on disk\n",
      "Erreur lors de la prédiction pour la fenêtre 103: Neither Sparse nor Dense Index : /data/vdb/default/train_sensors/vdb/default_train_sensors_flat_index/metadata. OS reports: No such file or directory No index with this name present on disk\n"
     ]
    },
    {
     "name": "stderr",
     "output_type": "stream",
     "text": [
      "  0%|                                                                          | 106/329841 [00:15<13:04:05,  7.01it/s]"
     ]
    },
    {
     "name": "stdout",
     "output_type": "stream",
     "text": [
      "Erreur lors de la prédiction pour la fenêtre 104: Neither Sparse nor Dense Index : /data/vdb/default/train_sensors/vdb/default_train_sensors_flat_index/metadata. OS reports: No such file or directory No index with this name present on disk\n",
      "Erreur lors de la prédiction pour la fenêtre 105: Neither Sparse nor Dense Index : /data/vdb/default/train_sensors/vdb/default_train_sensors_flat_index/metadata. OS reports: No such file or directory No index with this name present on disk\n"
     ]
    },
    {
     "name": "stderr",
     "output_type": "stream",
     "text": [
      "  0%|                                                                          | 108/329841 [00:15<13:08:52,  6.97it/s]"
     ]
    },
    {
     "name": "stdout",
     "output_type": "stream",
     "text": [
      "Erreur lors de la prédiction pour la fenêtre 106: Neither Sparse nor Dense Index : /data/vdb/default/train_sensors/vdb/default_train_sensors_flat_index/metadata. OS reports: No such file or directory No index with this name present on disk\n",
      "Erreur lors de la prédiction pour la fenêtre 107: Neither Sparse nor Dense Index : /data/vdb/default/train_sensors/vdb/default_train_sensors_flat_index/metadata. OS reports: No such file or directory No index with this name present on disk\n"
     ]
    },
    {
     "name": "stderr",
     "output_type": "stream",
     "text": [
      "  0%|                                                                          | 110/329841 [00:16<13:09:11,  6.96it/s]"
     ]
    },
    {
     "name": "stdout",
     "output_type": "stream",
     "text": [
      "Erreur lors de la prédiction pour la fenêtre 108: Neither Sparse nor Dense Index : /data/vdb/default/train_sensors/vdb/default_train_sensors_flat_index/metadata. OS reports: No such file or directory No index with this name present on disk\n",
      "Erreur lors de la prédiction pour la fenêtre 109: Neither Sparse nor Dense Index : /data/vdb/default/train_sensors/vdb/default_train_sensors_flat_index/metadata. OS reports: No such file or directory No index with this name present on disk\n"
     ]
    },
    {
     "name": "stderr",
     "output_type": "stream",
     "text": [
      "  0%|                                                                          | 112/329841 [00:16<13:17:16,  6.89it/s]"
     ]
    },
    {
     "name": "stdout",
     "output_type": "stream",
     "text": [
      "Erreur lors de la prédiction pour la fenêtre 110: Neither Sparse nor Dense Index : /data/vdb/default/train_sensors/vdb/default_train_sensors_flat_index/metadata. OS reports: No such file or directory No index with this name present on disk\n",
      "Erreur lors de la prédiction pour la fenêtre 111: Neither Sparse nor Dense Index : /data/vdb/default/train_sensors/vdb/default_train_sensors_flat_index/metadata. OS reports: No such file or directory No index with this name present on disk\n"
     ]
    },
    {
     "name": "stderr",
     "output_type": "stream",
     "text": [
      "  0%|                                                                          | 114/329841 [00:16<13:18:07,  6.89it/s]"
     ]
    },
    {
     "name": "stdout",
     "output_type": "stream",
     "text": [
      "Erreur lors de la prédiction pour la fenêtre 112: Neither Sparse nor Dense Index : /data/vdb/default/train_sensors/vdb/default_train_sensors_flat_index/metadata. OS reports: No such file or directory No index with this name present on disk\n",
      "Erreur lors de la prédiction pour la fenêtre 113: Neither Sparse nor Dense Index : /data/vdb/default/train_sensors/vdb/default_train_sensors_flat_index/metadata. OS reports: No such file or directory No index with this name present on disk\n"
     ]
    },
    {
     "name": "stderr",
     "output_type": "stream",
     "text": [
      "  0%|                                                                          | 116/329841 [00:17<13:14:46,  6.91it/s]"
     ]
    },
    {
     "name": "stdout",
     "output_type": "stream",
     "text": [
      "Erreur lors de la prédiction pour la fenêtre 114: Neither Sparse nor Dense Index : /data/vdb/default/train_sensors/vdb/default_train_sensors_flat_index/metadata. OS reports: No such file or directory No index with this name present on disk\n",
      "Erreur lors de la prédiction pour la fenêtre 115: Neither Sparse nor Dense Index : /data/vdb/default/train_sensors/vdb/default_train_sensors_flat_index/metadata. OS reports: No such file or directory No index with this name present on disk\n"
     ]
    },
    {
     "name": "stderr",
     "output_type": "stream",
     "text": [
      "  0%|                                                                          | 118/329841 [00:17<13:15:02,  6.91it/s]"
     ]
    },
    {
     "name": "stdout",
     "output_type": "stream",
     "text": [
      "Erreur lors de la prédiction pour la fenêtre 116: Neither Sparse nor Dense Index : /data/vdb/default/train_sensors/vdb/default_train_sensors_flat_index/metadata. OS reports: No such file or directory No index with this name present on disk\n",
      "Erreur lors de la prédiction pour la fenêtre 117: Neither Sparse nor Dense Index : /data/vdb/default/train_sensors/vdb/default_train_sensors_flat_index/metadata. OS reports: No such file or directory No index with this name present on disk\n"
     ]
    },
    {
     "name": "stderr",
     "output_type": "stream",
     "text": [
      "  0%|                                                                          | 120/329841 [00:17<13:08:06,  6.97it/s]"
     ]
    },
    {
     "name": "stdout",
     "output_type": "stream",
     "text": [
      "Erreur lors de la prédiction pour la fenêtre 118: Neither Sparse nor Dense Index : /data/vdb/default/train_sensors/vdb/default_train_sensors_flat_index/metadata. OS reports: No such file or directory No index with this name present on disk\n",
      "Erreur lors de la prédiction pour la fenêtre 119: Neither Sparse nor Dense Index : /data/vdb/default/train_sensors/vdb/default_train_sensors_flat_index/metadata. OS reports: No such file or directory No index with this name present on disk\n"
     ]
    },
    {
     "name": "stderr",
     "output_type": "stream",
     "text": [
      "  0%|                                                                          | 122/329841 [00:18<13:36:44,  6.73it/s]"
     ]
    },
    {
     "name": "stdout",
     "output_type": "stream",
     "text": [
      "Erreur lors de la prédiction pour la fenêtre 120: Neither Sparse nor Dense Index : /data/vdb/default/train_sensors/vdb/default_train_sensors_flat_index/metadata. OS reports: No such file or directory No index with this name present on disk\n",
      "Erreur lors de la prédiction pour la fenêtre 121: Neither Sparse nor Dense Index : /data/vdb/default/train_sensors/vdb/default_train_sensors_flat_index/metadata. OS reports: No such file or directory No index with this name present on disk\n"
     ]
    },
    {
     "name": "stderr",
     "output_type": "stream",
     "text": [
      "  0%|                                                                          | 124/329841 [00:18<13:52:11,  6.60it/s]"
     ]
    },
    {
     "name": "stdout",
     "output_type": "stream",
     "text": [
      "Erreur lors de la prédiction pour la fenêtre 122: Neither Sparse nor Dense Index : /data/vdb/default/train_sensors/vdb/default_train_sensors_flat_index/metadata. OS reports: No such file or directory No index with this name present on disk\n",
      "Erreur lors de la prédiction pour la fenêtre 123: Neither Sparse nor Dense Index : /data/vdb/default/train_sensors/vdb/default_train_sensors_flat_index/metadata. OS reports: No such file or directory No index with this name present on disk\n"
     ]
    },
    {
     "name": "stderr",
     "output_type": "stream",
     "text": [
      "  0%|                                                                          | 126/329841 [00:18<13:31:46,  6.77it/s]"
     ]
    },
    {
     "name": "stdout",
     "output_type": "stream",
     "text": [
      "Erreur lors de la prédiction pour la fenêtre 124: Neither Sparse nor Dense Index : /data/vdb/default/train_sensors/vdb/default_train_sensors_flat_index/metadata. OS reports: No such file or directory No index with this name present on disk\n",
      "Erreur lors de la prédiction pour la fenêtre 125: Neither Sparse nor Dense Index : /data/vdb/default/train_sensors/vdb/default_train_sensors_flat_index/metadata. OS reports: No such file or directory No index with this name present on disk\n"
     ]
    },
    {
     "name": "stderr",
     "output_type": "stream",
     "text": [
      "  0%|                                                                          | 128/329841 [00:18<13:19:13,  6.88it/s]"
     ]
    },
    {
     "name": "stdout",
     "output_type": "stream",
     "text": [
      "Erreur lors de la prédiction pour la fenêtre 126: Neither Sparse nor Dense Index : /data/vdb/default/train_sensors/vdb/default_train_sensors_flat_index/metadata. OS reports: No such file or directory No index with this name present on disk\n",
      "Erreur lors de la prédiction pour la fenêtre 127: Neither Sparse nor Dense Index : /data/vdb/default/train_sensors/vdb/default_train_sensors_flat_index/metadata. OS reports: No such file or directory No index with this name present on disk\n"
     ]
    },
    {
     "name": "stderr",
     "output_type": "stream",
     "text": [
      "  0%|                                                                          | 130/329841 [00:19<13:33:11,  6.76it/s]"
     ]
    },
    {
     "name": "stdout",
     "output_type": "stream",
     "text": [
      "Erreur lors de la prédiction pour la fenêtre 128: Neither Sparse nor Dense Index : /data/vdb/default/train_sensors/vdb/default_train_sensors_flat_index/metadata. OS reports: No such file or directory No index with this name present on disk\n",
      "Erreur lors de la prédiction pour la fenêtre 129: Neither Sparse nor Dense Index : /data/vdb/default/train_sensors/vdb/default_train_sensors_flat_index/metadata. OS reports: No such file or directory No index with this name present on disk\n"
     ]
    },
    {
     "name": "stderr",
     "output_type": "stream",
     "text": [
      "  0%|                                                                          | 132/329841 [00:19<13:29:20,  6.79it/s]"
     ]
    },
    {
     "name": "stdout",
     "output_type": "stream",
     "text": [
      "Erreur lors de la prédiction pour la fenêtre 130: Neither Sparse nor Dense Index : /data/vdb/default/train_sensors/vdb/default_train_sensors_flat_index/metadata. OS reports: No such file or directory No index with this name present on disk\n",
      "Erreur lors de la prédiction pour la fenêtre 131: Neither Sparse nor Dense Index : /data/vdb/default/train_sensors/vdb/default_train_sensors_flat_index/metadata. OS reports: No such file or directory No index with this name present on disk\n"
     ]
    },
    {
     "name": "stderr",
     "output_type": "stream",
     "text": [
      "  0%|                                                                          | 134/329841 [00:19<13:14:38,  6.92it/s]"
     ]
    },
    {
     "name": "stdout",
     "output_type": "stream",
     "text": [
      "Erreur lors de la prédiction pour la fenêtre 132: Neither Sparse nor Dense Index : /data/vdb/default/train_sensors/vdb/default_train_sensors_flat_index/metadata. OS reports: No such file or directory No index with this name present on disk\n",
      "Erreur lors de la prédiction pour la fenêtre 133: Neither Sparse nor Dense Index : /data/vdb/default/train_sensors/vdb/default_train_sensors_flat_index/metadata. OS reports: No such file or directory No index with this name present on disk\n"
     ]
    },
    {
     "name": "stderr",
     "output_type": "stream",
     "text": [
      "  0%|                                                                          | 136/329841 [00:20<13:45:33,  6.66it/s]"
     ]
    },
    {
     "name": "stdout",
     "output_type": "stream",
     "text": [
      "Erreur lors de la prédiction pour la fenêtre 134: Neither Sparse nor Dense Index : /data/vdb/default/train_sensors/vdb/default_train_sensors_flat_index/metadata. OS reports: No such file or directory No index with this name present on disk\n",
      "Erreur lors de la prédiction pour la fenêtre 135: Neither Sparse nor Dense Index : /data/vdb/default/train_sensors/vdb/default_train_sensors_flat_index/metadata. OS reports: No such file or directory No index with this name present on disk\n"
     ]
    },
    {
     "name": "stderr",
     "output_type": "stream",
     "text": [
      "  0%|                                                                          | 138/329841 [00:20<13:44:04,  6.67it/s]"
     ]
    },
    {
     "name": "stdout",
     "output_type": "stream",
     "text": [
      "Erreur lors de la prédiction pour la fenêtre 136: Neither Sparse nor Dense Index : /data/vdb/default/train_sensors/vdb/default_train_sensors_flat_index/metadata. OS reports: No such file or directory No index with this name present on disk\n",
      "Erreur lors de la prédiction pour la fenêtre 137: Neither Sparse nor Dense Index : /data/vdb/default/train_sensors/vdb/default_train_sensors_flat_index/metadata. OS reports: No such file or directory No index with this name present on disk\n"
     ]
    },
    {
     "name": "stderr",
     "output_type": "stream",
     "text": [
      "  0%|                                                                          | 140/329841 [00:20<13:29:25,  6.79it/s]"
     ]
    },
    {
     "name": "stdout",
     "output_type": "stream",
     "text": [
      "Erreur lors de la prédiction pour la fenêtre 138: Neither Sparse nor Dense Index : /data/vdb/default/train_sensors/vdb/default_train_sensors_flat_index/metadata. OS reports: No such file or directory No index with this name present on disk\n",
      "Erreur lors de la prédiction pour la fenêtre 139: Neither Sparse nor Dense Index : /data/vdb/default/train_sensors/vdb/default_train_sensors_flat_index/metadata. OS reports: No such file or directory No index with this name present on disk\n"
     ]
    },
    {
     "name": "stderr",
     "output_type": "stream",
     "text": [
      "\r",
      "  0%|                                                                          | 141/329841 [00:20<14:08:49,  6.47it/s]"
     ]
    },
    {
     "name": "stdout",
     "output_type": "stream",
     "text": [
      "Erreur lors de la prédiction pour la fenêtre 140: Neither Sparse nor Dense Index : /data/vdb/default/train_sensors/vdb/default_train_sensors_flat_index/metadata. OS reports: No such file or directory No index with this name present on disk\n"
     ]
    },
    {
     "name": "stderr",
     "output_type": "stream",
     "text": [
      "  0%|                                                                          | 143/329841 [00:21<15:35:52,  5.87it/s]"
     ]
    },
    {
     "name": "stdout",
     "output_type": "stream",
     "text": [
      "Erreur lors de la prédiction pour la fenêtre 141: Neither Sparse nor Dense Index : /data/vdb/default/train_sensors/vdb/default_train_sensors_flat_index/metadata. OS reports: No such file or directory No index with this name present on disk\n",
      "Erreur lors de la prédiction pour la fenêtre 142: Neither Sparse nor Dense Index : /data/vdb/default/train_sensors/vdb/default_train_sensors_flat_index/metadata. OS reports: No such file or directory No index with this name present on disk\n"
     ]
    },
    {
     "name": "stderr",
     "output_type": "stream",
     "text": [
      "  0%|                                                                          | 145/329841 [00:21<15:55:57,  5.75it/s]"
     ]
    },
    {
     "name": "stdout",
     "output_type": "stream",
     "text": [
      "Erreur lors de la prédiction pour la fenêtre 143: Neither Sparse nor Dense Index : /data/vdb/default/train_sensors/vdb/default_train_sensors_flat_index/metadata. OS reports: No such file or directory No index with this name present on disk\n",
      "Erreur lors de la prédiction pour la fenêtre 144: Neither Sparse nor Dense Index : /data/vdb/default/train_sensors/vdb/default_train_sensors_flat_index/metadata. OS reports: No such file or directory No index with this name present on disk\n"
     ]
    },
    {
     "name": "stderr",
     "output_type": "stream",
     "text": [
      "  0%|                                                                          | 147/329841 [00:21<14:32:42,  6.30it/s]"
     ]
    },
    {
     "name": "stdout",
     "output_type": "stream",
     "text": [
      "Erreur lors de la prédiction pour la fenêtre 145: Neither Sparse nor Dense Index : /data/vdb/default/train_sensors/vdb/default_train_sensors_flat_index/metadata. OS reports: No such file or directory No index with this name present on disk\n",
      "Erreur lors de la prédiction pour la fenêtre 146: Neither Sparse nor Dense Index : /data/vdb/default/train_sensors/vdb/default_train_sensors_flat_index/metadata. OS reports: No such file or directory No index with this name present on disk\n"
     ]
    },
    {
     "name": "stderr",
     "output_type": "stream",
     "text": [
      "  0%|                                                                          | 149/329841 [00:22<13:59:59,  6.54it/s]"
     ]
    },
    {
     "name": "stdout",
     "output_type": "stream",
     "text": [
      "Erreur lors de la prédiction pour la fenêtre 147: Neither Sparse nor Dense Index : /data/vdb/default/train_sensors/vdb/default_train_sensors_flat_index/metadata. OS reports: No such file or directory No index with this name present on disk\n",
      "Erreur lors de la prédiction pour la fenêtre 148: Neither Sparse nor Dense Index : /data/vdb/default/train_sensors/vdb/default_train_sensors_flat_index/metadata. OS reports: No such file or directory No index with this name present on disk\n"
     ]
    },
    {
     "name": "stderr",
     "output_type": "stream",
     "text": [
      "  0%|                                                                          | 151/329841 [00:22<13:38:33,  6.71it/s]"
     ]
    },
    {
     "name": "stdout",
     "output_type": "stream",
     "text": [
      "Erreur lors de la prédiction pour la fenêtre 149: Neither Sparse nor Dense Index : /data/vdb/default/train_sensors/vdb/default_train_sensors_flat_index/metadata. OS reports: No such file or directory No index with this name present on disk\n",
      "Erreur lors de la prédiction pour la fenêtre 150: Neither Sparse nor Dense Index : /data/vdb/default/train_sensors/vdb/default_train_sensors_flat_index/metadata. OS reports: No such file or directory No index with this name present on disk\n"
     ]
    },
    {
     "name": "stderr",
     "output_type": "stream",
     "text": [
      "  0%|                                                                          | 153/329841 [00:22<13:17:16,  6.89it/s]"
     ]
    },
    {
     "name": "stdout",
     "output_type": "stream",
     "text": [
      "Erreur lors de la prédiction pour la fenêtre 151: Neither Sparse nor Dense Index : /data/vdb/default/train_sensors/vdb/default_train_sensors_flat_index/metadata. OS reports: No such file or directory No index with this name present on disk\n",
      "Erreur lors de la prédiction pour la fenêtre 152: Neither Sparse nor Dense Index : /data/vdb/default/train_sensors/vdb/default_train_sensors_flat_index/metadata. OS reports: No such file or directory No index with this name present on disk\n"
     ]
    },
    {
     "name": "stderr",
     "output_type": "stream",
     "text": [
      "  0%|                                                                          | 155/329841 [00:23<13:13:14,  6.93it/s]"
     ]
    },
    {
     "name": "stdout",
     "output_type": "stream",
     "text": [
      "Erreur lors de la prédiction pour la fenêtre 153: Neither Sparse nor Dense Index : /data/vdb/default/train_sensors/vdb/default_train_sensors_flat_index/metadata. OS reports: No such file or directory No index with this name present on disk\n",
      "Erreur lors de la prédiction pour la fenêtre 154: Neither Sparse nor Dense Index : /data/vdb/default/train_sensors/vdb/default_train_sensors_flat_index/metadata. OS reports: No such file or directory No index with this name present on disk\n"
     ]
    },
    {
     "name": "stderr",
     "output_type": "stream",
     "text": [
      "  0%|                                                                          | 157/329841 [00:23<13:09:00,  6.96it/s]"
     ]
    },
    {
     "name": "stdout",
     "output_type": "stream",
     "text": [
      "Erreur lors de la prédiction pour la fenêtre 155: Neither Sparse nor Dense Index : /data/vdb/default/train_sensors/vdb/default_train_sensors_flat_index/metadata. OS reports: No such file or directory No index with this name present on disk\n",
      "Erreur lors de la prédiction pour la fenêtre 156: Neither Sparse nor Dense Index : /data/vdb/default/train_sensors/vdb/default_train_sensors_flat_index/metadata. OS reports: No such file or directory No index with this name present on disk\n"
     ]
    },
    {
     "name": "stderr",
     "output_type": "stream",
     "text": [
      "  0%|                                                                          | 159/329841 [00:23<13:04:08,  7.01it/s]"
     ]
    },
    {
     "name": "stdout",
     "output_type": "stream",
     "text": [
      "Erreur lors de la prédiction pour la fenêtre 157: Neither Sparse nor Dense Index : /data/vdb/default/train_sensors/vdb/default_train_sensors_flat_index/metadata. OS reports: No such file or directory No index with this name present on disk\n",
      "Erreur lors de la prédiction pour la fenêtre 158: Neither Sparse nor Dense Index : /data/vdb/default/train_sensors/vdb/default_train_sensors_flat_index/metadata. OS reports: No such file or directory No index with this name present on disk\n"
     ]
    },
    {
     "name": "stderr",
     "output_type": "stream",
     "text": [
      "  0%|                                                                          | 161/329841 [00:23<13:07:59,  6.97it/s]"
     ]
    },
    {
     "name": "stdout",
     "output_type": "stream",
     "text": [
      "Erreur lors de la prédiction pour la fenêtre 159: Neither Sparse nor Dense Index : /data/vdb/default/train_sensors/vdb/default_train_sensors_flat_index/metadata. OS reports: No such file or directory No index with this name present on disk\n",
      "Erreur lors de la prédiction pour la fenêtre 160: Neither Sparse nor Dense Index : /data/vdb/default/train_sensors/vdb/default_train_sensors_flat_index/metadata. OS reports: No such file or directory No index with this name present on disk\n"
     ]
    },
    {
     "name": "stderr",
     "output_type": "stream",
     "text": [
      "  0%|                                                                          | 163/329841 [00:24<13:13:21,  6.93it/s]"
     ]
    },
    {
     "name": "stdout",
     "output_type": "stream",
     "text": [
      "Erreur lors de la prédiction pour la fenêtre 161: Neither Sparse nor Dense Index : /data/vdb/default/train_sensors/vdb/default_train_sensors_flat_index/metadata. OS reports: No such file or directory No index with this name present on disk\n",
      "Erreur lors de la prédiction pour la fenêtre 162: Neither Sparse nor Dense Index : /data/vdb/default/train_sensors/vdb/default_train_sensors_flat_index/metadata. OS reports: No such file or directory No index with this name present on disk\n"
     ]
    },
    {
     "name": "stderr",
     "output_type": "stream",
     "text": [
      "  0%|                                                                          | 165/329841 [00:24<13:21:23,  6.86it/s]"
     ]
    },
    {
     "name": "stdout",
     "output_type": "stream",
     "text": [
      "Erreur lors de la prédiction pour la fenêtre 163: Neither Sparse nor Dense Index : /data/vdb/default/train_sensors/vdb/default_train_sensors_flat_index/metadata. OS reports: No such file or directory No index with this name present on disk\n",
      "Erreur lors de la prédiction pour la fenêtre 164: Neither Sparse nor Dense Index : /data/vdb/default/train_sensors/vdb/default_train_sensors_flat_index/metadata. OS reports: No such file or directory No index with this name present on disk\n"
     ]
    },
    {
     "name": "stderr",
     "output_type": "stream",
     "text": [
      "  0%|                                                                          | 167/329841 [00:24<13:23:31,  6.84it/s]"
     ]
    },
    {
     "name": "stdout",
     "output_type": "stream",
     "text": [
      "Erreur lors de la prédiction pour la fenêtre 165: Neither Sparse nor Dense Index : /data/vdb/default/train_sensors/vdb/default_train_sensors_flat_index/metadata. OS reports: No such file or directory No index with this name present on disk\n",
      "Erreur lors de la prédiction pour la fenêtre 166: Neither Sparse nor Dense Index : /data/vdb/default/train_sensors/vdb/default_train_sensors_flat_index/metadata. OS reports: No such file or directory No index with this name present on disk\n"
     ]
    },
    {
     "name": "stderr",
     "output_type": "stream",
     "text": [
      "  0%|                                                                          | 169/329841 [00:25<13:18:56,  6.88it/s]"
     ]
    },
    {
     "name": "stdout",
     "output_type": "stream",
     "text": [
      "Erreur lors de la prédiction pour la fenêtre 167: Neither Sparse nor Dense Index : /data/vdb/default/train_sensors/vdb/default_train_sensors_flat_index/metadata. OS reports: No such file or directory No index with this name present on disk\n",
      "Erreur lors de la prédiction pour la fenêtre 168: Neither Sparse nor Dense Index : /data/vdb/default/train_sensors/vdb/default_train_sensors_flat_index/metadata. OS reports: No such file or directory No index with this name present on disk\n"
     ]
    },
    {
     "name": "stderr",
     "output_type": "stream",
     "text": [
      "  0%|                                                                          | 171/329841 [00:25<13:24:43,  6.83it/s]"
     ]
    },
    {
     "name": "stdout",
     "output_type": "stream",
     "text": [
      "Erreur lors de la prédiction pour la fenêtre 169: Neither Sparse nor Dense Index : /data/vdb/default/train_sensors/vdb/default_train_sensors_flat_index/metadata. OS reports: No such file or directory No index with this name present on disk\n",
      "Erreur lors de la prédiction pour la fenêtre 170: Neither Sparse nor Dense Index : /data/vdb/default/train_sensors/vdb/default_train_sensors_flat_index/metadata. OS reports: No such file or directory No index with this name present on disk\n"
     ]
    },
    {
     "name": "stderr",
     "output_type": "stream",
     "text": [
      "  0%|                                                                          | 173/329841 [00:25<13:12:12,  6.94it/s]"
     ]
    },
    {
     "name": "stdout",
     "output_type": "stream",
     "text": [
      "Erreur lors de la prédiction pour la fenêtre 171: Neither Sparse nor Dense Index : /data/vdb/default/train_sensors/vdb/default_train_sensors_flat_index/metadata. OS reports: No such file or directory No index with this name present on disk\n",
      "Erreur lors de la prédiction pour la fenêtre 172: Neither Sparse nor Dense Index : /data/vdb/default/train_sensors/vdb/default_train_sensors_flat_index/metadata. OS reports: No such file or directory No index with this name present on disk\n"
     ]
    },
    {
     "name": "stderr",
     "output_type": "stream",
     "text": [
      "  0%|                                                                          | 175/329841 [00:25<13:20:20,  6.87it/s]"
     ]
    },
    {
     "name": "stdout",
     "output_type": "stream",
     "text": [
      "Erreur lors de la prédiction pour la fenêtre 173: Neither Sparse nor Dense Index : /data/vdb/default/train_sensors/vdb/default_train_sensors_flat_index/metadata. OS reports: No such file or directory No index with this name present on disk\n",
      "Erreur lors de la prédiction pour la fenêtre 174: Neither Sparse nor Dense Index : /data/vdb/default/train_sensors/vdb/default_train_sensors_flat_index/metadata. OS reports: No such file or directory No index with this name present on disk\n"
     ]
    },
    {
     "name": "stderr",
     "output_type": "stream",
     "text": [
      "  0%|                                                                          | 177/329841 [00:26<13:22:23,  6.85it/s]"
     ]
    },
    {
     "name": "stdout",
     "output_type": "stream",
     "text": [
      "Erreur lors de la prédiction pour la fenêtre 175: Neither Sparse nor Dense Index : /data/vdb/default/train_sensors/vdb/default_train_sensors_flat_index/metadata. OS reports: No such file or directory No index with this name present on disk\n",
      "Erreur lors de la prédiction pour la fenêtre 176: Neither Sparse nor Dense Index : /data/vdb/default/train_sensors/vdb/default_train_sensors_flat_index/metadata. OS reports: No such file or directory No index with this name present on disk\n"
     ]
    },
    {
     "name": "stderr",
     "output_type": "stream",
     "text": [
      "  0%|                                                                          | 179/329841 [00:26<13:18:26,  6.88it/s]"
     ]
    },
    {
     "name": "stdout",
     "output_type": "stream",
     "text": [
      "Erreur lors de la prédiction pour la fenêtre 177: Neither Sparse nor Dense Index : /data/vdb/default/train_sensors/vdb/default_train_sensors_flat_index/metadata. OS reports: No such file or directory No index with this name present on disk\n",
      "Erreur lors de la prédiction pour la fenêtre 178: Neither Sparse nor Dense Index : /data/vdb/default/train_sensors/vdb/default_train_sensors_flat_index/metadata. OS reports: No such file or directory No index with this name present on disk\n"
     ]
    },
    {
     "name": "stderr",
     "output_type": "stream",
     "text": [
      "  0%|                                                                          | 181/329841 [00:26<13:13:27,  6.92it/s]"
     ]
    },
    {
     "name": "stdout",
     "output_type": "stream",
     "text": [
      "Erreur lors de la prédiction pour la fenêtre 179: Neither Sparse nor Dense Index : /data/vdb/default/train_sensors/vdb/default_train_sensors_flat_index/metadata. OS reports: No such file or directory No index with this name present on disk\n",
      "Erreur lors de la prédiction pour la fenêtre 180: Neither Sparse nor Dense Index : /data/vdb/default/train_sensors/vdb/default_train_sensors_flat_index/metadata. OS reports: No such file or directory No index with this name present on disk\n"
     ]
    },
    {
     "name": "stderr",
     "output_type": "stream",
     "text": [
      "  0%|                                                                          | 183/329841 [00:27<13:26:18,  6.81it/s]"
     ]
    },
    {
     "name": "stdout",
     "output_type": "stream",
     "text": [
      "Erreur lors de la prédiction pour la fenêtre 181: Neither Sparse nor Dense Index : /data/vdb/default/train_sensors/vdb/default_train_sensors_flat_index/metadata. OS reports: No such file or directory No index with this name present on disk\n",
      "Erreur lors de la prédiction pour la fenêtre 182: Neither Sparse nor Dense Index : /data/vdb/default/train_sensors/vdb/default_train_sensors_flat_index/metadata. OS reports: No such file or directory No index with this name present on disk\n"
     ]
    },
    {
     "name": "stderr",
     "output_type": "stream",
     "text": [
      "  0%|                                                                          | 185/329841 [00:27<13:22:42,  6.84it/s]"
     ]
    },
    {
     "name": "stdout",
     "output_type": "stream",
     "text": [
      "Erreur lors de la prédiction pour la fenêtre 183: Neither Sparse nor Dense Index : /data/vdb/default/train_sensors/vdb/default_train_sensors_flat_index/metadata. OS reports: No such file or directory No index with this name present on disk\n",
      "Erreur lors de la prédiction pour la fenêtre 184: Neither Sparse nor Dense Index : /data/vdb/default/train_sensors/vdb/default_train_sensors_flat_index/metadata. OS reports: No such file or directory No index with this name present on disk\n"
     ]
    },
    {
     "name": "stderr",
     "output_type": "stream",
     "text": [
      "  0%|                                                                          | 187/329841 [00:27<13:17:38,  6.89it/s]"
     ]
    },
    {
     "name": "stdout",
     "output_type": "stream",
     "text": [
      "Erreur lors de la prédiction pour la fenêtre 185: Neither Sparse nor Dense Index : /data/vdb/default/train_sensors/vdb/default_train_sensors_flat_index/metadata. OS reports: No such file or directory No index with this name present on disk\n",
      "Erreur lors de la prédiction pour la fenêtre 186: Neither Sparse nor Dense Index : /data/vdb/default/train_sensors/vdb/default_train_sensors_flat_index/metadata. OS reports: No such file or directory No index with this name present on disk\n"
     ]
    },
    {
     "name": "stderr",
     "output_type": "stream",
     "text": [
      "  0%|                                                                          | 189/329841 [00:27<13:22:53,  6.84it/s]"
     ]
    },
    {
     "name": "stdout",
     "output_type": "stream",
     "text": [
      "Erreur lors de la prédiction pour la fenêtre 187: Neither Sparse nor Dense Index : /data/vdb/default/train_sensors/vdb/default_train_sensors_flat_index/metadata. OS reports: No such file or directory No index with this name present on disk\n",
      "Erreur lors de la prédiction pour la fenêtre 188: Neither Sparse nor Dense Index : /data/vdb/default/train_sensors/vdb/default_train_sensors_flat_index/metadata. OS reports: No such file or directory No index with this name present on disk\n"
     ]
    },
    {
     "name": "stderr",
     "output_type": "stream",
     "text": [
      "  0%|                                                                          | 191/329841 [00:28<13:25:28,  6.82it/s]"
     ]
    },
    {
     "name": "stdout",
     "output_type": "stream",
     "text": [
      "Erreur lors de la prédiction pour la fenêtre 189: Neither Sparse nor Dense Index : /data/vdb/default/train_sensors/vdb/default_train_sensors_flat_index/metadata. OS reports: No such file or directory No index with this name present on disk\n",
      "Erreur lors de la prédiction pour la fenêtre 190: Neither Sparse nor Dense Index : /data/vdb/default/train_sensors/vdb/default_train_sensors_flat_index/metadata. OS reports: No such file or directory No index with this name present on disk\n"
     ]
    },
    {
     "name": "stderr",
     "output_type": "stream",
     "text": [
      "  0%|                                                                          | 193/329841 [00:28<13:37:55,  6.72it/s]"
     ]
    },
    {
     "name": "stdout",
     "output_type": "stream",
     "text": [
      "Erreur lors de la prédiction pour la fenêtre 191: Neither Sparse nor Dense Index : /data/vdb/default/train_sensors/vdb/default_train_sensors_flat_index/metadata. OS reports: No such file or directory No index with this name present on disk\n",
      "Erreur lors de la prédiction pour la fenêtre 192: Neither Sparse nor Dense Index : /data/vdb/default/train_sensors/vdb/default_train_sensors_flat_index/metadata. OS reports: No such file or directory No index with this name present on disk\n"
     ]
    },
    {
     "name": "stderr",
     "output_type": "stream",
     "text": [
      "  0%|                                                                          | 195/329841 [00:28<13:32:08,  6.76it/s]"
     ]
    },
    {
     "name": "stdout",
     "output_type": "stream",
     "text": [
      "Erreur lors de la prédiction pour la fenêtre 193: Neither Sparse nor Dense Index : /data/vdb/default/train_sensors/vdb/default_train_sensors_flat_index/metadata. OS reports: No such file or directory No index with this name present on disk\n",
      "Erreur lors de la prédiction pour la fenêtre 194: Neither Sparse nor Dense Index : /data/vdb/default/train_sensors/vdb/default_train_sensors_flat_index/metadata. OS reports: No such file or directory No index with this name present on disk\n"
     ]
    },
    {
     "name": "stderr",
     "output_type": "stream",
     "text": [
      "  0%|                                                                          | 197/329841 [00:29<13:50:42,  6.61it/s]"
     ]
    },
    {
     "name": "stdout",
     "output_type": "stream",
     "text": [
      "Erreur lors de la prédiction pour la fenêtre 195: Neither Sparse nor Dense Index : /data/vdb/default/train_sensors/vdb/default_train_sensors_flat_index/metadata. OS reports: No such file or directory No index with this name present on disk\n",
      "Erreur lors de la prédiction pour la fenêtre 196: Neither Sparse nor Dense Index : /data/vdb/default/train_sensors/vdb/default_train_sensors_flat_index/metadata. OS reports: No such file or directory No index with this name present on disk\n"
     ]
    },
    {
     "name": "stderr",
     "output_type": "stream",
     "text": [
      "  0%|                                                                          | 199/329841 [00:29<14:39:11,  6.25it/s]"
     ]
    },
    {
     "name": "stdout",
     "output_type": "stream",
     "text": [
      "Erreur lors de la prédiction pour la fenêtre 197: Neither Sparse nor Dense Index : /data/vdb/default/train_sensors/vdb/default_train_sensors_flat_index/metadata. OS reports: No such file or directory No index with this name present on disk\n",
      "Erreur lors de la prédiction pour la fenêtre 198: Neither Sparse nor Dense Index : /data/vdb/default/train_sensors/vdb/default_train_sensors_flat_index/metadata. OS reports: No such file or directory No index with this name present on disk\n"
     ]
    },
    {
     "name": "stderr",
     "output_type": "stream",
     "text": [
      "  0%|                                                                          | 201/329841 [00:29<13:55:38,  6.57it/s]"
     ]
    },
    {
     "name": "stdout",
     "output_type": "stream",
     "text": [
      "Erreur lors de la prédiction pour la fenêtre 199: Neither Sparse nor Dense Index : /data/vdb/default/train_sensors/vdb/default_train_sensors_flat_index/metadata. OS reports: No such file or directory No index with this name present on disk\n",
      "Erreur lors de la prédiction pour la fenêtre 200: Neither Sparse nor Dense Index : /data/vdb/default/train_sensors/vdb/default_train_sensors_flat_index/metadata. OS reports: No such file or directory No index with this name present on disk\n"
     ]
    },
    {
     "name": "stderr",
     "output_type": "stream",
     "text": [
      "  0%|                                                                          | 203/329841 [00:30<13:31:47,  6.77it/s]"
     ]
    },
    {
     "name": "stdout",
     "output_type": "stream",
     "text": [
      "Erreur lors de la prédiction pour la fenêtre 201: Neither Sparse nor Dense Index : /data/vdb/default/train_sensors/vdb/default_train_sensors_flat_index/metadata. OS reports: No such file or directory No index with this name present on disk\n",
      "Erreur lors de la prédiction pour la fenêtre 202: Neither Sparse nor Dense Index : /data/vdb/default/train_sensors/vdb/default_train_sensors_flat_index/metadata. OS reports: No such file or directory No index with this name present on disk\n"
     ]
    },
    {
     "name": "stderr",
     "output_type": "stream",
     "text": [
      "  0%|                                                                          | 205/329841 [00:30<13:17:11,  6.89it/s]"
     ]
    },
    {
     "name": "stdout",
     "output_type": "stream",
     "text": [
      "Erreur lors de la prédiction pour la fenêtre 203: Neither Sparse nor Dense Index : /data/vdb/default/train_sensors/vdb/default_train_sensors_flat_index/metadata. OS reports: No such file or directory No index with this name present on disk\n",
      "Erreur lors de la prédiction pour la fenêtre 204: Neither Sparse nor Dense Index : /data/vdb/default/train_sensors/vdb/default_train_sensors_flat_index/metadata. OS reports: No such file or directory No index with this name present on disk\n"
     ]
    },
    {
     "name": "stderr",
     "output_type": "stream",
     "text": [
      "  0%|                                                                          | 207/329841 [00:30<13:17:43,  6.89it/s]"
     ]
    },
    {
     "name": "stdout",
     "output_type": "stream",
     "text": [
      "Erreur lors de la prédiction pour la fenêtre 205: Neither Sparse nor Dense Index : /data/vdb/default/train_sensors/vdb/default_train_sensors_flat_index/metadata. OS reports: No such file or directory No index with this name present on disk\n",
      "Erreur lors de la prédiction pour la fenêtre 206: Neither Sparse nor Dense Index : /data/vdb/default/train_sensors/vdb/default_train_sensors_flat_index/metadata. OS reports: No such file or directory No index with this name present on disk\n"
     ]
    },
    {
     "name": "stderr",
     "output_type": "stream",
     "text": [
      "  0%|                                                                          | 209/329841 [00:30<13:18:43,  6.88it/s]"
     ]
    },
    {
     "name": "stdout",
     "output_type": "stream",
     "text": [
      "Erreur lors de la prédiction pour la fenêtre 207: Neither Sparse nor Dense Index : /data/vdb/default/train_sensors/vdb/default_train_sensors_flat_index/metadata. OS reports: No such file or directory No index with this name present on disk\n",
      "Erreur lors de la prédiction pour la fenêtre 208: Neither Sparse nor Dense Index : /data/vdb/default/train_sensors/vdb/default_train_sensors_flat_index/metadata. OS reports: No such file or directory No index with this name present on disk\n"
     ]
    },
    {
     "name": "stderr",
     "output_type": "stream",
     "text": [
      "  0%|                                                                          | 211/329841 [00:31<13:17:29,  6.89it/s]"
     ]
    },
    {
     "name": "stdout",
     "output_type": "stream",
     "text": [
      "Erreur lors de la prédiction pour la fenêtre 209: Neither Sparse nor Dense Index : /data/vdb/default/train_sensors/vdb/default_train_sensors_flat_index/metadata. OS reports: No such file or directory No index with this name present on disk\n",
      "Erreur lors de la prédiction pour la fenêtre 210: Neither Sparse nor Dense Index : /data/vdb/default/train_sensors/vdb/default_train_sensors_flat_index/metadata. OS reports: No such file or directory No index with this name present on disk\n"
     ]
    },
    {
     "name": "stderr",
     "output_type": "stream",
     "text": [
      "  0%|                                                                          | 213/329841 [00:31<13:22:59,  6.84it/s]"
     ]
    },
    {
     "name": "stdout",
     "output_type": "stream",
     "text": [
      "Erreur lors de la prédiction pour la fenêtre 211: Neither Sparse nor Dense Index : /data/vdb/default/train_sensors/vdb/default_train_sensors_flat_index/metadata. OS reports: No such file or directory No index with this name present on disk\n",
      "Erreur lors de la prédiction pour la fenêtre 212: Neither Sparse nor Dense Index : /data/vdb/default/train_sensors/vdb/default_train_sensors_flat_index/metadata. OS reports: No such file or directory No index with this name present on disk\n"
     ]
    },
    {
     "name": "stderr",
     "output_type": "stream",
     "text": [
      "  0%|                                                                          | 215/329841 [00:31<13:41:09,  6.69it/s]"
     ]
    },
    {
     "name": "stdout",
     "output_type": "stream",
     "text": [
      "Erreur lors de la prédiction pour la fenêtre 213: Neither Sparse nor Dense Index : /data/vdb/default/train_sensors/vdb/default_train_sensors_flat_index/metadata. OS reports: No such file or directory No index with this name present on disk\n",
      "Erreur lors de la prédiction pour la fenêtre 214: Neither Sparse nor Dense Index : /data/vdb/default/train_sensors/vdb/default_train_sensors_flat_index/metadata. OS reports: No such file or directory No index with this name present on disk\n"
     ]
    },
    {
     "name": "stderr",
     "output_type": "stream",
     "text": [
      "  0%|                                                                          | 217/329841 [00:32<13:40:27,  6.70it/s]"
     ]
    },
    {
     "name": "stdout",
     "output_type": "stream",
     "text": [
      "Erreur lors de la prédiction pour la fenêtre 215: Neither Sparse nor Dense Index : /data/vdb/default/train_sensors/vdb/default_train_sensors_flat_index/metadata. OS reports: No such file or directory No index with this name present on disk\n",
      "Erreur lors de la prédiction pour la fenêtre 216: Neither Sparse nor Dense Index : /data/vdb/default/train_sensors/vdb/default_train_sensors_flat_index/metadata. OS reports: No such file or directory No index with this name present on disk\n"
     ]
    },
    {
     "name": "stderr",
     "output_type": "stream",
     "text": [
      "  0%|                                                                          | 219/329841 [00:32<13:42:29,  6.68it/s]"
     ]
    },
    {
     "name": "stdout",
     "output_type": "stream",
     "text": [
      "Erreur lors de la prédiction pour la fenêtre 217: Neither Sparse nor Dense Index : /data/vdb/default/train_sensors/vdb/default_train_sensors_flat_index/metadata. OS reports: No such file or directory No index with this name present on disk\n",
      "Erreur lors de la prédiction pour la fenêtre 218: Neither Sparse nor Dense Index : /data/vdb/default/train_sensors/vdb/default_train_sensors_flat_index/metadata. OS reports: No such file or directory No index with this name present on disk\n"
     ]
    },
    {
     "name": "stderr",
     "output_type": "stream",
     "text": [
      "  0%|                                                                          | 221/329841 [00:32<13:40:22,  6.70it/s]"
     ]
    },
    {
     "name": "stdout",
     "output_type": "stream",
     "text": [
      "Erreur lors de la prédiction pour la fenêtre 219: Neither Sparse nor Dense Index : /data/vdb/default/train_sensors/vdb/default_train_sensors_flat_index/metadata. OS reports: No such file or directory No index with this name present on disk\n",
      "Erreur lors de la prédiction pour la fenêtre 220: Neither Sparse nor Dense Index : /data/vdb/default/train_sensors/vdb/default_train_sensors_flat_index/metadata. OS reports: No such file or directory No index with this name present on disk\n"
     ]
    },
    {
     "name": "stderr",
     "output_type": "stream",
     "text": [
      "  0%|                                                                          | 223/329841 [00:33<13:35:33,  6.74it/s]"
     ]
    },
    {
     "name": "stdout",
     "output_type": "stream",
     "text": [
      "Erreur lors de la prédiction pour la fenêtre 221: Neither Sparse nor Dense Index : /data/vdb/default/train_sensors/vdb/default_train_sensors_flat_index/metadata. OS reports: No such file or directory No index with this name present on disk\n",
      "Erreur lors de la prédiction pour la fenêtre 222: Neither Sparse nor Dense Index : /data/vdb/default/train_sensors/vdb/default_train_sensors_flat_index/metadata. OS reports: No such file or directory No index with this name present on disk\n"
     ]
    },
    {
     "name": "stderr",
     "output_type": "stream",
     "text": [
      "  0%|                                                                          | 225/329841 [00:33<13:29:06,  6.79it/s]"
     ]
    },
    {
     "name": "stdout",
     "output_type": "stream",
     "text": [
      "Erreur lors de la prédiction pour la fenêtre 223: Neither Sparse nor Dense Index : /data/vdb/default/train_sensors/vdb/default_train_sensors_flat_index/metadata. OS reports: No such file or directory No index with this name present on disk\n",
      "Erreur lors de la prédiction pour la fenêtre 224: Neither Sparse nor Dense Index : /data/vdb/default/train_sensors/vdb/default_train_sensors_flat_index/metadata. OS reports: No such file or directory No index with this name present on disk\n"
     ]
    },
    {
     "name": "stderr",
     "output_type": "stream",
     "text": [
      "  0%|                                                                          | 227/329841 [00:33<13:39:35,  6.70it/s]"
     ]
    },
    {
     "name": "stdout",
     "output_type": "stream",
     "text": [
      "Erreur lors de la prédiction pour la fenêtre 225: Neither Sparse nor Dense Index : /data/vdb/default/train_sensors/vdb/default_train_sensors_flat_index/metadata. OS reports: No such file or directory No index with this name present on disk\n",
      "Erreur lors de la prédiction pour la fenêtre 226: Neither Sparse nor Dense Index : /data/vdb/default/train_sensors/vdb/default_train_sensors_flat_index/metadata. OS reports: No such file or directory No index with this name present on disk\n"
     ]
    },
    {
     "name": "stderr",
     "output_type": "stream",
     "text": [
      "  0%|                                                                          | 229/329841 [00:33<14:20:19,  6.39it/s]"
     ]
    },
    {
     "name": "stdout",
     "output_type": "stream",
     "text": [
      "Erreur lors de la prédiction pour la fenêtre 227: Neither Sparse nor Dense Index : /data/vdb/default/train_sensors/vdb/default_train_sensors_flat_index/metadata. OS reports: No such file or directory No index with this name present on disk\n",
      "Erreur lors de la prédiction pour la fenêtre 228: Neither Sparse nor Dense Index : /data/vdb/default/train_sensors/vdb/default_train_sensors_flat_index/metadata. OS reports: No such file or directory No index with this name present on disk\n"
     ]
    },
    {
     "name": "stderr",
     "output_type": "stream",
     "text": [
      "  0%|                                                                          | 231/329841 [00:34<13:39:20,  6.70it/s]"
     ]
    },
    {
     "name": "stdout",
     "output_type": "stream",
     "text": [
      "Erreur lors de la prédiction pour la fenêtre 229: Neither Sparse nor Dense Index : /data/vdb/default/train_sensors/vdb/default_train_sensors_flat_index/metadata. OS reports: No such file or directory No index with this name present on disk\n",
      "Erreur lors de la prédiction pour la fenêtre 230: Neither Sparse nor Dense Index : /data/vdb/default/train_sensors/vdb/default_train_sensors_flat_index/metadata. OS reports: No such file or directory No index with this name present on disk\n"
     ]
    },
    {
     "name": "stderr",
     "output_type": "stream",
     "text": [
      "  0%|                                                                          | 233/329841 [00:34<13:39:00,  6.71it/s]"
     ]
    },
    {
     "name": "stdout",
     "output_type": "stream",
     "text": [
      "Erreur lors de la prédiction pour la fenêtre 231: Neither Sparse nor Dense Index : /data/vdb/default/train_sensors/vdb/default_train_sensors_flat_index/metadata. OS reports: No such file or directory No index with this name present on disk\n",
      "Erreur lors de la prédiction pour la fenêtre 232: Neither Sparse nor Dense Index : /data/vdb/default/train_sensors/vdb/default_train_sensors_flat_index/metadata. OS reports: No such file or directory No index with this name present on disk\n"
     ]
    },
    {
     "name": "stderr",
     "output_type": "stream",
     "text": [
      "  0%|                                                                          | 235/329841 [00:34<13:25:54,  6.82it/s]"
     ]
    },
    {
     "name": "stdout",
     "output_type": "stream",
     "text": [
      "Erreur lors de la prédiction pour la fenêtre 233: Neither Sparse nor Dense Index : /data/vdb/default/train_sensors/vdb/default_train_sensors_flat_index/metadata. OS reports: No such file or directory No index with this name present on disk\n",
      "Erreur lors de la prédiction pour la fenêtre 234: Neither Sparse nor Dense Index : /data/vdb/default/train_sensors/vdb/default_train_sensors_flat_index/metadata. OS reports: No such file or directory No index with this name present on disk\n"
     ]
    },
    {
     "name": "stderr",
     "output_type": "stream",
     "text": [
      "\r",
      "  0%|                                                                          | 236/329841 [00:35<14:08:52,  6.47it/s]"
     ]
    },
    {
     "name": "stdout",
     "output_type": "stream",
     "text": [
      "Erreur lors de la prédiction pour la fenêtre 235: Neither Sparse nor Dense Index : /data/vdb/default/train_sensors/vdb/default_train_sensors_flat_index/metadata. OS reports: No such file or directory No index with this name present on disk\n"
     ]
    },
    {
     "name": "stderr",
     "output_type": "stream",
     "text": [
      "  0%|                                                                          | 238/329841 [00:35<15:24:37,  5.94it/s]"
     ]
    },
    {
     "name": "stdout",
     "output_type": "stream",
     "text": [
      "Erreur lors de la prédiction pour la fenêtre 236: Neither Sparse nor Dense Index : /data/vdb/default/train_sensors/vdb/default_train_sensors_flat_index/metadata. OS reports: No such file or directory No index with this name present on disk\n",
      "Erreur lors de la prédiction pour la fenêtre 237: Neither Sparse nor Dense Index : /data/vdb/default/train_sensors/vdb/default_train_sensors_flat_index/metadata. OS reports: No such file or directory No index with this name present on disk\n"
     ]
    },
    {
     "name": "stderr",
     "output_type": "stream",
     "text": [
      "  0%|                                                                          | 240/329841 [00:35<14:08:29,  6.47it/s]"
     ]
    },
    {
     "name": "stdout",
     "output_type": "stream",
     "text": [
      "Erreur lors de la prédiction pour la fenêtre 238: Neither Sparse nor Dense Index : /data/vdb/default/train_sensors/vdb/default_train_sensors_flat_index/metadata. OS reports: No such file or directory No index with this name present on disk\n",
      "Erreur lors de la prédiction pour la fenêtre 239: Neither Sparse nor Dense Index : /data/vdb/default/train_sensors/vdb/default_train_sensors_flat_index/metadata. OS reports: No such file or directory No index with this name present on disk\n"
     ]
    },
    {
     "name": "stderr",
     "output_type": "stream",
     "text": [
      "  0%|                                                                          | 242/329841 [00:35<13:30:55,  6.77it/s]"
     ]
    },
    {
     "name": "stdout",
     "output_type": "stream",
     "text": [
      "Erreur lors de la prédiction pour la fenêtre 240: Neither Sparse nor Dense Index : /data/vdb/default/train_sensors/vdb/default_train_sensors_flat_index/metadata. OS reports: No such file or directory No index with this name present on disk\n",
      "Erreur lors de la prédiction pour la fenêtre 241: Neither Sparse nor Dense Index : /data/vdb/default/train_sensors/vdb/default_train_sensors_flat_index/metadata. OS reports: No such file or directory No index with this name present on disk\n"
     ]
    },
    {
     "name": "stderr",
     "output_type": "stream",
     "text": [
      "  0%|                                                                          | 244/329841 [00:36<13:19:40,  6.87it/s]"
     ]
    },
    {
     "name": "stdout",
     "output_type": "stream",
     "text": [
      "Erreur lors de la prédiction pour la fenêtre 242: Neither Sparse nor Dense Index : /data/vdb/default/train_sensors/vdb/default_train_sensors_flat_index/metadata. OS reports: No such file or directory No index with this name present on disk\n",
      "Erreur lors de la prédiction pour la fenêtre 243: Neither Sparse nor Dense Index : /data/vdb/default/train_sensors/vdb/default_train_sensors_flat_index/metadata. OS reports: No such file or directory No index with this name present on disk\n"
     ]
    },
    {
     "name": "stderr",
     "output_type": "stream",
     "text": [
      "  0%|                                                                          | 246/329841 [00:36<13:18:51,  6.88it/s]"
     ]
    },
    {
     "name": "stdout",
     "output_type": "stream",
     "text": [
      "Erreur lors de la prédiction pour la fenêtre 244: Neither Sparse nor Dense Index : /data/vdb/default/train_sensors/vdb/default_train_sensors_flat_index/metadata. OS reports: No such file or directory No index with this name present on disk\n",
      "Erreur lors de la prédiction pour la fenêtre 245: Neither Sparse nor Dense Index : /data/vdb/default/train_sensors/vdb/default_train_sensors_flat_index/metadata. OS reports: No such file or directory No index with this name present on disk\n"
     ]
    },
    {
     "name": "stderr",
     "output_type": "stream",
     "text": [
      "  0%|                                                                          | 248/329841 [00:36<14:52:39,  6.15it/s]"
     ]
    },
    {
     "name": "stdout",
     "output_type": "stream",
     "text": [
      "Erreur lors de la prédiction pour la fenêtre 246: Neither Sparse nor Dense Index : /data/vdb/default/train_sensors/vdb/default_train_sensors_flat_index/metadata. OS reports: No such file or directory No index with this name present on disk\n",
      "Erreur lors de la prédiction pour la fenêtre 247: Neither Sparse nor Dense Index : /data/vdb/default/train_sensors/vdb/default_train_sensors_flat_index/metadata. OS reports: No such file or directory No index with this name present on disk\n"
     ]
    },
    {
     "name": "stderr",
     "output_type": "stream",
     "text": [
      "  0%|                                                                          | 250/329841 [00:37<13:56:43,  6.57it/s]"
     ]
    },
    {
     "name": "stdout",
     "output_type": "stream",
     "text": [
      "Erreur lors de la prédiction pour la fenêtre 248: Neither Sparse nor Dense Index : /data/vdb/default/train_sensors/vdb/default_train_sensors_flat_index/metadata. OS reports: No such file or directory No index with this name present on disk\n",
      "Erreur lors de la prédiction pour la fenêtre 249: Neither Sparse nor Dense Index : /data/vdb/default/train_sensors/vdb/default_train_sensors_flat_index/metadata. OS reports: No such file or directory No index with this name present on disk\n"
     ]
    },
    {
     "name": "stderr",
     "output_type": "stream",
     "text": [
      "  0%|                                                                          | 252/329841 [00:37<13:28:58,  6.79it/s]"
     ]
    },
    {
     "name": "stdout",
     "output_type": "stream",
     "text": [
      "Erreur lors de la prédiction pour la fenêtre 250: Neither Sparse nor Dense Index : /data/vdb/default/train_sensors/vdb/default_train_sensors_flat_index/metadata. OS reports: No such file or directory No index with this name present on disk\n",
      "Erreur lors de la prédiction pour la fenêtre 251: Neither Sparse nor Dense Index : /data/vdb/default/train_sensors/vdb/default_train_sensors_flat_index/metadata. OS reports: No such file or directory No index with this name present on disk\n"
     ]
    },
    {
     "name": "stderr",
     "output_type": "stream",
     "text": [
      "  0%|                                                                          | 254/329841 [00:37<13:12:33,  6.93it/s]"
     ]
    },
    {
     "name": "stdout",
     "output_type": "stream",
     "text": [
      "Erreur lors de la prédiction pour la fenêtre 252: Neither Sparse nor Dense Index : /data/vdb/default/train_sensors/vdb/default_train_sensors_flat_index/metadata. OS reports: No such file or directory No index with this name present on disk\n",
      "Erreur lors de la prédiction pour la fenêtre 253: Neither Sparse nor Dense Index : /data/vdb/default/train_sensors/vdb/default_train_sensors_flat_index/metadata. OS reports: No such file or directory No index with this name present on disk\n"
     ]
    },
    {
     "name": "stderr",
     "output_type": "stream",
     "text": [
      "  0%|                                                                          | 256/329841 [00:38<13:06:23,  6.99it/s]"
     ]
    },
    {
     "name": "stdout",
     "output_type": "stream",
     "text": [
      "Erreur lors de la prédiction pour la fenêtre 254: Neither Sparse nor Dense Index : /data/vdb/default/train_sensors/vdb/default_train_sensors_flat_index/metadata. OS reports: No such file or directory No index with this name present on disk\n",
      "Erreur lors de la prédiction pour la fenêtre 255: Neither Sparse nor Dense Index : /data/vdb/default/train_sensors/vdb/default_train_sensors_flat_index/metadata. OS reports: No such file or directory No index with this name present on disk\n"
     ]
    },
    {
     "name": "stderr",
     "output_type": "stream",
     "text": [
      "  0%|                                                                          | 258/329841 [00:38<13:01:10,  7.03it/s]"
     ]
    },
    {
     "name": "stdout",
     "output_type": "stream",
     "text": [
      "Erreur lors de la prédiction pour la fenêtre 256: Neither Sparse nor Dense Index : /data/vdb/default/train_sensors/vdb/default_train_sensors_flat_index/metadata. OS reports: No such file or directory No index with this name present on disk\n",
      "Erreur lors de la prédiction pour la fenêtre 257: Neither Sparse nor Dense Index : /data/vdb/default/train_sensors/vdb/default_train_sensors_flat_index/metadata. OS reports: No such file or directory No index with this name present on disk\n"
     ]
    },
    {
     "name": "stderr",
     "output_type": "stream",
     "text": [
      "  0%|                                                                          | 260/329841 [00:38<13:06:38,  6.98it/s]"
     ]
    },
    {
     "name": "stdout",
     "output_type": "stream",
     "text": [
      "Erreur lors de la prédiction pour la fenêtre 258: Neither Sparse nor Dense Index : /data/vdb/default/train_sensors/vdb/default_train_sensors_flat_index/metadata. OS reports: No such file or directory No index with this name present on disk\n",
      "Erreur lors de la prédiction pour la fenêtre 259: Neither Sparse nor Dense Index : /data/vdb/default/train_sensors/vdb/default_train_sensors_flat_index/metadata. OS reports: No such file or directory No index with this name present on disk\n"
     ]
    },
    {
     "name": "stderr",
     "output_type": "stream",
     "text": [
      "  0%|                                                                          | 262/329841 [00:38<13:14:40,  6.91it/s]"
     ]
    },
    {
     "name": "stdout",
     "output_type": "stream",
     "text": [
      "Erreur lors de la prédiction pour la fenêtre 260: Neither Sparse nor Dense Index : /data/vdb/default/train_sensors/vdb/default_train_sensors_flat_index/metadata. OS reports: No such file or directory No index with this name present on disk\n",
      "Erreur lors de la prédiction pour la fenêtre 261: Neither Sparse nor Dense Index : /data/vdb/default/train_sensors/vdb/default_train_sensors_flat_index/metadata. OS reports: No such file or directory No index with this name present on disk\n"
     ]
    },
    {
     "name": "stderr",
     "output_type": "stream",
     "text": [
      "  0%|                                                                          | 264/329841 [00:39<13:14:11,  6.92it/s]"
     ]
    },
    {
     "name": "stdout",
     "output_type": "stream",
     "text": [
      "Erreur lors de la prédiction pour la fenêtre 262: Neither Sparse nor Dense Index : /data/vdb/default/train_sensors/vdb/default_train_sensors_flat_index/metadata. OS reports: No such file or directory No index with this name present on disk\n",
      "Erreur lors de la prédiction pour la fenêtre 263: Neither Sparse nor Dense Index : /data/vdb/default/train_sensors/vdb/default_train_sensors_flat_index/metadata. OS reports: No such file or directory No index with this name present on disk\n"
     ]
    },
    {
     "name": "stderr",
     "output_type": "stream",
     "text": [
      "  0%|                                                                          | 266/329841 [00:39<13:13:00,  6.93it/s]"
     ]
    },
    {
     "name": "stdout",
     "output_type": "stream",
     "text": [
      "Erreur lors de la prédiction pour la fenêtre 264: Neither Sparse nor Dense Index : /data/vdb/default/train_sensors/vdb/default_train_sensors_flat_index/metadata. OS reports: No such file or directory No index with this name present on disk\n",
      "Erreur lors de la prédiction pour la fenêtre 265: Neither Sparse nor Dense Index : /data/vdb/default/train_sensors/vdb/default_train_sensors_flat_index/metadata. OS reports: No such file or directory No index with this name present on disk\n"
     ]
    },
    {
     "name": "stderr",
     "output_type": "stream",
     "text": [
      "  0%|                                                                          | 268/329841 [00:39<13:10:02,  6.95it/s]"
     ]
    },
    {
     "name": "stdout",
     "output_type": "stream",
     "text": [
      "Erreur lors de la prédiction pour la fenêtre 266: Neither Sparse nor Dense Index : /data/vdb/default/train_sensors/vdb/default_train_sensors_flat_index/metadata. OS reports: No such file or directory No index with this name present on disk\n",
      "Erreur lors de la prédiction pour la fenêtre 267: Neither Sparse nor Dense Index : /data/vdb/default/train_sensors/vdb/default_train_sensors_flat_index/metadata. OS reports: No such file or directory No index with this name present on disk\n"
     ]
    },
    {
     "name": "stderr",
     "output_type": "stream",
     "text": [
      "  0%|                                                                          | 270/329841 [00:40<13:06:55,  6.98it/s]"
     ]
    },
    {
     "name": "stdout",
     "output_type": "stream",
     "text": [
      "Erreur lors de la prédiction pour la fenêtre 268: Neither Sparse nor Dense Index : /data/vdb/default/train_sensors/vdb/default_train_sensors_flat_index/metadata. OS reports: No such file or directory No index with this name present on disk\n",
      "Erreur lors de la prédiction pour la fenêtre 269: Neither Sparse nor Dense Index : /data/vdb/default/train_sensors/vdb/default_train_sensors_flat_index/metadata. OS reports: No such file or directory No index with this name present on disk\n"
     ]
    },
    {
     "name": "stderr",
     "output_type": "stream",
     "text": [
      "  0%|                                                                          | 272/329841 [00:40<13:03:36,  7.01it/s]"
     ]
    },
    {
     "name": "stdout",
     "output_type": "stream",
     "text": [
      "Erreur lors de la prédiction pour la fenêtre 270: Neither Sparse nor Dense Index : /data/vdb/default/train_sensors/vdb/default_train_sensors_flat_index/metadata. OS reports: No such file or directory No index with this name present on disk\n",
      "Erreur lors de la prédiction pour la fenêtre 271: Neither Sparse nor Dense Index : /data/vdb/default/train_sensors/vdb/default_train_sensors_flat_index/metadata. OS reports: No such file or directory No index with this name present on disk\n"
     ]
    },
    {
     "name": "stderr",
     "output_type": "stream",
     "text": [
      "  0%|                                                                          | 274/329841 [00:40<13:03:52,  7.01it/s]"
     ]
    },
    {
     "name": "stdout",
     "output_type": "stream",
     "text": [
      "Erreur lors de la prédiction pour la fenêtre 272: Neither Sparse nor Dense Index : /data/vdb/default/train_sensors/vdb/default_train_sensors_flat_index/metadata. OS reports: No such file or directory No index with this name present on disk\n",
      "Erreur lors de la prédiction pour la fenêtre 273: Neither Sparse nor Dense Index : /data/vdb/default/train_sensors/vdb/default_train_sensors_flat_index/metadata. OS reports: No such file or directory No index with this name present on disk\n"
     ]
    },
    {
     "name": "stderr",
     "output_type": "stream",
     "text": [
      "  0%|                                                                          | 276/329841 [00:40<13:42:14,  6.68it/s]"
     ]
    },
    {
     "name": "stdout",
     "output_type": "stream",
     "text": [
      "Erreur lors de la prédiction pour la fenêtre 274: Neither Sparse nor Dense Index : /data/vdb/default/train_sensors/vdb/default_train_sensors_flat_index/metadata. OS reports: No such file or directory No index with this name present on disk\n",
      "Erreur lors de la prédiction pour la fenêtre 275: Neither Sparse nor Dense Index : /data/vdb/default/train_sensors/vdb/default_train_sensors_flat_index/metadata. OS reports: No such file or directory No index with this name present on disk\n"
     ]
    },
    {
     "name": "stderr",
     "output_type": "stream",
     "text": [
      "  0%|                                                                          | 278/329841 [00:41<13:25:01,  6.82it/s]"
     ]
    },
    {
     "name": "stdout",
     "output_type": "stream",
     "text": [
      "Erreur lors de la prédiction pour la fenêtre 276: Neither Sparse nor Dense Index : /data/vdb/default/train_sensors/vdb/default_train_sensors_flat_index/metadata. OS reports: No such file or directory No index with this name present on disk\n",
      "Erreur lors de la prédiction pour la fenêtre 277: Neither Sparse nor Dense Index : /data/vdb/default/train_sensors/vdb/default_train_sensors_flat_index/metadata. OS reports: No such file or directory No index with this name present on disk\n"
     ]
    },
    {
     "name": "stderr",
     "output_type": "stream",
     "text": [
      "  0%|                                                                          | 280/329841 [00:41<13:31:50,  6.77it/s]"
     ]
    },
    {
     "name": "stdout",
     "output_type": "stream",
     "text": [
      "Erreur lors de la prédiction pour la fenêtre 278: Neither Sparse nor Dense Index : /data/vdb/default/train_sensors/vdb/default_train_sensors_flat_index/metadata. OS reports: No such file or directory No index with this name present on disk\n",
      "Erreur lors de la prédiction pour la fenêtre 279: Neither Sparse nor Dense Index : /data/vdb/default/train_sensors/vdb/default_train_sensors_flat_index/metadata. OS reports: No such file or directory No index with this name present on disk\n"
     ]
    },
    {
     "name": "stderr",
     "output_type": "stream",
     "text": [
      "  0%|                                                                          | 282/329841 [00:41<13:35:52,  6.73it/s]"
     ]
    },
    {
     "name": "stdout",
     "output_type": "stream",
     "text": [
      "Erreur lors de la prédiction pour la fenêtre 280: Neither Sparse nor Dense Index : /data/vdb/default/train_sensors/vdb/default_train_sensors_flat_index/metadata. OS reports: No such file or directory No index with this name present on disk\n",
      "Erreur lors de la prédiction pour la fenêtre 281: Neither Sparse nor Dense Index : /data/vdb/default/train_sensors/vdb/default_train_sensors_flat_index/metadata. OS reports: No such file or directory No index with this name present on disk\n"
     ]
    },
    {
     "name": "stderr",
     "output_type": "stream",
     "text": [
      "  0%|                                                                          | 284/329841 [00:42<13:31:51,  6.77it/s]"
     ]
    },
    {
     "name": "stdout",
     "output_type": "stream",
     "text": [
      "Erreur lors de la prédiction pour la fenêtre 282: Neither Sparse nor Dense Index : /data/vdb/default/train_sensors/vdb/default_train_sensors_flat_index/metadata. OS reports: No such file or directory No index with this name present on disk\n",
      "Erreur lors de la prédiction pour la fenêtre 283: Neither Sparse nor Dense Index : /data/vdb/default/train_sensors/vdb/default_train_sensors_flat_index/metadata. OS reports: No such file or directory No index with this name present on disk\n"
     ]
    },
    {
     "name": "stderr",
     "output_type": "stream",
     "text": [
      "  0%|                                                                          | 286/329841 [00:42<13:35:05,  6.74it/s]"
     ]
    },
    {
     "name": "stdout",
     "output_type": "stream",
     "text": [
      "Erreur lors de la prédiction pour la fenêtre 284: Neither Sparse nor Dense Index : /data/vdb/default/train_sensors/vdb/default_train_sensors_flat_index/metadata. OS reports: No such file or directory No index with this name present on disk\n",
      "Erreur lors de la prédiction pour la fenêtre 285: Neither Sparse nor Dense Index : /data/vdb/default/train_sensors/vdb/default_train_sensors_flat_index/metadata. OS reports: No such file or directory No index with this name present on disk\n"
     ]
    },
    {
     "name": "stderr",
     "output_type": "stream",
     "text": [
      "  0%|                                                                          | 288/329841 [00:42<13:34:35,  6.74it/s]"
     ]
    },
    {
     "name": "stdout",
     "output_type": "stream",
     "text": [
      "Erreur lors de la prédiction pour la fenêtre 286: Neither Sparse nor Dense Index : /data/vdb/default/train_sensors/vdb/default_train_sensors_flat_index/metadata. OS reports: No such file or directory No index with this name present on disk\n",
      "Erreur lors de la prédiction pour la fenêtre 287: Neither Sparse nor Dense Index : /data/vdb/default/train_sensors/vdb/default_train_sensors_flat_index/metadata. OS reports: No such file or directory No index with this name present on disk\n"
     ]
    },
    {
     "name": "stderr",
     "output_type": "stream",
     "text": [
      "  0%|                                                                          | 290/329841 [00:42<13:25:09,  6.82it/s]"
     ]
    },
    {
     "name": "stdout",
     "output_type": "stream",
     "text": [
      "Erreur lors de la prédiction pour la fenêtre 288: Neither Sparse nor Dense Index : /data/vdb/default/train_sensors/vdb/default_train_sensors_flat_index/metadata. OS reports: No such file or directory No index with this name present on disk\n",
      "Erreur lors de la prédiction pour la fenêtre 289: Neither Sparse nor Dense Index : /data/vdb/default/train_sensors/vdb/default_train_sensors_flat_index/metadata. OS reports: No such file or directory No index with this name present on disk\n"
     ]
    },
    {
     "name": "stderr",
     "output_type": "stream",
     "text": [
      "  0%|                                                                          | 292/329841 [00:43<13:15:47,  6.90it/s]"
     ]
    },
    {
     "name": "stdout",
     "output_type": "stream",
     "text": [
      "Erreur lors de la prédiction pour la fenêtre 290: Neither Sparse nor Dense Index : /data/vdb/default/train_sensors/vdb/default_train_sensors_flat_index/metadata. OS reports: No such file or directory No index with this name present on disk\n",
      "Erreur lors de la prédiction pour la fenêtre 291: Neither Sparse nor Dense Index : /data/vdb/default/train_sensors/vdb/default_train_sensors_flat_index/metadata. OS reports: No such file or directory No index with this name present on disk\n"
     ]
    },
    {
     "name": "stderr",
     "output_type": "stream",
     "text": [
      "  0%|                                                                          | 294/329841 [00:43<13:18:25,  6.88it/s]"
     ]
    },
    {
     "name": "stdout",
     "output_type": "stream",
     "text": [
      "Erreur lors de la prédiction pour la fenêtre 292: Neither Sparse nor Dense Index : /data/vdb/default/train_sensors/vdb/default_train_sensors_flat_index/metadata. OS reports: No such file or directory No index with this name present on disk\n",
      "Erreur lors de la prédiction pour la fenêtre 293: Neither Sparse nor Dense Index : /data/vdb/default/train_sensors/vdb/default_train_sensors_flat_index/metadata. OS reports: No such file or directory No index with this name present on disk\n"
     ]
    },
    {
     "name": "stderr",
     "output_type": "stream",
     "text": [
      "  0%|                                                                          | 296/329841 [00:43<13:13:50,  6.92it/s]"
     ]
    },
    {
     "name": "stdout",
     "output_type": "stream",
     "text": [
      "Erreur lors de la prédiction pour la fenêtre 294: Neither Sparse nor Dense Index : /data/vdb/default/train_sensors/vdb/default_train_sensors_flat_index/metadata. OS reports: No such file or directory No index with this name present on disk\n",
      "Erreur lors de la prédiction pour la fenêtre 295: Neither Sparse nor Dense Index : /data/vdb/default/train_sensors/vdb/default_train_sensors_flat_index/metadata. OS reports: No such file or directory No index with this name present on disk\n"
     ]
    },
    {
     "name": "stderr",
     "output_type": "stream",
     "text": [
      "  0%|                                                                          | 298/329841 [00:44<13:08:08,  6.97it/s]"
     ]
    },
    {
     "name": "stdout",
     "output_type": "stream",
     "text": [
      "Erreur lors de la prédiction pour la fenêtre 296: Neither Sparse nor Dense Index : /data/vdb/default/train_sensors/vdb/default_train_sensors_flat_index/metadata. OS reports: No such file or directory No index with this name present on disk\n",
      "Erreur lors de la prédiction pour la fenêtre 297: Neither Sparse nor Dense Index : /data/vdb/default/train_sensors/vdb/default_train_sensors_flat_index/metadata. OS reports: No such file or directory No index with this name present on disk\n"
     ]
    },
    {
     "name": "stderr",
     "output_type": "stream",
     "text": [
      "  0%|                                                                          | 300/329841 [00:44<13:18:55,  6.87it/s]"
     ]
    },
    {
     "name": "stdout",
     "output_type": "stream",
     "text": [
      "Erreur lors de la prédiction pour la fenêtre 298: Neither Sparse nor Dense Index : /data/vdb/default/train_sensors/vdb/default_train_sensors_flat_index/metadata. OS reports: No such file or directory No index with this name present on disk\n",
      "Erreur lors de la prédiction pour la fenêtre 299: Neither Sparse nor Dense Index : /data/vdb/default/train_sensors/vdb/default_train_sensors_flat_index/metadata. OS reports: No such file or directory No index with this name present on disk\n"
     ]
    },
    {
     "name": "stderr",
     "output_type": "stream",
     "text": [
      "  0%|                                                                          | 302/329841 [00:44<13:40:26,  6.69it/s]"
     ]
    },
    {
     "name": "stdout",
     "output_type": "stream",
     "text": [
      "Erreur lors de la prédiction pour la fenêtre 300: Neither Sparse nor Dense Index : /data/vdb/default/train_sensors/vdb/default_train_sensors_flat_index/metadata. OS reports: No such file or directory No index with this name present on disk\n",
      "Erreur lors de la prédiction pour la fenêtre 301: Neither Sparse nor Dense Index : /data/vdb/default/train_sensors/vdb/default_train_sensors_flat_index/metadata. OS reports: No such file or directory No index with this name present on disk\n"
     ]
    },
    {
     "name": "stderr",
     "output_type": "stream",
     "text": [
      "  0%|                                                                          | 304/329841 [00:44<13:23:10,  6.84it/s]"
     ]
    },
    {
     "name": "stdout",
     "output_type": "stream",
     "text": [
      "Erreur lors de la prédiction pour la fenêtre 302: Neither Sparse nor Dense Index : /data/vdb/default/train_sensors/vdb/default_train_sensors_flat_index/metadata. OS reports: No such file or directory No index with this name present on disk\n",
      "Erreur lors de la prédiction pour la fenêtre 303: Neither Sparse nor Dense Index : /data/vdb/default/train_sensors/vdb/default_train_sensors_flat_index/metadata. OS reports: No such file or directory No index with this name present on disk\n"
     ]
    },
    {
     "name": "stderr",
     "output_type": "stream",
     "text": [
      "  0%|                                                                          | 306/329841 [00:45<13:38:37,  6.71it/s]"
     ]
    },
    {
     "name": "stdout",
     "output_type": "stream",
     "text": [
      "Erreur lors de la prédiction pour la fenêtre 304: Neither Sparse nor Dense Index : /data/vdb/default/train_sensors/vdb/default_train_sensors_flat_index/metadata. OS reports: No such file or directory No index with this name present on disk\n",
      "Erreur lors de la prédiction pour la fenêtre 305: Neither Sparse nor Dense Index : /data/vdb/default/train_sensors/vdb/default_train_sensors_flat_index/metadata. OS reports: No such file or directory No index with this name present on disk\n"
     ]
    },
    {
     "name": "stderr",
     "output_type": "stream",
     "text": [
      "  0%|                                                                          | 308/329841 [00:45<13:42:14,  6.68it/s]"
     ]
    },
    {
     "name": "stdout",
     "output_type": "stream",
     "text": [
      "Erreur lors de la prédiction pour la fenêtre 306: Neither Sparse nor Dense Index : /data/vdb/default/train_sensors/vdb/default_train_sensors_flat_index/metadata. OS reports: No such file or directory No index with this name present on disk\n",
      "Erreur lors de la prédiction pour la fenêtre 307: Neither Sparse nor Dense Index : /data/vdb/default/train_sensors/vdb/default_train_sensors_flat_index/metadata. OS reports: No such file or directory No index with this name present on disk\n"
     ]
    },
    {
     "name": "stderr",
     "output_type": "stream",
     "text": [
      "  0%|                                                                          | 310/329841 [00:45<13:34:04,  6.75it/s]"
     ]
    },
    {
     "name": "stdout",
     "output_type": "stream",
     "text": [
      "Erreur lors de la prédiction pour la fenêtre 308: Neither Sparse nor Dense Index : /data/vdb/default/train_sensors/vdb/default_train_sensors_flat_index/metadata. OS reports: No such file or directory No index with this name present on disk\n",
      "Erreur lors de la prédiction pour la fenêtre 309: Neither Sparse nor Dense Index : /data/vdb/default/train_sensors/vdb/default_train_sensors_flat_index/metadata. OS reports: No such file or directory No index with this name present on disk\n"
     ]
    },
    {
     "name": "stderr",
     "output_type": "stream",
     "text": [
      "  0%|                                                                          | 312/329841 [00:46<13:45:28,  6.65it/s]"
     ]
    },
    {
     "name": "stdout",
     "output_type": "stream",
     "text": [
      "Erreur lors de la prédiction pour la fenêtre 310: Neither Sparse nor Dense Index : /data/vdb/default/train_sensors/vdb/default_train_sensors_flat_index/metadata. OS reports: No such file or directory No index with this name present on disk\n",
      "Erreur lors de la prédiction pour la fenêtre 311: Neither Sparse nor Dense Index : /data/vdb/default/train_sensors/vdb/default_train_sensors_flat_index/metadata. OS reports: No such file or directory No index with this name present on disk\n"
     ]
    },
    {
     "name": "stderr",
     "output_type": "stream",
     "text": [
      "  0%|                                                                          | 314/329841 [00:46<13:48:43,  6.63it/s]"
     ]
    },
    {
     "name": "stdout",
     "output_type": "stream",
     "text": [
      "Erreur lors de la prédiction pour la fenêtre 312: Neither Sparse nor Dense Index : /data/vdb/default/train_sensors/vdb/default_train_sensors_flat_index/metadata. OS reports: No such file or directory No index with this name present on disk\n",
      "Erreur lors de la prédiction pour la fenêtre 313: Neither Sparse nor Dense Index : /data/vdb/default/train_sensors/vdb/default_train_sensors_flat_index/metadata. OS reports: No such file or directory No index with this name present on disk\n"
     ]
    },
    {
     "name": "stderr",
     "output_type": "stream",
     "text": [
      "  0%|                                                                          | 316/329841 [00:46<13:58:35,  6.55it/s]"
     ]
    },
    {
     "name": "stdout",
     "output_type": "stream",
     "text": [
      "Erreur lors de la prédiction pour la fenêtre 314: Neither Sparse nor Dense Index : /data/vdb/default/train_sensors/vdb/default_train_sensors_flat_index/metadata. OS reports: No such file or directory No index with this name present on disk\n",
      "Erreur lors de la prédiction pour la fenêtre 315: Neither Sparse nor Dense Index : /data/vdb/default/train_sensors/vdb/default_train_sensors_flat_index/metadata. OS reports: No such file or directory No index with this name present on disk\n"
     ]
    },
    {
     "name": "stderr",
     "output_type": "stream",
     "text": [
      "  0%|                                                                          | 318/329841 [00:47<13:49:19,  6.62it/s]"
     ]
    },
    {
     "name": "stdout",
     "output_type": "stream",
     "text": [
      "Erreur lors de la prédiction pour la fenêtre 316: Neither Sparse nor Dense Index : /data/vdb/default/train_sensors/vdb/default_train_sensors_flat_index/metadata. OS reports: No such file or directory No index with this name present on disk\n",
      "Erreur lors de la prédiction pour la fenêtre 317: Neither Sparse nor Dense Index : /data/vdb/default/train_sensors/vdb/default_train_sensors_flat_index/metadata. OS reports: No such file or directory No index with this name present on disk\n"
     ]
    },
    {
     "name": "stderr",
     "output_type": "stream",
     "text": [
      "  0%|                                                                          | 320/329841 [00:47<13:38:59,  6.71it/s]"
     ]
    },
    {
     "name": "stdout",
     "output_type": "stream",
     "text": [
      "Erreur lors de la prédiction pour la fenêtre 318: Neither Sparse nor Dense Index : /data/vdb/default/train_sensors/vdb/default_train_sensors_flat_index/metadata. OS reports: No such file or directory No index with this name present on disk\n",
      "Erreur lors de la prédiction pour la fenêtre 319: Neither Sparse nor Dense Index : /data/vdb/default/train_sensors/vdb/default_train_sensors_flat_index/metadata. OS reports: No such file or directory No index with this name present on disk\n"
     ]
    },
    {
     "name": "stderr",
     "output_type": "stream",
     "text": [
      "  0%|                                                                          | 322/329841 [00:47<13:43:50,  6.67it/s]"
     ]
    },
    {
     "name": "stdout",
     "output_type": "stream",
     "text": [
      "Erreur lors de la prédiction pour la fenêtre 320: Neither Sparse nor Dense Index : /data/vdb/default/train_sensors/vdb/default_train_sensors_flat_index/metadata. OS reports: No such file or directory No index with this name present on disk\n",
      "Erreur lors de la prédiction pour la fenêtre 321: Neither Sparse nor Dense Index : /data/vdb/default/train_sensors/vdb/default_train_sensors_flat_index/metadata. OS reports: No such file or directory No index with this name present on disk\n"
     ]
    },
    {
     "name": "stderr",
     "output_type": "stream",
     "text": [
      "  0%|                                                                          | 324/329841 [00:47<13:23:31,  6.83it/s]"
     ]
    },
    {
     "name": "stdout",
     "output_type": "stream",
     "text": [
      "Erreur lors de la prédiction pour la fenêtre 322: Neither Sparse nor Dense Index : /data/vdb/default/train_sensors/vdb/default_train_sensors_flat_index/metadata. OS reports: No such file or directory No index with this name present on disk\n",
      "Erreur lors de la prédiction pour la fenêtre 323: Neither Sparse nor Dense Index : /data/vdb/default/train_sensors/vdb/default_train_sensors_flat_index/metadata. OS reports: No such file or directory No index with this name present on disk\n"
     ]
    },
    {
     "name": "stderr",
     "output_type": "stream",
     "text": [
      "  0%|                                                                          | 326/329841 [00:48<13:12:44,  6.93it/s]"
     ]
    },
    {
     "name": "stdout",
     "output_type": "stream",
     "text": [
      "Erreur lors de la prédiction pour la fenêtre 324: Neither Sparse nor Dense Index : /data/vdb/default/train_sensors/vdb/default_train_sensors_flat_index/metadata. OS reports: No such file or directory No index with this name present on disk\n",
      "Erreur lors de la prédiction pour la fenêtre 325: Neither Sparse nor Dense Index : /data/vdb/default/train_sensors/vdb/default_train_sensors_flat_index/metadata. OS reports: No such file or directory No index with this name present on disk\n"
     ]
    },
    {
     "name": "stderr",
     "output_type": "stream",
     "text": [
      "  0%|                                                                          | 328/329841 [00:48<13:30:52,  6.77it/s]"
     ]
    },
    {
     "name": "stdout",
     "output_type": "stream",
     "text": [
      "Erreur lors de la prédiction pour la fenêtre 326: Neither Sparse nor Dense Index : /data/vdb/default/train_sensors/vdb/default_train_sensors_flat_index/metadata. OS reports: No such file or directory No index with this name present on disk\n",
      "Erreur lors de la prédiction pour la fenêtre 327: Neither Sparse nor Dense Index : /data/vdb/default/train_sensors/vdb/default_train_sensors_flat_index/metadata. OS reports: No such file or directory No index with this name present on disk\n"
     ]
    },
    {
     "name": "stderr",
     "output_type": "stream",
     "text": [
      "  0%|                                                                          | 330/329841 [00:48<13:33:36,  6.75it/s]"
     ]
    },
    {
     "name": "stdout",
     "output_type": "stream",
     "text": [
      "Erreur lors de la prédiction pour la fenêtre 328: Neither Sparse nor Dense Index : /data/vdb/default/train_sensors/vdb/default_train_sensors_flat_index/metadata. OS reports: No such file or directory No index with this name present on disk\n",
      "Erreur lors de la prédiction pour la fenêtre 329: Neither Sparse nor Dense Index : /data/vdb/default/train_sensors/vdb/default_train_sensors_flat_index/metadata. OS reports: No such file or directory No index with this name present on disk\n"
     ]
    },
    {
     "name": "stderr",
     "output_type": "stream",
     "text": [
      "  0%|                                                                          | 332/329841 [00:49<13:18:14,  6.88it/s]"
     ]
    },
    {
     "name": "stdout",
     "output_type": "stream",
     "text": [
      "Erreur lors de la prédiction pour la fenêtre 330: Neither Sparse nor Dense Index : /data/vdb/default/train_sensors/vdb/default_train_sensors_flat_index/metadata. OS reports: No such file or directory No index with this name present on disk\n",
      "Erreur lors de la prédiction pour la fenêtre 331: Neither Sparse nor Dense Index : /data/vdb/default/train_sensors/vdb/default_train_sensors_flat_index/metadata. OS reports: No such file or directory No index with this name present on disk\n"
     ]
    },
    {
     "name": "stderr",
     "output_type": "stream",
     "text": [
      "  0%|                                                                          | 334/329841 [00:49<13:11:28,  6.94it/s]"
     ]
    },
    {
     "name": "stdout",
     "output_type": "stream",
     "text": [
      "Erreur lors de la prédiction pour la fenêtre 332: Neither Sparse nor Dense Index : /data/vdb/default/train_sensors/vdb/default_train_sensors_flat_index/metadata. OS reports: No such file or directory No index with this name present on disk\n",
      "Erreur lors de la prédiction pour la fenêtre 333: Neither Sparse nor Dense Index : /data/vdb/default/train_sensors/vdb/default_train_sensors_flat_index/metadata. OS reports: No such file or directory No index with this name present on disk\n"
     ]
    },
    {
     "name": "stderr",
     "output_type": "stream",
     "text": [
      "  0%|                                                                          | 336/329841 [00:49<13:03:08,  7.01it/s]"
     ]
    },
    {
     "name": "stdout",
     "output_type": "stream",
     "text": [
      "Erreur lors de la prédiction pour la fenêtre 334: Neither Sparse nor Dense Index : /data/vdb/default/train_sensors/vdb/default_train_sensors_flat_index/metadata. OS reports: No such file or directory No index with this name present on disk\n",
      "Erreur lors de la prédiction pour la fenêtre 335: Neither Sparse nor Dense Index : /data/vdb/default/train_sensors/vdb/default_train_sensors_flat_index/metadata. OS reports: No such file or directory No index with this name present on disk\n"
     ]
    },
    {
     "name": "stderr",
     "output_type": "stream",
     "text": [
      "  0%|                                                                          | 338/329841 [00:50<13:08:33,  6.96it/s]"
     ]
    },
    {
     "name": "stdout",
     "output_type": "stream",
     "text": [
      "Erreur lors de la prédiction pour la fenêtre 336: Neither Sparse nor Dense Index : /data/vdb/default/train_sensors/vdb/default_train_sensors_flat_index/metadata. OS reports: No such file or directory No index with this name present on disk\n",
      "Erreur lors de la prédiction pour la fenêtre 337: Neither Sparse nor Dense Index : /data/vdb/default/train_sensors/vdb/default_train_sensors_flat_index/metadata. OS reports: No such file or directory No index with this name present on disk\n"
     ]
    },
    {
     "name": "stderr",
     "output_type": "stream",
     "text": [
      "  0%|                                                                          | 340/329841 [00:50<13:09:09,  6.96it/s]"
     ]
    },
    {
     "name": "stdout",
     "output_type": "stream",
     "text": [
      "Erreur lors de la prédiction pour la fenêtre 338: Neither Sparse nor Dense Index : /data/vdb/default/train_sensors/vdb/default_train_sensors_flat_index/metadata. OS reports: No such file or directory No index with this name present on disk\n",
      "Erreur lors de la prédiction pour la fenêtre 339: Neither Sparse nor Dense Index : /data/vdb/default/train_sensors/vdb/default_train_sensors_flat_index/metadata. OS reports: No such file or directory No index with this name present on disk\n"
     ]
    },
    {
     "name": "stderr",
     "output_type": "stream",
     "text": [
      "  0%|                                                                          | 342/329841 [00:50<13:12:55,  6.93it/s]"
     ]
    },
    {
     "name": "stdout",
     "output_type": "stream",
     "text": [
      "Erreur lors de la prédiction pour la fenêtre 340: Neither Sparse nor Dense Index : /data/vdb/default/train_sensors/vdb/default_train_sensors_flat_index/metadata. OS reports: No such file or directory No index with this name present on disk\n",
      "Erreur lors de la prédiction pour la fenêtre 341: Neither Sparse nor Dense Index : /data/vdb/default/train_sensors/vdb/default_train_sensors_flat_index/metadata. OS reports: No such file or directory No index with this name present on disk\n"
     ]
    },
    {
     "name": "stderr",
     "output_type": "stream",
     "text": [
      "  0%|                                                                          | 344/329841 [00:50<13:22:05,  6.85it/s]"
     ]
    },
    {
     "name": "stdout",
     "output_type": "stream",
     "text": [
      "Erreur lors de la prédiction pour la fenêtre 342: Neither Sparse nor Dense Index : /data/vdb/default/train_sensors/vdb/default_train_sensors_flat_index/metadata. OS reports: No such file or directory No index with this name present on disk\n",
      "Erreur lors de la prédiction pour la fenêtre 343: Neither Sparse nor Dense Index : /data/vdb/default/train_sensors/vdb/default_train_sensors_flat_index/metadata. OS reports: No such file or directory No index with this name present on disk\n"
     ]
    },
    {
     "name": "stderr",
     "output_type": "stream",
     "text": [
      "  0%|                                                                          | 346/329841 [00:51<13:30:42,  6.77it/s]"
     ]
    },
    {
     "name": "stdout",
     "output_type": "stream",
     "text": [
      "Erreur lors de la prédiction pour la fenêtre 344: Neither Sparse nor Dense Index : /data/vdb/default/train_sensors/vdb/default_train_sensors_flat_index/metadata. OS reports: No such file or directory No index with this name present on disk\n",
      "Erreur lors de la prédiction pour la fenêtre 345: Neither Sparse nor Dense Index : /data/vdb/default/train_sensors/vdb/default_train_sensors_flat_index/metadata. OS reports: No such file or directory No index with this name present on disk\n"
     ]
    },
    {
     "name": "stderr",
     "output_type": "stream",
     "text": [
      "  0%|                                                                          | 348/329841 [00:51<13:37:51,  6.71it/s]"
     ]
    },
    {
     "name": "stdout",
     "output_type": "stream",
     "text": [
      "Erreur lors de la prédiction pour la fenêtre 346: Neither Sparse nor Dense Index : /data/vdb/default/train_sensors/vdb/default_train_sensors_flat_index/metadata. OS reports: No such file or directory No index with this name present on disk\n",
      "Erreur lors de la prédiction pour la fenêtre 347: Neither Sparse nor Dense Index : /data/vdb/default/train_sensors/vdb/default_train_sensors_flat_index/metadata. OS reports: No such file or directory No index with this name present on disk\n"
     ]
    },
    {
     "name": "stderr",
     "output_type": "stream",
     "text": [
      "  0%|                                                                          | 350/329841 [00:51<14:28:08,  6.33it/s]"
     ]
    },
    {
     "name": "stdout",
     "output_type": "stream",
     "text": [
      "Erreur lors de la prédiction pour la fenêtre 348: Neither Sparse nor Dense Index : /data/vdb/default/train_sensors/vdb/default_train_sensors_flat_index/metadata. OS reports: No such file or directory No index with this name present on disk\n",
      "Erreur lors de la prédiction pour la fenêtre 349: Neither Sparse nor Dense Index : /data/vdb/default/train_sensors/vdb/default_train_sensors_flat_index/metadata. OS reports: No such file or directory No index with this name present on disk\n"
     ]
    },
    {
     "name": "stderr",
     "output_type": "stream",
     "text": [
      "  0%|                                                                          | 352/329841 [00:52<13:43:03,  6.67it/s]"
     ]
    },
    {
     "name": "stdout",
     "output_type": "stream",
     "text": [
      "Erreur lors de la prédiction pour la fenêtre 350: Neither Sparse nor Dense Index : /data/vdb/default/train_sensors/vdb/default_train_sensors_flat_index/metadata. OS reports: No such file or directory No index with this name present on disk\n",
      "Erreur lors de la prédiction pour la fenêtre 351: Neither Sparse nor Dense Index : /data/vdb/default/train_sensors/vdb/default_train_sensors_flat_index/metadata. OS reports: No such file or directory No index with this name present on disk\n"
     ]
    },
    {
     "name": "stderr",
     "output_type": "stream",
     "text": [
      "  0%|                                                                          | 354/329841 [00:52<13:53:46,  6.59it/s]"
     ]
    },
    {
     "name": "stdout",
     "output_type": "stream",
     "text": [
      "Erreur lors de la prédiction pour la fenêtre 352: Neither Sparse nor Dense Index : /data/vdb/default/train_sensors/vdb/default_train_sensors_flat_index/metadata. OS reports: No such file or directory No index with this name present on disk\n",
      "Erreur lors de la prédiction pour la fenêtre 353: Neither Sparse nor Dense Index : /data/vdb/default/train_sensors/vdb/default_train_sensors_flat_index/metadata. OS reports: No such file or directory No index with this name present on disk\n"
     ]
    },
    {
     "name": "stderr",
     "output_type": "stream",
     "text": [
      "  0%|                                                                          | 356/329841 [00:52<14:38:02,  6.25it/s]"
     ]
    },
    {
     "name": "stdout",
     "output_type": "stream",
     "text": [
      "Erreur lors de la prédiction pour la fenêtre 354: Neither Sparse nor Dense Index : /data/vdb/default/train_sensors/vdb/default_train_sensors_flat_index/metadata. OS reports: No such file or directory No index with this name present on disk\n",
      "Erreur lors de la prédiction pour la fenêtre 355: Neither Sparse nor Dense Index : /data/vdb/default/train_sensors/vdb/default_train_sensors_flat_index/metadata. OS reports: No such file or directory No index with this name present on disk\n"
     ]
    },
    {
     "name": "stderr",
     "output_type": "stream",
     "text": [
      "  0%|                                                                          | 358/329841 [00:53<14:18:09,  6.40it/s]"
     ]
    },
    {
     "name": "stdout",
     "output_type": "stream",
     "text": [
      "Erreur lors de la prédiction pour la fenêtre 356: Neither Sparse nor Dense Index : /data/vdb/default/train_sensors/vdb/default_train_sensors_flat_index/metadata. OS reports: No such file or directory No index with this name present on disk\n",
      "Erreur lors de la prédiction pour la fenêtre 357: Neither Sparse nor Dense Index : /data/vdb/default/train_sensors/vdb/default_train_sensors_flat_index/metadata. OS reports: No such file or directory No index with this name present on disk\n"
     ]
    },
    {
     "name": "stderr",
     "output_type": "stream",
     "text": [
      "  0%|                                                                          | 360/329841 [00:53<13:50:51,  6.61it/s]"
     ]
    },
    {
     "name": "stdout",
     "output_type": "stream",
     "text": [
      "Erreur lors de la prédiction pour la fenêtre 358: Neither Sparse nor Dense Index : /data/vdb/default/train_sensors/vdb/default_train_sensors_flat_index/metadata. OS reports: No such file or directory No index with this name present on disk\n",
      "Erreur lors de la prédiction pour la fenêtre 359: Neither Sparse nor Dense Index : /data/vdb/default/train_sensors/vdb/default_train_sensors_flat_index/metadata. OS reports: No such file or directory No index with this name present on disk\n"
     ]
    },
    {
     "name": "stderr",
     "output_type": "stream",
     "text": [
      "  0%|                                                                          | 362/329841 [00:53<13:29:21,  6.78it/s]"
     ]
    },
    {
     "name": "stdout",
     "output_type": "stream",
     "text": [
      "Erreur lors de la prédiction pour la fenêtre 360: Neither Sparse nor Dense Index : /data/vdb/default/train_sensors/vdb/default_train_sensors_flat_index/metadata. OS reports: No such file or directory No index with this name present on disk\n",
      "Erreur lors de la prédiction pour la fenêtre 361: Neither Sparse nor Dense Index : /data/vdb/default/train_sensors/vdb/default_train_sensors_flat_index/metadata. OS reports: No such file or directory No index with this name present on disk\n"
     ]
    },
    {
     "name": "stderr",
     "output_type": "stream",
     "text": [
      "\r",
      "  0%|                                                                          | 363/329841 [00:53<13:52:23,  6.60it/s]"
     ]
    },
    {
     "name": "stdout",
     "output_type": "stream",
     "text": [
      "Erreur lors de la prédiction pour la fenêtre 362: Neither Sparse nor Dense Index : /data/vdb/default/train_sensors/vdb/default_train_sensors_flat_index/metadata. OS reports: No such file or directory No index with this name present on disk\n"
     ]
    },
    {
     "name": "stderr",
     "output_type": "stream",
     "text": [
      "  0%|                                                                          | 365/329841 [00:54<15:07:32,  6.05it/s]"
     ]
    },
    {
     "name": "stdout",
     "output_type": "stream",
     "text": [
      "Erreur lors de la prédiction pour la fenêtre 363: Neither Sparse nor Dense Index : /data/vdb/default/train_sensors/vdb/default_train_sensors_flat_index/metadata. OS reports: No such file or directory No index with this name present on disk\n",
      "Erreur lors de la prédiction pour la fenêtre 364: Neither Sparse nor Dense Index : /data/vdb/default/train_sensors/vdb/default_train_sensors_flat_index/metadata. OS reports: No such file or directory No index with this name present on disk\n"
     ]
    },
    {
     "name": "stderr",
     "output_type": "stream",
     "text": [
      "  0%|                                                                          | 367/329841 [00:54<14:33:58,  6.28it/s]"
     ]
    },
    {
     "name": "stdout",
     "output_type": "stream",
     "text": [
      "Erreur lors de la prédiction pour la fenêtre 365: Neither Sparse nor Dense Index : /data/vdb/default/train_sensors/vdb/default_train_sensors_flat_index/metadata. OS reports: No such file or directory No index with this name present on disk\n",
      "Erreur lors de la prédiction pour la fenêtre 366: Neither Sparse nor Dense Index : /data/vdb/default/train_sensors/vdb/default_train_sensors_flat_index/metadata. OS reports: No such file or directory No index with this name present on disk\n"
     ]
    },
    {
     "name": "stderr",
     "output_type": "stream",
     "text": [
      "  0%|                                                                          | 369/329841 [00:54<14:12:12,  6.44it/s]"
     ]
    },
    {
     "name": "stdout",
     "output_type": "stream",
     "text": [
      "Erreur lors de la prédiction pour la fenêtre 367: Neither Sparse nor Dense Index : /data/vdb/default/train_sensors/vdb/default_train_sensors_flat_index/metadata. OS reports: No such file or directory No index with this name present on disk\n",
      "Erreur lors de la prédiction pour la fenêtre 368: Neither Sparse nor Dense Index : /data/vdb/default/train_sensors/vdb/default_train_sensors_flat_index/metadata. OS reports: No such file or directory No index with this name present on disk\n"
     ]
    },
    {
     "name": "stderr",
     "output_type": "stream",
     "text": [
      "  0%|                                                                          | 371/329841 [00:55<13:44:01,  6.66it/s]"
     ]
    },
    {
     "name": "stdout",
     "output_type": "stream",
     "text": [
      "Erreur lors de la prédiction pour la fenêtre 369: Neither Sparse nor Dense Index : /data/vdb/default/train_sensors/vdb/default_train_sensors_flat_index/metadata. OS reports: No such file or directory No index with this name present on disk\n",
      "Erreur lors de la prédiction pour la fenêtre 370: Neither Sparse nor Dense Index : /data/vdb/default/train_sensors/vdb/default_train_sensors_flat_index/metadata. OS reports: No such file or directory No index with this name present on disk\n"
     ]
    },
    {
     "name": "stderr",
     "output_type": "stream",
     "text": [
      "  0%|                                                                          | 373/329841 [00:55<13:57:58,  6.55it/s]"
     ]
    },
    {
     "name": "stdout",
     "output_type": "stream",
     "text": [
      "Erreur lors de la prédiction pour la fenêtre 371: Neither Sparse nor Dense Index : /data/vdb/default/train_sensors/vdb/default_train_sensors_flat_index/metadata. OS reports: No such file or directory No index with this name present on disk\n",
      "Erreur lors de la prédiction pour la fenêtre 372: Neither Sparse nor Dense Index : /data/vdb/default/train_sensors/vdb/default_train_sensors_flat_index/metadata. OS reports: No such file or directory No index with this name present on disk\n"
     ]
    },
    {
     "name": "stderr",
     "output_type": "stream",
     "text": [
      "  0%|                                                                          | 375/329841 [00:55<15:21:27,  5.96it/s]"
     ]
    },
    {
     "name": "stdout",
     "output_type": "stream",
     "text": [
      "Erreur lors de la prédiction pour la fenêtre 373: Neither Sparse nor Dense Index : /data/vdb/default/train_sensors/vdb/default_train_sensors_flat_index/metadata. OS reports: No such file or directory No index with this name present on disk\n",
      "Erreur lors de la prédiction pour la fenêtre 374: Neither Sparse nor Dense Index : /data/vdb/default/train_sensors/vdb/default_train_sensors_flat_index/metadata. OS reports: No such file or directory No index with this name present on disk\n"
     ]
    },
    {
     "name": "stderr",
     "output_type": "stream",
     "text": [
      "  0%|                                                                          | 377/329841 [00:56<14:35:28,  6.27it/s]"
     ]
    },
    {
     "name": "stdout",
     "output_type": "stream",
     "text": [
      "Erreur lors de la prédiction pour la fenêtre 375: Neither Sparse nor Dense Index : /data/vdb/default/train_sensors/vdb/default_train_sensors_flat_index/metadata. OS reports: No such file or directory No index with this name present on disk\n",
      "Erreur lors de la prédiction pour la fenêtre 376: Neither Sparse nor Dense Index : /data/vdb/default/train_sensors/vdb/default_train_sensors_flat_index/metadata. OS reports: No such file or directory No index with this name present on disk\n"
     ]
    },
    {
     "name": "stderr",
     "output_type": "stream",
     "text": [
      "  0%|                                                                          | 379/329841 [00:56<13:58:56,  6.55it/s]"
     ]
    },
    {
     "name": "stdout",
     "output_type": "stream",
     "text": [
      "Erreur lors de la prédiction pour la fenêtre 377: Neither Sparse nor Dense Index : /data/vdb/default/train_sensors/vdb/default_train_sensors_flat_index/metadata. OS reports: No such file or directory No index with this name present on disk\n",
      "Erreur lors de la prédiction pour la fenêtre 378: Neither Sparse nor Dense Index : /data/vdb/default/train_sensors/vdb/default_train_sensors_flat_index/metadata. OS reports: No such file or directory No index with this name present on disk\n"
     ]
    },
    {
     "name": "stderr",
     "output_type": "stream",
     "text": [
      "  0%|                                                                          | 381/329841 [00:56<13:40:40,  6.69it/s]"
     ]
    },
    {
     "name": "stdout",
     "output_type": "stream",
     "text": [
      "Erreur lors de la prédiction pour la fenêtre 379: Neither Sparse nor Dense Index : /data/vdb/default/train_sensors/vdb/default_train_sensors_flat_index/metadata. OS reports: No such file or directory No index with this name present on disk\n",
      "Erreur lors de la prédiction pour la fenêtre 380: Neither Sparse nor Dense Index : /data/vdb/default/train_sensors/vdb/default_train_sensors_flat_index/metadata. OS reports: No such file or directory No index with this name present on disk\n"
     ]
    },
    {
     "name": "stderr",
     "output_type": "stream",
     "text": [
      "  0%|                                                                          | 383/329841 [00:56<13:49:27,  6.62it/s]"
     ]
    },
    {
     "name": "stdout",
     "output_type": "stream",
     "text": [
      "Erreur lors de la prédiction pour la fenêtre 381: Neither Sparse nor Dense Index : /data/vdb/default/train_sensors/vdb/default_train_sensors_flat_index/metadata. OS reports: No such file or directory No index with this name present on disk\n",
      "Erreur lors de la prédiction pour la fenêtre 382: Neither Sparse nor Dense Index : /data/vdb/default/train_sensors/vdb/default_train_sensors_flat_index/metadata. OS reports: No such file or directory No index with this name present on disk\n"
     ]
    },
    {
     "name": "stderr",
     "output_type": "stream",
     "text": [
      "  0%|                                                                          | 385/329841 [00:57<14:20:46,  6.38it/s]"
     ]
    },
    {
     "name": "stdout",
     "output_type": "stream",
     "text": [
      "Erreur lors de la prédiction pour la fenêtre 383: Neither Sparse nor Dense Index : /data/vdb/default/train_sensors/vdb/default_train_sensors_flat_index/metadata. OS reports: No such file or directory No index with this name present on disk\n",
      "Erreur lors de la prédiction pour la fenêtre 384: Neither Sparse nor Dense Index : /data/vdb/default/train_sensors/vdb/default_train_sensors_flat_index/metadata. OS reports: No such file or directory No index with this name present on disk\n"
     ]
    },
    {
     "name": "stderr",
     "output_type": "stream",
     "text": [
      "  0%|                                                                          | 387/329841 [00:57<14:08:54,  6.47it/s]"
     ]
    },
    {
     "name": "stdout",
     "output_type": "stream",
     "text": [
      "Erreur lors de la prédiction pour la fenêtre 385: Neither Sparse nor Dense Index : /data/vdb/default/train_sensors/vdb/default_train_sensors_flat_index/metadata. OS reports: No such file or directory No index with this name present on disk\n",
      "Erreur lors de la prédiction pour la fenêtre 386: Neither Sparse nor Dense Index : /data/vdb/default/train_sensors/vdb/default_train_sensors_flat_index/metadata. OS reports: No such file or directory No index with this name present on disk\n"
     ]
    },
    {
     "name": "stderr",
     "output_type": "stream",
     "text": [
      "  0%|                                                                          | 389/329841 [00:57<14:18:53,  6.39it/s]"
     ]
    },
    {
     "name": "stdout",
     "output_type": "stream",
     "text": [
      "Erreur lors de la prédiction pour la fenêtre 387: Neither Sparse nor Dense Index : /data/vdb/default/train_sensors/vdb/default_train_sensors_flat_index/metadata. OS reports: No such file or directory No index with this name present on disk\n",
      "Erreur lors de la prédiction pour la fenêtre 388: Neither Sparse nor Dense Index : /data/vdb/default/train_sensors/vdb/default_train_sensors_flat_index/metadata. OS reports: No such file or directory No index with this name present on disk\n"
     ]
    },
    {
     "name": "stderr",
     "output_type": "stream",
     "text": [
      "  0%|                                                                          | 391/329841 [00:58<14:39:06,  6.25it/s]"
     ]
    },
    {
     "name": "stdout",
     "output_type": "stream",
     "text": [
      "Erreur lors de la prédiction pour la fenêtre 389: Neither Sparse nor Dense Index : /data/vdb/default/train_sensors/vdb/default_train_sensors_flat_index/metadata. OS reports: No such file or directory No index with this name present on disk\n",
      "Erreur lors de la prédiction pour la fenêtre 390: Neither Sparse nor Dense Index : /data/vdb/default/train_sensors/vdb/default_train_sensors_flat_index/metadata. OS reports: No such file or directory No index with this name present on disk\n"
     ]
    },
    {
     "name": "stderr",
     "output_type": "stream",
     "text": [
      "  0%|                                                                          | 393/329841 [00:58<14:02:40,  6.52it/s]"
     ]
    },
    {
     "name": "stdout",
     "output_type": "stream",
     "text": [
      "Erreur lors de la prédiction pour la fenêtre 391: Neither Sparse nor Dense Index : /data/vdb/default/train_sensors/vdb/default_train_sensors_flat_index/metadata. OS reports: No such file or directory No index with this name present on disk\n",
      "Erreur lors de la prédiction pour la fenêtre 392: Neither Sparse nor Dense Index : /data/vdb/default/train_sensors/vdb/default_train_sensors_flat_index/metadata. OS reports: No such file or directory No index with this name present on disk\n"
     ]
    },
    {
     "name": "stderr",
     "output_type": "stream",
     "text": [
      "  0%|                                                                          | 395/329841 [00:58<14:24:18,  6.35it/s]"
     ]
    },
    {
     "name": "stdout",
     "output_type": "stream",
     "text": [
      "Erreur lors de la prédiction pour la fenêtre 393: Neither Sparse nor Dense Index : /data/vdb/default/train_sensors/vdb/default_train_sensors_flat_index/metadata. OS reports: No such file or directory No index with this name present on disk\n",
      "Erreur lors de la prédiction pour la fenêtre 394: Neither Sparse nor Dense Index : /data/vdb/default/train_sensors/vdb/default_train_sensors_flat_index/metadata. OS reports: No such file or directory No index with this name present on disk\n"
     ]
    },
    {
     "name": "stderr",
     "output_type": "stream",
     "text": [
      "  0%|                                                                          | 397/329841 [00:59<14:01:31,  6.52it/s]"
     ]
    },
    {
     "name": "stdout",
     "output_type": "stream",
     "text": [
      "Erreur lors de la prédiction pour la fenêtre 395: Neither Sparse nor Dense Index : /data/vdb/default/train_sensors/vdb/default_train_sensors_flat_index/metadata. OS reports: No such file or directory No index with this name present on disk\n",
      "Erreur lors de la prédiction pour la fenêtre 396: Neither Sparse nor Dense Index : /data/vdb/default/train_sensors/vdb/default_train_sensors_flat_index/metadata. OS reports: No such file or directory No index with this name present on disk\n"
     ]
    },
    {
     "name": "stderr",
     "output_type": "stream",
     "text": [
      "  0%|                                                                          | 399/329841 [00:59<14:22:13,  6.37it/s]"
     ]
    },
    {
     "name": "stdout",
     "output_type": "stream",
     "text": [
      "Erreur lors de la prédiction pour la fenêtre 397: Neither Sparse nor Dense Index : /data/vdb/default/train_sensors/vdb/default_train_sensors_flat_index/metadata. OS reports: No such file or directory No index with this name present on disk\n",
      "Erreur lors de la prédiction pour la fenêtre 398: Neither Sparse nor Dense Index : /data/vdb/default/train_sensors/vdb/default_train_sensors_flat_index/metadata. OS reports: No such file or directory No index with this name present on disk\n"
     ]
    },
    {
     "name": "stderr",
     "output_type": "stream",
     "text": [
      "  0%|                                                                          | 401/329841 [00:59<14:04:24,  6.50it/s]"
     ]
    },
    {
     "name": "stdout",
     "output_type": "stream",
     "text": [
      "Erreur lors de la prédiction pour la fenêtre 399: Neither Sparse nor Dense Index : /data/vdb/default/train_sensors/vdb/default_train_sensors_flat_index/metadata. OS reports: No such file or directory No index with this name present on disk\n",
      "Erreur lors de la prédiction pour la fenêtre 400: Neither Sparse nor Dense Index : /data/vdb/default/train_sensors/vdb/default_train_sensors_flat_index/metadata. OS reports: No such file or directory No index with this name present on disk\n"
     ]
    },
    {
     "name": "stderr",
     "output_type": "stream",
     "text": [
      "  0%|                                                                          | 403/329841 [01:00<13:42:32,  6.68it/s]"
     ]
    },
    {
     "name": "stdout",
     "output_type": "stream",
     "text": [
      "Erreur lors de la prédiction pour la fenêtre 401: Neither Sparse nor Dense Index : /data/vdb/default/train_sensors/vdb/default_train_sensors_flat_index/metadata. OS reports: No such file or directory No index with this name present on disk\n",
      "Erreur lors de la prédiction pour la fenêtre 402: Neither Sparse nor Dense Index : /data/vdb/default/train_sensors/vdb/default_train_sensors_flat_index/metadata. OS reports: No such file or directory No index with this name present on disk\n"
     ]
    },
    {
     "name": "stderr",
     "output_type": "stream",
     "text": [
      "  0%|                                                                          | 405/329841 [01:00<13:37:42,  6.71it/s]"
     ]
    },
    {
     "name": "stdout",
     "output_type": "stream",
     "text": [
      "Erreur lors de la prédiction pour la fenêtre 403: Neither Sparse nor Dense Index : /data/vdb/default/train_sensors/vdb/default_train_sensors_flat_index/metadata. OS reports: No such file or directory No index with this name present on disk\n",
      "Erreur lors de la prédiction pour la fenêtre 404: Neither Sparse nor Dense Index : /data/vdb/default/train_sensors/vdb/default_train_sensors_flat_index/metadata. OS reports: No such file or directory No index with this name present on disk\n"
     ]
    },
    {
     "name": "stderr",
     "output_type": "stream",
     "text": [
      "  0%|                                                                          | 407/329841 [01:00<13:28:36,  6.79it/s]"
     ]
    },
    {
     "name": "stdout",
     "output_type": "stream",
     "text": [
      "Erreur lors de la prédiction pour la fenêtre 405: Neither Sparse nor Dense Index : /data/vdb/default/train_sensors/vdb/default_train_sensors_flat_index/metadata. OS reports: No such file or directory No index with this name present on disk\n",
      "Erreur lors de la prédiction pour la fenêtre 406: Neither Sparse nor Dense Index : /data/vdb/default/train_sensors/vdb/default_train_sensors_flat_index/metadata. OS reports: No such file or directory No index with this name present on disk\n"
     ]
    },
    {
     "name": "stderr",
     "output_type": "stream",
     "text": [
      "  0%|                                                                          | 409/329841 [01:00<13:17:05,  6.89it/s]"
     ]
    },
    {
     "name": "stdout",
     "output_type": "stream",
     "text": [
      "Erreur lors de la prédiction pour la fenêtre 407: Neither Sparse nor Dense Index : /data/vdb/default/train_sensors/vdb/default_train_sensors_flat_index/metadata. OS reports: No such file or directory No index with this name present on disk\n",
      "Erreur lors de la prédiction pour la fenêtre 408: Neither Sparse nor Dense Index : /data/vdb/default/train_sensors/vdb/default_train_sensors_flat_index/metadata. OS reports: No such file or directory No index with this name present on disk\n"
     ]
    },
    {
     "name": "stderr",
     "output_type": "stream",
     "text": [
      "  0%|                                                                          | 411/329841 [01:01<13:33:30,  6.75it/s]"
     ]
    },
    {
     "name": "stdout",
     "output_type": "stream",
     "text": [
      "Erreur lors de la prédiction pour la fenêtre 409: Neither Sparse nor Dense Index : /data/vdb/default/train_sensors/vdb/default_train_sensors_flat_index/metadata. OS reports: No such file or directory No index with this name present on disk\n",
      "Erreur lors de la prédiction pour la fenêtre 410: Neither Sparse nor Dense Index : /data/vdb/default/train_sensors/vdb/default_train_sensors_flat_index/metadata. OS reports: No such file or directory No index with this name present on disk\n"
     ]
    },
    {
     "name": "stderr",
     "output_type": "stream",
     "text": [
      "  0%|                                                                          | 413/329841 [01:01<13:36:22,  6.73it/s]"
     ]
    },
    {
     "name": "stdout",
     "output_type": "stream",
     "text": [
      "Erreur lors de la prédiction pour la fenêtre 411: Neither Sparse nor Dense Index : /data/vdb/default/train_sensors/vdb/default_train_sensors_flat_index/metadata. OS reports: No such file or directory No index with this name present on disk\n",
      "Erreur lors de la prédiction pour la fenêtre 412: Neither Sparse nor Dense Index : /data/vdb/default/train_sensors/vdb/default_train_sensors_flat_index/metadata. OS reports: No such file or directory No index with this name present on disk\n"
     ]
    },
    {
     "name": "stderr",
     "output_type": "stream",
     "text": [
      "  0%|                                                                          | 415/329841 [01:01<13:29:57,  6.78it/s]"
     ]
    },
    {
     "name": "stdout",
     "output_type": "stream",
     "text": [
      "Erreur lors de la prédiction pour la fenêtre 413: Neither Sparse nor Dense Index : /data/vdb/default/train_sensors/vdb/default_train_sensors_flat_index/metadata. OS reports: No such file or directory No index with this name present on disk\n",
      "Erreur lors de la prédiction pour la fenêtre 414: Neither Sparse nor Dense Index : /data/vdb/default/train_sensors/vdb/default_train_sensors_flat_index/metadata. OS reports: No such file or directory No index with this name present on disk\n"
     ]
    },
    {
     "name": "stderr",
     "output_type": "stream",
     "text": [
      "  0%|                                                                          | 417/329841 [01:02<13:32:05,  6.76it/s]"
     ]
    },
    {
     "name": "stdout",
     "output_type": "stream",
     "text": [
      "Erreur lors de la prédiction pour la fenêtre 415: Neither Sparse nor Dense Index : /data/vdb/default/train_sensors/vdb/default_train_sensors_flat_index/metadata. OS reports: No such file or directory No index with this name present on disk\n",
      "Erreur lors de la prédiction pour la fenêtre 416: Neither Sparse nor Dense Index : /data/vdb/default/train_sensors/vdb/default_train_sensors_flat_index/metadata. OS reports: No such file or directory No index with this name present on disk\n"
     ]
    },
    {
     "name": "stderr",
     "output_type": "stream",
     "text": [
      "  0%|                                                                          | 419/329841 [01:02<13:21:14,  6.85it/s]"
     ]
    },
    {
     "name": "stdout",
     "output_type": "stream",
     "text": [
      "Erreur lors de la prédiction pour la fenêtre 417: Neither Sparse nor Dense Index : /data/vdb/default/train_sensors/vdb/default_train_sensors_flat_index/metadata. OS reports: No such file or directory No index with this name present on disk\n",
      "Erreur lors de la prédiction pour la fenêtre 418: Neither Sparse nor Dense Index : /data/vdb/default/train_sensors/vdb/default_train_sensors_flat_index/metadata. OS reports: No such file or directory No index with this name present on disk\n"
     ]
    },
    {
     "name": "stderr",
     "output_type": "stream",
     "text": [
      "  0%|                                                                          | 421/329841 [01:02<13:18:15,  6.88it/s]"
     ]
    },
    {
     "name": "stdout",
     "output_type": "stream",
     "text": [
      "Erreur lors de la prédiction pour la fenêtre 419: Neither Sparse nor Dense Index : /data/vdb/default/train_sensors/vdb/default_train_sensors_flat_index/metadata. OS reports: No such file or directory No index with this name present on disk\n",
      "Erreur lors de la prédiction pour la fenêtre 420: Neither Sparse nor Dense Index : /data/vdb/default/train_sensors/vdb/default_train_sensors_flat_index/metadata. OS reports: No such file or directory No index with this name present on disk\n"
     ]
    },
    {
     "name": "stderr",
     "output_type": "stream",
     "text": [
      "  0%|                                                                          | 423/329841 [01:02<13:17:31,  6.88it/s]"
     ]
    },
    {
     "name": "stdout",
     "output_type": "stream",
     "text": [
      "Erreur lors de la prédiction pour la fenêtre 421: Neither Sparse nor Dense Index : /data/vdb/default/train_sensors/vdb/default_train_sensors_flat_index/metadata. OS reports: No such file or directory No index with this name present on disk\n",
      "Erreur lors de la prédiction pour la fenêtre 422: Neither Sparse nor Dense Index : /data/vdb/default/train_sensors/vdb/default_train_sensors_flat_index/metadata. OS reports: No such file or directory No index with this name present on disk\n"
     ]
    },
    {
     "name": "stderr",
     "output_type": "stream",
     "text": [
      "  0%|                                                                          | 425/329841 [01:03<13:08:54,  6.96it/s]"
     ]
    },
    {
     "name": "stdout",
     "output_type": "stream",
     "text": [
      "Erreur lors de la prédiction pour la fenêtre 423: Neither Sparse nor Dense Index : /data/vdb/default/train_sensors/vdb/default_train_sensors_flat_index/metadata. OS reports: No such file or directory No index with this name present on disk\n",
      "Erreur lors de la prédiction pour la fenêtre 424: Neither Sparse nor Dense Index : /data/vdb/default/train_sensors/vdb/default_train_sensors_flat_index/metadata. OS reports: No such file or directory No index with this name present on disk\n"
     ]
    },
    {
     "name": "stderr",
     "output_type": "stream",
     "text": [
      "  0%|                                                                          | 427/329841 [01:03<13:12:39,  6.93it/s]"
     ]
    },
    {
     "name": "stdout",
     "output_type": "stream",
     "text": [
      "Erreur lors de la prédiction pour la fenêtre 425: Neither Sparse nor Dense Index : /data/vdb/default/train_sensors/vdb/default_train_sensors_flat_index/metadata. OS reports: No such file or directory No index with this name present on disk\n",
      "Erreur lors de la prédiction pour la fenêtre 426: Neither Sparse nor Dense Index : /data/vdb/default/train_sensors/vdb/default_train_sensors_flat_index/metadata. OS reports: No such file or directory No index with this name present on disk\n"
     ]
    },
    {
     "name": "stderr",
     "output_type": "stream",
     "text": [
      "  0%|                                                                          | 429/329841 [01:03<13:08:42,  6.96it/s]"
     ]
    },
    {
     "name": "stdout",
     "output_type": "stream",
     "text": [
      "Erreur lors de la prédiction pour la fenêtre 427: Neither Sparse nor Dense Index : /data/vdb/default/train_sensors/vdb/default_train_sensors_flat_index/metadata. OS reports: No such file or directory No index with this name present on disk\n",
      "Erreur lors de la prédiction pour la fenêtre 428: Neither Sparse nor Dense Index : /data/vdb/default/train_sensors/vdb/default_train_sensors_flat_index/metadata. OS reports: No such file or directory No index with this name present on disk\n"
     ]
    },
    {
     "name": "stderr",
     "output_type": "stream",
     "text": [
      "  0%|                                                                          | 431/329841 [01:04<13:21:41,  6.85it/s]"
     ]
    },
    {
     "name": "stdout",
     "output_type": "stream",
     "text": [
      "Erreur lors de la prédiction pour la fenêtre 429: Neither Sparse nor Dense Index : /data/vdb/default/train_sensors/vdb/default_train_sensors_flat_index/metadata. OS reports: No such file or directory No index with this name present on disk\n",
      "Erreur lors de la prédiction pour la fenêtre 430: Neither Sparse nor Dense Index : /data/vdb/default/train_sensors/vdb/default_train_sensors_flat_index/metadata. OS reports: No such file or directory No index with this name present on disk\n"
     ]
    },
    {
     "name": "stderr",
     "output_type": "stream",
     "text": [
      "  0%|                                                                          | 433/329841 [01:04<13:58:42,  6.55it/s]"
     ]
    },
    {
     "name": "stdout",
     "output_type": "stream",
     "text": [
      "Erreur lors de la prédiction pour la fenêtre 431: Neither Sparse nor Dense Index : /data/vdb/default/train_sensors/vdb/default_train_sensors_flat_index/metadata. OS reports: No such file or directory No index with this name present on disk\n",
      "Erreur lors de la prédiction pour la fenêtre 432: Neither Sparse nor Dense Index : /data/vdb/default/train_sensors/vdb/default_train_sensors_flat_index/metadata. OS reports: No such file or directory No index with this name present on disk\n"
     ]
    },
    {
     "name": "stderr",
     "output_type": "stream",
     "text": [
      "  0%|                                                                          | 435/329841 [01:04<13:51:25,  6.60it/s]"
     ]
    },
    {
     "name": "stdout",
     "output_type": "stream",
     "text": [
      "Erreur lors de la prédiction pour la fenêtre 433: Neither Sparse nor Dense Index : /data/vdb/default/train_sensors/vdb/default_train_sensors_flat_index/metadata. OS reports: No such file or directory No index with this name present on disk\n",
      "Erreur lors de la prédiction pour la fenêtre 434: Neither Sparse nor Dense Index : /data/vdb/default/train_sensors/vdb/default_train_sensors_flat_index/metadata. OS reports: No such file or directory No index with this name present on disk\n"
     ]
    },
    {
     "name": "stderr",
     "output_type": "stream",
     "text": [
      "  0%|                                                                          | 437/329841 [01:05<13:30:40,  6.77it/s]"
     ]
    },
    {
     "name": "stdout",
     "output_type": "stream",
     "text": [
      "Erreur lors de la prédiction pour la fenêtre 435: Neither Sparse nor Dense Index : /data/vdb/default/train_sensors/vdb/default_train_sensors_flat_index/metadata. OS reports: No such file or directory No index with this name present on disk\n",
      "Erreur lors de la prédiction pour la fenêtre 436: Neither Sparse nor Dense Index : /data/vdb/default/train_sensors/vdb/default_train_sensors_flat_index/metadata. OS reports: No such file or directory No index with this name present on disk\n"
     ]
    },
    {
     "name": "stderr",
     "output_type": "stream",
     "text": [
      "  0%|                                                                          | 439/329841 [01:05<13:45:21,  6.65it/s]"
     ]
    },
    {
     "name": "stdout",
     "output_type": "stream",
     "text": [
      "Erreur lors de la prédiction pour la fenêtre 437: Neither Sparse nor Dense Index : /data/vdb/default/train_sensors/vdb/default_train_sensors_flat_index/metadata. OS reports: No such file or directory No index with this name present on disk\n",
      "Erreur lors de la prédiction pour la fenêtre 438: Neither Sparse nor Dense Index : /data/vdb/default/train_sensors/vdb/default_train_sensors_flat_index/metadata. OS reports: No such file or directory No index with this name present on disk\n"
     ]
    },
    {
     "name": "stderr",
     "output_type": "stream",
     "text": [
      "  0%|                                                                          | 441/329841 [01:05<13:26:08,  6.81it/s]"
     ]
    },
    {
     "name": "stdout",
     "output_type": "stream",
     "text": [
      "Erreur lors de la prédiction pour la fenêtre 439: Neither Sparse nor Dense Index : /data/vdb/default/train_sensors/vdb/default_train_sensors_flat_index/metadata. OS reports: No such file or directory No index with this name present on disk\n",
      "Erreur lors de la prédiction pour la fenêtre 440: Neither Sparse nor Dense Index : /data/vdb/default/train_sensors/vdb/default_train_sensors_flat_index/metadata. OS reports: No such file or directory No index with this name present on disk\n"
     ]
    },
    {
     "name": "stderr",
     "output_type": "stream",
     "text": [
      "  0%|                                                                          | 443/329841 [01:05<13:15:08,  6.90it/s]"
     ]
    },
    {
     "name": "stdout",
     "output_type": "stream",
     "text": [
      "Erreur lors de la prédiction pour la fenêtre 441: Neither Sparse nor Dense Index : /data/vdb/default/train_sensors/vdb/default_train_sensors_flat_index/metadata. OS reports: No such file or directory No index with this name present on disk\n",
      "Erreur lors de la prédiction pour la fenêtre 442: Neither Sparse nor Dense Index : /data/vdb/default/train_sensors/vdb/default_train_sensors_flat_index/metadata. OS reports: No such file or directory No index with this name present on disk\n"
     ]
    },
    {
     "name": "stderr",
     "output_type": "stream",
     "text": [
      "  0%|                                                                          | 445/329841 [01:06<13:16:26,  6.89it/s]"
     ]
    },
    {
     "name": "stdout",
     "output_type": "stream",
     "text": [
      "Erreur lors de la prédiction pour la fenêtre 443: Neither Sparse nor Dense Index : /data/vdb/default/train_sensors/vdb/default_train_sensors_flat_index/metadata. OS reports: No such file or directory No index with this name present on disk\n",
      "Erreur lors de la prédiction pour la fenêtre 444: Neither Sparse nor Dense Index : /data/vdb/default/train_sensors/vdb/default_train_sensors_flat_index/metadata. OS reports: No such file or directory No index with this name present on disk\n"
     ]
    },
    {
     "name": "stderr",
     "output_type": "stream",
     "text": [
      "  0%|                                                                          | 447/329841 [01:06<13:26:28,  6.81it/s]"
     ]
    },
    {
     "name": "stdout",
     "output_type": "stream",
     "text": [
      "Erreur lors de la prédiction pour la fenêtre 445: Neither Sparse nor Dense Index : /data/vdb/default/train_sensors/vdb/default_train_sensors_flat_index/metadata. OS reports: No such file or directory No index with this name present on disk\n",
      "Erreur lors de la prédiction pour la fenêtre 446: Neither Sparse nor Dense Index : /data/vdb/default/train_sensors/vdb/default_train_sensors_flat_index/metadata. OS reports: No such file or directory No index with this name present on disk\n"
     ]
    },
    {
     "name": "stderr",
     "output_type": "stream",
     "text": [
      "  0%|                                                                          | 449/329841 [01:06<13:38:50,  6.70it/s]"
     ]
    },
    {
     "name": "stdout",
     "output_type": "stream",
     "text": [
      "Erreur lors de la prédiction pour la fenêtre 447: Neither Sparse nor Dense Index : /data/vdb/default/train_sensors/vdb/default_train_sensors_flat_index/metadata. OS reports: No such file or directory No index with this name present on disk\n",
      "Erreur lors de la prédiction pour la fenêtre 448: Neither Sparse nor Dense Index : /data/vdb/default/train_sensors/vdb/default_train_sensors_flat_index/metadata. OS reports: No such file or directory No index with this name present on disk\n"
     ]
    },
    {
     "name": "stderr",
     "output_type": "stream",
     "text": [
      "  0%|                                                                          | 451/329841 [01:07<13:25:59,  6.81it/s]"
     ]
    },
    {
     "name": "stdout",
     "output_type": "stream",
     "text": [
      "Erreur lors de la prédiction pour la fenêtre 449: Neither Sparse nor Dense Index : /data/vdb/default/train_sensors/vdb/default_train_sensors_flat_index/metadata. OS reports: No such file or directory No index with this name present on disk\n",
      "Erreur lors de la prédiction pour la fenêtre 450: Neither Sparse nor Dense Index : /data/vdb/default/train_sensors/vdb/default_train_sensors_flat_index/metadata. OS reports: No such file or directory No index with this name present on disk\n"
     ]
    },
    {
     "name": "stderr",
     "output_type": "stream",
     "text": [
      "  0%|                                                                          | 453/329841 [01:07<13:15:25,  6.90it/s]"
     ]
    },
    {
     "name": "stdout",
     "output_type": "stream",
     "text": [
      "Erreur lors de la prédiction pour la fenêtre 451: Neither Sparse nor Dense Index : /data/vdb/default/train_sensors/vdb/default_train_sensors_flat_index/metadata. OS reports: No such file or directory No index with this name present on disk\n",
      "Erreur lors de la prédiction pour la fenêtre 452: Neither Sparse nor Dense Index : /data/vdb/default/train_sensors/vdb/default_train_sensors_flat_index/metadata. OS reports: No such file or directory No index with this name present on disk\n"
     ]
    },
    {
     "name": "stderr",
     "output_type": "stream",
     "text": [
      "  0%|                                                                          | 455/329841 [01:07<13:52:38,  6.59it/s]"
     ]
    },
    {
     "name": "stdout",
     "output_type": "stream",
     "text": [
      "Erreur lors de la prédiction pour la fenêtre 453: Neither Sparse nor Dense Index : /data/vdb/default/train_sensors/vdb/default_train_sensors_flat_index/metadata. OS reports: No such file or directory No index with this name present on disk\n",
      "Erreur lors de la prédiction pour la fenêtre 454: Neither Sparse nor Dense Index : /data/vdb/default/train_sensors/vdb/default_train_sensors_flat_index/metadata. OS reports: No such file or directory No index with this name present on disk\n"
     ]
    },
    {
     "name": "stderr",
     "output_type": "stream",
     "text": [
      "  0%|                                                                          | 457/329841 [01:07<13:32:51,  6.75it/s]"
     ]
    },
    {
     "name": "stdout",
     "output_type": "stream",
     "text": [
      "Erreur lors de la prédiction pour la fenêtre 455: Neither Sparse nor Dense Index : /data/vdb/default/train_sensors/vdb/default_train_sensors_flat_index/metadata. OS reports: No such file or directory No index with this name present on disk\n",
      "Erreur lors de la prédiction pour la fenêtre 456: Neither Sparse nor Dense Index : /data/vdb/default/train_sensors/vdb/default_train_sensors_flat_index/metadata. OS reports: No such file or directory No index with this name present on disk\n"
     ]
    },
    {
     "name": "stderr",
     "output_type": "stream",
     "text": [
      "  0%|                                                                          | 459/329841 [01:08<13:13:16,  6.92it/s]"
     ]
    },
    {
     "name": "stdout",
     "output_type": "stream",
     "text": [
      "Erreur lors de la prédiction pour la fenêtre 457: Neither Sparse nor Dense Index : /data/vdb/default/train_sensors/vdb/default_train_sensors_flat_index/metadata. OS reports: No such file or directory No index with this name present on disk\n",
      "Erreur lors de la prédiction pour la fenêtre 458: Neither Sparse nor Dense Index : /data/vdb/default/train_sensors/vdb/default_train_sensors_flat_index/metadata. OS reports: No such file or directory No index with this name present on disk\n"
     ]
    },
    {
     "name": "stderr",
     "output_type": "stream",
     "text": [
      "  0%|                                                                          | 461/329841 [01:08<13:03:44,  7.00it/s]"
     ]
    },
    {
     "name": "stdout",
     "output_type": "stream",
     "text": [
      "Erreur lors de la prédiction pour la fenêtre 459: Neither Sparse nor Dense Index : /data/vdb/default/train_sensors/vdb/default_train_sensors_flat_index/metadata. OS reports: No such file or directory No index with this name present on disk\n",
      "Erreur lors de la prédiction pour la fenêtre 460: Neither Sparse nor Dense Index : /data/vdb/default/train_sensors/vdb/default_train_sensors_flat_index/metadata. OS reports: No such file or directory No index with this name present on disk\n"
     ]
    },
    {
     "name": "stderr",
     "output_type": "stream",
     "text": [
      "  0%|                                                                          | 463/329841 [01:08<13:04:28,  7.00it/s]"
     ]
    },
    {
     "name": "stdout",
     "output_type": "stream",
     "text": [
      "Erreur lors de la prédiction pour la fenêtre 461: Neither Sparse nor Dense Index : /data/vdb/default/train_sensors/vdb/default_train_sensors_flat_index/metadata. OS reports: No such file or directory No index with this name present on disk\n",
      "Erreur lors de la prédiction pour la fenêtre 462: Neither Sparse nor Dense Index : /data/vdb/default/train_sensors/vdb/default_train_sensors_flat_index/metadata. OS reports: No such file or directory No index with this name present on disk\n"
     ]
    },
    {
     "name": "stderr",
     "output_type": "stream",
     "text": [
      "  0%|                                                                          | 465/329841 [01:09<13:17:00,  6.89it/s]"
     ]
    },
    {
     "name": "stdout",
     "output_type": "stream",
     "text": [
      "Erreur lors de la prédiction pour la fenêtre 463: Neither Sparse nor Dense Index : /data/vdb/default/train_sensors/vdb/default_train_sensors_flat_index/metadata. OS reports: No such file or directory No index with this name present on disk\n",
      "Erreur lors de la prédiction pour la fenêtre 464: Neither Sparse nor Dense Index : /data/vdb/default/train_sensors/vdb/default_train_sensors_flat_index/metadata. OS reports: No such file or directory No index with this name present on disk\n"
     ]
    },
    {
     "name": "stderr",
     "output_type": "stream",
     "text": [
      "  0%|                                                                          | 467/329841 [01:09<13:20:06,  6.86it/s]"
     ]
    },
    {
     "name": "stdout",
     "output_type": "stream",
     "text": [
      "Erreur lors de la prédiction pour la fenêtre 465: Neither Sparse nor Dense Index : /data/vdb/default/train_sensors/vdb/default_train_sensors_flat_index/metadata. OS reports: No such file or directory No index with this name present on disk\n",
      "Erreur lors de la prédiction pour la fenêtre 466: Neither Sparse nor Dense Index : /data/vdb/default/train_sensors/vdb/default_train_sensors_flat_index/metadata. OS reports: No such file or directory No index with this name present on disk\n"
     ]
    },
    {
     "name": "stderr",
     "output_type": "stream",
     "text": [
      "  0%|                                                                          | 469/329841 [01:09<13:28:49,  6.79it/s]"
     ]
    },
    {
     "name": "stdout",
     "output_type": "stream",
     "text": [
      "Erreur lors de la prédiction pour la fenêtre 467: Neither Sparse nor Dense Index : /data/vdb/default/train_sensors/vdb/default_train_sensors_flat_index/metadata. OS reports: No such file or directory No index with this name present on disk\n",
      "Erreur lors de la prédiction pour la fenêtre 468: Neither Sparse nor Dense Index : /data/vdb/default/train_sensors/vdb/default_train_sensors_flat_index/metadata. OS reports: No such file or directory No index with this name present on disk\n"
     ]
    },
    {
     "name": "stderr",
     "output_type": "stream",
     "text": [
      "  0%|                                                                          | 471/329841 [01:10<13:15:34,  6.90it/s]"
     ]
    },
    {
     "name": "stdout",
     "output_type": "stream",
     "text": [
      "Erreur lors de la prédiction pour la fenêtre 469: Neither Sparse nor Dense Index : /data/vdb/default/train_sensors/vdb/default_train_sensors_flat_index/metadata. OS reports: No such file or directory No index with this name present on disk\n",
      "Erreur lors de la prédiction pour la fenêtre 470: Neither Sparse nor Dense Index : /data/vdb/default/train_sensors/vdb/default_train_sensors_flat_index/metadata. OS reports: No such file or directory No index with this name present on disk\n"
     ]
    },
    {
     "name": "stderr",
     "output_type": "stream",
     "text": [
      "  0%|                                                                          | 473/329841 [01:10<13:10:22,  6.95it/s]"
     ]
    },
    {
     "name": "stdout",
     "output_type": "stream",
     "text": [
      "Erreur lors de la prédiction pour la fenêtre 471: Neither Sparse nor Dense Index : /data/vdb/default/train_sensors/vdb/default_train_sensors_flat_index/metadata. OS reports: No such file or directory No index with this name present on disk\n",
      "Erreur lors de la prédiction pour la fenêtre 472: Neither Sparse nor Dense Index : /data/vdb/default/train_sensors/vdb/default_train_sensors_flat_index/metadata. OS reports: No such file or directory No index with this name present on disk\n"
     ]
    },
    {
     "name": "stderr",
     "output_type": "stream",
     "text": [
      "  0%|                                                                          | 475/329841 [01:10<13:13:42,  6.92it/s]"
     ]
    },
    {
     "name": "stdout",
     "output_type": "stream",
     "text": [
      "Erreur lors de la prédiction pour la fenêtre 473: Neither Sparse nor Dense Index : /data/vdb/default/train_sensors/vdb/default_train_sensors_flat_index/metadata. OS reports: No such file or directory No index with this name present on disk\n",
      "Erreur lors de la prédiction pour la fenêtre 474: Neither Sparse nor Dense Index : /data/vdb/default/train_sensors/vdb/default_train_sensors_flat_index/metadata. OS reports: No such file or directory No index with this name present on disk\n"
     ]
    },
    {
     "name": "stderr",
     "output_type": "stream",
     "text": [
      "  0%|                                                                          | 477/329841 [01:10<13:09:42,  6.95it/s]"
     ]
    },
    {
     "name": "stdout",
     "output_type": "stream",
     "text": [
      "Erreur lors de la prédiction pour la fenêtre 475: Neither Sparse nor Dense Index : /data/vdb/default/train_sensors/vdb/default_train_sensors_flat_index/metadata. OS reports: No such file or directory No index with this name present on disk\n",
      "Erreur lors de la prédiction pour la fenêtre 476: Neither Sparse nor Dense Index : /data/vdb/default/train_sensors/vdb/default_train_sensors_flat_index/metadata. OS reports: No such file or directory No index with this name present on disk\n"
     ]
    },
    {
     "name": "stderr",
     "output_type": "stream",
     "text": [
      "  0%|                                                                          | 479/329841 [01:11<13:09:13,  6.96it/s]"
     ]
    },
    {
     "name": "stdout",
     "output_type": "stream",
     "text": [
      "Erreur lors de la prédiction pour la fenêtre 477: Neither Sparse nor Dense Index : /data/vdb/default/train_sensors/vdb/default_train_sensors_flat_index/metadata. OS reports: No such file or directory No index with this name present on disk\n",
      "Erreur lors de la prédiction pour la fenêtre 478: Neither Sparse nor Dense Index : /data/vdb/default/train_sensors/vdb/default_train_sensors_flat_index/metadata. OS reports: No such file or directory No index with this name present on disk\n"
     ]
    },
    {
     "name": "stderr",
     "output_type": "stream",
     "text": [
      "  0%|                                                                          | 481/329841 [01:11<13:02:13,  7.02it/s]"
     ]
    },
    {
     "name": "stdout",
     "output_type": "stream",
     "text": [
      "Erreur lors de la prédiction pour la fenêtre 479: Neither Sparse nor Dense Index : /data/vdb/default/train_sensors/vdb/default_train_sensors_flat_index/metadata. OS reports: No such file or directory No index with this name present on disk\n",
      "Erreur lors de la prédiction pour la fenêtre 480: Neither Sparse nor Dense Index : /data/vdb/default/train_sensors/vdb/default_train_sensors_flat_index/metadata. OS reports: No such file or directory No index with this name present on disk\n"
     ]
    },
    {
     "name": "stderr",
     "output_type": "stream",
     "text": [
      "  0%|                                                                          | 483/329841 [01:11<13:22:15,  6.84it/s]"
     ]
    },
    {
     "name": "stdout",
     "output_type": "stream",
     "text": [
      "Erreur lors de la prédiction pour la fenêtre 481: Neither Sparse nor Dense Index : /data/vdb/default/train_sensors/vdb/default_train_sensors_flat_index/metadata. OS reports: No such file or directory No index with this name present on disk\n",
      "Erreur lors de la prédiction pour la fenêtre 482: Neither Sparse nor Dense Index : /data/vdb/default/train_sensors/vdb/default_train_sensors_flat_index/metadata. OS reports: No such file or directory No index with this name present on disk\n"
     ]
    },
    {
     "name": "stderr",
     "output_type": "stream",
     "text": [
      "  0%|                                                                          | 485/329841 [01:12<13:21:11,  6.85it/s]"
     ]
    },
    {
     "name": "stdout",
     "output_type": "stream",
     "text": [
      "Erreur lors de la prédiction pour la fenêtre 483: Neither Sparse nor Dense Index : /data/vdb/default/train_sensors/vdb/default_train_sensors_flat_index/metadata. OS reports: No such file or directory No index with this name present on disk\n",
      "Erreur lors de la prédiction pour la fenêtre 484: Neither Sparse nor Dense Index : /data/vdb/default/train_sensors/vdb/default_train_sensors_flat_index/metadata. OS reports: No such file or directory No index with this name present on disk\n"
     ]
    },
    {
     "name": "stderr",
     "output_type": "stream",
     "text": [
      "  0%|                                                                          | 487/329841 [01:12<13:10:27,  6.94it/s]"
     ]
    },
    {
     "name": "stdout",
     "output_type": "stream",
     "text": [
      "Erreur lors de la prédiction pour la fenêtre 485: Neither Sparse nor Dense Index : /data/vdb/default/train_sensors/vdb/default_train_sensors_flat_index/metadata. OS reports: No such file or directory No index with this name present on disk\n",
      "Erreur lors de la prédiction pour la fenêtre 486: Neither Sparse nor Dense Index : /data/vdb/default/train_sensors/vdb/default_train_sensors_flat_index/metadata. OS reports: No such file or directory No index with this name present on disk\n"
     ]
    },
    {
     "name": "stderr",
     "output_type": "stream",
     "text": [
      "  0%|                                                                          | 489/329841 [01:12<13:03:08,  7.01it/s]"
     ]
    },
    {
     "name": "stdout",
     "output_type": "stream",
     "text": [
      "Erreur lors de la prédiction pour la fenêtre 487: Neither Sparse nor Dense Index : /data/vdb/default/train_sensors/vdb/default_train_sensors_flat_index/metadata. OS reports: No such file or directory No index with this name present on disk\n",
      "Erreur lors de la prédiction pour la fenêtre 488: Neither Sparse nor Dense Index : /data/vdb/default/train_sensors/vdb/default_train_sensors_flat_index/metadata. OS reports: No such file or directory No index with this name present on disk\n"
     ]
    },
    {
     "name": "stderr",
     "output_type": "stream",
     "text": [
      "  0%|                                                                          | 491/329841 [01:12<13:11:51,  6.93it/s]"
     ]
    },
    {
     "name": "stdout",
     "output_type": "stream",
     "text": [
      "Erreur lors de la prédiction pour la fenêtre 489: Neither Sparse nor Dense Index : /data/vdb/default/train_sensors/vdb/default_train_sensors_flat_index/metadata. OS reports: No such file or directory No index with this name present on disk\n",
      "Erreur lors de la prédiction pour la fenêtre 490: Neither Sparse nor Dense Index : /data/vdb/default/train_sensors/vdb/default_train_sensors_flat_index/metadata. OS reports: No such file or directory No index with this name present on disk\n"
     ]
    },
    {
     "name": "stderr",
     "output_type": "stream",
     "text": [
      "  0%|                                                                          | 493/329841 [01:13<13:19:16,  6.87it/s]"
     ]
    },
    {
     "name": "stdout",
     "output_type": "stream",
     "text": [
      "Erreur lors de la prédiction pour la fenêtre 491: Neither Sparse nor Dense Index : /data/vdb/default/train_sensors/vdb/default_train_sensors_flat_index/metadata. OS reports: No such file or directory No index with this name present on disk\n",
      "Erreur lors de la prédiction pour la fenêtre 492: Neither Sparse nor Dense Index : /data/vdb/default/train_sensors/vdb/default_train_sensors_flat_index/metadata. OS reports: No such file or directory No index with this name present on disk\n"
     ]
    },
    {
     "name": "stderr",
     "output_type": "stream",
     "text": [
      "  0%|                                                                          | 495/329841 [01:13<13:08:58,  6.96it/s]"
     ]
    },
    {
     "name": "stdout",
     "output_type": "stream",
     "text": [
      "Erreur lors de la prédiction pour la fenêtre 493: Neither Sparse nor Dense Index : /data/vdb/default/train_sensors/vdb/default_train_sensors_flat_index/metadata. OS reports: No such file or directory No index with this name present on disk\n",
      "Erreur lors de la prédiction pour la fenêtre 494: Neither Sparse nor Dense Index : /data/vdb/default/train_sensors/vdb/default_train_sensors_flat_index/metadata. OS reports: No such file or directory No index with this name present on disk\n"
     ]
    },
    {
     "name": "stderr",
     "output_type": "stream",
     "text": [
      "  0%|                                                                          | 497/329841 [01:13<13:15:01,  6.90it/s]"
     ]
    },
    {
     "name": "stdout",
     "output_type": "stream",
     "text": [
      "Erreur lors de la prédiction pour la fenêtre 495: Neither Sparse nor Dense Index : /data/vdb/default/train_sensors/vdb/default_train_sensors_flat_index/metadata. OS reports: No such file or directory No index with this name present on disk\n",
      "Erreur lors de la prédiction pour la fenêtre 496: Neither Sparse nor Dense Index : /data/vdb/default/train_sensors/vdb/default_train_sensors_flat_index/metadata. OS reports: No such file or directory No index with this name present on disk\n"
     ]
    },
    {
     "name": "stderr",
     "output_type": "stream",
     "text": [
      "  0%|                                                                          | 499/329841 [01:14<13:17:47,  6.88it/s]"
     ]
    },
    {
     "name": "stdout",
     "output_type": "stream",
     "text": [
      "Erreur lors de la prédiction pour la fenêtre 497: Neither Sparse nor Dense Index : /data/vdb/default/train_sensors/vdb/default_train_sensors_flat_index/metadata. OS reports: No such file or directory No index with this name present on disk\n",
      "Erreur lors de la prédiction pour la fenêtre 498: Neither Sparse nor Dense Index : /data/vdb/default/train_sensors/vdb/default_train_sensors_flat_index/metadata. OS reports: No such file or directory No index with this name present on disk\n"
     ]
    },
    {
     "name": "stderr",
     "output_type": "stream",
     "text": [
      "  0%|                                                                          | 501/329841 [01:14<13:26:54,  6.80it/s]"
     ]
    },
    {
     "name": "stdout",
     "output_type": "stream",
     "text": [
      "Erreur lors de la prédiction pour la fenêtre 499: Neither Sparse nor Dense Index : /data/vdb/default/train_sensors/vdb/default_train_sensors_flat_index/metadata. OS reports: No such file or directory No index with this name present on disk\n",
      "Erreur lors de la prédiction pour la fenêtre 500: Neither Sparse nor Dense Index : /data/vdb/default/train_sensors/vdb/default_train_sensors_flat_index/metadata. OS reports: No such file or directory No index with this name present on disk\n"
     ]
    },
    {
     "name": "stderr",
     "output_type": "stream",
     "text": [
      "  0%|                                                                          | 503/329841 [01:14<13:32:43,  6.75it/s]"
     ]
    },
    {
     "name": "stdout",
     "output_type": "stream",
     "text": [
      "Erreur lors de la prédiction pour la fenêtre 501: Neither Sparse nor Dense Index : /data/vdb/default/train_sensors/vdb/default_train_sensors_flat_index/metadata. OS reports: No such file or directory No index with this name present on disk\n",
      "Erreur lors de la prédiction pour la fenêtre 502: Neither Sparse nor Dense Index : /data/vdb/default/train_sensors/vdb/default_train_sensors_flat_index/metadata. OS reports: No such file or directory No index with this name present on disk\n"
     ]
    },
    {
     "name": "stderr",
     "output_type": "stream",
     "text": [
      "  0%|                                                                          | 505/329841 [01:14<13:44:28,  6.66it/s]"
     ]
    },
    {
     "name": "stdout",
     "output_type": "stream",
     "text": [
      "Erreur lors de la prédiction pour la fenêtre 503: Neither Sparse nor Dense Index : /data/vdb/default/train_sensors/vdb/default_train_sensors_flat_index/metadata. OS reports: No such file or directory No index with this name present on disk\n",
      "Erreur lors de la prédiction pour la fenêtre 504: Neither Sparse nor Dense Index : /data/vdb/default/train_sensors/vdb/default_train_sensors_flat_index/metadata. OS reports: No such file or directory No index with this name present on disk\n"
     ]
    },
    {
     "name": "stderr",
     "output_type": "stream",
     "text": [
      "  0%|                                                                          | 507/329841 [01:15<13:30:25,  6.77it/s]"
     ]
    },
    {
     "name": "stdout",
     "output_type": "stream",
     "text": [
      "Erreur lors de la prédiction pour la fenêtre 505: Neither Sparse nor Dense Index : /data/vdb/default/train_sensors/vdb/default_train_sensors_flat_index/metadata. OS reports: No such file or directory No index with this name present on disk\n",
      "Erreur lors de la prédiction pour la fenêtre 506: Neither Sparse nor Dense Index : /data/vdb/default/train_sensors/vdb/default_train_sensors_flat_index/metadata. OS reports: No such file or directory No index with this name present on disk\n"
     ]
    },
    {
     "name": "stderr",
     "output_type": "stream",
     "text": [
      "  0%|                                                                          | 509/329841 [01:15<13:18:07,  6.88it/s]"
     ]
    },
    {
     "name": "stdout",
     "output_type": "stream",
     "text": [
      "Erreur lors de la prédiction pour la fenêtre 507: Neither Sparse nor Dense Index : /data/vdb/default/train_sensors/vdb/default_train_sensors_flat_index/metadata. OS reports: No such file or directory No index with this name present on disk\n",
      "Erreur lors de la prédiction pour la fenêtre 508: Neither Sparse nor Dense Index : /data/vdb/default/train_sensors/vdb/default_train_sensors_flat_index/metadata. OS reports: No such file or directory No index with this name present on disk\n"
     ]
    },
    {
     "name": "stderr",
     "output_type": "stream",
     "text": [
      "  0%|                                                                          | 511/329841 [01:15<13:15:10,  6.90it/s]"
     ]
    },
    {
     "name": "stdout",
     "output_type": "stream",
     "text": [
      "Erreur lors de la prédiction pour la fenêtre 509: Neither Sparse nor Dense Index : /data/vdb/default/train_sensors/vdb/default_train_sensors_flat_index/metadata. OS reports: No such file or directory No index with this name present on disk\n",
      "Erreur lors de la prédiction pour la fenêtre 510: Neither Sparse nor Dense Index : /data/vdb/default/train_sensors/vdb/default_train_sensors_flat_index/metadata. OS reports: No such file or directory No index with this name present on disk\n"
     ]
    },
    {
     "name": "stderr",
     "output_type": "stream",
     "text": [
      "  0%|                                                                          | 513/329841 [01:16<13:26:21,  6.81it/s]"
     ]
    },
    {
     "name": "stdout",
     "output_type": "stream",
     "text": [
      "Erreur lors de la prédiction pour la fenêtre 511: Neither Sparse nor Dense Index : /data/vdb/default/train_sensors/vdb/default_train_sensors_flat_index/metadata. OS reports: No such file or directory No index with this name present on disk\n",
      "Erreur lors de la prédiction pour la fenêtre 512: Neither Sparse nor Dense Index : /data/vdb/default/train_sensors/vdb/default_train_sensors_flat_index/metadata. OS reports: No such file or directory No index with this name present on disk\n"
     ]
    },
    {
     "name": "stderr",
     "output_type": "stream",
     "text": [
      "  0%|                                                                          | 515/329841 [01:16<13:16:36,  6.89it/s]"
     ]
    },
    {
     "name": "stdout",
     "output_type": "stream",
     "text": [
      "Erreur lors de la prédiction pour la fenêtre 513: Neither Sparse nor Dense Index : /data/vdb/default/train_sensors/vdb/default_train_sensors_flat_index/metadata. OS reports: No such file or directory No index with this name present on disk\n",
      "Erreur lors de la prédiction pour la fenêtre 514: Neither Sparse nor Dense Index : /data/vdb/default/train_sensors/vdb/default_train_sensors_flat_index/metadata. OS reports: No such file or directory No index with this name present on disk\n"
     ]
    },
    {
     "name": "stderr",
     "output_type": "stream",
     "text": [
      "  0%|                                                                          | 517/329841 [01:16<13:14:00,  6.91it/s]"
     ]
    },
    {
     "name": "stdout",
     "output_type": "stream",
     "text": [
      "Erreur lors de la prédiction pour la fenêtre 515: Neither Sparse nor Dense Index : /data/vdb/default/train_sensors/vdb/default_train_sensors_flat_index/metadata. OS reports: No such file or directory No index with this name present on disk\n",
      "Erreur lors de la prédiction pour la fenêtre 516: Neither Sparse nor Dense Index : /data/vdb/default/train_sensors/vdb/default_train_sensors_flat_index/metadata. OS reports: No such file or directory No index with this name present on disk\n"
     ]
    },
    {
     "name": "stderr",
     "output_type": "stream",
     "text": [
      "  0%|                                                                          | 519/329841 [01:16<13:16:41,  6.89it/s]"
     ]
    },
    {
     "name": "stdout",
     "output_type": "stream",
     "text": [
      "Erreur lors de la prédiction pour la fenêtre 517: Neither Sparse nor Dense Index : /data/vdb/default/train_sensors/vdb/default_train_sensors_flat_index/metadata. OS reports: No such file or directory No index with this name present on disk\n",
      "Erreur lors de la prédiction pour la fenêtre 518: Neither Sparse nor Dense Index : /data/vdb/default/train_sensors/vdb/default_train_sensors_flat_index/metadata. OS reports: No such file or directory No index with this name present on disk\n"
     ]
    },
    {
     "name": "stderr",
     "output_type": "stream",
     "text": [
      "  0%|                                                                          | 521/329841 [01:17<13:24:33,  6.82it/s]"
     ]
    },
    {
     "name": "stdout",
     "output_type": "stream",
     "text": [
      "Erreur lors de la prédiction pour la fenêtre 519: Neither Sparse nor Dense Index : /data/vdb/default/train_sensors/vdb/default_train_sensors_flat_index/metadata. OS reports: No such file or directory No index with this name present on disk\n",
      "Erreur lors de la prédiction pour la fenêtre 520: Neither Sparse nor Dense Index : /data/vdb/default/train_sensors/vdb/default_train_sensors_flat_index/metadata. OS reports: No such file or directory No index with this name present on disk\n"
     ]
    },
    {
     "name": "stderr",
     "output_type": "stream",
     "text": [
      "  0%|                                                                          | 523/329841 [01:17<13:32:45,  6.75it/s]"
     ]
    },
    {
     "name": "stdout",
     "output_type": "stream",
     "text": [
      "Erreur lors de la prédiction pour la fenêtre 521: Neither Sparse nor Dense Index : /data/vdb/default/train_sensors/vdb/default_train_sensors_flat_index/metadata. OS reports: No such file or directory No index with this name present on disk\n",
      "Erreur lors de la prédiction pour la fenêtre 522: Neither Sparse nor Dense Index : /data/vdb/default/train_sensors/vdb/default_train_sensors_flat_index/metadata. OS reports: No such file or directory No index with this name present on disk\n"
     ]
    },
    {
     "name": "stderr",
     "output_type": "stream",
     "text": [
      "  0%|                                                                          | 525/329841 [01:17<13:32:08,  6.76it/s]"
     ]
    },
    {
     "name": "stdout",
     "output_type": "stream",
     "text": [
      "Erreur lors de la prédiction pour la fenêtre 523: Neither Sparse nor Dense Index : /data/vdb/default/train_sensors/vdb/default_train_sensors_flat_index/metadata. OS reports: No such file or directory No index with this name present on disk\n",
      "Erreur lors de la prédiction pour la fenêtre 524: Neither Sparse nor Dense Index : /data/vdb/default/train_sensors/vdb/default_train_sensors_flat_index/metadata. OS reports: No such file or directory No index with this name present on disk\n"
     ]
    },
    {
     "name": "stderr",
     "output_type": "stream",
     "text": [
      "  0%|                                                                          | 527/329841 [01:18<13:30:58,  6.77it/s]"
     ]
    },
    {
     "name": "stdout",
     "output_type": "stream",
     "text": [
      "Erreur lors de la prédiction pour la fenêtre 525: Neither Sparse nor Dense Index : /data/vdb/default/train_sensors/vdb/default_train_sensors_flat_index/metadata. OS reports: No such file or directory No index with this name present on disk\n",
      "Erreur lors de la prédiction pour la fenêtre 526: Neither Sparse nor Dense Index : /data/vdb/default/train_sensors/vdb/default_train_sensors_flat_index/metadata. OS reports: No such file or directory No index with this name present on disk\n"
     ]
    },
    {
     "name": "stderr",
     "output_type": "stream",
     "text": [
      "  0%|                                                                          | 529/329841 [01:18<13:36:15,  6.72it/s]"
     ]
    },
    {
     "name": "stdout",
     "output_type": "stream",
     "text": [
      "Erreur lors de la prédiction pour la fenêtre 527: Neither Sparse nor Dense Index : /data/vdb/default/train_sensors/vdb/default_train_sensors_flat_index/metadata. OS reports: No such file or directory No index with this name present on disk\n",
      "Erreur lors de la prédiction pour la fenêtre 528: Neither Sparse nor Dense Index : /data/vdb/default/train_sensors/vdb/default_train_sensors_flat_index/metadata. OS reports: No such file or directory No index with this name present on disk\n"
     ]
    },
    {
     "name": "stderr",
     "output_type": "stream",
     "text": [
      "  0%|                                                                          | 531/329841 [01:18<13:38:38,  6.70it/s]"
     ]
    },
    {
     "name": "stdout",
     "output_type": "stream",
     "text": [
      "Erreur lors de la prédiction pour la fenêtre 529: Neither Sparse nor Dense Index : /data/vdb/default/train_sensors/vdb/default_train_sensors_flat_index/metadata. OS reports: No such file or directory No index with this name present on disk\n",
      "Erreur lors de la prédiction pour la fenêtre 530: Neither Sparse nor Dense Index : /data/vdb/default/train_sensors/vdb/default_train_sensors_flat_index/metadata. OS reports: No such file or directory No index with this name present on disk\n"
     ]
    },
    {
     "name": "stderr",
     "output_type": "stream",
     "text": [
      "  0%|                                                                          | 533/329841 [01:19<13:37:24,  6.71it/s]"
     ]
    },
    {
     "name": "stdout",
     "output_type": "stream",
     "text": [
      "Erreur lors de la prédiction pour la fenêtre 531: Neither Sparse nor Dense Index : /data/vdb/default/train_sensors/vdb/default_train_sensors_flat_index/metadata. OS reports: No such file or directory No index with this name present on disk\n",
      "Erreur lors de la prédiction pour la fenêtre 532: Neither Sparse nor Dense Index : /data/vdb/default/train_sensors/vdb/default_train_sensors_flat_index/metadata. OS reports: No such file or directory No index with this name present on disk\n"
     ]
    },
    {
     "name": "stderr",
     "output_type": "stream",
     "text": [
      "  0%|                                                                          | 535/329841 [01:19<13:40:39,  6.69it/s]"
     ]
    },
    {
     "name": "stdout",
     "output_type": "stream",
     "text": [
      "Erreur lors de la prédiction pour la fenêtre 533: Neither Sparse nor Dense Index : /data/vdb/default/train_sensors/vdb/default_train_sensors_flat_index/metadata. OS reports: No such file or directory No index with this name present on disk\n",
      "Erreur lors de la prédiction pour la fenêtre 534: Neither Sparse nor Dense Index : /data/vdb/default/train_sensors/vdb/default_train_sensors_flat_index/metadata. OS reports: No such file or directory No index with this name present on disk\n"
     ]
    },
    {
     "name": "stderr",
     "output_type": "stream",
     "text": [
      "  0%|                                                                          | 537/329841 [01:19<13:38:10,  6.71it/s]"
     ]
    },
    {
     "name": "stdout",
     "output_type": "stream",
     "text": [
      "Erreur lors de la prédiction pour la fenêtre 535: Neither Sparse nor Dense Index : /data/vdb/default/train_sensors/vdb/default_train_sensors_flat_index/metadata. OS reports: No such file or directory No index with this name present on disk\n",
      "Erreur lors de la prédiction pour la fenêtre 536: Neither Sparse nor Dense Index : /data/vdb/default/train_sensors/vdb/default_train_sensors_flat_index/metadata. OS reports: No such file or directory No index with this name present on disk\n"
     ]
    },
    {
     "name": "stderr",
     "output_type": "stream",
     "text": [
      "  0%|                                                                          | 539/329841 [01:19<13:27:15,  6.80it/s]"
     ]
    },
    {
     "name": "stdout",
     "output_type": "stream",
     "text": [
      "Erreur lors de la prédiction pour la fenêtre 537: Neither Sparse nor Dense Index : /data/vdb/default/train_sensors/vdb/default_train_sensors_flat_index/metadata. OS reports: No such file or directory No index with this name present on disk\n",
      "Erreur lors de la prédiction pour la fenêtre 538: Neither Sparse nor Dense Index : /data/vdb/default/train_sensors/vdb/default_train_sensors_flat_index/metadata. OS reports: No such file or directory No index with this name present on disk\n"
     ]
    },
    {
     "name": "stderr",
     "output_type": "stream",
     "text": [
      "  0%|                                                                          | 541/329841 [01:20<13:50:35,  6.61it/s]"
     ]
    },
    {
     "name": "stdout",
     "output_type": "stream",
     "text": [
      "Erreur lors de la prédiction pour la fenêtre 539: Neither Sparse nor Dense Index : /data/vdb/default/train_sensors/vdb/default_train_sensors_flat_index/metadata. OS reports: No such file or directory No index with this name present on disk\n",
      "Erreur lors de la prédiction pour la fenêtre 540: Neither Sparse nor Dense Index : /data/vdb/default/train_sensors/vdb/default_train_sensors_flat_index/metadata. OS reports: No such file or directory No index with this name present on disk\n"
     ]
    },
    {
     "name": "stderr",
     "output_type": "stream",
     "text": [
      "  0%|                                                                          | 543/329841 [01:20<13:56:57,  6.56it/s]"
     ]
    },
    {
     "name": "stdout",
     "output_type": "stream",
     "text": [
      "Erreur lors de la prédiction pour la fenêtre 541: Neither Sparse nor Dense Index : /data/vdb/default/train_sensors/vdb/default_train_sensors_flat_index/metadata. OS reports: No such file or directory No index with this name present on disk\n",
      "Erreur lors de la prédiction pour la fenêtre 542: Neither Sparse nor Dense Index : /data/vdb/default/train_sensors/vdb/default_train_sensors_flat_index/metadata. OS reports: No such file or directory No index with this name present on disk\n"
     ]
    },
    {
     "name": "stderr",
     "output_type": "stream",
     "text": [
      "  0%|                                                                          | 545/329841 [01:20<13:38:40,  6.70it/s]"
     ]
    },
    {
     "name": "stdout",
     "output_type": "stream",
     "text": [
      "Erreur lors de la prédiction pour la fenêtre 543: Neither Sparse nor Dense Index : /data/vdb/default/train_sensors/vdb/default_train_sensors_flat_index/metadata. OS reports: No such file or directory No index with this name present on disk\n",
      "Erreur lors de la prédiction pour la fenêtre 544: Neither Sparse nor Dense Index : /data/vdb/default/train_sensors/vdb/default_train_sensors_flat_index/metadata. OS reports: No such file or directory No index with this name present on disk\n"
     ]
    },
    {
     "name": "stderr",
     "output_type": "stream",
     "text": [
      "  0%|                                                                          | 547/329841 [01:21<13:33:57,  6.74it/s]"
     ]
    },
    {
     "name": "stdout",
     "output_type": "stream",
     "text": [
      "Erreur lors de la prédiction pour la fenêtre 545: Neither Sparse nor Dense Index : /data/vdb/default/train_sensors/vdb/default_train_sensors_flat_index/metadata. OS reports: No such file or directory No index with this name present on disk\n",
      "Erreur lors de la prédiction pour la fenêtre 546: Neither Sparse nor Dense Index : /data/vdb/default/train_sensors/vdb/default_train_sensors_flat_index/metadata. OS reports: No such file or directory No index with this name present on disk\n"
     ]
    },
    {
     "name": "stderr",
     "output_type": "stream",
     "text": [
      "  0%|                                                                          | 549/329841 [01:21<14:40:32,  6.23it/s]"
     ]
    },
    {
     "name": "stdout",
     "output_type": "stream",
     "text": [
      "Erreur lors de la prédiction pour la fenêtre 547: Neither Sparse nor Dense Index : /data/vdb/default/train_sensors/vdb/default_train_sensors_flat_index/metadata. OS reports: No such file or directory No index with this name present on disk\n",
      "Erreur lors de la prédiction pour la fenêtre 548: Neither Sparse nor Dense Index : /data/vdb/default/train_sensors/vdb/default_train_sensors_flat_index/metadata. OS reports: No such file or directory No index with this name present on disk\n"
     ]
    },
    {
     "name": "stderr",
     "output_type": "stream",
     "text": [
      "  0%|                                                                          | 551/329841 [01:21<14:21:31,  6.37it/s]"
     ]
    },
    {
     "name": "stdout",
     "output_type": "stream",
     "text": [
      "Erreur lors de la prédiction pour la fenêtre 549: Neither Sparse nor Dense Index : /data/vdb/default/train_sensors/vdb/default_train_sensors_flat_index/metadata. OS reports: No such file or directory No index with this name present on disk\n",
      "Erreur lors de la prédiction pour la fenêtre 550: Neither Sparse nor Dense Index : /data/vdb/default/train_sensors/vdb/default_train_sensors_flat_index/metadata. OS reports: No such file or directory No index with this name present on disk\n"
     ]
    },
    {
     "name": "stderr",
     "output_type": "stream",
     "text": [
      "  0%|                                                                          | 553/329841 [01:22<13:44:56,  6.65it/s]"
     ]
    },
    {
     "name": "stdout",
     "output_type": "stream",
     "text": [
      "Erreur lors de la prédiction pour la fenêtre 551: Neither Sparse nor Dense Index : /data/vdb/default/train_sensors/vdb/default_train_sensors_flat_index/metadata. OS reports: No such file or directory No index with this name present on disk\n",
      "Erreur lors de la prédiction pour la fenêtre 552: Neither Sparse nor Dense Index : /data/vdb/default/train_sensors/vdb/default_train_sensors_flat_index/metadata. OS reports: No such file or directory No index with this name present on disk\n"
     ]
    },
    {
     "name": "stderr",
     "output_type": "stream",
     "text": [
      "  0%|                                                                          | 555/329841 [01:22<13:30:19,  6.77it/s]"
     ]
    },
    {
     "name": "stdout",
     "output_type": "stream",
     "text": [
      "Erreur lors de la prédiction pour la fenêtre 553: Neither Sparse nor Dense Index : /data/vdb/default/train_sensors/vdb/default_train_sensors_flat_index/metadata. OS reports: No such file or directory No index with this name present on disk\n",
      "Erreur lors de la prédiction pour la fenêtre 554: Neither Sparse nor Dense Index : /data/vdb/default/train_sensors/vdb/default_train_sensors_flat_index/metadata. OS reports: No such file or directory No index with this name present on disk\n"
     ]
    },
    {
     "name": "stderr",
     "output_type": "stream",
     "text": [
      "  0%|                                                                          | 557/329841 [01:22<13:12:19,  6.93it/s]"
     ]
    },
    {
     "name": "stdout",
     "output_type": "stream",
     "text": [
      "Erreur lors de la prédiction pour la fenêtre 555: Neither Sparse nor Dense Index : /data/vdb/default/train_sensors/vdb/default_train_sensors_flat_index/metadata. OS reports: No such file or directory No index with this name present on disk\n",
      "Erreur lors de la prédiction pour la fenêtre 556: Neither Sparse nor Dense Index : /data/vdb/default/train_sensors/vdb/default_train_sensors_flat_index/metadata. OS reports: No such file or directory No index with this name present on disk\n"
     ]
    },
    {
     "name": "stderr",
     "output_type": "stream",
     "text": [
      "  0%|▏                                                                         | 559/329841 [01:22<13:21:47,  6.84it/s]"
     ]
    },
    {
     "name": "stdout",
     "output_type": "stream",
     "text": [
      "Erreur lors de la prédiction pour la fenêtre 557: Neither Sparse nor Dense Index : /data/vdb/default/train_sensors/vdb/default_train_sensors_flat_index/metadata. OS reports: No such file or directory No index with this name present on disk\n",
      "Erreur lors de la prédiction pour la fenêtre 558: Neither Sparse nor Dense Index : /data/vdb/default/train_sensors/vdb/default_train_sensors_flat_index/metadata. OS reports: No such file or directory No index with this name present on disk\n"
     ]
    },
    {
     "name": "stderr",
     "output_type": "stream",
     "text": [
      "  0%|▏                                                                         | 561/329841 [01:23<13:21:12,  6.85it/s]"
     ]
    },
    {
     "name": "stdout",
     "output_type": "stream",
     "text": [
      "Erreur lors de la prédiction pour la fenêtre 559: Neither Sparse nor Dense Index : /data/vdb/default/train_sensors/vdb/default_train_sensors_flat_index/metadata. OS reports: No such file or directory No index with this name present on disk\n",
      "Erreur lors de la prédiction pour la fenêtre 560: Neither Sparse nor Dense Index : /data/vdb/default/train_sensors/vdb/default_train_sensors_flat_index/metadata. OS reports: No such file or directory No index with this name present on disk\n"
     ]
    },
    {
     "name": "stderr",
     "output_type": "stream",
     "text": [
      "  0%|▏                                                                         | 563/329841 [01:23<13:40:29,  6.69it/s]"
     ]
    },
    {
     "name": "stdout",
     "output_type": "stream",
     "text": [
      "Erreur lors de la prédiction pour la fenêtre 561: Neither Sparse nor Dense Index : /data/vdb/default/train_sensors/vdb/default_train_sensors_flat_index/metadata. OS reports: No such file or directory No index with this name present on disk\n",
      "Erreur lors de la prédiction pour la fenêtre 562: Neither Sparse nor Dense Index : /data/vdb/default/train_sensors/vdb/default_train_sensors_flat_index/metadata. OS reports: No such file or directory No index with this name present on disk\n"
     ]
    },
    {
     "name": "stderr",
     "output_type": "stream",
     "text": [
      "  0%|▏                                                                         | 565/329841 [01:23<13:34:02,  6.74it/s]"
     ]
    },
    {
     "name": "stdout",
     "output_type": "stream",
     "text": [
      "Erreur lors de la prédiction pour la fenêtre 563: Neither Sparse nor Dense Index : /data/vdb/default/train_sensors/vdb/default_train_sensors_flat_index/metadata. OS reports: No such file or directory No index with this name present on disk\n",
      "Erreur lors de la prédiction pour la fenêtre 564: Neither Sparse nor Dense Index : /data/vdb/default/train_sensors/vdb/default_train_sensors_flat_index/metadata. OS reports: No such file or directory No index with this name present on disk\n"
     ]
    },
    {
     "name": "stderr",
     "output_type": "stream",
     "text": [
      "  0%|▏                                                                         | 567/329841 [01:24<13:19:12,  6.87it/s]"
     ]
    },
    {
     "name": "stdout",
     "output_type": "stream",
     "text": [
      "Erreur lors de la prédiction pour la fenêtre 565: Neither Sparse nor Dense Index : /data/vdb/default/train_sensors/vdb/default_train_sensors_flat_index/metadata. OS reports: No such file or directory No index with this name present on disk\n",
      "Erreur lors de la prédiction pour la fenêtre 566: Neither Sparse nor Dense Index : /data/vdb/default/train_sensors/vdb/default_train_sensors_flat_index/metadata. OS reports: No such file or directory No index with this name present on disk\n"
     ]
    },
    {
     "name": "stderr",
     "output_type": "stream",
     "text": [
      "  0%|▏                                                                         | 569/329841 [01:24<13:39:41,  6.70it/s]"
     ]
    },
    {
     "name": "stdout",
     "output_type": "stream",
     "text": [
      "Erreur lors de la prédiction pour la fenêtre 567: Neither Sparse nor Dense Index : /data/vdb/default/train_sensors/vdb/default_train_sensors_flat_index/metadata. OS reports: No such file or directory No index with this name present on disk\n",
      "Erreur lors de la prédiction pour la fenêtre 568: Neither Sparse nor Dense Index : /data/vdb/default/train_sensors/vdb/default_train_sensors_flat_index/metadata. OS reports: No such file or directory No index with this name present on disk\n"
     ]
    },
    {
     "name": "stderr",
     "output_type": "stream",
     "text": [
      "  0%|▏                                                                         | 571/329841 [01:24<13:20:08,  6.86it/s]"
     ]
    },
    {
     "name": "stdout",
     "output_type": "stream",
     "text": [
      "Erreur lors de la prédiction pour la fenêtre 569: Neither Sparse nor Dense Index : /data/vdb/default/train_sensors/vdb/default_train_sensors_flat_index/metadata. OS reports: No such file or directory No index with this name present on disk\n",
      "Erreur lors de la prédiction pour la fenêtre 570: Neither Sparse nor Dense Index : /data/vdb/default/train_sensors/vdb/default_train_sensors_flat_index/metadata. OS reports: No such file or directory No index with this name present on disk\n"
     ]
    },
    {
     "name": "stderr",
     "output_type": "stream",
     "text": [
      "  0%|▏                                                                         | 573/329841 [01:25<13:34:58,  6.73it/s]"
     ]
    },
    {
     "name": "stdout",
     "output_type": "stream",
     "text": [
      "Erreur lors de la prédiction pour la fenêtre 571: Neither Sparse nor Dense Index : /data/vdb/default/train_sensors/vdb/default_train_sensors_flat_index/metadata. OS reports: No such file or directory No index with this name present on disk\n",
      "Erreur lors de la prédiction pour la fenêtre 572: Neither Sparse nor Dense Index : /data/vdb/default/train_sensors/vdb/default_train_sensors_flat_index/metadata. OS reports: No such file or directory No index with this name present on disk\n"
     ]
    },
    {
     "name": "stderr",
     "output_type": "stream",
     "text": [
      "  0%|▏                                                                         | 575/329841 [01:25<13:16:21,  6.89it/s]"
     ]
    },
    {
     "name": "stdout",
     "output_type": "stream",
     "text": [
      "Erreur lors de la prédiction pour la fenêtre 573: Neither Sparse nor Dense Index : /data/vdb/default/train_sensors/vdb/default_train_sensors_flat_index/metadata. OS reports: No such file or directory No index with this name present on disk\n",
      "Erreur lors de la prédiction pour la fenêtre 574: Neither Sparse nor Dense Index : /data/vdb/default/train_sensors/vdb/default_train_sensors_flat_index/metadata. OS reports: No such file or directory No index with this name present on disk\n"
     ]
    },
    {
     "name": "stderr",
     "output_type": "stream",
     "text": [
      "  0%|▏                                                                         | 577/329841 [01:25<13:16:35,  6.89it/s]"
     ]
    },
    {
     "name": "stdout",
     "output_type": "stream",
     "text": [
      "Erreur lors de la prédiction pour la fenêtre 575: Neither Sparse nor Dense Index : /data/vdb/default/train_sensors/vdb/default_train_sensors_flat_index/metadata. OS reports: No such file or directory No index with this name present on disk\n",
      "Erreur lors de la prédiction pour la fenêtre 576: Neither Sparse nor Dense Index : /data/vdb/default/train_sensors/vdb/default_train_sensors_flat_index/metadata. OS reports: No such file or directory No index with this name present on disk\n"
     ]
    },
    {
     "name": "stderr",
     "output_type": "stream",
     "text": [
      "  0%|▏                                                                         | 579/329841 [01:25<13:09:52,  6.95it/s]"
     ]
    },
    {
     "name": "stdout",
     "output_type": "stream",
     "text": [
      "Erreur lors de la prédiction pour la fenêtre 577: Neither Sparse nor Dense Index : /data/vdb/default/train_sensors/vdb/default_train_sensors_flat_index/metadata. OS reports: No such file or directory No index with this name present on disk\n",
      "Erreur lors de la prédiction pour la fenêtre 578: Neither Sparse nor Dense Index : /data/vdb/default/train_sensors/vdb/default_train_sensors_flat_index/metadata. OS reports: No such file or directory No index with this name present on disk\n"
     ]
    },
    {
     "name": "stderr",
     "output_type": "stream",
     "text": [
      "  0%|▏                                                                         | 581/329841 [01:26<13:07:33,  6.97it/s]"
     ]
    },
    {
     "name": "stdout",
     "output_type": "stream",
     "text": [
      "Erreur lors de la prédiction pour la fenêtre 579: Neither Sparse nor Dense Index : /data/vdb/default/train_sensors/vdb/default_train_sensors_flat_index/metadata. OS reports: No such file or directory No index with this name present on disk\n",
      "Erreur lors de la prédiction pour la fenêtre 580: Neither Sparse nor Dense Index : /data/vdb/default/train_sensors/vdb/default_train_sensors_flat_index/metadata. OS reports: No such file or directory No index with this name present on disk\n"
     ]
    },
    {
     "name": "stderr",
     "output_type": "stream",
     "text": [
      "  0%|▏                                                                         | 583/329841 [01:26<13:05:16,  6.99it/s]"
     ]
    },
    {
     "name": "stdout",
     "output_type": "stream",
     "text": [
      "Erreur lors de la prédiction pour la fenêtre 581: Neither Sparse nor Dense Index : /data/vdb/default/train_sensors/vdb/default_train_sensors_flat_index/metadata. OS reports: No such file or directory No index with this name present on disk\n",
      "Erreur lors de la prédiction pour la fenêtre 582: Neither Sparse nor Dense Index : /data/vdb/default/train_sensors/vdb/default_train_sensors_flat_index/metadata. OS reports: No such file or directory No index with this name present on disk\n"
     ]
    },
    {
     "name": "stderr",
     "output_type": "stream",
     "text": [
      "  0%|▏                                                                         | 585/329841 [01:26<13:05:38,  6.98it/s]"
     ]
    },
    {
     "name": "stdout",
     "output_type": "stream",
     "text": [
      "Erreur lors de la prédiction pour la fenêtre 583: Neither Sparse nor Dense Index : /data/vdb/default/train_sensors/vdb/default_train_sensors_flat_index/metadata. OS reports: No such file or directory No index with this name present on disk\n",
      "Erreur lors de la prédiction pour la fenêtre 584: Neither Sparse nor Dense Index : /data/vdb/default/train_sensors/vdb/default_train_sensors_flat_index/metadata. OS reports: No such file or directory No index with this name present on disk\n"
     ]
    },
    {
     "name": "stderr",
     "output_type": "stream",
     "text": [
      "  0%|▏                                                                         | 587/329841 [01:27<13:21:40,  6.85it/s]"
     ]
    },
    {
     "name": "stdout",
     "output_type": "stream",
     "text": [
      "Erreur lors de la prédiction pour la fenêtre 585: Neither Sparse nor Dense Index : /data/vdb/default/train_sensors/vdb/default_train_sensors_flat_index/metadata. OS reports: No such file or directory No index with this name present on disk\n",
      "Erreur lors de la prédiction pour la fenêtre 586: Neither Sparse nor Dense Index : /data/vdb/default/train_sensors/vdb/default_train_sensors_flat_index/metadata. OS reports: No such file or directory No index with this name present on disk\n"
     ]
    },
    {
     "name": "stderr",
     "output_type": "stream",
     "text": [
      "  0%|▏                                                                         | 589/329841 [01:27<13:26:34,  6.80it/s]"
     ]
    },
    {
     "name": "stdout",
     "output_type": "stream",
     "text": [
      "Erreur lors de la prédiction pour la fenêtre 587: Neither Sparse nor Dense Index : /data/vdb/default/train_sensors/vdb/default_train_sensors_flat_index/metadata. OS reports: No such file or directory No index with this name present on disk\n",
      "Erreur lors de la prédiction pour la fenêtre 588: Neither Sparse nor Dense Index : /data/vdb/default/train_sensors/vdb/default_train_sensors_flat_index/metadata. OS reports: No such file or directory No index with this name present on disk\n"
     ]
    },
    {
     "name": "stderr",
     "output_type": "stream",
     "text": [
      "  0%|▏                                                                         | 591/329841 [01:27<13:50:06,  6.61it/s]"
     ]
    },
    {
     "name": "stdout",
     "output_type": "stream",
     "text": [
      "Erreur lors de la prédiction pour la fenêtre 589: Neither Sparse nor Dense Index : /data/vdb/default/train_sensors/vdb/default_train_sensors_flat_index/metadata. OS reports: No such file or directory No index with this name present on disk\n",
      "Erreur lors de la prédiction pour la fenêtre 590: Neither Sparse nor Dense Index : /data/vdb/default/train_sensors/vdb/default_train_sensors_flat_index/metadata. OS reports: No such file or directory No index with this name present on disk\n"
     ]
    },
    {
     "name": "stderr",
     "output_type": "stream",
     "text": [
      "  0%|▏                                                                         | 593/329841 [01:27<13:49:30,  6.62it/s]"
     ]
    },
    {
     "name": "stdout",
     "output_type": "stream",
     "text": [
      "Erreur lors de la prédiction pour la fenêtre 591: Neither Sparse nor Dense Index : /data/vdb/default/train_sensors/vdb/default_train_sensors_flat_index/metadata. OS reports: No such file or directory No index with this name present on disk\n",
      "Erreur lors de la prédiction pour la fenêtre 592: Neither Sparse nor Dense Index : /data/vdb/default/train_sensors/vdb/default_train_sensors_flat_index/metadata. OS reports: No such file or directory No index with this name present on disk\n"
     ]
    },
    {
     "name": "stderr",
     "output_type": "stream",
     "text": [
      "  0%|▏                                                                         | 595/329841 [01:28<13:28:40,  6.79it/s]"
     ]
    },
    {
     "name": "stdout",
     "output_type": "stream",
     "text": [
      "Erreur lors de la prédiction pour la fenêtre 593: Neither Sparse nor Dense Index : /data/vdb/default/train_sensors/vdb/default_train_sensors_flat_index/metadata. OS reports: No such file or directory No index with this name present on disk\n",
      "Erreur lors de la prédiction pour la fenêtre 594: Neither Sparse nor Dense Index : /data/vdb/default/train_sensors/vdb/default_train_sensors_flat_index/metadata. OS reports: No such file or directory No index with this name present on disk\n"
     ]
    },
    {
     "name": "stderr",
     "output_type": "stream",
     "text": [
      "  0%|▏                                                                         | 597/329841 [01:28<13:16:52,  6.89it/s]"
     ]
    },
    {
     "name": "stdout",
     "output_type": "stream",
     "text": [
      "Erreur lors de la prédiction pour la fenêtre 595: Neither Sparse nor Dense Index : /data/vdb/default/train_sensors/vdb/default_train_sensors_flat_index/metadata. OS reports: No such file or directory No index with this name present on disk\n",
      "Erreur lors de la prédiction pour la fenêtre 596: Neither Sparse nor Dense Index : /data/vdb/default/train_sensors/vdb/default_train_sensors_flat_index/metadata. OS reports: No such file or directory No index with this name present on disk\n"
     ]
    },
    {
     "name": "stderr",
     "output_type": "stream",
     "text": [
      "  0%|▏                                                                         | 599/329841 [01:28<13:09:26,  6.95it/s]"
     ]
    },
    {
     "name": "stdout",
     "output_type": "stream",
     "text": [
      "Erreur lors de la prédiction pour la fenêtre 597: Neither Sparse nor Dense Index : /data/vdb/default/train_sensors/vdb/default_train_sensors_flat_index/metadata. OS reports: No such file or directory No index with this name present on disk\n",
      "Erreur lors de la prédiction pour la fenêtre 598: Neither Sparse nor Dense Index : /data/vdb/default/train_sensors/vdb/default_train_sensors_flat_index/metadata. OS reports: No such file or directory No index with this name present on disk\n"
     ]
    },
    {
     "name": "stderr",
     "output_type": "stream",
     "text": [
      "  0%|▏                                                                         | 601/329841 [01:29<13:15:31,  6.90it/s]"
     ]
    },
    {
     "name": "stdout",
     "output_type": "stream",
     "text": [
      "Erreur lors de la prédiction pour la fenêtre 599: Neither Sparse nor Dense Index : /data/vdb/default/train_sensors/vdb/default_train_sensors_flat_index/metadata. OS reports: No such file or directory No index with this name present on disk\n",
      "Erreur lors de la prédiction pour la fenêtre 600: Neither Sparse nor Dense Index : /data/vdb/default/train_sensors/vdb/default_train_sensors_flat_index/metadata. OS reports: No such file or directory No index with this name present on disk\n"
     ]
    },
    {
     "name": "stderr",
     "output_type": "stream",
     "text": [
      "  0%|▏                                                                         | 603/329841 [01:29<13:21:11,  6.85it/s]"
     ]
    },
    {
     "name": "stdout",
     "output_type": "stream",
     "text": [
      "Erreur lors de la prédiction pour la fenêtre 601: Neither Sparse nor Dense Index : /data/vdb/default/train_sensors/vdb/default_train_sensors_flat_index/metadata. OS reports: No such file or directory No index with this name present on disk\n",
      "Erreur lors de la prédiction pour la fenêtre 602: Neither Sparse nor Dense Index : /data/vdb/default/train_sensors/vdb/default_train_sensors_flat_index/metadata. OS reports: No such file or directory No index with this name present on disk\n"
     ]
    },
    {
     "name": "stderr",
     "output_type": "stream",
     "text": [
      "  0%|▏                                                                         | 605/329841 [01:29<13:16:59,  6.89it/s]"
     ]
    },
    {
     "name": "stdout",
     "output_type": "stream",
     "text": [
      "Erreur lors de la prédiction pour la fenêtre 603: Neither Sparse nor Dense Index : /data/vdb/default/train_sensors/vdb/default_train_sensors_flat_index/metadata. OS reports: No such file or directory No index with this name present on disk\n",
      "Erreur lors de la prédiction pour la fenêtre 604: Neither Sparse nor Dense Index : /data/vdb/default/train_sensors/vdb/default_train_sensors_flat_index/metadata. OS reports: No such file or directory No index with this name present on disk\n"
     ]
    },
    {
     "name": "stderr",
     "output_type": "stream",
     "text": [
      "  0%|▏                                                                         | 607/329841 [01:29<13:04:31,  6.99it/s]"
     ]
    },
    {
     "name": "stdout",
     "output_type": "stream",
     "text": [
      "Erreur lors de la prédiction pour la fenêtre 605: Neither Sparse nor Dense Index : /data/vdb/default/train_sensors/vdb/default_train_sensors_flat_index/metadata. OS reports: No such file or directory No index with this name present on disk\n",
      "Erreur lors de la prédiction pour la fenêtre 606: Neither Sparse nor Dense Index : /data/vdb/default/train_sensors/vdb/default_train_sensors_flat_index/metadata. OS reports: No such file or directory No index with this name present on disk\n"
     ]
    },
    {
     "name": "stderr",
     "output_type": "stream",
     "text": [
      "  0%|▏                                                                         | 609/329841 [01:30<13:28:17,  6.79it/s]"
     ]
    },
    {
     "name": "stdout",
     "output_type": "stream",
     "text": [
      "Erreur lors de la prédiction pour la fenêtre 607: Neither Sparse nor Dense Index : /data/vdb/default/train_sensors/vdb/default_train_sensors_flat_index/metadata. OS reports: No such file or directory No index with this name present on disk\n",
      "Erreur lors de la prédiction pour la fenêtre 608: Neither Sparse nor Dense Index : /data/vdb/default/train_sensors/vdb/default_train_sensors_flat_index/metadata. OS reports: No such file or directory No index with this name present on disk\n"
     ]
    },
    {
     "name": "stderr",
     "output_type": "stream",
     "text": [
      "  0%|▏                                                                         | 611/329841 [01:30<13:40:40,  6.69it/s]"
     ]
    },
    {
     "name": "stdout",
     "output_type": "stream",
     "text": [
      "Erreur lors de la prédiction pour la fenêtre 609: Neither Sparse nor Dense Index : /data/vdb/default/train_sensors/vdb/default_train_sensors_flat_index/metadata. OS reports: No such file or directory No index with this name present on disk\n",
      "Erreur lors de la prédiction pour la fenêtre 610: Neither Sparse nor Dense Index : /data/vdb/default/train_sensors/vdb/default_train_sensors_flat_index/metadata. OS reports: No such file or directory No index with this name present on disk\n"
     ]
    },
    {
     "name": "stderr",
     "output_type": "stream",
     "text": [
      "  0%|▏                                                                         | 613/329841 [01:30<14:07:32,  6.47it/s]"
     ]
    },
    {
     "name": "stdout",
     "output_type": "stream",
     "text": [
      "Erreur lors de la prédiction pour la fenêtre 611: Neither Sparse nor Dense Index : /data/vdb/default/train_sensors/vdb/default_train_sensors_flat_index/metadata. OS reports: No such file or directory No index with this name present on disk\n",
      "Erreur lors de la prédiction pour la fenêtre 612: Neither Sparse nor Dense Index : /data/vdb/default/train_sensors/vdb/default_train_sensors_flat_index/metadata. OS reports: No such file or directory No index with this name present on disk\n"
     ]
    },
    {
     "name": "stderr",
     "output_type": "stream",
     "text": [
      "  0%|▏                                                                         | 615/329841 [01:31<13:46:18,  6.64it/s]"
     ]
    },
    {
     "name": "stdout",
     "output_type": "stream",
     "text": [
      "Erreur lors de la prédiction pour la fenêtre 613: Neither Sparse nor Dense Index : /data/vdb/default/train_sensors/vdb/default_train_sensors_flat_index/metadata. OS reports: No such file or directory No index with this name present on disk\n",
      "Erreur lors de la prédiction pour la fenêtre 614: Neither Sparse nor Dense Index : /data/vdb/default/train_sensors/vdb/default_train_sensors_flat_index/metadata. OS reports: No such file or directory No index with this name present on disk\n"
     ]
    },
    {
     "name": "stderr",
     "output_type": "stream",
     "text": [
      "  0%|▏                                                                         | 617/329841 [01:31<13:38:47,  6.70it/s]"
     ]
    },
    {
     "name": "stdout",
     "output_type": "stream",
     "text": [
      "Erreur lors de la prédiction pour la fenêtre 615: Neither Sparse nor Dense Index : /data/vdb/default/train_sensors/vdb/default_train_sensors_flat_index/metadata. OS reports: No such file or directory No index with this name present on disk\n",
      "Erreur lors de la prédiction pour la fenêtre 616: Neither Sparse nor Dense Index : /data/vdb/default/train_sensors/vdb/default_train_sensors_flat_index/metadata. OS reports: No such file or directory No index with this name present on disk\n"
     ]
    },
    {
     "name": "stderr",
     "output_type": "stream",
     "text": [
      "  0%|▏                                                                         | 619/329841 [01:31<13:28:01,  6.79it/s]"
     ]
    },
    {
     "name": "stdout",
     "output_type": "stream",
     "text": [
      "Erreur lors de la prédiction pour la fenêtre 617: Neither Sparse nor Dense Index : /data/vdb/default/train_sensors/vdb/default_train_sensors_flat_index/metadata. OS reports: No such file or directory No index with this name present on disk\n",
      "Erreur lors de la prédiction pour la fenêtre 618: Neither Sparse nor Dense Index : /data/vdb/default/train_sensors/vdb/default_train_sensors_flat_index/metadata. OS reports: No such file or directory No index with this name present on disk\n"
     ]
    },
    {
     "name": "stderr",
     "output_type": "stream",
     "text": [
      "  0%|▏                                                                         | 621/329841 [01:32<13:32:30,  6.75it/s]"
     ]
    },
    {
     "name": "stdout",
     "output_type": "stream",
     "text": [
      "Erreur lors de la prédiction pour la fenêtre 619: Neither Sparse nor Dense Index : /data/vdb/default/train_sensors/vdb/default_train_sensors_flat_index/metadata. OS reports: No such file or directory No index with this name present on disk\n",
      "Erreur lors de la prédiction pour la fenêtre 620: Neither Sparse nor Dense Index : /data/vdb/default/train_sensors/vdb/default_train_sensors_flat_index/metadata. OS reports: No such file or directory No index with this name present on disk\n"
     ]
    },
    {
     "name": "stderr",
     "output_type": "stream",
     "text": [
      "  0%|▏                                                                         | 623/329841 [01:32<13:32:38,  6.75it/s]"
     ]
    },
    {
     "name": "stdout",
     "output_type": "stream",
     "text": [
      "Erreur lors de la prédiction pour la fenêtre 621: Neither Sparse nor Dense Index : /data/vdb/default/train_sensors/vdb/default_train_sensors_flat_index/metadata. OS reports: No such file or directory No index with this name present on disk\n",
      "Erreur lors de la prédiction pour la fenêtre 622: Neither Sparse nor Dense Index : /data/vdb/default/train_sensors/vdb/default_train_sensors_flat_index/metadata. OS reports: No such file or directory No index with this name present on disk\n"
     ]
    },
    {
     "name": "stderr",
     "output_type": "stream",
     "text": [
      "  0%|▏                                                                         | 625/329841 [01:32<13:18:15,  6.87it/s]"
     ]
    },
    {
     "name": "stdout",
     "output_type": "stream",
     "text": [
      "Erreur lors de la prédiction pour la fenêtre 623: Neither Sparse nor Dense Index : /data/vdb/default/train_sensors/vdb/default_train_sensors_flat_index/metadata. OS reports: No such file or directory No index with this name present on disk\n",
      "Erreur lors de la prédiction pour la fenêtre 624: Neither Sparse nor Dense Index : /data/vdb/default/train_sensors/vdb/default_train_sensors_flat_index/metadata. OS reports: No such file or directory No index with this name present on disk\n"
     ]
    },
    {
     "name": "stderr",
     "output_type": "stream",
     "text": [
      "  0%|▏                                                                         | 627/329841 [01:32<13:13:59,  6.91it/s]"
     ]
    },
    {
     "name": "stdout",
     "output_type": "stream",
     "text": [
      "Erreur lors de la prédiction pour la fenêtre 625: Neither Sparse nor Dense Index : /data/vdb/default/train_sensors/vdb/default_train_sensors_flat_index/metadata. OS reports: No such file or directory No index with this name present on disk\n",
      "Erreur lors de la prédiction pour la fenêtre 626: Neither Sparse nor Dense Index : /data/vdb/default/train_sensors/vdb/default_train_sensors_flat_index/metadata. OS reports: No such file or directory No index with this name present on disk\n"
     ]
    },
    {
     "name": "stderr",
     "output_type": "stream",
     "text": [
      "  0%|▏                                                                         | 629/329841 [01:33<13:18:03,  6.88it/s]"
     ]
    },
    {
     "name": "stdout",
     "output_type": "stream",
     "text": [
      "Erreur lors de la prédiction pour la fenêtre 627: Neither Sparse nor Dense Index : /data/vdb/default/train_sensors/vdb/default_train_sensors_flat_index/metadata. OS reports: No such file or directory No index with this name present on disk\n",
      "Erreur lors de la prédiction pour la fenêtre 628: Neither Sparse nor Dense Index : /data/vdb/default/train_sensors/vdb/default_train_sensors_flat_index/metadata. OS reports: No such file or directory No index with this name present on disk\n"
     ]
    },
    {
     "name": "stderr",
     "output_type": "stream",
     "text": [
      "  0%|▏                                                                         | 631/329841 [01:33<13:11:05,  6.94it/s]"
     ]
    },
    {
     "name": "stdout",
     "output_type": "stream",
     "text": [
      "Erreur lors de la prédiction pour la fenêtre 629: Neither Sparse nor Dense Index : /data/vdb/default/train_sensors/vdb/default_train_sensors_flat_index/metadata. OS reports: No such file or directory No index with this name present on disk\n",
      "Erreur lors de la prédiction pour la fenêtre 630: Neither Sparse nor Dense Index : /data/vdb/default/train_sensors/vdb/default_train_sensors_flat_index/metadata. OS reports: No such file or directory No index with this name present on disk\n"
     ]
    },
    {
     "name": "stderr",
     "output_type": "stream",
     "text": [
      "  0%|▏                                                                         | 633/329841 [01:33<13:51:21,  6.60it/s]"
     ]
    },
    {
     "name": "stdout",
     "output_type": "stream",
     "text": [
      "Erreur lors de la prédiction pour la fenêtre 631: Neither Sparse nor Dense Index : /data/vdb/default/train_sensors/vdb/default_train_sensors_flat_index/metadata. OS reports: No such file or directory No index with this name present on disk\n",
      "Erreur lors de la prédiction pour la fenêtre 632: Neither Sparse nor Dense Index : /data/vdb/default/train_sensors/vdb/default_train_sensors_flat_index/metadata. OS reports: No such file or directory No index with this name present on disk\n"
     ]
    },
    {
     "name": "stderr",
     "output_type": "stream",
     "text": [
      "  0%|▏                                                                         | 635/329841 [01:34<13:44:30,  6.65it/s]"
     ]
    },
    {
     "name": "stdout",
     "output_type": "stream",
     "text": [
      "Erreur lors de la prédiction pour la fenêtre 633: Neither Sparse nor Dense Index : /data/vdb/default/train_sensors/vdb/default_train_sensors_flat_index/metadata. OS reports: No such file or directory No index with this name present on disk\n",
      "Erreur lors de la prédiction pour la fenêtre 634: Neither Sparse nor Dense Index : /data/vdb/default/train_sensors/vdb/default_train_sensors_flat_index/metadata. OS reports: No such file or directory No index with this name present on disk\n"
     ]
    },
    {
     "name": "stderr",
     "output_type": "stream",
     "text": [
      "  0%|▏                                                                         | 637/329841 [01:34<14:05:09,  6.49it/s]"
     ]
    },
    {
     "name": "stdout",
     "output_type": "stream",
     "text": [
      "Erreur lors de la prédiction pour la fenêtre 635: Neither Sparse nor Dense Index : /data/vdb/default/train_sensors/vdb/default_train_sensors_flat_index/metadata. OS reports: No such file or directory No index with this name present on disk\n",
      "Erreur lors de la prédiction pour la fenêtre 636: Neither Sparse nor Dense Index : /data/vdb/default/train_sensors/vdb/default_train_sensors_flat_index/metadata. OS reports: No such file or directory No index with this name present on disk\n"
     ]
    },
    {
     "name": "stderr",
     "output_type": "stream",
     "text": [
      "  0%|▏                                                                         | 639/329841 [01:34<13:57:57,  6.55it/s]"
     ]
    },
    {
     "name": "stdout",
     "output_type": "stream",
     "text": [
      "Erreur lors de la prédiction pour la fenêtre 637: Neither Sparse nor Dense Index : /data/vdb/default/train_sensors/vdb/default_train_sensors_flat_index/metadata. OS reports: No such file or directory No index with this name present on disk\n",
      "Erreur lors de la prédiction pour la fenêtre 638: Neither Sparse nor Dense Index : /data/vdb/default/train_sensors/vdb/default_train_sensors_flat_index/metadata. OS reports: No such file or directory No index with this name present on disk\n"
     ]
    },
    {
     "name": "stderr",
     "output_type": "stream",
     "text": [
      "  0%|▏                                                                         | 641/329841 [01:35<13:40:23,  6.69it/s]"
     ]
    },
    {
     "name": "stdout",
     "output_type": "stream",
     "text": [
      "Erreur lors de la prédiction pour la fenêtre 639: Neither Sparse nor Dense Index : /data/vdb/default/train_sensors/vdb/default_train_sensors_flat_index/metadata. OS reports: No such file or directory No index with this name present on disk\n",
      "Erreur lors de la prédiction pour la fenêtre 640: Neither Sparse nor Dense Index : /data/vdb/default/train_sensors/vdb/default_train_sensors_flat_index/metadata. OS reports: No such file or directory No index with this name present on disk\n"
     ]
    },
    {
     "name": "stderr",
     "output_type": "stream",
     "text": [
      "  0%|▏                                                                         | 643/329841 [01:35<13:38:28,  6.70it/s]"
     ]
    },
    {
     "name": "stdout",
     "output_type": "stream",
     "text": [
      "Erreur lors de la prédiction pour la fenêtre 641: Neither Sparse nor Dense Index : /data/vdb/default/train_sensors/vdb/default_train_sensors_flat_index/metadata. OS reports: No such file or directory No index with this name present on disk\n",
      "Erreur lors de la prédiction pour la fenêtre 642: Neither Sparse nor Dense Index : /data/vdb/default/train_sensors/vdb/default_train_sensors_flat_index/metadata. OS reports: No such file or directory No index with this name present on disk\n"
     ]
    },
    {
     "name": "stderr",
     "output_type": "stream",
     "text": [
      "  0%|▏                                                                         | 645/329841 [01:35<13:42:06,  6.67it/s]"
     ]
    },
    {
     "name": "stdout",
     "output_type": "stream",
     "text": [
      "Erreur lors de la prédiction pour la fenêtre 643: Neither Sparse nor Dense Index : /data/vdb/default/train_sensors/vdb/default_train_sensors_flat_index/metadata. OS reports: No such file or directory No index with this name present on disk\n",
      "Erreur lors de la prédiction pour la fenêtre 644: Neither Sparse nor Dense Index : /data/vdb/default/train_sensors/vdb/default_train_sensors_flat_index/metadata. OS reports: No such file or directory No index with this name present on disk\n"
     ]
    },
    {
     "name": "stderr",
     "output_type": "stream",
     "text": [
      "  0%|▏                                                                         | 647/329841 [01:35<13:46:51,  6.64it/s]"
     ]
    },
    {
     "name": "stdout",
     "output_type": "stream",
     "text": [
      "Erreur lors de la prédiction pour la fenêtre 645: Neither Sparse nor Dense Index : /data/vdb/default/train_sensors/vdb/default_train_sensors_flat_index/metadata. OS reports: No such file or directory No index with this name present on disk\n",
      "Erreur lors de la prédiction pour la fenêtre 646: Neither Sparse nor Dense Index : /data/vdb/default/train_sensors/vdb/default_train_sensors_flat_index/metadata. OS reports: No such file or directory No index with this name present on disk\n"
     ]
    },
    {
     "name": "stderr",
     "output_type": "stream",
     "text": [
      "  0%|▏                                                                         | 649/329841 [01:36<13:32:07,  6.76it/s]"
     ]
    },
    {
     "name": "stdout",
     "output_type": "stream",
     "text": [
      "Erreur lors de la prédiction pour la fenêtre 647: Neither Sparse nor Dense Index : /data/vdb/default/train_sensors/vdb/default_train_sensors_flat_index/metadata. OS reports: No such file or directory No index with this name present on disk\n",
      "Erreur lors de la prédiction pour la fenêtre 648: Neither Sparse nor Dense Index : /data/vdb/default/train_sensors/vdb/default_train_sensors_flat_index/metadata. OS reports: No such file or directory No index with this name present on disk\n"
     ]
    },
    {
     "name": "stderr",
     "output_type": "stream",
     "text": [
      "  0%|▏                                                                         | 651/329841 [01:36<13:24:28,  6.82it/s]"
     ]
    },
    {
     "name": "stdout",
     "output_type": "stream",
     "text": [
      "Erreur lors de la prédiction pour la fenêtre 649: Neither Sparse nor Dense Index : /data/vdb/default/train_sensors/vdb/default_train_sensors_flat_index/metadata. OS reports: No such file or directory No index with this name present on disk\n",
      "Erreur lors de la prédiction pour la fenêtre 650: Neither Sparse nor Dense Index : /data/vdb/default/train_sensors/vdb/default_train_sensors_flat_index/metadata. OS reports: No such file or directory No index with this name present on disk\n"
     ]
    },
    {
     "name": "stderr",
     "output_type": "stream",
     "text": [
      "  0%|▏                                                                         | 653/329841 [01:36<13:36:16,  6.72it/s]"
     ]
    },
    {
     "name": "stdout",
     "output_type": "stream",
     "text": [
      "Erreur lors de la prédiction pour la fenêtre 651: Neither Sparse nor Dense Index : /data/vdb/default/train_sensors/vdb/default_train_sensors_flat_index/metadata. OS reports: No such file or directory No index with this name present on disk\n",
      "Erreur lors de la prédiction pour la fenêtre 652: Neither Sparse nor Dense Index : /data/vdb/default/train_sensors/vdb/default_train_sensors_flat_index/metadata. OS reports: No such file or directory No index with this name present on disk\n"
     ]
    },
    {
     "name": "stderr",
     "output_type": "stream",
     "text": [
      "  0%|▏                                                                         | 655/329841 [01:37<13:25:24,  6.81it/s]"
     ]
    },
    {
     "name": "stdout",
     "output_type": "stream",
     "text": [
      "Erreur lors de la prédiction pour la fenêtre 653: Neither Sparse nor Dense Index : /data/vdb/default/train_sensors/vdb/default_train_sensors_flat_index/metadata. OS reports: No such file or directory No index with this name present on disk\n",
      "Erreur lors de la prédiction pour la fenêtre 654: Neither Sparse nor Dense Index : /data/vdb/default/train_sensors/vdb/default_train_sensors_flat_index/metadata. OS reports: No such file or directory No index with this name present on disk\n"
     ]
    },
    {
     "name": "stderr",
     "output_type": "stream",
     "text": [
      "  0%|▏                                                                         | 657/329841 [01:37<13:21:38,  6.84it/s]"
     ]
    },
    {
     "name": "stdout",
     "output_type": "stream",
     "text": [
      "Erreur lors de la prédiction pour la fenêtre 655: Neither Sparse nor Dense Index : /data/vdb/default/train_sensors/vdb/default_train_sensors_flat_index/metadata. OS reports: No such file or directory No index with this name present on disk\n",
      "Erreur lors de la prédiction pour la fenêtre 656: Neither Sparse nor Dense Index : /data/vdb/default/train_sensors/vdb/default_train_sensors_flat_index/metadata. OS reports: No such file or directory No index with this name present on disk\n"
     ]
    },
    {
     "name": "stderr",
     "output_type": "stream",
     "text": [
      "  0%|▏                                                                         | 659/329841 [01:37<13:09:04,  6.95it/s]"
     ]
    },
    {
     "name": "stdout",
     "output_type": "stream",
     "text": [
      "Erreur lors de la prédiction pour la fenêtre 657: Neither Sparse nor Dense Index : /data/vdb/default/train_sensors/vdb/default_train_sensors_flat_index/metadata. OS reports: No such file or directory No index with this name present on disk\n",
      "Erreur lors de la prédiction pour la fenêtre 658: Neither Sparse nor Dense Index : /data/vdb/default/train_sensors/vdb/default_train_sensors_flat_index/metadata. OS reports: No such file or directory No index with this name present on disk\n"
     ]
    },
    {
     "name": "stderr",
     "output_type": "stream",
     "text": [
      "  0%|▏                                                                         | 661/329841 [01:38<13:10:04,  6.94it/s]"
     ]
    },
    {
     "name": "stdout",
     "output_type": "stream",
     "text": [
      "Erreur lors de la prédiction pour la fenêtre 659: Neither Sparse nor Dense Index : /data/vdb/default/train_sensors/vdb/default_train_sensors_flat_index/metadata. OS reports: No such file or directory No index with this name present on disk\n",
      "Erreur lors de la prédiction pour la fenêtre 660: Neither Sparse nor Dense Index : /data/vdb/default/train_sensors/vdb/default_train_sensors_flat_index/metadata. OS reports: No such file or directory No index with this name present on disk\n"
     ]
    },
    {
     "name": "stderr",
     "output_type": "stream",
     "text": [
      "  0%|▏                                                                         | 663/329841 [01:38<13:30:36,  6.77it/s]"
     ]
    },
    {
     "name": "stdout",
     "output_type": "stream",
     "text": [
      "Erreur lors de la prédiction pour la fenêtre 661: Neither Sparse nor Dense Index : /data/vdb/default/train_sensors/vdb/default_train_sensors_flat_index/metadata. OS reports: No such file or directory No index with this name present on disk\n",
      "Erreur lors de la prédiction pour la fenêtre 662: Neither Sparse nor Dense Index : /data/vdb/default/train_sensors/vdb/default_train_sensors_flat_index/metadata. OS reports: No such file or directory No index with this name present on disk\n"
     ]
    },
    {
     "name": "stderr",
     "output_type": "stream",
     "text": [
      "  0%|▏                                                                         | 665/329841 [01:38<13:22:41,  6.83it/s]"
     ]
    },
    {
     "name": "stdout",
     "output_type": "stream",
     "text": [
      "Erreur lors de la prédiction pour la fenêtre 663: Neither Sparse nor Dense Index : /data/vdb/default/train_sensors/vdb/default_train_sensors_flat_index/metadata. OS reports: No such file or directory No index with this name present on disk\n",
      "Erreur lors de la prédiction pour la fenêtre 664: Neither Sparse nor Dense Index : /data/vdb/default/train_sensors/vdb/default_train_sensors_flat_index/metadata. OS reports: No such file or directory No index with this name present on disk\n"
     ]
    },
    {
     "name": "stderr",
     "output_type": "stream",
     "text": [
      "  0%|▏                                                                         | 667/329841 [01:38<13:41:12,  6.68it/s]"
     ]
    },
    {
     "name": "stdout",
     "output_type": "stream",
     "text": [
      "Erreur lors de la prédiction pour la fenêtre 665: Neither Sparse nor Dense Index : /data/vdb/default/train_sensors/vdb/default_train_sensors_flat_index/metadata. OS reports: No such file or directory No index with this name present on disk\n",
      "Erreur lors de la prédiction pour la fenêtre 666: Neither Sparse nor Dense Index : /data/vdb/default/train_sensors/vdb/default_train_sensors_flat_index/metadata. OS reports: No such file or directory No index with this name present on disk\n"
     ]
    },
    {
     "name": "stderr",
     "output_type": "stream",
     "text": [
      "  0%|▏                                                                         | 669/329841 [01:39<13:20:59,  6.85it/s]"
     ]
    },
    {
     "name": "stdout",
     "output_type": "stream",
     "text": [
      "Erreur lors de la prédiction pour la fenêtre 667: Neither Sparse nor Dense Index : /data/vdb/default/train_sensors/vdb/default_train_sensors_flat_index/metadata. OS reports: No such file or directory No index with this name present on disk\n",
      "Erreur lors de la prédiction pour la fenêtre 668: Neither Sparse nor Dense Index : /data/vdb/default/train_sensors/vdb/default_train_sensors_flat_index/metadata. OS reports: No such file or directory No index with this name present on disk\n"
     ]
    },
    {
     "name": "stderr",
     "output_type": "stream",
     "text": [
      "  0%|▏                                                                         | 671/329841 [01:39<13:40:52,  6.68it/s]"
     ]
    },
    {
     "name": "stdout",
     "output_type": "stream",
     "text": [
      "Erreur lors de la prédiction pour la fenêtre 669: Neither Sparse nor Dense Index : /data/vdb/default/train_sensors/vdb/default_train_sensors_flat_index/metadata. OS reports: No such file or directory No index with this name present on disk\n",
      "Erreur lors de la prédiction pour la fenêtre 670: Neither Sparse nor Dense Index : /data/vdb/default/train_sensors/vdb/default_train_sensors_flat_index/metadata. OS reports: No such file or directory No index with this name present on disk\n"
     ]
    },
    {
     "name": "stderr",
     "output_type": "stream",
     "text": [
      "  0%|▏                                                                         | 673/329841 [01:39<13:34:02,  6.74it/s]"
     ]
    },
    {
     "name": "stdout",
     "output_type": "stream",
     "text": [
      "Erreur lors de la prédiction pour la fenêtre 671: Neither Sparse nor Dense Index : /data/vdb/default/train_sensors/vdb/default_train_sensors_flat_index/metadata. OS reports: No such file or directory No index with this name present on disk\n",
      "Erreur lors de la prédiction pour la fenêtre 672: Neither Sparse nor Dense Index : /data/vdb/default/train_sensors/vdb/default_train_sensors_flat_index/metadata. OS reports: No such file or directory No index with this name present on disk\n"
     ]
    },
    {
     "name": "stderr",
     "output_type": "stream",
     "text": [
      "  0%|▏                                                                         | 675/329841 [01:40<13:25:30,  6.81it/s]"
     ]
    },
    {
     "name": "stdout",
     "output_type": "stream",
     "text": [
      "Erreur lors de la prédiction pour la fenêtre 673: Neither Sparse nor Dense Index : /data/vdb/default/train_sensors/vdb/default_train_sensors_flat_index/metadata. OS reports: No such file or directory No index with this name present on disk\n",
      "Erreur lors de la prédiction pour la fenêtre 674: Neither Sparse nor Dense Index : /data/vdb/default/train_sensors/vdb/default_train_sensors_flat_index/metadata. OS reports: No such file or directory No index with this name present on disk\n"
     ]
    },
    {
     "name": "stderr",
     "output_type": "stream",
     "text": [
      "  0%|▏                                                                         | 677/329841 [01:40<13:21:44,  6.84it/s]"
     ]
    },
    {
     "name": "stdout",
     "output_type": "stream",
     "text": [
      "Erreur lors de la prédiction pour la fenêtre 675: Neither Sparse nor Dense Index : /data/vdb/default/train_sensors/vdb/default_train_sensors_flat_index/metadata. OS reports: No such file or directory No index with this name present on disk\n",
      "Erreur lors de la prédiction pour la fenêtre 676: Neither Sparse nor Dense Index : /data/vdb/default/train_sensors/vdb/default_train_sensors_flat_index/metadata. OS reports: No such file or directory No index with this name present on disk\n"
     ]
    },
    {
     "name": "stderr",
     "output_type": "stream",
     "text": [
      "  0%|▏                                                                         | 679/329841 [01:40<13:30:19,  6.77it/s]"
     ]
    },
    {
     "name": "stdout",
     "output_type": "stream",
     "text": [
      "Erreur lors de la prédiction pour la fenêtre 677: Neither Sparse nor Dense Index : /data/vdb/default/train_sensors/vdb/default_train_sensors_flat_index/metadata. OS reports: No such file or directory No index with this name present on disk\n",
      "Erreur lors de la prédiction pour la fenêtre 678: Neither Sparse nor Dense Index : /data/vdb/default/train_sensors/vdb/default_train_sensors_flat_index/metadata. OS reports: No such file or directory No index with this name present on disk\n"
     ]
    },
    {
     "name": "stderr",
     "output_type": "stream",
     "text": [
      "  0%|▏                                                                         | 681/329841 [01:40<13:29:05,  6.78it/s]"
     ]
    },
    {
     "name": "stdout",
     "output_type": "stream",
     "text": [
      "Erreur lors de la prédiction pour la fenêtre 679: Neither Sparse nor Dense Index : /data/vdb/default/train_sensors/vdb/default_train_sensors_flat_index/metadata. OS reports: No such file or directory No index with this name present on disk\n",
      "Erreur lors de la prédiction pour la fenêtre 680: Neither Sparse nor Dense Index : /data/vdb/default/train_sensors/vdb/default_train_sensors_flat_index/metadata. OS reports: No such file or directory No index with this name present on disk\n"
     ]
    },
    {
     "name": "stderr",
     "output_type": "stream",
     "text": [
      "  0%|▏                                                                         | 683/329841 [01:41<13:22:47,  6.83it/s]"
     ]
    },
    {
     "name": "stdout",
     "output_type": "stream",
     "text": [
      "Erreur lors de la prédiction pour la fenêtre 681: Neither Sparse nor Dense Index : /data/vdb/default/train_sensors/vdb/default_train_sensors_flat_index/metadata. OS reports: No such file or directory No index with this name present on disk\n",
      "Erreur lors de la prédiction pour la fenêtre 682: Neither Sparse nor Dense Index : /data/vdb/default/train_sensors/vdb/default_train_sensors_flat_index/metadata. OS reports: No such file or directory No index with this name present on disk\n"
     ]
    },
    {
     "name": "stderr",
     "output_type": "stream",
     "text": [
      "  0%|▏                                                                         | 685/329841 [01:41<13:19:16,  6.86it/s]"
     ]
    },
    {
     "name": "stdout",
     "output_type": "stream",
     "text": [
      "Erreur lors de la prédiction pour la fenêtre 683: Neither Sparse nor Dense Index : /data/vdb/default/train_sensors/vdb/default_train_sensors_flat_index/metadata. OS reports: No such file or directory No index with this name present on disk\n",
      "Erreur lors de la prédiction pour la fenêtre 684: Neither Sparse nor Dense Index : /data/vdb/default/train_sensors/vdb/default_train_sensors_flat_index/metadata. OS reports: No such file or directory No index with this name present on disk\n"
     ]
    },
    {
     "name": "stderr",
     "output_type": "stream",
     "text": [
      "  0%|▏                                                                         | 687/329841 [01:41<13:34:28,  6.74it/s]"
     ]
    },
    {
     "name": "stdout",
     "output_type": "stream",
     "text": [
      "Erreur lors de la prédiction pour la fenêtre 685: Neither Sparse nor Dense Index : /data/vdb/default/train_sensors/vdb/default_train_sensors_flat_index/metadata. OS reports: No such file or directory No index with this name present on disk\n",
      "Erreur lors de la prédiction pour la fenêtre 686: Neither Sparse nor Dense Index : /data/vdb/default/train_sensors/vdb/default_train_sensors_flat_index/metadata. OS reports: No such file or directory No index with this name present on disk\n"
     ]
    },
    {
     "name": "stderr",
     "output_type": "stream",
     "text": [
      "  0%|▏                                                                         | 689/329841 [01:42<13:37:00,  6.71it/s]"
     ]
    },
    {
     "name": "stdout",
     "output_type": "stream",
     "text": [
      "Erreur lors de la prédiction pour la fenêtre 687: Neither Sparse nor Dense Index : /data/vdb/default/train_sensors/vdb/default_train_sensors_flat_index/metadata. OS reports: No such file or directory No index with this name present on disk\n",
      "Erreur lors de la prédiction pour la fenêtre 688: Neither Sparse nor Dense Index : /data/vdb/default/train_sensors/vdb/default_train_sensors_flat_index/metadata. OS reports: No such file or directory No index with this name present on disk\n"
     ]
    },
    {
     "name": "stderr",
     "output_type": "stream",
     "text": [
      "  0%|▏                                                                         | 691/329841 [01:42<13:19:22,  6.86it/s]"
     ]
    },
    {
     "name": "stdout",
     "output_type": "stream",
     "text": [
      "Erreur lors de la prédiction pour la fenêtre 689: Neither Sparse nor Dense Index : /data/vdb/default/train_sensors/vdb/default_train_sensors_flat_index/metadata. OS reports: No such file or directory No index with this name present on disk\n",
      "Erreur lors de la prédiction pour la fenêtre 690: Neither Sparse nor Dense Index : /data/vdb/default/train_sensors/vdb/default_train_sensors_flat_index/metadata. OS reports: No such file or directory No index with this name present on disk\n"
     ]
    },
    {
     "name": "stderr",
     "output_type": "stream",
     "text": [
      "  0%|▏                                                                         | 693/329841 [01:42<13:54:15,  6.58it/s]"
     ]
    },
    {
     "name": "stdout",
     "output_type": "stream",
     "text": [
      "Erreur lors de la prédiction pour la fenêtre 691: Neither Sparse nor Dense Index : /data/vdb/default/train_sensors/vdb/default_train_sensors_flat_index/metadata. OS reports: No such file or directory No index with this name present on disk\n",
      "Erreur lors de la prédiction pour la fenêtre 692: Neither Sparse nor Dense Index : /data/vdb/default/train_sensors/vdb/default_train_sensors_flat_index/metadata. OS reports: No such file or directory No index with this name present on disk\n"
     ]
    },
    {
     "name": "stderr",
     "output_type": "stream",
     "text": [
      "  0%|▏                                                                         | 695/329841 [01:43<13:31:36,  6.76it/s]"
     ]
    },
    {
     "name": "stdout",
     "output_type": "stream",
     "text": [
      "Erreur lors de la prédiction pour la fenêtre 693: Neither Sparse nor Dense Index : /data/vdb/default/train_sensors/vdb/default_train_sensors_flat_index/metadata. OS reports: No such file or directory No index with this name present on disk\n",
      "Erreur lors de la prédiction pour la fenêtre 694: Neither Sparse nor Dense Index : /data/vdb/default/train_sensors/vdb/default_train_sensors_flat_index/metadata. OS reports: No such file or directory No index with this name present on disk\n"
     ]
    },
    {
     "name": "stderr",
     "output_type": "stream",
     "text": [
      "  0%|▏                                                                         | 697/329841 [01:43<13:20:14,  6.86it/s]"
     ]
    },
    {
     "name": "stdout",
     "output_type": "stream",
     "text": [
      "Erreur lors de la prédiction pour la fenêtre 695: Neither Sparse nor Dense Index : /data/vdb/default/train_sensors/vdb/default_train_sensors_flat_index/metadata. OS reports: No such file or directory No index with this name present on disk\n",
      "Erreur lors de la prédiction pour la fenêtre 696: Neither Sparse nor Dense Index : /data/vdb/default/train_sensors/vdb/default_train_sensors_flat_index/metadata. OS reports: No such file or directory No index with this name present on disk\n"
     ]
    },
    {
     "name": "stderr",
     "output_type": "stream",
     "text": [
      "  0%|▏                                                                         | 699/329841 [01:43<13:16:26,  6.89it/s]"
     ]
    },
    {
     "name": "stdout",
     "output_type": "stream",
     "text": [
      "Erreur lors de la prédiction pour la fenêtre 697: Neither Sparse nor Dense Index : /data/vdb/default/train_sensors/vdb/default_train_sensors_flat_index/metadata. OS reports: No such file or directory No index with this name present on disk\n",
      "Erreur lors de la prédiction pour la fenêtre 698: Neither Sparse nor Dense Index : /data/vdb/default/train_sensors/vdb/default_train_sensors_flat_index/metadata. OS reports: No such file or directory No index with this name present on disk\n"
     ]
    },
    {
     "name": "stderr",
     "output_type": "stream",
     "text": [
      "  0%|▏                                                                         | 701/329841 [01:43<13:13:52,  6.91it/s]"
     ]
    },
    {
     "name": "stdout",
     "output_type": "stream",
     "text": [
      "Erreur lors de la prédiction pour la fenêtre 699: Neither Sparse nor Dense Index : /data/vdb/default/train_sensors/vdb/default_train_sensors_flat_index/metadata. OS reports: No such file or directory No index with this name present on disk\n",
      "Erreur lors de la prédiction pour la fenêtre 700: Neither Sparse nor Dense Index : /data/vdb/default/train_sensors/vdb/default_train_sensors_flat_index/metadata. OS reports: No such file or directory No index with this name present on disk\n"
     ]
    },
    {
     "name": "stderr",
     "output_type": "stream",
     "text": [
      "  0%|▏                                                                         | 703/329841 [01:44<13:22:02,  6.84it/s]"
     ]
    },
    {
     "name": "stdout",
     "output_type": "stream",
     "text": [
      "Erreur lors de la prédiction pour la fenêtre 701: Neither Sparse nor Dense Index : /data/vdb/default/train_sensors/vdb/default_train_sensors_flat_index/metadata. OS reports: No such file or directory No index with this name present on disk\n",
      "Erreur lors de la prédiction pour la fenêtre 702: Neither Sparse nor Dense Index : /data/vdb/default/train_sensors/vdb/default_train_sensors_flat_index/metadata. OS reports: No such file or directory No index with this name present on disk\n"
     ]
    },
    {
     "name": "stderr",
     "output_type": "stream",
     "text": [
      "  0%|▏                                                                         | 705/329841 [01:44<13:29:40,  6.78it/s]"
     ]
    },
    {
     "name": "stdout",
     "output_type": "stream",
     "text": [
      "Erreur lors de la prédiction pour la fenêtre 703: Neither Sparse nor Dense Index : /data/vdb/default/train_sensors/vdb/default_train_sensors_flat_index/metadata. OS reports: No such file or directory No index with this name present on disk\n",
      "Erreur lors de la prédiction pour la fenêtre 704: Neither Sparse nor Dense Index : /data/vdb/default/train_sensors/vdb/default_train_sensors_flat_index/metadata. OS reports: No such file or directory No index with this name present on disk\n"
     ]
    },
    {
     "name": "stderr",
     "output_type": "stream",
     "text": [
      "  0%|▏                                                                         | 707/329841 [01:44<13:18:32,  6.87it/s]"
     ]
    },
    {
     "name": "stdout",
     "output_type": "stream",
     "text": [
      "Erreur lors de la prédiction pour la fenêtre 705: Neither Sparse nor Dense Index : /data/vdb/default/train_sensors/vdb/default_train_sensors_flat_index/metadata. OS reports: No such file or directory No index with this name present on disk\n",
      "Erreur lors de la prédiction pour la fenêtre 706: Neither Sparse nor Dense Index : /data/vdb/default/train_sensors/vdb/default_train_sensors_flat_index/metadata. OS reports: No such file or directory No index with this name present on disk\n"
     ]
    },
    {
     "name": "stderr",
     "output_type": "stream",
     "text": [
      "  0%|▏                                                                         | 709/329841 [01:45<13:10:00,  6.94it/s]"
     ]
    },
    {
     "name": "stdout",
     "output_type": "stream",
     "text": [
      "Erreur lors de la prédiction pour la fenêtre 707: Neither Sparse nor Dense Index : /data/vdb/default/train_sensors/vdb/default_train_sensors_flat_index/metadata. OS reports: No such file or directory No index with this name present on disk\n",
      "Erreur lors de la prédiction pour la fenêtre 708: Neither Sparse nor Dense Index : /data/vdb/default/train_sensors/vdb/default_train_sensors_flat_index/metadata. OS reports: No such file or directory No index with this name present on disk\n"
     ]
    },
    {
     "name": "stderr",
     "output_type": "stream",
     "text": [
      "  0%|▏                                                                         | 711/329841 [01:45<13:04:13,  6.99it/s]"
     ]
    },
    {
     "name": "stdout",
     "output_type": "stream",
     "text": [
      "Erreur lors de la prédiction pour la fenêtre 709: Neither Sparse nor Dense Index : /data/vdb/default/train_sensors/vdb/default_train_sensors_flat_index/metadata. OS reports: No such file or directory No index with this name present on disk\n",
      "Erreur lors de la prédiction pour la fenêtre 710: Neither Sparse nor Dense Index : /data/vdb/default/train_sensors/vdb/default_train_sensors_flat_index/metadata. OS reports: No such file or directory No index with this name present on disk\n"
     ]
    },
    {
     "name": "stderr",
     "output_type": "stream",
     "text": [
      "  0%|▏                                                                         | 713/329841 [01:45<13:01:54,  7.02it/s]"
     ]
    },
    {
     "name": "stdout",
     "output_type": "stream",
     "text": [
      "Erreur lors de la prédiction pour la fenêtre 711: Neither Sparse nor Dense Index : /data/vdb/default/train_sensors/vdb/default_train_sensors_flat_index/metadata. OS reports: No such file or directory No index with this name present on disk\n",
      "Erreur lors de la prédiction pour la fenêtre 712: Neither Sparse nor Dense Index : /data/vdb/default/train_sensors/vdb/default_train_sensors_flat_index/metadata. OS reports: No such file or directory No index with this name present on disk\n"
     ]
    },
    {
     "name": "stderr",
     "output_type": "stream",
     "text": [
      "  0%|▏                                                                         | 715/329841 [01:45<13:02:08,  7.01it/s]"
     ]
    },
    {
     "name": "stdout",
     "output_type": "stream",
     "text": [
      "Erreur lors de la prédiction pour la fenêtre 713: Neither Sparse nor Dense Index : /data/vdb/default/train_sensors/vdb/default_train_sensors_flat_index/metadata. OS reports: No such file or directory No index with this name present on disk\n",
      "Erreur lors de la prédiction pour la fenêtre 714: Neither Sparse nor Dense Index : /data/vdb/default/train_sensors/vdb/default_train_sensors_flat_index/metadata. OS reports: No such file or directory No index with this name present on disk\n"
     ]
    },
    {
     "name": "stderr",
     "output_type": "stream",
     "text": [
      "  0%|▏                                                                         | 717/329841 [01:46<13:08:17,  6.96it/s]"
     ]
    },
    {
     "name": "stdout",
     "output_type": "stream",
     "text": [
      "Erreur lors de la prédiction pour la fenêtre 715: Neither Sparse nor Dense Index : /data/vdb/default/train_sensors/vdb/default_train_sensors_flat_index/metadata. OS reports: No such file or directory No index with this name present on disk\n",
      "Erreur lors de la prédiction pour la fenêtre 716: Neither Sparse nor Dense Index : /data/vdb/default/train_sensors/vdb/default_train_sensors_flat_index/metadata. OS reports: No such file or directory No index with this name present on disk\n"
     ]
    },
    {
     "name": "stderr",
     "output_type": "stream",
     "text": [
      "  0%|▏                                                                         | 719/329841 [01:46<13:06:21,  6.98it/s]"
     ]
    },
    {
     "name": "stdout",
     "output_type": "stream",
     "text": [
      "Erreur lors de la prédiction pour la fenêtre 717: Neither Sparse nor Dense Index : /data/vdb/default/train_sensors/vdb/default_train_sensors_flat_index/metadata. OS reports: No such file or directory No index with this name present on disk\n",
      "Erreur lors de la prédiction pour la fenêtre 718: Neither Sparse nor Dense Index : /data/vdb/default/train_sensors/vdb/default_train_sensors_flat_index/metadata. OS reports: No such file or directory No index with this name present on disk\n"
     ]
    },
    {
     "name": "stderr",
     "output_type": "stream",
     "text": [
      "  0%|▏                                                                         | 721/329841 [01:46<13:23:52,  6.82it/s]"
     ]
    },
    {
     "name": "stdout",
     "output_type": "stream",
     "text": [
      "Erreur lors de la prédiction pour la fenêtre 719: Neither Sparse nor Dense Index : /data/vdb/default/train_sensors/vdb/default_train_sensors_flat_index/metadata. OS reports: No such file or directory No index with this name present on disk\n",
      "Erreur lors de la prédiction pour la fenêtre 720: Neither Sparse nor Dense Index : /data/vdb/default/train_sensors/vdb/default_train_sensors_flat_index/metadata. OS reports: No such file or directory No index with this name present on disk\n"
     ]
    },
    {
     "name": "stderr",
     "output_type": "stream",
     "text": [
      "  0%|▏                                                                         | 723/329841 [01:47<13:19:35,  6.86it/s]"
     ]
    },
    {
     "name": "stdout",
     "output_type": "stream",
     "text": [
      "Erreur lors de la prédiction pour la fenêtre 721: Neither Sparse nor Dense Index : /data/vdb/default/train_sensors/vdb/default_train_sensors_flat_index/metadata. OS reports: No such file or directory No index with this name present on disk\n",
      "Erreur lors de la prédiction pour la fenêtre 722: Neither Sparse nor Dense Index : /data/vdb/default/train_sensors/vdb/default_train_sensors_flat_index/metadata. OS reports: No such file or directory No index with this name present on disk\n"
     ]
    },
    {
     "name": "stderr",
     "output_type": "stream",
     "text": [
      "  0%|▏                                                                         | 725/329841 [01:47<14:09:32,  6.46it/s]"
     ]
    },
    {
     "name": "stdout",
     "output_type": "stream",
     "text": [
      "Erreur lors de la prédiction pour la fenêtre 723: Neither Sparse nor Dense Index : /data/vdb/default/train_sensors/vdb/default_train_sensors_flat_index/metadata. OS reports: No such file or directory No index with this name present on disk\n",
      "Erreur lors de la prédiction pour la fenêtre 724: Neither Sparse nor Dense Index : /data/vdb/default/train_sensors/vdb/default_train_sensors_flat_index/metadata. OS reports: No such file or directory No index with this name present on disk\n"
     ]
    },
    {
     "name": "stderr",
     "output_type": "stream",
     "text": [
      "  0%|▏                                                                         | 727/329841 [01:47<14:03:09,  6.51it/s]"
     ]
    },
    {
     "name": "stdout",
     "output_type": "stream",
     "text": [
      "Erreur lors de la prédiction pour la fenêtre 725: Neither Sparse nor Dense Index : /data/vdb/default/train_sensors/vdb/default_train_sensors_flat_index/metadata. OS reports: No such file or directory No index with this name present on disk\n",
      "Erreur lors de la prédiction pour la fenêtre 726: Neither Sparse nor Dense Index : /data/vdb/default/train_sensors/vdb/default_train_sensors_flat_index/metadata. OS reports: No such file or directory No index with this name present on disk\n"
     ]
    },
    {
     "name": "stderr",
     "output_type": "stream",
     "text": [
      "  0%|▏                                                                         | 729/329841 [01:47<13:27:08,  6.80it/s]"
     ]
    },
    {
     "name": "stdout",
     "output_type": "stream",
     "text": [
      "Erreur lors de la prédiction pour la fenêtre 727: Neither Sparse nor Dense Index : /data/vdb/default/train_sensors/vdb/default_train_sensors_flat_index/metadata. OS reports: No such file or directory No index with this name present on disk\n",
      "Erreur lors de la prédiction pour la fenêtre 728: Neither Sparse nor Dense Index : /data/vdb/default/train_sensors/vdb/default_train_sensors_flat_index/metadata. OS reports: No such file or directory No index with this name present on disk\n"
     ]
    },
    {
     "name": "stderr",
     "output_type": "stream",
     "text": [
      "  0%|▏                                                                         | 731/329841 [01:48<13:41:18,  6.68it/s]"
     ]
    },
    {
     "name": "stdout",
     "output_type": "stream",
     "text": [
      "Erreur lors de la prédiction pour la fenêtre 729: Neither Sparse nor Dense Index : /data/vdb/default/train_sensors/vdb/default_train_sensors_flat_index/metadata. OS reports: No such file or directory No index with this name present on disk\n",
      "Erreur lors de la prédiction pour la fenêtre 730: Neither Sparse nor Dense Index : /data/vdb/default/train_sensors/vdb/default_train_sensors_flat_index/metadata. OS reports: No such file or directory No index with this name present on disk\n"
     ]
    },
    {
     "name": "stderr",
     "output_type": "stream",
     "text": [
      "  0%|▏                                                                         | 733/329841 [01:48<13:21:22,  6.84it/s]"
     ]
    },
    {
     "name": "stdout",
     "output_type": "stream",
     "text": [
      "Erreur lors de la prédiction pour la fenêtre 731: Neither Sparse nor Dense Index : /data/vdb/default/train_sensors/vdb/default_train_sensors_flat_index/metadata. OS reports: No such file or directory No index with this name present on disk\n",
      "Erreur lors de la prédiction pour la fenêtre 732: Neither Sparse nor Dense Index : /data/vdb/default/train_sensors/vdb/default_train_sensors_flat_index/metadata. OS reports: No such file or directory No index with this name present on disk\n"
     ]
    },
    {
     "name": "stderr",
     "output_type": "stream",
     "text": [
      "  0%|▏                                                                         | 735/329841 [01:48<13:19:09,  6.86it/s]"
     ]
    },
    {
     "name": "stdout",
     "output_type": "stream",
     "text": [
      "Erreur lors de la prédiction pour la fenêtre 733: Neither Sparse nor Dense Index : /data/vdb/default/train_sensors/vdb/default_train_sensors_flat_index/metadata. OS reports: No such file or directory No index with this name present on disk\n",
      "Erreur lors de la prédiction pour la fenêtre 734: Neither Sparse nor Dense Index : /data/vdb/default/train_sensors/vdb/default_train_sensors_flat_index/metadata. OS reports: No such file or directory No index with this name present on disk\n"
     ]
    },
    {
     "name": "stderr",
     "output_type": "stream",
     "text": [
      "  0%|▏                                                                         | 737/329841 [01:49<13:24:03,  6.82it/s]"
     ]
    },
    {
     "name": "stdout",
     "output_type": "stream",
     "text": [
      "Erreur lors de la prédiction pour la fenêtre 735: Neither Sparse nor Dense Index : /data/vdb/default/train_sensors/vdb/default_train_sensors_flat_index/metadata. OS reports: No such file or directory No index with this name present on disk\n",
      "Erreur lors de la prédiction pour la fenêtre 736: Neither Sparse nor Dense Index : /data/vdb/default/train_sensors/vdb/default_train_sensors_flat_index/metadata. OS reports: No such file or directory No index with this name present on disk\n"
     ]
    },
    {
     "name": "stderr",
     "output_type": "stream",
     "text": [
      "  0%|▏                                                                         | 739/329841 [01:49<13:33:58,  6.74it/s]"
     ]
    },
    {
     "name": "stdout",
     "output_type": "stream",
     "text": [
      "Erreur lors de la prédiction pour la fenêtre 737: Neither Sparse nor Dense Index : /data/vdb/default/train_sensors/vdb/default_train_sensors_flat_index/metadata. OS reports: No such file or directory No index with this name present on disk\n",
      "Erreur lors de la prédiction pour la fenêtre 738: Neither Sparse nor Dense Index : /data/vdb/default/train_sensors/vdb/default_train_sensors_flat_index/metadata. OS reports: No such file or directory No index with this name present on disk\n"
     ]
    },
    {
     "name": "stderr",
     "output_type": "stream",
     "text": [
      "  0%|▏                                                                         | 741/329841 [01:49<13:40:22,  6.69it/s]"
     ]
    },
    {
     "name": "stdout",
     "output_type": "stream",
     "text": [
      "Erreur lors de la prédiction pour la fenêtre 739: Neither Sparse nor Dense Index : /data/vdb/default/train_sensors/vdb/default_train_sensors_flat_index/metadata. OS reports: No such file or directory No index with this name present on disk\n",
      "Erreur lors de la prédiction pour la fenêtre 740: Neither Sparse nor Dense Index : /data/vdb/default/train_sensors/vdb/default_train_sensors_flat_index/metadata. OS reports: No such file or directory No index with this name present on disk\n"
     ]
    },
    {
     "name": "stderr",
     "output_type": "stream",
     "text": [
      "  0%|▏                                                                         | 743/329841 [01:50<13:41:05,  6.68it/s]"
     ]
    },
    {
     "name": "stdout",
     "output_type": "stream",
     "text": [
      "Erreur lors de la prédiction pour la fenêtre 741: Neither Sparse nor Dense Index : /data/vdb/default/train_sensors/vdb/default_train_sensors_flat_index/metadata. OS reports: No such file or directory No index with this name present on disk\n",
      "Erreur lors de la prédiction pour la fenêtre 742: Neither Sparse nor Dense Index : /data/vdb/default/train_sensors/vdb/default_train_sensors_flat_index/metadata. OS reports: No such file or directory No index with this name present on disk\n"
     ]
    },
    {
     "name": "stderr",
     "output_type": "stream",
     "text": [
      "  0%|▏                                                                         | 745/329841 [01:50<13:37:26,  6.71it/s]"
     ]
    },
    {
     "name": "stdout",
     "output_type": "stream",
     "text": [
      "Erreur lors de la prédiction pour la fenêtre 743: Neither Sparse nor Dense Index : /data/vdb/default/train_sensors/vdb/default_train_sensors_flat_index/metadata. OS reports: No such file or directory No index with this name present on disk\n",
      "Erreur lors de la prédiction pour la fenêtre 744: Neither Sparse nor Dense Index : /data/vdb/default/train_sensors/vdb/default_train_sensors_flat_index/metadata. OS reports: No such file or directory No index with this name present on disk\n"
     ]
    },
    {
     "name": "stderr",
     "output_type": "stream",
     "text": [
      "  0%|▏                                                                         | 747/329841 [01:50<13:30:30,  6.77it/s]"
     ]
    },
    {
     "name": "stdout",
     "output_type": "stream",
     "text": [
      "Erreur lors de la prédiction pour la fenêtre 745: Neither Sparse nor Dense Index : /data/vdb/default/train_sensors/vdb/default_train_sensors_flat_index/metadata. OS reports: No such file or directory No index with this name present on disk\n",
      "Erreur lors de la prédiction pour la fenêtre 746: Neither Sparse nor Dense Index : /data/vdb/default/train_sensors/vdb/default_train_sensors_flat_index/metadata. OS reports: No such file or directory No index with this name present on disk\n"
     ]
    },
    {
     "name": "stderr",
     "output_type": "stream",
     "text": [
      "  0%|▏                                                                         | 749/329841 [01:50<13:21:19,  6.84it/s]"
     ]
    },
    {
     "name": "stdout",
     "output_type": "stream",
     "text": [
      "Erreur lors de la prédiction pour la fenêtre 747: Neither Sparse nor Dense Index : /data/vdb/default/train_sensors/vdb/default_train_sensors_flat_index/metadata. OS reports: No such file or directory No index with this name present on disk\n",
      "Erreur lors de la prédiction pour la fenêtre 748: Neither Sparse nor Dense Index : /data/vdb/default/train_sensors/vdb/default_train_sensors_flat_index/metadata. OS reports: No such file or directory No index with this name present on disk\n"
     ]
    },
    {
     "name": "stderr",
     "output_type": "stream",
     "text": [
      "  0%|▏                                                                         | 751/329841 [01:51<13:30:25,  6.77it/s]"
     ]
    },
    {
     "name": "stdout",
     "output_type": "stream",
     "text": [
      "Erreur lors de la prédiction pour la fenêtre 749: Neither Sparse nor Dense Index : /data/vdb/default/train_sensors/vdb/default_train_sensors_flat_index/metadata. OS reports: No such file or directory No index with this name present on disk\n",
      "Erreur lors de la prédiction pour la fenêtre 750: Neither Sparse nor Dense Index : /data/vdb/default/train_sensors/vdb/default_train_sensors_flat_index/metadata. OS reports: No such file or directory No index with this name present on disk\n"
     ]
    },
    {
     "name": "stderr",
     "output_type": "stream",
     "text": [
      "  0%|▏                                                                         | 753/329841 [01:51<13:40:29,  6.68it/s]"
     ]
    },
    {
     "name": "stdout",
     "output_type": "stream",
     "text": [
      "Erreur lors de la prédiction pour la fenêtre 751: Neither Sparse nor Dense Index : /data/vdb/default/train_sensors/vdb/default_train_sensors_flat_index/metadata. OS reports: No such file or directory No index with this name present on disk\n",
      "Erreur lors de la prédiction pour la fenêtre 752: Neither Sparse nor Dense Index : /data/vdb/default/train_sensors/vdb/default_train_sensors_flat_index/metadata. OS reports: No such file or directory No index with this name present on disk\n"
     ]
    },
    {
     "name": "stderr",
     "output_type": "stream",
     "text": [
      "  0%|▏                                                                         | 755/329841 [01:51<14:14:16,  6.42it/s]"
     ]
    },
    {
     "name": "stdout",
     "output_type": "stream",
     "text": [
      "Erreur lors de la prédiction pour la fenêtre 753: Neither Sparse nor Dense Index : /data/vdb/default/train_sensors/vdb/default_train_sensors_flat_index/metadata. OS reports: No such file or directory No index with this name present on disk\n",
      "Erreur lors de la prédiction pour la fenêtre 754: Neither Sparse nor Dense Index : /data/vdb/default/train_sensors/vdb/default_train_sensors_flat_index/metadata. OS reports: No such file or directory No index with this name present on disk\n"
     ]
    },
    {
     "name": "stderr",
     "output_type": "stream",
     "text": [
      "  0%|▏                                                                         | 757/329841 [01:52<14:22:04,  6.36it/s]"
     ]
    },
    {
     "name": "stdout",
     "output_type": "stream",
     "text": [
      "Erreur lors de la prédiction pour la fenêtre 755: Neither Sparse nor Dense Index : /data/vdb/default/train_sensors/vdb/default_train_sensors_flat_index/metadata. OS reports: No such file or directory No index with this name present on disk\n",
      "Erreur lors de la prédiction pour la fenêtre 756: Neither Sparse nor Dense Index : /data/vdb/default/train_sensors/vdb/default_train_sensors_flat_index/metadata. OS reports: No such file or directory No index with this name present on disk\n"
     ]
    },
    {
     "name": "stderr",
     "output_type": "stream",
     "text": [
      "  0%|▏                                                                         | 759/329841 [01:52<13:53:03,  6.58it/s]"
     ]
    },
    {
     "name": "stdout",
     "output_type": "stream",
     "text": [
      "Erreur lors de la prédiction pour la fenêtre 757: Neither Sparse nor Dense Index : /data/vdb/default/train_sensors/vdb/default_train_sensors_flat_index/metadata. OS reports: No such file or directory No index with this name present on disk\n",
      "Erreur lors de la prédiction pour la fenêtre 758: Neither Sparse nor Dense Index : /data/vdb/default/train_sensors/vdb/default_train_sensors_flat_index/metadata. OS reports: No such file or directory No index with this name present on disk\n"
     ]
    },
    {
     "name": "stderr",
     "output_type": "stream",
     "text": [
      "  0%|▏                                                                         | 761/329841 [01:52<13:59:41,  6.53it/s]"
     ]
    },
    {
     "name": "stdout",
     "output_type": "stream",
     "text": [
      "Erreur lors de la prédiction pour la fenêtre 759: Neither Sparse nor Dense Index : /data/vdb/default/train_sensors/vdb/default_train_sensors_flat_index/metadata. OS reports: No such file or directory No index with this name present on disk\n",
      "Erreur lors de la prédiction pour la fenêtre 760: Neither Sparse nor Dense Index : /data/vdb/default/train_sensors/vdb/default_train_sensors_flat_index/metadata. OS reports: No such file or directory No index with this name present on disk\n"
     ]
    },
    {
     "name": "stderr",
     "output_type": "stream",
     "text": [
      "  0%|▏                                                                         | 763/329841 [01:53<13:51:59,  6.59it/s]"
     ]
    },
    {
     "name": "stdout",
     "output_type": "stream",
     "text": [
      "Erreur lors de la prédiction pour la fenêtre 761: Neither Sparse nor Dense Index : /data/vdb/default/train_sensors/vdb/default_train_sensors_flat_index/metadata. OS reports: No such file or directory No index with this name present on disk\n",
      "Erreur lors de la prédiction pour la fenêtre 762: Neither Sparse nor Dense Index : /data/vdb/default/train_sensors/vdb/default_train_sensors_flat_index/metadata. OS reports: No such file or directory No index with this name present on disk\n"
     ]
    },
    {
     "name": "stderr",
     "output_type": "stream",
     "text": [
      "  0%|▏                                                                         | 765/329841 [01:53<13:34:11,  6.74it/s]"
     ]
    },
    {
     "name": "stdout",
     "output_type": "stream",
     "text": [
      "Erreur lors de la prédiction pour la fenêtre 763: Neither Sparse nor Dense Index : /data/vdb/default/train_sensors/vdb/default_train_sensors_flat_index/metadata. OS reports: No such file or directory No index with this name present on disk\n",
      "Erreur lors de la prédiction pour la fenêtre 764: Neither Sparse nor Dense Index : /data/vdb/default/train_sensors/vdb/default_train_sensors_flat_index/metadata. OS reports: No such file or directory No index with this name present on disk\n"
     ]
    },
    {
     "name": "stderr",
     "output_type": "stream",
     "text": [
      "  0%|▏                                                                         | 767/329841 [01:53<13:22:24,  6.84it/s]"
     ]
    },
    {
     "name": "stdout",
     "output_type": "stream",
     "text": [
      "Erreur lors de la prédiction pour la fenêtre 765: Neither Sparse nor Dense Index : /data/vdb/default/train_sensors/vdb/default_train_sensors_flat_index/metadata. OS reports: No such file or directory No index with this name present on disk\n",
      "Erreur lors de la prédiction pour la fenêtre 766: Neither Sparse nor Dense Index : /data/vdb/default/train_sensors/vdb/default_train_sensors_flat_index/metadata. OS reports: No such file or directory No index with this name present on disk\n"
     ]
    },
    {
     "name": "stderr",
     "output_type": "stream",
     "text": [
      "  0%|▏                                                                         | 769/329841 [01:53<13:09:49,  6.94it/s]"
     ]
    },
    {
     "name": "stdout",
     "output_type": "stream",
     "text": [
      "Erreur lors de la prédiction pour la fenêtre 767: Neither Sparse nor Dense Index : /data/vdb/default/train_sensors/vdb/default_train_sensors_flat_index/metadata. OS reports: No such file or directory No index with this name present on disk\n",
      "Erreur lors de la prédiction pour la fenêtre 768: Neither Sparse nor Dense Index : /data/vdb/default/train_sensors/vdb/default_train_sensors_flat_index/metadata. OS reports: No such file or directory No index with this name present on disk\n"
     ]
    },
    {
     "name": "stderr",
     "output_type": "stream",
     "text": [
      "  0%|▏                                                                         | 771/329841 [01:54<13:11:01,  6.93it/s]"
     ]
    },
    {
     "name": "stdout",
     "output_type": "stream",
     "text": [
      "Erreur lors de la prédiction pour la fenêtre 769: Neither Sparse nor Dense Index : /data/vdb/default/train_sensors/vdb/default_train_sensors_flat_index/metadata. OS reports: No such file or directory No index with this name present on disk\n",
      "Erreur lors de la prédiction pour la fenêtre 770: Neither Sparse nor Dense Index : /data/vdb/default/train_sensors/vdb/default_train_sensors_flat_index/metadata. OS reports: No such file or directory No index with this name present on disk\n"
     ]
    },
    {
     "name": "stderr",
     "output_type": "stream",
     "text": [
      "  0%|▏                                                                         | 773/329841 [01:54<13:03:49,  7.00it/s]"
     ]
    },
    {
     "name": "stdout",
     "output_type": "stream",
     "text": [
      "Erreur lors de la prédiction pour la fenêtre 771: Neither Sparse nor Dense Index : /data/vdb/default/train_sensors/vdb/default_train_sensors_flat_index/metadata. OS reports: No such file or directory No index with this name present on disk\n",
      "Erreur lors de la prédiction pour la fenêtre 772: Neither Sparse nor Dense Index : /data/vdb/default/train_sensors/vdb/default_train_sensors_flat_index/metadata. OS reports: No such file or directory No index with this name present on disk\n"
     ]
    },
    {
     "name": "stderr",
     "output_type": "stream",
     "text": [
      "  0%|▏                                                                         | 775/329841 [01:54<13:03:33,  7.00it/s]"
     ]
    },
    {
     "name": "stdout",
     "output_type": "stream",
     "text": [
      "Erreur lors de la prédiction pour la fenêtre 773: Neither Sparse nor Dense Index : /data/vdb/default/train_sensors/vdb/default_train_sensors_flat_index/metadata. OS reports: No such file or directory No index with this name present on disk\n",
      "Erreur lors de la prédiction pour la fenêtre 774: Neither Sparse nor Dense Index : /data/vdb/default/train_sensors/vdb/default_train_sensors_flat_index/metadata. OS reports: No such file or directory No index with this name present on disk\n"
     ]
    },
    {
     "name": "stderr",
     "output_type": "stream",
     "text": [
      "  0%|▏                                                                         | 777/329841 [01:55<12:58:22,  7.05it/s]"
     ]
    },
    {
     "name": "stdout",
     "output_type": "stream",
     "text": [
      "Erreur lors de la prédiction pour la fenêtre 775: Neither Sparse nor Dense Index : /data/vdb/default/train_sensors/vdb/default_train_sensors_flat_index/metadata. OS reports: No such file or directory No index with this name present on disk\n",
      "Erreur lors de la prédiction pour la fenêtre 776: Neither Sparse nor Dense Index : /data/vdb/default/train_sensors/vdb/default_train_sensors_flat_index/metadata. OS reports: No such file or directory No index with this name present on disk\n"
     ]
    },
    {
     "name": "stderr",
     "output_type": "stream",
     "text": [
      "  0%|▏                                                                         | 779/329841 [01:55<12:56:32,  7.06it/s]"
     ]
    },
    {
     "name": "stdout",
     "output_type": "stream",
     "text": [
      "Erreur lors de la prédiction pour la fenêtre 777: Neither Sparse nor Dense Index : /data/vdb/default/train_sensors/vdb/default_train_sensors_flat_index/metadata. OS reports: No such file or directory No index with this name present on disk\n",
      "Erreur lors de la prédiction pour la fenêtre 778: Neither Sparse nor Dense Index : /data/vdb/default/train_sensors/vdb/default_train_sensors_flat_index/metadata. OS reports: No such file or directory No index with this name present on disk\n"
     ]
    },
    {
     "name": "stderr",
     "output_type": "stream",
     "text": [
      "  0%|▏                                                                         | 781/329841 [01:55<13:07:39,  6.96it/s]"
     ]
    },
    {
     "name": "stdout",
     "output_type": "stream",
     "text": [
      "Erreur lors de la prédiction pour la fenêtre 779: Neither Sparse nor Dense Index : /data/vdb/default/train_sensors/vdb/default_train_sensors_flat_index/metadata. OS reports: No such file or directory No index with this name present on disk\n",
      "Erreur lors de la prédiction pour la fenêtre 780: Neither Sparse nor Dense Index : /data/vdb/default/train_sensors/vdb/default_train_sensors_flat_index/metadata. OS reports: No such file or directory No index with this name present on disk\n"
     ]
    },
    {
     "name": "stderr",
     "output_type": "stream",
     "text": [
      "  0%|▏                                                                         | 783/329841 [01:55<13:34:07,  6.74it/s]"
     ]
    },
    {
     "name": "stdout",
     "output_type": "stream",
     "text": [
      "Erreur lors de la prédiction pour la fenêtre 781: Neither Sparse nor Dense Index : /data/vdb/default/train_sensors/vdb/default_train_sensors_flat_index/metadata. OS reports: No such file or directory No index with this name present on disk\n",
      "Erreur lors de la prédiction pour la fenêtre 782: Neither Sparse nor Dense Index : /data/vdb/default/train_sensors/vdb/default_train_sensors_flat_index/metadata. OS reports: No such file or directory No index with this name present on disk\n"
     ]
    },
    {
     "name": "stderr",
     "output_type": "stream",
     "text": [
      "  0%|▏                                                                         | 785/329841 [01:56<13:23:15,  6.83it/s]"
     ]
    },
    {
     "name": "stdout",
     "output_type": "stream",
     "text": [
      "Erreur lors de la prédiction pour la fenêtre 783: Neither Sparse nor Dense Index : /data/vdb/default/train_sensors/vdb/default_train_sensors_flat_index/metadata. OS reports: No such file or directory No index with this name present on disk\n",
      "Erreur lors de la prédiction pour la fenêtre 784: Neither Sparse nor Dense Index : /data/vdb/default/train_sensors/vdb/default_train_sensors_flat_index/metadata. OS reports: No such file or directory No index with this name present on disk\n"
     ]
    },
    {
     "name": "stderr",
     "output_type": "stream",
     "text": [
      "  0%|▏                                                                         | 787/329841 [01:56<13:25:47,  6.81it/s]"
     ]
    },
    {
     "name": "stdout",
     "output_type": "stream",
     "text": [
      "Erreur lors de la prédiction pour la fenêtre 785: Neither Sparse nor Dense Index : /data/vdb/default/train_sensors/vdb/default_train_sensors_flat_index/metadata. OS reports: No such file or directory No index with this name present on disk\n",
      "Erreur lors de la prédiction pour la fenêtre 786: Neither Sparse nor Dense Index : /data/vdb/default/train_sensors/vdb/default_train_sensors_flat_index/metadata. OS reports: No such file or directory No index with this name present on disk\n"
     ]
    },
    {
     "name": "stderr",
     "output_type": "stream",
     "text": [
      "  0%|▏                                                                         | 789/329841 [01:56<13:19:56,  6.86it/s]"
     ]
    },
    {
     "name": "stdout",
     "output_type": "stream",
     "text": [
      "Erreur lors de la prédiction pour la fenêtre 787: Neither Sparse nor Dense Index : /data/vdb/default/train_sensors/vdb/default_train_sensors_flat_index/metadata. OS reports: No such file or directory No index with this name present on disk\n",
      "Erreur lors de la prédiction pour la fenêtre 788: Neither Sparse nor Dense Index : /data/vdb/default/train_sensors/vdb/default_train_sensors_flat_index/metadata. OS reports: No such file or directory No index with this name present on disk\n"
     ]
    },
    {
     "name": "stderr",
     "output_type": "stream",
     "text": [
      "  0%|▏                                                                         | 791/329841 [01:57<13:20:20,  6.85it/s]"
     ]
    },
    {
     "name": "stdout",
     "output_type": "stream",
     "text": [
      "Erreur lors de la prédiction pour la fenêtre 789: Neither Sparse nor Dense Index : /data/vdb/default/train_sensors/vdb/default_train_sensors_flat_index/metadata. OS reports: No such file or directory No index with this name present on disk\n",
      "Erreur lors de la prédiction pour la fenêtre 790: Neither Sparse nor Dense Index : /data/vdb/default/train_sensors/vdb/default_train_sensors_flat_index/metadata. OS reports: No such file or directory No index with this name present on disk\n"
     ]
    },
    {
     "name": "stderr",
     "output_type": "stream",
     "text": [
      "  0%|▏                                                                         | 793/329841 [01:57<13:29:48,  6.77it/s]"
     ]
    },
    {
     "name": "stdout",
     "output_type": "stream",
     "text": [
      "Erreur lors de la prédiction pour la fenêtre 791: Neither Sparse nor Dense Index : /data/vdb/default/train_sensors/vdb/default_train_sensors_flat_index/metadata. OS reports: No such file or directory No index with this name present on disk\n",
      "Erreur lors de la prédiction pour la fenêtre 792: Neither Sparse nor Dense Index : /data/vdb/default/train_sensors/vdb/default_train_sensors_flat_index/metadata. OS reports: No such file or directory No index with this name present on disk\n"
     ]
    },
    {
     "name": "stderr",
     "output_type": "stream",
     "text": [
      "  0%|▏                                                                         | 795/329841 [01:57<13:32:21,  6.75it/s]"
     ]
    },
    {
     "name": "stdout",
     "output_type": "stream",
     "text": [
      "Erreur lors de la prédiction pour la fenêtre 793: Neither Sparse nor Dense Index : /data/vdb/default/train_sensors/vdb/default_train_sensors_flat_index/metadata. OS reports: No such file or directory No index with this name present on disk\n",
      "Erreur lors de la prédiction pour la fenêtre 794: Neither Sparse nor Dense Index : /data/vdb/default/train_sensors/vdb/default_train_sensors_flat_index/metadata. OS reports: No such file or directory No index with this name present on disk\n"
     ]
    },
    {
     "name": "stderr",
     "output_type": "stream",
     "text": [
      "  0%|▏                                                                         | 797/329841 [01:58<13:38:38,  6.70it/s]"
     ]
    },
    {
     "name": "stdout",
     "output_type": "stream",
     "text": [
      "Erreur lors de la prédiction pour la fenêtre 795: Neither Sparse nor Dense Index : /data/vdb/default/train_sensors/vdb/default_train_sensors_flat_index/metadata. OS reports: No such file or directory No index with this name present on disk\n",
      "Erreur lors de la prédiction pour la fenêtre 796: Neither Sparse nor Dense Index : /data/vdb/default/train_sensors/vdb/default_train_sensors_flat_index/metadata. OS reports: No such file or directory No index with this name present on disk\n"
     ]
    },
    {
     "name": "stderr",
     "output_type": "stream",
     "text": [
      "  0%|▏                                                                         | 799/329841 [01:58<13:34:24,  6.73it/s]"
     ]
    },
    {
     "name": "stdout",
     "output_type": "stream",
     "text": [
      "Erreur lors de la prédiction pour la fenêtre 797: Neither Sparse nor Dense Index : /data/vdb/default/train_sensors/vdb/default_train_sensors_flat_index/metadata. OS reports: No such file or directory No index with this name present on disk\n",
      "Erreur lors de la prédiction pour la fenêtre 798: Neither Sparse nor Dense Index : /data/vdb/default/train_sensors/vdb/default_train_sensors_flat_index/metadata. OS reports: No such file or directory No index with this name present on disk\n"
     ]
    },
    {
     "name": "stderr",
     "output_type": "stream",
     "text": [
      "  0%|▏                                                                         | 801/329841 [01:58<13:40:35,  6.68it/s]"
     ]
    },
    {
     "name": "stdout",
     "output_type": "stream",
     "text": [
      "Erreur lors de la prédiction pour la fenêtre 799: Neither Sparse nor Dense Index : /data/vdb/default/train_sensors/vdb/default_train_sensors_flat_index/metadata. OS reports: No such file or directory No index with this name present on disk\n",
      "Erreur lors de la prédiction pour la fenêtre 800: Neither Sparse nor Dense Index : /data/vdb/default/train_sensors/vdb/default_train_sensors_flat_index/metadata. OS reports: No such file or directory No index with this name present on disk\n"
     ]
    },
    {
     "name": "stderr",
     "output_type": "stream",
     "text": [
      "  0%|▏                                                                         | 803/329841 [01:58<13:27:37,  6.79it/s]"
     ]
    },
    {
     "name": "stdout",
     "output_type": "stream",
     "text": [
      "Erreur lors de la prédiction pour la fenêtre 801: Neither Sparse nor Dense Index : /data/vdb/default/train_sensors/vdb/default_train_sensors_flat_index/metadata. OS reports: No such file or directory No index with this name present on disk\n",
      "Erreur lors de la prédiction pour la fenêtre 802: Neither Sparse nor Dense Index : /data/vdb/default/train_sensors/vdb/default_train_sensors_flat_index/metadata. OS reports: No such file or directory No index with this name present on disk\n"
     ]
    },
    {
     "name": "stderr",
     "output_type": "stream",
     "text": [
      "  0%|▏                                                                         | 805/329841 [01:59<13:09:22,  6.95it/s]"
     ]
    },
    {
     "name": "stdout",
     "output_type": "stream",
     "text": [
      "Erreur lors de la prédiction pour la fenêtre 803: Neither Sparse nor Dense Index : /data/vdb/default/train_sensors/vdb/default_train_sensors_flat_index/metadata. OS reports: No such file or directory No index with this name present on disk\n",
      "Erreur lors de la prédiction pour la fenêtre 804: Neither Sparse nor Dense Index : /data/vdb/default/train_sensors/vdb/default_train_sensors_flat_index/metadata. OS reports: No such file or directory No index with this name present on disk\n"
     ]
    },
    {
     "name": "stderr",
     "output_type": "stream",
     "text": [
      "  0%|▏                                                                         | 807/329841 [01:59<13:08:52,  6.95it/s]"
     ]
    },
    {
     "name": "stdout",
     "output_type": "stream",
     "text": [
      "Erreur lors de la prédiction pour la fenêtre 805: Neither Sparse nor Dense Index : /data/vdb/default/train_sensors/vdb/default_train_sensors_flat_index/metadata. OS reports: No such file or directory No index with this name present on disk\n",
      "Erreur lors de la prédiction pour la fenêtre 806: Neither Sparse nor Dense Index : /data/vdb/default/train_sensors/vdb/default_train_sensors_flat_index/metadata. OS reports: No such file or directory No index with this name present on disk\n"
     ]
    },
    {
     "name": "stderr",
     "output_type": "stream",
     "text": [
      "  0%|▏                                                                         | 809/329841 [01:59<13:48:12,  6.62it/s]"
     ]
    },
    {
     "name": "stdout",
     "output_type": "stream",
     "text": [
      "Erreur lors de la prédiction pour la fenêtre 807: Neither Sparse nor Dense Index : /data/vdb/default/train_sensors/vdb/default_train_sensors_flat_index/metadata. OS reports: No such file or directory No index with this name present on disk\n",
      "Erreur lors de la prédiction pour la fenêtre 808: Neither Sparse nor Dense Index : /data/vdb/default/train_sensors/vdb/default_train_sensors_flat_index/metadata. OS reports: No such file or directory No index with this name present on disk\n"
     ]
    },
    {
     "name": "stderr",
     "output_type": "stream",
     "text": [
      "  0%|▏                                                                         | 811/329841 [02:00<13:36:53,  6.71it/s]"
     ]
    },
    {
     "name": "stdout",
     "output_type": "stream",
     "text": [
      "Erreur lors de la prédiction pour la fenêtre 809: Neither Sparse nor Dense Index : /data/vdb/default/train_sensors/vdb/default_train_sensors_flat_index/metadata. OS reports: No such file or directory No index with this name present on disk\n",
      "Erreur lors de la prédiction pour la fenêtre 810: Neither Sparse nor Dense Index : /data/vdb/default/train_sensors/vdb/default_train_sensors_flat_index/metadata. OS reports: No such file or directory No index with this name present on disk\n"
     ]
    },
    {
     "name": "stderr",
     "output_type": "stream",
     "text": [
      "  0%|▏                                                                         | 813/329841 [02:00<13:32:01,  6.75it/s]"
     ]
    },
    {
     "name": "stdout",
     "output_type": "stream",
     "text": [
      "Erreur lors de la prédiction pour la fenêtre 811: Neither Sparse nor Dense Index : /data/vdb/default/train_sensors/vdb/default_train_sensors_flat_index/metadata. OS reports: No such file or directory No index with this name present on disk\n",
      "Erreur lors de la prédiction pour la fenêtre 812: Neither Sparse nor Dense Index : /data/vdb/default/train_sensors/vdb/default_train_sensors_flat_index/metadata. OS reports: No such file or directory No index with this name present on disk\n"
     ]
    },
    {
     "name": "stderr",
     "output_type": "stream",
     "text": [
      "  0%|▏                                                                         | 815/329841 [02:00<13:13:18,  6.91it/s]"
     ]
    },
    {
     "name": "stdout",
     "output_type": "stream",
     "text": [
      "Erreur lors de la prédiction pour la fenêtre 813: Neither Sparse nor Dense Index : /data/vdb/default/train_sensors/vdb/default_train_sensors_flat_index/metadata. OS reports: No such file or directory No index with this name present on disk\n",
      "Erreur lors de la prédiction pour la fenêtre 814: Neither Sparse nor Dense Index : /data/vdb/default/train_sensors/vdb/default_train_sensors_flat_index/metadata. OS reports: No such file or directory No index with this name present on disk\n"
     ]
    },
    {
     "name": "stderr",
     "output_type": "stream",
     "text": [
      "  0%|▏                                                                         | 817/329841 [02:00<13:10:02,  6.94it/s]"
     ]
    },
    {
     "name": "stdout",
     "output_type": "stream",
     "text": [
      "Erreur lors de la prédiction pour la fenêtre 815: Neither Sparse nor Dense Index : /data/vdb/default/train_sensors/vdb/default_train_sensors_flat_index/metadata. OS reports: No such file or directory No index with this name present on disk\n",
      "Erreur lors de la prédiction pour la fenêtre 816: Neither Sparse nor Dense Index : /data/vdb/default/train_sensors/vdb/default_train_sensors_flat_index/metadata. OS reports: No such file or directory No index with this name present on disk\n"
     ]
    },
    {
     "name": "stderr",
     "output_type": "stream",
     "text": [
      "  0%|▏                                                                         | 819/329841 [02:01<13:07:40,  6.96it/s]"
     ]
    },
    {
     "name": "stdout",
     "output_type": "stream",
     "text": [
      "Erreur lors de la prédiction pour la fenêtre 817: Neither Sparse nor Dense Index : /data/vdb/default/train_sensors/vdb/default_train_sensors_flat_index/metadata. OS reports: No such file or directory No index with this name present on disk\n",
      "Erreur lors de la prédiction pour la fenêtre 818: Neither Sparse nor Dense Index : /data/vdb/default/train_sensors/vdb/default_train_sensors_flat_index/metadata. OS reports: No such file or directory No index with this name present on disk\n"
     ]
    },
    {
     "name": "stderr",
     "output_type": "stream",
     "text": [
      "  0%|▏                                                                         | 821/329841 [02:01<13:01:20,  7.02it/s]"
     ]
    },
    {
     "name": "stdout",
     "output_type": "stream",
     "text": [
      "Erreur lors de la prédiction pour la fenêtre 819: Neither Sparse nor Dense Index : /data/vdb/default/train_sensors/vdb/default_train_sensors_flat_index/metadata. OS reports: No such file or directory No index with this name present on disk\n",
      "Erreur lors de la prédiction pour la fenêtre 820: Neither Sparse nor Dense Index : /data/vdb/default/train_sensors/vdb/default_train_sensors_flat_index/metadata. OS reports: No such file or directory No index with this name present on disk\n"
     ]
    },
    {
     "name": "stderr",
     "output_type": "stream",
     "text": [
      "  0%|▏                                                                         | 823/329841 [02:01<13:09:33,  6.95it/s]"
     ]
    },
    {
     "name": "stdout",
     "output_type": "stream",
     "text": [
      "Erreur lors de la prédiction pour la fenêtre 821: Neither Sparse nor Dense Index : /data/vdb/default/train_sensors/vdb/default_train_sensors_flat_index/metadata. OS reports: No such file or directory No index with this name present on disk\n",
      "Erreur lors de la prédiction pour la fenêtre 822: Neither Sparse nor Dense Index : /data/vdb/default/train_sensors/vdb/default_train_sensors_flat_index/metadata. OS reports: No such file or directory No index with this name present on disk\n"
     ]
    },
    {
     "name": "stderr",
     "output_type": "stream",
     "text": [
      "  0%|▏                                                                         | 825/329841 [02:02<13:14:37,  6.90it/s]"
     ]
    },
    {
     "name": "stdout",
     "output_type": "stream",
     "text": [
      "Erreur lors de la prédiction pour la fenêtre 823: Neither Sparse nor Dense Index : /data/vdb/default/train_sensors/vdb/default_train_sensors_flat_index/metadata. OS reports: No such file or directory No index with this name present on disk\n",
      "Erreur lors de la prédiction pour la fenêtre 824: Neither Sparse nor Dense Index : /data/vdb/default/train_sensors/vdb/default_train_sensors_flat_index/metadata. OS reports: No such file or directory No index with this name present on disk\n"
     ]
    },
    {
     "name": "stderr",
     "output_type": "stream",
     "text": [
      "  0%|▏                                                                         | 827/329841 [02:02<13:57:52,  6.54it/s]"
     ]
    },
    {
     "name": "stdout",
     "output_type": "stream",
     "text": [
      "Erreur lors de la prédiction pour la fenêtre 825: Neither Sparse nor Dense Index : /data/vdb/default/train_sensors/vdb/default_train_sensors_flat_index/metadata. OS reports: No such file or directory No index with this name present on disk\n",
      "Erreur lors de la prédiction pour la fenêtre 826: Neither Sparse nor Dense Index : /data/vdb/default/train_sensors/vdb/default_train_sensors_flat_index/metadata. OS reports: No such file or directory No index with this name present on disk\n"
     ]
    },
    {
     "name": "stderr",
     "output_type": "stream",
     "text": [
      "  0%|▏                                                                         | 829/329841 [02:02<13:42:39,  6.67it/s]"
     ]
    },
    {
     "name": "stdout",
     "output_type": "stream",
     "text": [
      "Erreur lors de la prédiction pour la fenêtre 827: Neither Sparse nor Dense Index : /data/vdb/default/train_sensors/vdb/default_train_sensors_flat_index/metadata. OS reports: No such file or directory No index with this name present on disk\n",
      "Erreur lors de la prédiction pour la fenêtre 828: Neither Sparse nor Dense Index : /data/vdb/default/train_sensors/vdb/default_train_sensors_flat_index/metadata. OS reports: No such file or directory No index with this name present on disk\n"
     ]
    },
    {
     "name": "stderr",
     "output_type": "stream",
     "text": [
      "  0%|▏                                                                         | 831/329841 [02:03<13:26:46,  6.80it/s]"
     ]
    },
    {
     "name": "stdout",
     "output_type": "stream",
     "text": [
      "Erreur lors de la prédiction pour la fenêtre 829: Neither Sparse nor Dense Index : /data/vdb/default/train_sensors/vdb/default_train_sensors_flat_index/metadata. OS reports: No such file or directory No index with this name present on disk\n",
      "Erreur lors de la prédiction pour la fenêtre 830: Neither Sparse nor Dense Index : /data/vdb/default/train_sensors/vdb/default_train_sensors_flat_index/metadata. OS reports: No such file or directory No index with this name present on disk\n"
     ]
    },
    {
     "name": "stderr",
     "output_type": "stream",
     "text": [
      "  0%|▏                                                                         | 833/329841 [02:03<13:15:06,  6.90it/s]"
     ]
    },
    {
     "name": "stdout",
     "output_type": "stream",
     "text": [
      "Erreur lors de la prédiction pour la fenêtre 831: Neither Sparse nor Dense Index : /data/vdb/default/train_sensors/vdb/default_train_sensors_flat_index/metadata. OS reports: No such file or directory No index with this name present on disk\n",
      "Erreur lors de la prédiction pour la fenêtre 832: Neither Sparse nor Dense Index : /data/vdb/default/train_sensors/vdb/default_train_sensors_flat_index/metadata. OS reports: No such file or directory No index with this name present on disk\n"
     ]
    },
    {
     "name": "stderr",
     "output_type": "stream",
     "text": [
      "  0%|▏                                                                         | 835/329841 [02:03<13:29:25,  6.77it/s]"
     ]
    },
    {
     "name": "stdout",
     "output_type": "stream",
     "text": [
      "Erreur lors de la prédiction pour la fenêtre 833: Neither Sparse nor Dense Index : /data/vdb/default/train_sensors/vdb/default_train_sensors_flat_index/metadata. OS reports: No such file or directory No index with this name present on disk\n",
      "Erreur lors de la prédiction pour la fenêtre 834: Neither Sparse nor Dense Index : /data/vdb/default/train_sensors/vdb/default_train_sensors_flat_index/metadata. OS reports: No such file or directory No index with this name present on disk\n"
     ]
    },
    {
     "name": "stderr",
     "output_type": "stream",
     "text": [
      "  0%|▏                                                                         | 837/329841 [02:03<13:37:52,  6.70it/s]"
     ]
    },
    {
     "name": "stdout",
     "output_type": "stream",
     "text": [
      "Erreur lors de la prédiction pour la fenêtre 835: Neither Sparse nor Dense Index : /data/vdb/default/train_sensors/vdb/default_train_sensors_flat_index/metadata. OS reports: No such file or directory No index with this name present on disk\n",
      "Erreur lors de la prédiction pour la fenêtre 836: Neither Sparse nor Dense Index : /data/vdb/default/train_sensors/vdb/default_train_sensors_flat_index/metadata. OS reports: No such file or directory No index with this name present on disk\n"
     ]
    },
    {
     "name": "stderr",
     "output_type": "stream",
     "text": [
      "  0%|▏                                                                         | 839/329841 [02:04<13:24:46,  6.81it/s]"
     ]
    },
    {
     "name": "stdout",
     "output_type": "stream",
     "text": [
      "Erreur lors de la prédiction pour la fenêtre 837: Neither Sparse nor Dense Index : /data/vdb/default/train_sensors/vdb/default_train_sensors_flat_index/metadata. OS reports: No such file or directory No index with this name present on disk\n",
      "Erreur lors de la prédiction pour la fenêtre 838: Neither Sparse nor Dense Index : /data/vdb/default/train_sensors/vdb/default_train_sensors_flat_index/metadata. OS reports: No such file or directory No index with this name present on disk\n"
     ]
    },
    {
     "name": "stderr",
     "output_type": "stream",
     "text": [
      "  0%|▏                                                                         | 841/329841 [02:04<13:36:43,  6.71it/s]"
     ]
    },
    {
     "name": "stdout",
     "output_type": "stream",
     "text": [
      "Erreur lors de la prédiction pour la fenêtre 839: Neither Sparse nor Dense Index : /data/vdb/default/train_sensors/vdb/default_train_sensors_flat_index/metadata. OS reports: No such file or directory No index with this name present on disk\n",
      "Erreur lors de la prédiction pour la fenêtre 840: Neither Sparse nor Dense Index : /data/vdb/default/train_sensors/vdb/default_train_sensors_flat_index/metadata. OS reports: No such file or directory No index with this name present on disk\n"
     ]
    },
    {
     "name": "stderr",
     "output_type": "stream",
     "text": [
      "  0%|▏                                                                         | 843/329841 [02:04<13:32:32,  6.75it/s]"
     ]
    },
    {
     "name": "stdout",
     "output_type": "stream",
     "text": [
      "Erreur lors de la prédiction pour la fenêtre 841: Neither Sparse nor Dense Index : /data/vdb/default/train_sensors/vdb/default_train_sensors_flat_index/metadata. OS reports: No such file or directory No index with this name present on disk\n",
      "Erreur lors de la prédiction pour la fenêtre 842: Neither Sparse nor Dense Index : /data/vdb/default/train_sensors/vdb/default_train_sensors_flat_index/metadata. OS reports: No such file or directory No index with this name present on disk\n"
     ]
    },
    {
     "name": "stderr",
     "output_type": "stream",
     "text": [
      "  0%|▏                                                                         | 845/329841 [02:05<13:24:40,  6.81it/s]"
     ]
    },
    {
     "name": "stdout",
     "output_type": "stream",
     "text": [
      "Erreur lors de la prédiction pour la fenêtre 843: Neither Sparse nor Dense Index : /data/vdb/default/train_sensors/vdb/default_train_sensors_flat_index/metadata. OS reports: No such file or directory No index with this name present on disk\n",
      "Erreur lors de la prédiction pour la fenêtre 844: Neither Sparse nor Dense Index : /data/vdb/default/train_sensors/vdb/default_train_sensors_flat_index/metadata. OS reports: No such file or directory No index with this name present on disk\n"
     ]
    },
    {
     "name": "stderr",
     "output_type": "stream",
     "text": [
      "  0%|▏                                                                         | 847/329841 [02:05<13:07:30,  6.96it/s]"
     ]
    },
    {
     "name": "stdout",
     "output_type": "stream",
     "text": [
      "Erreur lors de la prédiction pour la fenêtre 845: Neither Sparse nor Dense Index : /data/vdb/default/train_sensors/vdb/default_train_sensors_flat_index/metadata. OS reports: No such file or directory No index with this name present on disk\n",
      "Erreur lors de la prédiction pour la fenêtre 846: Neither Sparse nor Dense Index : /data/vdb/default/train_sensors/vdb/default_train_sensors_flat_index/metadata. OS reports: No such file or directory No index with this name present on disk\n"
     ]
    },
    {
     "name": "stderr",
     "output_type": "stream",
     "text": [
      "  0%|▏                                                                         | 849/329841 [02:05<13:14:47,  6.90it/s]"
     ]
    },
    {
     "name": "stdout",
     "output_type": "stream",
     "text": [
      "Erreur lors de la prédiction pour la fenêtre 847: Neither Sparse nor Dense Index : /data/vdb/default/train_sensors/vdb/default_train_sensors_flat_index/metadata. OS reports: No such file or directory No index with this name present on disk\n",
      "Erreur lors de la prédiction pour la fenêtre 848: Neither Sparse nor Dense Index : /data/vdb/default/train_sensors/vdb/default_train_sensors_flat_index/metadata. OS reports: No such file or directory No index with this name present on disk\n"
     ]
    },
    {
     "name": "stderr",
     "output_type": "stream",
     "text": [
      "  0%|▏                                                                         | 851/329841 [02:05<13:10:39,  6.93it/s]"
     ]
    },
    {
     "name": "stdout",
     "output_type": "stream",
     "text": [
      "Erreur lors de la prédiction pour la fenêtre 849: Neither Sparse nor Dense Index : /data/vdb/default/train_sensors/vdb/default_train_sensors_flat_index/metadata. OS reports: No such file or directory No index with this name present on disk\n",
      "Erreur lors de la prédiction pour la fenêtre 850: Neither Sparse nor Dense Index : /data/vdb/default/train_sensors/vdb/default_train_sensors_flat_index/metadata. OS reports: No such file or directory No index with this name present on disk\n"
     ]
    },
    {
     "name": "stderr",
     "output_type": "stream",
     "text": [
      "  0%|▏                                                                         | 853/329841 [02:06<13:05:55,  6.98it/s]"
     ]
    },
    {
     "name": "stdout",
     "output_type": "stream",
     "text": [
      "Erreur lors de la prédiction pour la fenêtre 851: Neither Sparse nor Dense Index : /data/vdb/default/train_sensors/vdb/default_train_sensors_flat_index/metadata. OS reports: No such file or directory No index with this name present on disk\n",
      "Erreur lors de la prédiction pour la fenêtre 852: Neither Sparse nor Dense Index : /data/vdb/default/train_sensors/vdb/default_train_sensors_flat_index/metadata. OS reports: No such file or directory No index with this name present on disk\n"
     ]
    },
    {
     "name": "stderr",
     "output_type": "stream",
     "text": [
      "  0%|▏                                                                         | 855/329841 [02:06<13:01:24,  7.02it/s]"
     ]
    },
    {
     "name": "stdout",
     "output_type": "stream",
     "text": [
      "Erreur lors de la prédiction pour la fenêtre 853: Neither Sparse nor Dense Index : /data/vdb/default/train_sensors/vdb/default_train_sensors_flat_index/metadata. OS reports: No such file or directory No index with this name present on disk\n",
      "Erreur lors de la prédiction pour la fenêtre 854: Neither Sparse nor Dense Index : /data/vdb/default/train_sensors/vdb/default_train_sensors_flat_index/metadata. OS reports: No such file or directory No index with this name present on disk\n"
     ]
    },
    {
     "name": "stderr",
     "output_type": "stream",
     "text": [
      "  0%|▏                                                                         | 857/329841 [02:06<13:30:59,  6.76it/s]"
     ]
    },
    {
     "name": "stdout",
     "output_type": "stream",
     "text": [
      "Erreur lors de la prédiction pour la fenêtre 855: Neither Sparse nor Dense Index : /data/vdb/default/train_sensors/vdb/default_train_sensors_flat_index/metadata. OS reports: No such file or directory No index with this name present on disk\n",
      "Erreur lors de la prédiction pour la fenêtre 856: Neither Sparse nor Dense Index : /data/vdb/default/train_sensors/vdb/default_train_sensors_flat_index/metadata. OS reports: No such file or directory No index with this name present on disk\n"
     ]
    },
    {
     "name": "stderr",
     "output_type": "stream",
     "text": [
      "  0%|▏                                                                         | 859/329841 [02:07<13:32:04,  6.75it/s]"
     ]
    },
    {
     "name": "stdout",
     "output_type": "stream",
     "text": [
      "Erreur lors de la prédiction pour la fenêtre 857: Neither Sparse nor Dense Index : /data/vdb/default/train_sensors/vdb/default_train_sensors_flat_index/metadata. OS reports: No such file or directory No index with this name present on disk\n",
      "Erreur lors de la prédiction pour la fenêtre 858: Neither Sparse nor Dense Index : /data/vdb/default/train_sensors/vdb/default_train_sensors_flat_index/metadata. OS reports: No such file or directory No index with this name present on disk\n"
     ]
    },
    {
     "name": "stderr",
     "output_type": "stream",
     "text": [
      "  0%|▏                                                                         | 861/329841 [02:07<13:26:05,  6.80it/s]"
     ]
    },
    {
     "name": "stdout",
     "output_type": "stream",
     "text": [
      "Erreur lors de la prédiction pour la fenêtre 859: Neither Sparse nor Dense Index : /data/vdb/default/train_sensors/vdb/default_train_sensors_flat_index/metadata. OS reports: No such file or directory No index with this name present on disk\n",
      "Erreur lors de la prédiction pour la fenêtre 860: Neither Sparse nor Dense Index : /data/vdb/default/train_sensors/vdb/default_train_sensors_flat_index/metadata. OS reports: No such file or directory No index with this name present on disk\n"
     ]
    },
    {
     "name": "stderr",
     "output_type": "stream",
     "text": [
      "  0%|▏                                                                         | 863/329841 [02:07<13:24:15,  6.82it/s]"
     ]
    },
    {
     "name": "stdout",
     "output_type": "stream",
     "text": [
      "Erreur lors de la prédiction pour la fenêtre 861: Neither Sparse nor Dense Index : /data/vdb/default/train_sensors/vdb/default_train_sensors_flat_index/metadata. OS reports: No such file or directory No index with this name present on disk\n",
      "Erreur lors de la prédiction pour la fenêtre 862: Neither Sparse nor Dense Index : /data/vdb/default/train_sensors/vdb/default_train_sensors_flat_index/metadata. OS reports: No such file or directory No index with this name present on disk\n"
     ]
    },
    {
     "name": "stderr",
     "output_type": "stream",
     "text": [
      "  0%|▏                                                                         | 865/329841 [02:08<13:43:57,  6.65it/s]"
     ]
    },
    {
     "name": "stdout",
     "output_type": "stream",
     "text": [
      "Erreur lors de la prédiction pour la fenêtre 863: Neither Sparse nor Dense Index : /data/vdb/default/train_sensors/vdb/default_train_sensors_flat_index/metadata. OS reports: No such file or directory No index with this name present on disk\n",
      "Erreur lors de la prédiction pour la fenêtre 864: Neither Sparse nor Dense Index : /data/vdb/default/train_sensors/vdb/default_train_sensors_flat_index/metadata. OS reports: No such file or directory No index with this name present on disk\n"
     ]
    },
    {
     "name": "stderr",
     "output_type": "stream",
     "text": [
      "  0%|▏                                                                         | 867/329841 [02:08<13:30:12,  6.77it/s]"
     ]
    },
    {
     "name": "stdout",
     "output_type": "stream",
     "text": [
      "Erreur lors de la prédiction pour la fenêtre 865: Neither Sparse nor Dense Index : /data/vdb/default/train_sensors/vdb/default_train_sensors_flat_index/metadata. OS reports: No such file or directory No index with this name present on disk\n",
      "Erreur lors de la prédiction pour la fenêtre 866: Neither Sparse nor Dense Index : /data/vdb/default/train_sensors/vdb/default_train_sensors_flat_index/metadata. OS reports: No such file or directory No index with this name present on disk\n"
     ]
    },
    {
     "name": "stderr",
     "output_type": "stream",
     "text": [
      "  0%|▏                                                                         | 869/329841 [02:08<13:17:58,  6.87it/s]"
     ]
    },
    {
     "name": "stdout",
     "output_type": "stream",
     "text": [
      "Erreur lors de la prédiction pour la fenêtre 867: Neither Sparse nor Dense Index : /data/vdb/default/train_sensors/vdb/default_train_sensors_flat_index/metadata. OS reports: No such file or directory No index with this name present on disk\n",
      "Erreur lors de la prédiction pour la fenêtre 868: Neither Sparse nor Dense Index : /data/vdb/default/train_sensors/vdb/default_train_sensors_flat_index/metadata. OS reports: No such file or directory No index with this name present on disk\n"
     ]
    },
    {
     "name": "stderr",
     "output_type": "stream",
     "text": [
      "  0%|▏                                                                         | 871/329841 [02:08<13:22:58,  6.83it/s]"
     ]
    },
    {
     "name": "stdout",
     "output_type": "stream",
     "text": [
      "Erreur lors de la prédiction pour la fenêtre 869: Neither Sparse nor Dense Index : /data/vdb/default/train_sensors/vdb/default_train_sensors_flat_index/metadata. OS reports: No such file or directory No index with this name present on disk\n",
      "Erreur lors de la prédiction pour la fenêtre 870: Neither Sparse nor Dense Index : /data/vdb/default/train_sensors/vdb/default_train_sensors_flat_index/metadata. OS reports: No such file or directory No index with this name present on disk\n"
     ]
    },
    {
     "name": "stderr",
     "output_type": "stream",
     "text": [
      "  0%|▏                                                                         | 873/329841 [02:09<13:22:06,  6.84it/s]"
     ]
    },
    {
     "name": "stdout",
     "output_type": "stream",
     "text": [
      "Erreur lors de la prédiction pour la fenêtre 871: Neither Sparse nor Dense Index : /data/vdb/default/train_sensors/vdb/default_train_sensors_flat_index/metadata. OS reports: No such file or directory No index with this name present on disk\n",
      "Erreur lors de la prédiction pour la fenêtre 872: Neither Sparse nor Dense Index : /data/vdb/default/train_sensors/vdb/default_train_sensors_flat_index/metadata. OS reports: No such file or directory No index with this name present on disk\n"
     ]
    },
    {
     "name": "stderr",
     "output_type": "stream",
     "text": [
      "  0%|▏                                                                         | 875/329841 [02:09<13:28:21,  6.78it/s]"
     ]
    },
    {
     "name": "stdout",
     "output_type": "stream",
     "text": [
      "Erreur lors de la prédiction pour la fenêtre 873: Neither Sparse nor Dense Index : /data/vdb/default/train_sensors/vdb/default_train_sensors_flat_index/metadata. OS reports: No such file or directory No index with this name present on disk\n",
      "Erreur lors de la prédiction pour la fenêtre 874: Neither Sparse nor Dense Index : /data/vdb/default/train_sensors/vdb/default_train_sensors_flat_index/metadata. OS reports: No such file or directory No index with this name present on disk\n"
     ]
    },
    {
     "name": "stderr",
     "output_type": "stream",
     "text": [
      "  0%|▏                                                                         | 877/329841 [02:09<13:23:57,  6.82it/s]"
     ]
    },
    {
     "name": "stdout",
     "output_type": "stream",
     "text": [
      "Erreur lors de la prédiction pour la fenêtre 875: Neither Sparse nor Dense Index : /data/vdb/default/train_sensors/vdb/default_train_sensors_flat_index/metadata. OS reports: No such file or directory No index with this name present on disk\n",
      "Erreur lors de la prédiction pour la fenêtre 876: Neither Sparse nor Dense Index : /data/vdb/default/train_sensors/vdb/default_train_sensors_flat_index/metadata. OS reports: No such file or directory No index with this name present on disk\n"
     ]
    },
    {
     "name": "stderr",
     "output_type": "stream",
     "text": [
      "  0%|▏                                                                         | 879/329841 [02:10<13:11:15,  6.93it/s]"
     ]
    },
    {
     "name": "stdout",
     "output_type": "stream",
     "text": [
      "Erreur lors de la prédiction pour la fenêtre 877: Neither Sparse nor Dense Index : /data/vdb/default/train_sensors/vdb/default_train_sensors_flat_index/metadata. OS reports: No such file or directory No index with this name present on disk\n",
      "Erreur lors de la prédiction pour la fenêtre 878: Neither Sparse nor Dense Index : /data/vdb/default/train_sensors/vdb/default_train_sensors_flat_index/metadata. OS reports: No such file or directory No index with this name present on disk\n"
     ]
    },
    {
     "name": "stderr",
     "output_type": "stream",
     "text": [
      "  0%|▏                                                                         | 881/329841 [02:10<13:02:30,  7.01it/s]"
     ]
    },
    {
     "name": "stdout",
     "output_type": "stream",
     "text": [
      "Erreur lors de la prédiction pour la fenêtre 879: Neither Sparse nor Dense Index : /data/vdb/default/train_sensors/vdb/default_train_sensors_flat_index/metadata. OS reports: No such file or directory No index with this name present on disk\n",
      "Erreur lors de la prédiction pour la fenêtre 880: Neither Sparse nor Dense Index : /data/vdb/default/train_sensors/vdb/default_train_sensors_flat_index/metadata. OS reports: No such file or directory No index with this name present on disk\n"
     ]
    },
    {
     "name": "stderr",
     "output_type": "stream",
     "text": [
      "  0%|▏                                                                         | 883/329841 [02:10<13:00:35,  7.02it/s]"
     ]
    },
    {
     "name": "stdout",
     "output_type": "stream",
     "text": [
      "Erreur lors de la prédiction pour la fenêtre 881: Neither Sparse nor Dense Index : /data/vdb/default/train_sensors/vdb/default_train_sensors_flat_index/metadata. OS reports: No such file or directory No index with this name present on disk\n",
      "Erreur lors de la prédiction pour la fenêtre 882: Neither Sparse nor Dense Index : /data/vdb/default/train_sensors/vdb/default_train_sensors_flat_index/metadata. OS reports: No such file or directory No index with this name present on disk\n"
     ]
    },
    {
     "name": "stderr",
     "output_type": "stream",
     "text": [
      "  0%|▏                                                                         | 885/329841 [02:10<13:10:53,  6.93it/s]"
     ]
    },
    {
     "name": "stdout",
     "output_type": "stream",
     "text": [
      "Erreur lors de la prédiction pour la fenêtre 883: Neither Sparse nor Dense Index : /data/vdb/default/train_sensors/vdb/default_train_sensors_flat_index/metadata. OS reports: No such file or directory No index with this name present on disk\n",
      "Erreur lors de la prédiction pour la fenêtre 884: Neither Sparse nor Dense Index : /data/vdb/default/train_sensors/vdb/default_train_sensors_flat_index/metadata. OS reports: No such file or directory No index with this name present on disk\n"
     ]
    },
    {
     "name": "stderr",
     "output_type": "stream",
     "text": [
      "  0%|▏                                                                         | 887/329841 [02:11<13:24:50,  6.81it/s]"
     ]
    },
    {
     "name": "stdout",
     "output_type": "stream",
     "text": [
      "Erreur lors de la prédiction pour la fenêtre 885: Neither Sparse nor Dense Index : /data/vdb/default/train_sensors/vdb/default_train_sensors_flat_index/metadata. OS reports: No such file or directory No index with this name present on disk\n",
      "Erreur lors de la prédiction pour la fenêtre 886: Neither Sparse nor Dense Index : /data/vdb/default/train_sensors/vdb/default_train_sensors_flat_index/metadata. OS reports: No such file or directory No index with this name present on disk\n"
     ]
    },
    {
     "name": "stderr",
     "output_type": "stream",
     "text": [
      "  0%|▏                                                                         | 889/329841 [02:11<13:19:48,  6.85it/s]"
     ]
    },
    {
     "name": "stdout",
     "output_type": "stream",
     "text": [
      "Erreur lors de la prédiction pour la fenêtre 887: Neither Sparse nor Dense Index : /data/vdb/default/train_sensors/vdb/default_train_sensors_flat_index/metadata. OS reports: No such file or directory No index with this name present on disk\n",
      "Erreur lors de la prédiction pour la fenêtre 888: Neither Sparse nor Dense Index : /data/vdb/default/train_sensors/vdb/default_train_sensors_flat_index/metadata. OS reports: No such file or directory No index with this name present on disk\n"
     ]
    },
    {
     "name": "stderr",
     "output_type": "stream",
     "text": [
      "  0%|▏                                                                         | 891/329841 [02:11<13:23:42,  6.82it/s]"
     ]
    },
    {
     "name": "stdout",
     "output_type": "stream",
     "text": [
      "Erreur lors de la prédiction pour la fenêtre 889: Neither Sparse nor Dense Index : /data/vdb/default/train_sensors/vdb/default_train_sensors_flat_index/metadata. OS reports: No such file or directory No index with this name present on disk\n",
      "Erreur lors de la prédiction pour la fenêtre 890: Neither Sparse nor Dense Index : /data/vdb/default/train_sensors/vdb/default_train_sensors_flat_index/metadata. OS reports: No such file or directory No index with this name present on disk\n"
     ]
    },
    {
     "name": "stderr",
     "output_type": "stream",
     "text": [
      "  0%|▏                                                                         | 893/329841 [02:12<13:30:23,  6.77it/s]"
     ]
    },
    {
     "name": "stdout",
     "output_type": "stream",
     "text": [
      "Erreur lors de la prédiction pour la fenêtre 891: Neither Sparse nor Dense Index : /data/vdb/default/train_sensors/vdb/default_train_sensors_flat_index/metadata. OS reports: No such file or directory No index with this name present on disk\n",
      "Erreur lors de la prédiction pour la fenêtre 892: Neither Sparse nor Dense Index : /data/vdb/default/train_sensors/vdb/default_train_sensors_flat_index/metadata. OS reports: No such file or directory No index with this name present on disk\n"
     ]
    },
    {
     "name": "stderr",
     "output_type": "stream",
     "text": [
      "  0%|▏                                                                         | 895/329841 [02:12<13:23:52,  6.82it/s]"
     ]
    },
    {
     "name": "stdout",
     "output_type": "stream",
     "text": [
      "Erreur lors de la prédiction pour la fenêtre 893: Neither Sparse nor Dense Index : /data/vdb/default/train_sensors/vdb/default_train_sensors_flat_index/metadata. OS reports: No such file or directory No index with this name present on disk\n",
      "Erreur lors de la prédiction pour la fenêtre 894: Neither Sparse nor Dense Index : /data/vdb/default/train_sensors/vdb/default_train_sensors_flat_index/metadata. OS reports: No such file or directory No index with this name present on disk\n"
     ]
    },
    {
     "name": "stderr",
     "output_type": "stream",
     "text": [
      "  0%|▏                                                                         | 897/329841 [02:12<13:12:09,  6.92it/s]"
     ]
    },
    {
     "name": "stdout",
     "output_type": "stream",
     "text": [
      "Erreur lors de la prédiction pour la fenêtre 895: Neither Sparse nor Dense Index : /data/vdb/default/train_sensors/vdb/default_train_sensors_flat_index/metadata. OS reports: No such file or directory No index with this name present on disk\n",
      "Erreur lors de la prédiction pour la fenêtre 896: Neither Sparse nor Dense Index : /data/vdb/default/train_sensors/vdb/default_train_sensors_flat_index/metadata. OS reports: No such file or directory No index with this name present on disk\n"
     ]
    },
    {
     "name": "stderr",
     "output_type": "stream",
     "text": [
      "  0%|▏                                                                         | 899/329841 [02:12<13:12:52,  6.91it/s]"
     ]
    },
    {
     "name": "stdout",
     "output_type": "stream",
     "text": [
      "Erreur lors de la prédiction pour la fenêtre 897: Neither Sparse nor Dense Index : /data/vdb/default/train_sensors/vdb/default_train_sensors_flat_index/metadata. OS reports: No such file or directory No index with this name present on disk\n",
      "Erreur lors de la prédiction pour la fenêtre 898: Neither Sparse nor Dense Index : /data/vdb/default/train_sensors/vdb/default_train_sensors_flat_index/metadata. OS reports: No such file or directory No index with this name present on disk\n"
     ]
    },
    {
     "name": "stderr",
     "output_type": "stream",
     "text": [
      "  0%|▏                                                                         | 901/329841 [02:13<13:39:42,  6.69it/s]"
     ]
    },
    {
     "name": "stdout",
     "output_type": "stream",
     "text": [
      "Erreur lors de la prédiction pour la fenêtre 899: Neither Sparse nor Dense Index : /data/vdb/default/train_sensors/vdb/default_train_sensors_flat_index/metadata. OS reports: No such file or directory No index with this name present on disk\n",
      "Erreur lors de la prédiction pour la fenêtre 900: Neither Sparse nor Dense Index : /data/vdb/default/train_sensors/vdb/default_train_sensors_flat_index/metadata. OS reports: No such file or directory No index with this name present on disk\n"
     ]
    },
    {
     "name": "stderr",
     "output_type": "stream",
     "text": [
      "  0%|▏                                                                         | 903/329841 [02:13<13:42:33,  6.66it/s]"
     ]
    },
    {
     "name": "stdout",
     "output_type": "stream",
     "text": [
      "Erreur lors de la prédiction pour la fenêtre 901: Neither Sparse nor Dense Index : /data/vdb/default/train_sensors/vdb/default_train_sensors_flat_index/metadata. OS reports: No such file or directory No index with this name present on disk\n",
      "Erreur lors de la prédiction pour la fenêtre 902: Neither Sparse nor Dense Index : /data/vdb/default/train_sensors/vdb/default_train_sensors_flat_index/metadata. OS reports: No such file or directory No index with this name present on disk\n"
     ]
    },
    {
     "name": "stderr",
     "output_type": "stream",
     "text": [
      "  0%|▏                                                                         | 905/329841 [02:13<13:32:57,  6.74it/s]"
     ]
    },
    {
     "name": "stdout",
     "output_type": "stream",
     "text": [
      "Erreur lors de la prédiction pour la fenêtre 903: Neither Sparse nor Dense Index : /data/vdb/default/train_sensors/vdb/default_train_sensors_flat_index/metadata. OS reports: No such file or directory No index with this name present on disk\n",
      "Erreur lors de la prédiction pour la fenêtre 904: Neither Sparse nor Dense Index : /data/vdb/default/train_sensors/vdb/default_train_sensors_flat_index/metadata. OS reports: No such file or directory No index with this name present on disk\n"
     ]
    },
    {
     "name": "stderr",
     "output_type": "stream",
     "text": [
      "  0%|▏                                                                         | 907/329841 [02:14<13:09:37,  6.94it/s]"
     ]
    },
    {
     "name": "stdout",
     "output_type": "stream",
     "text": [
      "Erreur lors de la prédiction pour la fenêtre 905: Neither Sparse nor Dense Index : /data/vdb/default/train_sensors/vdb/default_train_sensors_flat_index/metadata. OS reports: No such file or directory No index with this name present on disk\n",
      "Erreur lors de la prédiction pour la fenêtre 906: Neither Sparse nor Dense Index : /data/vdb/default/train_sensors/vdb/default_train_sensors_flat_index/metadata. OS reports: No such file or directory No index with this name present on disk\n"
     ]
    },
    {
     "name": "stderr",
     "output_type": "stream",
     "text": [
      "  0%|▏                                                                         | 909/329841 [02:14<14:18:15,  6.39it/s]"
     ]
    },
    {
     "name": "stdout",
     "output_type": "stream",
     "text": [
      "Erreur lors de la prédiction pour la fenêtre 907: Neither Sparse nor Dense Index : /data/vdb/default/train_sensors/vdb/default_train_sensors_flat_index/metadata. OS reports: No such file or directory No index with this name present on disk\n",
      "Erreur lors de la prédiction pour la fenêtre 908: Neither Sparse nor Dense Index : /data/vdb/default/train_sensors/vdb/default_train_sensors_flat_index/metadata. OS reports: No such file or directory No index with this name present on disk\n"
     ]
    },
    {
     "name": "stderr",
     "output_type": "stream",
     "text": [
      "  0%|▏                                                                         | 911/329841 [02:14<13:36:53,  6.71it/s]"
     ]
    },
    {
     "name": "stdout",
     "output_type": "stream",
     "text": [
      "Erreur lors de la prédiction pour la fenêtre 909: Neither Sparse nor Dense Index : /data/vdb/default/train_sensors/vdb/default_train_sensors_flat_index/metadata. OS reports: No such file or directory No index with this name present on disk\n",
      "Erreur lors de la prédiction pour la fenêtre 910: Neither Sparse nor Dense Index : /data/vdb/default/train_sensors/vdb/default_train_sensors_flat_index/metadata. OS reports: No such file or directory No index with this name present on disk\n"
     ]
    },
    {
     "name": "stderr",
     "output_type": "stream",
     "text": [
      "  0%|▏                                                                         | 913/329841 [02:15<13:35:41,  6.72it/s]"
     ]
    },
    {
     "name": "stdout",
     "output_type": "stream",
     "text": [
      "Erreur lors de la prédiction pour la fenêtre 911: Neither Sparse nor Dense Index : /data/vdb/default/train_sensors/vdb/default_train_sensors_flat_index/metadata. OS reports: No such file or directory No index with this name present on disk\n",
      "Erreur lors de la prédiction pour la fenêtre 912: Neither Sparse nor Dense Index : /data/vdb/default/train_sensors/vdb/default_train_sensors_flat_index/metadata. OS reports: No such file or directory No index with this name present on disk\n"
     ]
    },
    {
     "name": "stderr",
     "output_type": "stream",
     "text": [
      "  0%|▏                                                                         | 915/329841 [02:15<13:46:27,  6.63it/s]"
     ]
    },
    {
     "name": "stdout",
     "output_type": "stream",
     "text": [
      "Erreur lors de la prédiction pour la fenêtre 913: Neither Sparse nor Dense Index : /data/vdb/default/train_sensors/vdb/default_train_sensors_flat_index/metadata. OS reports: No such file or directory No index with this name present on disk\n",
      "Erreur lors de la prédiction pour la fenêtre 914: Neither Sparse nor Dense Index : /data/vdb/default/train_sensors/vdb/default_train_sensors_flat_index/metadata. OS reports: No such file or directory No index with this name present on disk\n"
     ]
    },
    {
     "name": "stderr",
     "output_type": "stream",
     "text": [
      "  0%|▏                                                                         | 917/329841 [02:15<14:01:46,  6.51it/s]"
     ]
    },
    {
     "name": "stdout",
     "output_type": "stream",
     "text": [
      "Erreur lors de la prédiction pour la fenêtre 915: Neither Sparse nor Dense Index : /data/vdb/default/train_sensors/vdb/default_train_sensors_flat_index/metadata. OS reports: No such file or directory No index with this name present on disk\n",
      "Erreur lors de la prédiction pour la fenêtre 916: Neither Sparse nor Dense Index : /data/vdb/default/train_sensors/vdb/default_train_sensors_flat_index/metadata. OS reports: No such file or directory No index with this name present on disk\n"
     ]
    },
    {
     "name": "stderr",
     "output_type": "stream",
     "text": [
      "  0%|▏                                                                         | 919/329841 [02:15<13:40:28,  6.68it/s]"
     ]
    },
    {
     "name": "stdout",
     "output_type": "stream",
     "text": [
      "Erreur lors de la prédiction pour la fenêtre 917: Neither Sparse nor Dense Index : /data/vdb/default/train_sensors/vdb/default_train_sensors_flat_index/metadata. OS reports: No such file or directory No index with this name present on disk\n",
      "Erreur lors de la prédiction pour la fenêtre 918: Neither Sparse nor Dense Index : /data/vdb/default/train_sensors/vdb/default_train_sensors_flat_index/metadata. OS reports: No such file or directory No index with this name present on disk\n"
     ]
    },
    {
     "name": "stderr",
     "output_type": "stream",
     "text": [
      "  0%|▏                                                                         | 921/329841 [02:16<13:14:16,  6.90it/s]"
     ]
    },
    {
     "name": "stdout",
     "output_type": "stream",
     "text": [
      "Erreur lors de la prédiction pour la fenêtre 919: Neither Sparse nor Dense Index : /data/vdb/default/train_sensors/vdb/default_train_sensors_flat_index/metadata. OS reports: No such file or directory No index with this name present on disk\n",
      "Erreur lors de la prédiction pour la fenêtre 920: Neither Sparse nor Dense Index : /data/vdb/default/train_sensors/vdb/default_train_sensors_flat_index/metadata. OS reports: No such file or directory No index with this name present on disk\n"
     ]
    },
    {
     "name": "stderr",
     "output_type": "stream",
     "text": [
      "  0%|▏                                                                         | 923/329841 [02:16<13:05:29,  6.98it/s]"
     ]
    },
    {
     "name": "stdout",
     "output_type": "stream",
     "text": [
      "Erreur lors de la prédiction pour la fenêtre 921: Neither Sparse nor Dense Index : /data/vdb/default/train_sensors/vdb/default_train_sensors_flat_index/metadata. OS reports: No such file or directory No index with this name present on disk\n",
      "Erreur lors de la prédiction pour la fenêtre 922: Neither Sparse nor Dense Index : /data/vdb/default/train_sensors/vdb/default_train_sensors_flat_index/metadata. OS reports: No such file or directory No index with this name present on disk\n"
     ]
    },
    {
     "name": "stderr",
     "output_type": "stream",
     "text": [
      "  0%|▏                                                                         | 925/329841 [02:16<13:05:57,  6.97it/s]"
     ]
    },
    {
     "name": "stdout",
     "output_type": "stream",
     "text": [
      "Erreur lors de la prédiction pour la fenêtre 923: Neither Sparse nor Dense Index : /data/vdb/default/train_sensors/vdb/default_train_sensors_flat_index/metadata. OS reports: No such file or directory No index with this name present on disk\n",
      "Erreur lors de la prédiction pour la fenêtre 924: Neither Sparse nor Dense Index : /data/vdb/default/train_sensors/vdb/default_train_sensors_flat_index/metadata. OS reports: No such file or directory No index with this name present on disk\n"
     ]
    },
    {
     "name": "stderr",
     "output_type": "stream",
     "text": [
      "  0%|▏                                                                         | 927/329841 [02:17<13:04:03,  6.99it/s]"
     ]
    },
    {
     "name": "stdout",
     "output_type": "stream",
     "text": [
      "Erreur lors de la prédiction pour la fenêtre 925: Neither Sparse nor Dense Index : /data/vdb/default/train_sensors/vdb/default_train_sensors_flat_index/metadata. OS reports: No such file or directory No index with this name present on disk\n",
      "Erreur lors de la prédiction pour la fenêtre 926: Neither Sparse nor Dense Index : /data/vdb/default/train_sensors/vdb/default_train_sensors_flat_index/metadata. OS reports: No such file or directory No index with this name present on disk\n"
     ]
    },
    {
     "name": "stderr",
     "output_type": "stream",
     "text": [
      "  0%|▏                                                                         | 929/329841 [02:17<13:04:15,  6.99it/s]"
     ]
    },
    {
     "name": "stdout",
     "output_type": "stream",
     "text": [
      "Erreur lors de la prédiction pour la fenêtre 927: Neither Sparse nor Dense Index : /data/vdb/default/train_sensors/vdb/default_train_sensors_flat_index/metadata. OS reports: No such file or directory No index with this name present on disk\n",
      "Erreur lors de la prédiction pour la fenêtre 928: Neither Sparse nor Dense Index : /data/vdb/default/train_sensors/vdb/default_train_sensors_flat_index/metadata. OS reports: No such file or directory No index with this name present on disk\n"
     ]
    },
    {
     "name": "stderr",
     "output_type": "stream",
     "text": [
      "  0%|▏                                                                         | 931/329841 [02:17<13:03:51,  6.99it/s]"
     ]
    },
    {
     "name": "stdout",
     "output_type": "stream",
     "text": [
      "Erreur lors de la prédiction pour la fenêtre 929: Neither Sparse nor Dense Index : /data/vdb/default/train_sensors/vdb/default_train_sensors_flat_index/metadata. OS reports: No such file or directory No index with this name present on disk\n",
      "Erreur lors de la prédiction pour la fenêtre 930: Neither Sparse nor Dense Index : /data/vdb/default/train_sensors/vdb/default_train_sensors_flat_index/metadata. OS reports: No such file or directory No index with this name present on disk\n"
     ]
    },
    {
     "name": "stderr",
     "output_type": "stream",
     "text": [
      "  0%|▏                                                                         | 933/329841 [02:17<13:15:16,  6.89it/s]"
     ]
    },
    {
     "name": "stdout",
     "output_type": "stream",
     "text": [
      "Erreur lors de la prédiction pour la fenêtre 931: Neither Sparse nor Dense Index : /data/vdb/default/train_sensors/vdb/default_train_sensors_flat_index/metadata. OS reports: No such file or directory No index with this name present on disk\n",
      "Erreur lors de la prédiction pour la fenêtre 932: Neither Sparse nor Dense Index : /data/vdb/default/train_sensors/vdb/default_train_sensors_flat_index/metadata. OS reports: No such file or directory No index with this name present on disk\n"
     ]
    },
    {
     "name": "stderr",
     "output_type": "stream",
     "text": [
      "  0%|▏                                                                         | 935/329841 [02:18<13:31:13,  6.76it/s]"
     ]
    },
    {
     "name": "stdout",
     "output_type": "stream",
     "text": [
      "Erreur lors de la prédiction pour la fenêtre 933: Neither Sparse nor Dense Index : /data/vdb/default/train_sensors/vdb/default_train_sensors_flat_index/metadata. OS reports: No such file or directory No index with this name present on disk\n",
      "Erreur lors de la prédiction pour la fenêtre 934: Neither Sparse nor Dense Index : /data/vdb/default/train_sensors/vdb/default_train_sensors_flat_index/metadata. OS reports: No such file or directory No index with this name present on disk\n"
     ]
    },
    {
     "name": "stderr",
     "output_type": "stream",
     "text": [
      "  0%|▏                                                                         | 937/329841 [02:18<14:20:39,  6.37it/s]"
     ]
    },
    {
     "name": "stdout",
     "output_type": "stream",
     "text": [
      "Erreur lors de la prédiction pour la fenêtre 935: Neither Sparse nor Dense Index : /data/vdb/default/train_sensors/vdb/default_train_sensors_flat_index/metadata. OS reports: No such file or directory No index with this name present on disk\n",
      "Erreur lors de la prédiction pour la fenêtre 936: Neither Sparse nor Dense Index : /data/vdb/default/train_sensors/vdb/default_train_sensors_flat_index/metadata. OS reports: No such file or directory No index with this name present on disk\n"
     ]
    },
    {
     "name": "stderr",
     "output_type": "stream",
     "text": [
      "  0%|▏                                                                         | 939/329841 [02:18<13:45:16,  6.64it/s]"
     ]
    },
    {
     "name": "stdout",
     "output_type": "stream",
     "text": [
      "Erreur lors de la prédiction pour la fenêtre 937: Neither Sparse nor Dense Index : /data/vdb/default/train_sensors/vdb/default_train_sensors_flat_index/metadata. OS reports: No such file or directory No index with this name present on disk\n",
      "Erreur lors de la prédiction pour la fenêtre 938: Neither Sparse nor Dense Index : /data/vdb/default/train_sensors/vdb/default_train_sensors_flat_index/metadata. OS reports: No such file or directory No index with this name present on disk\n"
     ]
    },
    {
     "name": "stderr",
     "output_type": "stream",
     "text": [
      "  0%|▏                                                                         | 941/329841 [02:19<13:21:55,  6.84it/s]"
     ]
    },
    {
     "name": "stdout",
     "output_type": "stream",
     "text": [
      "Erreur lors de la prédiction pour la fenêtre 939: Neither Sparse nor Dense Index : /data/vdb/default/train_sensors/vdb/default_train_sensors_flat_index/metadata. OS reports: No such file or directory No index with this name present on disk\n",
      "Erreur lors de la prédiction pour la fenêtre 940: Neither Sparse nor Dense Index : /data/vdb/default/train_sensors/vdb/default_train_sensors_flat_index/metadata. OS reports: No such file or directory No index with this name present on disk\n"
     ]
    },
    {
     "name": "stderr",
     "output_type": "stream",
     "text": [
      "  0%|▏                                                                         | 943/329841 [02:19<13:31:34,  6.75it/s]"
     ]
    },
    {
     "name": "stdout",
     "output_type": "stream",
     "text": [
      "Erreur lors de la prédiction pour la fenêtre 941: Neither Sparse nor Dense Index : /data/vdb/default/train_sensors/vdb/default_train_sensors_flat_index/metadata. OS reports: No such file or directory No index with this name present on disk\n",
      "Erreur lors de la prédiction pour la fenêtre 942: Neither Sparse nor Dense Index : /data/vdb/default/train_sensors/vdb/default_train_sensors_flat_index/metadata. OS reports: No such file or directory No index with this name present on disk\n"
     ]
    },
    {
     "name": "stderr",
     "output_type": "stream",
     "text": [
      "  0%|▏                                                                         | 945/329841 [02:19<13:49:02,  6.61it/s]"
     ]
    },
    {
     "name": "stdout",
     "output_type": "stream",
     "text": [
      "Erreur lors de la prédiction pour la fenêtre 943: Neither Sparse nor Dense Index : /data/vdb/default/train_sensors/vdb/default_train_sensors_flat_index/metadata. OS reports: No such file or directory No index with this name present on disk\n",
      "Erreur lors de la prédiction pour la fenêtre 944: Neither Sparse nor Dense Index : /data/vdb/default/train_sensors/vdb/default_train_sensors_flat_index/metadata. OS reports: No such file or directory No index with this name present on disk\n"
     ]
    },
    {
     "name": "stderr",
     "output_type": "stream",
     "text": [
      "  0%|▏                                                                         | 947/329841 [02:20<13:30:25,  6.76it/s]"
     ]
    },
    {
     "name": "stdout",
     "output_type": "stream",
     "text": [
      "Erreur lors de la prédiction pour la fenêtre 945: Neither Sparse nor Dense Index : /data/vdb/default/train_sensors/vdb/default_train_sensors_flat_index/metadata. OS reports: No such file or directory No index with this name present on disk\n",
      "Erreur lors de la prédiction pour la fenêtre 946: Neither Sparse nor Dense Index : /data/vdb/default/train_sensors/vdb/default_train_sensors_flat_index/metadata. OS reports: No such file or directory No index with this name present on disk\n"
     ]
    },
    {
     "name": "stderr",
     "output_type": "stream",
     "text": [
      "  0%|▏                                                                         | 949/329841 [02:20<13:13:46,  6.91it/s]"
     ]
    },
    {
     "name": "stdout",
     "output_type": "stream",
     "text": [
      "Erreur lors de la prédiction pour la fenêtre 947: Neither Sparse nor Dense Index : /data/vdb/default/train_sensors/vdb/default_train_sensors_flat_index/metadata. OS reports: No such file or directory No index with this name present on disk\n",
      "Erreur lors de la prédiction pour la fenêtre 948: Neither Sparse nor Dense Index : /data/vdb/default/train_sensors/vdb/default_train_sensors_flat_index/metadata. OS reports: No such file or directory No index with this name present on disk\n"
     ]
    },
    {
     "name": "stderr",
     "output_type": "stream",
     "text": [
      "  0%|▏                                                                         | 951/329841 [02:20<13:01:03,  7.02it/s]"
     ]
    },
    {
     "name": "stdout",
     "output_type": "stream",
     "text": [
      "Erreur lors de la prédiction pour la fenêtre 949: Neither Sparse nor Dense Index : /data/vdb/default/train_sensors/vdb/default_train_sensors_flat_index/metadata. OS reports: No such file or directory No index with this name present on disk\n",
      "Erreur lors de la prédiction pour la fenêtre 950: Neither Sparse nor Dense Index : /data/vdb/default/train_sensors/vdb/default_train_sensors_flat_index/metadata. OS reports: No such file or directory No index with this name present on disk\n"
     ]
    },
    {
     "name": "stderr",
     "output_type": "stream",
     "text": [
      "  0%|▏                                                                         | 953/329841 [02:20<13:11:10,  6.93it/s]"
     ]
    },
    {
     "name": "stdout",
     "output_type": "stream",
     "text": [
      "Erreur lors de la prédiction pour la fenêtre 951: Neither Sparse nor Dense Index : /data/vdb/default/train_sensors/vdb/default_train_sensors_flat_index/metadata. OS reports: No such file or directory No index with this name present on disk\n",
      "Erreur lors de la prédiction pour la fenêtre 952: Neither Sparse nor Dense Index : /data/vdb/default/train_sensors/vdb/default_train_sensors_flat_index/metadata. OS reports: No such file or directory No index with this name present on disk\n"
     ]
    },
    {
     "name": "stderr",
     "output_type": "stream",
     "text": [
      "  0%|▏                                                                         | 955/329841 [02:21<13:11:00,  6.93it/s]"
     ]
    },
    {
     "name": "stdout",
     "output_type": "stream",
     "text": [
      "Erreur lors de la prédiction pour la fenêtre 953: Neither Sparse nor Dense Index : /data/vdb/default/train_sensors/vdb/default_train_sensors_flat_index/metadata. OS reports: No such file or directory No index with this name present on disk\n",
      "Erreur lors de la prédiction pour la fenêtre 954: Neither Sparse nor Dense Index : /data/vdb/default/train_sensors/vdb/default_train_sensors_flat_index/metadata. OS reports: No such file or directory No index with this name present on disk\n"
     ]
    },
    {
     "name": "stderr",
     "output_type": "stream",
     "text": [
      "  0%|▏                                                                         | 957/329841 [02:21<13:21:57,  6.84it/s]"
     ]
    },
    {
     "name": "stdout",
     "output_type": "stream",
     "text": [
      "Erreur lors de la prédiction pour la fenêtre 955: Neither Sparse nor Dense Index : /data/vdb/default/train_sensors/vdb/default_train_sensors_flat_index/metadata. OS reports: No such file or directory No index with this name present on disk\n",
      "Erreur lors de la prédiction pour la fenêtre 956: Neither Sparse nor Dense Index : /data/vdb/default/train_sensors/vdb/default_train_sensors_flat_index/metadata. OS reports: No such file or directory No index with this name present on disk\n"
     ]
    },
    {
     "name": "stderr",
     "output_type": "stream",
     "text": [
      "  0%|▏                                                                         | 959/329841 [02:21<13:23:45,  6.82it/s]"
     ]
    },
    {
     "name": "stdout",
     "output_type": "stream",
     "text": [
      "Erreur lors de la prédiction pour la fenêtre 957: Neither Sparse nor Dense Index : /data/vdb/default/train_sensors/vdb/default_train_sensors_flat_index/metadata. OS reports: No such file or directory No index with this name present on disk\n",
      "Erreur lors de la prédiction pour la fenêtre 958: Neither Sparse nor Dense Index : /data/vdb/default/train_sensors/vdb/default_train_sensors_flat_index/metadata. OS reports: No such file or directory No index with this name present on disk\n"
     ]
    },
    {
     "name": "stderr",
     "output_type": "stream",
     "text": [
      "  0%|▏                                                                         | 961/329841 [02:22<13:11:29,  6.93it/s]"
     ]
    },
    {
     "name": "stdout",
     "output_type": "stream",
     "text": [
      "Erreur lors de la prédiction pour la fenêtre 959: Neither Sparse nor Dense Index : /data/vdb/default/train_sensors/vdb/default_train_sensors_flat_index/metadata. OS reports: No such file or directory No index with this name present on disk\n",
      "Erreur lors de la prédiction pour la fenêtre 960: Neither Sparse nor Dense Index : /data/vdb/default/train_sensors/vdb/default_train_sensors_flat_index/metadata. OS reports: No such file or directory No index with this name present on disk\n"
     ]
    },
    {
     "name": "stderr",
     "output_type": "stream",
     "text": [
      "  0%|▏                                                                         | 963/329841 [02:22<13:01:47,  7.01it/s]"
     ]
    },
    {
     "name": "stdout",
     "output_type": "stream",
     "text": [
      "Erreur lors de la prédiction pour la fenêtre 961: Neither Sparse nor Dense Index : /data/vdb/default/train_sensors/vdb/default_train_sensors_flat_index/metadata. OS reports: No such file or directory No index with this name present on disk\n",
      "Erreur lors de la prédiction pour la fenêtre 962: Neither Sparse nor Dense Index : /data/vdb/default/train_sensors/vdb/default_train_sensors_flat_index/metadata. OS reports: No such file or directory No index with this name present on disk\n"
     ]
    },
    {
     "name": "stderr",
     "output_type": "stream",
     "text": [
      "  0%|▏                                                                         | 965/329841 [02:22<12:59:06,  7.04it/s]"
     ]
    },
    {
     "name": "stdout",
     "output_type": "stream",
     "text": [
      "Erreur lors de la prédiction pour la fenêtre 963: Neither Sparse nor Dense Index : /data/vdb/default/train_sensors/vdb/default_train_sensors_flat_index/metadata. OS reports: No such file or directory No index with this name present on disk\n",
      "Erreur lors de la prédiction pour la fenêtre 964: Neither Sparse nor Dense Index : /data/vdb/default/train_sensors/vdb/default_train_sensors_flat_index/metadata. OS reports: No such file or directory No index with this name present on disk\n"
     ]
    },
    {
     "name": "stderr",
     "output_type": "stream",
     "text": [
      "  0%|▏                                                                         | 967/329841 [02:22<12:51:25,  7.11it/s]"
     ]
    },
    {
     "name": "stdout",
     "output_type": "stream",
     "text": [
      "Erreur lors de la prédiction pour la fenêtre 965: Neither Sparse nor Dense Index : /data/vdb/default/train_sensors/vdb/default_train_sensors_flat_index/metadata. OS reports: No such file or directory No index with this name present on disk\n",
      "Erreur lors de la prédiction pour la fenêtre 966: Neither Sparse nor Dense Index : /data/vdb/default/train_sensors/vdb/default_train_sensors_flat_index/metadata. OS reports: No such file or directory No index with this name present on disk\n"
     ]
    },
    {
     "name": "stderr",
     "output_type": "stream",
     "text": [
      "  0%|▏                                                                         | 969/329841 [02:23<12:54:32,  7.08it/s]"
     ]
    },
    {
     "name": "stdout",
     "output_type": "stream",
     "text": [
      "Erreur lors de la prédiction pour la fenêtre 967: Neither Sparse nor Dense Index : /data/vdb/default/train_sensors/vdb/default_train_sensors_flat_index/metadata. OS reports: No such file or directory No index with this name present on disk\n",
      "Erreur lors de la prédiction pour la fenêtre 968: Neither Sparse nor Dense Index : /data/vdb/default/train_sensors/vdb/default_train_sensors_flat_index/metadata. OS reports: No such file or directory No index with this name present on disk\n"
     ]
    },
    {
     "name": "stderr",
     "output_type": "stream",
     "text": [
      "  0%|▏                                                                         | 971/329841 [02:23<12:58:10,  7.04it/s]"
     ]
    },
    {
     "name": "stdout",
     "output_type": "stream",
     "text": [
      "Erreur lors de la prédiction pour la fenêtre 969: Neither Sparse nor Dense Index : /data/vdb/default/train_sensors/vdb/default_train_sensors_flat_index/metadata. OS reports: No such file or directory No index with this name present on disk\n",
      "Erreur lors de la prédiction pour la fenêtre 970: Neither Sparse nor Dense Index : /data/vdb/default/train_sensors/vdb/default_train_sensors_flat_index/metadata. OS reports: No such file or directory No index with this name present on disk\n"
     ]
    },
    {
     "name": "stderr",
     "output_type": "stream",
     "text": [
      "  0%|▏                                                                         | 973/329841 [02:23<12:59:19,  7.03it/s]"
     ]
    },
    {
     "name": "stdout",
     "output_type": "stream",
     "text": [
      "Erreur lors de la prédiction pour la fenêtre 971: Neither Sparse nor Dense Index : /data/vdb/default/train_sensors/vdb/default_train_sensors_flat_index/metadata. OS reports: No such file or directory No index with this name present on disk\n",
      "Erreur lors de la prédiction pour la fenêtre 972: Neither Sparse nor Dense Index : /data/vdb/default/train_sensors/vdb/default_train_sensors_flat_index/metadata. OS reports: No such file or directory No index with this name present on disk\n"
     ]
    },
    {
     "name": "stderr",
     "output_type": "stream",
     "text": [
      "  0%|▏                                                                         | 975/329841 [02:24<13:01:37,  7.01it/s]"
     ]
    },
    {
     "name": "stdout",
     "output_type": "stream",
     "text": [
      "Erreur lors de la prédiction pour la fenêtre 973: Neither Sparse nor Dense Index : /data/vdb/default/train_sensors/vdb/default_train_sensors_flat_index/metadata. OS reports: No such file or directory No index with this name present on disk\n",
      "Erreur lors de la prédiction pour la fenêtre 974: Neither Sparse nor Dense Index : /data/vdb/default/train_sensors/vdb/default_train_sensors_flat_index/metadata. OS reports: No such file or directory No index with this name present on disk\n"
     ]
    },
    {
     "name": "stderr",
     "output_type": "stream",
     "text": [
      "  0%|▏                                                                         | 977/329841 [02:24<13:11:02,  6.93it/s]"
     ]
    },
    {
     "name": "stdout",
     "output_type": "stream",
     "text": [
      "Erreur lors de la prédiction pour la fenêtre 975: Neither Sparse nor Dense Index : /data/vdb/default/train_sensors/vdb/default_train_sensors_flat_index/metadata. OS reports: No such file or directory No index with this name present on disk\n",
      "Erreur lors de la prédiction pour la fenêtre 976: Neither Sparse nor Dense Index : /data/vdb/default/train_sensors/vdb/default_train_sensors_flat_index/metadata. OS reports: No such file or directory No index with this name present on disk\n"
     ]
    },
    {
     "name": "stderr",
     "output_type": "stream",
     "text": [
      "  0%|▏                                                                         | 979/329841 [02:24<13:24:37,  6.81it/s]"
     ]
    },
    {
     "name": "stdout",
     "output_type": "stream",
     "text": [
      "Erreur lors de la prédiction pour la fenêtre 977: Neither Sparse nor Dense Index : /data/vdb/default/train_sensors/vdb/default_train_sensors_flat_index/metadata. OS reports: No such file or directory No index with this name present on disk\n",
      "Erreur lors de la prédiction pour la fenêtre 978: Neither Sparse nor Dense Index : /data/vdb/default/train_sensors/vdb/default_train_sensors_flat_index/metadata. OS reports: No such file or directory No index with this name present on disk\n"
     ]
    },
    {
     "name": "stderr",
     "output_type": "stream",
     "text": [
      "  0%|▏                                                                         | 981/329841 [02:25<13:56:50,  6.55it/s]"
     ]
    },
    {
     "name": "stdout",
     "output_type": "stream",
     "text": [
      "Erreur lors de la prédiction pour la fenêtre 979: Neither Sparse nor Dense Index : /data/vdb/default/train_sensors/vdb/default_train_sensors_flat_index/metadata. OS reports: No such file or directory No index with this name present on disk\n",
      "Erreur lors de la prédiction pour la fenêtre 980: Neither Sparse nor Dense Index : /data/vdb/default/train_sensors/vdb/default_train_sensors_flat_index/metadata. OS reports: No such file or directory No index with this name present on disk\n"
     ]
    },
    {
     "name": "stderr",
     "output_type": "stream",
     "text": [
      "  0%|▏                                                                         | 983/329841 [02:25<13:45:45,  6.64it/s]"
     ]
    },
    {
     "name": "stdout",
     "output_type": "stream",
     "text": [
      "Erreur lors de la prédiction pour la fenêtre 981: Neither Sparse nor Dense Index : /data/vdb/default/train_sensors/vdb/default_train_sensors_flat_index/metadata. OS reports: No such file or directory No index with this name present on disk\n",
      "Erreur lors de la prédiction pour la fenêtre 982: Neither Sparse nor Dense Index : /data/vdb/default/train_sensors/vdb/default_train_sensors_flat_index/metadata. OS reports: No such file or directory No index with this name present on disk\n"
     ]
    },
    {
     "name": "stderr",
     "output_type": "stream",
     "text": [
      "  0%|▏                                                                         | 985/329841 [02:25<13:18:48,  6.86it/s]"
     ]
    },
    {
     "name": "stdout",
     "output_type": "stream",
     "text": [
      "Erreur lors de la prédiction pour la fenêtre 983: Neither Sparse nor Dense Index : /data/vdb/default/train_sensors/vdb/default_train_sensors_flat_index/metadata. OS reports: No such file or directory No index with this name present on disk\n",
      "Erreur lors de la prédiction pour la fenêtre 984: Neither Sparse nor Dense Index : /data/vdb/default/train_sensors/vdb/default_train_sensors_flat_index/metadata. OS reports: No such file or directory No index with this name present on disk\n"
     ]
    },
    {
     "name": "stderr",
     "output_type": "stream",
     "text": [
      "  0%|▏                                                                         | 987/329841 [02:25<13:05:00,  6.98it/s]"
     ]
    },
    {
     "name": "stdout",
     "output_type": "stream",
     "text": [
      "Erreur lors de la prédiction pour la fenêtre 985: Neither Sparse nor Dense Index : /data/vdb/default/train_sensors/vdb/default_train_sensors_flat_index/metadata. OS reports: No such file or directory No index with this name present on disk\n",
      "Erreur lors de la prédiction pour la fenêtre 986: Neither Sparse nor Dense Index : /data/vdb/default/train_sensors/vdb/default_train_sensors_flat_index/metadata. OS reports: No such file or directory No index with this name present on disk\n"
     ]
    },
    {
     "name": "stderr",
     "output_type": "stream",
     "text": [
      "  0%|▏                                                                         | 989/329841 [02:26<13:07:33,  6.96it/s]"
     ]
    },
    {
     "name": "stdout",
     "output_type": "stream",
     "text": [
      "Erreur lors de la prédiction pour la fenêtre 987: Neither Sparse nor Dense Index : /data/vdb/default/train_sensors/vdb/default_train_sensors_flat_index/metadata. OS reports: No such file or directory No index with this name present on disk\n",
      "Erreur lors de la prédiction pour la fenêtre 988: Neither Sparse nor Dense Index : /data/vdb/default/train_sensors/vdb/default_train_sensors_flat_index/metadata. OS reports: No such file or directory No index with this name present on disk\n"
     ]
    },
    {
     "name": "stderr",
     "output_type": "stream",
     "text": [
      "  0%|▏                                                                         | 991/329841 [02:26<13:30:41,  6.76it/s]"
     ]
    },
    {
     "name": "stdout",
     "output_type": "stream",
     "text": [
      "Erreur lors de la prédiction pour la fenêtre 989: Neither Sparse nor Dense Index : /data/vdb/default/train_sensors/vdb/default_train_sensors_flat_index/metadata. OS reports: No such file or directory No index with this name present on disk\n",
      "Erreur lors de la prédiction pour la fenêtre 990: Neither Sparse nor Dense Index : /data/vdb/default/train_sensors/vdb/default_train_sensors_flat_index/metadata. OS reports: No such file or directory No index with this name present on disk\n"
     ]
    },
    {
     "name": "stderr",
     "output_type": "stream",
     "text": [
      "  0%|▏                                                                         | 993/329841 [02:26<13:34:50,  6.73it/s]"
     ]
    },
    {
     "name": "stdout",
     "output_type": "stream",
     "text": [
      "Erreur lors de la prédiction pour la fenêtre 991: Neither Sparse nor Dense Index : /data/vdb/default/train_sensors/vdb/default_train_sensors_flat_index/metadata. OS reports: No such file or directory No index with this name present on disk\n",
      "Erreur lors de la prédiction pour la fenêtre 992: Neither Sparse nor Dense Index : /data/vdb/default/train_sensors/vdb/default_train_sensors_flat_index/metadata. OS reports: No such file or directory No index with this name present on disk\n"
     ]
    },
    {
     "name": "stderr",
     "output_type": "stream",
     "text": [
      "  0%|▏                                                                         | 995/329841 [02:27<13:40:05,  6.68it/s]"
     ]
    },
    {
     "name": "stdout",
     "output_type": "stream",
     "text": [
      "Erreur lors de la prédiction pour la fenêtre 993: Neither Sparse nor Dense Index : /data/vdb/default/train_sensors/vdb/default_train_sensors_flat_index/metadata. OS reports: No such file or directory No index with this name present on disk\n",
      "Erreur lors de la prédiction pour la fenêtre 994: Neither Sparse nor Dense Index : /data/vdb/default/train_sensors/vdb/default_train_sensors_flat_index/metadata. OS reports: No such file or directory No index with this name present on disk\n"
     ]
    },
    {
     "name": "stderr",
     "output_type": "stream",
     "text": [
      "  0%|▏                                                                         | 997/329841 [02:27<13:30:44,  6.76it/s]"
     ]
    },
    {
     "name": "stdout",
     "output_type": "stream",
     "text": [
      "Erreur lors de la prédiction pour la fenêtre 995: Neither Sparse nor Dense Index : /data/vdb/default/train_sensors/vdb/default_train_sensors_flat_index/metadata. OS reports: No such file or directory No index with this name present on disk\n",
      "Erreur lors de la prédiction pour la fenêtre 996: Neither Sparse nor Dense Index : /data/vdb/default/train_sensors/vdb/default_train_sensors_flat_index/metadata. OS reports: No such file or directory No index with this name present on disk\n"
     ]
    },
    {
     "name": "stderr",
     "output_type": "stream",
     "text": [
      "  0%|▏                                                                         | 999/329841 [02:27<13:19:45,  6.85it/s]"
     ]
    },
    {
     "name": "stdout",
     "output_type": "stream",
     "text": [
      "Erreur lors de la prédiction pour la fenêtre 997: Neither Sparse nor Dense Index : /data/vdb/default/train_sensors/vdb/default_train_sensors_flat_index/metadata. OS reports: No such file or directory No index with this name present on disk\n",
      "Erreur lors de la prédiction pour la fenêtre 998: Neither Sparse nor Dense Index : /data/vdb/default/train_sensors/vdb/default_train_sensors_flat_index/metadata. OS reports: No such file or directory No index with this name present on disk\n"
     ]
    },
    {
     "name": "stderr",
     "output_type": "stream",
     "text": [
      "  0%|▏                                                                        | 1001/329841 [02:27<13:10:16,  6.94it/s]"
     ]
    },
    {
     "name": "stdout",
     "output_type": "stream",
     "text": [
      "Erreur lors de la prédiction pour la fenêtre 999: Neither Sparse nor Dense Index : /data/vdb/default/train_sensors/vdb/default_train_sensors_flat_index/metadata. OS reports: No such file or directory No index with this name present on disk\n",
      "Erreur lors de la prédiction pour la fenêtre 1000: Neither Sparse nor Dense Index : /data/vdb/default/train_sensors/vdb/default_train_sensors_flat_index/metadata. OS reports: No such file or directory No index with this name present on disk\n"
     ]
    },
    {
     "name": "stderr",
     "output_type": "stream",
     "text": [
      "  0%|▏                                                                        | 1003/329841 [02:28<13:10:54,  6.93it/s]"
     ]
    },
    {
     "name": "stdout",
     "output_type": "stream",
     "text": [
      "Erreur lors de la prédiction pour la fenêtre 1001: Neither Sparse nor Dense Index : /data/vdb/default/train_sensors/vdb/default_train_sensors_flat_index/metadata. OS reports: No such file or directory No index with this name present on disk\n",
      "Erreur lors de la prédiction pour la fenêtre 1002: Neither Sparse nor Dense Index : /data/vdb/default/train_sensors/vdb/default_train_sensors_flat_index/metadata. OS reports: No such file or directory No index with this name present on disk\n"
     ]
    },
    {
     "name": "stderr",
     "output_type": "stream",
     "text": [
      "  0%|▏                                                                        | 1005/329841 [02:28<13:10:15,  6.94it/s]"
     ]
    },
    {
     "name": "stdout",
     "output_type": "stream",
     "text": [
      "Erreur lors de la prédiction pour la fenêtre 1003: Neither Sparse nor Dense Index : /data/vdb/default/train_sensors/vdb/default_train_sensors_flat_index/metadata. OS reports: No such file or directory No index with this name present on disk\n",
      "Erreur lors de la prédiction pour la fenêtre 1004: Neither Sparse nor Dense Index : /data/vdb/default/train_sensors/vdb/default_train_sensors_flat_index/metadata. OS reports: No such file or directory No index with this name present on disk\n"
     ]
    },
    {
     "name": "stderr",
     "output_type": "stream",
     "text": [
      "  0%|▏                                                                        | 1007/329841 [02:28<13:04:16,  6.99it/s]"
     ]
    },
    {
     "name": "stdout",
     "output_type": "stream",
     "text": [
      "Erreur lors de la prédiction pour la fenêtre 1005: Neither Sparse nor Dense Index : /data/vdb/default/train_sensors/vdb/default_train_sensors_flat_index/metadata. OS reports: No such file or directory No index with this name present on disk\n",
      "Erreur lors de la prédiction pour la fenêtre 1006: Neither Sparse nor Dense Index : /data/vdb/default/train_sensors/vdb/default_train_sensors_flat_index/metadata. OS reports: No such file or directory No index with this name present on disk\n"
     ]
    },
    {
     "name": "stderr",
     "output_type": "stream",
     "text": [
      "  0%|▏                                                                        | 1009/329841 [02:29<13:05:52,  6.97it/s]"
     ]
    },
    {
     "name": "stdout",
     "output_type": "stream",
     "text": [
      "Erreur lors de la prédiction pour la fenêtre 1007: Neither Sparse nor Dense Index : /data/vdb/default/train_sensors/vdb/default_train_sensors_flat_index/metadata. OS reports: No such file or directory No index with this name present on disk\n",
      "Erreur lors de la prédiction pour la fenêtre 1008: Neither Sparse nor Dense Index : /data/vdb/default/train_sensors/vdb/default_train_sensors_flat_index/metadata. OS reports: No such file or directory No index with this name present on disk\n"
     ]
    },
    {
     "name": "stderr",
     "output_type": "stream",
     "text": [
      "  0%|▏                                                                        | 1011/329841 [02:29<13:17:50,  6.87it/s]"
     ]
    },
    {
     "name": "stdout",
     "output_type": "stream",
     "text": [
      "Erreur lors de la prédiction pour la fenêtre 1009: Neither Sparse nor Dense Index : /data/vdb/default/train_sensors/vdb/default_train_sensors_flat_index/metadata. OS reports: No such file or directory No index with this name present on disk\n",
      "Erreur lors de la prédiction pour la fenêtre 1010: Neither Sparse nor Dense Index : /data/vdb/default/train_sensors/vdb/default_train_sensors_flat_index/metadata. OS reports: No such file or directory No index with this name present on disk\n"
     ]
    },
    {
     "name": "stderr",
     "output_type": "stream",
     "text": [
      "  0%|▏                                                                        | 1013/329841 [02:29<13:41:37,  6.67it/s]"
     ]
    },
    {
     "name": "stdout",
     "output_type": "stream",
     "text": [
      "Erreur lors de la prédiction pour la fenêtre 1011: Neither Sparse nor Dense Index : /data/vdb/default/train_sensors/vdb/default_train_sensors_flat_index/metadata. OS reports: No such file or directory No index with this name present on disk\n",
      "Erreur lors de la prédiction pour la fenêtre 1012: Neither Sparse nor Dense Index : /data/vdb/default/train_sensors/vdb/default_train_sensors_flat_index/metadata. OS reports: No such file or directory No index with this name present on disk\n"
     ]
    },
    {
     "name": "stderr",
     "output_type": "stream",
     "text": [
      "  0%|▏                                                                        | 1015/329841 [02:29<13:28:36,  6.78it/s]"
     ]
    },
    {
     "name": "stdout",
     "output_type": "stream",
     "text": [
      "Erreur lors de la prédiction pour la fenêtre 1013: Neither Sparse nor Dense Index : /data/vdb/default/train_sensors/vdb/default_train_sensors_flat_index/metadata. OS reports: No such file or directory No index with this name present on disk\n",
      "Erreur lors de la prédiction pour la fenêtre 1014: Neither Sparse nor Dense Index : /data/vdb/default/train_sensors/vdb/default_train_sensors_flat_index/metadata. OS reports: No such file or directory No index with this name present on disk\n"
     ]
    },
    {
     "name": "stderr",
     "output_type": "stream",
     "text": [
      "  0%|▏                                                                        | 1017/329841 [02:30<13:14:50,  6.89it/s]"
     ]
    },
    {
     "name": "stdout",
     "output_type": "stream",
     "text": [
      "Erreur lors de la prédiction pour la fenêtre 1015: Neither Sparse nor Dense Index : /data/vdb/default/train_sensors/vdb/default_train_sensors_flat_index/metadata. OS reports: No such file or directory No index with this name present on disk\n",
      "Erreur lors de la prédiction pour la fenêtre 1016: Neither Sparse nor Dense Index : /data/vdb/default/train_sensors/vdb/default_train_sensors_flat_index/metadata. OS reports: No such file or directory No index with this name present on disk\n"
     ]
    },
    {
     "name": "stderr",
     "output_type": "stream",
     "text": [
      "  0%|▏                                                                        | 1019/329841 [02:30<13:24:19,  6.81it/s]"
     ]
    },
    {
     "name": "stdout",
     "output_type": "stream",
     "text": [
      "Erreur lors de la prédiction pour la fenêtre 1017: Neither Sparse nor Dense Index : /data/vdb/default/train_sensors/vdb/default_train_sensors_flat_index/metadata. OS reports: No such file or directory No index with this name present on disk\n",
      "Erreur lors de la prédiction pour la fenêtre 1018: Neither Sparse nor Dense Index : /data/vdb/default/train_sensors/vdb/default_train_sensors_flat_index/metadata. OS reports: No such file or directory No index with this name present on disk\n"
     ]
    },
    {
     "name": "stderr",
     "output_type": "stream",
     "text": [
      "  0%|▏                                                                        | 1021/329841 [02:30<13:18:41,  6.86it/s]"
     ]
    },
    {
     "name": "stdout",
     "output_type": "stream",
     "text": [
      "Erreur lors de la prédiction pour la fenêtre 1019: Neither Sparse nor Dense Index : /data/vdb/default/train_sensors/vdb/default_train_sensors_flat_index/metadata. OS reports: No such file or directory No index with this name present on disk\n",
      "Erreur lors de la prédiction pour la fenêtre 1020: Neither Sparse nor Dense Index : /data/vdb/default/train_sensors/vdb/default_train_sensors_flat_index/metadata. OS reports: No such file or directory No index with this name present on disk\n"
     ]
    },
    {
     "name": "stderr",
     "output_type": "stream",
     "text": [
      "  0%|▏                                                                        | 1023/329841 [02:31<13:27:20,  6.79it/s]"
     ]
    },
    {
     "name": "stdout",
     "output_type": "stream",
     "text": [
      "Erreur lors de la prédiction pour la fenêtre 1021: Neither Sparse nor Dense Index : /data/vdb/default/train_sensors/vdb/default_train_sensors_flat_index/metadata. OS reports: No such file or directory No index with this name present on disk\n",
      "Erreur lors de la prédiction pour la fenêtre 1022: Neither Sparse nor Dense Index : /data/vdb/default/train_sensors/vdb/default_train_sensors_flat_index/metadata. OS reports: No such file or directory No index with this name present on disk\n"
     ]
    },
    {
     "name": "stderr",
     "output_type": "stream",
     "text": [
      "  0%|▏                                                                        | 1025/329841 [02:31<13:21:55,  6.83it/s]"
     ]
    },
    {
     "name": "stdout",
     "output_type": "stream",
     "text": [
      "Erreur lors de la prédiction pour la fenêtre 1023: Neither Sparse nor Dense Index : /data/vdb/default/train_sensors/vdb/default_train_sensors_flat_index/metadata. OS reports: No such file or directory No index with this name present on disk\n",
      "Erreur lors de la prédiction pour la fenêtre 1024: Neither Sparse nor Dense Index : /data/vdb/default/train_sensors/vdb/default_train_sensors_flat_index/metadata. OS reports: No such file or directory No index with this name present on disk\n"
     ]
    },
    {
     "name": "stderr",
     "output_type": "stream",
     "text": [
      "  0%|▏                                                                        | 1027/329841 [02:31<13:18:53,  6.86it/s]"
     ]
    },
    {
     "name": "stdout",
     "output_type": "stream",
     "text": [
      "Erreur lors de la prédiction pour la fenêtre 1025: Neither Sparse nor Dense Index : /data/vdb/default/train_sensors/vdb/default_train_sensors_flat_index/metadata. OS reports: No such file or directory No index with this name present on disk\n",
      "Erreur lors de la prédiction pour la fenêtre 1026: Neither Sparse nor Dense Index : /data/vdb/default/train_sensors/vdb/default_train_sensors_flat_index/metadata. OS reports: No such file or directory No index with this name present on disk\n"
     ]
    },
    {
     "name": "stderr",
     "output_type": "stream",
     "text": [
      "  0%|▏                                                                        | 1029/329841 [02:32<13:17:36,  6.87it/s]"
     ]
    },
    {
     "name": "stdout",
     "output_type": "stream",
     "text": [
      "Erreur lors de la prédiction pour la fenêtre 1027: Neither Sparse nor Dense Index : /data/vdb/default/train_sensors/vdb/default_train_sensors_flat_index/metadata. OS reports: No such file or directory No index with this name present on disk\n",
      "Erreur lors de la prédiction pour la fenêtre 1028: Neither Sparse nor Dense Index : /data/vdb/default/train_sensors/vdb/default_train_sensors_flat_index/metadata. OS reports: No such file or directory No index with this name present on disk\n"
     ]
    },
    {
     "name": "stderr",
     "output_type": "stream",
     "text": [
      "  0%|▏                                                                        | 1031/329841 [02:32<13:08:04,  6.95it/s]"
     ]
    },
    {
     "name": "stdout",
     "output_type": "stream",
     "text": [
      "Erreur lors de la prédiction pour la fenêtre 1029: Neither Sparse nor Dense Index : /data/vdb/default/train_sensors/vdb/default_train_sensors_flat_index/metadata. OS reports: No such file or directory No index with this name present on disk\n",
      "Erreur lors de la prédiction pour la fenêtre 1030: Neither Sparse nor Dense Index : /data/vdb/default/train_sensors/vdb/default_train_sensors_flat_index/metadata. OS reports: No such file or directory No index with this name present on disk\n"
     ]
    },
    {
     "name": "stderr",
     "output_type": "stream",
     "text": [
      "  0%|▏                                                                        | 1033/329841 [02:32<13:04:58,  6.98it/s]"
     ]
    },
    {
     "name": "stdout",
     "output_type": "stream",
     "text": [
      "Erreur lors de la prédiction pour la fenêtre 1031: Neither Sparse nor Dense Index : /data/vdb/default/train_sensors/vdb/default_train_sensors_flat_index/metadata. OS reports: No such file or directory No index with this name present on disk\n",
      "Erreur lors de la prédiction pour la fenêtre 1032: Neither Sparse nor Dense Index : /data/vdb/default/train_sensors/vdb/default_train_sensors_flat_index/metadata. OS reports: No such file or directory No index with this name present on disk\n"
     ]
    },
    {
     "name": "stderr",
     "output_type": "stream",
     "text": [
      "  0%|▏                                                                        | 1035/329841 [02:32<12:59:31,  7.03it/s]"
     ]
    },
    {
     "name": "stdout",
     "output_type": "stream",
     "text": [
      "Erreur lors de la prédiction pour la fenêtre 1033: Neither Sparse nor Dense Index : /data/vdb/default/train_sensors/vdb/default_train_sensors_flat_index/metadata. OS reports: No such file or directory No index with this name present on disk\n",
      "Erreur lors de la prédiction pour la fenêtre 1034: Neither Sparse nor Dense Index : /data/vdb/default/train_sensors/vdb/default_train_sensors_flat_index/metadata. OS reports: No such file or directory No index with this name present on disk\n"
     ]
    },
    {
     "name": "stderr",
     "output_type": "stream",
     "text": [
      "  0%|▏                                                                        | 1037/329841 [02:33<13:02:53,  7.00it/s]"
     ]
    },
    {
     "name": "stdout",
     "output_type": "stream",
     "text": [
      "Erreur lors de la prédiction pour la fenêtre 1035: Neither Sparse nor Dense Index : /data/vdb/default/train_sensors/vdb/default_train_sensors_flat_index/metadata. OS reports: No such file or directory No index with this name present on disk\n",
      "Erreur lors de la prédiction pour la fenêtre 1036: Neither Sparse nor Dense Index : /data/vdb/default/train_sensors/vdb/default_train_sensors_flat_index/metadata. OS reports: No such file or directory No index with this name present on disk\n"
     ]
    },
    {
     "name": "stderr",
     "output_type": "stream",
     "text": [
      "  0%|▏                                                                        | 1039/329841 [02:33<13:13:11,  6.91it/s]"
     ]
    },
    {
     "name": "stdout",
     "output_type": "stream",
     "text": [
      "Erreur lors de la prédiction pour la fenêtre 1037: Neither Sparse nor Dense Index : /data/vdb/default/train_sensors/vdb/default_train_sensors_flat_index/metadata. OS reports: No such file or directory No index with this name present on disk\n",
      "Erreur lors de la prédiction pour la fenêtre 1038: Neither Sparse nor Dense Index : /data/vdb/default/train_sensors/vdb/default_train_sensors_flat_index/metadata. OS reports: No such file or directory No index with this name present on disk\n"
     ]
    },
    {
     "name": "stderr",
     "output_type": "stream",
     "text": [
      "  0%|▏                                                                        | 1041/329841 [02:33<13:25:12,  6.81it/s]"
     ]
    },
    {
     "name": "stdout",
     "output_type": "stream",
     "text": [
      "Erreur lors de la prédiction pour la fenêtre 1039: Neither Sparse nor Dense Index : /data/vdb/default/train_sensors/vdb/default_train_sensors_flat_index/metadata. OS reports: No such file or directory No index with this name present on disk\n",
      "Erreur lors de la prédiction pour la fenêtre 1040: Neither Sparse nor Dense Index : /data/vdb/default/train_sensors/vdb/default_train_sensors_flat_index/metadata. OS reports: No such file or directory No index with this name present on disk\n"
     ]
    },
    {
     "name": "stderr",
     "output_type": "stream",
     "text": [
      "  0%|▏                                                                        | 1043/329841 [02:34<13:15:13,  6.89it/s]"
     ]
    },
    {
     "name": "stdout",
     "output_type": "stream",
     "text": [
      "Erreur lors de la prédiction pour la fenêtre 1041: Neither Sparse nor Dense Index : /data/vdb/default/train_sensors/vdb/default_train_sensors_flat_index/metadata. OS reports: No such file or directory No index with this name present on disk\n",
      "Erreur lors de la prédiction pour la fenêtre 1042: Neither Sparse nor Dense Index : /data/vdb/default/train_sensors/vdb/default_train_sensors_flat_index/metadata. OS reports: No such file or directory No index with this name present on disk\n"
     ]
    },
    {
     "name": "stderr",
     "output_type": "stream",
     "text": [
      "  0%|▏                                                                        | 1045/329841 [02:34<13:44:59,  6.64it/s]"
     ]
    },
    {
     "name": "stdout",
     "output_type": "stream",
     "text": [
      "Erreur lors de la prédiction pour la fenêtre 1043: Neither Sparse nor Dense Index : /data/vdb/default/train_sensors/vdb/default_train_sensors_flat_index/metadata. OS reports: No such file or directory No index with this name present on disk\n",
      "Erreur lors de la prédiction pour la fenêtre 1044: Neither Sparse nor Dense Index : /data/vdb/default/train_sensors/vdb/default_train_sensors_flat_index/metadata. OS reports: No such file or directory No index with this name present on disk\n"
     ]
    },
    {
     "name": "stderr",
     "output_type": "stream",
     "text": [
      "  0%|▏                                                                        | 1047/329841 [02:34<13:17:33,  6.87it/s]"
     ]
    },
    {
     "name": "stdout",
     "output_type": "stream",
     "text": [
      "Erreur lors de la prédiction pour la fenêtre 1045: Neither Sparse nor Dense Index : /data/vdb/default/train_sensors/vdb/default_train_sensors_flat_index/metadata. OS reports: No such file or directory No index with this name present on disk\n",
      "Erreur lors de la prédiction pour la fenêtre 1046: Neither Sparse nor Dense Index : /data/vdb/default/train_sensors/vdb/default_train_sensors_flat_index/metadata. OS reports: No such file or directory No index with this name present on disk\n"
     ]
    },
    {
     "name": "stderr",
     "output_type": "stream",
     "text": [
      "  0%|▏                                                                        | 1049/329841 [02:34<13:10:46,  6.93it/s]"
     ]
    },
    {
     "name": "stdout",
     "output_type": "stream",
     "text": [
      "Erreur lors de la prédiction pour la fenêtre 1047: Neither Sparse nor Dense Index : /data/vdb/default/train_sensors/vdb/default_train_sensors_flat_index/metadata. OS reports: No such file or directory No index with this name present on disk\n",
      "Erreur lors de la prédiction pour la fenêtre 1048: Neither Sparse nor Dense Index : /data/vdb/default/train_sensors/vdb/default_train_sensors_flat_index/metadata. OS reports: No such file or directory No index with this name present on disk\n"
     ]
    },
    {
     "name": "stderr",
     "output_type": "stream",
     "text": [
      "  0%|▏                                                                        | 1051/329841 [02:35<13:25:42,  6.80it/s]"
     ]
    },
    {
     "name": "stdout",
     "output_type": "stream",
     "text": [
      "Erreur lors de la prédiction pour la fenêtre 1049: Neither Sparse nor Dense Index : /data/vdb/default/train_sensors/vdb/default_train_sensors_flat_index/metadata. OS reports: No such file or directory No index with this name present on disk\n",
      "Erreur lors de la prédiction pour la fenêtre 1050: Neither Sparse nor Dense Index : /data/vdb/default/train_sensors/vdb/default_train_sensors_flat_index/metadata. OS reports: No such file or directory No index with this name present on disk\n"
     ]
    },
    {
     "name": "stderr",
     "output_type": "stream",
     "text": [
      "  0%|▏                                                                        | 1053/329841 [02:35<13:51:25,  6.59it/s]"
     ]
    },
    {
     "name": "stdout",
     "output_type": "stream",
     "text": [
      "Erreur lors de la prédiction pour la fenêtre 1051: Neither Sparse nor Dense Index : /data/vdb/default/train_sensors/vdb/default_train_sensors_flat_index/metadata. OS reports: No such file or directory No index with this name present on disk\n",
      "Erreur lors de la prédiction pour la fenêtre 1052: Neither Sparse nor Dense Index : /data/vdb/default/train_sensors/vdb/default_train_sensors_flat_index/metadata. OS reports: No such file or directory No index with this name present on disk\n"
     ]
    },
    {
     "name": "stderr",
     "output_type": "stream",
     "text": [
      "  0%|▏                                                                        | 1055/329841 [02:35<13:39:53,  6.68it/s]"
     ]
    },
    {
     "name": "stdout",
     "output_type": "stream",
     "text": [
      "Erreur lors de la prédiction pour la fenêtre 1053: Neither Sparse nor Dense Index : /data/vdb/default/train_sensors/vdb/default_train_sensors_flat_index/metadata. OS reports: No such file or directory No index with this name present on disk\n",
      "Erreur lors de la prédiction pour la fenêtre 1054: Neither Sparse nor Dense Index : /data/vdb/default/train_sensors/vdb/default_train_sensors_flat_index/metadata. OS reports: No such file or directory No index with this name present on disk\n"
     ]
    },
    {
     "name": "stderr",
     "output_type": "stream",
     "text": [
      "  0%|▏                                                                        | 1057/329841 [02:36<13:42:21,  6.66it/s]"
     ]
    },
    {
     "name": "stdout",
     "output_type": "stream",
     "text": [
      "Erreur lors de la prédiction pour la fenêtre 1055: Neither Sparse nor Dense Index : /data/vdb/default/train_sensors/vdb/default_train_sensors_flat_index/metadata. OS reports: No such file or directory No index with this name present on disk\n",
      "Erreur lors de la prédiction pour la fenêtre 1056: Neither Sparse nor Dense Index : /data/vdb/default/train_sensors/vdb/default_train_sensors_flat_index/metadata. OS reports: No such file or directory No index with this name present on disk\n"
     ]
    },
    {
     "name": "stderr",
     "output_type": "stream",
     "text": [
      "  0%|▏                                                                        | 1059/329841 [02:36<13:32:11,  6.75it/s]"
     ]
    },
    {
     "name": "stdout",
     "output_type": "stream",
     "text": [
      "Erreur lors de la prédiction pour la fenêtre 1057: Neither Sparse nor Dense Index : /data/vdb/default/train_sensors/vdb/default_train_sensors_flat_index/metadata. OS reports: No such file or directory No index with this name present on disk\n",
      "Erreur lors de la prédiction pour la fenêtre 1058: Neither Sparse nor Dense Index : /data/vdb/default/train_sensors/vdb/default_train_sensors_flat_index/metadata. OS reports: No such file or directory No index with this name present on disk\n"
     ]
    },
    {
     "name": "stderr",
     "output_type": "stream",
     "text": [
      "  0%|▏                                                                        | 1061/329841 [02:36<14:00:30,  6.52it/s]"
     ]
    },
    {
     "name": "stdout",
     "output_type": "stream",
     "text": [
      "Erreur lors de la prédiction pour la fenêtre 1059: Neither Sparse nor Dense Index : /data/vdb/default/train_sensors/vdb/default_train_sensors_flat_index/metadata. OS reports: No such file or directory No index with this name present on disk\n",
      "Erreur lors de la prédiction pour la fenêtre 1060: Neither Sparse nor Dense Index : /data/vdb/default/train_sensors/vdb/default_train_sensors_flat_index/metadata. OS reports: No such file or directory No index with this name present on disk\n"
     ]
    },
    {
     "name": "stderr",
     "output_type": "stream",
     "text": [
      "  0%|▏                                                                        | 1063/329841 [02:37<13:50:49,  6.60it/s]"
     ]
    },
    {
     "name": "stdout",
     "output_type": "stream",
     "text": [
      "Erreur lors de la prédiction pour la fenêtre 1061: Neither Sparse nor Dense Index : /data/vdb/default/train_sensors/vdb/default_train_sensors_flat_index/metadata. OS reports: No such file or directory No index with this name present on disk\n",
      "Erreur lors de la prédiction pour la fenêtre 1062: Neither Sparse nor Dense Index : /data/vdb/default/train_sensors/vdb/default_train_sensors_flat_index/metadata. OS reports: No such file or directory No index with this name present on disk\n"
     ]
    },
    {
     "name": "stderr",
     "output_type": "stream",
     "text": [
      "  0%|▏                                                                        | 1065/329841 [02:37<14:00:23,  6.52it/s]"
     ]
    },
    {
     "name": "stdout",
     "output_type": "stream",
     "text": [
      "Erreur lors de la prédiction pour la fenêtre 1063: Neither Sparse nor Dense Index : /data/vdb/default/train_sensors/vdb/default_train_sensors_flat_index/metadata. OS reports: No such file or directory No index with this name present on disk\n",
      "Erreur lors de la prédiction pour la fenêtre 1064: Neither Sparse nor Dense Index : /data/vdb/default/train_sensors/vdb/default_train_sensors_flat_index/metadata. OS reports: No such file or directory No index with this name present on disk\n"
     ]
    },
    {
     "name": "stderr",
     "output_type": "stream",
     "text": [
      "  0%|▏                                                                        | 1067/329841 [02:37<13:38:12,  6.70it/s]"
     ]
    },
    {
     "name": "stdout",
     "output_type": "stream",
     "text": [
      "Erreur lors de la prédiction pour la fenêtre 1065: Neither Sparse nor Dense Index : /data/vdb/default/train_sensors/vdb/default_train_sensors_flat_index/metadata. OS reports: No such file or directory No index with this name present on disk\n",
      "Erreur lors de la prédiction pour la fenêtre 1066: Neither Sparse nor Dense Index : /data/vdb/default/train_sensors/vdb/default_train_sensors_flat_index/metadata. OS reports: No such file or directory No index with this name present on disk\n"
     ]
    },
    {
     "name": "stderr",
     "output_type": "stream",
     "text": [
      "  0%|▏                                                                        | 1069/329841 [02:37<13:10:13,  6.93it/s]"
     ]
    },
    {
     "name": "stdout",
     "output_type": "stream",
     "text": [
      "Erreur lors de la prédiction pour la fenêtre 1067: Neither Sparse nor Dense Index : /data/vdb/default/train_sensors/vdb/default_train_sensors_flat_index/metadata. OS reports: No such file or directory No index with this name present on disk\n",
      "Erreur lors de la prédiction pour la fenêtre 1068: Neither Sparse nor Dense Index : /data/vdb/default/train_sensors/vdb/default_train_sensors_flat_index/metadata. OS reports: No such file or directory No index with this name present on disk\n"
     ]
    },
    {
     "name": "stderr",
     "output_type": "stream",
     "text": [
      "  0%|▏                                                                        | 1071/329841 [02:38<13:22:45,  6.83it/s]"
     ]
    },
    {
     "name": "stdout",
     "output_type": "stream",
     "text": [
      "Erreur lors de la prédiction pour la fenêtre 1069: Neither Sparse nor Dense Index : /data/vdb/default/train_sensors/vdb/default_train_sensors_flat_index/metadata. OS reports: No such file or directory No index with this name present on disk\n",
      "Erreur lors de la prédiction pour la fenêtre 1070: Neither Sparse nor Dense Index : /data/vdb/default/train_sensors/vdb/default_train_sensors_flat_index/metadata. OS reports: No such file or directory No index with this name present on disk\n"
     ]
    },
    {
     "name": "stderr",
     "output_type": "stream",
     "text": [
      "  0%|▏                                                                        | 1073/329841 [02:38<13:25:02,  6.81it/s]"
     ]
    },
    {
     "name": "stdout",
     "output_type": "stream",
     "text": [
      "Erreur lors de la prédiction pour la fenêtre 1071: Neither Sparse nor Dense Index : /data/vdb/default/train_sensors/vdb/default_train_sensors_flat_index/metadata. OS reports: No such file or directory No index with this name present on disk\n",
      "Erreur lors de la prédiction pour la fenêtre 1072: Neither Sparse nor Dense Index : /data/vdb/default/train_sensors/vdb/default_train_sensors_flat_index/metadata. OS reports: No such file or directory No index with this name present on disk\n"
     ]
    },
    {
     "name": "stderr",
     "output_type": "stream",
     "text": [
      "  0%|▏                                                                        | 1075/329841 [02:38<13:18:00,  6.87it/s]"
     ]
    },
    {
     "name": "stdout",
     "output_type": "stream",
     "text": [
      "Erreur lors de la prédiction pour la fenêtre 1073: Neither Sparse nor Dense Index : /data/vdb/default/train_sensors/vdb/default_train_sensors_flat_index/metadata. OS reports: No such file or directory No index with this name present on disk\n",
      "Erreur lors de la prédiction pour la fenêtre 1074: Neither Sparse nor Dense Index : /data/vdb/default/train_sensors/vdb/default_train_sensors_flat_index/metadata. OS reports: No such file or directory No index with this name present on disk\n"
     ]
    },
    {
     "name": "stderr",
     "output_type": "stream",
     "text": [
      "  0%|▏                                                                        | 1077/329841 [02:39<13:30:31,  6.76it/s]"
     ]
    },
    {
     "name": "stdout",
     "output_type": "stream",
     "text": [
      "Erreur lors de la prédiction pour la fenêtre 1075: Neither Sparse nor Dense Index : /data/vdb/default/train_sensors/vdb/default_train_sensors_flat_index/metadata. OS reports: No such file or directory No index with this name present on disk\n",
      "Erreur lors de la prédiction pour la fenêtre 1076: Neither Sparse nor Dense Index : /data/vdb/default/train_sensors/vdb/default_train_sensors_flat_index/metadata. OS reports: No such file or directory No index with this name present on disk\n"
     ]
    },
    {
     "name": "stderr",
     "output_type": "stream",
     "text": [
      "  0%|▏                                                                        | 1079/329841 [02:39<13:50:10,  6.60it/s]"
     ]
    },
    {
     "name": "stdout",
     "output_type": "stream",
     "text": [
      "Erreur lors de la prédiction pour la fenêtre 1077: Neither Sparse nor Dense Index : /data/vdb/default/train_sensors/vdb/default_train_sensors_flat_index/metadata. OS reports: No such file or directory No index with this name present on disk\n",
      "Erreur lors de la prédiction pour la fenêtre 1078: Neither Sparse nor Dense Index : /data/vdb/default/train_sensors/vdb/default_train_sensors_flat_index/metadata. OS reports: No such file or directory No index with this name present on disk\n"
     ]
    },
    {
     "name": "stderr",
     "output_type": "stream",
     "text": [
      "  0%|▏                                                                        | 1081/329841 [02:39<13:45:03,  6.64it/s]"
     ]
    },
    {
     "name": "stdout",
     "output_type": "stream",
     "text": [
      "Erreur lors de la prédiction pour la fenêtre 1079: Neither Sparse nor Dense Index : /data/vdb/default/train_sensors/vdb/default_train_sensors_flat_index/metadata. OS reports: No such file or directory No index with this name present on disk\n",
      "Erreur lors de la prédiction pour la fenêtre 1080: Neither Sparse nor Dense Index : /data/vdb/default/train_sensors/vdb/default_train_sensors_flat_index/metadata. OS reports: No such file or directory No index with this name present on disk\n"
     ]
    },
    {
     "name": "stderr",
     "output_type": "stream",
     "text": [
      "  0%|▏                                                                        | 1083/329841 [02:39<13:15:51,  6.88it/s]"
     ]
    },
    {
     "name": "stdout",
     "output_type": "stream",
     "text": [
      "Erreur lors de la prédiction pour la fenêtre 1081: Neither Sparse nor Dense Index : /data/vdb/default/train_sensors/vdb/default_train_sensors_flat_index/metadata. OS reports: No such file or directory No index with this name present on disk\n",
      "Erreur lors de la prédiction pour la fenêtre 1082: Neither Sparse nor Dense Index : /data/vdb/default/train_sensors/vdb/default_train_sensors_flat_index/metadata. OS reports: No such file or directory No index with this name present on disk\n"
     ]
    },
    {
     "name": "stderr",
     "output_type": "stream",
     "text": [
      "  0%|▏                                                                        | 1085/329841 [02:40<13:12:29,  6.91it/s]"
     ]
    },
    {
     "name": "stdout",
     "output_type": "stream",
     "text": [
      "Erreur lors de la prédiction pour la fenêtre 1083: Neither Sparse nor Dense Index : /data/vdb/default/train_sensors/vdb/default_train_sensors_flat_index/metadata. OS reports: No such file or directory No index with this name present on disk\n",
      "Erreur lors de la prédiction pour la fenêtre 1084: Neither Sparse nor Dense Index : /data/vdb/default/train_sensors/vdb/default_train_sensors_flat_index/metadata. OS reports: No such file or directory No index with this name present on disk\n"
     ]
    },
    {
     "name": "stderr",
     "output_type": "stream",
     "text": [
      "  0%|▏                                                                        | 1087/329841 [02:40<13:12:47,  6.91it/s]"
     ]
    },
    {
     "name": "stdout",
     "output_type": "stream",
     "text": [
      "Erreur lors de la prédiction pour la fenêtre 1085: Neither Sparse nor Dense Index : /data/vdb/default/train_sensors/vdb/default_train_sensors_flat_index/metadata. OS reports: No such file or directory No index with this name present on disk\n",
      "Erreur lors de la prédiction pour la fenêtre 1086: Neither Sparse nor Dense Index : /data/vdb/default/train_sensors/vdb/default_train_sensors_flat_index/metadata. OS reports: No such file or directory No index with this name present on disk\n"
     ]
    },
    {
     "name": "stderr",
     "output_type": "stream",
     "text": [
      "  0%|▏                                                                        | 1089/329841 [02:40<13:07:23,  6.96it/s]"
     ]
    },
    {
     "name": "stdout",
     "output_type": "stream",
     "text": [
      "Erreur lors de la prédiction pour la fenêtre 1087: Neither Sparse nor Dense Index : /data/vdb/default/train_sensors/vdb/default_train_sensors_flat_index/metadata. OS reports: No such file or directory No index with this name present on disk\n",
      "Erreur lors de la prédiction pour la fenêtre 1088: Neither Sparse nor Dense Index : /data/vdb/default/train_sensors/vdb/default_train_sensors_flat_index/metadata. OS reports: No such file or directory No index with this name present on disk\n"
     ]
    },
    {
     "name": "stderr",
     "output_type": "stream",
     "text": [
      "  0%|▏                                                                        | 1091/329841 [02:41<13:09:49,  6.94it/s]"
     ]
    },
    {
     "name": "stdout",
     "output_type": "stream",
     "text": [
      "Erreur lors de la prédiction pour la fenêtre 1089: Neither Sparse nor Dense Index : /data/vdb/default/train_sensors/vdb/default_train_sensors_flat_index/metadata. OS reports: No such file or directory No index with this name present on disk\n",
      "Erreur lors de la prédiction pour la fenêtre 1090: Neither Sparse nor Dense Index : /data/vdb/default/train_sensors/vdb/default_train_sensors_flat_index/metadata. OS reports: No such file or directory No index with this name present on disk\n"
     ]
    },
    {
     "name": "stderr",
     "output_type": "stream",
     "text": [
      "  0%|▏                                                                        | 1093/329841 [02:41<13:06:39,  6.97it/s]"
     ]
    },
    {
     "name": "stdout",
     "output_type": "stream",
     "text": [
      "Erreur lors de la prédiction pour la fenêtre 1091: Neither Sparse nor Dense Index : /data/vdb/default/train_sensors/vdb/default_train_sensors_flat_index/metadata. OS reports: No such file or directory No index with this name present on disk\n",
      "Erreur lors de la prédiction pour la fenêtre 1092: Neither Sparse nor Dense Index : /data/vdb/default/train_sensors/vdb/default_train_sensors_flat_index/metadata. OS reports: No such file or directory No index with this name present on disk\n"
     ]
    },
    {
     "name": "stderr",
     "output_type": "stream",
     "text": [
      "  0%|▏                                                                        | 1095/329841 [02:41<13:18:39,  6.86it/s]"
     ]
    },
    {
     "name": "stdout",
     "output_type": "stream",
     "text": [
      "Erreur lors de la prédiction pour la fenêtre 1093: Neither Sparse nor Dense Index : /data/vdb/default/train_sensors/vdb/default_train_sensors_flat_index/metadata. OS reports: No such file or directory No index with this name present on disk\n",
      "Erreur lors de la prédiction pour la fenêtre 1094: Neither Sparse nor Dense Index : /data/vdb/default/train_sensors/vdb/default_train_sensors_flat_index/metadata. OS reports: No such file or directory No index with this name present on disk\n"
     ]
    },
    {
     "name": "stderr",
     "output_type": "stream",
     "text": [
      "  0%|▏                                                                        | 1097/329841 [02:42<13:19:19,  6.85it/s]"
     ]
    },
    {
     "name": "stdout",
     "output_type": "stream",
     "text": [
      "Erreur lors de la prédiction pour la fenêtre 1095: Neither Sparse nor Dense Index : /data/vdb/default/train_sensors/vdb/default_train_sensors_flat_index/metadata. OS reports: No such file or directory No index with this name present on disk\n",
      "Erreur lors de la prédiction pour la fenêtre 1096: Neither Sparse nor Dense Index : /data/vdb/default/train_sensors/vdb/default_train_sensors_flat_index/metadata. OS reports: No such file or directory No index with this name present on disk\n"
     ]
    },
    {
     "name": "stderr",
     "output_type": "stream",
     "text": [
      "  0%|▏                                                                        | 1099/329841 [02:42<13:24:00,  6.81it/s]"
     ]
    },
    {
     "name": "stdout",
     "output_type": "stream",
     "text": [
      "Erreur lors de la prédiction pour la fenêtre 1097: Neither Sparse nor Dense Index : /data/vdb/default/train_sensors/vdb/default_train_sensors_flat_index/metadata. OS reports: No such file or directory No index with this name present on disk\n",
      "Erreur lors de la prédiction pour la fenêtre 1098: Neither Sparse nor Dense Index : /data/vdb/default/train_sensors/vdb/default_train_sensors_flat_index/metadata. OS reports: No such file or directory No index with this name present on disk\n"
     ]
    },
    {
     "name": "stderr",
     "output_type": "stream",
     "text": [
      "  0%|▏                                                                        | 1101/329841 [02:42<13:14:56,  6.89it/s]"
     ]
    },
    {
     "name": "stdout",
     "output_type": "stream",
     "text": [
      "Erreur lors de la prédiction pour la fenêtre 1099: Neither Sparse nor Dense Index : /data/vdb/default/train_sensors/vdb/default_train_sensors_flat_index/metadata. OS reports: No such file or directory No index with this name present on disk\n",
      "Erreur lors de la prédiction pour la fenêtre 1100: Neither Sparse nor Dense Index : /data/vdb/default/train_sensors/vdb/default_train_sensors_flat_index/metadata. OS reports: No such file or directory No index with this name present on disk\n"
     ]
    },
    {
     "name": "stderr",
     "output_type": "stream",
     "text": [
      "  0%|▏                                                                        | 1103/329841 [02:42<13:10:45,  6.93it/s]"
     ]
    },
    {
     "name": "stdout",
     "output_type": "stream",
     "text": [
      "Erreur lors de la prédiction pour la fenêtre 1101: Neither Sparse nor Dense Index : /data/vdb/default/train_sensors/vdb/default_train_sensors_flat_index/metadata. OS reports: No such file or directory No index with this name present on disk\n",
      "Erreur lors de la prédiction pour la fenêtre 1102: Neither Sparse nor Dense Index : /data/vdb/default/train_sensors/vdb/default_train_sensors_flat_index/metadata. OS reports: No such file or directory No index with this name present on disk\n"
     ]
    },
    {
     "name": "stderr",
     "output_type": "stream",
     "text": [
      "  0%|▏                                                                        | 1105/329841 [02:43<13:20:36,  6.84it/s]"
     ]
    },
    {
     "name": "stdout",
     "output_type": "stream",
     "text": [
      "Erreur lors de la prédiction pour la fenêtre 1103: Neither Sparse nor Dense Index : /data/vdb/default/train_sensors/vdb/default_train_sensors_flat_index/metadata. OS reports: No such file or directory No index with this name present on disk\n",
      "Erreur lors de la prédiction pour la fenêtre 1104: Neither Sparse nor Dense Index : /data/vdb/default/train_sensors/vdb/default_train_sensors_flat_index/metadata. OS reports: No such file or directory No index with this name present on disk\n"
     ]
    },
    {
     "name": "stderr",
     "output_type": "stream",
     "text": [
      "  0%|▏                                                                        | 1107/329841 [02:43<13:13:30,  6.90it/s]"
     ]
    },
    {
     "name": "stdout",
     "output_type": "stream",
     "text": [
      "Erreur lors de la prédiction pour la fenêtre 1105: Neither Sparse nor Dense Index : /data/vdb/default/train_sensors/vdb/default_train_sensors_flat_index/metadata. OS reports: No such file or directory No index with this name present on disk\n",
      "Erreur lors de la prédiction pour la fenêtre 1106: Neither Sparse nor Dense Index : /data/vdb/default/train_sensors/vdb/default_train_sensors_flat_index/metadata. OS reports: No such file or directory No index with this name present on disk\n"
     ]
    },
    {
     "name": "stderr",
     "output_type": "stream",
     "text": [
      "  0%|▏                                                                        | 1109/329841 [02:43<13:13:48,  6.90it/s]"
     ]
    },
    {
     "name": "stdout",
     "output_type": "stream",
     "text": [
      "Erreur lors de la prédiction pour la fenêtre 1107: Neither Sparse nor Dense Index : /data/vdb/default/train_sensors/vdb/default_train_sensors_flat_index/metadata. OS reports: No such file or directory No index with this name present on disk\n",
      "Erreur lors de la prédiction pour la fenêtre 1108: Neither Sparse nor Dense Index : /data/vdb/default/train_sensors/vdb/default_train_sensors_flat_index/metadata. OS reports: No such file or directory No index with this name present on disk\n"
     ]
    },
    {
     "name": "stderr",
     "output_type": "stream",
     "text": [
      "  0%|▏                                                                        | 1111/329841 [02:44<13:21:36,  6.83it/s]"
     ]
    },
    {
     "name": "stdout",
     "output_type": "stream",
     "text": [
      "Erreur lors de la prédiction pour la fenêtre 1109: Neither Sparse nor Dense Index : /data/vdb/default/train_sensors/vdb/default_train_sensors_flat_index/metadata. OS reports: No such file or directory No index with this name present on disk\n",
      "Erreur lors de la prédiction pour la fenêtre 1110: Neither Sparse nor Dense Index : /data/vdb/default/train_sensors/vdb/default_train_sensors_flat_index/metadata. OS reports: No such file or directory No index with this name present on disk\n"
     ]
    },
    {
     "name": "stderr",
     "output_type": "stream",
     "text": [
      "  0%|▏                                                                        | 1113/329841 [02:44<13:41:47,  6.67it/s]"
     ]
    },
    {
     "name": "stdout",
     "output_type": "stream",
     "text": [
      "Erreur lors de la prédiction pour la fenêtre 1111: Neither Sparse nor Dense Index : /data/vdb/default/train_sensors/vdb/default_train_sensors_flat_index/metadata. OS reports: No such file or directory No index with this name present on disk\n",
      "Erreur lors de la prédiction pour la fenêtre 1112: Neither Sparse nor Dense Index : /data/vdb/default/train_sensors/vdb/default_train_sensors_flat_index/metadata. OS reports: No such file or directory No index with this name present on disk\n"
     ]
    },
    {
     "name": "stderr",
     "output_type": "stream",
     "text": [
      "  0%|▏                                                                        | 1115/329841 [02:44<13:27:27,  6.79it/s]"
     ]
    },
    {
     "name": "stdout",
     "output_type": "stream",
     "text": [
      "Erreur lors de la prédiction pour la fenêtre 1113: Neither Sparse nor Dense Index : /data/vdb/default/train_sensors/vdb/default_train_sensors_flat_index/metadata. OS reports: No such file or directory No index with this name present on disk\n",
      "Erreur lors de la prédiction pour la fenêtre 1114: Neither Sparse nor Dense Index : /data/vdb/default/train_sensors/vdb/default_train_sensors_flat_index/metadata. OS reports: No such file or directory No index with this name present on disk\n"
     ]
    },
    {
     "name": "stderr",
     "output_type": "stream",
     "text": [
      "  0%|▏                                                                        | 1117/329841 [02:44<13:40:40,  6.68it/s]"
     ]
    },
    {
     "name": "stdout",
     "output_type": "stream",
     "text": [
      "Erreur lors de la prédiction pour la fenêtre 1115: Neither Sparse nor Dense Index : /data/vdb/default/train_sensors/vdb/default_train_sensors_flat_index/metadata. OS reports: No such file or directory No index with this name present on disk\n",
      "Erreur lors de la prédiction pour la fenêtre 1116: Neither Sparse nor Dense Index : /data/vdb/default/train_sensors/vdb/default_train_sensors_flat_index/metadata. OS reports: No such file or directory No index with this name present on disk\n"
     ]
    },
    {
     "name": "stderr",
     "output_type": "stream",
     "text": [
      "  0%|▏                                                                        | 1119/329841 [02:45<13:38:38,  6.69it/s]"
     ]
    },
    {
     "name": "stdout",
     "output_type": "stream",
     "text": [
      "Erreur lors de la prédiction pour la fenêtre 1117: Neither Sparse nor Dense Index : /data/vdb/default/train_sensors/vdb/default_train_sensors_flat_index/metadata. OS reports: No such file or directory No index with this name present on disk\n",
      "Erreur lors de la prédiction pour la fenêtre 1118: Neither Sparse nor Dense Index : /data/vdb/default/train_sensors/vdb/default_train_sensors_flat_index/metadata. OS reports: No such file or directory No index with this name present on disk\n"
     ]
    },
    {
     "name": "stderr",
     "output_type": "stream",
     "text": [
      "  0%|▏                                                                        | 1121/329841 [02:45<13:23:14,  6.82it/s]"
     ]
    },
    {
     "name": "stdout",
     "output_type": "stream",
     "text": [
      "Erreur lors de la prédiction pour la fenêtre 1119: Neither Sparse nor Dense Index : /data/vdb/default/train_sensors/vdb/default_train_sensors_flat_index/metadata. OS reports: No such file or directory No index with this name present on disk\n",
      "Erreur lors de la prédiction pour la fenêtre 1120: Neither Sparse nor Dense Index : /data/vdb/default/train_sensors/vdb/default_train_sensors_flat_index/metadata. OS reports: No such file or directory No index with this name present on disk\n"
     ]
    },
    {
     "name": "stderr",
     "output_type": "stream",
     "text": [
      "  0%|▏                                                                        | 1123/329841 [02:45<13:16:48,  6.88it/s]"
     ]
    },
    {
     "name": "stdout",
     "output_type": "stream",
     "text": [
      "Erreur lors de la prédiction pour la fenêtre 1121: Neither Sparse nor Dense Index : /data/vdb/default/train_sensors/vdb/default_train_sensors_flat_index/metadata. OS reports: No such file or directory No index with this name present on disk\n",
      "Erreur lors de la prédiction pour la fenêtre 1122: Neither Sparse nor Dense Index : /data/vdb/default/train_sensors/vdb/default_train_sensors_flat_index/metadata. OS reports: No such file or directory No index with this name present on disk\n"
     ]
    },
    {
     "name": "stderr",
     "output_type": "stream",
     "text": [
      "  0%|▏                                                                        | 1124/329841 [02:46<13:29:35,  6.77it/s]"
     ]
    },
    {
     "name": "stdout",
     "output_type": "stream",
     "text": [
      "Erreur lors de la prédiction pour la fenêtre 1123: Neither Sparse nor Dense Index : /data/vdb/default/train_sensors/vdb/default_train_sensors_flat_index/metadata. OS reports: No such file or directory No index with this name present on disk\n"
     ]
    },
    {
     "name": "stderr",
     "output_type": "stream",
     "text": [
      "\n"
     ]
    },
    {
     "ename": "KeyboardInterrupt",
     "evalue": "",
     "output_type": "error",
     "traceback": [
      "\u001b[1;31m---------------------------------------------------------------------------\u001b[0m",
      "\u001b[1;31mKeyboardInterrupt\u001b[0m                         Traceback (most recent call last)",
      "Cell \u001b[1;32mIn[51], line 28\u001b[0m\n\u001b[0;32m     24\u001b[0m query_vector \u001b[38;5;241m=\u001b[39m test_window[\u001b[38;5;124m\"\u001b[39m\u001b[38;5;124msensor_data\u001b[39m\u001b[38;5;124m\"\u001b[39m]\n\u001b[0;32m     26\u001b[0m \u001b[38;5;28;01mtry\u001b[39;00m:\n\u001b[0;32m     27\u001b[0m     \u001b[38;5;66;03m# Recherche vectorielle\u001b[39;00m\n\u001b[1;32m---> 28\u001b[0m     results_vector \u001b[38;5;241m=\u001b[39m \u001b[43mtrain_table\u001b[49m\u001b[38;5;241;43m.\u001b[39;49m\u001b[43msearch\u001b[49m\u001b[43m(\u001b[49m\n\u001b[0;32m     29\u001b[0m \u001b[43m        \u001b[49m\u001b[43mvectors\u001b[49m\u001b[38;5;241;43m=\u001b[39;49m\u001b[43m{\u001b[49m\u001b[38;5;124;43m\"\u001b[39;49m\u001b[38;5;124;43mflat_index\u001b[39;49m\u001b[38;5;124;43m\"\u001b[39;49m\u001b[43m:\u001b[49m\u001b[43m \u001b[49m\u001b[43m[\u001b[49m\u001b[43mquery_vector\u001b[49m\u001b[43m]\u001b[49m\u001b[43m}\u001b[49m\u001b[43m,\u001b[49m\n\u001b[0;32m     30\u001b[0m \u001b[43m        \u001b[49m\u001b[43mn\u001b[49m\u001b[38;5;241;43m=\u001b[39;49m\u001b[38;5;241;43m5\u001b[39;49m\u001b[43m  \u001b[49m\u001b[38;5;66;43;03m# Trouver les 5 motifs les plus similaires\u001b[39;49;00m\n\u001b[0;32m     31\u001b[0m \u001b[43m    \u001b[49m\u001b[43m)\u001b[49m\n\u001b[0;32m     33\u001b[0m     \u001b[38;5;66;03m# Extraire les valeurs de panne des motifs similaires\u001b[39;00m\n\u001b[0;32m     34\u001b[0m     similar_pannes \u001b[38;5;241m=\u001b[39m [result[\u001b[38;5;124m\"\u001b[39m\u001b[38;5;124mpanne\u001b[39m\u001b[38;5;124m\"\u001b[39m] \u001b[38;5;28;01mfor\u001b[39;00m result \u001b[38;5;129;01min\u001b[39;00m results_vector[\u001b[38;5;241m0\u001b[39m]]\n",
      "File \u001b[1;32m~\\anaconda3\\lib\\site-packages\\kdbai_client\\api.py:586\u001b[0m, in \u001b[0;36mTable.search\u001b[1;34m(self, vectors, n, range, type, index_params, options, filter, sort_columns, group_by, search_by, aggs, result_type)\u001b[0m\n\u001b[0;32m    506\u001b[0m \u001b[38;5;28;01mdef\u001b[39;00m \u001b[38;5;21msearch\u001b[39m(\u001b[38;5;28mself\u001b[39m,\n\u001b[0;32m    507\u001b[0m            vectors: Dict[\u001b[38;5;28mstr\u001b[39m, Any],\n\u001b[0;32m    508\u001b[0m            n: Optional[\u001b[38;5;28mint\u001b[39m] \u001b[38;5;241m=\u001b[39m \u001b[38;5;28;01mNone\u001b[39;00m,\n\u001b[1;32m   (...)\u001b[0m\n\u001b[0;32m    518\u001b[0m            aggs: Optional[Dict[\u001b[38;5;28mstr\u001b[39m, Any]] \u001b[38;5;241m=\u001b[39m \u001b[38;5;28;01mNone\u001b[39;00m,\n\u001b[0;32m    519\u001b[0m            result_type: Optional[\u001b[38;5;28mstr\u001b[39m] \u001b[38;5;241m=\u001b[39m \u001b[38;5;28;01mNone\u001b[39;00m):\n\u001b[0;32m    520\u001b[0m \u001b[38;5;250m    \u001b[39m\u001b[38;5;124;03m\"\"\"Perform similarity search on the table, supports dense or sparse queries.\u001b[39;00m\n\u001b[0;32m    521\u001b[0m \n\u001b[0;32m    522\u001b[0m \u001b[38;5;124;03m    Args:\u001b[39;00m\n\u001b[1;32m   (...)\u001b[0m\n\u001b[0;32m    584\u001b[0m \u001b[38;5;124;03m        KDBAIException: Raised when an error occurs during search.\u001b[39;00m\n\u001b[0;32m    585\u001b[0m \u001b[38;5;124;03m    \"\"\"\u001b[39;00m\n\u001b[1;32m--> 586\u001b[0m     \u001b[38;5;28;01mreturn\u001b[39;00m \u001b[38;5;28;43mself\u001b[39;49m\u001b[38;5;241;43m.\u001b[39;49m\u001b[43m_table\u001b[49m\u001b[38;5;241;43m.\u001b[39;49m\u001b[43msearch\u001b[49m\u001b[43m(\u001b[49m\u001b[43mvectors\u001b[49m\u001b[38;5;241;43m=\u001b[39;49m\u001b[43mvectors\u001b[49m\u001b[43m,\u001b[49m\n\u001b[0;32m    587\u001b[0m \u001b[43m                              \u001b[49m\u001b[43mn\u001b[49m\u001b[38;5;241;43m=\u001b[39;49m\u001b[43mn\u001b[49m\u001b[43m,\u001b[49m\n\u001b[0;32m    588\u001b[0m \u001b[43m                              \u001b[49m\u001b[38;5;28;43mrange\u001b[39;49m\u001b[38;5;241;43m=\u001b[39;49m\u001b[38;5;28;43mrange\u001b[39;49m\u001b[43m,\u001b[49m\n\u001b[0;32m    589\u001b[0m \u001b[43m                              \u001b[49m\u001b[38;5;28;43mtype\u001b[39;49m\u001b[38;5;241;43m=\u001b[39;49m\u001b[38;5;28;43mtype\u001b[39;49m\u001b[43m,\u001b[49m\n\u001b[0;32m    590\u001b[0m \u001b[43m                              \u001b[49m\u001b[43mindex_params\u001b[49m\u001b[38;5;241;43m=\u001b[39;49m\u001b[43mindex_params\u001b[49m\u001b[43m,\u001b[49m\n\u001b[0;32m    591\u001b[0m \u001b[43m                              \u001b[49m\u001b[43moptions\u001b[49m\u001b[38;5;241;43m=\u001b[39;49m\u001b[43moptions\u001b[49m\u001b[43m,\u001b[49m\n\u001b[0;32m    592\u001b[0m \u001b[43m                              \u001b[49m\u001b[38;5;28;43mfilter\u001b[39;49m\u001b[38;5;241;43m=\u001b[39;49m\u001b[38;5;28;43mfilter\u001b[39;49m\u001b[43m,\u001b[49m\n\u001b[0;32m    593\u001b[0m \u001b[43m                              \u001b[49m\u001b[43msort_columns\u001b[49m\u001b[38;5;241;43m=\u001b[39;49m\u001b[43msort_columns\u001b[49m\u001b[43m,\u001b[49m\n\u001b[0;32m    594\u001b[0m \u001b[43m                              \u001b[49m\u001b[43mgroup_by\u001b[49m\u001b[38;5;241;43m=\u001b[39;49m\u001b[43mgroup_by\u001b[49m\u001b[43m,\u001b[49m\n\u001b[0;32m    595\u001b[0m \u001b[43m                              \u001b[49m\u001b[43msearch_by\u001b[49m\u001b[38;5;241;43m=\u001b[39;49m\u001b[43msearch_by\u001b[49m\u001b[43m,\u001b[49m\n\u001b[0;32m    596\u001b[0m \u001b[43m                              \u001b[49m\u001b[43maggs\u001b[49m\u001b[38;5;241;43m=\u001b[39;49m\u001b[43maggs\u001b[49m\u001b[43m,\u001b[49m\n\u001b[0;32m    597\u001b[0m \u001b[43m                              \u001b[49m\u001b[43mresult_type\u001b[49m\u001b[38;5;241;43m=\u001b[39;49m\u001b[43mresult_type\u001b[49m\u001b[43m)\u001b[49m\n",
      "File \u001b[1;32m~\\anaconda3\\lib\\site-packages\\kdbai_client\\table_rest.py:148\u001b[0m, in \u001b[0;36mTableRest.search\u001b[1;34m(self, vectors, n, range, type, index_params, options, filter, sort_columns, group_by, search_by, aggs, result_type)\u001b[0m\n\u001b[0;32m    145\u001b[0m         payload[k] \u001b[38;5;241m=\u001b[39m v\n\u001b[0;32m    147\u001b[0m data \u001b[38;5;241m=\u001b[39m {\u001b[38;5;124m'\u001b[39m\u001b[38;5;124mdb_name\u001b[39m\u001b[38;5;124m'\u001b[39m: \u001b[38;5;28mself\u001b[39m\u001b[38;5;241m.\u001b[39mdatabase\u001b[38;5;241m.\u001b[39mname, \u001b[38;5;124m'\u001b[39m\u001b[38;5;124mtable_name\u001b[39m\u001b[38;5;124m'\u001b[39m: \u001b[38;5;28mself\u001b[39m\u001b[38;5;241m.\u001b[39mname}\n\u001b[1;32m--> 148\u001b[0m response \u001b[38;5;241m=\u001b[39m \u001b[38;5;28;43mself\u001b[39;49m\u001b[38;5;241;43m.\u001b[39;49m\u001b[43m_send_request\u001b[49m\u001b[43m(\u001b[49m\u001b[43mrequests\u001b[49m\u001b[38;5;241;43m.\u001b[39;49m\u001b[43mpost\u001b[49m\u001b[43m,\u001b[49m\n\u001b[0;32m    149\u001b[0m \u001b[43m                              \u001b[49m\u001b[38;5;28;43mself\u001b[39;49m\u001b[38;5;241;43m.\u001b[39;49m\u001b[43mdatabase\u001b[49m\u001b[38;5;241;43m.\u001b[39;49m\u001b[43m_session\u001b[49m\u001b[38;5;241;43m.\u001b[39;49m\u001b[43m_build_url\u001b[49m\u001b[43m(\u001b[49m\u001b[43mRestPath\u001b[49m\u001b[38;5;241;43m.\u001b[39;49m\u001b[43mTABLE_SEARCH\u001b[49m\u001b[38;5;241;43m.\u001b[39;49m\u001b[43mformat\u001b[49m\u001b[43m(\u001b[49m\u001b[38;5;241;43m*\u001b[39;49m\u001b[38;5;241;43m*\u001b[39;49m\u001b[43mdata\u001b[49m\u001b[43m)\u001b[49m\u001b[43m)\u001b[49m\u001b[43m,\u001b[49m\n\u001b[0;32m    150\u001b[0m \u001b[43m                              \u001b[49m\u001b[43mdata\u001b[49m\u001b[38;5;241;43m=\u001b[39;49m\u001b[43mjson\u001b[49m\u001b[38;5;241;43m.\u001b[39;49m\u001b[43mdumps\u001b[49m\u001b[43m(\u001b[49m\u001b[43mpayload\u001b[49m\u001b[43m,\u001b[49m\u001b[43m \u001b[49m\u001b[38;5;28;43mcls\u001b[39;49m\u001b[38;5;241;43m=\u001b[39;49m\u001b[43mJsonSerializer\u001b[49m\u001b[43m)\u001b[49m\u001b[43m,\u001b[49m\n\u001b[0;32m    151\u001b[0m \u001b[43m                              \u001b[49m\u001b[43mheaders\u001b[49m\u001b[38;5;241;43m=\u001b[39;49m\u001b[38;5;28;43mself\u001b[39;49m\u001b[38;5;241;43m.\u001b[39;49m\u001b[43mdatabase\u001b[49m\u001b[38;5;241;43m.\u001b[39;49m\u001b[43m_session\u001b[49m\u001b[38;5;241;43m.\u001b[39;49m\u001b[43m_build_headers\u001b[49m\u001b[43m(\u001b[49m\u001b[43mHeaders\u001b[49m\u001b[38;5;241;43m.\u001b[39;49m\u001b[43mJSON_QIPC\u001b[49m\u001b[43m)\u001b[49m\u001b[43m)\u001b[49m\n\u001b[0;32m    152\u001b[0m result \u001b[38;5;241m=\u001b[39m process_response(response, expected_status_code\u001b[38;5;241m=\u001b[39m\u001b[38;5;241m200\u001b[39m, get_as_json\u001b[38;5;241m=\u001b[39m\u001b[38;5;28;01mFalse\u001b[39;00m)\n\u001b[0;32m    153\u001b[0m \u001b[38;5;28;01mreturn\u001b[39;00m qipc_to_table(result\u001b[38;5;241m.\u001b[39mcontent, result_type \u001b[38;5;129;01mor\u001b[39;00m \u001b[38;5;28mself\u001b[39m\u001b[38;5;241m.\u001b[39mdefault_result_type, is_list\u001b[38;5;241m=\u001b[39m\u001b[38;5;28;01mTrue\u001b[39;00m)\n",
      "File \u001b[1;32m~\\anaconda3\\lib\\site-packages\\kdbai_client\\session_rest.py:120\u001b[0m, in \u001b[0;36mSessionRest._send_request\u001b[1;34m(self, func, *args, **kwargs)\u001b[0m\n\u001b[0;32m    118\u001b[0m     \u001b[38;5;28;01mraise\u001b[39;00m \u001b[38;5;167;01mRuntimeError\u001b[39;00m(\u001b[38;5;124m'\u001b[39m\u001b[38;5;124mAttempted to use closed session\u001b[39m\u001b[38;5;124m'\u001b[39m)\n\u001b[0;32m    119\u001b[0m \u001b[38;5;28;01mtry\u001b[39;00m:\n\u001b[1;32m--> 120\u001b[0m     \u001b[38;5;28;01mreturn\u001b[39;00m func(\u001b[38;5;241m*\u001b[39margs, \u001b[38;5;241m*\u001b[39m\u001b[38;5;241m*\u001b[39mkwargs)\n\u001b[0;32m    121\u001b[0m \u001b[38;5;28;01mexcept\u001b[39;00m requests\u001b[38;5;241m.\u001b[39mexceptions\u001b[38;5;241m.\u001b[39mConnectionError:\n\u001b[0;32m    122\u001b[0m     \u001b[38;5;28;01mraise\u001b[39;00m \u001b[38;5;167;01mRuntimeError\u001b[39;00m(\u001b[38;5;124m'\u001b[39m\u001b[38;5;124mError during request, make sure KDB.AI server running\u001b[39m\u001b[38;5;124m'\u001b[39m)\n",
      "File \u001b[1;32m~\\anaconda3\\lib\\site-packages\\requests\\api.py:115\u001b[0m, in \u001b[0;36mpost\u001b[1;34m(url, data, json, **kwargs)\u001b[0m\n\u001b[0;32m    103\u001b[0m \u001b[38;5;28;01mdef\u001b[39;00m \u001b[38;5;21mpost\u001b[39m(url, data\u001b[38;5;241m=\u001b[39m\u001b[38;5;28;01mNone\u001b[39;00m, json\u001b[38;5;241m=\u001b[39m\u001b[38;5;28;01mNone\u001b[39;00m, \u001b[38;5;241m*\u001b[39m\u001b[38;5;241m*\u001b[39mkwargs):\n\u001b[0;32m    104\u001b[0m \u001b[38;5;250m    \u001b[39m\u001b[38;5;124mr\u001b[39m\u001b[38;5;124;03m\"\"\"Sends a POST request.\u001b[39;00m\n\u001b[0;32m    105\u001b[0m \n\u001b[0;32m    106\u001b[0m \u001b[38;5;124;03m    :param url: URL for the new :class:`Request` object.\u001b[39;00m\n\u001b[1;32m   (...)\u001b[0m\n\u001b[0;32m    112\u001b[0m \u001b[38;5;124;03m    :rtype: requests.Response\u001b[39;00m\n\u001b[0;32m    113\u001b[0m \u001b[38;5;124;03m    \"\"\"\u001b[39;00m\n\u001b[1;32m--> 115\u001b[0m     \u001b[38;5;28;01mreturn\u001b[39;00m request(\u001b[38;5;124m\"\u001b[39m\u001b[38;5;124mpost\u001b[39m\u001b[38;5;124m\"\u001b[39m, url, data\u001b[38;5;241m=\u001b[39mdata, json\u001b[38;5;241m=\u001b[39mjson, \u001b[38;5;241m*\u001b[39m\u001b[38;5;241m*\u001b[39mkwargs)\n",
      "File \u001b[1;32m~\\anaconda3\\lib\\site-packages\\requests\\api.py:59\u001b[0m, in \u001b[0;36mrequest\u001b[1;34m(method, url, **kwargs)\u001b[0m\n\u001b[0;32m     55\u001b[0m \u001b[38;5;66;03m# By using the 'with' statement we are sure the session is closed, thus we\u001b[39;00m\n\u001b[0;32m     56\u001b[0m \u001b[38;5;66;03m# avoid leaving sockets open which can trigger a ResourceWarning in some\u001b[39;00m\n\u001b[0;32m     57\u001b[0m \u001b[38;5;66;03m# cases, and look like a memory leak in others.\u001b[39;00m\n\u001b[0;32m     58\u001b[0m \u001b[38;5;28;01mwith\u001b[39;00m sessions\u001b[38;5;241m.\u001b[39mSession() \u001b[38;5;28;01mas\u001b[39;00m session:\n\u001b[1;32m---> 59\u001b[0m     \u001b[38;5;28;01mreturn\u001b[39;00m session\u001b[38;5;241m.\u001b[39mrequest(method\u001b[38;5;241m=\u001b[39mmethod, url\u001b[38;5;241m=\u001b[39murl, \u001b[38;5;241m*\u001b[39m\u001b[38;5;241m*\u001b[39mkwargs)\n",
      "File \u001b[1;32m~\\anaconda3\\lib\\site-packages\\requests\\sessions.py:589\u001b[0m, in \u001b[0;36mSession.request\u001b[1;34m(self, method, url, params, data, headers, cookies, files, auth, timeout, allow_redirects, proxies, hooks, stream, verify, cert, json)\u001b[0m\n\u001b[0;32m    584\u001b[0m send_kwargs \u001b[38;5;241m=\u001b[39m {\n\u001b[0;32m    585\u001b[0m     \u001b[38;5;124m\"\u001b[39m\u001b[38;5;124mtimeout\u001b[39m\u001b[38;5;124m\"\u001b[39m: timeout,\n\u001b[0;32m    586\u001b[0m     \u001b[38;5;124m\"\u001b[39m\u001b[38;5;124mallow_redirects\u001b[39m\u001b[38;5;124m\"\u001b[39m: allow_redirects,\n\u001b[0;32m    587\u001b[0m }\n\u001b[0;32m    588\u001b[0m send_kwargs\u001b[38;5;241m.\u001b[39mupdate(settings)\n\u001b[1;32m--> 589\u001b[0m resp \u001b[38;5;241m=\u001b[39m \u001b[38;5;28mself\u001b[39m\u001b[38;5;241m.\u001b[39msend(prep, \u001b[38;5;241m*\u001b[39m\u001b[38;5;241m*\u001b[39msend_kwargs)\n\u001b[0;32m    591\u001b[0m \u001b[38;5;28;01mreturn\u001b[39;00m resp\n",
      "File \u001b[1;32m~\\anaconda3\\lib\\site-packages\\requests\\sessions.py:703\u001b[0m, in \u001b[0;36mSession.send\u001b[1;34m(self, request, **kwargs)\u001b[0m\n\u001b[0;32m    700\u001b[0m start \u001b[38;5;241m=\u001b[39m preferred_clock()\n\u001b[0;32m    702\u001b[0m \u001b[38;5;66;03m# Send the request\u001b[39;00m\n\u001b[1;32m--> 703\u001b[0m r \u001b[38;5;241m=\u001b[39m adapter\u001b[38;5;241m.\u001b[39msend(request, \u001b[38;5;241m*\u001b[39m\u001b[38;5;241m*\u001b[39mkwargs)\n\u001b[0;32m    705\u001b[0m \u001b[38;5;66;03m# Total elapsed time of the request (approximately)\u001b[39;00m\n\u001b[0;32m    706\u001b[0m elapsed \u001b[38;5;241m=\u001b[39m preferred_clock() \u001b[38;5;241m-\u001b[39m start\n",
      "File \u001b[1;32m~\\anaconda3\\lib\\site-packages\\requests\\adapters.py:667\u001b[0m, in \u001b[0;36mHTTPAdapter.send\u001b[1;34m(self, request, stream, timeout, verify, cert, proxies)\u001b[0m\n\u001b[0;32m    664\u001b[0m     timeout \u001b[38;5;241m=\u001b[39m TimeoutSauce(connect\u001b[38;5;241m=\u001b[39mtimeout, read\u001b[38;5;241m=\u001b[39mtimeout)\n\u001b[0;32m    666\u001b[0m \u001b[38;5;28;01mtry\u001b[39;00m:\n\u001b[1;32m--> 667\u001b[0m     resp \u001b[38;5;241m=\u001b[39m \u001b[43mconn\u001b[49m\u001b[38;5;241;43m.\u001b[39;49m\u001b[43murlopen\u001b[49m\u001b[43m(\u001b[49m\n\u001b[0;32m    668\u001b[0m \u001b[43m        \u001b[49m\u001b[43mmethod\u001b[49m\u001b[38;5;241;43m=\u001b[39;49m\u001b[43mrequest\u001b[49m\u001b[38;5;241;43m.\u001b[39;49m\u001b[43mmethod\u001b[49m\u001b[43m,\u001b[49m\n\u001b[0;32m    669\u001b[0m \u001b[43m        \u001b[49m\u001b[43murl\u001b[49m\u001b[38;5;241;43m=\u001b[39;49m\u001b[43murl\u001b[49m\u001b[43m,\u001b[49m\n\u001b[0;32m    670\u001b[0m \u001b[43m        \u001b[49m\u001b[43mbody\u001b[49m\u001b[38;5;241;43m=\u001b[39;49m\u001b[43mrequest\u001b[49m\u001b[38;5;241;43m.\u001b[39;49m\u001b[43mbody\u001b[49m\u001b[43m,\u001b[49m\n\u001b[0;32m    671\u001b[0m \u001b[43m        \u001b[49m\u001b[43mheaders\u001b[49m\u001b[38;5;241;43m=\u001b[39;49m\u001b[43mrequest\u001b[49m\u001b[38;5;241;43m.\u001b[39;49m\u001b[43mheaders\u001b[49m\u001b[43m,\u001b[49m\n\u001b[0;32m    672\u001b[0m \u001b[43m        \u001b[49m\u001b[43mredirect\u001b[49m\u001b[38;5;241;43m=\u001b[39;49m\u001b[38;5;28;43;01mFalse\u001b[39;49;00m\u001b[43m,\u001b[49m\n\u001b[0;32m    673\u001b[0m \u001b[43m        \u001b[49m\u001b[43massert_same_host\u001b[49m\u001b[38;5;241;43m=\u001b[39;49m\u001b[38;5;28;43;01mFalse\u001b[39;49;00m\u001b[43m,\u001b[49m\n\u001b[0;32m    674\u001b[0m \u001b[43m        \u001b[49m\u001b[43mpreload_content\u001b[49m\u001b[38;5;241;43m=\u001b[39;49m\u001b[38;5;28;43;01mFalse\u001b[39;49;00m\u001b[43m,\u001b[49m\n\u001b[0;32m    675\u001b[0m \u001b[43m        \u001b[49m\u001b[43mdecode_content\u001b[49m\u001b[38;5;241;43m=\u001b[39;49m\u001b[38;5;28;43;01mFalse\u001b[39;49;00m\u001b[43m,\u001b[49m\n\u001b[0;32m    676\u001b[0m \u001b[43m        \u001b[49m\u001b[43mretries\u001b[49m\u001b[38;5;241;43m=\u001b[39;49m\u001b[38;5;28;43mself\u001b[39;49m\u001b[38;5;241;43m.\u001b[39;49m\u001b[43mmax_retries\u001b[49m\u001b[43m,\u001b[49m\n\u001b[0;32m    677\u001b[0m \u001b[43m        \u001b[49m\u001b[43mtimeout\u001b[49m\u001b[38;5;241;43m=\u001b[39;49m\u001b[43mtimeout\u001b[49m\u001b[43m,\u001b[49m\n\u001b[0;32m    678\u001b[0m \u001b[43m        \u001b[49m\u001b[43mchunked\u001b[49m\u001b[38;5;241;43m=\u001b[39;49m\u001b[43mchunked\u001b[49m\u001b[43m,\u001b[49m\n\u001b[0;32m    679\u001b[0m \u001b[43m    \u001b[49m\u001b[43m)\u001b[49m\n\u001b[0;32m    681\u001b[0m \u001b[38;5;28;01mexcept\u001b[39;00m (ProtocolError, \u001b[38;5;167;01mOSError\u001b[39;00m) \u001b[38;5;28;01mas\u001b[39;00m err:\n\u001b[0;32m    682\u001b[0m     \u001b[38;5;28;01mraise\u001b[39;00m \u001b[38;5;167;01mConnectionError\u001b[39;00m(err, request\u001b[38;5;241m=\u001b[39mrequest)\n",
      "File \u001b[1;32m~\\anaconda3\\lib\\site-packages\\urllib3\\connectionpool.py:787\u001b[0m, in \u001b[0;36mHTTPConnectionPool.urlopen\u001b[1;34m(self, method, url, body, headers, retries, redirect, assert_same_host, timeout, pool_timeout, release_conn, chunked, body_pos, preload_content, decode_content, **response_kw)\u001b[0m\n\u001b[0;32m    784\u001b[0m response_conn \u001b[38;5;241m=\u001b[39m conn \u001b[38;5;28;01mif\u001b[39;00m \u001b[38;5;129;01mnot\u001b[39;00m release_conn \u001b[38;5;28;01melse\u001b[39;00m \u001b[38;5;28;01mNone\u001b[39;00m\n\u001b[0;32m    786\u001b[0m \u001b[38;5;66;03m# Make the request on the HTTPConnection object\u001b[39;00m\n\u001b[1;32m--> 787\u001b[0m response \u001b[38;5;241m=\u001b[39m \u001b[38;5;28mself\u001b[39m\u001b[38;5;241m.\u001b[39m_make_request(\n\u001b[0;32m    788\u001b[0m     conn,\n\u001b[0;32m    789\u001b[0m     method,\n\u001b[0;32m    790\u001b[0m     url,\n\u001b[0;32m    791\u001b[0m     timeout\u001b[38;5;241m=\u001b[39mtimeout_obj,\n\u001b[0;32m    792\u001b[0m     body\u001b[38;5;241m=\u001b[39mbody,\n\u001b[0;32m    793\u001b[0m     headers\u001b[38;5;241m=\u001b[39mheaders,\n\u001b[0;32m    794\u001b[0m     chunked\u001b[38;5;241m=\u001b[39mchunked,\n\u001b[0;32m    795\u001b[0m     retries\u001b[38;5;241m=\u001b[39mretries,\n\u001b[0;32m    796\u001b[0m     response_conn\u001b[38;5;241m=\u001b[39mresponse_conn,\n\u001b[0;32m    797\u001b[0m     preload_content\u001b[38;5;241m=\u001b[39mpreload_content,\n\u001b[0;32m    798\u001b[0m     decode_content\u001b[38;5;241m=\u001b[39mdecode_content,\n\u001b[0;32m    799\u001b[0m     \u001b[38;5;241m*\u001b[39m\u001b[38;5;241m*\u001b[39mresponse_kw,\n\u001b[0;32m    800\u001b[0m )\n\u001b[0;32m    802\u001b[0m \u001b[38;5;66;03m# Everything went great!\u001b[39;00m\n\u001b[0;32m    803\u001b[0m clean_exit \u001b[38;5;241m=\u001b[39m \u001b[38;5;28;01mTrue\u001b[39;00m\n",
      "File \u001b[1;32m~\\anaconda3\\lib\\site-packages\\urllib3\\connectionpool.py:534\u001b[0m, in \u001b[0;36mHTTPConnectionPool._make_request\u001b[1;34m(self, conn, method, url, body, headers, retries, timeout, chunked, response_conn, preload_content, decode_content, enforce_content_length)\u001b[0m\n\u001b[0;32m    532\u001b[0m \u001b[38;5;66;03m# Receive the response from the server\u001b[39;00m\n\u001b[0;32m    533\u001b[0m \u001b[38;5;28;01mtry\u001b[39;00m:\n\u001b[1;32m--> 534\u001b[0m     response \u001b[38;5;241m=\u001b[39m \u001b[43mconn\u001b[49m\u001b[38;5;241;43m.\u001b[39;49m\u001b[43mgetresponse\u001b[49m\u001b[43m(\u001b[49m\u001b[43m)\u001b[49m\n\u001b[0;32m    535\u001b[0m \u001b[38;5;28;01mexcept\u001b[39;00m (BaseSSLError, \u001b[38;5;167;01mOSError\u001b[39;00m) \u001b[38;5;28;01mas\u001b[39;00m e:\n\u001b[0;32m    536\u001b[0m     \u001b[38;5;28mself\u001b[39m\u001b[38;5;241m.\u001b[39m_raise_timeout(err\u001b[38;5;241m=\u001b[39me, url\u001b[38;5;241m=\u001b[39murl, timeout_value\u001b[38;5;241m=\u001b[39mread_timeout)\n",
      "File \u001b[1;32m~\\anaconda3\\lib\\site-packages\\urllib3\\connection.py:516\u001b[0m, in \u001b[0;36mHTTPConnection.getresponse\u001b[1;34m(self)\u001b[0m\n\u001b[0;32m    513\u001b[0m _shutdown \u001b[38;5;241m=\u001b[39m \u001b[38;5;28mgetattr\u001b[39m(\u001b[38;5;28mself\u001b[39m\u001b[38;5;241m.\u001b[39msock, \u001b[38;5;124m\"\u001b[39m\u001b[38;5;124mshutdown\u001b[39m\u001b[38;5;124m\"\u001b[39m, \u001b[38;5;28;01mNone\u001b[39;00m)\n\u001b[0;32m    515\u001b[0m \u001b[38;5;66;03m# Get the response from http.client.HTTPConnection\u001b[39;00m\n\u001b[1;32m--> 516\u001b[0m httplib_response \u001b[38;5;241m=\u001b[39m \u001b[38;5;28;43msuper\u001b[39;49m\u001b[43m(\u001b[49m\u001b[43m)\u001b[49m\u001b[38;5;241;43m.\u001b[39;49m\u001b[43mgetresponse\u001b[49m\u001b[43m(\u001b[49m\u001b[43m)\u001b[49m\n\u001b[0;32m    518\u001b[0m \u001b[38;5;28;01mtry\u001b[39;00m:\n\u001b[0;32m    519\u001b[0m     assert_header_parsing(httplib_response\u001b[38;5;241m.\u001b[39mmsg)\n",
      "File \u001b[1;32m~\\anaconda3\\lib\\http\\client.py:1374\u001b[0m, in \u001b[0;36mHTTPConnection.getresponse\u001b[1;34m(self)\u001b[0m\n\u001b[0;32m   1372\u001b[0m \u001b[38;5;28;01mtry\u001b[39;00m:\n\u001b[0;32m   1373\u001b[0m     \u001b[38;5;28;01mtry\u001b[39;00m:\n\u001b[1;32m-> 1374\u001b[0m         \u001b[43mresponse\u001b[49m\u001b[38;5;241;43m.\u001b[39;49m\u001b[43mbegin\u001b[49m\u001b[43m(\u001b[49m\u001b[43m)\u001b[49m\n\u001b[0;32m   1375\u001b[0m     \u001b[38;5;28;01mexcept\u001b[39;00m \u001b[38;5;167;01mConnectionError\u001b[39;00m:\n\u001b[0;32m   1376\u001b[0m         \u001b[38;5;28mself\u001b[39m\u001b[38;5;241m.\u001b[39mclose()\n",
      "File \u001b[1;32m~\\anaconda3\\lib\\http\\client.py:318\u001b[0m, in \u001b[0;36mHTTPResponse.begin\u001b[1;34m(self)\u001b[0m\n\u001b[0;32m    316\u001b[0m \u001b[38;5;66;03m# read until we get a non-100 response\u001b[39;00m\n\u001b[0;32m    317\u001b[0m \u001b[38;5;28;01mwhile\u001b[39;00m \u001b[38;5;28;01mTrue\u001b[39;00m:\n\u001b[1;32m--> 318\u001b[0m     version, status, reason \u001b[38;5;241m=\u001b[39m \u001b[38;5;28;43mself\u001b[39;49m\u001b[38;5;241;43m.\u001b[39;49m\u001b[43m_read_status\u001b[49m\u001b[43m(\u001b[49m\u001b[43m)\u001b[49m\n\u001b[0;32m    319\u001b[0m     \u001b[38;5;28;01mif\u001b[39;00m status \u001b[38;5;241m!=\u001b[39m CONTINUE:\n\u001b[0;32m    320\u001b[0m         \u001b[38;5;28;01mbreak\u001b[39;00m\n",
      "File \u001b[1;32m~\\anaconda3\\lib\\http\\client.py:279\u001b[0m, in \u001b[0;36mHTTPResponse._read_status\u001b[1;34m(self)\u001b[0m\n\u001b[0;32m    278\u001b[0m \u001b[38;5;28;01mdef\u001b[39;00m \u001b[38;5;21m_read_status\u001b[39m(\u001b[38;5;28mself\u001b[39m):\n\u001b[1;32m--> 279\u001b[0m     line \u001b[38;5;241m=\u001b[39m \u001b[38;5;28mstr\u001b[39m(\u001b[38;5;28;43mself\u001b[39;49m\u001b[38;5;241;43m.\u001b[39;49m\u001b[43mfp\u001b[49m\u001b[38;5;241;43m.\u001b[39;49m\u001b[43mreadline\u001b[49m\u001b[43m(\u001b[49m\u001b[43m_MAXLINE\u001b[49m\u001b[43m \u001b[49m\u001b[38;5;241;43m+\u001b[39;49m\u001b[43m \u001b[49m\u001b[38;5;241;43m1\u001b[39;49m\u001b[43m)\u001b[49m, \u001b[38;5;124m\"\u001b[39m\u001b[38;5;124miso-8859-1\u001b[39m\u001b[38;5;124m\"\u001b[39m)\n\u001b[0;32m    280\u001b[0m     \u001b[38;5;28;01mif\u001b[39;00m \u001b[38;5;28mlen\u001b[39m(line) \u001b[38;5;241m>\u001b[39m _MAXLINE:\n\u001b[0;32m    281\u001b[0m         \u001b[38;5;28;01mraise\u001b[39;00m LineTooLong(\u001b[38;5;124m\"\u001b[39m\u001b[38;5;124mstatus line\u001b[39m\u001b[38;5;124m\"\u001b[39m)\n",
      "File \u001b[1;32m~\\anaconda3\\lib\\socket.py:705\u001b[0m, in \u001b[0;36mSocketIO.readinto\u001b[1;34m(self, b)\u001b[0m\n\u001b[0;32m    703\u001b[0m \u001b[38;5;28;01mwhile\u001b[39;00m \u001b[38;5;28;01mTrue\u001b[39;00m:\n\u001b[0;32m    704\u001b[0m     \u001b[38;5;28;01mtry\u001b[39;00m:\n\u001b[1;32m--> 705\u001b[0m         \u001b[38;5;28;01mreturn\u001b[39;00m \u001b[38;5;28;43mself\u001b[39;49m\u001b[38;5;241;43m.\u001b[39;49m\u001b[43m_sock\u001b[49m\u001b[38;5;241;43m.\u001b[39;49m\u001b[43mrecv_into\u001b[49m\u001b[43m(\u001b[49m\u001b[43mb\u001b[49m\u001b[43m)\u001b[49m\n\u001b[0;32m    706\u001b[0m     \u001b[38;5;28;01mexcept\u001b[39;00m timeout:\n\u001b[0;32m    707\u001b[0m         \u001b[38;5;28mself\u001b[39m\u001b[38;5;241m.\u001b[39m_timeout_occurred \u001b[38;5;241m=\u001b[39m \u001b[38;5;28;01mTrue\u001b[39;00m\n",
      "File \u001b[1;32m~\\anaconda3\\lib\\ssl.py:1274\u001b[0m, in \u001b[0;36mSSLSocket.recv_into\u001b[1;34m(self, buffer, nbytes, flags)\u001b[0m\n\u001b[0;32m   1270\u001b[0m     \u001b[38;5;28;01mif\u001b[39;00m flags \u001b[38;5;241m!=\u001b[39m \u001b[38;5;241m0\u001b[39m:\n\u001b[0;32m   1271\u001b[0m         \u001b[38;5;28;01mraise\u001b[39;00m \u001b[38;5;167;01mValueError\u001b[39;00m(\n\u001b[0;32m   1272\u001b[0m           \u001b[38;5;124m\"\u001b[39m\u001b[38;5;124mnon-zero flags not allowed in calls to recv_into() on \u001b[39m\u001b[38;5;132;01m%s\u001b[39;00m\u001b[38;5;124m\"\u001b[39m \u001b[38;5;241m%\u001b[39m\n\u001b[0;32m   1273\u001b[0m           \u001b[38;5;28mself\u001b[39m\u001b[38;5;241m.\u001b[39m\u001b[38;5;18m__class__\u001b[39m)\n\u001b[1;32m-> 1274\u001b[0m     \u001b[38;5;28;01mreturn\u001b[39;00m \u001b[38;5;28;43mself\u001b[39;49m\u001b[38;5;241;43m.\u001b[39;49m\u001b[43mread\u001b[49m\u001b[43m(\u001b[49m\u001b[43mnbytes\u001b[49m\u001b[43m,\u001b[49m\u001b[43m \u001b[49m\u001b[43mbuffer\u001b[49m\u001b[43m)\u001b[49m\n\u001b[0;32m   1275\u001b[0m \u001b[38;5;28;01melse\u001b[39;00m:\n\u001b[0;32m   1276\u001b[0m     \u001b[38;5;28;01mreturn\u001b[39;00m \u001b[38;5;28msuper\u001b[39m()\u001b[38;5;241m.\u001b[39mrecv_into(buffer, nbytes, flags)\n",
      "File \u001b[1;32m~\\anaconda3\\lib\\ssl.py:1130\u001b[0m, in \u001b[0;36mSSLSocket.read\u001b[1;34m(self, len, buffer)\u001b[0m\n\u001b[0;32m   1128\u001b[0m \u001b[38;5;28;01mtry\u001b[39;00m:\n\u001b[0;32m   1129\u001b[0m     \u001b[38;5;28;01mif\u001b[39;00m buffer \u001b[38;5;129;01mis\u001b[39;00m \u001b[38;5;129;01mnot\u001b[39;00m \u001b[38;5;28;01mNone\u001b[39;00m:\n\u001b[1;32m-> 1130\u001b[0m         \u001b[38;5;28;01mreturn\u001b[39;00m \u001b[38;5;28;43mself\u001b[39;49m\u001b[38;5;241;43m.\u001b[39;49m\u001b[43m_sslobj\u001b[49m\u001b[38;5;241;43m.\u001b[39;49m\u001b[43mread\u001b[49m\u001b[43m(\u001b[49m\u001b[38;5;28;43mlen\u001b[39;49m\u001b[43m,\u001b[49m\u001b[43m \u001b[49m\u001b[43mbuffer\u001b[49m\u001b[43m)\u001b[49m\n\u001b[0;32m   1131\u001b[0m     \u001b[38;5;28;01melse\u001b[39;00m:\n\u001b[0;32m   1132\u001b[0m         \u001b[38;5;28;01mreturn\u001b[39;00m \u001b[38;5;28mself\u001b[39m\u001b[38;5;241m.\u001b[39m_sslobj\u001b[38;5;241m.\u001b[39mread(\u001b[38;5;28mlen\u001b[39m)\n",
      "\u001b[1;31mKeyboardInterrupt\u001b[0m: "
     ]
    }
   ],
   "source": [
    "################################################################\n",
    "#### Prédiction des Pannes pour l'Ensemble de Test Basée    ####\n",
    "#### Sur le Vote Majoritaire dans l'Ensemble d'Entrainement ####\n",
    "#### Avec la Classe Définie par la Dernière Valeur dans la  ####\n",
    "#### Fenêtre                                                ####\n",
    "################################################################\n",
    "\n",
    "#################################################################################################################\n",
    "### Distance Euclidienne (𝐿2)\n",
    "### Les valeurs de nos vecteurs sont numériques ce qui convient parfaitement à la distance Euclidienne.    ######\n",
    "### L'algorithme interprète les vecteurs comme des points dans un espace multidimensionnel, et la distance ######\n",
    "### Euclidienne mesure la \"proximité\" géométrique entre ces points.\n",
    "### Mesures Alternatives :\n",
    "### Distance de Manhattan (L1), Distance de Hamming\n",
    "##################################################################################################################\n",
    "\n",
    "\n",
    "# Initialiser une liste pour stocker les résultats\n",
    "results = []\n",
    "\n",
    "# Parcourir toutes les fenêtres de test\n",
    "for i, test_window in tqdm(enumerate(test_windows), total=len(test_windows)):\n",
    "    # Récupérer le vecteur de test\n",
    "    query_vector = test_window[\"sensor_data\"]\n",
    "\n",
    "    try:\n",
    "        # Recherche vectorielle\n",
    "        results_vector = train_table.search(\n",
    "            vectors={\"flat_index\": [query_vector]},\n",
    "            n=5  # Trouver les 5 motifs les plus similaires\n",
    "        )\n",
    "\n",
    "        # Extraire les valeurs de panne des motifs similaires\n",
    "        similar_pannes = [result[\"panne\"] for result in results_vector[0]]\n",
    "\n",
    "        # Prédiction par vote majoritaire\n",
    "        predicted_panne = max(set(similar_pannes), key=similar_pannes.count)\n",
    "\n",
    "        # Ajouter les résultats à la liste\n",
    "        results.append({\n",
    "            \"fenêtre\": i,\n",
    "            \"prédiction\": predicted_panne,\n",
    "            \"réelle\": test_window['panne']  # Correspond à la dernière valeur dans la fenêtre de test\n",
    "        })\n",
    "\n",
    "    except Exception as e:\n",
    "        print(f\"Erreur lors de la prédiction pour la fenêtre {i}: {e}\")\n",
    "\n",
    "# Créer un DataFrame avec les résultats\n",
    "results_df = pd.DataFrame(results)\n",
    "\n",
    "# Calculer la précision globale\n",
    "accuracy = (results_df[\"prédiction\"] == results_df[\"réelle\"]).mean()\n",
    "\n",
    "# Compter les fenêtres par classe prédite\n",
    "class_counts = results_df[\"prédiction\"].value_counts()\n",
    "\n",
    "# Afficher les résultats\n",
    "print(f\"Précision globale sur l'ensemble de test : {accuracy:.2%}\")\n",
    "print(f\"Nombre total de fenêtres testées : {len(results_df)}\")\n",
    "print(\"\\nPrédictions par classe :\")\n",
    "print(class_counts)\n",
    "\n",
    "# Afficher le DataFrame\n",
    "import ace_tools as tools; tools.display_dataframe_to_user(name=\"Résultats de Prédictions des Fenêtres\", dataframe=results_df)\n"
   ]
  },
  {
   "cell_type": "code",
   "execution_count": 53,
   "id": "f2251a30",
   "metadata": {},
   "outputs": [
    {
     "name": "stdout",
     "output_type": "stream",
     "text": [
      "Erreur lors de la vérification de l'existence de la table : 'Database' object has no attribute 'has_table'\n"
     ]
    }
   ],
   "source": [
    "# Vérifier si la table 'train_sensors' existe\n",
    "try:\n",
    "    table_exists = db.has_table(\"train_sensors\")  # Vérifie l'existence de la table\n",
    "    if table_exists:\n",
    "        print(\"La table 'train_sensors' existe.\")\n",
    "    else:\n",
    "        print(\"La table 'train_sensors' n'existe pas.\")\n",
    "except Exception as e:\n",
    "    print(f\"Erreur lors de la vérification de l'existence de la table : {e}\")\n"
   ]
  },
  {
   "cell_type": "code",
   "execution_count": 54,
   "id": "1bafaf38",
   "metadata": {},
   "outputs": [
    {
     "name": "stdout",
     "output_type": "stream",
     "text": [
      "['__class__', '__delattr__', '__dict__', '__dir__', '__doc__', '__eq__', '__format__', '__ge__', '__getattribute__', '__gt__', '__hash__', '__init__', '__init_subclass__', '__le__', '__lt__', '__module__', '__ne__', '__new__', '__reduce__', '__reduce_ex__', '__repr__', '__setattr__', '__sizeof__', '__str__', '__subclasshook__', '__weakref__', '_table', 'default_result_type', 'drop', 'index', 'indexes', 'insert', 'name', 'query', 'refresh', 'schema', 'search', 'search_and_rerank', 'train', 'update_indexes']\n"
     ]
    }
   ],
   "source": [
    "# Afficher toutes les propriétés et méthodes de l'objet train_table\n",
    "print(dir(train_table))"
   ]
  },
  {
   "cell_type": "code",
   "execution_count": 55,
   "id": "8b505e43",
   "metadata": {},
   "outputs": [
    {
     "name": "stdout",
     "output_type": "stream",
     "text": [
      "Index de la table : [{'name': 'flat_index', 'type': 'flat', 'column': 'sensor_data', 'params': {'metric': 'L2', 'dims': 500}}]\n"
     ]
    }
   ],
   "source": [
    "# Récupérer les informations des index de la table\n",
    "try:\n",
    "    table_indexes = train_table.indexes\n",
    "    print(\"Index de la table :\", table_indexes)\n",
    "except Exception as e:\n",
    "    print(f\"Erreur lors de la récupération des index : {e}\")\n"
   ]
  },
  {
   "cell_type": "code",
   "execution_count": 58,
   "id": "44f68b77",
   "metadata": {},
   "outputs": [
    {
     "name": "stdout",
     "output_type": "stream",
     "text": [
      "Propriétés du premier index : {'name': 'flat_index', 'type': 'flat', 'column': 'sensor_data', 'params': {'metric': 'L2', 'dims': 500}}\n"
     ]
    }
   ],
   "source": [
    "# Récupérer le contenu ou les métadonnées du premier index\n",
    "try:\n",
    "    first_index = train_table.indexes[0]  # Premier index\n",
    "    print(\"Propriétés du premier index :\", first_index)\n",
    "except Exception as e:\n",
    "    print(f\"Erreur lors de la récupération du premier index : {e}\")\n"
   ]
  },
  {
   "cell_type": "code",
   "execution_count": 62,
   "id": "5e5a0ff3",
   "metadata": {},
   "outputs": [
    {
     "name": "stdout",
     "output_type": "stream",
     "text": [
      "Colonnes disponibles dans la table :\n",
      "- index (type : int64)\n",
      "- timestamp (type : datetime64[ns])\n",
      "- sensor_data (type : float64s)\n",
      "- panne (type : int64)\n"
     ]
    }
   ],
   "source": [
    "# Obtenir le schéma de la table\n",
    "try:\n",
    "    schema = train_table.schema\n",
    "    print(\"Colonnes disponibles dans la table :\")\n",
    "    for column in schema:\n",
    "        print(f\"- {column['name']} (type : {column['type']})\")\n",
    "except Exception as e:\n",
    "    print(f\"Erreur lors de la récupération du schéma de la table : {e}\")\n"
   ]
  },
  {
   "cell_type": "code",
   "execution_count": 64,
   "id": "b6157f04",
   "metadata": {},
   "outputs": [
    {
     "name": "stdout",
     "output_type": "stream",
     "text": [
      "Premières lignes de la table :\n",
      "Index : 0    0\n",
      "Name: first_index, dtype: int64\n",
      "Timestamp : 0   2020-02-02\n",
      "Name: first_timestamp, dtype: datetime64[ns]\n",
      "Sensor Data : 0    [1.391000000000001, 0.0376599999999999, 52.855...\n",
      "Name: first_sensor_data, dtype: object\n",
      "Panne : 0    0\n",
      "Name: first_panne, dtype: int64\n"
     ]
    }
   ],
   "source": [
    "# Récupérer les premières lignes des colonnes disponibles\n",
    "try:\n",
    "    query_result = train_table.query(\n",
    "        aggs={\n",
    "            \"first_index\": [\"first\", \"index\"],\n",
    "            \"first_timestamp\": [\"first\", \"timestamp\"],\n",
    "            \"first_sensor_data\": [\"first\", \"sensor_data\"],\n",
    "            \"first_panne\": [\"first\", \"panne\"]\n",
    "        }\n",
    "    )\n",
    "    print(\"Premières lignes de la table :\")\n",
    "    print(f\"Index : {query_result['first_index']}\")\n",
    "    print(f\"Timestamp : {query_result['first_timestamp']}\")\n",
    "    print(f\"Sensor Data : {query_result['first_sensor_data']}\")\n",
    "    print(f\"Panne : {query_result['first_panne']}\")\n",
    "except Exception as e:\n",
    "    print(f\"Erreur lors de la récupération des données : {e}\")\n"
   ]
  },
  {
   "cell_type": "code",
   "execution_count": 66,
   "id": "64ac5e20",
   "metadata": {},
   "outputs": [
    {
     "name": "stdout",
     "output_type": "stream",
     "text": [
      "Moins de deux enregistrements dans la table.\n"
     ]
    }
   ],
   "source": [
    "# Récupérer les deux derniers enregistrements par index\n",
    "try:\n",
    "    query_result = train_table.query(\n",
    "        aggs={\n",
    "            \"last_two_indices\": [\"last\", \"index\"],\n",
    "            \"last_two_timestamps\": [\"last\", \"timestamp\"],\n",
    "            \"last_two_sensor_data\": [\"last\", \"sensor_data\"],\n",
    "            \"last_two_pannes\": [\"last\", \"panne\"]\n",
    "        }\n",
    "    )\n",
    "    \n",
    "    # Extraire l'avant-dernier enregistrement (le 2ème plus grand index)\n",
    "    if len(query_result[\"last_two_indices\"]) >= 2:\n",
    "        print(\"Avant-dernier enregistrement :\")\n",
    "        print(f\"Index : {query_result['last_two_indices'][-2]}\")  # Avant-dernier index\n",
    "        print(f\"Timestamp : {query_result['last_two_timestamps'][-2]}\")\n",
    "        print(f\"Sensor Data : {query_result['last_two_sensor_data'][-2]}\")\n",
    "        print(f\"Panne : {query_result['last_two_pannes'][-2]}\")\n",
    "    else:\n",
    "        print(\"Moins de deux enregistrements dans la table.\")\n",
    "except Exception as e:\n",
    "    print(f\"Erreur lors de la récupération de l'avant-dernier enregistrement : {e}\")\n"
   ]
  },
  {
   "cell_type": "code",
   "execution_count": 72,
   "id": "57d86f0a",
   "metadata": {},
   "outputs": [
    {
     "name": "stdout",
     "output_type": "stream",
     "text": [
      "Troisième enregistrement localement :\n",
      "Erreur lors de la récupération des données : single positional indexer is out-of-bounds\n"
     ]
    }
   ],
   "source": [
    "# Télécharger les premières lignes localement\n",
    "try:\n",
    "    query_result = train_table.query(\n",
    "        aggs={\n",
    "            \"index\": [\"first\", \"index\"],\n",
    "            \"timestamp\": [\"first\", \"timestamp\"],\n",
    "            \"sensor_data\": [\"first\", \"sensor_data\"],\n",
    "            \"panne\": [\"first\", \"panne\"]\n",
    "        }\n",
    "    )\n",
    "\n",
    "    # Convertir en DataFrame pour un traitement local\n",
    "    import pandas as pd\n",
    "    df = pd.DataFrame(query_result)\n",
    "\n",
    "    # Accéder au 3ème enregistrement\n",
    "    print(\"Troisième enregistrement localement :\")\n",
    "    print(df.iloc[2])  # 3ème ligne (index commence à 0)\n",
    "except Exception as e:\n",
    "    print(f\"Erreur lors de la récupération des données : {e}\")\n"
   ]
  },
  {
   "cell_type": "code",
   "execution_count": 77,
   "id": "9cee64fb",
   "metadata": {},
   "outputs": [
    {
     "name": "stdout",
     "output_type": "stream",
     "text": [
      "Les 10 premiers enregistrements :\n",
      "   index  timestamp                                        sensor_data  panne\n",
      "0      0 2020-02-02  [1.391000000000001, 0.0376599999999999, 52.855...      0\n"
     ]
    }
   ],
   "source": [
    "import pandas as pd\n",
    "\n",
    "# Récupérer les 10 premiers enregistrements de la table\n",
    "try:\n",
    "    query_result = train_table.query(\n",
    "        aggs={\n",
    "            \"indices\": [\"first\", \"index\"],\n",
    "            \"timestamps\": [\"first\", \"timestamp\"],\n",
    "            \"sensor_data\": [\"first\", \"sensor_data\"],\n",
    "            \"pannes\": [\"first\", \"panne\"]\n",
    "        }\n",
    "    )\n",
    "\n",
    "    # Vérifier si des données sont retournées\n",
    "    if len(query_result[\"indices\"]) >= 1:\n",
    "        # Créer le DataFrame avec les 10 premiers enregistrements\n",
    "        df2 = pd.DataFrame({\n",
    "            \"index\": query_result[\"indices\"][:1],\n",
    "            \"timestamp\": query_result[\"timestamps\"][:1],\n",
    "            \"sensor_data\": query_result[\"sensor_data\"][:1],\n",
    "            \"panne\": query_result[\"pannes\"][:1]\n",
    "        })\n",
    "\n",
    "        # Afficher le DataFrame\n",
    "        print(\"Les 10 premiers enregistrements :\")\n",
    "        print(df2)\n",
    "    else:\n",
    "        print(\"La table contient moins de 10 enregistrements.\")\n",
    "except Exception as e:\n",
    "    print(f\"Erreur lors de la récupération des données : {e}\")\n"
   ]
  },
  {
   "cell_type": "code",
   "execution_count": null,
   "id": "a6101549",
   "metadata": {},
   "outputs": [],
   "source": []
  },
  {
   "cell_type": "code",
   "execution_count": null,
   "id": "6111a75a",
   "metadata": {},
   "outputs": [],
   "source": []
  },
  {
   "cell_type": "code",
   "execution_count": null,
   "id": "ae50f934",
   "metadata": {},
   "outputs": [],
   "source": []
  },
  {
   "cell_type": "code",
   "execution_count": null,
   "id": "07e0b544",
   "metadata": {},
   "outputs": [],
   "source": []
  },
  {
   "cell_type": "code",
   "execution_count": null,
   "id": "9a3f0aeb",
   "metadata": {},
   "outputs": [],
   "source": []
  },
  {
   "cell_type": "code",
   "execution_count": 73,
   "id": "d40cb6de",
   "metadata": {},
   "outputs": [
    {
     "name": "stdout",
     "output_type": "stream",
     "text": [
      "Nombre total d'enregistrements dans la table : 0    947500\n",
      "Name: row_count, dtype: int64\n"
     ]
    }
   ],
   "source": [
    "# Vérifier le nombre total d'enregistrements\n",
    "try:\n",
    "    aggs = {\"row_count\": [\"count\", \"index\"]}\n",
    "    query_result = train_table.query(aggs=aggs)\n",
    "    print(f\"Nombre total d'enregistrements dans la table : {query_result['row_count']}\")\n",
    "except Exception as e:\n",
    "    print(f\"Erreur lors de la vérification du nombre d'enregistrements : {e}\")\n"
   ]
  },
  {
   "cell_type": "code",
   "execution_count": null,
   "id": "b71b8d8a",
   "metadata": {},
   "outputs": [],
   "source": []
  },
  {
   "cell_type": "code",
   "execution_count": null,
   "id": "b3e431ef",
   "metadata": {},
   "outputs": [],
   "source": [
    "################################################################\n",
    "#### Prédiction des Pannes pour l'Ensemble de Test Basée    ####\n",
    "#### Sur le Vote Majoritaire dans l'Ensemble d'Entrainement ####\n",
    "################################################################\n",
    "    \n",
    "#################################################################################################################\n",
    "### Distance Euclidienne (𝐿2)\n",
    "### Les valeurs de nos vecteurs sont numériques ce qui convient parfaitement à la distance Euclidienne.    ######\n",
    "### L'algorithme interprète les vecteurs comme des points dans un espace multidimensionnel, et la distance ######\n",
    "### Euclidienne mesure la \"proximité\" géométrique entre ces points.\n",
    "### Mesures Alternatives :\n",
    "### Distance de Manhattan (L1), Distance de Hamming\n",
    "##################################################################################################################\n",
    "\n",
    "\n",
    "# Initialiser une liste pour stocker les résultats\n",
    "results = []\n",
    "\n",
    "# Parcourir toutes les fenêtres de test\n",
    "for i, test_window in tqdm(enumerate(test_windows), total=len(test_windows)):\n",
    "    # Récupérer le vecteur de test\n",
    "    query_vector = test_window[\"sensor_data\"]\n",
    "\n",
    "    try:\n",
    "        # Recherche vectorielle\n",
    "        results_vector = train_table.search(\n",
    "            vectors={\"flat_index\": [query_vector]},\n",
    "            n=5  # Trouver les 5 motifs les plus similaires\n",
    "        )\n",
    "\n",
    "        # Extraire les valeurs de panne des motifs similaires\n",
    "        similar_pannes = [result[\"panne\"] for result in results_vector[0]]\n",
    "\n",
    "        # Prédiction par vote majoritaire\n",
    "        predicted_panne = max(set(similar_pannes), key=similar_pannes.count)\n",
    "\n",
    "        # Ajouter les résultats à la liste\n",
    "        results.append({\n",
    "            \"fenêtre\": i,\n",
    "            \"prédiction\": predicted_panne,\n",
    "            \"réelle\": test_window['panne']\n",
    "        })\n",
    "\n",
    "    except Exception as e:\n",
    "        print(f\"Erreur lors de la prédiction pour la fenêtre {i}: {e}\")\n",
    "\n",
    "# Créer un DataFrame avec les résultats\n",
    "results_df = pd.DataFrame(results)\n",
    "\n",
    "# Calculer la précision globale\n",
    "accuracy = (results_df[\"prédiction\"] == results_df[\"réelle\"]).mean()\n",
    "\n",
    "# Compter les fenêtres par classe prédite\n",
    "class_counts = results_df[\"prédiction\"].value_counts()\n",
    "\n",
    "# Afficher les résultats\n",
    "print(f\"Précision globale sur l'ensemble de test : {accuracy:.2%}\")\n",
    "print(f\"Nombre total de fenêtres testées : {len(results_df)}\")\n",
    "print(\"\\nPrédictions par classe :\")\n",
    "print(class_counts)\n",
    "\n",
    "# Afficher le DataFrame\n",
    "import ace_tools as tools; tools.display_dataframe_to_user(name=\"Résultats de Prédictions des Fenêtres\", dataframe=results_df)\n",
    "\n"
   ]
  },
  {
   "cell_type": "code",
   "execution_count": null,
   "id": "1fe73968",
   "metadata": {},
   "outputs": [],
   "source": [
    "################################################################\n",
    "#### Prédiction des Pannes pour l'Ensemble de Test Basée    ####\n",
    "#### Sur le Vote Majoritaire dans l'Ensemble d'Entrainement ####\n",
    "################################################################\n",
    "\n",
    "# Parcourir toutes les fenêtres de test\n",
    "for i, test_window in enumerate(test_windows):\n",
    "    # Récupérer le vecteur de test\n",
    "    query_vector = test_window[\"sensor_data\"]\n",
    "\n",
    "    # Recherche vectorielle\n",
    "    results = train_table.search(\n",
    "        vectors={\"flat_index\": [query_vector]},\n",
    "        n=5  # Trouver les 5 motifs les plus similaires\n",
    "    )\n",
    "\n",
    "    # Extraire les valeurs de panne des motifs similaires\n",
    "    similar_pannes = results[0][\"panne\"].tolist()\n",
    "\n",
    "    # Prédiction par majorité\n",
    "    predicted_panne = max(set(similar_pannes), key=similar_pannes.count)\n",
    "\n",
    "    # Affichage simple\n",
    "    print(f\"Fenêtre {i +} - Prédiction : {predicted_panne} - Valeur de Test : {test_window['panne']}\")\n"
   ]
  },
  {
   "cell_type": "code",
   "execution_count": null,
   "id": "44363ff4",
   "metadata": {},
   "outputs": [],
   "source": [
    "# Indice de la fenêtre 11 (les indices Python commencent à 0)\n",
    "window_index = 10   # Fenêtre 622 correspond à l'index 621\n",
    "\n",
    "# Récupérer les informations de la fenêtre\n",
    "window_11 = test_windows[window_index]\n",
    "\n",
    "# Affichage des détails\n",
    "print(f\"Fenêtre 11 : {window_11}\")"
   ]
  },
  {
   "cell_type": "code",
   "execution_count": null,
   "id": "6c287bc1",
   "metadata": {},
   "outputs": [],
   "source": []
  },
  {
   "cell_type": "code",
   "execution_count": 8,
   "id": "8d290f2e",
   "metadata": {},
   "outputs": [
    {
     "name": "stdout",
     "output_type": "stream",
     "text": [
      "Table 'train_sensors' supprimée avec succès.\n",
      "Table 'test_sensors' supprimée avec succès.\n"
     ]
    }
   ],
   "source": [
    "##################################\n",
    "###### SUPPRIMER LES TABLES ######\n",
    "##################################\n",
    "# Accéder aux tables existantes\n",
    "train_table = db.table(\"train_sensors\")\n",
    "\n",
    "# Supprimer mes 2 tables\n",
    "try:\n",
    "    train_table.drop()\n",
    "    print(\"Table 'train_sensors' supprimée avec succès.\")\n",
    "    print(\"Table 'test_sensors' supprimée avec succès.\")\n",
    "except Exception as e:\n",
    "    print(f\"Erreur lors de la suppression de 'train_sensors' : {e}\")"
   ]
  },
  {
   "cell_type": "markdown",
   "id": "9b339734",
   "metadata": {},
   "source": [
    "<h3 style=\"text-align: center; font-family: Arial, sans-serif; color: BLUE;\">################# QUELQUES VALIDATIONS #################</h3>\n",
    "<ul style=\"font-family: Arial, sans-serif; font-size: 12pt; color: #333;\">\n",
    "</ul>"
   ]
  },
  {
   "cell_type": "code",
   "execution_count": null,
   "id": "cfc17416",
   "metadata": {
    "scrolled": false
   },
   "outputs": [],
   "source": [
    "print(f\"Premiere fenetre train:\\n{train_windows[0]}\")"
   ]
  },
  {
   "cell_type": "code",
   "execution_count": null,
   "id": "655b7a95",
   "metadata": {},
   "outputs": [],
   "source": [
    "aggs = {\n",
    "    \"row_count\": [\"count\", \"index\"],\n",
    "    \"min_timestamp\": [\"min\", \"timestamp\"],\n",
    "    \"max_timestamp\": [\"max\", \"timestamp\"],\n",
    "}\n",
    "\n",
    "query_result = train_table.query(aggs=aggs)\n",
    "print(f\"Nombre de lignes : {query_result['row_count']}\")\n",
    "print(f\"Timestamp minimum : {query_result['min_timestamp']}\")\n",
    "print(f\"Timestamp maximum : {query_result['max_timestamp']}\")"
   ]
  },
  {
   "cell_type": "code",
   "execution_count": null,
   "id": "a881a161",
   "metadata": {},
   "outputs": [],
   "source": [
    "# Comparer les timestamps entre train_df et KDB.ai\n",
    "db_timestamps = pd.date_range(start=\"2020-04-17 21:30:00\", end=\"2020-04-18 23:58:30\", freq=\"10s\")\n",
    "missing_timestamps = train_df[~train_df[\"timestamp\"].isin(db_timestamps)]\n",
    "\n",
    "print(f\"Lignes manquantes dans la base : {len(missing_timestamps)}\")\n",
    "print(missing_timestamps)\n"
   ]
  },
  {
   "cell_type": "code",
   "execution_count": null,
   "id": "f3621722",
   "metadata": {},
   "outputs": [],
   "source": [
    "# Préparer les lignes manquantes pour l'insertion\n",
    "missing_rows = []\n",
    "for row in missing_timestamps.itertuples(index=True, name=\"Row\"):\n",
    "    missing_rows.append({\n",
    "        \"index\": row.Index,  # Utiliser l'index fourni par itertuples\n",
    "        \"timestamp\": row.timestamp,\n",
    "        \"sensor_data\": list(row[2:])  # Inclure les colonnes numériques sous forme de liste\n",
    "    })\n",
    "\n",
    "# Insérer les données manquantes dans la table train_sensors\n",
    "batch_size = 10  # Taille du batch pour l'insertion\n",
    "print(f\"Réinsertion des {len(missing_rows)} lignes manquantes...\")\n",
    "\n",
    "for i in range(0, len(missing_rows), batch_size):\n",
    "    batch = missing_rows[i:i + batch_size]\n",
    "    try:\n",
    "        train_table.insert(batch)\n",
    "        print(f\"Batch {i // batch_size + 1}/{-(-len(missing_rows) // batch_size)} inséré avec succès.\")\n",
    "    except Exception as e:\n",
    "        print(f\"Erreur lors de l'insertion du batch {i // batch_size + 1} : {e}\")\n",
    "\n",
    "print(\"Réinsertion des données manquantes terminée.\")\n"
   ]
  },
  {
   "cell_type": "code",
   "execution_count": null,
   "id": "57a0fd1a",
   "metadata": {},
   "outputs": [],
   "source": [
    "# Vérifiez les colonnes utilisées pour la création de sensor_data\n",
    "numeric_columns = [\"TP2\", \"DV_pressure\", \"Oil_temperature\", \"Motor_current\", \"Reservoirs\"]  # Exemple\n",
    "print(\"Colonnes utilisées pour sensor_data :\", numeric_columns)\n",
    "\n",
    "# Préparer les lignes manquantes pour l'insertion\n",
    "missing_rows = []\n",
    "for row in missing_timestamps.itertuples(index=True, name=\"Row\"):\n",
    "    # Vérifiez les données avant de les ajouter\n",
    "    try:\n",
    "        sensor_data = [getattr(row, col) for col in numeric_columns]  # Extraire les colonnes nécessaires\n",
    "        missing_rows.append({\n",
    "            \"index\": row.Index,  # Utiliser l'index fourni par itertuples\n",
    "            \"timestamp\": row.timestamp,\n",
    "            \"sensor_data\": sensor_data  # Liste de données numériques\n",
    "        })\n",
    "    except AttributeError as e:\n",
    "        print(f\"Erreur lors de la préparation des données pour l'index {row.Index} : {e}\")\n",
    "\n",
    "# Réinsertion dans la base\n",
    "batch_size = 10\n",
    "print(f\"Réinsertion des {len(missing_rows)} lignes manquantes...\")\n",
    "\n",
    "for i in range(0, len(missing_rows), batch_size):\n",
    "    batch = missing_rows[i:i + batch_size]\n",
    "    try:\n",
    "        train_table.insert(batch)\n",
    "        print(f\"Batch {i // batch_size + 1}/{-(-len(missing_rows) // batch_size)} inséré avec succès.\")\n",
    "    except Exception as e:\n",
    "        print(f\"Erreur lors de l'insertion du batch {i // batch_size + 1} : {e}\")\n",
    "\n",
    "print(\"Réinsertion des données manquantes terminée.\")\n"
   ]
  },
  {
   "cell_type": "code",
   "execution_count": null,
   "id": "1b8b5a61",
   "metadata": {},
   "outputs": [],
   "source": [
    "# Vérification des dimensions de chaque vecteur avant l'insertion\n",
    "expected_length = 500  # Longueur attendue des vecteurs\n",
    "\n",
    "invalid_vectors = []\n",
    "for row in missing_rows:\n",
    "    if len(row[\"sensor_data\"]) != expected_length:\n",
    "        invalid_vectors.append(row)\n",
    "\n",
    "# Si des vecteurs invalides sont trouvés, les afficher\n",
    "if invalid_vectors:\n",
    "    print(f\"Vecteurs invalides détectés : {len(invalid_vectors)}\")\n",
    "    for idx, invalid_row in enumerate(invalid_vectors[:5]):  # Afficher les 5 premiers vecteurs invalides\n",
    "        print(f\"Index : {invalid_row['index']}, Longueur : {len(invalid_row['sensor_data'])}\")\n",
    "else:\n",
    "    print(\"Tous les vecteurs ont la bonne dimension.\")\n",
    "\n",
    "# Réinsertion uniquement des vecteurs valides\n",
    "valid_rows = [row for row in missing_rows if len(row[\"sensor_data\"]) == expected_length]\n",
    "\n",
    "print(f\"Réinsertion des {len(valid_rows)} lignes valides...\")\n",
    "for i in range(0, len(valid_rows), batch_size):\n",
    "    batch = valid_rows[i:i + batch_size]\n",
    "    try:\n",
    "        train_table.insert(batch)\n",
    "        print(f\"Batch {i // batch_size + 1}/{-(-len(valid_rows) // batch_size)} inséré avec succès.\")\n",
    "    except Exception as e:\n",
    "        print(f\"Erreur lors de l'insertion du batch {i // batch_size + 1} : {e}\")\n",
    "\n",
    "print(\"Réinsertion des données valides terminée.\")\n"
   ]
  },
  {
   "cell_type": "code",
   "execution_count": null,
   "id": "ca4eb458",
   "metadata": {},
   "outputs": [],
   "source": [
    "# Taille réelle de la première fenêtre\n",
    "print(f\"Taille des données dans la première fenêtre d'entraînement : {len(train_windows[0]['sensor_data'])}\")\n",
    "print(f\"Taille des données dans la première fenêtre de test : {len(test_windows[0]['sensor_data'])}\")\n",
    "\n",
    "# Cela correspond à window_size (100) × nombre de colonnes (numeric_columns, soit 5).\n",
    "\n",
    "print('--------------------------------')\n",
    "# Vérifier la taille des fenêtres générées\n",
    "for i in range(5):  # Tester sur les 5 premières fenêtres\n",
    "    actual_window = train_df.iloc[i:i + window_size][numeric_columns]\n",
    "    print(f\"Fenêtre {i} - Taille réelle : {len(actual_window)}\")\n",
    "    "
   ]
  },
  {
   "cell_type": "code",
   "execution_count": null,
   "id": "7f0d2d6d",
   "metadata": {},
   "outputs": [],
   "source": [
    "# Initialiser des compteurs pour détecter les erreurs\n",
    "invalid_index_count = 0\n",
    "invalid_timestamp_count = 0\n",
    "invalid_sensor_data_count = 0\n",
    "\n",
    "# Parcourir toutes les fenêtres pour vérifier les types et formats\n",
    "for i, window in enumerate(train_windows):\n",
    "    # Vérifier l'index\n",
    "    if not isinstance(window['index'], int):\n",
    "        print(f\"Fenêtre {i} : 'index' non valide ({type(window['index'])})\")\n",
    "        invalid_index_count += 1\n",
    "    \n",
    "    # Vérifier le timestamp\n",
    "    try:\n",
    "        pd.Timestamp(window['timestamp'])  # Vérifie si le timestamp est convertible\n",
    "    except Exception as e:\n",
    "        print(f\"Fenêtre {i} : 'timestamp' non valide ({window['timestamp']})\")\n",
    "        invalid_timestamp_count += 1\n",
    "    \n",
    "    # Vérifier sensor_data\n",
    "    if not isinstance(window['sensor_data'], list) or len(window['sensor_data']) != 500:\n",
    "        print(f\"Fenêtre {i} : 'sensor_data' non valide (Longueur : {len(window['sensor_data'])})\")\n",
    "        invalid_sensor_data_count += 1\n",
    "    elif not all(isinstance(value, float) for value in window['sensor_data']):\n",
    "        print(f\"Fenêtre {i} : 'sensor_data' contient des valeurs non flottantes.\")\n",
    "        invalid_sensor_data_count += 1\n",
    "\n",
    "# Résumé des erreurs détectées\n",
    "print(f\"Erreurs dans 'index' : {invalid_index_count}\")\n",
    "print(f\"Erreurs dans 'timestamp' : {invalid_timestamp_count}\")\n",
    "print(f\"Erreurs dans 'sensor_data' : {invalid_sensor_data_count}\")"
   ]
  },
  {
   "cell_type": "code",
   "execution_count": null,
   "id": "89cde4d2",
   "metadata": {},
   "outputs": [],
   "source": [
    "# Tester l'insertion avec un petit lot\n",
    "\n",
    "# Schéma pour les tables\n",
    "sensor_schema = [\n",
    "    {\"name\": \"index\", \"type\": \"int64\"},               # Identifiant unique\n",
    "    {\"name\": \"timestamp\", \"type\": \"datetime64[ns]\"}, # Timestamp\n",
    "    {\"name\": \"sensor_data\", \"type\": \"float64s\"}      # Données vectorielles\n",
    "]\n",
    "\n",
    "# Index pour la recherche vectorielle\n",
    "indexes = [\n",
    "    {\n",
    "        \"name\": \"flat_index\",\n",
    "        \"type\": \"flat\",\n",
    "        \"column\": \"sensor_data\",\n",
    "        \"params\": {\"metric\": \"L2\",\"dims\": 500}\n",
    "    }\n",
    "]\n",
    "\n",
    "# Créer les tables\n",
    "train_table = db.create_table(\"train_sensors\", schema=sensor_schema, indexes=indexes)\n",
    "test_table = db.create_table(\"test_sensors\", schema=sensor_schema, indexes=indexes)\n",
    "\n",
    "\n",
    "single_window = [train_windows[0]]  # Utiliser uniquement la première fenêtre\n",
    "try:\n",
    "    train_table.insert(single_window)\n",
    "    print(\"Insertion réussie pour une seule fenêtre.\")\n",
    "except Exception as e:\n",
    "    print(f\"Erreur lors de l'insertion d'une seule fenêtre : {e}\")"
   ]
  },
  {
   "cell_type": "code",
   "execution_count": null,
   "id": "6c18cc1a",
   "metadata": {},
   "outputs": [],
   "source": [
    "from datetime import datetime\n",
    "\n",
    "try:\n",
    "    datetime.fromisoformat(single_window[0]['timestamp'])\n",
    "    print(\"Le format du timestamp est correct.\")\n",
    "except ValueError as e:\n",
    "    print(f\"Problème avec le format du timestamp : {e}\")\n"
   ]
  },
  {
   "cell_type": "code",
   "execution_count": null,
   "id": "cf6cfde3",
   "metadata": {},
   "outputs": [],
   "source": [
    "for value in single_window[0]['sensor_data']:\n",
    "    if not isinstance(value, float):\n",
    "        print(f\"Problème détecté : {value} de type {type(value)}\")\n"
   ]
  },
  {
   "cell_type": "code",
   "execution_count": null,
   "id": "3027d163",
   "metadata": {},
   "outputs": [],
   "source": [
    "if len(single_window[0]['sensor_data']) != 500:\n",
    "    print(\"La longueur de sensor_data n'est pas correcte.\")\n"
   ]
  },
  {
   "cell_type": "code",
   "execution_count": null,
   "id": "a99a1f6c",
   "metadata": {},
   "outputs": [],
   "source": [
    "print(\"Schéma de la table :\")\n",
    "print(train_table.schema)\n"
   ]
  },
  {
   "cell_type": "code",
   "execution_count": null,
   "id": "09306af0",
   "metadata": {},
   "outputs": [],
   "source": [
    "from datetime import datetime\n",
    "\n",
    "for window in train_windows:\n",
    "    window['timestamp'] = datetime.fromisoformat(window['timestamp'])\n"
   ]
  },
  {
   "cell_type": "code",
   "execution_count": null,
   "id": "7e081c3c",
   "metadata": {},
   "outputs": [],
   "source": [
    "train_table.query(limit=5)  # Affiche les 5 premières lignes\n"
   ]
  },
  {
   "cell_type": "code",
   "execution_count": null,
   "id": "93d40933",
   "metadata": {},
   "outputs": [],
   "source": [
    "test_row_count = test_table.query(aggs=aggs)\n",
    "print(f\"Lignes stockées dans la table de test : {test_row_count}\")\n"
   ]
  },
  {
   "cell_type": "code",
   "execution_count": null,
   "id": "582efcc1",
   "metadata": {},
   "outputs": [],
   "source": [
    "# Afficher le contenu du lot envoyé pour inspection\n",
    "print(\"Contenu du lot de test :\")\n",
    "for i, window in enumerate(test_batch):\n",
    "    print(f\"Fenêtre {i}: {window}\")\n"
   ]
  },
  {
   "cell_type": "code",
   "execution_count": null,
   "id": "35129c43",
   "metadata": {},
   "outputs": [],
   "source": [
    "# Vérification approfondie des valeurs\n",
    "for i, window in enumerate(test_batch):\n",
    "    if not all(isinstance(v, float) and not (np.isnan(v) or np.isinf(v)) for v in window['sensor_data']):\n",
    "        print(f\"Fenêtre {i} contient des valeurs invalides.\")\n"
   ]
  },
  {
   "cell_type": "code",
   "execution_count": null,
   "id": "284723a6",
   "metadata": {},
   "outputs": [],
   "source": [
    "# Remplacer les valeurs invalides par une valeur par défaut (ex. : 0.0)\n",
    "for window in train_windows:\n",
    "    window['sensor_data'] = [\n",
    "        0.0 if (np.isnan(v) or np.isinf(v)) else v\n",
    "        for v in window['sensor_data']\n",
    "    ]\n"
   ]
  },
  {
   "cell_type": "code",
   "execution_count": null,
   "id": "ab304785",
   "metadata": {},
   "outputs": [],
   "source": [
    "# Vérifier la structure des 5 premières fenêtres\n",
    "for window in train_windows[:5]:\n",
    "    print(f\"Index : {window['index']}\")\n",
    "    print(f\"Timestamp : {window['timestamp']}\")\n",
    "    print(f\"Longueur de sensor_data : {len(window['sensor_data'])}\")\n",
    "    print(f\"Exemple de données : {window['sensor_data'][:5]}\")\n"
   ]
  },
  {
   "cell_type": "code",
   "execution_count": null,
   "id": "be5e6b3a",
   "metadata": {},
   "outputs": [],
   "source": [
    "# Vérification des longueurs des fenêtres\n",
    "for i, window in enumerate(train_windows):\n",
    "    if len(window['sensor_data']) != window_size * len(numeric_columns):\n",
    "        print(f\"Fenêtre {i} a une taille incorrecte : {len(window['sensor_data'])}\")\n",
    "print(\"Validation de la longueur des fenêtres terminée.\")"
   ]
  },
  {
   "cell_type": "code",
   "execution_count": null,
   "id": "19fe78de",
   "metadata": {},
   "outputs": [],
   "source": [
    "# Vérification de la continuité temporelle\n",
    "for i, window in enumerate(train_windows):\n",
    "    timestamps = train_df.iloc[window['index']:window['index'] + window_size]['timestamp']\n",
    "    time_diffs = timestamps.diff().dt.total_seconds().dropna()\n",
    "    if not all(time_diffs == 10):  # Vérifie si tous les gaps sont de 10 secondes\n",
    "        print(f\"Fenêtre {i} a des timestamps non consécutifs.\")\n",
    "print(\"Validation de la continuité temporelle terminée.\")"
   ]
  },
  {
   "cell_type": "code",
   "execution_count": null,
   "id": "d9d5a665",
   "metadata": {},
   "outputs": [],
   "source": [
    "# Exemple : Vérifier la réponse brute\n",
    "response = train_table.insert(train_windows[:5])\n",
    "print(\"Réponse brute :\", response)"
   ]
  },
  {
   "cell_type": "code",
   "execution_count": null,
   "id": "cc1bc360",
   "metadata": {},
   "outputs": [],
   "source": [
    "print(db.tables)"
   ]
  },
  {
   "cell_type": "code",
   "execution_count": null,
   "id": "8ea27738",
   "metadata": {},
   "outputs": [],
   "source": [
    "# Requête pour compter les lignes dans une table\n",
    "train_row_count = db.query(\"SELECT COUNT(*) AS row_count FROM train_sensors\").iloc[0]['row_count']\n",
    "print(f\"Lignes stockées dans la table d'entraînement : {train_row_count}\")\n",
    "\n",
    "test_row_count = db.query(\"SELECT COUNT(*) AS row_count FROM test_sensors\").iloc[0]['row_count']\n",
    "print(f\"Lignes stockées dans la table de test : {test_row_count}\")\n"
   ]
  },
  {
   "cell_type": "code",
   "execution_count": null,
   "id": "b880403e",
   "metadata": {},
   "outputs": [],
   "source": [
    "# Afficher toutes les méthodes et attributs de l'objet db\n",
    "print(dir(db.tables))"
   ]
  },
  {
   "cell_type": "code",
   "execution_count": null,
   "id": "63e5598a",
   "metadata": {},
   "outputs": [],
   "source": [
    "# Afficher toutes les méthodes et attributs de l'objet train_table\n",
    "print(dir(train_table))"
   ]
  },
  {
   "cell_type": "code",
   "execution_count": null,
   "id": "eef12454",
   "metadata": {},
   "outputs": [],
   "source": [
    "# Obtenir les détails sur la méthode query\n",
    "help(train_table.query)"
   ]
  },
  {
   "cell_type": "code",
   "execution_count": null,
   "id": "b33b4cb7",
   "metadata": {},
   "outputs": [],
   "source": [
    "# Définir l'agrégation pour compter les lignes\n",
    "aggs = {'row_count': ['count', 'index']}  # Compte le nombre de lignes en utilisant la colonne 'index'\n",
    "\n",
    "# Effectuer la requête pour compter les lignes\n",
    "train_row_count = train_table.query(aggs=aggs)\n",
    "print(f\"Lignes stockées dans la table d'entraînement : {train_row_count}\")\n"
   ]
  },
  {
   "cell_type": "code",
   "execution_count": null,
   "id": "74e0916d",
   "metadata": {},
   "outputs": [],
   "source": [
    "# Parametres des fenetres temporelles\n",
    "window_size = 100  # Taille de la fenetre\n",
    "step_size = 1      # Pas de glissement\n",
    "numeric_columns = [\"TP2\", \"DV_pressure\", \"Oil_temperature\", \"Motor_current\", \"Reservoirs\"]\n",
    "\n",
    "# Générer les fenetres pour l'entrainement\n",
    "train_windows = [\n",
    "    {\n",
    "        \"index\": i,\n",
    "        \"timestamp\": train_df.iloc[i][\"timestamp\"],\n",
    "        \"sensor_data\": train_df.iloc[i:i + window_size][numeric_columns].values.flatten().tolist()\n",
    "    }\n",
    "    for i in range(0, len(train_df) - window_size + 1, step_size)\n",
    "]\n",
    "\n",
    "# Générer les fenetres pour le test\n",
    "test_windows = [\n",
    "    {\n",
    "        \"index\": i,\n",
    "        \"timestamp\": test_df.iloc[i][\"timestamp\"],\n",
    "        \"sensor_data\": test_df.iloc[i:i + window_size][numeric_columns].values.flatten().tolist()\n",
    "    }\n",
    "    for i in range(0, len(test_df) - window_size + 1, step_size)\n",
    "]\n",
    "\n",
    "print(f\"Fenêtres d'entraînement : {len(train_windows)}\")\n",
    "print(f\"Fenêtres de test : {len(test_windows)}\")\n"
   ]
  },
  {
   "cell_type": "code",
   "execution_count": null,
   "id": "e99f9227",
   "metadata": {
    "scrolled": true
   },
   "outputs": [],
   "source": [
    "from sklearn.decomposition import PCA\n",
    "\n",
    "numeric_columns = [\"TP2\", \"DV_pressure\", \"Oil_temperature\", \"Motor_current\", \"Reservoirs\"]\n",
    "\n",
    "# Construire les vecteurs pour chaque fenetre (numeric_columns)\n",
    "window_vectors = np.array([\n",
    "    window[numeric_columns].values.flatten() for window in windows\n",
    "])\n",
    "\n",
    "# Appliquer PCA pour réduire la dimensionnalité\n",
    "pca = PCA(n_components=8)  # Réduire a 8 dimensions\n",
    "compressed_vectors = pca.fit_transform(window_vectors)\n",
    "\n",
    "print(f\"Dimensions des vecteurs compressés : {compressed_vectors.shape}\")\n",
    "print(f\"Vecteur compressé pour la première fenêtre : {compressed_vectors[0]}\")"
   ]
  }
 ],
 "metadata": {
  "kernelspec": {
   "display_name": "Python 3 (ipykernel)",
   "language": "python",
   "name": "python3"
  },
  "language_info": {
   "codemirror_mode": {
    "name": "ipython",
    "version": 3
   },
   "file_extension": ".py",
   "mimetype": "text/x-python",
   "name": "python",
   "nbconvert_exporter": "python",
   "pygments_lexer": "ipython3",
   "version": "3.10.9"
  }
 },
 "nbformat": 4,
 "nbformat_minor": 5
}
