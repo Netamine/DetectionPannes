{
 "cells": [
  {
   "cell_type": "code",
   "execution_count": 1,
   "id": "1722a780-503f-4495-a60a-66ad4fc33f79",
   "metadata": {},
   "outputs": [
    {
     "name": "stdout",
     "output_type": "stream",
     "text": [
      "C:\\Users\\usermine\\Amine-Jupiter\\SESSION6\\tft\\env_tft\\Scripts\\python.exe\n",
      "C:\\Users\\usermine\\AppData\\Local\\Programs\\Python\\Python311\\python.exe\n",
      "C:\\Users\\usermine\\AppData\\Local\\Microsoft\\WindowsApps\\python.exe\n"
     ]
    }
   ],
   "source": [
    "!where python"
   ]
  },
  {
   "cell_type": "code",
   "execution_count": 1,
   "id": "dee6932e-169a-4b45-8d37-3c3aec965eb1",
   "metadata": {},
   "outputs": [],
   "source": [
    "import pandas as pd\n",
    "import numpy as np\n",
    "import matplotlib.pyplot as plt\n",
    "import torch\n",
    "from pytorch_forecasting import TimeSeriesDataSet, TemporalFusionTransformer\n",
    "from pytorch_forecasting.metrics import QuantileLoss\n",
    "from pytorch_lightning import Trainer\n",
    "from torch.utils.data import DataLoader\n",
    "from pytorch_lightning import LightningModule\n",
    "from pytorch_lightning.callbacks.early_stopping import EarlyStopping\n",
    "from pytorch_lightning.callbacks import ModelCheckpoint"
   ]
  },
  {
   "cell_type": "code",
   "execution_count": null,
   "id": "357e110a-22c3-4371-bd46-8777d7b42c3a",
   "metadata": {},
   "outputs": [],
   "source": [
    "print(\"PyTorch version:\", torch.__version__)\n",
    "print(\"CUDA available:\", torch.cuda.is_available())"
   ]
  },
  {
   "cell_type": "raw",
   "id": "6589ed0e-b677-44ae-a1cd-95dc8bec7a00",
   "metadata": {},
   "source": [
    "Ce code fonctionne avec ces versions de bibliotheques :\n",
    "PyTorch version: 2.5.1+cpu\n",
    "CUDA available: False"
   ]
  },
  {
   "cell_type": "code",
   "execution_count": 2,
   "id": "2bba523f-4861-4e71-9f36-fe49f55be022",
   "metadata": {},
   "outputs": [],
   "source": [
    "# Charger les données\n",
    "df = pd.read_csv(\"MetroPT3_imputed_final.csv\", delimiter=\",\", decimal=\".\", index_col=0)\n",
    "df.reset_index(drop=True, inplace=True)"
   ]
  },
  {
   "cell_type": "code",
   "execution_count": 3,
   "id": "122f091b-0b02-48e1-b50d-0498cb43d64a",
   "metadata": {},
   "outputs": [
    {
     "data": {
      "text/html": [
       "<div>\n",
       "<style scoped>\n",
       "    .dataframe tbody tr th:only-of-type {\n",
       "        vertical-align: middle;\n",
       "    }\n",
       "\n",
       "    .dataframe tbody tr th {\n",
       "        vertical-align: top;\n",
       "    }\n",
       "\n",
       "    .dataframe thead th {\n",
       "        text-align: right;\n",
       "    }\n",
       "</style>\n",
       "<table border=\"1\" class=\"dataframe\">\n",
       "  <thead>\n",
       "    <tr style=\"text-align: right;\">\n",
       "      <th></th>\n",
       "      <th>timestamp</th>\n",
       "      <th>TP2</th>\n",
       "      <th>DV_pressure</th>\n",
       "      <th>Oil_temperature</th>\n",
       "      <th>Motor_current</th>\n",
       "      <th>Reservoirs</th>\n",
       "      <th>panne</th>\n",
       "      <th>COMP</th>\n",
       "      <th>DV_eletric</th>\n",
       "      <th>Towers</th>\n",
       "    </tr>\n",
       "  </thead>\n",
       "  <tbody>\n",
       "    <tr>\n",
       "      <th>0</th>\n",
       "      <td>2020-02-01 00:00:00</td>\n",
       "      <td>-0.012</td>\n",
       "      <td>-0.024</td>\n",
       "      <td>53.600</td>\n",
       "      <td>0.0400</td>\n",
       "      <td>9.358</td>\n",
       "      <td>0</td>\n",
       "      <td>1.0</td>\n",
       "      <td>0.0</td>\n",
       "      <td>1.0</td>\n",
       "    </tr>\n",
       "    <tr>\n",
       "      <th>1</th>\n",
       "      <td>2020-02-01 00:00:10</td>\n",
       "      <td>-0.014</td>\n",
       "      <td>-0.022</td>\n",
       "      <td>53.675</td>\n",
       "      <td>0.0400</td>\n",
       "      <td>9.348</td>\n",
       "      <td>0</td>\n",
       "      <td>1.0</td>\n",
       "      <td>0.0</td>\n",
       "      <td>1.0</td>\n",
       "    </tr>\n",
       "    <tr>\n",
       "      <th>2</th>\n",
       "      <td>2020-02-01 00:00:20</td>\n",
       "      <td>-0.012</td>\n",
       "      <td>-0.022</td>\n",
       "      <td>53.600</td>\n",
       "      <td>0.0425</td>\n",
       "      <td>9.338</td>\n",
       "      <td>0</td>\n",
       "      <td>1.0</td>\n",
       "      <td>0.0</td>\n",
       "      <td>1.0</td>\n",
       "    </tr>\n",
       "    <tr>\n",
       "      <th>3</th>\n",
       "      <td>2020-02-01 00:00:30</td>\n",
       "      <td>-0.012</td>\n",
       "      <td>-0.022</td>\n",
       "      <td>53.425</td>\n",
       "      <td>0.0400</td>\n",
       "      <td>9.328</td>\n",
       "      <td>0</td>\n",
       "      <td>1.0</td>\n",
       "      <td>0.0</td>\n",
       "      <td>1.0</td>\n",
       "    </tr>\n",
       "    <tr>\n",
       "      <th>4</th>\n",
       "      <td>2020-02-01 00:00:40</td>\n",
       "      <td>-0.012</td>\n",
       "      <td>-0.022</td>\n",
       "      <td>53.475</td>\n",
       "      <td>0.0400</td>\n",
       "      <td>9.318</td>\n",
       "      <td>0</td>\n",
       "      <td>1.0</td>\n",
       "      <td>0.0</td>\n",
       "      <td>1.0</td>\n",
       "    </tr>\n",
       "  </tbody>\n",
       "</table>\n",
       "</div>"
      ],
      "text/plain": [
       "            timestamp    TP2  DV_pressure  Oil_temperature  Motor_current  \\\n",
       "0 2020-02-01 00:00:00 -0.012       -0.024           53.600         0.0400   \n",
       "1 2020-02-01 00:00:10 -0.014       -0.022           53.675         0.0400   \n",
       "2 2020-02-01 00:00:20 -0.012       -0.022           53.600         0.0425   \n",
       "3 2020-02-01 00:00:30 -0.012       -0.022           53.425         0.0400   \n",
       "4 2020-02-01 00:00:40 -0.012       -0.022           53.475         0.0400   \n",
       "\n",
       "   Reservoirs panne COMP DV_eletric Towers  \n",
       "0       9.358     0  1.0        0.0    1.0  \n",
       "1       9.348     0  1.0        0.0    1.0  \n",
       "2       9.338     0  1.0        0.0    1.0  \n",
       "3       9.328     0  1.0        0.0    1.0  \n",
       "4       9.318     0  1.0        0.0    1.0  "
      ]
     },
     "metadata": {},
     "output_type": "display_data"
    }
   ],
   "source": [
    "# Convertir la colonne 'timestamp' en type datetime\n",
    "df['timestamp'] = pd.to_datetime(df['timestamp'])\n",
    "\n",
    "# Définir les colonnes continues et catégoriques pour l'entrainement\n",
    "continuous_features = [\"TP2\", \"DV_pressure\", \"Oil_temperature\", \"Motor_current\", \"Reservoirs\"]\n",
    "categorical_features = [\"COMP\", \"DV_eletric\", \"Towers\"]\n",
    "\n",
    "# Convertir les colonnes catégoriques en type \"category\"\n",
    "for col in categorical_features:\n",
    "    df[col] = df[col].astype('category')\n",
    "\n",
    "# Convertir la colonne 'panne' en type category\n",
    "df['panne'] = df['panne'].astype('category')\n",
    "\n",
    "# Liste des colonnes nécessaires\n",
    "columns_to_keep = [\"timestamp\"] + continuous_features + [\"panne\"] + categorical_features\n",
    "\n",
    "# Réduire le DataFrame\n",
    "df = df[columns_to_keep]\n",
    "\n",
    "# Afficher les premières lignes pour vérifier\n",
    "display(df.head())"
   ]
  },
  {
   "cell_type": "code",
   "execution_count": 4,
   "id": "dedfd480-5afd-437a-ac88-b2f66e414727",
   "metadata": {},
   "outputs": [
    {
     "data": {
      "text/html": [
       "<div>\n",
       "<style scoped>\n",
       "    .dataframe tbody tr th:only-of-type {\n",
       "        vertical-align: middle;\n",
       "    }\n",
       "\n",
       "    .dataframe tbody tr th {\n",
       "        vertical-align: top;\n",
       "    }\n",
       "\n",
       "    .dataframe thead th {\n",
       "        text-align: right;\n",
       "    }\n",
       "</style>\n",
       "<table border=\"1\" class=\"dataframe\">\n",
       "  <thead>\n",
       "    <tr style=\"text-align: right;\">\n",
       "      <th></th>\n",
       "      <th>timestamp</th>\n",
       "      <th>TP2</th>\n",
       "      <th>DV_pressure</th>\n",
       "      <th>Oil_temperature</th>\n",
       "      <th>Motor_current</th>\n",
       "      <th>Reservoirs</th>\n",
       "      <th>panne</th>\n",
       "      <th>COMP</th>\n",
       "      <th>DV_eletric</th>\n",
       "      <th>Towers</th>\n",
       "      <th>time_idx</th>\n",
       "      <th>group_id</th>\n",
       "    </tr>\n",
       "  </thead>\n",
       "  <tbody>\n",
       "    <tr>\n",
       "      <th>0</th>\n",
       "      <td>2020-02-01 00:00:00</td>\n",
       "      <td>-0.012</td>\n",
       "      <td>-0.024</td>\n",
       "      <td>53.600</td>\n",
       "      <td>0.0400</td>\n",
       "      <td>9.358</td>\n",
       "      <td>0</td>\n",
       "      <td>1.0</td>\n",
       "      <td>0.0</td>\n",
       "      <td>1.0</td>\n",
       "      <td>0</td>\n",
       "      <td>compresseur</td>\n",
       "    </tr>\n",
       "    <tr>\n",
       "      <th>1</th>\n",
       "      <td>2020-02-01 00:00:10</td>\n",
       "      <td>-0.014</td>\n",
       "      <td>-0.022</td>\n",
       "      <td>53.675</td>\n",
       "      <td>0.0400</td>\n",
       "      <td>9.348</td>\n",
       "      <td>0</td>\n",
       "      <td>1.0</td>\n",
       "      <td>0.0</td>\n",
       "      <td>1.0</td>\n",
       "      <td>1</td>\n",
       "      <td>compresseur</td>\n",
       "    </tr>\n",
       "    <tr>\n",
       "      <th>2</th>\n",
       "      <td>2020-02-01 00:00:20</td>\n",
       "      <td>-0.012</td>\n",
       "      <td>-0.022</td>\n",
       "      <td>53.600</td>\n",
       "      <td>0.0425</td>\n",
       "      <td>9.338</td>\n",
       "      <td>0</td>\n",
       "      <td>1.0</td>\n",
       "      <td>0.0</td>\n",
       "      <td>1.0</td>\n",
       "      <td>2</td>\n",
       "      <td>compresseur</td>\n",
       "    </tr>\n",
       "    <tr>\n",
       "      <th>3</th>\n",
       "      <td>2020-02-01 00:00:30</td>\n",
       "      <td>-0.012</td>\n",
       "      <td>-0.022</td>\n",
       "      <td>53.425</td>\n",
       "      <td>0.0400</td>\n",
       "      <td>9.328</td>\n",
       "      <td>0</td>\n",
       "      <td>1.0</td>\n",
       "      <td>0.0</td>\n",
       "      <td>1.0</td>\n",
       "      <td>3</td>\n",
       "      <td>compresseur</td>\n",
       "    </tr>\n",
       "    <tr>\n",
       "      <th>4</th>\n",
       "      <td>2020-02-01 00:00:40</td>\n",
       "      <td>-0.012</td>\n",
       "      <td>-0.022</td>\n",
       "      <td>53.475</td>\n",
       "      <td>0.0400</td>\n",
       "      <td>9.318</td>\n",
       "      <td>0</td>\n",
       "      <td>1.0</td>\n",
       "      <td>0.0</td>\n",
       "      <td>1.0</td>\n",
       "      <td>4</td>\n",
       "      <td>compresseur</td>\n",
       "    </tr>\n",
       "  </tbody>\n",
       "</table>\n",
       "</div>"
      ],
      "text/plain": [
       "            timestamp    TP2  DV_pressure  Oil_temperature  Motor_current  \\\n",
       "0 2020-02-01 00:00:00 -0.012       -0.024           53.600         0.0400   \n",
       "1 2020-02-01 00:00:10 -0.014       -0.022           53.675         0.0400   \n",
       "2 2020-02-01 00:00:20 -0.012       -0.022           53.600         0.0425   \n",
       "3 2020-02-01 00:00:30 -0.012       -0.022           53.425         0.0400   \n",
       "4 2020-02-01 00:00:40 -0.012       -0.022           53.475         0.0400   \n",
       "\n",
       "   Reservoirs panne COMP DV_eletric Towers  time_idx     group_id  \n",
       "0       9.358     0  1.0        0.0    1.0         0  compresseur  \n",
       "1       9.348     0  1.0        0.0    1.0         1  compresseur  \n",
       "2       9.338     0  1.0        0.0    1.0         2  compresseur  \n",
       "3       9.328     0  1.0        0.0    1.0         3  compresseur  \n",
       "4       9.318     0  1.0        0.0    1.0         4  compresseur  "
      ]
     },
     "metadata": {},
     "output_type": "display_data"
    }
   ],
   "source": [
    "# Créer la colonne 'time_idx' basée sur les timestamps\n",
    "df['time_idx'] = ((df['timestamp'] - df['timestamp'].min()).dt.total_seconds() // 10).astype(int)\n",
    "\n",
    "# Ajouter une colonne 'group_id' pour identifier les groupes (utile pour un seul groupe)\n",
    "df['group_id'] = \"compresseur\"\n",
    "display(df.head())"
   ]
  },
  {
   "cell_type": "code",
   "execution_count": 5,
   "id": "de020455-478f-43ea-9601-1c6e28f70dea",
   "metadata": {},
   "outputs": [
    {
     "name": "stdout",
     "output_type": "stream",
     "text": [
      "Entraînement : 631 lignes\n",
      "Validation : 631 lignes\n",
      "Classes uniques dans le jeu de données d'entraînement : [0, 2, 1]\n",
      "Categories (3, int64): [0, 1, 2]\n",
      "Classes uniques dans le jeu de données de validation : [0, 2, 1]\n",
      "Categories (3, int64): [0, 1, 2]\n"
     ]
    }
   ],
   "source": [
    "# Diviser les données en ensembles d'entraînement et de validation\n",
    "#train_data = df[(df['timestamp'] >= '2020-02-01 00:00:00') & (df['timestamp'] <= '2020-06-07 14:30:00')]\n",
    "#val_data   = df[(df['timestamp'] >= '2020-06-07 14:30:10') & (df['timestamp'] <= '2020-09-01 03:59:50')]\n",
    "\n",
    "# Diviser les données en ensembles d'entraînement et de validation\n",
    "train_data = df[(df['timestamp'] >= '2020-05-29 22:00:00') & (df['timestamp'] <= '2020-05-29 23:45:00')]\n",
    "val_data   = df[(df['timestamp'] >= '2020-07-15 13:00:00') & (df['timestamp'] <= '2020-07-15 14:45:00')]\n",
    "\n",
    "# Vérifier les tailles des ensembles\n",
    "print(f\"Entraînement : {len(train_data)} lignes\")\n",
    "print(f\"Validation : {len(val_data)} lignes\")\n",
    "\n",
    "# Vérifiez les classes dans le jeu de données d'entraînement et de validation\n",
    "print(\"Classes uniques dans le jeu de données d'entraînement :\", train_data[\"panne\"].unique())\n",
    "print(\"Classes uniques dans le jeu de données de validation :\", val_data[\"panne\"].unique())"
   ]
  },
  {
   "cell_type": "code",
   "execution_count": 11,
   "id": "211b6ac7-e78d-4080-9670-62d8aa8e2c00",
   "metadata": {},
   "outputs": [
    {
     "name": "stdout",
     "output_type": "stream",
     "text": [
      "timestamp          datetime64[ns]\n",
      "TP2                       float64\n",
      "DV_pressure               float64\n",
      "Oil_temperature           float64\n",
      "Motor_current             float64\n",
      "Reservoirs                float64\n",
      "panne                    category\n",
      "COMP                     category\n",
      "DV_eletric               category\n",
      "Towers                   category\n",
      "time_idx                    int64\n",
      "group_id                   object\n",
      "dtype: object\n"
     ]
    }
   ],
   "source": [
    "for col in categorical_features:\n",
    "    train_data.loc[:, col] = train_data[col].astype(int).astype(str).astype('category')\n",
    "    val_data.loc[:, col] = val_data[col].astype(int).astype(str).astype('category')\n",
    "\n",
    "# Convertir en catégorie en utilisant .loc pour éviter l'avertissement\n",
    "train_data.loc[:, \"panne\"] = train_data[\"panne\"].astype(int).astype(str).astype('category')\n",
    "val_data.loc[:, \"panne\"] = val_data[\"panne\"].astype(int).astype(str).astype('category')\n",
    "\n",
    "# Vérifier les types des colonnes\n",
    "print(df.dtypes)    "
   ]
  },
  {
   "cell_type": "markdown",
   "id": "93c95b2a-5819-4556-b1af-2dd50a6617f0",
   "metadata": {},
   "source": [
    "<ul style=\"text-align: center;font-family: times, serif; font-size:14pt; color:Red;\">\n",
    "<strong>#########################  Préparation des données pour le modèle ############################</strong>\n",
    "</ul>"
   ]
  },
  {
   "cell_type": "raw",
   "id": "077d089d-ef96-4ac0-acc1-e84f416da48b",
   "metadata": {},
   "source": [
    "Création de datasets de type TimeSeriesDataSet, spécialement conçus pour les séries temporelles."
   ]
  },
  {
   "cell_type": "code",
   "execution_count": null,
   "id": "64097b21-3388-43f0-8ea4-86d6a21b8ac1",
   "metadata": {},
   "outputs": [],
   "source": [
    "# Définir les longueurs des séquences\n",
    "\n",
    "# Créer le dataset d'entraînement\n",
    "training = TimeSeriesDataSet(\n",
    "    train_data,\n",
    "    time_idx=\"time_idx\",\n",
    "    target=\"panne\",  # Cible définie comme 'panne'\n",
    "    group_ids=[\"group_id\"],\n",
    "    min_encoder_length=90,  # Ajuster selon votre besoin\n",
    "    max_encoder_length=180,\n",
    "    max_prediction_length=1,\n",
    "    time_varying_known_reals=[\"time_idx\"],\n",
    "    time_varying_unknown_reals=[\"TP2\", \"DV_pressure\", \"Oil_temperature\", \"Motor_current\", \"Reservoirs\"],\n",
    "    time_varying_unknown_categoricals=[\"COMP\", \"DV_eletric\", \"Towers\"],\n",
    ")\n",
    "\n",
    "# Créer le dataset de validation\n",
    "validation = TimeSeriesDataSet.from_dataset(training, val_data)"
   ]
  },
  {
   "cell_type": "markdown",
   "id": "138cc9b1-0e4a-4a81-950e-4031cd9227dc",
   "metadata": {},
   "source": [
    "<ul style=\"text-align: center;font-family: times, serif; font-size:14pt; color:Red;\">\n",
    "<strong>######################### Charger les DataLoaders ############################</strong>\n",
    "</ul>"
   ]
  },
  {
   "cell_type": "raw",
   "id": "b36335ed-bfa1-4167-8fb5-1eaa3c428d19",
   "metadata": {},
   "source": [
    "Les DataLoaders permettent de charger les données par lots (batches) lors de l'entraînement et de la validation."
   ]
  },
  {
   "cell_type": "code",
   "execution_count": null,
   "id": "f7d0cba9-43ac-41e0-9784-991dd5543b86",
   "metadata": {},
   "outputs": [],
   "source": [
    "# Créer les DataLoaders pour l'entraînement et la validation\n",
    "train_dataloader = training.to_dataloader(train=True, batch_size=64, num_workers=4, batch_sampler=None)\n",
    "val_dataloader = validation.to_dataloader(train=False, batch_size=64, num_workers=4, batch_sampler=None)"
   ]
  },
  {
   "cell_type": "markdown",
   "id": "4c4b512d-15da-4aec-afb5-f6d49b467282",
   "metadata": {},
   "source": [
    "<ul style=\"text-align: center;font-family: times, serif; font-size:14pt; color:Red;\">\n",
    "<strong>######################### Initialiser le modèle TFT ############################</strong>\n",
    "</ul>"
   ]
  },
  {
   "cell_type": "raw",
   "id": "a8031aa0-4797-492d-a623-bdc7e8498b8e",
   "metadata": {},
   "source": [
    "Configurez et initialisez le modèle avec les paramètres appropriés :"
   ]
  },
  {
   "cell_type": "code",
   "execution_count": null,
   "id": "2462fae1-7fb2-4d87-9a75-51a9cfb840f7",
   "metadata": {},
   "outputs": [],
   "source": [
    "# Initialiser le modèle TFT\n",
    "tft = TemporalFusionTransformer.from_dataset(\n",
    "    training,\n",
    "    learning_rate=0.03,     # Taux d'apprentissage pour l'optimisation\n",
    "    hidden_size=16,         # Taille des couches cachées\n",
    "    attention_head_size=4,  # Nombre de têtes d'attention\n",
    "    dropout=0.1,            # Pour éviter le surapprentissage\n",
    "    hidden_continuous_size=8,  # Taille des représentations continues\n",
    "    loss=QuantileLoss(),       # Fonction de perte pour les séries temporelles\n",
    "    log_interval=10,           # Journaliser toutes les 10 itérations\n",
    "    reduce_on_plateau_patience=4,  # Réduire le learning rate si stagnation\n",
    "    optimizer=\"adam\",             # Explicitez l'optimiseur\n",
    ")\n",
    "\n",
    "print(\"Modèle initialisé avec succès.\")\n"
   ]
  },
  {
   "cell_type": "code",
   "execution_count": null,
   "id": "1626adb7-ee1b-407a-9c5c-429ae71440af",
   "metadata": {},
   "outputs": [],
   "source": [
    "# Encapsulation dans LightningModule\n",
    "class CustomTFT(LightningModule):\n",
    "    def __init__(self, tft_model):\n",
    "        super().__init__()\n",
    "        self.tft_model = tft_model\n",
    "\n",
    "    def forward(self, x):\n",
    "        return self.tft_model(x)\n",
    "\n",
    "    def training_step(self, batch, batch_idx):\n",
    "        x, y = batch\n",
    "        if isinstance(y, tuple):\n",
    "            y = y[0]\n",
    "        y_hat = self.tft_model(x)\n",
    "        predictions = y_hat[\"prediction\"]\n",
    "        loss = self.tft_model.loss(predictions, y)\n",
    "        self.log(\"train_loss\", loss, batch_size=y.size(0))\n",
    "        return loss\n",
    "\n",
    "    def validation_step(self, batch, batch_idx):\n",
    "        x, y = batch\n",
    "        if isinstance(y, tuple):\n",
    "            y = y[0]\n",
    "        y_hat = self.tft_model(x)\n",
    "        predictions = y_hat[\"prediction\"]\n",
    "        val_loss = self.tft_model.loss(predictions, y)\n",
    "        self.log(\"val_loss\", val_loss, batch_size=y.size(0))\n",
    "        return val_loss\n",
    "\n",
    "    def configure_optimizers(self):\n",
    "        return torch.optim.Adam(self.parameters(), lr=0.03)\n",
    "\n",
    "\n",
    "# Créer un modèle encapsulé\n",
    "model = CustomTFT(tft)"
   ]
  },
  {
   "cell_type": "markdown",
   "id": "9e3e0185-e7a1-47df-8293-d81908dd9be2",
   "metadata": {},
   "source": [
    "<ul style=\"text-align: center;font-family: times, serif; font-size:14pt; color:Red;\">\n",
    "<strong>######################### Entraîner le modèle ############################</strong>\n",
    "</ul>"
   ]
  },
  {
   "cell_type": "raw",
   "id": "2bec5042-451d-4f40-8c7a-f66dc2096f31",
   "metadata": {},
   "source": [
    "Utilisation de PyTorch Lightning pour entraîner le modèle"
   ]
  },
  {
   "cell_type": "code",
   "execution_count": null,
   "id": "db9a00e6-4f27-4b53-80ad-cff28903ff66",
   "metadata": {},
   "outputs": [],
   "source": [
    "from pytorch_lightning import Trainer\n",
    "\n",
    "# Ajouter les callbacks pour Early Stopping et sauvegarde du modèle\n",
    "early_stopping = EarlyStopping(\n",
    "    monitor=\"val_loss\",  # Surveiller la métrique val_loss\n",
    "    patience=5,          # Arrêter après 5 époques sans amélioration\n",
    "    verbose=True,\n",
    "    mode=\"min\"           # Minimiser la perte\n",
    ")\n",
    "\n",
    "checkpoint_callback = ModelCheckpoint(\n",
    "    monitor=\"val_loss\",  # Sauvegarder le meilleur modèle basé sur val_loss\n",
    "    dirpath=\"checkpoints\",  # Dossier pour les checkpoints\n",
    "    filename=\"best-checkpoint\",  # Nom du fichier de checkpoint\n",
    "    save_top_k=1,               # Sauvegarder uniquement le meilleur modèle\n",
    "    mode=\"min\"                  # Minimiser la perte\n",
    ")\n",
    "\n",
    "\n",
    "# Configurer le Trainer\n",
    "trainer = Trainer(\n",
    "    max_epochs=2,                # Nombre d'époques maximum\n",
    "    accelerator=\"cpu\",           # Utilisation du CPU\n",
    "    gradient_clip_val=0.1,       # Clip pour éviter les gradients explosifs\n",
    "    callbacks=[early_stopping, checkpoint_callback],  # Ajouter les callbacks\n",
    ")\n",
    "\n",
    "# Entraîner le modèle\n",
    "trainer.fit(model=model, train_dataloaders=train_dataloader, val_dataloaders=val_dataloader)\n",
    "\n",
    "# Vérifier si l'entraînement a été interrompu et sauvegarder l'état\n",
    "trainer.save_checkpoint(\"last-phase-checkpoint.ckpt\")"
   ]
  },
  {
   "cell_type": "markdown",
   "id": "54dfd709-9471-4b20-b29f-109c15644c92",
   "metadata": {},
   "source": [
    "<ul style=\"text-align: center;font-family: times, serif; font-size:14pt; color:Red;\">\n",
    "<strong>######################### Reprendre l'entraînement ############################</strong>\n",
    "</ul>"
   ]
  },
  {
   "cell_type": "code",
   "execution_count": 6,
   "id": "a3876008-0e1e-404b-9e34-c00e58f238a0",
   "metadata": {},
   "outputs": [
    {
     "name": "stdout",
     "output_type": "stream",
     "text": [
      "timestamp          datetime64[ns]\n",
      "TP2                       float64\n",
      "DV_pressure               float64\n",
      "Oil_temperature           float64\n",
      "Motor_current             float64\n",
      "Reservoirs                float64\n",
      "panne                    category\n",
      "COMP                     category\n",
      "DV_eletric               category\n",
      "Towers                   category\n",
      "time_idx                    int64\n",
      "group_id                   object\n",
      "dtype: object\n"
     ]
    }
   ],
   "source": [
    "print(df.dtypes)   "
   ]
  },
  {
   "cell_type": "code",
   "execution_count": 9,
   "id": "588c6c40-3190-44ee-b4a7-be59765e79f7",
   "metadata": {},
   "outputs": [
    {
     "name": "stderr",
     "output_type": "stream",
     "text": [
      "C:\\Users\\usermine\\Amine-Jupiter\\SESSION6\\tft\\env_tft\\Lib\\site-packages\\pytorch_forecasting\\data\\timeseries.py:1207: UserWarning: If predicting, no randomization should be possible - setting stop_randomization=True\n",
      "  warnings.warn(\n",
      "C:\\Users\\usermine\\Amine-Jupiter\\SESSION6\\tft\\env_tft\\Lib\\site-packages\\lightning\\pytorch\\utilities\\parsing.py:209: Attribute 'loss' is an instance of `nn.Module` and is already saved during checkpointing. It is recommended to ignore them using `self.save_hyperparameters(ignore=['loss'])`.\n",
      "C:\\Users\\usermine\\Amine-Jupiter\\SESSION6\\tft\\env_tft\\Lib\\site-packages\\lightning\\pytorch\\utilities\\parsing.py:209: Attribute 'logging_metrics' is an instance of `nn.Module` and is already saved during checkpointing. It is recommended to ignore them using `self.save_hyperparameters(ignore=['logging_metrics'])`.\n",
      "C:\\Users\\usermine\\Amine-Jupiter\\SESSION6\\tft\\env_tft\\Lib\\site-packages\\pytorch_forecasting\\models\\temporal_fusion_transformer\\__init__.py:171: UserWarning: In pytorch-forecasting models, on versions 1.1.X, the default optimizer defaults to 'adam', if pytorch_optimizer is not installed, otherwise it defaults to 'ranger' from pytorch_optimizer. From version 1.2.0, the default optimizer will be 'adam' regardless of whether pytorch_optimizer is installed, in order to minimize the number of dependencies in default parameter settings. Users who wish to ensure their code continues using 'ranger' as optimizer should ensure that pytorch_optimizer is installed, and set the optimizer parameter explicitly to 'ranger'.\n",
      "  super().__init__(loss=loss, logging_metrics=logging_metrics, **kwargs)\n",
      "GPU available: False, used: False\n",
      "TPU available: False, using: 0 TPU cores\n",
      "HPU available: False, using: 0 HPUs\n",
      "C:\\Users\\usermine\\Amine-Jupiter\\SESSION6\\tft\\env_tft\\Lib\\site-packages\\pytorch_lightning\\trainer\\connectors\\logger_connector\\logger_connector.py:76: Starting from v1.9.0, `tensorboardX` has been removed as a dependency of the `pytorch_lightning` package, due to potential conflicts with other packages in the ML ecosystem. For this reason, `logger=True` will use `CSVLogger` as the default logger, unless the `tensorboard` or `tensorboardX` packages are found. Please `pip install lightning[extra]` or one of them to enable TensorBoard support by default\n"
     ]
    },
    {
     "ename": "TypeError",
     "evalue": "`model` must be a `LightningModule` or `torch._dynamo.OptimizedModule`, got `TemporalFusionTransformer`",
     "output_type": "error",
     "traceback": [
      "\u001b[1;31m---------------------------------------------------------------------------\u001b[0m",
      "\u001b[1;31mTypeError\u001b[0m                                 Traceback (most recent call last)",
      "Cell \u001b[1;32mIn[9], line 72\u001b[0m\n\u001b[0;32m     63\u001b[0m trainer \u001b[38;5;241m=\u001b[39m Trainer(\n\u001b[0;32m     64\u001b[0m     max_epochs\u001b[38;5;241m=\u001b[39m\u001b[38;5;241m30\u001b[39m,\n\u001b[0;32m     65\u001b[0m     accelerator\u001b[38;5;241m=\u001b[39m\u001b[38;5;124m\"\u001b[39m\u001b[38;5;124mgpu\u001b[39m\u001b[38;5;124m\"\u001b[39m \u001b[38;5;28;01mif\u001b[39;00m torch\u001b[38;5;241m.\u001b[39mcuda\u001b[38;5;241m.\u001b[39mis_available() \u001b[38;5;28;01melse\u001b[39;00m \u001b[38;5;124m\"\u001b[39m\u001b[38;5;124mcpu\u001b[39m\u001b[38;5;124m\"\u001b[39m,\n\u001b[1;32m   (...)\u001b[0m\n\u001b[0;32m     68\u001b[0m     callbacks\u001b[38;5;241m=\u001b[39m[early_stop_callback],\n\u001b[0;32m     69\u001b[0m )\n\u001b[0;32m     71\u001b[0m \u001b[38;5;66;03m# Entraîner le modèle\u001b[39;00m\n\u001b[1;32m---> 72\u001b[0m \u001b[43mtrainer\u001b[49m\u001b[38;5;241;43m.\u001b[39;49m\u001b[43mfit\u001b[49m\u001b[43m(\u001b[49m\u001b[43mmodel\u001b[49m\u001b[38;5;241;43m=\u001b[39;49m\u001b[43mtft\u001b[49m\u001b[43m,\u001b[49m\u001b[43m \u001b[49m\u001b[43mtrain_dataloaders\u001b[49m\u001b[38;5;241;43m=\u001b[39;49m\u001b[43mtrain_dataloader\u001b[49m\u001b[43m,\u001b[49m\u001b[43m \u001b[49m\u001b[43mval_dataloaders\u001b[49m\u001b[38;5;241;43m=\u001b[39;49m\u001b[43mval_dataloader\u001b[49m\u001b[43m)\u001b[49m\n\u001b[0;32m     74\u001b[0m \u001b[38;5;66;03m# Évaluer les performances\u001b[39;00m\n\u001b[0;32m     75\u001b[0m actuals \u001b[38;5;241m=\u001b[39m torch\u001b[38;5;241m.\u001b[39mcat([y[\u001b[38;5;241m0\u001b[39m] \u001b[38;5;28;01mfor\u001b[39;00m x, y \u001b[38;5;129;01min\u001b[39;00m \u001b[38;5;28miter\u001b[39m(val_dataloader)])\n",
      "File \u001b[1;32m~\\Amine-Jupiter\\SESSION6\\tft\\env_tft\\Lib\\site-packages\\pytorch_lightning\\trainer\\trainer.py:533\u001b[0m, in \u001b[0;36mTrainer.fit\u001b[1;34m(self, model, train_dataloaders, val_dataloaders, datamodule, ckpt_path)\u001b[0m\n\u001b[0;32m    499\u001b[0m \u001b[38;5;28;01mdef\u001b[39;00m \u001b[38;5;21mfit\u001b[39m(\n\u001b[0;32m    500\u001b[0m     \u001b[38;5;28mself\u001b[39m,\n\u001b[0;32m    501\u001b[0m     model: \u001b[38;5;124m\"\u001b[39m\u001b[38;5;124mpl.LightningModule\u001b[39m\u001b[38;5;124m\"\u001b[39m,\n\u001b[1;32m   (...)\u001b[0m\n\u001b[0;32m    505\u001b[0m     ckpt_path: Optional[_PATH] \u001b[38;5;241m=\u001b[39m \u001b[38;5;28;01mNone\u001b[39;00m,\n\u001b[0;32m    506\u001b[0m ) \u001b[38;5;241m-\u001b[39m\u001b[38;5;241m>\u001b[39m \u001b[38;5;28;01mNone\u001b[39;00m:\n\u001b[0;32m    507\u001b[0m \u001b[38;5;250m    \u001b[39m\u001b[38;5;124mr\u001b[39m\u001b[38;5;124;03m\"\"\"Runs the full optimization routine.\u001b[39;00m\n\u001b[0;32m    508\u001b[0m \n\u001b[0;32m    509\u001b[0m \u001b[38;5;124;03m    Args:\u001b[39;00m\n\u001b[1;32m   (...)\u001b[0m\n\u001b[0;32m    531\u001b[0m \n\u001b[0;32m    532\u001b[0m \u001b[38;5;124;03m    \"\"\"\u001b[39;00m\n\u001b[1;32m--> 533\u001b[0m     model \u001b[38;5;241m=\u001b[39m \u001b[43m_maybe_unwrap_optimized\u001b[49m\u001b[43m(\u001b[49m\u001b[43mmodel\u001b[49m\u001b[43m)\u001b[49m\n\u001b[0;32m    534\u001b[0m     \u001b[38;5;28mself\u001b[39m\u001b[38;5;241m.\u001b[39mstrategy\u001b[38;5;241m.\u001b[39m_lightning_module \u001b[38;5;241m=\u001b[39m model\n\u001b[0;32m    535\u001b[0m     _verify_strategy_supports_compile(model, \u001b[38;5;28mself\u001b[39m\u001b[38;5;241m.\u001b[39mstrategy)\n",
      "File \u001b[1;32m~\\Amine-Jupiter\\SESSION6\\tft\\env_tft\\Lib\\site-packages\\pytorch_lightning\\utilities\\compile.py:111\u001b[0m, in \u001b[0;36m_maybe_unwrap_optimized\u001b[1;34m(model)\u001b[0m\n\u001b[0;32m    109\u001b[0m     \u001b[38;5;28;01mreturn\u001b[39;00m model\n\u001b[0;32m    110\u001b[0m _check_mixed_imports(model)\n\u001b[1;32m--> 111\u001b[0m \u001b[38;5;28;01mraise\u001b[39;00m \u001b[38;5;167;01mTypeError\u001b[39;00m(\n\u001b[0;32m    112\u001b[0m     \u001b[38;5;124mf\u001b[39m\u001b[38;5;124m\"\u001b[39m\u001b[38;5;124m`model` must be a `LightningModule` or `torch._dynamo.OptimizedModule`, got `\u001b[39m\u001b[38;5;132;01m{\u001b[39;00m\u001b[38;5;28mtype\u001b[39m(model)\u001b[38;5;241m.\u001b[39m\u001b[38;5;18m__qualname__\u001b[39m\u001b[38;5;132;01m}\u001b[39;00m\u001b[38;5;124m`\u001b[39m\u001b[38;5;124m\"\u001b[39m\n\u001b[0;32m    113\u001b[0m )\n",
      "\u001b[1;31mTypeError\u001b[0m: `model` must be a `LightningModule` or `torch._dynamo.OptimizedModule`, got `TemporalFusionTransformer`"
     ]
    }
   ],
   "source": [
    "import pandas as pd\n",
    "import torch\n",
    "from pytorch_forecasting import TemporalFusionTransformer, TimeSeriesDataSet\n",
    "from pytorch_forecasting.metrics import SMAPE, MAE, RMSE\n",
    "from pytorch_lightning import Trainer\n",
    "from pytorch_lightning.callbacks import EarlyStopping\n",
    "\n",
    "# Charger les données\n",
    "df['timestamp'] = pd.to_datetime(df['timestamp'])\n",
    "\n",
    "# Convertir les colonnes catégoriques en chaînes de caractères\n",
    "df['COMP'] = df['COMP'].astype(str)\n",
    "df['DV_eletric'] = df['DV_eletric'].astype(str)\n",
    "df['Towers'] = df['Towers'].astype(str)\n",
    "df['group_id'] = df['group_id'].astype(str)\n",
    "\n",
    "# Préparation des ensembles d'entraînement et de validation\n",
    "train_data = df[(df['timestamp'] >= '2020-05-29 22:00:00') & (df['timestamp'] <= '2020-05-29 23:45:00')]\n",
    "val_data = df[(df['timestamp'] >= '2020-07-15 13:00:00') & (df['timestamp'] <= '2020-07-15 14:45:00')]\n",
    "\n",
    "# Créer des TimeSeriesDataSet\n",
    "max_encoder_length = 30  # Longueur de la fenêtre passée\n",
    "max_prediction_length = 1  # Prévision unique\n",
    "\n",
    "# Définir le DataSet pour l'entraînement\n",
    "training = TimeSeriesDataSet(\n",
    "    train_data,\n",
    "    time_idx=\"time_idx\",\n",
    "    target=\"panne\",\n",
    "    group_ids=[\"group_id\"],\n",
    "    max_encoder_length=max_encoder_length,\n",
    "    max_prediction_length=max_prediction_length,\n",
    "    static_categoricals=[\"group_id\"],\n",
    "    time_varying_known_categoricals=[\"COMP\", \"DV_eletric\", \"Towers\"],\n",
    "    time_varying_known_reals=[\"time_idx\"],\n",
    "    time_varying_unknown_reals=[\"TP2\", \"DV_pressure\", \"Oil_temperature\", \"Motor_current\", \"Reservoirs\"],\n",
    ")\n",
    "\n",
    "# Définir le DataSet pour la validation\n",
    "validation = TimeSeriesDataSet.from_dataset(training, val_data, predict=True)\n",
    "\n",
    "# Créer DataLoader pour l'entraînement et la validation\n",
    "train_dataloader = training.to_dataloader(train=True, batch_size=64, num_workers=0)\n",
    "val_dataloader = validation.to_dataloader(train=False, batch_size=64, num_workers=0)\n",
    "\n",
    "# Initialisation du modèle TFT comme LightningModule\n",
    "tft = TemporalFusionTransformer.from_dataset(\n",
    "    training,\n",
    "    learning_rate=1e-3,\n",
    "    hidden_size=16,\n",
    "    attention_head_size=4,\n",
    "    dropout=0.1,\n",
    "    loss=SMAPE(),\n",
    "    log_interval=10,\n",
    "    reduce_on_plateau_patience=4,\n",
    ")\n",
    "\n",
    "# Vérification explicite que le modèle est compatible\n",
    "assert isinstance(tft, torch.nn.Module), \"Le modèle doit être une instance de LightningModule ou torch.nn.Module.\"\n",
    "\n",
    "# Configuration de l'entraînement\n",
    "early_stop_callback = EarlyStopping(monitor=\"val_loss\", patience=10, verbose=True, mode=\"min\")\n",
    "trainer = Trainer(\n",
    "    max_epochs=30,\n",
    "    accelerator=\"gpu\" if torch.cuda.is_available() else \"cpu\",\n",
    "    devices=1 if torch.cuda.is_available() else 1,  # Correction ici\n",
    "    gradient_clip_val=0.1,\n",
    "    callbacks=[early_stop_callback],\n",
    ")\n",
    "\n",
    "# Entraîner le modèle\n",
    "trainer.fit(model=tft, train_dataloaders=train_dataloader, val_dataloaders=val_dataloader)\n",
    "\n",
    "# Évaluer les performances\n",
    "actuals = torch.cat([y[0] for x, y in iter(val_dataloader)])\n",
    "predictions = tft.predict(val_dataloader)\n",
    "\n",
    "# Afficher les métriques\n",
    "smape = SMAPE()(predictions, actuals).item()\n",
    "mae = MAE()(predictions, actuals).item()\n",
    "rmse = RMSE()(predictions, actuals).item()\n",
    "\n",
    "print(f\"SMAPE: {smape:.2f}, MAE: {mae:.2f}, RMSE: {rmse:.2f}\")\n"
   ]
  },
  {
   "cell_type": "code",
   "execution_count": 10,
   "id": "7658eefa-6264-4530-b383-8db25199d2ee",
   "metadata": {},
   "outputs": [
    {
     "ename": "SyntaxError",
     "evalue": "invalid syntax (4037731253.py, line 1)",
     "output_type": "error",
     "traceback": [
      "\u001b[1;36m  Cell \u001b[1;32mIn[10], line 1\u001b[1;36m\u001b[0m\n\u001b[1;33m    pip list | findstr torch\u001b[0m\n\u001b[1;37m        ^\u001b[0m\n\u001b[1;31mSyntaxError\u001b[0m\u001b[1;31m:\u001b[0m invalid syntax\n"
     ]
    }
   ],
   "source": [
    "pip list | findstr torch\n",
    "pip list | findstr lightning\n",
    "pip list | findstr forecasting"
   ]
  },
  {
   "cell_type": "code",
   "execution_count": null,
   "id": "f00bcd05-ca8e-424d-899b-9639bf8de194",
   "metadata": {},
   "outputs": [],
   "source": []
  },
  {
   "cell_type": "code",
   "execution_count": null,
   "id": "5bb18ff7-311c-4c60-80b4-bfcbabc396a1",
   "metadata": {},
   "outputs": [],
   "source": []
  },
  {
   "cell_type": "markdown",
   "id": "08b4eb4c-943a-4436-a6b1-dc061d8c4086",
   "metadata": {},
   "source": [
    "<ul style=\"text-align: center;font-family: times, serif; font-size:14pt; color:Red;\">\n",
    "<strong>######################### Faire des prédictions ############################</strong>\n",
    "</ul>"
   ]
  },
  {
   "cell_type": "code",
   "execution_count": null,
   "id": "1e07e853-3608-40ff-a7f5-a4c3ebf3dc82",
   "metadata": {},
   "outputs": [],
   "source": [
    "# Faire des prédictions\n",
    "raw_predictions, x = tft.predict(val_dataloader, mode=\"raw\", return_x=True)\n",
    "\n",
    "# Afficher les prédictions brutes\n",
    "print(raw_predictions)"
   ]
  },
  {
   "cell_type": "code",
   "execution_count": null,
   "id": "b17bbc51-29ef-4327-aaf2-35aba33eec8c",
   "metadata": {},
   "outputs": [],
   "source": [
    "# Obtenir les prédictions\n",
    "predictions = tft.predict(val_dataloader)\n",
    "\n",
    "# Afficher les dimensions des prédictions\n",
    "print(f\"Shape of predictions: {predictions.shape}\")\n"
   ]
  },
  {
   "cell_type": "code",
   "execution_count": null,
   "id": "8da2c648-99ad-42c6-bcac-299328634303",
   "metadata": {},
   "outputs": [],
   "source": [
    "# Afficher quelques exemples de prédictions\n",
    "print(\"Example predictions:\", predictions[:5])"
   ]
  },
  {
   "cell_type": "markdown",
   "id": "9d035126-1ebe-42de-8dc1-7f68ca8e4c69",
   "metadata": {},
   "source": [
    "<ul style=\"text-align: center;font-family: times, serif; font-size:14pt; color:Red;\">\n",
    "<strong>######################### Évaluation ############################</strong>\n",
    "</ul>"
   ]
  },
  {
   "cell_type": "code",
   "execution_count": null,
   "id": "cc17dcf2-3886-4e2f-b427-3e7e99b4935c",
   "metadata": {},
   "outputs": [],
   "source": [
    "# Les métriques de validation sont enregistrées par le Trainer\n",
    "print(f\"Meilleure perte de validation (val_loss): {trainer.callback_metrics['val_loss']}\")\n"
   ]
  },
  {
   "cell_type": "code",
   "execution_count": null,
   "id": "6d101fbe-a1b4-45af-b6f8-1859ae017376",
   "metadata": {},
   "outputs": [],
   "source": [
    "import torch\n",
    "import numpy as np\n",
    "from sklearn.metrics import classification_report, confusion_matrix\n",
    "from pytorch_forecasting.metrics import SMAPE, MAE, RMSE\n",
    "\n",
    "# Charger le modèle depuis le checkpoint si nécessaire\n",
    "# Si le modèle est déjà en mémoire, cette étape n'est pas requise\n",
    "# model = CustomTFT.load_from_checkpoint(\"last-phase-checkpoint.ckpt\")\n",
    "\n",
    "# Préparer le modèle pour l'évaluation\n",
    "model.eval()\n",
    "\n",
    "# Faire des prédictions sur l'ensemble de validation\n",
    "all_preds = []\n",
    "all_targets = []\n",
    "\n",
    "with torch.no_grad():\n",
    "    for batch in val_dataloader:\n",
    "        x, y = batch\n",
    "\n",
    "        # Si y est un tuple, extraire la cible réelle\n",
    "        if isinstance(y, tuple):\n",
    "            y = y[0]\n",
    "\n",
    "        # Obtenir les prédictions\n",
    "        y_hat = model.tft_model(x)[\"prediction\"]\n",
    "\n",
    "        # Convertir les prédictions en classe la plus probable\n",
    "        preds = torch.argmax(y_hat, dim=-1).cpu().numpy()\n",
    "        targets = y.cpu().numpy()\n",
    "\n",
    "        all_preds.append(preds)\n",
    "        all_targets.append(targets)\n",
    "\n",
    "# Convertir les listes en tableaux numpy\n",
    "all_preds = np.concatenate(all_preds)\n",
    "all_targets = np.concatenate(all_targets)\n",
    "\n",
    "# Calculer les métriques par classe\n",
    "print(\"=== Rapport de classification par classe ===\")\n",
    "print(classification_report(all_targets, all_preds, zero_division=0))\n",
    "\n",
    "# Matrice de confusion\n",
    "print(\"\\n=== Matrice de confusion ===\")\n",
    "print(confusion_matrix(all_targets, all_preds))\n",
    "\n",
    "# Calculer les métriques globales (SMAPE, MAE, RMSE)\n",
    "predictions = model.tft_model.predict(val_dataloader)  # Obtenir toutes les prédictions\n",
    "actuals = torch.cat([y for x, y in iter(val_dataloader)])  # Cibles réelles\n",
    "\n",
    "# SMAPE, MAE, RMSE\n",
    "smape = SMAPE()(predictions, actuals).item()\n",
    "mae = MAE()(predictions, actuals).item()\n",
    "rmse = RMSE()(predictions, actuals).item()\n",
    "\n",
    "# Afficher les métriques globales\n",
    "print(\"\\n=== Métriques globales ===\")\n",
    "print(f\"SMAPE: {smape:.4f}\")\n",
    "print(f\"MAE: {mae:.4f}\")\n",
    "print(f\"RMSE: {rmse:.4f}\")\n"
   ]
  },
  {
   "cell_type": "code",
   "execution_count": null,
   "id": "de4f8846-8817-45ce-9ca7-810e566af479",
   "metadata": {},
   "outputs": [],
   "source": [
    "# Convertir en catégorie\n",
    "train_data[\"panne\"] = train_data[\"panne\"].astype(\"category\")\n",
    "val_data[\"panne\"] = val_data[\"panne\"].astype(\"category\")\n",
    "\n",
    "\n",
    "\n"
   ]
  },
  {
   "cell_type": "code",
   "execution_count": null,
   "id": "eeab613f-5c1c-443d-a536-a1088303a58b",
   "metadata": {},
   "outputs": [],
   "source": [
    "# Vérifier les catégories après nettoyage\n",
    "print(\"Catégories dans l'ensemble d'entraînement :\", train_data[\"panne\"].cat.categories)\n",
    "print(\"Catégories dans l'ensemble de validation :\", val_data[\"panne\"].cat.categories)"
   ]
  },
  {
   "cell_type": "code",
   "execution_count": null,
   "id": "30ea789b-f4ef-49d2-b42f-402476407d9f",
   "metadata": {},
   "outputs": [],
   "source": []
  },
  {
   "cell_type": "code",
   "execution_count": null,
   "id": "b3b1f424-2e9b-4d1d-834e-a29867632e6a",
   "metadata": {},
   "outputs": [],
   "source": []
  },
  {
   "cell_type": "code",
   "execution_count": null,
   "id": "f3b8ecc9-0c9e-48b1-88b3-058034732a15",
   "metadata": {},
   "outputs": [],
   "source": []
  },
  {
   "cell_type": "code",
   "execution_count": null,
   "id": "2096f5dc-5e3c-4ba6-ad50-9d04995b57ff",
   "metadata": {},
   "outputs": [],
   "source": [
    "print(\"Classes uniques dans la variable 'panne' :\")\n",
    "print(df[\"panne\"].unique())\n",
    "\n"
   ]
  },
  {
   "cell_type": "code",
   "execution_count": null,
   "id": "3def52b6-c63c-4542-9cb4-ea77d7045168",
   "metadata": {},
   "outputs": [],
   "source": [
    "print(\"Classes uniques dans l'ensemble d'entraînement :\")\n",
    "print(train_data[\"panne\"].unique())\n",
    "\n",
    "print(\"Classes uniques dans l'ensemble de validation :\")\n",
    "print(val_data[\"panne\"].unique())\n"
   ]
  },
  {
   "cell_type": "code",
   "execution_count": null,
   "id": "5cb1c95d-056a-4cc2-8339-f874531df2b9",
   "metadata": {},
   "outputs": [],
   "source": [
    "print(\"Distribution des classes dans l'ensemble d'entraînement :\")\n",
    "print(train_data[\"panne\"].value_counts())\n",
    "\n",
    "print(\"Distribution des classes dans l'ensemble de validation :\")\n",
    "print(val_data[\"panne\"].value_counts())\n"
   ]
  },
  {
   "cell_type": "code",
   "execution_count": null,
   "id": "1a3c4a62-5f3e-45b3-af9b-873ffdbf476e",
   "metadata": {},
   "outputs": [],
   "source": [
    "train_data[\"panne\"] = train_data[\"panne\"].cat.remove_unused_categories()\n",
    "val_data[\"panne\"] = val_data[\"panne\"].cat.remove_unused_categories()\n"
   ]
  },
  {
   "cell_type": "code",
   "execution_count": null,
   "id": "7abe7061-1409-444b-b69e-bc17557c7782",
   "metadata": {},
   "outputs": [],
   "source": []
  },
  {
   "cell_type": "code",
   "execution_count": null,
   "id": "90188415-222c-4654-a643-50d87783391e",
   "metadata": {},
   "outputs": [],
   "source": []
  },
  {
   "cell_type": "code",
   "execution_count": null,
   "id": "53c33c08-88b9-4a58-8b8e-9bb8360a4ed5",
   "metadata": {},
   "outputs": [],
   "source": []
  },
  {
   "cell_type": "code",
   "execution_count": null,
   "id": "2b51bc17-b92b-4dfa-91f6-e05d62b868e7",
   "metadata": {},
   "outputs": [],
   "source": []
  },
  {
   "cell_type": "code",
   "execution_count": null,
   "id": "b94fa4ec-a67a-441a-9c6f-84beee2cb7e7",
   "metadata": {},
   "outputs": [],
   "source": [
    "print(\"Catégories définies :\", validation.categoricals)\n",
    "print(\"Reels définis :\", validation.reals)\n"
   ]
  },
  {
   "cell_type": "code",
   "execution_count": null,
   "id": "600e67ea-a5c4-4490-b6d5-1885d7965311",
   "metadata": {},
   "outputs": [],
   "source": [
    "# Vérifier les classes uniques dans la colonne cible\n",
    "print(\"Classes uniques dans la colonne 'panne' :\")\n",
    "print(validation.data[\"panne\"].unique())\n"
   ]
  },
  {
   "cell_type": "code",
   "execution_count": null,
   "id": "34ad5df0-ca04-49e9-a6b8-ed229003aa51",
   "metadata": {},
   "outputs": [],
   "source": [
    "# Matrice de confusion\n",
    "print(\"Matrice de confusion :\")\n",
    "print(predictions)"
   ]
  },
  {
   "cell_type": "code",
   "execution_count": null,
   "id": "bc41be4d-e9a3-4a1c-8860-c623af84ebb4",
   "metadata": {},
   "outputs": [],
   "source": []
  },
  {
   "cell_type": "code",
   "execution_count": null,
   "id": "b381d057-426a-4587-9474-b67ee5ed2c95",
   "metadata": {},
   "outputs": [],
   "source": []
  },
  {
   "cell_type": "markdown",
   "id": "3d7de90a-d131-4197-ba91-6f3a8bcee5cb",
   "metadata": {},
   "source": [
    "<ul style=\"text-align: center;font-family: times, serif; font-size:14pt; color:Red;\">\n",
    "<strong>######################### Sauvegarder le modèle ############################</strong>\n",
    "</ul>"
   ]
  },
  {
   "cell_type": "code",
   "execution_count": null,
   "id": "8fb1f083-ff5c-43ba-9c88-34be000ffe6f",
   "metadata": {},
   "outputs": [],
   "source": [
    "# Sauvegarder le modèle\n",
    "model_checkpoint = \"tft_model_1_2025_01_02_08_20_epoch2.ckpt\"\n",
    "trainer.save_checkpoint(model_checkpoint)\n",
    "print(f\"Modèle sauvegardé sous : {model_checkpoint}\")\n"
   ]
  },
  {
   "cell_type": "code",
   "execution_count": null,
   "id": "e97c5747-a2af-4a26-89eb-351dc7288729",
   "metadata": {},
   "outputs": [],
   "source": [
    "import torch\n",
    "\n",
    "# Sauvegarder uniquement les poids du modèle\n",
    "torch.save(tft.state_dict(), \"tft_model_weights_2025_01_02_08_20_epoch2.pth\")\n",
    "print(\"Poids du modèle sauvegardés avec succès !\")\n"
   ]
  },
  {
   "cell_type": "code",
   "execution_count": null,
   "id": "bfe3de62-58f0-430a-973e-9f4743c7dde8",
   "metadata": {},
   "outputs": [],
   "source": [
    "import pickle\n",
    "from pytorch_forecasting import TemporalFusionTransformer\n",
    "\n",
    "# Charger ou initialiser votre modèle TFT\n",
    "tft = TemporalFusionTransformer(...)  # Assurez-vous que le modèle est déjà entraîné\n",
    "\n",
    "# Sauvegarder le modèle en fichier `.pkl`\n",
    "with open(\"tft_model.pkl\", \"wb\") as f:\n",
    "    pickle.dump(tft, f)\n",
    "\n",
    "print(\"Modèle sauvegardé en 'tft_model.pkl'\")\n"
   ]
  },
  {
   "cell_type": "code",
   "execution_count": null,
   "id": "77cacecb-2d6d-4401-ad61-afc108644186",
   "metadata": {},
   "outputs": [],
   "source": [
    "from pytorch_forecasting import TemporalFusionTransformer\n",
    "\n",
    "# Charger le modèle depuis le checkpoint\n",
    "tft = TemporalFusionTransformer.load_from_checkpoint(\"tft_model_final.ckpt\")\n",
    "print(\"Modèle chargé avec succès !\")\n"
   ]
  },
  {
   "cell_type": "code",
   "execution_count": null,
   "id": "ae848426-f778-47b0-b6be-5519d9b83256",
   "metadata": {},
   "outputs": [],
   "source": []
  },
  {
   "cell_type": "code",
   "execution_count": null,
   "id": "721857da-c1ba-40d5-8bdf-8e2164324b7b",
   "metadata": {},
   "outputs": [],
   "source": []
  },
  {
   "cell_type": "code",
   "execution_count": null,
   "id": "1c149fa6-29b7-4159-89b5-347f9bb63fd2",
   "metadata": {},
   "outputs": [],
   "source": []
  }
 ],
 "metadata": {
  "kernelspec": {
   "display_name": "Python (env_tft)",
   "language": "python",
   "name": "env_tft"
  },
  "language_info": {
   "codemirror_mode": {
    "name": "ipython",
    "version": 3
   },
   "file_extension": ".py",
   "mimetype": "text/x-python",
   "name": "python",
   "nbconvert_exporter": "python",
   "pygments_lexer": "ipython3",
   "version": "3.11.4"
  }
 },
 "nbformat": 4,
 "nbformat_minor": 5
}
