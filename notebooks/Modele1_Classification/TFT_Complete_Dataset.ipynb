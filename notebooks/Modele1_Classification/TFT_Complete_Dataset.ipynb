{
 "cells": [
  {
   "cell_type": "code",
   "execution_count": 1,
   "id": "f83439fc",
   "metadata": {},
   "outputs": [],
   "source": [
    "import os\n",
    "import numpy as np\n",
    "import pandas as pd\n",
    "import torch\n",
    "import matplotlib.pyplot as plt\n",
    "import seaborn as sns\n",
    "import mlflow\n",
    "import mlflow.pytorch\n",
    "import pytorch_lightning as pl\n",
    "import joblib\n",
    "\n",
    "# Importation des modules de Darts\n",
    "from darts import TimeSeries\n",
    "from darts.models.forecasting.tft_model import TFTModel\n",
    "from darts.dataprocessing.transformers import Scaler\n",
    "from darts.utils.timeseries_generation import datetime_attribute_timeseries\n",
    "from darts.utils.likelihood_models import QuantileRegression\n",
    "from darts.utils.data import MixedCovariatesSequentialDataset\n",
    "from darts.metrics import mae, rmse, mape\n",
    "\n",
    "# Importation des callbacks PyTorch Lightning\n",
    "from pytorch_lightning.callbacks import (\n",
    "    TQDMProgressBar,\n",
    "    EarlyStopping,\n",
    "    ModelCheckpoint,\n",
    "    LambdaCallback,\n",
    "    Callback\n",
    ")\n",
    "\n",
    "# Importation des métriques de Scikit-learn\n",
    "from sklearn.metrics import (\n",
    "    accuracy_score,\n",
    "    precision_score,\n",
    "    recall_score,\n",
    "    f1_score,\n",
    "    confusion_matrix,\n",
    "    classification_report\n",
    ")"
   ]
  },
  {
   "cell_type": "code",
   "execution_count": 2,
   "id": "af51d413",
   "metadata": {},
   "outputs": [
    {
     "name": "stdout",
     "output_type": "stream",
     "text": [
      "Utilisation de : cpu\n"
     ]
    },
    {
     "data": {
      "text/html": [
       "<div>\n",
       "<style scoped>\n",
       "    .dataframe tbody tr th:only-of-type {\n",
       "        vertical-align: middle;\n",
       "    }\n",
       "\n",
       "    .dataframe tbody tr th {\n",
       "        vertical-align: top;\n",
       "    }\n",
       "\n",
       "    .dataframe thead th {\n",
       "        text-align: right;\n",
       "    }\n",
       "</style>\n",
       "<table border=\"1\" class=\"dataframe\">\n",
       "  <thead>\n",
       "    <tr style=\"text-align: right;\">\n",
       "      <th></th>\n",
       "      <th>panne</th>\n",
       "      <th>TP2</th>\n",
       "      <th>H1</th>\n",
       "      <th>DV_pressure</th>\n",
       "      <th>Oil_temperature</th>\n",
       "      <th>Motor_current</th>\n",
       "      <th>COMP</th>\n",
       "      <th>DV_eletric</th>\n",
       "      <th>MPG</th>\n",
       "    </tr>\n",
       "    <tr>\n",
       "      <th>timestamp</th>\n",
       "      <th></th>\n",
       "      <th></th>\n",
       "      <th></th>\n",
       "      <th></th>\n",
       "      <th></th>\n",
       "      <th></th>\n",
       "      <th></th>\n",
       "      <th></th>\n",
       "      <th></th>\n",
       "    </tr>\n",
       "  </thead>\n",
       "  <tbody>\n",
       "    <tr>\n",
       "      <th>2020-04-12 11:20:00</th>\n",
       "      <td>0</td>\n",
       "      <td>9.128</td>\n",
       "      <td>-0.018</td>\n",
       "      <td>-0.022</td>\n",
       "      <td>55.475</td>\n",
       "      <td>6.0175</td>\n",
       "      <td>0.0</td>\n",
       "      <td>1.0</td>\n",
       "      <td>0.0</td>\n",
       "    </tr>\n",
       "    <tr>\n",
       "      <th>2020-04-12 11:20:10</th>\n",
       "      <td>0</td>\n",
       "      <td>9.354</td>\n",
       "      <td>-0.016</td>\n",
       "      <td>-0.020</td>\n",
       "      <td>56.525</td>\n",
       "      <td>6.0075</td>\n",
       "      <td>0.0</td>\n",
       "      <td>1.0</td>\n",
       "      <td>0.0</td>\n",
       "    </tr>\n",
       "  </tbody>\n",
       "</table>\n",
       "</div>"
      ],
      "text/plain": [
       "                     panne    TP2     H1  DV_pressure  Oil_temperature  \\\n",
       "timestamp                                                                \n",
       "2020-04-12 11:20:00      0  9.128 -0.018       -0.022           55.475   \n",
       "2020-04-12 11:20:10      0  9.354 -0.016       -0.020           56.525   \n",
       "\n",
       "                     Motor_current  COMP  DV_eletric  MPG  \n",
       "timestamp                                                  \n",
       "2020-04-12 11:20:00         6.0175   0.0         1.0  0.0  \n",
       "2020-04-12 11:20:10         6.0075   0.0         1.0  0.0  "
      ]
     },
     "metadata": {},
     "output_type": "display_data"
    }
   ],
   "source": [
    "################################\n",
    "## 1 - Charger les données    ##\n",
    "################################\n",
    "\n",
    "df_original = pd.read_csv(r\"..\\..\\..\\..\\Datasources\\MetroPT3_new_imputed_final.csv\", delimiter=\",\", decimal=\".\")\n",
    "\n",
    "continuous_features  = [\"TP2\",\"H1\",\"DV_pressure\", \"Oil_temperature\", \"Motor_current\"]\n",
    "categorical_features = [\"COMP\", \"DV_eletric\", \"MPG\"]\n",
    "\n",
    "features = continuous_features + categorical_features\n",
    "\n",
    "# Conserver uniquement les colonnes utiles\n",
    "df_original = df_original[[\"timestamp\", \"panne\"] + features]\n",
    "\n",
    "# Conversion timestamp\n",
    "df_original[\"timestamp\"] = pd.to_datetime(df_original[\"timestamp\"])\n",
    "df_original = df_original.set_index(\"timestamp\")  # Définir `timestamp` comme index\n",
    "\n",
    "df = df_original.copy()\n",
    "\n",
    "# Vérifier si un GPU est disponible\n",
    "device = torch.device(\"cuda\" if torch.cuda.is_available() else \"cpu\")\n",
    "print(f\"Utilisation de : {device}\")\n",
    "display(df.head(2))"
   ]
  },
  {
   "cell_type": "code",
   "execution_count": 3,
   "id": "8c136bd7-f488-40a2-a864-53daeda61db7",
   "metadata": {},
   "outputs": [
    {
     "name": "stdout",
     "output_type": "stream",
     "text": [
      " Nombre total d'observations après filtrage : 6295\n"
     ]
    }
   ],
   "source": [
    "#######################################################################\n",
    "## 1.1 - Miniaturiser le dataset juste pour un test d'efficacité    ##\n",
    "######################################################################\n",
    "\n",
    "#{'id': 'Panne16', 'start': '2020-06-05 10:00:00', 'end': '2020-06-05 23:59:00'},\n",
    "#{'id': 'Panne17', 'start': '2020-06-06 00:00:00', 'end': '2020-06-06 23:59:00'},\n",
    "\n",
    "start_date = \"2020-06-05 09:30:00\"\n",
    "end_date   = \"2020-06-06 02:59:00\"\n",
    "df = df[(df.index >= start_date) & (df.index <= end_date)]\n",
    "print(f\" Nombre total d'observations après filtrage : {len(df)}\")"
   ]
  },
  {
   "cell_type": "code",
   "execution_count": 4,
   "id": "4bf13342",
   "metadata": {},
   "outputs": [
    {
     "name": "stdout",
     "output_type": "stream",
     "text": [
      "Normalisation et conversion effectuées.\n"
     ]
    }
   ],
   "source": [
    "########################################\n",
    "## 2 - Normalisation et Convérsion    ##\n",
    "########################################\n",
    "\n",
    "series_transformed = TimeSeries.from_dataframe(df, value_cols=[\"panne\"], freq=\"10s\", fill_missing_dates=False)\n",
    "\n",
    "# Normalisation\n",
    "scaler_continuous = Scaler()\n",
    "series_continuous_transformed = scaler_continuous.fit_transform(TimeSeries.from_dataframe(df, value_cols=continuous_features))\n",
    "\n",
    "# Covariables temporelles\n",
    "covariates = datetime_attribute_timeseries(series_transformed, attribute=\"month\", one_hot=True)\n",
    "scaler_covariates = Scaler()\n",
    "covariates_transformed = scaler_covariates.fit_transform(covariates)\n",
    "\n",
    "print(\"Normalisation et conversion effectuées.\")"
   ]
  },
  {
   "cell_type": "code",
   "execution_count": 5,
   "id": "23c9529f-8df7-43cf-9d48-ae299c8280cd",
   "metadata": {},
   "outputs": [
    {
     "name": "stdout",
     "output_type": "stream",
     "text": [
      "Scalers sauvegardés avec succès.\n"
     ]
    }
   ],
   "source": [
    "########################################\n",
    "## 2.1 - Sauvegarde du Scaler         ##\n",
    "########################################\n",
    "\n",
    "# Sauvegarde du Scaler normalisé après l'entraînement\n",
    "joblib.dump(scaler_continuous, rf\"..\\..\\Generated_Files\\TFT\\scaler_continuous.pkl\")\n",
    "joblib.dump(scaler_covariates, rf\"..\\..\\Generated_Files\\TFT\\scaler_covariates.pkl\")\n",
    "print(\"Scalers sauvegardés avec succès.\")\n"
   ]
  },
  {
   "cell_type": "code",
   "execution_count": 6,
   "id": "d03405e7",
   "metadata": {},
   "outputs": [
    {
     "name": "stdout",
     "output_type": "stream",
     "text": [
      "Données avant normalisation :\n"
     ]
    },
    {
     "data": {
      "text/html": [
       "<div>\n",
       "<style scoped>\n",
       "    .dataframe tbody tr th:only-of-type {\n",
       "        vertical-align: middle;\n",
       "    }\n",
       "\n",
       "    .dataframe tbody tr th {\n",
       "        vertical-align: top;\n",
       "    }\n",
       "\n",
       "    .dataframe thead th {\n",
       "        text-align: right;\n",
       "    }\n",
       "</style>\n",
       "<table border=\"1\" class=\"dataframe\">\n",
       "  <thead>\n",
       "    <tr style=\"text-align: right;\">\n",
       "      <th></th>\n",
       "      <th>TP2</th>\n",
       "      <th>H1</th>\n",
       "      <th>DV_pressure</th>\n",
       "      <th>Oil_temperature</th>\n",
       "      <th>Motor_current</th>\n",
       "    </tr>\n",
       "    <tr>\n",
       "      <th>timestamp</th>\n",
       "      <th></th>\n",
       "      <th></th>\n",
       "      <th></th>\n",
       "      <th></th>\n",
       "      <th></th>\n",
       "    </tr>\n",
       "  </thead>\n",
       "  <tbody>\n",
       "    <tr>\n",
       "      <th>2020-06-05 09:30:00</th>\n",
       "      <td>-0.016</td>\n",
       "      <td>8.062</td>\n",
       "      <td>-0.022</td>\n",
       "      <td>58.875</td>\n",
       "      <td>0.0425</td>\n",
       "    </tr>\n",
       "    <tr>\n",
       "      <th>2020-06-05 09:30:10</th>\n",
       "      <td>5.564</td>\n",
       "      <td>-0.028</td>\n",
       "      <td>-0.022</td>\n",
       "      <td>58.800</td>\n",
       "      <td>5.1775</td>\n",
       "    </tr>\n",
       "  </tbody>\n",
       "</table>\n",
       "</div>"
      ],
      "text/plain": [
       "                       TP2     H1  DV_pressure  Oil_temperature  Motor_current\n",
       "timestamp                                                                     \n",
       "2020-06-05 09:30:00 -0.016  8.062       -0.022           58.875         0.0425\n",
       "2020-06-05 09:30:10  5.564 -0.028       -0.022           58.800         5.1775"
      ]
     },
     "metadata": {},
     "output_type": "display_data"
    },
    {
     "name": "stdout",
     "output_type": "stream",
     "text": [
      "Données après normalisation :\n"
     ]
    },
    {
     "data": {
      "text/html": [
       "<div>\n",
       "<style scoped>\n",
       "    .dataframe tbody tr th:only-of-type {\n",
       "        vertical-align: middle;\n",
       "    }\n",
       "\n",
       "    .dataframe tbody tr th {\n",
       "        vertical-align: top;\n",
       "    }\n",
       "\n",
       "    .dataframe thead th {\n",
       "        text-align: right;\n",
       "    }\n",
       "</style>\n",
       "<table border=\"1\" class=\"dataframe\">\n",
       "  <thead>\n",
       "    <tr style=\"text-align: right;\">\n",
       "      <th>component</th>\n",
       "      <th>TP2</th>\n",
       "      <th>H1</th>\n",
       "      <th>DV_pressure</th>\n",
       "      <th>Oil_temperature</th>\n",
       "      <th>Motor_current</th>\n",
       "    </tr>\n",
       "    <tr>\n",
       "      <th>timestamp</th>\n",
       "      <th></th>\n",
       "      <th></th>\n",
       "      <th></th>\n",
       "      <th></th>\n",
       "      <th></th>\n",
       "    </tr>\n",
       "  </thead>\n",
       "  <tbody>\n",
       "    <tr>\n",
       "      <th>2020-06-05 09:30:00</th>\n",
       "      <td>0.000954</td>\n",
       "      <td>0.795008</td>\n",
       "      <td>0.00072</td>\n",
       "      <td>0.009235</td>\n",
       "      <td>0.000402</td>\n",
       "    </tr>\n",
       "    <tr>\n",
       "      <th>2020-06-05 09:30:10</th>\n",
       "      <td>0.533295</td>\n",
       "      <td>0.000000</td>\n",
       "      <td>0.00072</td>\n",
       "      <td>0.005277</td>\n",
       "      <td>0.825633</td>\n",
       "    </tr>\n",
       "  </tbody>\n",
       "</table>\n",
       "</div>"
      ],
      "text/plain": [
       "component                 TP2        H1  DV_pressure  Oil_temperature  \\\n",
       "timestamp                                                               \n",
       "2020-06-05 09:30:00  0.000954  0.795008      0.00072         0.009235   \n",
       "2020-06-05 09:30:10  0.533295  0.000000      0.00072         0.005277   \n",
       "\n",
       "component            Motor_current  \n",
       "timestamp                           \n",
       "2020-06-05 09:30:00       0.000402  \n",
       "2020-06-05 09:30:10       0.825633  "
      ]
     },
     "metadata": {},
     "output_type": "display_data"
    }
   ],
   "source": [
    "##########################################\n",
    "## 3 - Validation des normalisations    ##\n",
    "##########################################\n",
    "\n",
    "# Convertir `series_continuous_transformed` en DataFrame\n",
    "df_continuous_transformed = series_continuous_transformed.pd_dataframe()\n",
    "\n",
    "# Affichage des données avant normalisation\n",
    "print(\"Données avant normalisation :\")\n",
    "display(df[continuous_features].head(2))\n",
    "\n",
    "# Affichage des données après normalisation\n",
    "print(\"Données après normalisation :\")\n",
    "display(df_continuous_transformed.head(2))\n"
   ]
  },
  {
   "cell_type": "code",
   "execution_count": 7,
   "id": "7a95e533",
   "metadata": {},
   "outputs": [],
   "source": [
    "# Dataset commence le 2020-04-12 11:20:00 et se termine le 2020-07-17 06:00:00\n",
    "pannes = [\n",
    "    {'id': 'Panne1',  'start': '2020-04-12 11:50:00', 'end': '2020-04-12 23:30:00'},\n",
    "    {'id': 'Panne2',  'start': '2020-04-18 00:00:00', 'end': '2020-04-18 23:59:00'},\n",
    "    {'id': 'Panne3',  'start': '2020-04-19 00:00:00', 'end': '2020-04-19 01:30:00'},\n",
    "    {'id': 'Panne4',  'start': '2020-04-29 03:20:00', 'end': '2020-04-29 04:00:00'},\n",
    "    {'id': 'Panne5',  'start': '2020-04-29 22:00:00', 'end': '2020-04-29 22:20:00'},\n",
    "    {'id': 'Panne6',  'start': '2020-05-13 14:00:00', 'end': '2020-05-13 23:59:00'},\n",
    "    {'id': 'Panne7',  'start': '2020-05-18 05:00:00', 'end': '2020-05-18 05:30:00'},\n",
    "    {'id': 'Panne8',  'start': '2020-05-19 10:10:00', 'end': '2020-05-19 11:00:00'},\n",
    "    {'id': 'Panne9',  'start': '2020-05-19 22:10:00', 'end': '2020-05-19 23:59:00'},\n",
    "    {'id': 'Panne10', 'start': '2020-05-20 00:00:00', 'end': '2020-05-20 20:00:00'},\n",
    "    {'id': 'Panne11', 'start': '2020-05-23 09:50:00', 'end': '2020-05-23 10:10:00'},\n",
    "    {'id': 'Panne12', 'start': '2020-05-29 23:30:00', 'end': '2020-05-29 23:59:00'},\n",
    "    {'id': 'Panne13', 'start': '2020-05-30 00:00:00', 'end': '2020-05-30 06:00:00'},\n",
    "    {'id': 'Panne14', 'start': '2020-06-01 15:00:00', 'end': '2020-06-01 15:40:00'},\n",
    "    {'id': 'Panne15', 'start': '2020-06-03 10:00:00', 'end': '2020-06-03 11:00:00'},\n",
    "    {'id': 'Panne16', 'start': '2020-06-05 10:00:00', 'end': '2020-06-05 23:59:00'},\n",
    "    {'id': 'Panne17', 'start': '2020-06-06 00:00:00', 'end': '2020-06-06 23:59:00'},\n",
    "    {'id': 'Panne18', 'start': '2020-06-07 00:00:00', 'end': '2020-06-07 14:30:00'},\n",
    "    {'id': 'Panne19', 'start': '2020-07-08 17:30:00', 'end': '2020-07-08 19:00:00'},\n",
    "    {'id': 'Panne20', 'start': '2020-07-15 14:30:00', 'end': '2020-07-15 19:00:00'},\n",
    "    {'id': 'Panne21', 'start': '2020-07-17 04:30:00', 'end': '2020-07-17 05:30:00'}\n",
    "         ]"
   ]
  },
  {
   "cell_type": "code",
   "execution_count": 8,
   "id": "3f993288",
   "metadata": {},
   "outputs": [
    {
     "name": "stdout",
     "output_type": "stream",
     "text": [
      "Nombre total d'observations dans `series_transformed` : 1\n",
      "Taille du Train : 1080 observations\n",
      "Taille du Test : 5215 observations\n",
      "Future Covariates Train : 1 observations\n",
      "Future Covariates Val : 1 observations\n"
     ]
    }
   ],
   "source": [
    "##########################################\n",
    "## 4 - Séparation Train/Val            ##\n",
    "##########################################\n",
    "\n",
    "print(f\"Nombre total d'observations dans `series_transformed` : {series_transformed.n_samples}\")\n",
    "\n",
    "\n",
    "# Séparation Train/Test basée sur une date spécifique\n",
    "split_date = pd.Timestamp(\"2020-06-05 12:30:00\")\n",
    "\n",
    "# Filtrer les données en utilisant l'index temporel de Darts\n",
    "train = series_transformed.drop_after(split_date)  # Garde tout ce qui est AVANT `split_date`\n",
    "val = series_transformed.drop_before(split_date - pd.Timedelta(seconds=10))  # Garde tout ce qui est APRÈS `split_date`\n",
    "\n",
    "print(f\"Taille du Train : {len(train)} observations\")\n",
    "print(f\"Taille du Test : {len(val)} observations\")\n",
    "\n",
    "# Vérifier et ajuster `future_covariates`\n",
    "future_covariates_train = covariates_transformed.slice_intersect(train)\n",
    "future_covariates_val = covariates_transformed.slice_intersect(val)\n",
    "\n",
    "print(f\"Future Covariates Train : {future_covariates_train.n_samples} observations\")\n",
    "print(f\"Future Covariates Val : {future_covariates_val.n_samples} observations\")\n"
   ]
  },
  {
   "cell_type": "code",
   "execution_count": 9,
   "id": "45e25e68-0b55-4feb-aad6-3151647869a7",
   "metadata": {},
   "outputs": [
    {
     "name": "stdout",
     "output_type": "stream",
     "text": [
      "Type de l'index de df : datetime64[ns]\n",
      "Exemples d'index : DatetimeIndex(['2020-06-05 09:30:00', '2020-06-05 09:30:10',\n",
      "               '2020-06-05 09:30:20', '2020-06-05 09:30:30',\n",
      "               '2020-06-05 09:30:40'],\n",
      "              dtype='datetime64[ns]', name='timestamp', freq=None)\n",
      "Nombre de valeurs uniques dans timestamp : 6295\n"
     ]
    }
   ],
   "source": [
    "print(f\"Type de l'index de df : {df.index.dtype}\")\n",
    "print(f\"Exemples d'index : {df.index[:5]}\")\n",
    "print(f\"Nombre de valeurs uniques dans timestamp : {df.index.nunique()}\")"
   ]
  },
  {
   "cell_type": "code",
   "execution_count": 10,
   "id": "b52f2f02-8f66-4280-9656-b69b465b3dc1",
   "metadata": {},
   "outputs": [
    {
     "name": "stdout",
     "output_type": "stream",
     "text": [
      "Nombre total de fenêtres Train après segmentation : 901\n",
      "Nombre total de fenêtres Validation après segmentation : 5036\n"
     ]
    }
   ],
   "source": [
    "##########################################\n",
    "## 5 - Création des Fenêtres            ##\n",
    "##########################################\n",
    "\n",
    "# 120×10s=1200s=20 minutes\n",
    "# 60×10s=600s=10 minutes\n",
    "\n",
    "# Définir la taille des fenêtres\n",
    "input_chunk_length = 120  # 20 minutes\n",
    "output_chunk_length = 60\n",
    "\n",
    "dataset = MixedCovariatesSequentialDataset(\n",
    "    target_series=train,\n",
    "    future_covariates=future_covariates_train,\n",
    "    input_chunk_length=input_chunk_length,\n",
    "    output_chunk_length=output_chunk_length\n",
    ")\n",
    "\n",
    "val_dataset = MixedCovariatesSequentialDataset(\n",
    "    target_series=val,\n",
    "    future_covariates=future_covariates_val,\n",
    "    input_chunk_length=input_chunk_length,\n",
    "    output_chunk_length=output_chunk_length\n",
    ")\n",
    "\n",
    "print(f\"Nombre total de fenêtres Train après segmentation : {len(dataset)}\")\n",
    "print(f\"Nombre total de fenêtres Validation après segmentation : {len(val_dataset)}\")"
   ]
  },
  {
   "cell_type": "code",
   "execution_count": 11,
   "id": "f6af0322-2418-41fa-8191-6b782aa4a4f8",
   "metadata": {},
   "outputs": [],
   "source": [
    "##########################################################################################################################################\n",
    "## La classe `SaveTarCheckpoint` est un callback PyTorch Lightning qui sauvegarde automatiquement les poids                             ##\n",
    "## du modèle et l'état de l'optimiseur à la fin de chaque epoch sous format `.tar`. La fonction `save_full_checkpoint`                  ##\n",
    "## permet de sauvegarder manuellement un modèle entier avec ses hyperparamètres après un certain nombre d'epochs.                       ##\n",
    "##########################################################################################################################################\n",
    "\n",
    "# Définition d'une classe personnalisée pour sauvegarder les checkpoints en format .tar\n",
    "class SaveTarCheckpoint(pl.callbacks.Callback):\n",
    "    def __init__(self, save_dir=\"./tft_checkpoints\"):\n",
    "        super().__init__()\n",
    "        self.save_dir = save_dir\n",
    "        os.makedirs(save_dir, exist_ok=True)  # Création du répertoire s'il n'existe pas\n",
    "\n",
    "    # Méthode appelée à la fin de chaque epoch pour sauvegarder l'état du modèle et de l'optimiseur\n",
    "    def on_train_epoch_end(self, trainer, pl_module):\n",
    "        epoch = trainer.current_epoch  # Récupération de l'epoch actuelle\n",
    "        checkpoint_path = os.path.join(self.save_dir, f\"tft_model_checkpoint_epoch_{epoch}.tar\")\n",
    "\n",
    "        # Sauvegarde des informations essentielles sous format .tar\n",
    "        torch.save({\n",
    "            \"epoch\": epoch,\n",
    "            \"model_state_dict\": pl_module.state_dict(),  # Poids du modèle\n",
    "            \"optimizer_state_dict\": trainer.optimizers[0].state_dict(),  # État de l'optimiseur\n",
    "        }, checkpoint_path)\n",
    "        \n",
    "        print(f\"Checkpoint sauvegardé : {checkpoint_path}\")  # Affichage du chemin du fichier sauvegardé\n",
    "        \n",
    "# Fonction pour sauvegarder un checkpoint complet d'un modèle entraîné\n",
    "def save_full_checkpoint(model, epoch):\n",
    "    checkpoint_path = f\"./tft_checkpoints/tft_model_checkpoint_epoch_{epoch}.tar\"\n",
    "\n",
    "    # Vérification que le modèle interne (`model.model`) existe bien\n",
    "    if model.model is None:\n",
    "        raise ValueError(\"Le modèle interne (`model.model`) est introuvable. Entraîne d'abord le modèle !\")\n",
    "\n",
    "    # Sauvegarde de l'état du modèle et de ses hyperparamètres\n",
    "    torch.save({\n",
    "        \"epoch\": epoch,\n",
    "        \"model_state_dict\": model.model.state_dict(),  # Poids du modèle interne\n",
    "        \"config\": model.hparams if hasattr(model, 'hparams') else {},  # Sauvegarde des hyperparamètres s'ils existent\n",
    "    }, checkpoint_path)\n",
    "\n",
    "    print(f\" Modèle sauvegardé après l'epoch {epoch} sous `{checkpoint_path}`\")  # Message de confirmation\n"
   ]
  },
  {
   "cell_type": "code",
   "execution_count": 12,
   "id": "dc6f37ea",
   "metadata": {},
   "outputs": [
    {
     "name": "stdout",
     "output_type": "stream",
     "text": [
      "Modèle TFT construit avec succès.\n"
     ]
    }
   ],
   "source": [
    "##########################################\n",
    "## 6 - Construction du Modele           ##\n",
    "##########################################\n",
    "\n",
    "# Vérifier et créer le dossier des checkpoints si nécessaire\n",
    "checkpoint_dir = \"./tft_checkpoints\"\n",
    "os.makedirs(checkpoint_dir, exist_ok=True)\n",
    "\n",
    "# Callback personnalisé pour sauvegarder en `.tar` après chaque epoch\n",
    "save_tar_callback = SaveTarCheckpoint(save_dir=checkpoint_dir)\n",
    "\n",
    "# Définition des callbacks pour EarlyStopping et Checkpoint\n",
    "checkpoint_callback = ModelCheckpoint(\n",
    "    dirpath=checkpoint_dir,  # Dossier ou enregistrer les checkpoints\n",
    "    filename=\"tft_model-{epoch:02d}\",  # Nom du fichier checkpoint\n",
    "    monitor=\"val_loss\",  # Surveiller la perte de validation\n",
    "    mode=\"min\",          # On veut minimiser la val_loss\n",
    "    save_top_k=-1,        # Sauvegarder **toutes** les epochs\n",
    "    every_n_epochs=1,     # Sauvegarde après chaque epoch\n",
    "    save_weights_only=False  #  Sauvegarde **TOUT**, y compris les encoders\n",
    ")\n",
    "\n",
    "# Définir la callback EarlyStopping\n",
    "early_stopping = EarlyStopping(\n",
    "    monitor=\"val_loss\",   # Surveiller la perte de validation\n",
    "    patience=5,           # Arrêter après 5 epochs sans amélioration\n",
    "    verbose=True,         # Afficher des messages lors de l'arret\n",
    "    mode=\"min\",           # Minimiser la perte (val_loss doit diminuer)\n",
    "    check_on_train_epoch_end=True    # Vérifie la val_loss après chaque epoch\n",
    ")\n",
    "\n",
    "\n",
    "# Définir le modèle TFT avec la Progress Bar et EarlyStopping\n",
    "model = TFTModel(\n",
    "    input_chunk_length=input_chunk_length,   # Fenêtre d'entrée 20 min\n",
    "    output_chunk_length=output_chunk_length,   # Prévision sur 60 pas\n",
    "    hidden_size=32,  \n",
    "    lstm_layers=2,  \n",
    "    num_attention_heads=4,  \n",
    "    dropout=0.2,  \n",
    "    batch_size=16, \n",
    "    likelihood=QuantileRegression(),\n",
    "    random_state=42,\n",
    "    pl_trainer_kwargs={\n",
    "        \"callbacks\": [TQDMProgressBar(refresh_rate=1), early_stopping, checkpoint_callback, save_tar_callback],  \n",
    "        \"max_epochs\": 50,  # Nombre d'epochs pour l'entraînement\n",
    "        \"log_every_n_steps\": 1,  # Afficher les logs à chaque batch\n",
    "        \"enable_checkpointing\": True  # Activer le checkpointing pour éviter l'erreur\n",
    "    }\n",
    ")\n",
    "\n",
    "print(\"Modèle TFT construit avec succès.\")\n",
    "# Prochains scénarios a tester ..Optimiser les hyperparametres  (hidden_size, num_attention_heads, etc.)\n",
    "# input_chunk_length=30 veut dire  30 observations passées donc 5 minutes\n",
    "#  output_chunk_length=3 veut dire 3 X 10 donc 30 secondes de prédictions pour les prochaines valeurs\n",
    "\n",
    "# afaire dans notre cas : input_chunk_length=120 -> 20 min\n",
    "# output_chunk_length=60 donc 10 prochaines minutes"
   ]
  },
  {
   "cell_type": "code",
   "execution_count": 14,
   "id": "60e260e8",
   "metadata": {
    "scrolled": true
   },
   "outputs": [
    {
     "name": "stderr",
     "output_type": "stream",
     "text": [
      "INFO:pytorch_lightning.utilities.rank_zero:GPU available: False, used: False\n",
      "INFO:pytorch_lightning.utilities.rank_zero:TPU available: False, using: 0 TPU cores\n",
      "INFO:pytorch_lightning.utilities.rank_zero:HPU available: False, using: 0 HPUs\n",
      "INFO:pytorch_lightning.callbacks.model_summary:\n",
      "   | Name                              | Type                             | Params | Mode \n",
      "------------------------------------------------------------------------------------------------\n",
      "0  | train_metrics                     | MetricCollection                 | 0      | train\n",
      "1  | val_metrics                       | MetricCollection                 | 0      | train\n",
      "2  | input_embeddings                  | _MultiEmbedding                  | 0      | train\n",
      "3  | static_covariates_vsn             | _VariableSelectionNetwork        | 0      | train\n",
      "4  | encoder_vsn                       | _VariableSelectionNetwork        | 14.0 K | train\n",
      "5  | decoder_vsn                       | _VariableSelectionNetwork        | 12.8 K | train\n",
      "6  | static_context_grn                | _GatedResidualNetwork            | 4.3 K  | train\n",
      "7  | static_context_hidden_encoder_grn | _GatedResidualNetwork            | 4.3 K  | train\n",
      "8  | static_context_cell_encoder_grn   | _GatedResidualNetwork            | 4.3 K  | train\n",
      "9  | static_context_enrichment         | _GatedResidualNetwork            | 4.3 K  | train\n",
      "10 | lstm_encoder                      | LSTM                             | 16.9 K | train\n",
      "11 | lstm_decoder                      | LSTM                             | 16.9 K | train\n",
      "12 | post_lstm_gan                     | _GateAddNorm                     | 2.2 K  | train\n",
      "13 | static_enrichment_grn             | _GatedResidualNetwork            | 5.3 K  | train\n",
      "14 | multihead_attn                    | _InterpretableMultiHeadAttention | 2.6 K  | train\n",
      "15 | post_attn_gan                     | _GateAddNorm                     | 2.2 K  | train\n",
      "16 | feed_forward_block                | _GatedResidualNetwork            | 4.3 K  | train\n",
      "17 | pre_output_gan                    | _GateAddNorm                     | 2.2 K  | train\n",
      "18 | output_layer                      | Linear                           | 561    | train\n",
      "------------------------------------------------------------------------------------------------\n",
      "96.9 K    Trainable params\n",
      "0         Non-trainable params\n",
      "96.9 K    Total params\n",
      "0.388     Total estimated model params size (MB)\n",
      "506       Modules in train mode\n",
      "0         Modules in eval mode\n"
     ]
    },
    {
     "name": "stdout",
     "output_type": "stream",
     "text": [
      "...Entraînement du modèle TFT avec sauvegarde après chaque epoch...\n"
     ]
    },
    {
     "data": {
      "application/vnd.jupyter.widget-view+json": {
       "model_id": "663f981ce27f4cdbb2e10d61af18ca6f",
       "version_major": 2,
       "version_minor": 0
      },
      "text/plain": [
       "Sanity Checking: |                                                                               | 0/? [00:00<…"
      ]
     },
     "metadata": {},
     "output_type": "display_data"
    },
    {
     "data": {
      "application/vnd.jupyter.widget-view+json": {
       "model_id": "1d16487a37014a769eab713bb2c097eb",
       "version_major": 2,
       "version_minor": 0
      },
      "text/plain": [
       "Training: |                                                                                      | 0/? [00:00<…"
      ]
     },
     "metadata": {},
     "output_type": "display_data"
    },
    {
     "data": {
      "application/vnd.jupyter.widget-view+json": {
       "model_id": "a13a921fefe14ab787aaacfac4873f42",
       "version_major": 2,
       "version_minor": 0
      },
      "text/plain": [
       "Validation: |                                                                                    | 0/? [00:00<…"
      ]
     },
     "metadata": {},
     "output_type": "display_data"
    },
    {
     "name": "stderr",
     "output_type": "stream",
     "text": [
      "INFO:pytorch_lightning.callbacks.early_stopping:Metric val_loss improved by 0.009 >= min_delta = 0.0. New best score: 0.048\n",
      "INFO:pytorch_lightning.utilities.rank_zero:`Trainer.fit` stopped: `max_epochs=1` reached.\n"
     ]
    },
    {
     "name": "stdout",
     "output_type": "stream",
     "text": [
      "Checkpoint sauvegardé : ./tft_checkpoints\\tft_model_checkpoint_epoch_0.tar\n",
      " Modèle sauvegardé après l'epoch 0 sous `./tft_checkpoints/tft_model_checkpoint_epoch_0.tar`\n"
     ]
    },
    {
     "name": "stderr",
     "output_type": "stream",
     "text": [
      "INFO:pytorch_lightning.utilities.rank_zero:GPU available: False, used: False\n",
      "INFO:pytorch_lightning.utilities.rank_zero:TPU available: False, using: 0 TPU cores\n",
      "INFO:pytorch_lightning.utilities.rank_zero:HPU available: False, using: 0 HPUs\n",
      "INFO:pytorch_lightning.callbacks.model_summary:\n",
      "   | Name                              | Type                             | Params | Mode \n",
      "------------------------------------------------------------------------------------------------\n",
      "0  | train_metrics                     | MetricCollection                 | 0      | train\n",
      "1  | val_metrics                       | MetricCollection                 | 0      | train\n",
      "2  | input_embeddings                  | _MultiEmbedding                  | 0      | train\n",
      "3  | static_covariates_vsn             | _VariableSelectionNetwork        | 0      | train\n",
      "4  | encoder_vsn                       | _VariableSelectionNetwork        | 14.0 K | train\n",
      "5  | decoder_vsn                       | _VariableSelectionNetwork        | 12.8 K | train\n",
      "6  | static_context_grn                | _GatedResidualNetwork            | 4.3 K  | train\n",
      "7  | static_context_hidden_encoder_grn | _GatedResidualNetwork            | 4.3 K  | train\n",
      "8  | static_context_cell_encoder_grn   | _GatedResidualNetwork            | 4.3 K  | train\n",
      "9  | static_context_enrichment         | _GatedResidualNetwork            | 4.3 K  | train\n",
      "10 | lstm_encoder                      | LSTM                             | 16.9 K | train\n",
      "11 | lstm_decoder                      | LSTM                             | 16.9 K | train\n",
      "12 | post_lstm_gan                     | _GateAddNorm                     | 2.2 K  | train\n",
      "13 | static_enrichment_grn             | _GatedResidualNetwork            | 5.3 K  | train\n",
      "14 | multihead_attn                    | _InterpretableMultiHeadAttention | 2.6 K  | train\n",
      "15 | post_attn_gan                     | _GateAddNorm                     | 2.2 K  | train\n",
      "16 | feed_forward_block                | _GatedResidualNetwork            | 4.3 K  | train\n",
      "17 | pre_output_gan                    | _GateAddNorm                     | 2.2 K  | train\n",
      "18 | output_layer                      | Linear                           | 561    | train\n",
      "------------------------------------------------------------------------------------------------\n",
      "96.9 K    Trainable params\n",
      "0         Non-trainable params\n",
      "96.9 K    Total params\n",
      "0.388     Total estimated model params size (MB)\n",
      "506       Modules in train mode\n",
      "0         Modules in eval mode\n"
     ]
    },
    {
     "name": "stdout",
     "output_type": "stream",
     "text": [
      "Modèle sauvegardé sous `..\\..\\Generated_Files\\TFT\\tft_model_epoch_0\\tft_model.pth` et enregistré dans MLflow.\n"
     ]
    },
    {
     "data": {
      "application/vnd.jupyter.widget-view+json": {
       "model_id": "54fff47466d34dc69c8dd8d2fe0ad38e",
       "version_major": 2,
       "version_minor": 0
      },
      "text/plain": [
       "Sanity Checking: |                                                                               | 0/? [00:00<…"
      ]
     },
     "metadata": {},
     "output_type": "display_data"
    },
    {
     "data": {
      "application/vnd.jupyter.widget-view+json": {
       "model_id": "c215d0440d3846d1885bc842b90ecef9",
       "version_major": 2,
       "version_minor": 0
      },
      "text/plain": [
       "Training: |                                                                                      | 0/? [00:00<…"
      ]
     },
     "metadata": {},
     "output_type": "display_data"
    },
    {
     "data": {
      "application/vnd.jupyter.widget-view+json": {
       "model_id": "87698ac5346646358fdf96b8cabb23f7",
       "version_major": 2,
       "version_minor": 0
      },
      "text/plain": [
       "Validation: |                                                                                    | 0/? [00:00<…"
      ]
     },
     "metadata": {},
     "output_type": "display_data"
    },
    {
     "name": "stderr",
     "output_type": "stream",
     "text": [
      "INFO:pytorch_lightning.callbacks.early_stopping:Metric val_loss improved by 0.000 >= min_delta = 0.0. New best score: 0.047\n",
      "INFO:pytorch_lightning.utilities.rank_zero:`Trainer.fit` stopped: `max_epochs=1` reached.\n"
     ]
    },
    {
     "name": "stdout",
     "output_type": "stream",
     "text": [
      "Checkpoint sauvegardé : ./tft_checkpoints\\tft_model_checkpoint_epoch_0.tar\n",
      " Modèle sauvegardé après l'epoch 1 sous `./tft_checkpoints/tft_model_checkpoint_epoch_1.tar`\n",
      "Modèle sauvegardé sous `..\\..\\Generated_Files\\TFT\\tft_model_epoch_1\\tft_model.pth` et enregistré dans MLflow.\n"
     ]
    }
   ],
   "source": [
    "##########################################\n",
    "## 7 - Entraînement du Modele           ##\n",
    "##########################################\n",
    "print(\"...Entraînement du modèle TFT avec sauvegarde après chaque epoch...\")\n",
    "\n",
    "for epoch in range(2):\n",
    "    model.fit_from_dataset(\n",
    "        train_dataset=dataset,\n",
    "        val_dataset=val_dataset,\n",
    "        trainer=None,\n",
    "        verbose=True,\n",
    "        epochs=1,  # Entraînement **1 epoch à la fois**\n",
    "        dataloader_kwargs={\n",
    "            \"num_workers\": 4, \n",
    "            \"batch_size\": 16,  \n",
    "            \"persistent_workers\": True\n",
    "        },\n",
    "    )\n",
    "\n",
    "    # Récupérer les métriques\n",
    "    train_loss = model.trainer.callback_metrics.get(\"train_loss\", None)\n",
    "    val_loss = model.trainer.callback_metrics.get(\"val_loss\", None)\n",
    "    \n",
    "    # Sauvegarde après chaque epoch\n",
    "    save_full_checkpoint(model, epoch)\n",
    "    \n",
    "    # Définir le chemin de sauvegarde\n",
    "    model_dir = rf\"..\\..\\Generated_Files\\TFT\\tft_model_epoch_{epoch}\"\n",
    "    os.makedirs(model_dir, exist_ok=True)\n",
    "    model_path = os.path.join(model_dir, \"tft_model.pth\")\n",
    "\n",
    "    # Sauvegarde du modèle avec la bonne méthode de Darts\n",
    "    model.save(model_path)\n",
    "\n",
    "   # Vérifier si un run MLflow est déjà actif et le fermer\n",
    "    if mlflow.active_run():\n",
    "        mlflow.end_run()\n",
    "\n",
    "    # Enregistrement des métriques et du modèle dans MLflow\n",
    "    with mlflow.start_run():\n",
    "        if train_loss is not None:\n",
    "            mlflow.log_metric(\"train_loss\", train_loss, step=epoch)\n",
    "        if val_loss is not None:\n",
    "            mlflow.log_metric(\"val_loss\", val_loss, step=epoch)\n",
    "        \n",
    "        mlflow.log_artifacts(model_dir, artifact_path=f\"tft_model_epoch_{epoch}\")\n",
    "\n",
    "    print(f\"Modèle sauvegardé sous `{model_path}` et enregistré dans MLflow.\")"
   ]
  },
  {
   "cell_type": "code",
   "execution_count": null,
   "id": "7a723c7f-df7e-4529-bce4-13af6fdf5c78",
   "metadata": {},
   "outputs": [],
   "source": [
    "##############################################################################################################################\n",
    "##############################################################################################################################\n",
    "******************************************************************************************************************************\n",
    "******************************************************************************************************************************    \n",
    "##############################################################################################################################\n",
    "##############################################################################################################################"
   ]
  },
  {
   "cell_type": "code",
   "execution_count": 50,
   "id": "51bf89cf-a4d4-4b8b-b9ad-ad9b549c11a5",
   "metadata": {},
   "outputs": [
    {
     "name": "stdout",
     "output_type": "stream",
     "text": [
      "Taille réelle de `df_test_20min` : 120 observations\n",
      "Taille attendue : 120.0 observations\n"
     ]
    },
    {
     "ename": "ValueError",
     "evalue": "X has 3 features, but MinMaxScaler is expecting 12 features as input.",
     "output_type": "error",
     "traceback": [
      "\u001b[1;31m---------------------------------------------------------------------------\u001b[0m",
      "\u001b[1;31mValueError\u001b[0m                                Traceback (most recent call last)",
      "Cell \u001b[1;32mIn[50], line 46\u001b[0m\n\u001b[0;32m     44\u001b[0m \u001b[38;5;66;03m# 📌 **Appliquer les scalers aux séries temporelles**\u001b[39;00m\n\u001b[0;32m     45\u001b[0m df_prod_continuous_scaled \u001b[38;5;241m=\u001b[39m scaler_continuous\u001b[38;5;241m.\u001b[39mtransform(series_prod_continuous)\n\u001b[1;32m---> 46\u001b[0m df_prod_covariates_scaled \u001b[38;5;241m=\u001b[39m \u001b[43mscaler_covariates\u001b[49m\u001b[38;5;241;43m.\u001b[39;49m\u001b[43mtransform\u001b[49m\u001b[43m(\u001b[49m\u001b[43mseries_prod_covariates\u001b[49m\u001b[43m)\u001b[49m\n\u001b[0;32m     48\u001b[0m \u001b[38;5;66;03m# 📌 **Recombiner les données normalisées**\u001b[39;00m\n\u001b[0;32m     49\u001b[0m df_prod_scaled \u001b[38;5;241m=\u001b[39m df_prod_continuous_scaled\u001b[38;5;241m.\u001b[39mstack(df_prod_covariates_scaled)\n",
      "File \u001b[1;32m~\\Amine-Jupiter\\SESSION6\\ProjetSynthese\\Modele1_Classification\\TFT\\tft_env\\Lib\\site-packages\\darts\\dataprocessing\\transformers\\fittable_data_transformer.py:304\u001b[0m, in \u001b[0;36mFittableDataTransformer.transform\u001b[1;34m(self, series, component_mask, series_idx, *args, **kwargs)\u001b[0m\n\u001b[0;32m    296\u001b[0m \u001b[38;5;28;01mdef\u001b[39;00m\u001b[38;5;250m \u001b[39m\u001b[38;5;21mtransform\u001b[39m(\n\u001b[0;32m    297\u001b[0m     \u001b[38;5;28mself\u001b[39m,\n\u001b[0;32m    298\u001b[0m     series: Union[TimeSeries, Sequence[TimeSeries]],\n\u001b[1;32m   (...)\u001b[0m\n\u001b[0;32m    302\u001b[0m     \u001b[38;5;241m*\u001b[39m\u001b[38;5;241m*\u001b[39mkwargs,\n\u001b[0;32m    303\u001b[0m ) \u001b[38;5;241m-\u001b[39m\u001b[38;5;241m>\u001b[39m Union[TimeSeries, \u001b[38;5;28mlist\u001b[39m[TimeSeries]]:\n\u001b[1;32m--> 304\u001b[0m     \u001b[38;5;28;01mreturn\u001b[39;00m \u001b[38;5;28;43msuper\u001b[39;49m\u001b[43m(\u001b[49m\u001b[43m)\u001b[49m\u001b[38;5;241;43m.\u001b[39;49m\u001b[43mtransform\u001b[49m\u001b[43m(\u001b[49m\n\u001b[0;32m    305\u001b[0m \u001b[43m        \u001b[49m\u001b[43mseries\u001b[49m\u001b[38;5;241;43m=\u001b[39;49m\u001b[43mseries\u001b[49m\u001b[43m,\u001b[49m\n\u001b[0;32m    306\u001b[0m \u001b[43m        \u001b[49m\u001b[38;5;241;43m*\u001b[39;49m\u001b[43margs\u001b[49m\u001b[43m,\u001b[49m\n\u001b[0;32m    307\u001b[0m \u001b[43m        \u001b[49m\u001b[43mcomponent_mask\u001b[49m\u001b[38;5;241;43m=\u001b[39;49m\u001b[43mcomponent_mask\u001b[49m\u001b[43m,\u001b[49m\n\u001b[0;32m    308\u001b[0m \u001b[43m        \u001b[49m\u001b[43mseries_idx\u001b[49m\u001b[38;5;241;43m=\u001b[39;49m\u001b[43mseries_idx\u001b[49m\u001b[43m \u001b[49m\u001b[38;5;28;43;01mif\u001b[39;49;00m\u001b[43m \u001b[49m\u001b[38;5;129;43;01mnot\u001b[39;49;00m\u001b[43m \u001b[49m\u001b[38;5;28;43mself\u001b[39;49m\u001b[38;5;241;43m.\u001b[39;49m\u001b[43m_global_fit\u001b[49m\u001b[43m \u001b[49m\u001b[38;5;28;43;01melse\u001b[39;49;00m\u001b[43m \u001b[49m\u001b[38;5;28;43;01mNone\u001b[39;49;00m\u001b[43m,\u001b[49m\n\u001b[0;32m    309\u001b[0m \u001b[43m        \u001b[49m\u001b[38;5;241;43m*\u001b[39;49m\u001b[38;5;241;43m*\u001b[39;49m\u001b[43mkwargs\u001b[49m\u001b[43m,\u001b[49m\n\u001b[0;32m    310\u001b[0m \u001b[43m    \u001b[49m\u001b[43m)\u001b[49m\n",
      "File \u001b[1;32m~\\Amine-Jupiter\\SESSION6\\ProjetSynthese\\Modele1_Classification\\TFT\\tft_env\\Lib\\site-packages\\darts\\dataprocessing\\transformers\\base_data_transformer.py:390\u001b[0m, in \u001b[0;36mBaseDataTransformer.transform\u001b[1;34m(self, series, component_mask, series_idx, *args, **kwargs)\u001b[0m\n\u001b[0;32m    387\u001b[0m kwargs[\u001b[38;5;124m\"\u001b[39m\u001b[38;5;124mmask_components_apply_only\u001b[39m\u001b[38;5;124m\"\u001b[39m] \u001b[38;5;241m=\u001b[39m \u001b[38;5;28;01mFalse\u001b[39;00m\n\u001b[0;32m    388\u001b[0m kwargs[\u001b[38;5;124m\"\u001b[39m\u001b[38;5;124mcomponent_mask\u001b[39m\u001b[38;5;124m\"\u001b[39m] \u001b[38;5;241m=\u001b[39m component_mask\n\u001b[1;32m--> 390\u001b[0m transformed_data \u001b[38;5;241m=\u001b[39m \u001b[43m_parallel_apply\u001b[49m\u001b[43m(\u001b[49m\n\u001b[0;32m    391\u001b[0m \u001b[43m    \u001b[49m\u001b[43minput_iterator\u001b[49m\u001b[43m,\u001b[49m\u001b[43m \u001b[49m\u001b[38;5;28;43mself\u001b[39;49m\u001b[38;5;241;43m.\u001b[39;49m\u001b[43m_ts_transform\u001b[49m\u001b[43m,\u001b[49m\u001b[43m \u001b[49m\u001b[38;5;28;43mself\u001b[39;49m\u001b[38;5;241;43m.\u001b[39;49m\u001b[43m_n_jobs\u001b[49m\u001b[43m,\u001b[49m\u001b[43m \u001b[49m\u001b[43margs\u001b[49m\u001b[43m,\u001b[49m\u001b[43m \u001b[49m\u001b[43mkwargs\u001b[49m\n\u001b[0;32m    392\u001b[0m \u001b[43m\u001b[49m\u001b[43m)\u001b[49m\n\u001b[0;32m    393\u001b[0m \u001b[38;5;28;01mreturn\u001b[39;00m (\n\u001b[0;32m    394\u001b[0m     transformed_data[\u001b[38;5;241m0\u001b[39m] \u001b[38;5;28;01mif\u001b[39;00m \u001b[38;5;28misinstance\u001b[39m(series, TimeSeries) \u001b[38;5;28;01melse\u001b[39;00m transformed_data\n\u001b[0;32m    395\u001b[0m )\n",
      "File \u001b[1;32m~\\Amine-Jupiter\\SESSION6\\ProjetSynthese\\Modele1_Classification\\TFT\\tft_env\\Lib\\site-packages\\darts\\utils\\utils.py:266\u001b[0m, in \u001b[0;36m_parallel_apply\u001b[1;34m(iterator, fn, n_jobs, fn_args, fn_kwargs)\u001b[0m\n\u001b[0;32m    241\u001b[0m \u001b[38;5;28;01mdef\u001b[39;00m\u001b[38;5;250m \u001b[39m\u001b[38;5;21m_parallel_apply\u001b[39m(\n\u001b[0;32m    242\u001b[0m     iterator: Iterator[\u001b[38;5;28mtuple\u001b[39m], fn: Callable, n_jobs: \u001b[38;5;28mint\u001b[39m, fn_args, fn_kwargs\n\u001b[0;32m    243\u001b[0m ) \u001b[38;5;241m-\u001b[39m\u001b[38;5;241m>\u001b[39m \u001b[38;5;28mlist\u001b[39m:\n\u001b[0;32m    244\u001b[0m \u001b[38;5;250m    \u001b[39m\u001b[38;5;124;03m\"\"\"\u001b[39;00m\n\u001b[0;32m    245\u001b[0m \u001b[38;5;124;03m    Utility function that parallelise the execution of a function over an Iterator\u001b[39;00m\n\u001b[0;32m    246\u001b[0m \n\u001b[1;32m   (...)\u001b[0m\n\u001b[0;32m    263\u001b[0m \n\u001b[0;32m    264\u001b[0m \u001b[38;5;124;03m    \"\"\"\u001b[39;00m\n\u001b[1;32m--> 266\u001b[0m     returned_data \u001b[38;5;241m=\u001b[39m \u001b[43mParallel\u001b[49m\u001b[43m(\u001b[49m\u001b[43mn_jobs\u001b[49m\u001b[38;5;241;43m=\u001b[39;49m\u001b[43mn_jobs\u001b[49m\u001b[43m)\u001b[49m\u001b[43m(\u001b[49m\n\u001b[0;32m    267\u001b[0m \u001b[43m        \u001b[49m\u001b[43mdelayed\u001b[49m\u001b[43m(\u001b[49m\u001b[43mfn\u001b[49m\u001b[43m)\u001b[49m\u001b[43m(\u001b[49m\u001b[38;5;241;43m*\u001b[39;49m\u001b[43msample\u001b[49m\u001b[43m,\u001b[49m\u001b[43m \u001b[49m\u001b[38;5;241;43m*\u001b[39;49m\u001b[43mfn_args\u001b[49m\u001b[43m,\u001b[49m\u001b[43m \u001b[49m\u001b[38;5;241;43m*\u001b[39;49m\u001b[38;5;241;43m*\u001b[39;49m\u001b[43mfn_kwargs\u001b[49m\u001b[43m)\u001b[49m\u001b[43m \u001b[49m\u001b[38;5;28;43;01mfor\u001b[39;49;00m\u001b[43m \u001b[49m\u001b[43msample\u001b[49m\u001b[43m \u001b[49m\u001b[38;5;129;43;01min\u001b[39;49;00m\u001b[43m \u001b[49m\u001b[43miterator\u001b[49m\n\u001b[0;32m    268\u001b[0m \u001b[43m    \u001b[49m\u001b[43m)\u001b[49m\n\u001b[0;32m    269\u001b[0m     \u001b[38;5;28;01mreturn\u001b[39;00m returned_data\n",
      "File \u001b[1;32m~\\Amine-Jupiter\\SESSION6\\ProjetSynthese\\Modele1_Classification\\TFT\\tft_env\\Lib\\site-packages\\joblib\\parallel.py:1918\u001b[0m, in \u001b[0;36mParallel.__call__\u001b[1;34m(self, iterable)\u001b[0m\n\u001b[0;32m   1916\u001b[0m     output \u001b[38;5;241m=\u001b[39m \u001b[38;5;28mself\u001b[39m\u001b[38;5;241m.\u001b[39m_get_sequential_output(iterable)\n\u001b[0;32m   1917\u001b[0m     \u001b[38;5;28mnext\u001b[39m(output)\n\u001b[1;32m-> 1918\u001b[0m     \u001b[38;5;28;01mreturn\u001b[39;00m output \u001b[38;5;28;01mif\u001b[39;00m \u001b[38;5;28mself\u001b[39m\u001b[38;5;241m.\u001b[39mreturn_generator \u001b[38;5;28;01melse\u001b[39;00m \u001b[38;5;28mlist\u001b[39m(output)\n\u001b[0;32m   1920\u001b[0m \u001b[38;5;66;03m# Let's create an ID that uniquely identifies the current call. If the\u001b[39;00m\n\u001b[0;32m   1921\u001b[0m \u001b[38;5;66;03m# call is interrupted early and that the same instance is immediately\u001b[39;00m\n\u001b[0;32m   1922\u001b[0m \u001b[38;5;66;03m# re-used, this id will be used to prevent workers that were\u001b[39;00m\n\u001b[0;32m   1923\u001b[0m \u001b[38;5;66;03m# concurrently finalizing a task from the previous call to run the\u001b[39;00m\n\u001b[0;32m   1924\u001b[0m \u001b[38;5;66;03m# callback.\u001b[39;00m\n\u001b[0;32m   1925\u001b[0m \u001b[38;5;28;01mwith\u001b[39;00m \u001b[38;5;28mself\u001b[39m\u001b[38;5;241m.\u001b[39m_lock:\n",
      "File \u001b[1;32m~\\Amine-Jupiter\\SESSION6\\ProjetSynthese\\Modele1_Classification\\TFT\\tft_env\\Lib\\site-packages\\joblib\\parallel.py:1847\u001b[0m, in \u001b[0;36mParallel._get_sequential_output\u001b[1;34m(self, iterable)\u001b[0m\n\u001b[0;32m   1845\u001b[0m \u001b[38;5;28mself\u001b[39m\u001b[38;5;241m.\u001b[39mn_dispatched_batches \u001b[38;5;241m+\u001b[39m\u001b[38;5;241m=\u001b[39m \u001b[38;5;241m1\u001b[39m\n\u001b[0;32m   1846\u001b[0m \u001b[38;5;28mself\u001b[39m\u001b[38;5;241m.\u001b[39mn_dispatched_tasks \u001b[38;5;241m+\u001b[39m\u001b[38;5;241m=\u001b[39m \u001b[38;5;241m1\u001b[39m\n\u001b[1;32m-> 1847\u001b[0m res \u001b[38;5;241m=\u001b[39m \u001b[43mfunc\u001b[49m\u001b[43m(\u001b[49m\u001b[38;5;241;43m*\u001b[39;49m\u001b[43margs\u001b[49m\u001b[43m,\u001b[49m\u001b[43m \u001b[49m\u001b[38;5;241;43m*\u001b[39;49m\u001b[38;5;241;43m*\u001b[39;49m\u001b[43mkwargs\u001b[49m\u001b[43m)\u001b[49m\n\u001b[0;32m   1848\u001b[0m \u001b[38;5;28mself\u001b[39m\u001b[38;5;241m.\u001b[39mn_completed_tasks \u001b[38;5;241m+\u001b[39m\u001b[38;5;241m=\u001b[39m \u001b[38;5;241m1\u001b[39m\n\u001b[0;32m   1849\u001b[0m \u001b[38;5;28mself\u001b[39m\u001b[38;5;241m.\u001b[39mprint_progress()\n",
      "File \u001b[1;32m~\\Amine-Jupiter\\SESSION6\\ProjetSynthese\\Modele1_Classification\\TFT\\tft_env\\Lib\\site-packages\\darts\\dataprocessing\\transformers\\base_data_transformer.py:47\u001b[0m, in \u001b[0;36mcomponent_masking.<locals>.transform_wrapper\u001b[1;34m(cls, series, params, *args, **kwargs)\u001b[0m\n\u001b[0;32m     44\u001b[0m     \u001b[38;5;28;01mif\u001b[39;00m component_mask \u001b[38;5;129;01mis\u001b[39;00m \u001b[38;5;129;01mnot\u001b[39;00m \u001b[38;5;28;01mNone\u001b[39;00m:\n\u001b[0;32m     45\u001b[0m         kwargs[\u001b[38;5;124m\"\u001b[39m\u001b[38;5;124mcomponent_mask\u001b[39m\u001b[38;5;124m\"\u001b[39m] \u001b[38;5;241m=\u001b[39m component_mask\n\u001b[1;32m---> 47\u001b[0m out \u001b[38;5;241m=\u001b[39m \u001b[43mtransformer_method\u001b[49m\u001b[43m(\u001b[49m\u001b[38;5;28;43mcls\u001b[39;49m\u001b[43m,\u001b[49m\u001b[43m \u001b[49m\u001b[43mseries_proc\u001b[49m\u001b[43m,\u001b[49m\u001b[43m \u001b[49m\u001b[43mparams\u001b[49m\u001b[43m,\u001b[49m\u001b[43m \u001b[49m\u001b[38;5;241;43m*\u001b[39;49m\u001b[43margs\u001b[49m\u001b[43m,\u001b[49m\u001b[43m \u001b[49m\u001b[38;5;241;43m*\u001b[39;49m\u001b[38;5;241;43m*\u001b[39;49m\u001b[43mkwargs\u001b[49m\u001b[43m)\u001b[49m\n\u001b[0;32m     49\u001b[0m \u001b[38;5;66;03m# add back non-transformed columns\u001b[39;00m\n\u001b[0;32m     50\u001b[0m \u001b[38;5;28;01mif\u001b[39;00m mask_components \u001b[38;5;129;01mand\u001b[39;00m \u001b[38;5;129;01mnot\u001b[39;00m mask_components_apply_only:\n",
      "File \u001b[1;32m~\\Amine-Jupiter\\SESSION6\\ProjetSynthese\\Modele1_Classification\\TFT\\tft_env\\Lib\\site-packages\\darts\\dataprocessing\\transformers\\base_data_transformer.py:232\u001b[0m, in \u001b[0;36mBaseDataTransformer._ts_transform\u001b[1;34m(cls, *args, **kwargs)\u001b[0m\n\u001b[0;32m    228\u001b[0m \u001b[38;5;129m@classmethod\u001b[39m\n\u001b[0;32m    229\u001b[0m \u001b[38;5;129m@component_masking\u001b[39m\n\u001b[0;32m    230\u001b[0m \u001b[38;5;28;01mdef\u001b[39;00m\u001b[38;5;250m \u001b[39m\u001b[38;5;21m_ts_transform\u001b[39m(\u001b[38;5;28mcls\u001b[39m, \u001b[38;5;241m*\u001b[39margs, \u001b[38;5;241m*\u001b[39m\u001b[38;5;241m*\u001b[39mkwargs):\n\u001b[0;32m    231\u001b[0m \u001b[38;5;250m    \u001b[39m\u001b[38;5;124;03m\"\"\"Applies component masking to `ts_transform`.\"\"\"\u001b[39;00m\n\u001b[1;32m--> 232\u001b[0m     \u001b[38;5;28;01mreturn\u001b[39;00m \u001b[38;5;28;43mcls\u001b[39;49m\u001b[38;5;241;43m.\u001b[39;49m\u001b[43mts_transform\u001b[49m\u001b[43m(\u001b[49m\u001b[38;5;241;43m*\u001b[39;49m\u001b[43margs\u001b[49m\u001b[43m,\u001b[49m\u001b[43m \u001b[49m\u001b[38;5;241;43m*\u001b[39;49m\u001b[38;5;241;43m*\u001b[39;49m\u001b[43mkwargs\u001b[49m\u001b[43m)\u001b[49m\n",
      "File \u001b[1;32m~\\Amine-Jupiter\\SESSION6\\ProjetSynthese\\Modele1_Classification\\TFT\\tft_env\\Lib\\site-packages\\darts\\dataprocessing\\transformers\\scaler.py:123\u001b[0m, in \u001b[0;36mScaler.ts_transform\u001b[1;34m(series, params, **kwargs)\u001b[0m\n\u001b[0;32m    117\u001b[0m \u001b[38;5;129m@staticmethod\u001b[39m\n\u001b[0;32m    118\u001b[0m \u001b[38;5;28;01mdef\u001b[39;00m\u001b[38;5;250m \u001b[39m\u001b[38;5;21mts_transform\u001b[39m(\n\u001b[0;32m    119\u001b[0m     series: TimeSeries, params: Mapping[\u001b[38;5;28mstr\u001b[39m, Any], \u001b[38;5;241m*\u001b[39m\u001b[38;5;241m*\u001b[39mkwargs\n\u001b[0;32m    120\u001b[0m ) \u001b[38;5;241m-\u001b[39m\u001b[38;5;241m>\u001b[39m TimeSeries:\n\u001b[0;32m    121\u001b[0m     transformer \u001b[38;5;241m=\u001b[39m params[\u001b[38;5;124m\"\u001b[39m\u001b[38;5;124mfitted\u001b[39m\u001b[38;5;124m\"\u001b[39m]\n\u001b[1;32m--> 123\u001b[0m     tr_out \u001b[38;5;241m=\u001b[39m \u001b[43mtransformer\u001b[49m\u001b[38;5;241;43m.\u001b[39;49m\u001b[43mtransform\u001b[49m\u001b[43m(\u001b[49m\u001b[43mScaler\u001b[49m\u001b[38;5;241;43m.\u001b[39;49m\u001b[43mstack_samples\u001b[49m\u001b[43m(\u001b[49m\u001b[43mseries\u001b[49m\u001b[43m)\u001b[49m\u001b[43m)\u001b[49m\n\u001b[0;32m    125\u001b[0m     transformed_vals \u001b[38;5;241m=\u001b[39m Scaler\u001b[38;5;241m.\u001b[39munstack_samples(tr_out, series\u001b[38;5;241m=\u001b[39mseries)\n\u001b[0;32m    127\u001b[0m     \u001b[38;5;28;01mreturn\u001b[39;00m series\u001b[38;5;241m.\u001b[39mwith_values(transformed_vals)\n",
      "File \u001b[1;32m~\\Amine-Jupiter\\SESSION6\\ProjetSynthese\\Modele1_Classification\\TFT\\tft_env\\Lib\\site-packages\\sklearn\\utils\\_set_output.py:316\u001b[0m, in \u001b[0;36m_wrap_method_output.<locals>.wrapped\u001b[1;34m(self, X, *args, **kwargs)\u001b[0m\n\u001b[0;32m    314\u001b[0m \u001b[38;5;129m@wraps\u001b[39m(f)\n\u001b[0;32m    315\u001b[0m \u001b[38;5;28;01mdef\u001b[39;00m\u001b[38;5;250m \u001b[39m\u001b[38;5;21mwrapped\u001b[39m(\u001b[38;5;28mself\u001b[39m, X, \u001b[38;5;241m*\u001b[39margs, \u001b[38;5;241m*\u001b[39m\u001b[38;5;241m*\u001b[39mkwargs):\n\u001b[1;32m--> 316\u001b[0m     data_to_wrap \u001b[38;5;241m=\u001b[39m \u001b[43mf\u001b[49m\u001b[43m(\u001b[49m\u001b[38;5;28;43mself\u001b[39;49m\u001b[43m,\u001b[49m\u001b[43m \u001b[49m\u001b[43mX\u001b[49m\u001b[43m,\u001b[49m\u001b[43m \u001b[49m\u001b[38;5;241;43m*\u001b[39;49m\u001b[43margs\u001b[49m\u001b[43m,\u001b[49m\u001b[43m \u001b[49m\u001b[38;5;241;43m*\u001b[39;49m\u001b[38;5;241;43m*\u001b[39;49m\u001b[43mkwargs\u001b[49m\u001b[43m)\u001b[49m\n\u001b[0;32m    317\u001b[0m     \u001b[38;5;28;01mif\u001b[39;00m \u001b[38;5;28misinstance\u001b[39m(data_to_wrap, \u001b[38;5;28mtuple\u001b[39m):\n\u001b[0;32m    318\u001b[0m         \u001b[38;5;66;03m# only wrap the first output for cross decomposition\u001b[39;00m\n\u001b[0;32m    319\u001b[0m         return_tuple \u001b[38;5;241m=\u001b[39m (\n\u001b[0;32m    320\u001b[0m             _wrap_data_with_container(method, data_to_wrap[\u001b[38;5;241m0\u001b[39m], X, \u001b[38;5;28mself\u001b[39m),\n\u001b[0;32m    321\u001b[0m             \u001b[38;5;241m*\u001b[39mdata_to_wrap[\u001b[38;5;241m1\u001b[39m:],\n\u001b[0;32m    322\u001b[0m         )\n",
      "File \u001b[1;32m~\\Amine-Jupiter\\SESSION6\\ProjetSynthese\\Modele1_Classification\\TFT\\tft_env\\Lib\\site-packages\\sklearn\\preprocessing\\_data.py:534\u001b[0m, in \u001b[0;36mMinMaxScaler.transform\u001b[1;34m(self, X)\u001b[0m\n\u001b[0;32m    530\u001b[0m check_is_fitted(\u001b[38;5;28mself\u001b[39m)\n\u001b[0;32m    532\u001b[0m xp, _ \u001b[38;5;241m=\u001b[39m get_namespace(X)\n\u001b[1;32m--> 534\u001b[0m X \u001b[38;5;241m=\u001b[39m \u001b[38;5;28;43mself\u001b[39;49m\u001b[38;5;241;43m.\u001b[39;49m\u001b[43m_validate_data\u001b[49m\u001b[43m(\u001b[49m\n\u001b[0;32m    535\u001b[0m \u001b[43m    \u001b[49m\u001b[43mX\u001b[49m\u001b[43m,\u001b[49m\n\u001b[0;32m    536\u001b[0m \u001b[43m    \u001b[49m\u001b[43mcopy\u001b[49m\u001b[38;5;241;43m=\u001b[39;49m\u001b[38;5;28;43mself\u001b[39;49m\u001b[38;5;241;43m.\u001b[39;49m\u001b[43mcopy\u001b[49m\u001b[43m,\u001b[49m\n\u001b[0;32m    537\u001b[0m \u001b[43m    \u001b[49m\u001b[43mdtype\u001b[49m\u001b[38;5;241;43m=\u001b[39;49m\u001b[43m_array_api\u001b[49m\u001b[38;5;241;43m.\u001b[39;49m\u001b[43msupported_float_dtypes\u001b[49m\u001b[43m(\u001b[49m\u001b[43mxp\u001b[49m\u001b[43m)\u001b[49m\u001b[43m,\u001b[49m\n\u001b[0;32m    538\u001b[0m \u001b[43m    \u001b[49m\u001b[43mforce_writeable\u001b[49m\u001b[38;5;241;43m=\u001b[39;49m\u001b[38;5;28;43;01mTrue\u001b[39;49;00m\u001b[43m,\u001b[49m\n\u001b[0;32m    539\u001b[0m \u001b[43m    \u001b[49m\u001b[43mforce_all_finite\u001b[49m\u001b[38;5;241;43m=\u001b[39;49m\u001b[38;5;124;43m\"\u001b[39;49m\u001b[38;5;124;43mallow-nan\u001b[39;49m\u001b[38;5;124;43m\"\u001b[39;49m\u001b[43m,\u001b[49m\n\u001b[0;32m    540\u001b[0m \u001b[43m    \u001b[49m\u001b[43mreset\u001b[49m\u001b[38;5;241;43m=\u001b[39;49m\u001b[38;5;28;43;01mFalse\u001b[39;49;00m\u001b[43m,\u001b[49m\n\u001b[0;32m    541\u001b[0m \u001b[43m\u001b[49m\u001b[43m)\u001b[49m\n\u001b[0;32m    543\u001b[0m X \u001b[38;5;241m*\u001b[39m\u001b[38;5;241m=\u001b[39m \u001b[38;5;28mself\u001b[39m\u001b[38;5;241m.\u001b[39mscale_\n\u001b[0;32m    544\u001b[0m X \u001b[38;5;241m+\u001b[39m\u001b[38;5;241m=\u001b[39m \u001b[38;5;28mself\u001b[39m\u001b[38;5;241m.\u001b[39mmin_\n",
      "File \u001b[1;32m~\\Amine-Jupiter\\SESSION6\\ProjetSynthese\\Modele1_Classification\\TFT\\tft_env\\Lib\\site-packages\\sklearn\\base.py:654\u001b[0m, in \u001b[0;36mBaseEstimator._validate_data\u001b[1;34m(self, X, y, reset, validate_separately, cast_to_ndarray, **check_params)\u001b[0m\n\u001b[0;32m    651\u001b[0m     out \u001b[38;5;241m=\u001b[39m X, y\n\u001b[0;32m    653\u001b[0m \u001b[38;5;28;01mif\u001b[39;00m \u001b[38;5;129;01mnot\u001b[39;00m no_val_X \u001b[38;5;129;01mand\u001b[39;00m check_params\u001b[38;5;241m.\u001b[39mget(\u001b[38;5;124m\"\u001b[39m\u001b[38;5;124mensure_2d\u001b[39m\u001b[38;5;124m\"\u001b[39m, \u001b[38;5;28;01mTrue\u001b[39;00m):\n\u001b[1;32m--> 654\u001b[0m     \u001b[38;5;28;43mself\u001b[39;49m\u001b[38;5;241;43m.\u001b[39;49m\u001b[43m_check_n_features\u001b[49m\u001b[43m(\u001b[49m\u001b[43mX\u001b[49m\u001b[43m,\u001b[49m\u001b[43m \u001b[49m\u001b[43mreset\u001b[49m\u001b[38;5;241;43m=\u001b[39;49m\u001b[43mreset\u001b[49m\u001b[43m)\u001b[49m\n\u001b[0;32m    656\u001b[0m \u001b[38;5;28;01mreturn\u001b[39;00m out\n",
      "File \u001b[1;32m~\\Amine-Jupiter\\SESSION6\\ProjetSynthese\\Modele1_Classification\\TFT\\tft_env\\Lib\\site-packages\\sklearn\\base.py:443\u001b[0m, in \u001b[0;36mBaseEstimator._check_n_features\u001b[1;34m(self, X, reset)\u001b[0m\n\u001b[0;32m    440\u001b[0m     \u001b[38;5;28;01mreturn\u001b[39;00m\n\u001b[0;32m    442\u001b[0m \u001b[38;5;28;01mif\u001b[39;00m n_features \u001b[38;5;241m!=\u001b[39m \u001b[38;5;28mself\u001b[39m\u001b[38;5;241m.\u001b[39mn_features_in_:\n\u001b[1;32m--> 443\u001b[0m     \u001b[38;5;28;01mraise\u001b[39;00m \u001b[38;5;167;01mValueError\u001b[39;00m(\n\u001b[0;32m    444\u001b[0m         \u001b[38;5;124mf\u001b[39m\u001b[38;5;124m\"\u001b[39m\u001b[38;5;124mX has \u001b[39m\u001b[38;5;132;01m{\u001b[39;00mn_features\u001b[38;5;132;01m}\u001b[39;00m\u001b[38;5;124m features, but \u001b[39m\u001b[38;5;132;01m{\u001b[39;00m\u001b[38;5;28mself\u001b[39m\u001b[38;5;241m.\u001b[39m\u001b[38;5;18m__class__\u001b[39m\u001b[38;5;241m.\u001b[39m\u001b[38;5;18m__name__\u001b[39m\u001b[38;5;132;01m}\u001b[39;00m\u001b[38;5;124m \u001b[39m\u001b[38;5;124m\"\u001b[39m\n\u001b[0;32m    445\u001b[0m         \u001b[38;5;124mf\u001b[39m\u001b[38;5;124m\"\u001b[39m\u001b[38;5;124mis expecting \u001b[39m\u001b[38;5;132;01m{\u001b[39;00m\u001b[38;5;28mself\u001b[39m\u001b[38;5;241m.\u001b[39mn_features_in_\u001b[38;5;132;01m}\u001b[39;00m\u001b[38;5;124m features as input.\u001b[39m\u001b[38;5;124m\"\u001b[39m\n\u001b[0;32m    446\u001b[0m     )\n",
      "\u001b[1;31mValueError\u001b[0m: X has 3 features, but MinMaxScaler is expecting 12 features as input."
     ]
    }
   ],
   "source": [
    "##############################################################################\n",
    "## 8 - Création d'un ensemble de Test de 20 mn pour simuler la production  ##\n",
    "############################################################################\n",
    "from darts import TimeSeries\n",
    "import joblib\n",
    "import pandas as pd\n",
    "\n",
    "# Définir les features continues et les covariables temporelles\n",
    "continuous_features = [\"TP2\", \"H1\", \"DV_pressure\", \"Oil_temperature\", \"Motor_current\"]\n",
    "categorical_features = [\"COMP\", \"DV_eletric\", \"MPG\"]\n",
    "\n",
    "# Définir la durée nécessaire pour l'entrée du modèle (20 minutes)\n",
    "test_duration = pd.Timedelta(minutes=20)\n",
    "\n",
    "# Déterminer la plage de test\n",
    "test_end = pd.Timestamp(\"2020-07-15 19:30:00\")  # Fin de la période de test\n",
    "test_start = test_end - test_duration  # Début = Fin - 20 minutes\n",
    "\n",
    "# Filtrer `df_original` pour obtenir exactement 20 minutes de données\n",
    "df_prod = df_original.loc[(df_original.index > test_start) & (df_original.index <= test_end)].copy()\n",
    "\n",
    "# Vérifier la taille et la continuité des données\n",
    "expected_size = 20 * 60 / 10  # 20 minutes * 60 secondes / 10 secondes par pas\n",
    "actual_size = len(df_prod)\n",
    "\n",
    "print(f\"Taille réelle de `df_test_20min` : {actual_size} observations\")\n",
    "print(f\"Taille attendue : {expected_size} observations\")\n",
    "\n",
    "# Supprimer la colonne `panne` (cette info n'est pas dispo en prod)\n",
    "df_prod = df_prod.drop(columns=[\"panne\"], errors=\"ignore\")\n",
    "\n",
    "# 📌 **Charger les scalers sauvegardés**\n",
    "scaler_continuous = joblib.load(rf\"..\\..\\Generated_Files\\TFT\\scaler_continuous.pkl\")\n",
    "scaler_covariates = joblib.load(rf\"..\\..\\Generated_Files\\TFT\\scaler_covariates.pkl\")\n",
    "\n",
    "# 📌 **Séparer les features continues et les covariables**\n",
    "df_prod_continuous = df_prod[continuous_features]  # Features continues\n",
    "df_prod_covariates = df_prod[categorical_features]  # Covariables temporelles\n",
    "\n",
    "# 📌 **Convertir en TimeSeries**\n",
    "series_prod_continuous = TimeSeries.from_dataframe(df_prod_continuous)\n",
    "series_prod_covariates = TimeSeries.from_dataframe(df_prod_covariates)\n",
    "\n",
    "# 📌 **Appliquer les scalers aux séries temporelles**\n",
    "df_prod_continuous_scaled = scaler_continuous.transform(series_prod_continuous)\n",
    "df_prod_covariates_scaled = scaler_covariates.transform(series_prod_covariates)\n",
    "\n",
    "# 📌 **Recombiner les données normalisées**\n",
    "df_prod_scaled = df_prod_continuous_scaled.stack(df_prod_covariates_scaled)\n",
    "\n",
    "# ✅ **Vérifier la taille après normalisation**\n",
    "print(f\"Taille finale après normalisation : {df_prod_scaled.shape}\")\n",
    "\n",
    "# 📌 **Convertir en série temporelle pour le modèle**\n",
    "series_prod_scaled = TimeSeries.from_dataframe(df_prod_scaled)\n",
    "\n",
    "print(\"✅ Données de production normalisées avec succès et converties en `TimeSeries` !\")\n",
    "\n",
    "# Vous pouvez maintenant utiliser `series_prod_scaled` pour faire des prédictions avec le modèle\n"
   ]
  },
  {
   "cell_type": "code",
   "execution_count": 26,
   "id": "835e79d8-5de0-48d8-ad92-5c0e33b1eb7d",
   "metadata": {},
   "outputs": [],
   "source": [
    "########################################################################################################\n",
    "########################################################################################################\n",
    "########################################################################################################"
   ]
  },
  {
   "cell_type": "code",
   "execution_count": 67,
   "id": "208546d9-db70-4258-b40a-4a03b1368f5f",
   "metadata": {},
   "outputs": [
    {
     "name": "stdout",
     "output_type": "stream",
     "text": [
      "Période de test construite avec 360 observations.\n",
      "Nombre total de fenêtres Test : 181\n"
     ]
    },
    {
     "name": "stderr",
     "output_type": "stream",
     "text": [
      "INFO:pytorch_lightning.utilities.rank_zero:GPU available: False, used: False\n",
      "INFO:pytorch_lightning.utilities.rank_zero:TPU available: False, using: 0 TPU cores\n",
      "INFO:pytorch_lightning.utilities.rank_zero:HPU available: False, using: 0 HPUs\n"
     ]
    },
    {
     "data": {
      "application/vnd.jupyter.widget-view+json": {
       "model_id": "1b7a0d22562842fa8e1d7b8385bf4906",
       "version_major": 2,
       "version_minor": 0
      },
      "text/plain": [
       "Predicting: |                                                                                    | 0/? [00:00<…"
      ]
     },
     "metadata": {},
     "output_type": "display_data"
    },
    {
     "name": "stdout",
     "output_type": "stream",
     "text": [
      "Prédictions générées avec succès !\n"
     ]
    },
    {
     "data": {
      "text/html": [
       "<div>\n",
       "<style scoped>\n",
       "    .dataframe tbody tr th:only-of-type {\n",
       "        vertical-align: middle;\n",
       "    }\n",
       "\n",
       "    .dataframe tbody tr th {\n",
       "        vertical-align: top;\n",
       "    }\n",
       "\n",
       "    .dataframe thead th {\n",
       "        text-align: right;\n",
       "    }\n",
       "</style>\n",
       "<table border=\"1\" class=\"dataframe\">\n",
       "  <thead>\n",
       "    <tr style=\"text-align: right;\">\n",
       "      <th>component</th>\n",
       "      <th>panne</th>\n",
       "    </tr>\n",
       "    <tr>\n",
       "      <th>time</th>\n",
       "      <th></th>\n",
       "    </tr>\n",
       "  </thead>\n",
       "  <tbody>\n",
       "    <tr>\n",
       "      <th>2020-07-15 14:59:50</th>\n",
       "      <td>0.982332</td>\n",
       "    </tr>\n",
       "    <tr>\n",
       "      <th>2020-07-15 15:00:00</th>\n",
       "      <td>1.015188</td>\n",
       "    </tr>\n",
       "  </tbody>\n",
       "</table>\n",
       "</div>"
      ],
      "text/plain": [
       "component               panne\n",
       "time                         \n",
       "2020-07-15 14:59:50  0.982332\n",
       "2020-07-15 15:00:00  1.015188"
      ]
     },
     "metadata": {},
     "output_type": "display_data"
    },
    {
     "data": {
      "image/png": "[encoded data removed]",
      "text/plain": [
       "<Figure size 1200x500 with 1 Axes>"
      ]
     },
     "metadata": {},
     "output_type": "display_data"
    }
   ],
   "source": [
    "import pandas as pd\n",
    "import numpy as np\n",
    "import matplotlib.pyplot as plt\n",
    "from darts import TimeSeries\n",
    "from darts.utils.timeseries_generation import datetime_attribute_timeseries\n",
    "\n",
    "# Définir les features continues et les covariables temporelles\n",
    "continuous_features = [\"TP2\", \"H1\", \"DV_pressure\", \"Oil_temperature\", \"Motor_current\"]\n",
    "categorical_features = [\"COMP\", \"DV_eletric\", \"MPG\"]\n",
    "\n",
    "# Définir la durée nécessaire pour l'entrée du modèle (60 minutes)\n",
    "test_duration = pd.Timedelta(minutes=60)  # 60 minutes pour la période de test\n",
    "\n",
    "# Définir le point de départ du test (ici, à partir de 19h30)\n",
    "test_start = pd.Timestamp(\"2020-07-15 14:00:00\")\n",
    "test_end = test_start + test_duration  # La période de test s'étend sur 60 minutes\n",
    "\n",
    "# Filtrer df_original pour obtenir exactement 60 minutes de données\n",
    "df_prod = df_original.loc[(df_original.index > test_start) & (df_original.index <= test_end)].copy()\n",
    "\n",
    "# Vérifier que la période de test contient bien les données attendues\n",
    "assert len(df_prod) == test_duration.total_seconds() / 10, f\"Erreur : df_prod contient {len(df_prod)} observations au lieu de {test_duration.total_seconds() / 10}\"\n",
    "\n",
    "print(f\"Période de test construite avec {len(df_prod)} observations.\")\n",
    "\n",
    "# 2. Convertir en TimeSeries\n",
    "series_transformed_test_prod = TimeSeries.from_dataframe(df_prod, value_cols=[\"panne\"], freq=\"10s\", fill_missing_dates=False)\n",
    "\n",
    "# 3. Normalisation avec les mêmes scalers\n",
    "series_continuous_transformed_test_prod = scaler_continuous.transform(\n",
    "    TimeSeries.from_dataframe(df_prod, value_cols=continuous_features)\n",
    ")\n",
    "\n",
    "# Covariables temporelles (ajout du mois en one-hot encoding)\n",
    "covariates_test_prod = datetime_attribute_timeseries(series_transformed_test_prod, attribute=\"month\", one_hot=True)\n",
    "\n",
    "# Normalisation des covariables temporelles avec le même scaler que l'entraînement\n",
    "covariates_transformed_test_prod = scaler_covariates.transform(covariates_test_prod)\n",
    "\n",
    "# 4. Créer la fenêtre de test avec 120 observations pour la prédiction\n",
    "input_chunk_length_test_prod = 120\n",
    "output_chunk_length_test_prod = 60  # 60 observations pour la sortie\n",
    "\n",
    "# Vérifier que les covariables sont bien alignées avec la série\n",
    "future_covariates_test_prod = covariates_transformed_test_prod.slice_intersect(series_transformed_test_prod)\n",
    "\n",
    "# Créer le dataset de test\n",
    "test_dataset_single_window_prod = MixedCovariatesSequentialDataset(\n",
    "    target_series=series_transformed_test_prod,  \n",
    "    future_covariates=future_covariates_test_prod,  \n",
    "    input_chunk_length=input_chunk_length_test_prod,\n",
    "    output_chunk_length=output_chunk_length_test_prod\n",
    ")\n",
    "\n",
    "# Afficher le nombre de fenêtres\n",
    "print(f\"Nombre total de fenêtres Test : {len(test_dataset_single_window_prod)}\")\n",
    "\n",
    "# 5. Effectuer la prédiction sur cette fenêtre unique\n",
    "extended_predictions_prod = model.historical_forecasts(\n",
    "    series=series_transformed_test_prod,  \n",
    "    future_covariates=future_covariates_test_prod,  \n",
    "    start=series_transformed_test_prod.end_time() - pd.Timedelta(seconds=10 * output_chunk_length_test_prod),\n",
    "    forecast_horizon=output_chunk_length_test_prod,  # 60 observations pour la sortie\n",
    "    stride=1,\n",
    "    retrain=False,\n",
    "    overlap_end=True,\n",
    "    verbose=True\n",
    ")\n",
    "\n",
    "# 6. Affichage des prédictions\n",
    "print(\"Prédictions générées avec succès !\")\n",
    "display(extended_predictions_prod.pd_dataframe().head(20))  # Afficher les 20 premières valeurs\n",
    "\n",
    "# Visualisation\n",
    "plt.figure(figsize=(12, 5))\n",
    "series_transformed_test_prod.plot(label=\"Série réelle\")\n",
    "extended_predictions_prod.plot(label=\"Prédictions\", linestyle=\"dashed\")\n",
    "plt.title(\"Prédictions TFT sur l'ensemble de test (60 observations dans le futur)\")\n",
    "plt.legend()\n",
    "plt.show()\n"
   ]
  },
  {
   "cell_type": "code",
   "execution_count": 68,
   "id": "02fb4d76-3c02-414f-958d-c4de4b4247af",
   "metadata": {},
   "outputs": [
    {
     "name": "stdout",
     "output_type": "stream",
     "text": [
      "Nombre total de prédictions entre 2020-07-15 14:00:00 et 2020-07-17 05:30:00 : 2\n"
     ]
    },
    {
     "data": {
      "text/html": [
       "<div>\n",
       "<style scoped>\n",
       "    .dataframe tbody tr th:only-of-type {\n",
       "        vertical-align: middle;\n",
       "    }\n",
       "\n",
       "    .dataframe tbody tr th {\n",
       "        vertical-align: top;\n",
       "    }\n",
       "\n",
       "    .dataframe thead th {\n",
       "        text-align: right;\n",
       "    }\n",
       "</style>\n",
       "<table border=\"1\" class=\"dataframe\">\n",
       "  <thead>\n",
       "    <tr style=\"text-align: right;\">\n",
       "      <th>component</th>\n",
       "      <th>panne</th>\n",
       "    </tr>\n",
       "    <tr>\n",
       "      <th>time</th>\n",
       "      <th></th>\n",
       "    </tr>\n",
       "  </thead>\n",
       "  <tbody>\n",
       "    <tr>\n",
       "      <th>2020-07-15 14:59:50</th>\n",
       "      <td>0.982332</td>\n",
       "    </tr>\n",
       "    <tr>\n",
       "      <th>2020-07-15 15:00:00</th>\n",
       "      <td>1.015188</td>\n",
       "    </tr>\n",
       "  </tbody>\n",
       "</table>\n",
       "</div>"
      ],
      "text/plain": [
       "component               panne\n",
       "time                         \n",
       "2020-07-15 14:59:50  0.982332\n",
       "2020-07-15 15:00:00  1.015188"
      ]
     },
     "metadata": {},
     "output_type": "display_data"
    },
    {
     "data": {
      "image/png": "[encoded data removed]",
      "text/plain": [
       "<Figure size 1200x500 with 1 Axes>"
      ]
     },
     "metadata": {},
     "output_type": "display_data"
    }
   ],
   "source": [
    "# Définir la période de test\n",
    "test_start = pd.Timestamp(\"2020-07-15 14:00:00\")\n",
    "test_end = pd.Timestamp(\"2020-07-17 05:30:00\")\n",
    "\n",
    "# Vérification de la durée totale des prédictions générées\n",
    "extended_predictions_prod_df = extended_predictions_prod.pd_dataframe()\n",
    "\n",
    "# Filtrer les prédictions dans la période de test spécifiée\n",
    "filtered_predictions = extended_predictions_prod_df[\n",
    "    (extended_predictions_prod_df.index >= test_start) & \n",
    "    (extended_predictions_prod_df.index <= test_end)\n",
    "]\n",
    "\n",
    "# Affichage des prédictions entre test_start et test_end\n",
    "print(f\"Nombre total de prédictions entre {test_start} et {test_end} : {len(filtered_predictions)}\")\n",
    "display(filtered_predictions)\n",
    "\n",
    "# Visualisation des prédictions entre test_start et test_end\n",
    "plt.figure(figsize=(12, 5))\n",
    "series_transformed_test_prod.plot(label=\"Série réelle\")  # Afficher la série réelle\n",
    "plt.plot(filtered_predictions.index, filtered_predictions[\"panne\"], label=\"Prédictions\", linestyle=\"dashed\")\n",
    "plt.title(f\"Prédictions TFT sur l'ensemble de test entre {test_start} et {test_end}\")\n",
    "plt.legend()\n",
    "plt.show()\n"
   ]
  },
  {
   "cell_type": "code",
   "execution_count": 69,
   "id": "34513995-b709-4698-a8fc-a1b219b49f5c",
   "metadata": {},
   "outputs": [
    {
     "name": "stderr",
     "output_type": "stream",
     "text": [
      "INFO:pytorch_lightning.utilities.rank_zero:GPU available: False, used: False\n",
      "INFO:pytorch_lightning.utilities.rank_zero:TPU available: False, using: 0 TPU cores\n",
      "INFO:pytorch_lightning.utilities.rank_zero:HPU available: False, using: 0 HPUs\n"
     ]
    },
    {
     "data": {
      "application/vnd.jupyter.widget-view+json": {
       "model_id": "ad5668a347854f1f987e3e9258b5959e",
       "version_major": 2,
       "version_minor": 0
      },
      "text/plain": [
       "Predicting: |                                                                                    | 0/? [00:00<…"
      ]
     },
     "metadata": {},
     "output_type": "display_data"
    },
    {
     "name": "stderr",
     "output_type": "stream",
     "text": [
      "INFO:pytorch_lightning.utilities.rank_zero:GPU available: False, used: False\n",
      "INFO:pytorch_lightning.utilities.rank_zero:TPU available: False, using: 0 TPU cores\n",
      "INFO:pytorch_lightning.utilities.rank_zero:HPU available: False, using: 0 HPUs\n"
     ]
    },
    {
     "data": {
      "application/vnd.jupyter.widget-view+json": {
       "model_id": "09b04cee4c03498fb1ebb967e448a1a6",
       "version_major": 2,
       "version_minor": 0
      },
      "text/plain": [
       "Predicting: |                                                                                    | 0/? [00:00<…"
      ]
     },
     "metadata": {},
     "output_type": "display_data"
    },
    {
     "name": "stderr",
     "output_type": "stream",
     "text": [
      "INFO:pytorch_lightning.utilities.rank_zero:GPU available: False, used: False\n",
      "INFO:pytorch_lightning.utilities.rank_zero:TPU available: False, using: 0 TPU cores\n",
      "INFO:pytorch_lightning.utilities.rank_zero:HPU available: False, using: 0 HPUs\n"
     ]
    },
    {
     "data": {
      "application/vnd.jupyter.widget-view+json": {
       "model_id": "528a7cb77e6e4973aab2414930074a37",
       "version_major": 2,
       "version_minor": 0
      },
      "text/plain": [
       "Predicting: |                                                                                    | 0/? [00:00<…"
      ]
     },
     "metadata": {},
     "output_type": "display_data"
    },
    {
     "name": "stderr",
     "output_type": "stream",
     "text": [
      "INFO:pytorch_lightning.utilities.rank_zero:GPU available: False, used: False\n",
      "INFO:pytorch_lightning.utilities.rank_zero:TPU available: False, using: 0 TPU cores\n",
      "INFO:pytorch_lightning.utilities.rank_zero:HPU available: False, using: 0 HPUs\n"
     ]
    },
    {
     "data": {
      "application/vnd.jupyter.widget-view+json": {
       "model_id": "4dfa74fc7cc04985aa9fcf47f23c72a6",
       "version_major": 2,
       "version_minor": 0
      },
      "text/plain": [
       "Predicting: |                                                                                    | 0/? [00:00<…"
      ]
     },
     "metadata": {},
     "output_type": "display_data"
    },
    {
     "name": "stderr",
     "output_type": "stream",
     "text": [
      "INFO:pytorch_lightning.utilities.rank_zero:GPU available: False, used: False\n",
      "INFO:pytorch_lightning.utilities.rank_zero:TPU available: False, using: 0 TPU cores\n",
      "INFO:pytorch_lightning.utilities.rank_zero:HPU available: False, using: 0 HPUs\n"
     ]
    },
    {
     "data": {
      "application/vnd.jupyter.widget-view+json": {
       "model_id": "76e5f167dd054689b487685d892dc153",
       "version_major": 2,
       "version_minor": 0
      },
      "text/plain": [
       "Predicting: |                                                                                    | 0/? [00:00<…"
      ]
     },
     "metadata": {},
     "output_type": "display_data"
    },
    {
     "name": "stderr",
     "output_type": "stream",
     "text": [
      "INFO:pytorch_lightning.utilities.rank_zero:GPU available: False, used: False\n",
      "INFO:pytorch_lightning.utilities.rank_zero:TPU available: False, using: 0 TPU cores\n",
      "INFO:pytorch_lightning.utilities.rank_zero:HPU available: False, using: 0 HPUs\n"
     ]
    },
    {
     "data": {
      "application/vnd.jupyter.widget-view+json": {
       "model_id": "783e5ad0635b4e418c18f5ada929f107",
       "version_major": 2,
       "version_minor": 0
      },
      "text/plain": [
       "Predicting: |                                                                                    | 0/? [00:00<…"
      ]
     },
     "metadata": {},
     "output_type": "display_data"
    },
    {
     "name": "stderr",
     "output_type": "stream",
     "text": [
      "INFO:pytorch_lightning.utilities.rank_zero:GPU available: False, used: False\n",
      "INFO:pytorch_lightning.utilities.rank_zero:TPU available: False, using: 0 TPU cores\n",
      "INFO:pytorch_lightning.utilities.rank_zero:HPU available: False, using: 0 HPUs\n"
     ]
    },
    {
     "data": {
      "application/vnd.jupyter.widget-view+json": {
       "model_id": "952c0cf74fd7464e9210624aa24db61c",
       "version_major": 2,
       "version_minor": 0
      },
      "text/plain": [
       "Predicting: |                                                                                    | 0/? [00:00<…"
      ]
     },
     "metadata": {},
     "output_type": "display_data"
    },
    {
     "name": "stderr",
     "output_type": "stream",
     "text": [
      "INFO:pytorch_lightning.utilities.rank_zero:GPU available: False, used: False\n",
      "INFO:pytorch_lightning.utilities.rank_zero:TPU available: False, using: 0 TPU cores\n",
      "INFO:pytorch_lightning.utilities.rank_zero:HPU available: False, using: 0 HPUs\n"
     ]
    },
    {
     "data": {
      "application/vnd.jupyter.widget-view+json": {
       "model_id": "ca8306b1ed3c4d5ab72cee8d824dfbba",
       "version_major": 2,
       "version_minor": 0
      },
      "text/plain": [
       "Predicting: |                                                                                    | 0/? [00:00<…"
      ]
     },
     "metadata": {},
     "output_type": "display_data"
    },
    {
     "name": "stderr",
     "output_type": "stream",
     "text": [
      "INFO:pytorch_lightning.utilities.rank_zero:GPU available: False, used: False\n",
      "INFO:pytorch_lightning.utilities.rank_zero:TPU available: False, using: 0 TPU cores\n",
      "INFO:pytorch_lightning.utilities.rank_zero:HPU available: False, using: 0 HPUs\n"
     ]
    },
    {
     "data": {
      "application/vnd.jupyter.widget-view+json": {
       "model_id": "6f710284f9774818893626cd07ae86b0",
       "version_major": 2,
       "version_minor": 0
      },
      "text/plain": [
       "Predicting: |                                                                                    | 0/? [00:00<…"
      ]
     },
     "metadata": {},
     "output_type": "display_data"
    },
    {
     "name": "stderr",
     "output_type": "stream",
     "text": [
      "INFO:pytorch_lightning.utilities.rank_zero:GPU available: False, used: False\n",
      "INFO:pytorch_lightning.utilities.rank_zero:TPU available: False, using: 0 TPU cores\n",
      "INFO:pytorch_lightning.utilities.rank_zero:HPU available: False, using: 0 HPUs\n"
     ]
    },
    {
     "data": {
      "application/vnd.jupyter.widget-view+json": {
       "model_id": "532fd559068547ebbf00e39112ca839d",
       "version_major": 2,
       "version_minor": 0
      },
      "text/plain": [
       "Predicting: |                                                                                    | 0/? [00:00<…"
      ]
     },
     "metadata": {},
     "output_type": "display_data"
    },
    {
     "name": "stderr",
     "output_type": "stream",
     "text": [
      "INFO:pytorch_lightning.utilities.rank_zero:GPU available: False, used: False\n",
      "INFO:pytorch_lightning.utilities.rank_zero:TPU available: False, using: 0 TPU cores\n",
      "INFO:pytorch_lightning.utilities.rank_zero:HPU available: False, using: 0 HPUs\n"
     ]
    },
    {
     "data": {
      "application/vnd.jupyter.widget-view+json": {
       "model_id": "530b258ab3894eab8e1e34fbe8690af5",
       "version_major": 2,
       "version_minor": 0
      },
      "text/plain": [
       "Predicting: |                                                                                    | 0/? [00:00<…"
      ]
     },
     "metadata": {},
     "output_type": "display_data"
    },
    {
     "name": "stderr",
     "output_type": "stream",
     "text": [
      "INFO:pytorch_lightning.utilities.rank_zero:GPU available: False, used: False\n",
      "INFO:pytorch_lightning.utilities.rank_zero:TPU available: False, using: 0 TPU cores\n",
      "INFO:pytorch_lightning.utilities.rank_zero:HPU available: False, using: 0 HPUs\n"
     ]
    },
    {
     "data": {
      "application/vnd.jupyter.widget-view+json": {
       "model_id": "e9ebf6f586364aa788c47872dbf4ec2a",
       "version_major": 2,
       "version_minor": 0
      },
      "text/plain": [
       "Predicting: |                                                                                    | 0/? [00:00<…"
      ]
     },
     "metadata": {},
     "output_type": "display_data"
    },
    {
     "name": "stderr",
     "output_type": "stream",
     "text": [
      "INFO:pytorch_lightning.utilities.rank_zero:GPU available: False, used: False\n",
      "INFO:pytorch_lightning.utilities.rank_zero:TPU available: False, using: 0 TPU cores\n",
      "INFO:pytorch_lightning.utilities.rank_zero:HPU available: False, using: 0 HPUs\n"
     ]
    },
    {
     "data": {
      "application/vnd.jupyter.widget-view+json": {
       "model_id": "8051d40e1b374af09f19d0d7a99d98c1",
       "version_major": 2,
       "version_minor": 0
      },
      "text/plain": [
       "Predicting: |                                                                                    | 0/? [00:00<…"
      ]
     },
     "metadata": {},
     "output_type": "display_data"
    },
    {
     "name": "stderr",
     "output_type": "stream",
     "text": [
      "INFO:pytorch_lightning.utilities.rank_zero:GPU available: False, used: False\n",
      "INFO:pytorch_lightning.utilities.rank_zero:TPU available: False, using: 0 TPU cores\n",
      "INFO:pytorch_lightning.utilities.rank_zero:HPU available: False, using: 0 HPUs\n"
     ]
    },
    {
     "data": {
      "application/vnd.jupyter.widget-view+json": {
       "model_id": "b7e0fc4c042c417ba7cbff08bf43276c",
       "version_major": 2,
       "version_minor": 0
      },
      "text/plain": [
       "Predicting: |                                                                                    | 0/? [00:00<…"
      ]
     },
     "metadata": {},
     "output_type": "display_data"
    },
    {
     "name": "stderr",
     "output_type": "stream",
     "text": [
      "INFO:pytorch_lightning.utilities.rank_zero:GPU available: False, used: False\n",
      "INFO:pytorch_lightning.utilities.rank_zero:TPU available: False, using: 0 TPU cores\n",
      "INFO:pytorch_lightning.utilities.rank_zero:HPU available: False, using: 0 HPUs\n"
     ]
    },
    {
     "data": {
      "application/vnd.jupyter.widget-view+json": {
       "model_id": "f2dacf7f8c454cec85c0e495c3f327a3",
       "version_major": 2,
       "version_minor": 0
      },
      "text/plain": [
       "Predicting: |                                                                                    | 0/? [00:00<…"
      ]
     },
     "metadata": {},
     "output_type": "display_data"
    },
    {
     "name": "stderr",
     "output_type": "stream",
     "text": [
      "INFO:pytorch_lightning.utilities.rank_zero:GPU available: False, used: False\n",
      "INFO:pytorch_lightning.utilities.rank_zero:TPU available: False, using: 0 TPU cores\n",
      "INFO:pytorch_lightning.utilities.rank_zero:HPU available: False, using: 0 HPUs\n"
     ]
    },
    {
     "data": {
      "application/vnd.jupyter.widget-view+json": {
       "model_id": "2f7c988d4a4b4defb1333eca96fcc5d6",
       "version_major": 2,
       "version_minor": 0
      },
      "text/plain": [
       "Predicting: |                                                                                    | 0/? [00:00<…"
      ]
     },
     "metadata": {},
     "output_type": "display_data"
    },
    {
     "name": "stderr",
     "output_type": "stream",
     "text": [
      "INFO:pytorch_lightning.utilities.rank_zero:GPU available: False, used: False\n",
      "INFO:pytorch_lightning.utilities.rank_zero:TPU available: False, using: 0 TPU cores\n",
      "INFO:pytorch_lightning.utilities.rank_zero:HPU available: False, using: 0 HPUs\n"
     ]
    },
    {
     "data": {
      "application/vnd.jupyter.widget-view+json": {
       "model_id": "d172ad000c3f464a9d21807715dc7c7e",
       "version_major": 2,
       "version_minor": 0
      },
      "text/plain": [
       "Predicting: |                                                                                    | 0/? [00:00<…"
      ]
     },
     "metadata": {},
     "output_type": "display_data"
    },
    {
     "name": "stderr",
     "output_type": "stream",
     "text": [
      "INFO:pytorch_lightning.utilities.rank_zero:GPU available: False, used: False\n",
      "INFO:pytorch_lightning.utilities.rank_zero:TPU available: False, using: 0 TPU cores\n",
      "INFO:pytorch_lightning.utilities.rank_zero:HPU available: False, using: 0 HPUs\n"
     ]
    },
    {
     "data": {
      "application/vnd.jupyter.widget-view+json": {
       "model_id": "169c6eeee34840f9b9f2043aca6e6469",
       "version_major": 2,
       "version_minor": 0
      },
      "text/plain": [
       "Predicting: |                                                                                    | 0/? [00:00<…"
      ]
     },
     "metadata": {},
     "output_type": "display_data"
    },
    {
     "name": "stderr",
     "output_type": "stream",
     "text": [
      "INFO:pytorch_lightning.utilities.rank_zero:GPU available: False, used: False\n",
      "INFO:pytorch_lightning.utilities.rank_zero:TPU available: False, using: 0 TPU cores\n",
      "INFO:pytorch_lightning.utilities.rank_zero:HPU available: False, using: 0 HPUs\n"
     ]
    },
    {
     "data": {
      "application/vnd.jupyter.widget-view+json": {
       "model_id": "34e98a5774104bd582ee61d65a7b59dd",
       "version_major": 2,
       "version_minor": 0
      },
      "text/plain": [
       "Predicting: |                                                                                    | 0/? [00:00<…"
      ]
     },
     "metadata": {},
     "output_type": "display_data"
    },
    {
     "name": "stderr",
     "output_type": "stream",
     "text": [
      "INFO:pytorch_lightning.utilities.rank_zero:GPU available: False, used: False\n",
      "INFO:pytorch_lightning.utilities.rank_zero:TPU available: False, using: 0 TPU cores\n",
      "INFO:pytorch_lightning.utilities.rank_zero:HPU available: False, using: 0 HPUs\n"
     ]
    },
    {
     "data": {
      "application/vnd.jupyter.widget-view+json": {
       "model_id": "e0c02111fe264e6b83f30d992f1e65bb",
       "version_major": 2,
       "version_minor": 0
      },
      "text/plain": [
       "Predicting: |                                                                                    | 0/? [00:00<…"
      ]
     },
     "metadata": {},
     "output_type": "display_data"
    },
    {
     "name": "stderr",
     "output_type": "stream",
     "text": [
      "INFO:pytorch_lightning.utilities.rank_zero:GPU available: False, used: False\n",
      "INFO:pytorch_lightning.utilities.rank_zero:TPU available: False, using: 0 TPU cores\n",
      "INFO:pytorch_lightning.utilities.rank_zero:HPU available: False, using: 0 HPUs\n"
     ]
    },
    {
     "data": {
      "application/vnd.jupyter.widget-view+json": {
       "model_id": "c78bbdbd6fb54ee18ae61bad99b14157",
       "version_major": 2,
       "version_minor": 0
      },
      "text/plain": [
       "Predicting: |                                                                                    | 0/? [00:00<…"
      ]
     },
     "metadata": {},
     "output_type": "display_data"
    },
    {
     "name": "stderr",
     "output_type": "stream",
     "text": [
      "INFO:pytorch_lightning.utilities.rank_zero:GPU available: False, used: False\n",
      "INFO:pytorch_lightning.utilities.rank_zero:TPU available: False, using: 0 TPU cores\n",
      "INFO:pytorch_lightning.utilities.rank_zero:HPU available: False, using: 0 HPUs\n"
     ]
    },
    {
     "data": {
      "application/vnd.jupyter.widget-view+json": {
       "model_id": "dc034ae19bf741d2b90cdf5b507a4e28",
       "version_major": 2,
       "version_minor": 0
      },
      "text/plain": [
       "Predicting: |                                                                                    | 0/? [00:00<…"
      ]
     },
     "metadata": {},
     "output_type": "display_data"
    },
    {
     "name": "stderr",
     "output_type": "stream",
     "text": [
      "INFO:pytorch_lightning.utilities.rank_zero:GPU available: False, used: False\n",
      "INFO:pytorch_lightning.utilities.rank_zero:TPU available: False, using: 0 TPU cores\n",
      "INFO:pytorch_lightning.utilities.rank_zero:HPU available: False, using: 0 HPUs\n"
     ]
    },
    {
     "data": {
      "application/vnd.jupyter.widget-view+json": {
       "model_id": "0a7e5b8b1d1b498fbe23df56d45c20b1",
       "version_major": 2,
       "version_minor": 0
      },
      "text/plain": [
       "Predicting: |                                                                                    | 0/? [00:00<…"
      ]
     },
     "metadata": {},
     "output_type": "display_data"
    },
    {
     "name": "stderr",
     "output_type": "stream",
     "text": [
      "INFO:pytorch_lightning.utilities.rank_zero:GPU available: False, used: False\n",
      "INFO:pytorch_lightning.utilities.rank_zero:TPU available: False, using: 0 TPU cores\n",
      "INFO:pytorch_lightning.utilities.rank_zero:HPU available: False, using: 0 HPUs\n"
     ]
    },
    {
     "data": {
      "application/vnd.jupyter.widget-view+json": {
       "model_id": "3c582a16a330487cb5ed2d1e103e962b",
       "version_major": 2,
       "version_minor": 0
      },
      "text/plain": [
       "Predicting: |                                                                                    | 0/? [00:00<…"
      ]
     },
     "metadata": {},
     "output_type": "display_data"
    },
    {
     "name": "stderr",
     "output_type": "stream",
     "text": [
      "INFO:pytorch_lightning.utilities.rank_zero:GPU available: False, used: False\n",
      "INFO:pytorch_lightning.utilities.rank_zero:TPU available: False, using: 0 TPU cores\n",
      "INFO:pytorch_lightning.utilities.rank_zero:HPU available: False, using: 0 HPUs\n"
     ]
    },
    {
     "data": {
      "application/vnd.jupyter.widget-view+json": {
       "model_id": "2b059efcb2ed4bb78b688d48745ad66b",
       "version_major": 2,
       "version_minor": 0
      },
      "text/plain": [
       "Predicting: |                                                                                    | 0/? [00:00<…"
      ]
     },
     "metadata": {},
     "output_type": "display_data"
    },
    {
     "name": "stderr",
     "output_type": "stream",
     "text": [
      "INFO:pytorch_lightning.utilities.rank_zero:GPU available: False, used: False\n",
      "INFO:pytorch_lightning.utilities.rank_zero:TPU available: False, using: 0 TPU cores\n",
      "INFO:pytorch_lightning.utilities.rank_zero:HPU available: False, using: 0 HPUs\n"
     ]
    },
    {
     "data": {
      "application/vnd.jupyter.widget-view+json": {
       "model_id": "576778806424443481b8f59893827d82",
       "version_major": 2,
       "version_minor": 0
      },
      "text/plain": [
       "Predicting: |                                                                                    | 0/? [00:00<…"
      ]
     },
     "metadata": {},
     "output_type": "display_data"
    },
    {
     "name": "stderr",
     "output_type": "stream",
     "text": [
      "INFO:pytorch_lightning.utilities.rank_zero:GPU available: False, used: False\n",
      "INFO:pytorch_lightning.utilities.rank_zero:TPU available: False, using: 0 TPU cores\n",
      "INFO:pytorch_lightning.utilities.rank_zero:HPU available: False, using: 0 HPUs\n"
     ]
    },
    {
     "data": {
      "application/vnd.jupyter.widget-view+json": {
       "model_id": "07ee6bcd08584477af498660e1ef4e30",
       "version_major": 2,
       "version_minor": 0
      },
      "text/plain": [
       "Predicting: |                                                                                    | 0/? [00:00<…"
      ]
     },
     "metadata": {},
     "output_type": "display_data"
    },
    {
     "name": "stderr",
     "output_type": "stream",
     "text": [
      "INFO:pytorch_lightning.utilities.rank_zero:GPU available: False, used: False\n",
      "INFO:pytorch_lightning.utilities.rank_zero:TPU available: False, using: 0 TPU cores\n",
      "INFO:pytorch_lightning.utilities.rank_zero:HPU available: False, using: 0 HPUs\n"
     ]
    },
    {
     "data": {
      "application/vnd.jupyter.widget-view+json": {
       "model_id": "fc6fde7cd6164b21ae44799376c24d22",
       "version_major": 2,
       "version_minor": 0
      },
      "text/plain": [
       "Predicting: |                                                                                    | 0/? [00:00<…"
      ]
     },
     "metadata": {},
     "output_type": "display_data"
    },
    {
     "name": "stderr",
     "output_type": "stream",
     "text": [
      "INFO:pytorch_lightning.utilities.rank_zero:GPU available: False, used: False\n",
      "INFO:pytorch_lightning.utilities.rank_zero:TPU available: False, using: 0 TPU cores\n",
      "INFO:pytorch_lightning.utilities.rank_zero:HPU available: False, using: 0 HPUs\n"
     ]
    },
    {
     "data": {
      "application/vnd.jupyter.widget-view+json": {
       "model_id": "5ce4744702ed4e208cc53449ac1c7887",
       "version_major": 2,
       "version_minor": 0
      },
      "text/plain": [
       "Predicting: |                                                                                    | 0/? [00:00<…"
      ]
     },
     "metadata": {},
     "output_type": "display_data"
    },
    {
     "name": "stderr",
     "output_type": "stream",
     "text": [
      "INFO:pytorch_lightning.utilities.rank_zero:GPU available: False, used: False\n",
      "INFO:pytorch_lightning.utilities.rank_zero:TPU available: False, using: 0 TPU cores\n",
      "INFO:pytorch_lightning.utilities.rank_zero:HPU available: False, using: 0 HPUs\n"
     ]
    },
    {
     "data": {
      "application/vnd.jupyter.widget-view+json": {
       "model_id": "84b206dd59964b5fb31d49673a6f2221",
       "version_major": 2,
       "version_minor": 0
      },
      "text/plain": [
       "Predicting: |                                                                                    | 0/? [00:00<…"
      ]
     },
     "metadata": {},
     "output_type": "display_data"
    },
    {
     "name": "stderr",
     "output_type": "stream",
     "text": [
      "INFO:pytorch_lightning.utilities.rank_zero:GPU available: False, used: False\n",
      "INFO:pytorch_lightning.utilities.rank_zero:TPU available: False, using: 0 TPU cores\n",
      "INFO:pytorch_lightning.utilities.rank_zero:HPU available: False, using: 0 HPUs\n"
     ]
    },
    {
     "data": {
      "application/vnd.jupyter.widget-view+json": {
       "model_id": "51fa24aa5d964325b523462231f72272",
       "version_major": 2,
       "version_minor": 0
      },
      "text/plain": [
       "Predicting: |                                                                                    | 0/? [00:00<…"
      ]
     },
     "metadata": {},
     "output_type": "display_data"
    },
    {
     "name": "stderr",
     "output_type": "stream",
     "text": [
      "INFO:pytorch_lightning.utilities.rank_zero:GPU available: False, used: False\n",
      "INFO:pytorch_lightning.utilities.rank_zero:TPU available: False, using: 0 TPU cores\n",
      "INFO:pytorch_lightning.utilities.rank_zero:HPU available: False, using: 0 HPUs\n"
     ]
    },
    {
     "data": {
      "application/vnd.jupyter.widget-view+json": {
       "model_id": "db1082a19d2140cc8a7f12cccae765c9",
       "version_major": 2,
       "version_minor": 0
      },
      "text/plain": [
       "Predicting: |                                                                                    | 0/? [00:00<…"
      ]
     },
     "metadata": {},
     "output_type": "display_data"
    },
    {
     "name": "stderr",
     "output_type": "stream",
     "text": [
      "INFO:pytorch_lightning.utilities.rank_zero:GPU available: False, used: False\n",
      "INFO:pytorch_lightning.utilities.rank_zero:TPU available: False, using: 0 TPU cores\n",
      "INFO:pytorch_lightning.utilities.rank_zero:HPU available: False, using: 0 HPUs\n"
     ]
    },
    {
     "data": {
      "application/vnd.jupyter.widget-view+json": {
       "model_id": "577ca7403966426696092167b068c477",
       "version_major": 2,
       "version_minor": 0
      },
      "text/plain": [
       "Predicting: |                                                                                    | 0/? [00:00<…"
      ]
     },
     "metadata": {},
     "output_type": "display_data"
    },
    {
     "name": "stderr",
     "output_type": "stream",
     "text": [
      "INFO:pytorch_lightning.utilities.rank_zero:GPU available: False, used: False\n",
      "INFO:pytorch_lightning.utilities.rank_zero:TPU available: False, using: 0 TPU cores\n",
      "INFO:pytorch_lightning.utilities.rank_zero:HPU available: False, using: 0 HPUs\n"
     ]
    },
    {
     "data": {
      "application/vnd.jupyter.widget-view+json": {
       "model_id": "f999e0ca1f634e728229ca071e87818f",
       "version_major": 2,
       "version_minor": 0
      },
      "text/plain": [
       "Predicting: |                                                                                    | 0/? [00:00<…"
      ]
     },
     "metadata": {},
     "output_type": "display_data"
    },
    {
     "name": "stderr",
     "output_type": "stream",
     "text": [
      "INFO:pytorch_lightning.utilities.rank_zero:GPU available: False, used: False\n",
      "INFO:pytorch_lightning.utilities.rank_zero:TPU available: False, using: 0 TPU cores\n",
      "INFO:pytorch_lightning.utilities.rank_zero:HPU available: False, using: 0 HPUs\n"
     ]
    },
    {
     "data": {
      "application/vnd.jupyter.widget-view+json": {
       "model_id": "31d0606bb2b74d63ae5a3ce54aeb8bfb",
       "version_major": 2,
       "version_minor": 0
      },
      "text/plain": [
       "Predicting: |                                                                                    | 0/? [00:00<…"
      ]
     },
     "metadata": {},
     "output_type": "display_data"
    },
    {
     "name": "stderr",
     "output_type": "stream",
     "text": [
      "INFO:pytorch_lightning.utilities.rank_zero:GPU available: False, used: False\n",
      "INFO:pytorch_lightning.utilities.rank_zero:TPU available: False, using: 0 TPU cores\n",
      "INFO:pytorch_lightning.utilities.rank_zero:HPU available: False, using: 0 HPUs\n"
     ]
    },
    {
     "data": {
      "application/vnd.jupyter.widget-view+json": {
       "model_id": "df5e8a3381e24b7aa72e30662d2cbc88",
       "version_major": 2,
       "version_minor": 0
      },
      "text/plain": [
       "Predicting: |                                                                                    | 0/? [00:00<…"
      ]
     },
     "metadata": {},
     "output_type": "display_data"
    },
    {
     "name": "stderr",
     "output_type": "stream",
     "text": [
      "INFO:pytorch_lightning.utilities.rank_zero:GPU available: False, used: False\n",
      "INFO:pytorch_lightning.utilities.rank_zero:TPU available: False, using: 0 TPU cores\n",
      "INFO:pytorch_lightning.utilities.rank_zero:HPU available: False, using: 0 HPUs\n"
     ]
    },
    {
     "data": {
      "application/vnd.jupyter.widget-view+json": {
       "model_id": "0652624f8f1b43d28b7b383dd2362edd",
       "version_major": 2,
       "version_minor": 0
      },
      "text/plain": [
       "Predicting: |                                                                                    | 0/? [00:00<…"
      ]
     },
     "metadata": {},
     "output_type": "display_data"
    },
    {
     "name": "stderr",
     "output_type": "stream",
     "text": [
      "INFO:pytorch_lightning.utilities.rank_zero:GPU available: False, used: False\n",
      "INFO:pytorch_lightning.utilities.rank_zero:TPU available: False, using: 0 TPU cores\n",
      "INFO:pytorch_lightning.utilities.rank_zero:HPU available: False, using: 0 HPUs\n"
     ]
    },
    {
     "data": {
      "application/vnd.jupyter.widget-view+json": {
       "model_id": "1312f886141b4ba39704deaa6c30e338",
       "version_major": 2,
       "version_minor": 0
      },
      "text/plain": [
       "Predicting: |                                                                                    | 0/? [00:00<…"
      ]
     },
     "metadata": {},
     "output_type": "display_data"
    },
    {
     "name": "stderr",
     "output_type": "stream",
     "text": [
      "INFO:pytorch_lightning.utilities.rank_zero:GPU available: False, used: False\n",
      "INFO:pytorch_lightning.utilities.rank_zero:TPU available: False, using: 0 TPU cores\n",
      "INFO:pytorch_lightning.utilities.rank_zero:HPU available: False, using: 0 HPUs\n"
     ]
    },
    {
     "data": {
      "application/vnd.jupyter.widget-view+json": {
       "model_id": "9052b802536946cab9a22d0a19456356",
       "version_major": 2,
       "version_minor": 0
      },
      "text/plain": [
       "Predicting: |                                                                                    | 0/? [00:00<…"
      ]
     },
     "metadata": {},
     "output_type": "display_data"
    },
    {
     "name": "stdout",
     "output_type": "stream",
     "text": [
      "Nombre total de prédictions générées entre 2020-07-15 14:00:00 et 2020-07-17 05:30:00 : 78\n"
     ]
    },
    {
     "data": {
      "text/html": [
       "<div>\n",
       "<style scoped>\n",
       "    .dataframe tbody tr th:only-of-type {\n",
       "        vertical-align: middle;\n",
       "    }\n",
       "\n",
       "    .dataframe tbody tr th {\n",
       "        vertical-align: top;\n",
       "    }\n",
       "\n",
       "    .dataframe thead th {\n",
       "        text-align: right;\n",
       "    }\n",
       "</style>\n",
       "<table border=\"1\" class=\"dataframe\">\n",
       "  <thead>\n",
       "    <tr style=\"text-align: right;\">\n",
       "      <th>component</th>\n",
       "      <th>panne</th>\n",
       "    </tr>\n",
       "    <tr>\n",
       "      <th>time</th>\n",
       "      <th></th>\n",
       "    </tr>\n",
       "  </thead>\n",
       "  <tbody>\n",
       "    <tr>\n",
       "      <th>2020-07-15 14:59:40</th>\n",
       "      <td>1.004844</td>\n",
       "    </tr>\n",
       "    <tr>\n",
       "      <th>2020-07-15 14:59:50</th>\n",
       "      <td>1.002405</td>\n",
       "    </tr>\n",
       "    <tr>\n",
       "      <th>2020-07-15 15:59:40</th>\n",
       "      <td>1.855792</td>\n",
       "    </tr>\n",
       "    <tr>\n",
       "      <th>2020-07-15 15:59:50</th>\n",
       "      <td>1.001359</td>\n",
       "    </tr>\n",
       "    <tr>\n",
       "      <th>2020-07-15 16:59:40</th>\n",
       "      <td>1.018681</td>\n",
       "    </tr>\n",
       "    <tr>\n",
       "      <th>...</th>\n",
       "      <td>...</td>\n",
       "    </tr>\n",
       "    <tr>\n",
       "      <th>2020-07-17 02:59:50</th>\n",
       "      <td>1.008230</td>\n",
       "    </tr>\n",
       "    <tr>\n",
       "      <th>2020-07-17 03:59:40</th>\n",
       "      <td>0.981659</td>\n",
       "    </tr>\n",
       "    <tr>\n",
       "      <th>2020-07-17 03:59:50</th>\n",
       "      <td>1.001720</td>\n",
       "    </tr>\n",
       "    <tr>\n",
       "      <th>2020-07-17 04:59:40</th>\n",
       "      <td>1.001736</td>\n",
       "    </tr>\n",
       "    <tr>\n",
       "      <th>2020-07-17 04:59:50</th>\n",
       "      <td>0.978374</td>\n",
       "    </tr>\n",
       "  </tbody>\n",
       "</table>\n",
       "<p>78 rows × 1 columns</p>\n",
       "</div>"
      ],
      "text/plain": [
       "component               panne\n",
       "time                         \n",
       "2020-07-15 14:59:40  1.004844\n",
       "2020-07-15 14:59:50  1.002405\n",
       "2020-07-15 15:59:40  1.855792\n",
       "2020-07-15 15:59:50  1.001359\n",
       "2020-07-15 16:59:40  1.018681\n",
       "...                       ...\n",
       "2020-07-17 02:59:50  1.008230\n",
       "2020-07-17 03:59:40  0.981659\n",
       "2020-07-17 03:59:50  1.001720\n",
       "2020-07-17 04:59:40  1.001736\n",
       "2020-07-17 04:59:50  0.978374\n",
       "\n",
       "[78 rows x 1 columns]"
      ]
     },
     "metadata": {},
     "output_type": "display_data"
    },
    {
     "data": {
      "image/png": "[encoded data removed]",
      "text/plain": [
       "<Figure size 1200x500 with 1 Axes>"
      ]
     },
     "metadata": {},
     "output_type": "display_data"
    }
   ],
   "source": [
    "import pandas as pd\n",
    "import matplotlib.pyplot as plt\n",
    "\n",
    "# Définir la période de test\n",
    "test_start = pd.Timestamp(\"2020-07-15 14:00:00\")\n",
    "test_end = pd.Timestamp(\"2020-07-17 05:30:00\")\n",
    "\n",
    "# Durée de la période de prédiction\n",
    "prediction_duration = pd.Timedelta(minutes=60)  # Durée de chaque prédiction (60 minutes)\n",
    "\n",
    "# Liste pour stocker toutes les prédictions\n",
    "all_predictions = []\n",
    "\n",
    "# Effectuer des prédictions sur des fenêtres successives\n",
    "current_start = test_start\n",
    "\n",
    "while current_start < test_end:\n",
    "    # Définir la période de test actuelle (fenêtre glissante)\n",
    "    current_end = current_start + prediction_duration\n",
    "    if current_end > test_end:\n",
    "        break  # Arrêter si la période dépasse la fin de l'intervalle\n",
    "\n",
    "    # Filtrer les données pour cette fenêtre de temps\n",
    "    df_prod_window = df_original.loc[(df_original.index >= current_start) & (df_original.index < current_end)].copy()\n",
    "\n",
    "    # Convertir en TimeSeries\n",
    "    series_transformed_test_prod = TimeSeries.from_dataframe(df_prod_window, value_cols=[\"panne\"], freq=\"10s\", fill_missing_dates=False)\n",
    "\n",
    "    # Normalisation avec les mêmes scalers\n",
    "    series_continuous_transformed_test_prod = scaler_continuous.transform(\n",
    "        TimeSeries.from_dataframe(df_prod_window, value_cols=continuous_features)\n",
    "    )\n",
    "\n",
    "    # Covariables temporelles (ajout du mois en one-hot encoding)\n",
    "    covariates_test_prod = datetime_attribute_timeseries(series_transformed_test_prod, attribute=\"month\", one_hot=True)\n",
    "\n",
    "    # Normalisation des covariables temporelles avec le même scaler que l'entraînement\n",
    "    covariates_transformed_test_prod = scaler_covariates.transform(covariates_test_prod)\n",
    "\n",
    "    # Créer la fenêtre de test pour cette période\n",
    "    future_covariates_test_prod = covariates_transformed_test_prod.slice_intersect(series_transformed_test_prod)\n",
    "\n",
    "    # Créer le dataset de test\n",
    "    test_dataset_single_window_prod = MixedCovariatesSequentialDataset(\n",
    "        target_series=series_transformed_test_prod,  \n",
    "        future_covariates=future_covariates_test_prod,  \n",
    "        input_chunk_length=120,\n",
    "        output_chunk_length=60\n",
    "    )\n",
    "\n",
    "    # Effectuer la prédiction pour cette fenêtre\n",
    "    extended_predictions_prod = model.historical_forecasts(\n",
    "        series=series_transformed_test_prod,\n",
    "        future_covariates=future_covariates_test_prod,\n",
    "        start=series_transformed_test_prod.end_time() - pd.Timedelta(seconds=10 * 60),  # Prédiction sur 60 observations\n",
    "        forecast_horizon=60,\n",
    "        stride=1,\n",
    "        retrain=False,\n",
    "        overlap_end=True,\n",
    "        verbose=True\n",
    "    )\n",
    "\n",
    "    # Ajouter les prédictions à la liste\n",
    "    all_predictions.append(extended_predictions_prod.pd_dataframe())\n",
    "\n",
    "    # Avancer dans le temps pour la prochaine fenêtre\n",
    "    current_start = current_end\n",
    "\n",
    "# Combiner toutes les prédictions dans un seul DataFrame\n",
    "all_predictions_df = pd.concat(all_predictions)\n",
    "\n",
    "# Filtrer les prédictions entre test_start et test_end\n",
    "filtered_predictions = all_predictions_df[\n",
    "    (all_predictions_df.index >= test_start) & \n",
    "    (all_predictions_df.index <= test_end)\n",
    "]\n",
    "\n",
    "# Afficher les prédictions\n",
    "print(f\"Nombre total de prédictions générées entre {test_start} et {test_end} : {len(filtered_predictions)}\")\n",
    "display(filtered_predictions)\n",
    "\n",
    "# Visualisation des prédictions entre test_start et test_end\n",
    "plt.figure(figsize=(12, 5))\n",
    "series_transformed_test_prod.plot(label=\"Série réelle\")  # Afficher la série réelle\n",
    "plt.plot(filtered_predictions.index, filtered_predictions[\"panne\"], label=\"Prédictions\", linestyle=\"dashed\")\n",
    "plt.title(f\"Prédictions TFT sur l'ensemble de test entre {test_start} et {test_end}\")\n",
    "plt.legend()\n",
    "plt.show()\n"
   ]
  },
  {
   "cell_type": "code",
   "execution_count": 75,
   "id": "f07cd128-6279-47b0-bb28-9696d1529db5",
   "metadata": {},
   "outputs": [
    {
     "name": "stderr",
     "output_type": "stream",
     "text": [
      "INFO:pytorch_lightning.utilities.rank_zero:GPU available: False, used: False\n",
      "INFO:pytorch_lightning.utilities.rank_zero:TPU available: False, using: 0 TPU cores\n",
      "INFO:pytorch_lightning.utilities.rank_zero:HPU available: False, using: 0 HPUs\n"
     ]
    },
    {
     "data": {
      "application/vnd.jupyter.widget-view+json": {
       "model_id": "ac074493d0c74d879ddc967990ba36e8",
       "version_major": 2,
       "version_minor": 0
      },
      "text/plain": [
       "Predicting: |                                                                                    | 0/? [00:00<…"
      ]
     },
     "metadata": {},
     "output_type": "display_data"
    },
    {
     "name": "stderr",
     "output_type": "stream",
     "text": [
      "INFO:pytorch_lightning.utilities.rank_zero:GPU available: False, used: False\n",
      "INFO:pytorch_lightning.utilities.rank_zero:TPU available: False, using: 0 TPU cores\n",
      "INFO:pytorch_lightning.utilities.rank_zero:HPU available: False, using: 0 HPUs\n"
     ]
    },
    {
     "data": {
      "application/vnd.jupyter.widget-view+json": {
       "model_id": "e7440756f5864ace93fa152efb121545",
       "version_major": 2,
       "version_minor": 0
      },
      "text/plain": [
       "Predicting: |                                                                                    | 0/? [00:00<…"
      ]
     },
     "metadata": {},
     "output_type": "display_data"
    },
    {
     "name": "stderr",
     "output_type": "stream",
     "text": [
      "INFO:pytorch_lightning.utilities.rank_zero:GPU available: False, used: False\n",
      "INFO:pytorch_lightning.utilities.rank_zero:TPU available: False, using: 0 TPU cores\n",
      "INFO:pytorch_lightning.utilities.rank_zero:HPU available: False, using: 0 HPUs\n"
     ]
    },
    {
     "data": {
      "application/vnd.jupyter.widget-view+json": {
       "model_id": "062ca26ea55045b0a73fc0c7a7aa2512",
       "version_major": 2,
       "version_minor": 0
      },
      "text/plain": [
       "Predicting: |                                                                                    | 0/? [00:00<…"
      ]
     },
     "metadata": {},
     "output_type": "display_data"
    },
    {
     "name": "stderr",
     "output_type": "stream",
     "text": [
      "INFO:pytorch_lightning.utilities.rank_zero:GPU available: False, used: False\n",
      "INFO:pytorch_lightning.utilities.rank_zero:TPU available: False, using: 0 TPU cores\n",
      "INFO:pytorch_lightning.utilities.rank_zero:HPU available: False, using: 0 HPUs\n"
     ]
    },
    {
     "data": {
      "application/vnd.jupyter.widget-view+json": {
       "model_id": "c3d0c71779da4b18a950bda1774670c3",
       "version_major": 2,
       "version_minor": 0
      },
      "text/plain": [
       "Predicting: |                                                                                    | 0/? [00:00<…"
      ]
     },
     "metadata": {},
     "output_type": "display_data"
    },
    {
     "name": "stderr",
     "output_type": "stream",
     "text": [
      "INFO:pytorch_lightning.utilities.rank_zero:GPU available: False, used: False\n",
      "INFO:pytorch_lightning.utilities.rank_zero:TPU available: False, using: 0 TPU cores\n",
      "INFO:pytorch_lightning.utilities.rank_zero:HPU available: False, using: 0 HPUs\n"
     ]
    },
    {
     "data": {
      "application/vnd.jupyter.widget-view+json": {
       "model_id": "a28159c6e30e4042a56755cee0e8812b",
       "version_major": 2,
       "version_minor": 0
      },
      "text/plain": [
       "Predicting: |                                                                                    | 0/? [00:00<…"
      ]
     },
     "metadata": {},
     "output_type": "display_data"
    },
    {
     "name": "stderr",
     "output_type": "stream",
     "text": [
      "INFO:pytorch_lightning.utilities.rank_zero:GPU available: False, used: False\n",
      "INFO:pytorch_lightning.utilities.rank_zero:TPU available: False, using: 0 TPU cores\n",
      "INFO:pytorch_lightning.utilities.rank_zero:HPU available: False, using: 0 HPUs\n"
     ]
    },
    {
     "data": {
      "application/vnd.jupyter.widget-view+json": {
       "model_id": "e073e1a93ef24feb919d6adffd530f40",
       "version_major": 2,
       "version_minor": 0
      },
      "text/plain": [
       "Predicting: |                                                                                    | 0/? [00:00<…"
      ]
     },
     "metadata": {},
     "output_type": "display_data"
    },
    {
     "name": "stderr",
     "output_type": "stream",
     "text": [
      "INFO:pytorch_lightning.utilities.rank_zero:GPU available: False, used: False\n",
      "INFO:pytorch_lightning.utilities.rank_zero:TPU available: False, using: 0 TPU cores\n",
      "INFO:pytorch_lightning.utilities.rank_zero:HPU available: False, using: 0 HPUs\n"
     ]
    },
    {
     "data": {
      "application/vnd.jupyter.widget-view+json": {
       "model_id": "7262ac23bdb44148ae356dc73fb4fa20",
       "version_major": 2,
       "version_minor": 0
      },
      "text/plain": [
       "Predicting: |                                                                                    | 0/? [00:00<…"
      ]
     },
     "metadata": {},
     "output_type": "display_data"
    },
    {
     "name": "stderr",
     "output_type": "stream",
     "text": [
      "INFO:pytorch_lightning.utilities.rank_zero:GPU available: False, used: False\n",
      "INFO:pytorch_lightning.utilities.rank_zero:TPU available: False, using: 0 TPU cores\n",
      "INFO:pytorch_lightning.utilities.rank_zero:HPU available: False, using: 0 HPUs\n"
     ]
    },
    {
     "data": {
      "application/vnd.jupyter.widget-view+json": {
       "model_id": "748defc436c545e79dff5b00898b1d24",
       "version_major": 2,
       "version_minor": 0
      },
      "text/plain": [
       "Predicting: |                                                                                    | 0/? [00:00<…"
      ]
     },
     "metadata": {},
     "output_type": "display_data"
    },
    {
     "name": "stderr",
     "output_type": "stream",
     "text": [
      "INFO:pytorch_lightning.utilities.rank_zero:GPU available: False, used: False\n",
      "INFO:pytorch_lightning.utilities.rank_zero:TPU available: False, using: 0 TPU cores\n",
      "INFO:pytorch_lightning.utilities.rank_zero:HPU available: False, using: 0 HPUs\n"
     ]
    },
    {
     "data": {
      "application/vnd.jupyter.widget-view+json": {
       "model_id": "ad062a29fa644ee397777392d45fd72d",
       "version_major": 2,
       "version_minor": 0
      },
      "text/plain": [
       "Predicting: |                                                                                    | 0/? [00:00<…"
      ]
     },
     "metadata": {},
     "output_type": "display_data"
    },
    {
     "name": "stderr",
     "output_type": "stream",
     "text": [
      "INFO:pytorch_lightning.utilities.rank_zero:GPU available: False, used: False\n",
      "INFO:pytorch_lightning.utilities.rank_zero:TPU available: False, using: 0 TPU cores\n",
      "INFO:pytorch_lightning.utilities.rank_zero:HPU available: False, using: 0 HPUs\n"
     ]
    },
    {
     "data": {
      "application/vnd.jupyter.widget-view+json": {
       "model_id": "91a8020c763c4a9cb05e4e51fb24687b",
       "version_major": 2,
       "version_minor": 0
      },
      "text/plain": [
       "Predicting: |                                                                                    | 0/? [00:00<…"
      ]
     },
     "metadata": {},
     "output_type": "display_data"
    },
    {
     "name": "stderr",
     "output_type": "stream",
     "text": [
      "INFO:pytorch_lightning.utilities.rank_zero:GPU available: False, used: False\n",
      "INFO:pytorch_lightning.utilities.rank_zero:TPU available: False, using: 0 TPU cores\n",
      "INFO:pytorch_lightning.utilities.rank_zero:HPU available: False, using: 0 HPUs\n"
     ]
    },
    {
     "data": {
      "application/vnd.jupyter.widget-view+json": {
       "model_id": "814cf9346fa04b77a21db6834947b6a2",
       "version_major": 2,
       "version_minor": 0
      },
      "text/plain": [
       "Predicting: |                                                                                    | 0/? [00:00<…"
      ]
     },
     "metadata": {},
     "output_type": "display_data"
    },
    {
     "name": "stderr",
     "output_type": "stream",
     "text": [
      "INFO:pytorch_lightning.utilities.rank_zero:GPU available: False, used: False\n",
      "INFO:pytorch_lightning.utilities.rank_zero:TPU available: False, using: 0 TPU cores\n",
      "INFO:pytorch_lightning.utilities.rank_zero:HPU available: False, using: 0 HPUs\n"
     ]
    },
    {
     "data": {
      "application/vnd.jupyter.widget-view+json": {
       "model_id": "798611dcbf2a4776bce3b1014e768bc4",
       "version_major": 2,
       "version_minor": 0
      },
      "text/plain": [
       "Predicting: |                                                                                    | 0/? [00:00<…"
      ]
     },
     "metadata": {},
     "output_type": "display_data"
    },
    {
     "name": "stderr",
     "output_type": "stream",
     "text": [
      "INFO:pytorch_lightning.utilities.rank_zero:GPU available: False, used: False\n",
      "INFO:pytorch_lightning.utilities.rank_zero:TPU available: False, using: 0 TPU cores\n",
      "INFO:pytorch_lightning.utilities.rank_zero:HPU available: False, using: 0 HPUs\n"
     ]
    },
    {
     "data": {
      "application/vnd.jupyter.widget-view+json": {
       "model_id": "4982badf06114d70b38e732f48def464",
       "version_major": 2,
       "version_minor": 0
      },
      "text/plain": [
       "Predicting: |                                                                                    | 0/? [00:00<…"
      ]
     },
     "metadata": {},
     "output_type": "display_data"
    },
    {
     "name": "stderr",
     "output_type": "stream",
     "text": [
      "INFO:pytorch_lightning.utilities.rank_zero:GPU available: False, used: False\n",
      "INFO:pytorch_lightning.utilities.rank_zero:TPU available: False, using: 0 TPU cores\n",
      "INFO:pytorch_lightning.utilities.rank_zero:HPU available: False, using: 0 HPUs\n"
     ]
    },
    {
     "data": {
      "application/vnd.jupyter.widget-view+json": {
       "model_id": "b84c3ebbe8684bc3abb6d720b6283646",
       "version_major": 2,
       "version_minor": 0
      },
      "text/plain": [
       "Predicting: |                                                                                    | 0/? [00:00<…"
      ]
     },
     "metadata": {},
     "output_type": "display_data"
    },
    {
     "name": "stderr",
     "output_type": "stream",
     "text": [
      "INFO:pytorch_lightning.utilities.rank_zero:GPU available: False, used: False\n",
      "INFO:pytorch_lightning.utilities.rank_zero:TPU available: False, using: 0 TPU cores\n",
      "INFO:pytorch_lightning.utilities.rank_zero:HPU available: False, using: 0 HPUs\n"
     ]
    },
    {
     "data": {
      "application/vnd.jupyter.widget-view+json": {
       "model_id": "0e1c98c3accb4c47b1fbb2e2f541dae8",
       "version_major": 2,
       "version_minor": 0
      },
      "text/plain": [
       "Predicting: |                                                                                    | 0/? [00:00<…"
      ]
     },
     "metadata": {},
     "output_type": "display_data"
    },
    {
     "name": "stderr",
     "output_type": "stream",
     "text": [
      "INFO:pytorch_lightning.utilities.rank_zero:GPU available: False, used: False\n",
      "INFO:pytorch_lightning.utilities.rank_zero:TPU available: False, using: 0 TPU cores\n",
      "INFO:pytorch_lightning.utilities.rank_zero:HPU available: False, using: 0 HPUs\n"
     ]
    },
    {
     "data": {
      "application/vnd.jupyter.widget-view+json": {
       "model_id": "e37a2a3ce4f34d9a85b4ff8f321afe04",
       "version_major": 2,
       "version_minor": 0
      },
      "text/plain": [
       "Predicting: |                                                                                    | 0/? [00:00<…"
      ]
     },
     "metadata": {},
     "output_type": "display_data"
    },
    {
     "name": "stderr",
     "output_type": "stream",
     "text": [
      "INFO:pytorch_lightning.utilities.rank_zero:GPU available: False, used: False\n",
      "INFO:pytorch_lightning.utilities.rank_zero:TPU available: False, using: 0 TPU cores\n",
      "INFO:pytorch_lightning.utilities.rank_zero:HPU available: False, using: 0 HPUs\n"
     ]
    },
    {
     "data": {
      "application/vnd.jupyter.widget-view+json": {
       "model_id": "b904ee6861c94db6a623df2c8f30664b",
       "version_major": 2,
       "version_minor": 0
      },
      "text/plain": [
       "Predicting: |                                                                                    | 0/? [00:00<…"
      ]
     },
     "metadata": {},
     "output_type": "display_data"
    },
    {
     "name": "stderr",
     "output_type": "stream",
     "text": [
      "INFO:pytorch_lightning.utilities.rank_zero:GPU available: False, used: False\n",
      "INFO:pytorch_lightning.utilities.rank_zero:TPU available: False, using: 0 TPU cores\n",
      "INFO:pytorch_lightning.utilities.rank_zero:HPU available: False, using: 0 HPUs\n"
     ]
    },
    {
     "data": {
      "application/vnd.jupyter.widget-view+json": {
       "model_id": "8824e2c7569142cb94f93b3ef8bac493",
       "version_major": 2,
       "version_minor": 0
      },
      "text/plain": [
       "Predicting: |                                                                                    | 0/? [00:00<…"
      ]
     },
     "metadata": {},
     "output_type": "display_data"
    },
    {
     "name": "stderr",
     "output_type": "stream",
     "text": [
      "INFO:pytorch_lightning.utilities.rank_zero:GPU available: False, used: False\n",
      "INFO:pytorch_lightning.utilities.rank_zero:TPU available: False, using: 0 TPU cores\n",
      "INFO:pytorch_lightning.utilities.rank_zero:HPU available: False, using: 0 HPUs\n"
     ]
    },
    {
     "data": {
      "application/vnd.jupyter.widget-view+json": {
       "model_id": "08437bd450474490a45db2e7973ef7fe",
       "version_major": 2,
       "version_minor": 0
      },
      "text/plain": [
       "Predicting: |                                                                                    | 0/? [00:00<…"
      ]
     },
     "metadata": {},
     "output_type": "display_data"
    },
    {
     "name": "stderr",
     "output_type": "stream",
     "text": [
      "INFO:pytorch_lightning.utilities.rank_zero:GPU available: False, used: False\n",
      "INFO:pytorch_lightning.utilities.rank_zero:TPU available: False, using: 0 TPU cores\n",
      "INFO:pytorch_lightning.utilities.rank_zero:HPU available: False, using: 0 HPUs\n"
     ]
    },
    {
     "data": {
      "application/vnd.jupyter.widget-view+json": {
       "model_id": "f9a711481e08499388c5f520287cbcbd",
       "version_major": 2,
       "version_minor": 0
      },
      "text/plain": [
       "Predicting: |                                                                                    | 0/? [00:00<…"
      ]
     },
     "metadata": {},
     "output_type": "display_data"
    },
    {
     "name": "stderr",
     "output_type": "stream",
     "text": [
      "INFO:pytorch_lightning.utilities.rank_zero:GPU available: False, used: False\n",
      "INFO:pytorch_lightning.utilities.rank_zero:TPU available: False, using: 0 TPU cores\n",
      "INFO:pytorch_lightning.utilities.rank_zero:HPU available: False, using: 0 HPUs\n"
     ]
    },
    {
     "data": {
      "application/vnd.jupyter.widget-view+json": {
       "model_id": "81ffcfe133134ba2a4bad73b5ea72079",
       "version_major": 2,
       "version_minor": 0
      },
      "text/plain": [
       "Predicting: |                                                                                    | 0/? [00:00<…"
      ]
     },
     "metadata": {},
     "output_type": "display_data"
    },
    {
     "name": "stderr",
     "output_type": "stream",
     "text": [
      "INFO:pytorch_lightning.utilities.rank_zero:GPU available: False, used: False\n",
      "INFO:pytorch_lightning.utilities.rank_zero:TPU available: False, using: 0 TPU cores\n",
      "INFO:pytorch_lightning.utilities.rank_zero:HPU available: False, using: 0 HPUs\n"
     ]
    },
    {
     "data": {
      "application/vnd.jupyter.widget-view+json": {
       "model_id": "d4364d3140f24995be632a57dff34393",
       "version_major": 2,
       "version_minor": 0
      },
      "text/plain": [
       "Predicting: |                                                                                    | 0/? [00:00<…"
      ]
     },
     "metadata": {},
     "output_type": "display_data"
    },
    {
     "name": "stderr",
     "output_type": "stream",
     "text": [
      "INFO:pytorch_lightning.utilities.rank_zero:GPU available: False, used: False\n",
      "INFO:pytorch_lightning.utilities.rank_zero:TPU available: False, using: 0 TPU cores\n",
      "INFO:pytorch_lightning.utilities.rank_zero:HPU available: False, using: 0 HPUs\n"
     ]
    },
    {
     "data": {
      "application/vnd.jupyter.widget-view+json": {
       "model_id": "5e65f673dec04d83b3fb947f720c2a92",
       "version_major": 2,
       "version_minor": 0
      },
      "text/plain": [
       "Predicting: |                                                                                    | 0/? [00:00<…"
      ]
     },
     "metadata": {},
     "output_type": "display_data"
    },
    {
     "name": "stderr",
     "output_type": "stream",
     "text": [
      "INFO:pytorch_lightning.utilities.rank_zero:GPU available: False, used: False\n",
      "INFO:pytorch_lightning.utilities.rank_zero:TPU available: False, using: 0 TPU cores\n",
      "INFO:pytorch_lightning.utilities.rank_zero:HPU available: False, using: 0 HPUs\n"
     ]
    },
    {
     "data": {
      "application/vnd.jupyter.widget-view+json": {
       "model_id": "08081a932eaa4531a37eb044866c8a96",
       "version_major": 2,
       "version_minor": 0
      },
      "text/plain": [
       "Predicting: |                                                                                    | 0/? [00:00<…"
      ]
     },
     "metadata": {},
     "output_type": "display_data"
    },
    {
     "name": "stderr",
     "output_type": "stream",
     "text": [
      "INFO:pytorch_lightning.utilities.rank_zero:GPU available: False, used: False\n",
      "INFO:pytorch_lightning.utilities.rank_zero:TPU available: False, using: 0 TPU cores\n",
      "INFO:pytorch_lightning.utilities.rank_zero:HPU available: False, using: 0 HPUs\n"
     ]
    },
    {
     "data": {
      "application/vnd.jupyter.widget-view+json": {
       "model_id": "4b5854ba2ea74817930863ee372ac3fe",
       "version_major": 2,
       "version_minor": 0
      },
      "text/plain": [
       "Predicting: |                                                                                    | 0/? [00:00<…"
      ]
     },
     "metadata": {},
     "output_type": "display_data"
    },
    {
     "name": "stderr",
     "output_type": "stream",
     "text": [
      "INFO:pytorch_lightning.utilities.rank_zero:GPU available: False, used: False\n",
      "INFO:pytorch_lightning.utilities.rank_zero:TPU available: False, using: 0 TPU cores\n",
      "INFO:pytorch_lightning.utilities.rank_zero:HPU available: False, using: 0 HPUs\n"
     ]
    },
    {
     "data": {
      "application/vnd.jupyter.widget-view+json": {
       "model_id": "ee82b8f5c92b450c966ee9ae18868a80",
       "version_major": 2,
       "version_minor": 0
      },
      "text/plain": [
       "Predicting: |                                                                                    | 0/? [00:00<…"
      ]
     },
     "metadata": {},
     "output_type": "display_data"
    },
    {
     "name": "stderr",
     "output_type": "stream",
     "text": [
      "INFO:pytorch_lightning.utilities.rank_zero:GPU available: False, used: False\n",
      "INFO:pytorch_lightning.utilities.rank_zero:TPU available: False, using: 0 TPU cores\n",
      "INFO:pytorch_lightning.utilities.rank_zero:HPU available: False, using: 0 HPUs\n"
     ]
    },
    {
     "data": {
      "application/vnd.jupyter.widget-view+json": {
       "model_id": "51226854f7e64238b052fb9cb1412071",
       "version_major": 2,
       "version_minor": 0
      },
      "text/plain": [
       "Predicting: |                                                                                    | 0/? [00:00<…"
      ]
     },
     "metadata": {},
     "output_type": "display_data"
    },
    {
     "name": "stderr",
     "output_type": "stream",
     "text": [
      "INFO:pytorch_lightning.utilities.rank_zero:GPU available: False, used: False\n",
      "INFO:pytorch_lightning.utilities.rank_zero:TPU available: False, using: 0 TPU cores\n",
      "INFO:pytorch_lightning.utilities.rank_zero:HPU available: False, using: 0 HPUs\n"
     ]
    },
    {
     "data": {
      "application/vnd.jupyter.widget-view+json": {
       "model_id": "e57ca0a6b17f41c883753726b5f34e3c",
       "version_major": 2,
       "version_minor": 0
      },
      "text/plain": [
       "Predicting: |                                                                                    | 0/? [00:00<…"
      ]
     },
     "metadata": {},
     "output_type": "display_data"
    },
    {
     "name": "stderr",
     "output_type": "stream",
     "text": [
      "INFO:pytorch_lightning.utilities.rank_zero:GPU available: False, used: False\n",
      "INFO:pytorch_lightning.utilities.rank_zero:TPU available: False, using: 0 TPU cores\n",
      "INFO:pytorch_lightning.utilities.rank_zero:HPU available: False, using: 0 HPUs\n"
     ]
    },
    {
     "data": {
      "application/vnd.jupyter.widget-view+json": {
       "model_id": "c672bcbd478948a8b0239baa82df3f51",
       "version_major": 2,
       "version_minor": 0
      },
      "text/plain": [
       "Predicting: |                                                                                    | 0/? [00:00<…"
      ]
     },
     "metadata": {},
     "output_type": "display_data"
    },
    {
     "name": "stderr",
     "output_type": "stream",
     "text": [
      "INFO:pytorch_lightning.utilities.rank_zero:GPU available: False, used: False\n",
      "INFO:pytorch_lightning.utilities.rank_zero:TPU available: False, using: 0 TPU cores\n",
      "INFO:pytorch_lightning.utilities.rank_zero:HPU available: False, using: 0 HPUs\n"
     ]
    },
    {
     "data": {
      "application/vnd.jupyter.widget-view+json": {
       "model_id": "92d71e3fe6f74b33864c2f2ac2dbe6da",
       "version_major": 2,
       "version_minor": 0
      },
      "text/plain": [
       "Predicting: |                                                                                    | 0/? [00:00<…"
      ]
     },
     "metadata": {},
     "output_type": "display_data"
    },
    {
     "name": "stderr",
     "output_type": "stream",
     "text": [
      "INFO:pytorch_lightning.utilities.rank_zero:GPU available: False, used: False\n",
      "INFO:pytorch_lightning.utilities.rank_zero:TPU available: False, using: 0 TPU cores\n",
      "INFO:pytorch_lightning.utilities.rank_zero:HPU available: False, using: 0 HPUs\n"
     ]
    },
    {
     "data": {
      "application/vnd.jupyter.widget-view+json": {
       "model_id": "786c83a314b740b7b657ed41ed8cddff",
       "version_major": 2,
       "version_minor": 0
      },
      "text/plain": [
       "Predicting: |                                                                                    | 0/? [00:00<…"
      ]
     },
     "metadata": {},
     "output_type": "display_data"
    },
    {
     "name": "stderr",
     "output_type": "stream",
     "text": [
      "INFO:pytorch_lightning.utilities.rank_zero:GPU available: False, used: False\n",
      "INFO:pytorch_lightning.utilities.rank_zero:TPU available: False, using: 0 TPU cores\n",
      "INFO:pytorch_lightning.utilities.rank_zero:HPU available: False, using: 0 HPUs\n"
     ]
    },
    {
     "data": {
      "application/vnd.jupyter.widget-view+json": {
       "model_id": "a39cefd4de91425fafcaf9144f10903f",
       "version_major": 2,
       "version_minor": 0
      },
      "text/plain": [
       "Predicting: |                                                                                    | 0/? [00:00<…"
      ]
     },
     "metadata": {},
     "output_type": "display_data"
    },
    {
     "name": "stderr",
     "output_type": "stream",
     "text": [
      "INFO:pytorch_lightning.utilities.rank_zero:GPU available: False, used: False\n",
      "INFO:pytorch_lightning.utilities.rank_zero:TPU available: False, using: 0 TPU cores\n",
      "INFO:pytorch_lightning.utilities.rank_zero:HPU available: False, using: 0 HPUs\n"
     ]
    },
    {
     "data": {
      "application/vnd.jupyter.widget-view+json": {
       "model_id": "935801c62235448dabbd4b3defd4ca78",
       "version_major": 2,
       "version_minor": 0
      },
      "text/plain": [
       "Predicting: |                                                                                    | 0/? [00:00<…"
      ]
     },
     "metadata": {},
     "output_type": "display_data"
    },
    {
     "name": "stderr",
     "output_type": "stream",
     "text": [
      "INFO:pytorch_lightning.utilities.rank_zero:GPU available: False, used: False\n",
      "INFO:pytorch_lightning.utilities.rank_zero:TPU available: False, using: 0 TPU cores\n",
      "INFO:pytorch_lightning.utilities.rank_zero:HPU available: False, using: 0 HPUs\n"
     ]
    },
    {
     "data": {
      "application/vnd.jupyter.widget-view+json": {
       "model_id": "9306f0a5551742df9aa27b5e9b054478",
       "version_major": 2,
       "version_minor": 0
      },
      "text/plain": [
       "Predicting: |                                                                                    | 0/? [00:00<…"
      ]
     },
     "metadata": {},
     "output_type": "display_data"
    },
    {
     "name": "stderr",
     "output_type": "stream",
     "text": [
      "INFO:pytorch_lightning.utilities.rank_zero:GPU available: False, used: False\n",
      "INFO:pytorch_lightning.utilities.rank_zero:TPU available: False, using: 0 TPU cores\n",
      "INFO:pytorch_lightning.utilities.rank_zero:HPU available: False, using: 0 HPUs\n"
     ]
    },
    {
     "data": {
      "application/vnd.jupyter.widget-view+json": {
       "model_id": "fa8e1c436ce2449aaf9fc341c4b0af61",
       "version_major": 2,
       "version_minor": 0
      },
      "text/plain": [
       "Predicting: |                                                                                    | 0/? [00:00<…"
      ]
     },
     "metadata": {},
     "output_type": "display_data"
    },
    {
     "name": "stderr",
     "output_type": "stream",
     "text": [
      "INFO:pytorch_lightning.utilities.rank_zero:GPU available: False, used: False\n",
      "INFO:pytorch_lightning.utilities.rank_zero:TPU available: False, using: 0 TPU cores\n",
      "INFO:pytorch_lightning.utilities.rank_zero:HPU available: False, using: 0 HPUs\n"
     ]
    },
    {
     "data": {
      "application/vnd.jupyter.widget-view+json": {
       "model_id": "7c9634f7725243369f2e82303ba075f3",
       "version_major": 2,
       "version_minor": 0
      },
      "text/plain": [
       "Predicting: |                                                                                    | 0/? [00:00<…"
      ]
     },
     "metadata": {},
     "output_type": "display_data"
    },
    {
     "name": "stderr",
     "output_type": "stream",
     "text": [
      "INFO:pytorch_lightning.utilities.rank_zero:GPU available: False, used: False\n",
      "INFO:pytorch_lightning.utilities.rank_zero:TPU available: False, using: 0 TPU cores\n",
      "INFO:pytorch_lightning.utilities.rank_zero:HPU available: False, using: 0 HPUs\n"
     ]
    },
    {
     "data": {
      "application/vnd.jupyter.widget-view+json": {
       "model_id": "efb0a170a50c4670b14c2449580a0b13",
       "version_major": 2,
       "version_minor": 0
      },
      "text/plain": [
       "Predicting: |                                                                                    | 0/? [00:00<…"
      ]
     },
     "metadata": {},
     "output_type": "display_data"
    },
    {
     "name": "stderr",
     "output_type": "stream",
     "text": [
      "INFO:pytorch_lightning.utilities.rank_zero:GPU available: False, used: False\n",
      "INFO:pytorch_lightning.utilities.rank_zero:TPU available: False, using: 0 TPU cores\n",
      "INFO:pytorch_lightning.utilities.rank_zero:HPU available: False, using: 0 HPUs\n"
     ]
    },
    {
     "data": {
      "application/vnd.jupyter.widget-view+json": {
       "model_id": "8df52a2055f3402bb1df1ec4e7d035a8",
       "version_major": 2,
       "version_minor": 0
      },
      "text/plain": [
       "Predicting: |                                                                                    | 0/? [00:00<…"
      ]
     },
     "metadata": {},
     "output_type": "display_data"
    },
    {
     "name": "stderr",
     "output_type": "stream",
     "text": [
      "INFO:pytorch_lightning.utilities.rank_zero:GPU available: False, used: False\n",
      "INFO:pytorch_lightning.utilities.rank_zero:TPU available: False, using: 0 TPU cores\n",
      "INFO:pytorch_lightning.utilities.rank_zero:HPU available: False, using: 0 HPUs\n"
     ]
    },
    {
     "data": {
      "application/vnd.jupyter.widget-view+json": {
       "model_id": "2351101f0fd140178757613366a56863",
       "version_major": 2,
       "version_minor": 0
      },
      "text/plain": [
       "Predicting: |                                                                                    | 0/? [00:00<…"
      ]
     },
     "metadata": {},
     "output_type": "display_data"
    },
    {
     "name": "stderr",
     "output_type": "stream",
     "text": [
      "INFO:pytorch_lightning.utilities.rank_zero:GPU available: False, used: False\n",
      "INFO:pytorch_lightning.utilities.rank_zero:TPU available: False, using: 0 TPU cores\n",
      "INFO:pytorch_lightning.utilities.rank_zero:HPU available: False, using: 0 HPUs\n"
     ]
    },
    {
     "data": {
      "application/vnd.jupyter.widget-view+json": {
       "model_id": "3ddb659b98e64b0791dfaf25b2892e29",
       "version_major": 2,
       "version_minor": 0
      },
      "text/plain": [
       "Predicting: |                                                                                    | 0/? [00:00<…"
      ]
     },
     "metadata": {},
     "output_type": "display_data"
    },
    {
     "name": "stderr",
     "output_type": "stream",
     "text": [
      "INFO:pytorch_lightning.utilities.rank_zero:GPU available: False, used: False\n",
      "INFO:pytorch_lightning.utilities.rank_zero:TPU available: False, using: 0 TPU cores\n",
      "INFO:pytorch_lightning.utilities.rank_zero:HPU available: False, using: 0 HPUs\n"
     ]
    },
    {
     "data": {
      "application/vnd.jupyter.widget-view+json": {
       "model_id": "e46a150627394efd9283b5e8ba9ff1f1",
       "version_major": 2,
       "version_minor": 0
      },
      "text/plain": [
       "Predicting: |                                                                                    | 0/? [00:00<…"
      ]
     },
     "metadata": {},
     "output_type": "display_data"
    },
    {
     "name": "stderr",
     "output_type": "stream",
     "text": [
      "INFO:pytorch_lightning.utilities.rank_zero:GPU available: False, used: False\n",
      "INFO:pytorch_lightning.utilities.rank_zero:TPU available: False, using: 0 TPU cores\n",
      "INFO:pytorch_lightning.utilities.rank_zero:HPU available: False, using: 0 HPUs\n"
     ]
    },
    {
     "data": {
      "application/vnd.jupyter.widget-view+json": {
       "model_id": "377e3caab832409bba8f3908f78f2539",
       "version_major": 2,
       "version_minor": 0
      },
      "text/plain": [
       "Predicting: |                                                                                    | 0/? [00:00<…"
      ]
     },
     "metadata": {},
     "output_type": "display_data"
    },
    {
     "name": "stderr",
     "output_type": "stream",
     "text": [
      "INFO:pytorch_lightning.utilities.rank_zero:GPU available: False, used: False\n",
      "INFO:pytorch_lightning.utilities.rank_zero:TPU available: False, using: 0 TPU cores\n",
      "INFO:pytorch_lightning.utilities.rank_zero:HPU available: False, using: 0 HPUs\n"
     ]
    },
    {
     "data": {
      "application/vnd.jupyter.widget-view+json": {
       "model_id": "5c849d8f6e72469eafcb9ab84abe6a72",
       "version_major": 2,
       "version_minor": 0
      },
      "text/plain": [
       "Predicting: |                                                                                    | 0/? [00:00<…"
      ]
     },
     "metadata": {},
     "output_type": "display_data"
    },
    {
     "name": "stderr",
     "output_type": "stream",
     "text": [
      "INFO:pytorch_lightning.utilities.rank_zero:GPU available: False, used: False\n",
      "INFO:pytorch_lightning.utilities.rank_zero:TPU available: False, using: 0 TPU cores\n",
      "INFO:pytorch_lightning.utilities.rank_zero:HPU available: False, using: 0 HPUs\n"
     ]
    },
    {
     "data": {
      "application/vnd.jupyter.widget-view+json": {
       "model_id": "245e3ffb50674813b2c040dd579ab89d",
       "version_major": 2,
       "version_minor": 0
      },
      "text/plain": [
       "Predicting: |                                                                                    | 0/? [00:00<…"
      ]
     },
     "metadata": {},
     "output_type": "display_data"
    },
    {
     "name": "stderr",
     "output_type": "stream",
     "text": [
      "INFO:pytorch_lightning.utilities.rank_zero:GPU available: False, used: False\n",
      "INFO:pytorch_lightning.utilities.rank_zero:TPU available: False, using: 0 TPU cores\n",
      "INFO:pytorch_lightning.utilities.rank_zero:HPU available: False, using: 0 HPUs\n"
     ]
    },
    {
     "data": {
      "application/vnd.jupyter.widget-view+json": {
       "model_id": "12a8066beb2d4b44927599aed5d4a29f",
       "version_major": 2,
       "version_minor": 0
      },
      "text/plain": [
       "Predicting: |                                                                                    | 0/? [00:00<…"
      ]
     },
     "metadata": {},
     "output_type": "display_data"
    },
    {
     "name": "stderr",
     "output_type": "stream",
     "text": [
      "INFO:pytorch_lightning.utilities.rank_zero:GPU available: False, used: False\n",
      "INFO:pytorch_lightning.utilities.rank_zero:TPU available: False, using: 0 TPU cores\n",
      "INFO:pytorch_lightning.utilities.rank_zero:HPU available: False, using: 0 HPUs\n"
     ]
    },
    {
     "data": {
      "application/vnd.jupyter.widget-view+json": {
       "model_id": "568f1cf9a20c4f53942b9f27c29ec888",
       "version_major": 2,
       "version_minor": 0
      },
      "text/plain": [
       "Predicting: |                                                                                    | 0/? [00:00<…"
      ]
     },
     "metadata": {},
     "output_type": "display_data"
    },
    {
     "name": "stderr",
     "output_type": "stream",
     "text": [
      "INFO:pytorch_lightning.utilities.rank_zero:GPU available: False, used: False\n",
      "INFO:pytorch_lightning.utilities.rank_zero:TPU available: False, using: 0 TPU cores\n",
      "INFO:pytorch_lightning.utilities.rank_zero:HPU available: False, using: 0 HPUs\n"
     ]
    },
    {
     "data": {
      "application/vnd.jupyter.widget-view+json": {
       "model_id": "d82a0ea73d824ba7bc9baf4de8b88f81",
       "version_major": 2,
       "version_minor": 0
      },
      "text/plain": [
       "Predicting: |                                                                                    | 0/? [00:00<…"
      ]
     },
     "metadata": {},
     "output_type": "display_data"
    },
    {
     "name": "stderr",
     "output_type": "stream",
     "text": [
      "INFO:pytorch_lightning.utilities.rank_zero:GPU available: False, used: False\n",
      "INFO:pytorch_lightning.utilities.rank_zero:TPU available: False, using: 0 TPU cores\n",
      "INFO:pytorch_lightning.utilities.rank_zero:HPU available: False, using: 0 HPUs\n"
     ]
    },
    {
     "data": {
      "application/vnd.jupyter.widget-view+json": {
       "model_id": "202fb025d3fe4da6b2e385c8b3eedffd",
       "version_major": 2,
       "version_minor": 0
      },
      "text/plain": [
       "Predicting: |                                                                                    | 0/? [00:00<…"
      ]
     },
     "metadata": {},
     "output_type": "display_data"
    },
    {
     "name": "stderr",
     "output_type": "stream",
     "text": [
      "INFO:pytorch_lightning.utilities.rank_zero:GPU available: False, used: False\n",
      "INFO:pytorch_lightning.utilities.rank_zero:TPU available: False, using: 0 TPU cores\n",
      "INFO:pytorch_lightning.utilities.rank_zero:HPU available: False, using: 0 HPUs\n"
     ]
    },
    {
     "data": {
      "application/vnd.jupyter.widget-view+json": {
       "model_id": "8f5b92b6fac246729aabae17f5227a2a",
       "version_major": 2,
       "version_minor": 0
      },
      "text/plain": [
       "Predicting: |                                                                                    | 0/? [00:00<…"
      ]
     },
     "metadata": {},
     "output_type": "display_data"
    },
    {
     "name": "stderr",
     "output_type": "stream",
     "text": [
      "INFO:pytorch_lightning.utilities.rank_zero:GPU available: False, used: False\n",
      "INFO:pytorch_lightning.utilities.rank_zero:TPU available: False, using: 0 TPU cores\n",
      "INFO:pytorch_lightning.utilities.rank_zero:HPU available: False, using: 0 HPUs\n"
     ]
    },
    {
     "data": {
      "application/vnd.jupyter.widget-view+json": {
       "model_id": "2b83052ab94044bf910f750a248bfe28",
       "version_major": 2,
       "version_minor": 0
      },
      "text/plain": [
       "Predicting: |                                                                                    | 0/? [00:00<…"
      ]
     },
     "metadata": {},
     "output_type": "display_data"
    },
    {
     "name": "stderr",
     "output_type": "stream",
     "text": [
      "INFO:pytorch_lightning.utilities.rank_zero:GPU available: False, used: False\n",
      "INFO:pytorch_lightning.utilities.rank_zero:TPU available: False, using: 0 TPU cores\n",
      "INFO:pytorch_lightning.utilities.rank_zero:HPU available: False, using: 0 HPUs\n"
     ]
    },
    {
     "data": {
      "application/vnd.jupyter.widget-view+json": {
       "model_id": "5178ce51472042bc87440fb11fd43d68",
       "version_major": 2,
       "version_minor": 0
      },
      "text/plain": [
       "Predicting: |                                                                                    | 0/? [00:00<…"
      ]
     },
     "metadata": {},
     "output_type": "display_data"
    },
    {
     "name": "stderr",
     "output_type": "stream",
     "text": [
      "INFO:pytorch_lightning.utilities.rank_zero:GPU available: False, used: False\n",
      "INFO:pytorch_lightning.utilities.rank_zero:TPU available: False, using: 0 TPU cores\n",
      "INFO:pytorch_lightning.utilities.rank_zero:HPU available: False, using: 0 HPUs\n"
     ]
    },
    {
     "data": {
      "application/vnd.jupyter.widget-view+json": {
       "model_id": "a5be7aa61dd54a219a8e6584999661ca",
       "version_major": 2,
       "version_minor": 0
      },
      "text/plain": [
       "Predicting: |                                                                                    | 0/? [00:00<…"
      ]
     },
     "metadata": {},
     "output_type": "display_data"
    },
    {
     "name": "stderr",
     "output_type": "stream",
     "text": [
      "INFO:pytorch_lightning.utilities.rank_zero:GPU available: False, used: False\n",
      "INFO:pytorch_lightning.utilities.rank_zero:TPU available: False, using: 0 TPU cores\n",
      "INFO:pytorch_lightning.utilities.rank_zero:HPU available: False, using: 0 HPUs\n"
     ]
    },
    {
     "data": {
      "application/vnd.jupyter.widget-view+json": {
       "model_id": "bde30c02beca4cfabde40378de2cf82e",
       "version_major": 2,
       "version_minor": 0
      },
      "text/plain": [
       "Predicting: |                                                                                    | 0/? [00:00<…"
      ]
     },
     "metadata": {},
     "output_type": "display_data"
    },
    {
     "name": "stderr",
     "output_type": "stream",
     "text": [
      "INFO:pytorch_lightning.utilities.rank_zero:GPU available: False, used: False\n",
      "INFO:pytorch_lightning.utilities.rank_zero:TPU available: False, using: 0 TPU cores\n",
      "INFO:pytorch_lightning.utilities.rank_zero:HPU available: False, using: 0 HPUs\n"
     ]
    },
    {
     "data": {
      "application/vnd.jupyter.widget-view+json": {
       "model_id": "182bfc10b830411cb13bda81818590a8",
       "version_major": 2,
       "version_minor": 0
      },
      "text/plain": [
       "Predicting: |                                                                                    | 0/? [00:00<…"
      ]
     },
     "metadata": {},
     "output_type": "display_data"
    },
    {
     "name": "stderr",
     "output_type": "stream",
     "text": [
      "INFO:pytorch_lightning.utilities.rank_zero:GPU available: False, used: False\n",
      "INFO:pytorch_lightning.utilities.rank_zero:TPU available: False, using: 0 TPU cores\n",
      "INFO:pytorch_lightning.utilities.rank_zero:HPU available: False, using: 0 HPUs\n"
     ]
    },
    {
     "data": {
      "application/vnd.jupyter.widget-view+json": {
       "model_id": "e20bc2c0278e4cf3b7efc1cd9d1a4a58",
       "version_major": 2,
       "version_minor": 0
      },
      "text/plain": [
       "Predicting: |                                                                                    | 0/? [00:00<…"
      ]
     },
     "metadata": {},
     "output_type": "display_data"
    },
    {
     "name": "stderr",
     "output_type": "stream",
     "text": [
      "INFO:pytorch_lightning.utilities.rank_zero:GPU available: False, used: False\n",
      "INFO:pytorch_lightning.utilities.rank_zero:TPU available: False, using: 0 TPU cores\n",
      "INFO:pytorch_lightning.utilities.rank_zero:HPU available: False, using: 0 HPUs\n"
     ]
    },
    {
     "data": {
      "application/vnd.jupyter.widget-view+json": {
       "model_id": "b28d688a5de84c4f81127f82b10e35b0",
       "version_major": 2,
       "version_minor": 0
      },
      "text/plain": [
       "Predicting: |                                                                                    | 0/? [00:00<…"
      ]
     },
     "metadata": {},
     "output_type": "display_data"
    },
    {
     "name": "stderr",
     "output_type": "stream",
     "text": [
      "INFO:pytorch_lightning.utilities.rank_zero:GPU available: False, used: False\n",
      "INFO:pytorch_lightning.utilities.rank_zero:TPU available: False, using: 0 TPU cores\n",
      "INFO:pytorch_lightning.utilities.rank_zero:HPU available: False, using: 0 HPUs\n"
     ]
    },
    {
     "data": {
      "application/vnd.jupyter.widget-view+json": {
       "model_id": "22c3e4ec2af341ba8b0fd0b835298b4a",
       "version_major": 2,
       "version_minor": 0
      },
      "text/plain": [
       "Predicting: |                                                                                    | 0/? [00:00<…"
      ]
     },
     "metadata": {},
     "output_type": "display_data"
    },
    {
     "name": "stderr",
     "output_type": "stream",
     "text": [
      "INFO:pytorch_lightning.utilities.rank_zero:GPU available: False, used: False\n",
      "INFO:pytorch_lightning.utilities.rank_zero:TPU available: False, using: 0 TPU cores\n",
      "INFO:pytorch_lightning.utilities.rank_zero:HPU available: False, using: 0 HPUs\n"
     ]
    },
    {
     "data": {
      "application/vnd.jupyter.widget-view+json": {
       "model_id": "6f1303ae9b434784aefb792a0d00b6ab",
       "version_major": 2,
       "version_minor": 0
      },
      "text/plain": [
       "Predicting: |                                                                                    | 0/? [00:00<…"
      ]
     },
     "metadata": {},
     "output_type": "display_data"
    },
    {
     "name": "stderr",
     "output_type": "stream",
     "text": [
      "INFO:pytorch_lightning.utilities.rank_zero:GPU available: False, used: False\n",
      "INFO:pytorch_lightning.utilities.rank_zero:TPU available: False, using: 0 TPU cores\n",
      "INFO:pytorch_lightning.utilities.rank_zero:HPU available: False, using: 0 HPUs\n"
     ]
    },
    {
     "data": {
      "application/vnd.jupyter.widget-view+json": {
       "model_id": "386ed8ca5e3b49c1b690a31043896e45",
       "version_major": 2,
       "version_minor": 0
      },
      "text/plain": [
       "Predicting: |                                                                                    | 0/? [00:00<…"
      ]
     },
     "metadata": {},
     "output_type": "display_data"
    },
    {
     "name": "stderr",
     "output_type": "stream",
     "text": [
      "INFO:pytorch_lightning.utilities.rank_zero:GPU available: False, used: False\n",
      "INFO:pytorch_lightning.utilities.rank_zero:TPU available: False, using: 0 TPU cores\n",
      "INFO:pytorch_lightning.utilities.rank_zero:HPU available: False, using: 0 HPUs\n"
     ]
    },
    {
     "data": {
      "application/vnd.jupyter.widget-view+json": {
       "model_id": "d0e8f5dd5233415199cd0c54fd4f12d4",
       "version_major": 2,
       "version_minor": 0
      },
      "text/plain": [
       "Predicting: |                                                                                    | 0/? [00:00<…"
      ]
     },
     "metadata": {},
     "output_type": "display_data"
    },
    {
     "name": "stderr",
     "output_type": "stream",
     "text": [
      "INFO:pytorch_lightning.utilities.rank_zero:GPU available: False, used: False\n",
      "INFO:pytorch_lightning.utilities.rank_zero:TPU available: False, using: 0 TPU cores\n",
      "INFO:pytorch_lightning.utilities.rank_zero:HPU available: False, using: 0 HPUs\n"
     ]
    },
    {
     "data": {
      "application/vnd.jupyter.widget-view+json": {
       "model_id": "b6ff13b9682e4f03b2db1cff12eafed3",
       "version_major": 2,
       "version_minor": 0
      },
      "text/plain": [
       "Predicting: |                                                                                    | 0/? [00:00<…"
      ]
     },
     "metadata": {},
     "output_type": "display_data"
    },
    {
     "name": "stderr",
     "output_type": "stream",
     "text": [
      "INFO:pytorch_lightning.utilities.rank_zero:GPU available: False, used: False\n",
      "INFO:pytorch_lightning.utilities.rank_zero:TPU available: False, using: 0 TPU cores\n",
      "INFO:pytorch_lightning.utilities.rank_zero:HPU available: False, using: 0 HPUs\n"
     ]
    },
    {
     "data": {
      "application/vnd.jupyter.widget-view+json": {
       "model_id": "318d6a390a104d96985d5d2ab0213f28",
       "version_major": 2,
       "version_minor": 0
      },
      "text/plain": [
       "Predicting: |                                                                                    | 0/? [00:00<…"
      ]
     },
     "metadata": {},
     "output_type": "display_data"
    },
    {
     "name": "stderr",
     "output_type": "stream",
     "text": [
      "INFO:pytorch_lightning.utilities.rank_zero:GPU available: False, used: False\n",
      "INFO:pytorch_lightning.utilities.rank_zero:TPU available: False, using: 0 TPU cores\n",
      "INFO:pytorch_lightning.utilities.rank_zero:HPU available: False, using: 0 HPUs\n"
     ]
    },
    {
     "data": {
      "application/vnd.jupyter.widget-view+json": {
       "model_id": "5ae6face3f274424aba0768ffa07bd41",
       "version_major": 2,
       "version_minor": 0
      },
      "text/plain": [
       "Predicting: |                                                                                    | 0/? [00:00<…"
      ]
     },
     "metadata": {},
     "output_type": "display_data"
    },
    {
     "name": "stderr",
     "output_type": "stream",
     "text": [
      "INFO:pytorch_lightning.utilities.rank_zero:GPU available: False, used: False\n",
      "INFO:pytorch_lightning.utilities.rank_zero:TPU available: False, using: 0 TPU cores\n",
      "INFO:pytorch_lightning.utilities.rank_zero:HPU available: False, using: 0 HPUs\n"
     ]
    },
    {
     "data": {
      "application/vnd.jupyter.widget-view+json": {
       "model_id": "edb364cb26fe449fa03a699c5c7f051f",
       "version_major": 2,
       "version_minor": 0
      },
      "text/plain": [
       "Predicting: |                                                                                    | 0/? [00:00<…"
      ]
     },
     "metadata": {},
     "output_type": "display_data"
    },
    {
     "name": "stderr",
     "output_type": "stream",
     "text": [
      "INFO:pytorch_lightning.utilities.rank_zero:GPU available: False, used: False\n",
      "INFO:pytorch_lightning.utilities.rank_zero:TPU available: False, using: 0 TPU cores\n",
      "INFO:pytorch_lightning.utilities.rank_zero:HPU available: False, using: 0 HPUs\n"
     ]
    },
    {
     "data": {
      "application/vnd.jupyter.widget-view+json": {
       "model_id": "ce696879aa6745ed949d62588202b502",
       "version_major": 2,
       "version_minor": 0
      },
      "text/plain": [
       "Predicting: |                                                                                    | 0/? [00:00<…"
      ]
     },
     "metadata": {},
     "output_type": "display_data"
    },
    {
     "name": "stderr",
     "output_type": "stream",
     "text": [
      "INFO:pytorch_lightning.utilities.rank_zero:GPU available: False, used: False\n",
      "INFO:pytorch_lightning.utilities.rank_zero:TPU available: False, using: 0 TPU cores\n",
      "INFO:pytorch_lightning.utilities.rank_zero:HPU available: False, using: 0 HPUs\n"
     ]
    },
    {
     "data": {
      "application/vnd.jupyter.widget-view+json": {
       "model_id": "7c4320f154804d84b9f2fa6b4d87161c",
       "version_major": 2,
       "version_minor": 0
      },
      "text/plain": [
       "Predicting: |                                                                                    | 0/? [00:00<…"
      ]
     },
     "metadata": {},
     "output_type": "display_data"
    },
    {
     "name": "stderr",
     "output_type": "stream",
     "text": [
      "INFO:pytorch_lightning.utilities.rank_zero:GPU available: False, used: False\n",
      "INFO:pytorch_lightning.utilities.rank_zero:TPU available: False, using: 0 TPU cores\n",
      "INFO:pytorch_lightning.utilities.rank_zero:HPU available: False, using: 0 HPUs\n"
     ]
    },
    {
     "data": {
      "application/vnd.jupyter.widget-view+json": {
       "model_id": "55dcd3baa07b4b81a0a37819587f8092",
       "version_major": 2,
       "version_minor": 0
      },
      "text/plain": [
       "Predicting: |                                                                                    | 0/? [00:00<…"
      ]
     },
     "metadata": {},
     "output_type": "display_data"
    },
    {
     "name": "stderr",
     "output_type": "stream",
     "text": [
      "INFO:pytorch_lightning.utilities.rank_zero:GPU available: False, used: False\n",
      "INFO:pytorch_lightning.utilities.rank_zero:TPU available: False, using: 0 TPU cores\n",
      "INFO:pytorch_lightning.utilities.rank_zero:HPU available: False, using: 0 HPUs\n"
     ]
    },
    {
     "data": {
      "application/vnd.jupyter.widget-view+json": {
       "model_id": "59419adbea624f36830a0fdb55a6cc50",
       "version_major": 2,
       "version_minor": 0
      },
      "text/plain": [
       "Predicting: |                                                                                    | 0/? [00:00<…"
      ]
     },
     "metadata": {},
     "output_type": "display_data"
    },
    {
     "name": "stderr",
     "output_type": "stream",
     "text": [
      "INFO:pytorch_lightning.utilities.rank_zero:GPU available: False, used: False\n",
      "INFO:pytorch_lightning.utilities.rank_zero:TPU available: False, using: 0 TPU cores\n",
      "INFO:pytorch_lightning.utilities.rank_zero:HPU available: False, using: 0 HPUs\n"
     ]
    },
    {
     "data": {
      "application/vnd.jupyter.widget-view+json": {
       "model_id": "046d146e6d5e4368802c7f839c56c664",
       "version_major": 2,
       "version_minor": 0
      },
      "text/plain": [
       "Predicting: |                                                                                    | 0/? [00:00<…"
      ]
     },
     "metadata": {},
     "output_type": "display_data"
    },
    {
     "name": "stderr",
     "output_type": "stream",
     "text": [
      "INFO:pytorch_lightning.utilities.rank_zero:GPU available: False, used: False\n",
      "INFO:pytorch_lightning.utilities.rank_zero:TPU available: False, using: 0 TPU cores\n",
      "INFO:pytorch_lightning.utilities.rank_zero:HPU available: False, using: 0 HPUs\n"
     ]
    },
    {
     "data": {
      "application/vnd.jupyter.widget-view+json": {
       "model_id": "897279b604cd45c0984e3e413f830472",
       "version_major": 2,
       "version_minor": 0
      },
      "text/plain": [
       "Predicting: |                                                                                    | 0/? [00:00<…"
      ]
     },
     "metadata": {},
     "output_type": "display_data"
    },
    {
     "name": "stderr",
     "output_type": "stream",
     "text": [
      "INFO:pytorch_lightning.utilities.rank_zero:GPU available: False, used: False\n",
      "INFO:pytorch_lightning.utilities.rank_zero:TPU available: False, using: 0 TPU cores\n",
      "INFO:pytorch_lightning.utilities.rank_zero:HPU available: False, using: 0 HPUs\n"
     ]
    },
    {
     "data": {
      "application/vnd.jupyter.widget-view+json": {
       "model_id": "5ff7ba2665494fd59067984eed82b2ac",
       "version_major": 2,
       "version_minor": 0
      },
      "text/plain": [
       "Predicting: |                                                                                    | 0/? [00:00<…"
      ]
     },
     "metadata": {},
     "output_type": "display_data"
    },
    {
     "name": "stderr",
     "output_type": "stream",
     "text": [
      "INFO:pytorch_lightning.utilities.rank_zero:GPU available: False, used: False\n",
      "INFO:pytorch_lightning.utilities.rank_zero:TPU available: False, using: 0 TPU cores\n",
      "INFO:pytorch_lightning.utilities.rank_zero:HPU available: False, using: 0 HPUs\n"
     ]
    },
    {
     "data": {
      "application/vnd.jupyter.widget-view+json": {
       "model_id": "aa1b7c7b334745e7833a199001295e27",
       "version_major": 2,
       "version_minor": 0
      },
      "text/plain": [
       "Predicting: |                                                                                    | 0/? [00:00<…"
      ]
     },
     "metadata": {},
     "output_type": "display_data"
    },
    {
     "name": "stderr",
     "output_type": "stream",
     "text": [
      "INFO:pytorch_lightning.utilities.rank_zero:GPU available: False, used: False\n",
      "INFO:pytorch_lightning.utilities.rank_zero:TPU available: False, using: 0 TPU cores\n",
      "INFO:pytorch_lightning.utilities.rank_zero:HPU available: False, using: 0 HPUs\n"
     ]
    },
    {
     "data": {
      "application/vnd.jupyter.widget-view+json": {
       "model_id": "6a17e4dc8ea64ae3a27813172a269ede",
       "version_major": 2,
       "version_minor": 0
      },
      "text/plain": [
       "Predicting: |                                                                                    | 0/? [00:00<…"
      ]
     },
     "metadata": {},
     "output_type": "display_data"
    },
    {
     "name": "stderr",
     "output_type": "stream",
     "text": [
      "INFO:pytorch_lightning.utilities.rank_zero:GPU available: False, used: False\n",
      "INFO:pytorch_lightning.utilities.rank_zero:TPU available: False, using: 0 TPU cores\n",
      "INFO:pytorch_lightning.utilities.rank_zero:HPU available: False, using: 0 HPUs\n"
     ]
    },
    {
     "data": {
      "application/vnd.jupyter.widget-view+json": {
       "model_id": "31debc96e3e24c4a880bf9700b0e4f05",
       "version_major": 2,
       "version_minor": 0
      },
      "text/plain": [
       "Predicting: |                                                                                    | 0/? [00:00<…"
      ]
     },
     "metadata": {},
     "output_type": "display_data"
    },
    {
     "name": "stderr",
     "output_type": "stream",
     "text": [
      "INFO:pytorch_lightning.utilities.rank_zero:GPU available: False, used: False\n",
      "INFO:pytorch_lightning.utilities.rank_zero:TPU available: False, using: 0 TPU cores\n",
      "INFO:pytorch_lightning.utilities.rank_zero:HPU available: False, using: 0 HPUs\n"
     ]
    },
    {
     "data": {
      "application/vnd.jupyter.widget-view+json": {
       "model_id": "5f1679b2ec04492f8218905ab49564a3",
       "version_major": 2,
       "version_minor": 0
      },
      "text/plain": [
       "Predicting: |                                                                                    | 0/? [00:00<…"
      ]
     },
     "metadata": {},
     "output_type": "display_data"
    },
    {
     "name": "stderr",
     "output_type": "stream",
     "text": [
      "INFO:pytorch_lightning.utilities.rank_zero:GPU available: False, used: False\n",
      "INFO:pytorch_lightning.utilities.rank_zero:TPU available: False, using: 0 TPU cores\n",
      "INFO:pytorch_lightning.utilities.rank_zero:HPU available: False, using: 0 HPUs\n"
     ]
    },
    {
     "data": {
      "application/vnd.jupyter.widget-view+json": {
       "model_id": "1b2ff6ce17f2418189247abe09993f3f",
       "version_major": 2,
       "version_minor": 0
      },
      "text/plain": [
       "Predicting: |                                                                                    | 0/? [00:00<…"
      ]
     },
     "metadata": {},
     "output_type": "display_data"
    },
    {
     "name": "stderr",
     "output_type": "stream",
     "text": [
      "INFO:pytorch_lightning.utilities.rank_zero:GPU available: False, used: False\n",
      "INFO:pytorch_lightning.utilities.rank_zero:TPU available: False, using: 0 TPU cores\n",
      "INFO:pytorch_lightning.utilities.rank_zero:HPU available: False, using: 0 HPUs\n"
     ]
    },
    {
     "data": {
      "application/vnd.jupyter.widget-view+json": {
       "model_id": "bc62e8a944fa43f688fd4e5dc88c5e04",
       "version_major": 2,
       "version_minor": 0
      },
      "text/plain": [
       "Predicting: |                                                                                    | 0/? [00:00<…"
      ]
     },
     "metadata": {},
     "output_type": "display_data"
    },
    {
     "name": "stderr",
     "output_type": "stream",
     "text": [
      "INFO:pytorch_lightning.utilities.rank_zero:GPU available: False, used: False\n",
      "INFO:pytorch_lightning.utilities.rank_zero:TPU available: False, using: 0 TPU cores\n",
      "INFO:pytorch_lightning.utilities.rank_zero:HPU available: False, using: 0 HPUs\n"
     ]
    },
    {
     "data": {
      "application/vnd.jupyter.widget-view+json": {
       "model_id": "3cd36db51c5f4d77ac6f702347b2fa44",
       "version_major": 2,
       "version_minor": 0
      },
      "text/plain": [
       "Predicting: |                                                                                    | 0/? [00:00<…"
      ]
     },
     "metadata": {},
     "output_type": "display_data"
    },
    {
     "name": "stderr",
     "output_type": "stream",
     "text": [
      "INFO:pytorch_lightning.utilities.rank_zero:GPU available: False, used: False\n",
      "INFO:pytorch_lightning.utilities.rank_zero:TPU available: False, using: 0 TPU cores\n",
      "INFO:pytorch_lightning.utilities.rank_zero:HPU available: False, using: 0 HPUs\n"
     ]
    },
    {
     "data": {
      "application/vnd.jupyter.widget-view+json": {
       "model_id": "d809beb34272481994ff411fd7b470c5",
       "version_major": 2,
       "version_minor": 0
      },
      "text/plain": [
       "Predicting: |                                                                                    | 0/? [00:00<…"
      ]
     },
     "metadata": {},
     "output_type": "display_data"
    },
    {
     "name": "stdout",
     "output_type": "stream",
     "text": [
      "Nombre total de prédictions générées entre 2020-07-15 14:00:00 et 2020-07-17 05:30:00 : 79\n"
     ]
    },
    {
     "data": {
      "text/html": [
       "<div>\n",
       "<style scoped>\n",
       "    .dataframe tbody tr th:only-of-type {\n",
       "        vertical-align: middle;\n",
       "    }\n",
       "\n",
       "    .dataframe tbody tr th {\n",
       "        vertical-align: top;\n",
       "    }\n",
       "\n",
       "    .dataframe thead th {\n",
       "        text-align: right;\n",
       "    }\n",
       "</style>\n",
       "<table border=\"1\" class=\"dataframe\">\n",
       "  <thead>\n",
       "    <tr style=\"text-align: right;\">\n",
       "      <th>component</th>\n",
       "      <th>panne</th>\n",
       "    </tr>\n",
       "    <tr>\n",
       "      <th>time</th>\n",
       "      <th></th>\n",
       "    </tr>\n",
       "  </thead>\n",
       "  <tbody>\n",
       "    <tr>\n",
       "      <th>2020-07-15 14:29:50</th>\n",
       "      <td>1.023814</td>\n",
       "    </tr>\n",
       "    <tr>\n",
       "      <th>2020-07-15 14:59:50</th>\n",
       "      <td>1.003753</td>\n",
       "    </tr>\n",
       "    <tr>\n",
       "      <th>2020-07-15 15:29:50</th>\n",
       "      <td>1.004045</td>\n",
       "    </tr>\n",
       "    <tr>\n",
       "      <th>2020-07-15 15:59:50</th>\n",
       "      <td>1.019302</td>\n",
       "    </tr>\n",
       "    <tr>\n",
       "      <th>2020-07-15 16:29:50</th>\n",
       "      <td>1.020966</td>\n",
       "    </tr>\n",
       "    <tr>\n",
       "      <th>...</th>\n",
       "      <td>...</td>\n",
       "    </tr>\n",
       "    <tr>\n",
       "      <th>2020-07-17 03:29:50</th>\n",
       "      <td>0.938732</td>\n",
       "    </tr>\n",
       "    <tr>\n",
       "      <th>2020-07-17 03:59:50</th>\n",
       "      <td>1.019130</td>\n",
       "    </tr>\n",
       "    <tr>\n",
       "      <th>2020-07-17 04:29:50</th>\n",
       "      <td>1.019428</td>\n",
       "    </tr>\n",
       "    <tr>\n",
       "      <th>2020-07-17 04:59:50</th>\n",
       "      <td>1.019044</td>\n",
       "    </tr>\n",
       "    <tr>\n",
       "      <th>2020-07-17 05:29:50</th>\n",
       "      <td>0.997698</td>\n",
       "    </tr>\n",
       "  </tbody>\n",
       "</table>\n",
       "<p>79 rows × 1 columns</p>\n",
       "</div>"
      ],
      "text/plain": [
       "component               panne\n",
       "time                         \n",
       "2020-07-15 14:29:50  1.023814\n",
       "2020-07-15 14:59:50  1.003753\n",
       "2020-07-15 15:29:50  1.004045\n",
       "2020-07-15 15:59:50  1.019302\n",
       "2020-07-15 16:29:50  1.020966\n",
       "...                       ...\n",
       "2020-07-17 03:29:50  0.938732\n",
       "2020-07-17 03:59:50  1.019130\n",
       "2020-07-17 04:29:50  1.019428\n",
       "2020-07-17 04:59:50  1.019044\n",
       "2020-07-17 05:29:50  0.997698\n",
       "\n",
       "[79 rows x 1 columns]"
      ]
     },
     "metadata": {},
     "output_type": "display_data"
    },
    {
     "data": {
      "image/png": "[encoded data removed]",
      "text/plain": [
       "<Figure size 1200x500 with 1 Axes>"
      ]
     },
     "metadata": {},
     "output_type": "display_data"
    }
   ],
   "source": [
    "import pandas as pd\n",
    "import matplotlib.pyplot as plt\n",
    "\n",
    "# Définir la période de test\n",
    "test_start = pd.Timestamp(\"2020-07-15 14:00:00\")\n",
    "test_end = pd.Timestamp(\"2020-07-17 05:30:00\")\n",
    "\n",
    "# Durée de la période de prédiction (20 minutes pour chaque prédiction)\n",
    "prediction_duration = pd.Timedelta(minutes=30)  # Durée de chaque prédiction (20 minutes)\n",
    "\n",
    "# Liste pour stocker toutes les prédictions\n",
    "all_predictions = []\n",
    "\n",
    "# Effectuer des prédictions sur des fenêtres successives toutes les 20 minutes\n",
    "current_start = test_start\n",
    "\n",
    "while current_start < test_end:\n",
    "    # Définir la période de test actuelle (fenêtre glissante de 20 minutes)\n",
    "    current_end = current_start + prediction_duration\n",
    "    if current_end > test_end:\n",
    "        break  # Arrêter si la période dépasse la fin de l'intervalle\n",
    "\n",
    "    # Filtrer les données pour cette fenêtre de temps\n",
    "    df_prod_window = df_original.loc[(df_original.index >= current_start) & (df_original.index < current_end)].copy()\n",
    "\n",
    "    # Vérifier si la fenêtre contient assez de données pour la prédiction\n",
    "    if len(df_prod_window) < 180:  # 180 observations requises pour input_chunk + output_chunk\n",
    "        print(f\"Fenêtre trop petite pour la prédiction entre {current_start} et {current_end}. Sauter cette fenêtre.\")\n",
    "        current_start = current_end\n",
    "        continue  # Passer à la fenêtre suivante\n",
    "\n",
    "    # Convertir en TimeSeries\n",
    "    series_transformed_test_prod = TimeSeries.from_dataframe(df_prod_window, value_cols=[\"panne\"], freq=\"10s\", fill_missing_dates=False)\n",
    "\n",
    "    # Normalisation avec les mêmes scalers\n",
    "    series_continuous_transformed_test_prod = scaler_continuous.transform(\n",
    "        TimeSeries.from_dataframe(df_prod_window, value_cols=continuous_features)\n",
    "    )\n",
    "\n",
    "    # Covariables temporelles (ajout du mois en one-hot encoding)\n",
    "    covariates_test_prod = datetime_attribute_timeseries(series_transformed_test_prod, attribute=\"month\", one_hot=True)\n",
    "\n",
    "    # Normalisation des covariables temporelles avec le même scaler que l'entraînement\n",
    "    covariates_transformed_test_prod = scaler_covariates.transform(covariates_test_prod)\n",
    "\n",
    "    # Vérifier l'alignement des indices de temps entre la série et les covariables\n",
    "    future_covariates_test_prod = covariates_transformed_test_prod.slice_intersect(series_transformed_test_prod)\n",
    "\n",
    "    # Créer le dataset de test\n",
    "    test_dataset_single_window_prod = MixedCovariatesSequentialDataset(\n",
    "        target_series=series_transformed_test_prod,  \n",
    "        future_covariates=future_covariates_test_prod,  \n",
    "        input_chunk_length=120,  # 120 observations pour la fenêtre d'entrée\n",
    "        output_chunk_length=60   # 60 observations pour la sortie\n",
    "    )\n",
    "\n",
    "    # Effectuer la prédiction pour cette fenêtre\n",
    "    extended_predictions_prod = model.historical_forecasts(\n",
    "        series=series_transformed_test_prod,\n",
    "        future_covariates=future_covariates_test_prod,\n",
    "        start=series_transformed_test_prod.end_time() - pd.Timedelta(seconds=10 * 60),  # Prédiction sur 60 observations\n",
    "        forecast_horizon=60,\n",
    "        stride=1,  # stride de 1 pour des prédictions plus fréquentes\n",
    "        retrain=False,\n",
    "        overlap_end=True,  # Permet d'obtenir des prédictions continues\n",
    "        verbose=True\n",
    "    )\n",
    "\n",
    "    # Ajouter les prédictions à la liste\n",
    "    all_predictions.append(extended_predictions_prod.pd_dataframe())\n",
    "\n",
    "    # Avancer dans le temps pour la prochaine fenêtre (20 minutes)\n",
    "    current_start = current_end\n",
    "\n",
    "# Combiner toutes les prédictions dans un seul DataFrame\n",
    "all_predictions_df = pd.concat(all_predictions)\n",
    "\n",
    "# Filtrer les prédictions entre test_start et test_end\n",
    "filtered_predictions = all_predictions_df[\n",
    "    (all_predictions_df.index >= test_start) & \n",
    "    (all_predictions_df.index <= test_end)\n",
    "]\n",
    "\n",
    "# Afficher les prédictions\n",
    "print(f\"Nombre total de prédictions générées entre {test_start} et {test_end} : {len(filtered_predictions)}\")\n",
    "display(filtered_predictions)\n",
    "\n",
    "# Visualisation des prédictions entre test_start et test_end\n",
    "plt.figure(figsize=(12, 5))\n",
    "series_transformed_test_prod.plot(label=\"Série réelle\")  # Afficher la série réelle\n",
    "plt.plot(filtered_predictions.index, filtered_predictions[\"panne\"], label=\"Prédictions\", linestyle=\"dashed\")  # Afficher les prédictions\n",
    "plt.title(f\"Prédictions TFT sur l'ensemble de test entre {test_start} et {test_end}\")\n",
    "plt.legend()\n",
    "plt.show()\n"
   ]
  },
  {
   "cell_type": "code",
   "execution_count": null,
   "id": "41d89746-da91-4ef7-a535-cec2fea51b19",
   "metadata": {},
   "outputs": [],
   "source": []
  },
  {
   "cell_type": "code",
   "execution_count": null,
   "id": "3b7c83d9-6bb9-4d7b-adbe-a0bba5ea570f",
   "metadata": {},
   "outputs": [],
   "source": []
  },
  {
   "cell_type": "code",
   "execution_count": null,
   "id": "687a9193-938b-42f9-8807-63e97a99fd50",
   "metadata": {},
   "outputs": [],
   "source": []
  },
  {
   "cell_type": "code",
   "execution_count": null,
   "id": "2f05b7c3-194b-4c74-9bd6-a19fe4e13fcb",
   "metadata": {},
   "outputs": [],
   "source": []
  },
  {
   "cell_type": "code",
   "execution_count": null,
   "id": "eb62c06c-3aba-4cdc-ae8b-f95e7f542adb",
   "metadata": {},
   "outputs": [],
   "source": []
  },
  {
   "cell_type": "code",
   "execution_count": null,
   "id": "b7572fbd-fc8a-41e1-adff-791f8652d3d8",
   "metadata": {},
   "outputs": [],
   "source": []
  },
  {
   "cell_type": "code",
   "execution_count": null,
   "id": "55369deb-34e2-40fb-94fe-05f272094d93",
   "metadata": {},
   "outputs": [],
   "source": []
  },
  {
   "cell_type": "code",
   "execution_count": null,
   "id": "2cc358ef-0ea5-448d-976c-9102beccea11",
   "metadata": {},
   "outputs": [],
   "source": []
  },
  {
   "cell_type": "code",
   "execution_count": null,
   "id": "c6f73376-3755-4c8c-8b34-cdb1171f932c",
   "metadata": {},
   "outputs": [],
   "source": []
  },
  {
   "cell_type": "code",
   "execution_count": null,
   "id": "8383b370-5ad0-46c7-a7fa-90d63aa4e042",
   "metadata": {},
   "outputs": [],
   "source": []
  },
  {
   "cell_type": "code",
   "execution_count": 27,
   "id": "2e91f356-c4b2-405f-b107-4fefba0cf3ef",
   "metadata": {},
   "outputs": [],
   "source": [
    "########################################################################################################\n",
    "########################################################################################################\n",
    "########################################################################################################"
   ]
  },
  {
   "cell_type": "code",
   "execution_count": null,
   "id": "5ad7cc47-470d-4535-881d-ad31dd2289ff",
   "metadata": {},
   "outputs": [],
   "source": []
  },
  {
   "cell_type": "code",
   "execution_count": null,
   "id": "bcba74cf-06c3-405a-9215-a5a4cced9416",
   "metadata": {},
   "outputs": [],
   "source": []
  },
  {
   "cell_type": "code",
   "execution_count": null,
   "id": "acce2fff-7938-4a44-abf4-f153c6298fc4",
   "metadata": {},
   "outputs": [],
   "source": [
    "########################################################################################################\n",
    "## 8 - Prédiction a partir du Modele construit et qui se situe dans la memoire par celui de chargé   ##\n",
    "#######################################################################################################"
   ]
  },
  {
   "cell_type": "code",
   "execution_count": 76,
   "id": "2503e403-524b-48cb-a7ca-d2c71f2eb849",
   "metadata": {},
   "outputs": [
    {
     "name": "stdout",
     "output_type": "stream",
     "text": [
      "Ensemble de test bien construit avec 720 observations (120 minutes).\n"
     ]
    }
   ],
   "source": [
    "##########################################\n",
    "## 8 - Création de l'ensemble de Test   ##\n",
    "##########################################\n",
    "\n",
    "# Définition des features utilisées\n",
    "continuous_features  = [\"TP2\", \"H1\", \"DV_pressure\", \"Oil_temperature\", \"Motor_current\"]\n",
    "categorical_features = [\"COMP\", \"DV_eletric\", \"MPG\"]\n",
    "\n",
    "# Définir la plage de test sur 120 minutes\n",
    "new_test_start = pd.Timestamp(\"2020-07-15 13:30:00\")  \n",
    "new_test_end   = new_test_start + pd.Timedelta(minutes=120)  # 120 minutes (2 heures)\n",
    "\n",
    "# Filtrer `df_test` pour garantir exactement 720 observations\n",
    "df_test = df_original.loc[(df_original.index >= new_test_start) & (df_original.index < new_test_end)].copy()\n",
    "\n",
    "# Vérifier que l'ensemble de test contient bien 720 observations\n",
    "assert len(df_test) == 720, f\"Erreur : df_test contient {len(df_test)} observations au lieu de 720\"\n",
    "\n",
    "print(f\"Ensemble de test bien construit avec {len(df_test)} observations (120 minutes).\")\n"
   ]
  },
  {
   "cell_type": "code",
   "execution_count": 77,
   "id": "df7ba75a-dffa-45e9-a3cd-c00f826b19ef",
   "metadata": {},
   "outputs": [
    {
     "name": "stdout",
     "output_type": "stream",
     "text": [
      "Normalisation et conversion de l'ensemble de TEST effectuées.\n"
     ]
    }
   ],
   "source": [
    "################################################################\n",
    "## 9 - Normalisation et Conversion de l'ensemble de Test      ##\n",
    "################################################################\n",
    "\n",
    "# Convertir les labels en `TimeSeries`\n",
    "series_transformed_test = TimeSeries.from_dataframe(df_test, value_cols=[\"panne\"], freq=\"10s\", fill_missing_dates=False)\n",
    "Test = series_transformed_test  # Pour garder la même nomenclature (Train, Val et Test)\n",
    "\n",
    "# Normalisation avec le même scaler que l'entraînement\n",
    "series_continuous_transformed_test = scaler_continuous.transform(\n",
    "    TimeSeries.from_dataframe(df_test, value_cols=continuous_features)\n",
    ")\n",
    "\n",
    "# Covariables temporelles (ajout du mois en one-hot encoding)\n",
    "covariates_test = datetime_attribute_timeseries(series_transformed_test, attribute=\"month\", one_hot=True)\n",
    "\n",
    "# Normalisation des covariables temporelles avec le même scaler que l'entraînement\n",
    "covariates_transformed_test = scaler_covariates.transform(covariates_test)\n",
    "\n",
    "print(\"Normalisation et conversion de l'ensemble de TEST effectuées.\")"
   ]
  },
  {
   "cell_type": "code",
   "execution_count": 78,
   "id": "d1e82224-5985-4ae2-b890-b1284173e922",
   "metadata": {},
   "outputs": [
    {
     "name": "stdout",
     "output_type": "stream",
     "text": [
      "Données avant normalisation :\n"
     ]
    },
    {
     "data": {
      "text/html": [
       "<div>\n",
       "<style scoped>\n",
       "    .dataframe tbody tr th:only-of-type {\n",
       "        vertical-align: middle;\n",
       "    }\n",
       "\n",
       "    .dataframe tbody tr th {\n",
       "        vertical-align: top;\n",
       "    }\n",
       "\n",
       "    .dataframe thead th {\n",
       "        text-align: right;\n",
       "    }\n",
       "</style>\n",
       "<table border=\"1\" class=\"dataframe\">\n",
       "  <thead>\n",
       "    <tr style=\"text-align: right;\">\n",
       "      <th></th>\n",
       "      <th>TP2</th>\n",
       "      <th>H1</th>\n",
       "      <th>DV_pressure</th>\n",
       "      <th>Oil_temperature</th>\n",
       "      <th>Motor_current</th>\n",
       "    </tr>\n",
       "    <tr>\n",
       "      <th>timestamp</th>\n",
       "      <th></th>\n",
       "      <th></th>\n",
       "      <th></th>\n",
       "      <th></th>\n",
       "      <th></th>\n",
       "    </tr>\n",
       "  </thead>\n",
       "  <tbody>\n",
       "    <tr>\n",
       "      <th>2020-07-15 13:30:00</th>\n",
       "      <td>9.944</td>\n",
       "      <td>-0.006</td>\n",
       "      <td>-0.01</td>\n",
       "      <td>78.375</td>\n",
       "      <td>5.8925</td>\n",
       "    </tr>\n",
       "    <tr>\n",
       "      <th>2020-07-15 13:30:10</th>\n",
       "      <td>8.894</td>\n",
       "      <td>-0.006</td>\n",
       "      <td>-0.01</td>\n",
       "      <td>78.500</td>\n",
       "      <td>5.6700</td>\n",
       "    </tr>\n",
       "  </tbody>\n",
       "</table>\n",
       "</div>"
      ],
      "text/plain": [
       "                       TP2     H1  DV_pressure  Oil_temperature  Motor_current\n",
       "timestamp                                                                     \n",
       "2020-07-15 13:30:00  9.944 -0.006        -0.01           78.375         5.8925\n",
       "2020-07-15 13:30:10  8.894 -0.006        -0.01           78.500         5.6700"
      ]
     },
     "metadata": {},
     "output_type": "display_data"
    },
    {
     "name": "stdout",
     "output_type": "stream",
     "text": [
      "Données après normalisation :\n"
     ]
    },
    {
     "data": {
      "text/html": [
       "<div>\n",
       "<style scoped>\n",
       "    .dataframe tbody tr th:only-of-type {\n",
       "        vertical-align: middle;\n",
       "    }\n",
       "\n",
       "    .dataframe tbody tr th {\n",
       "        vertical-align: top;\n",
       "    }\n",
       "\n",
       "    .dataframe thead th {\n",
       "        text-align: right;\n",
       "    }\n",
       "</style>\n",
       "<table border=\"1\" class=\"dataframe\">\n",
       "  <thead>\n",
       "    <tr style=\"text-align: right;\">\n",
       "      <th>component</th>\n",
       "      <th>TP2</th>\n",
       "      <th>H1</th>\n",
       "      <th>DV_pressure</th>\n",
       "      <th>Oil_temperature</th>\n",
       "      <th>Motor_current</th>\n",
       "    </tr>\n",
       "    <tr>\n",
       "      <th>timestamp</th>\n",
       "      <th></th>\n",
       "      <th></th>\n",
       "      <th></th>\n",
       "      <th></th>\n",
       "      <th></th>\n",
       "    </tr>\n",
       "  </thead>\n",
       "  <tbody>\n",
       "    <tr>\n",
       "      <th>2020-07-15 13:30:00</th>\n",
       "      <td>0.951154</td>\n",
       "      <td>0.002162</td>\n",
       "      <td>0.00504</td>\n",
       "      <td>1.038259</td>\n",
       "      <td>0.940538</td>\n",
       "    </tr>\n",
       "    <tr>\n",
       "      <th>2020-07-15 13:30:10</th>\n",
       "      <td>0.850983</td>\n",
       "      <td>0.002162</td>\n",
       "      <td>0.00504</td>\n",
       "      <td>1.044855</td>\n",
       "      <td>0.904781</td>\n",
       "    </tr>\n",
       "  </tbody>\n",
       "</table>\n",
       "</div>"
      ],
      "text/plain": [
       "component                 TP2        H1  DV_pressure  Oil_temperature  \\\n",
       "timestamp                                                               \n",
       "2020-07-15 13:30:00  0.951154  0.002162      0.00504         1.038259   \n",
       "2020-07-15 13:30:10  0.850983  0.002162      0.00504         1.044855   \n",
       "\n",
       "component            Motor_current  \n",
       "timestamp                           \n",
       "2020-07-15 13:30:00       0.940538  \n",
       "2020-07-15 13:30:10       0.904781  "
      ]
     },
     "metadata": {},
     "output_type": "display_data"
    }
   ],
   "source": [
    "#################################################################\n",
    "## 10 - Validation des normalisations de l'ensemble de Test   ##\n",
    "#################################################################\n",
    "\n",
    "# Convertir `series_continuous_transformed_test` en DataFrame\n",
    "df_continuous_transformed_test = series_continuous_transformed_test.pd_dataframe()\n",
    "\n",
    "# Affichage des données avant normalisation\n",
    "print(\"Données avant normalisation :\")\n",
    "display(df_test[continuous_features].head(2))\n",
    "\n",
    "# Affichage des données après normalisation\n",
    "print(\"Données après normalisation :\")\n",
    "display(df_continuous_transformed_test.head(2))"
   ]
  },
  {
   "cell_type": "code",
   "execution_count": 79,
   "id": "d64b3d5d-b08f-4e66-8754-097ea4d49e87",
   "metadata": {},
   "outputs": [
    {
     "name": "stdout",
     "output_type": "stream",
     "text": [
      "Nombre total de fenêtres Test après segmentation : 541\n"
     ]
    }
   ],
   "source": [
    "##########################################\n",
    "## 11 - Création des Fenêtres de Test   ##\n",
    "##########################################\n",
    "\n",
    "# Définir la taille des fenêtres pour le test\n",
    "input_chunk_length_test  = 120\n",
    "output_chunk_length_test = 60\n",
    "\n",
    "# Vérifier que les covariables de test sont bien alignées avec la plage temporelle\n",
    "future_covariates_test = covariates_transformed_test.slice_intersect(series_transformed_test)\n",
    "\n",
    "# Création du dataset de test\n",
    "test_dataset = MixedCovariatesSequentialDataset(\n",
    "    target_series=Test,   \n",
    "    future_covariates=future_covariates_test,  \n",
    "    input_chunk_length=input_chunk_length_test,\n",
    "    output_chunk_length=output_chunk_length_test\n",
    ")\n",
    "\n",
    "print(f\"Nombre total de fenêtres Test après segmentation : {len(test_dataset)}\")\n"
   ]
  },
  {
   "cell_type": "code",
   "execution_count": 80,
   "id": "2a4b9291-caae-48ec-bb0e-7df41f69c192",
   "metadata": {},
   "outputs": [
    {
     "name": "stdout",
     "output_type": "stream",
     "text": [
      "Taille réelle de `df_test` : 720 observations\n",
      "Taille minimale requise pour avoir plusieurs fenêtres : 180 observations\n"
     ]
    }
   ],
   "source": [
    "print(f\"Taille réelle de `df_test` : {len(df_test)} observations\")\n",
    "print(f\"Taille minimale requise pour avoir plusieurs fenêtres : {input_chunk_length_test + output_chunk_length_test} observations\")\n"
   ]
  },
  {
   "cell_type": "code",
   "execution_count": 81,
   "id": "a09533d2-abb4-446e-af54-d2905c7e890f",
   "metadata": {},
   "outputs": [
    {
     "name": "stderr",
     "output_type": "stream",
     "text": [
      "INFO:pytorch_lightning.utilities.rank_zero:GPU available: False, used: False\n",
      "INFO:pytorch_lightning.utilities.rank_zero:TPU available: False, using: 0 TPU cores\n",
      "INFO:pytorch_lightning.utilities.rank_zero:HPU available: False, using: 0 HPUs\n"
     ]
    },
    {
     "name": "stdout",
     "output_type": "stream",
     "text": [
      "Les covariables futures ont été étendues jusqu'à 2020-07-15 15:49:50.\n"
     ]
    },
    {
     "data": {
      "application/vnd.jupyter.widget-view+json": {
       "model_id": "eabee45b131c4d10b55e54514e1a7e40",
       "version_major": 2,
       "version_minor": 0
      },
      "text/plain": [
       "Predicting: |                                                                                    | 0/? [00:00<…"
      ]
     },
     "metadata": {},
     "output_type": "display_data"
    },
    {
     "name": "stdout",
     "output_type": "stream",
     "text": [
      "Prédictions générées avec succès !\n"
     ]
    },
    {
     "data": {
      "text/html": [
       "<div>\n",
       "<style scoped>\n",
       "    .dataframe tbody tr th:only-of-type {\n",
       "        vertical-align: middle;\n",
       "    }\n",
       "\n",
       "    .dataframe tbody tr th {\n",
       "        vertical-align: top;\n",
       "    }\n",
       "\n",
       "    .dataframe thead th {\n",
       "        text-align: right;\n",
       "    }\n",
       "</style>\n",
       "<table border=\"1\" class=\"dataframe\">\n",
       "  <thead>\n",
       "    <tr style=\"text-align: right;\">\n",
       "      <th>component</th>\n",
       "      <th>panne</th>\n",
       "    </tr>\n",
       "    <tr>\n",
       "      <th>time</th>\n",
       "      <th></th>\n",
       "    </tr>\n",
       "  </thead>\n",
       "  <tbody>\n",
       "    <tr>\n",
       "      <th>2020-07-15 15:29:40</th>\n",
       "      <td>1.006691</td>\n",
       "    </tr>\n",
       "    <tr>\n",
       "      <th>2020-07-15 15:29:50</th>\n",
       "      <td>1.017785</td>\n",
       "    </tr>\n",
       "    <tr>\n",
       "      <th>2020-07-15 15:30:00</th>\n",
       "      <td>1.017664</td>\n",
       "    </tr>\n",
       "    <tr>\n",
       "      <th>2020-07-15 15:30:10</th>\n",
       "      <td>1.013110</td>\n",
       "    </tr>\n",
       "    <tr>\n",
       "      <th>2020-07-15 15:30:20</th>\n",
       "      <td>1.010653</td>\n",
       "    </tr>\n",
       "    <tr>\n",
       "      <th>2020-07-15 15:30:30</th>\n",
       "      <td>1.004613</td>\n",
       "    </tr>\n",
       "    <tr>\n",
       "      <th>2020-07-15 15:30:40</th>\n",
       "      <td>1.003949</td>\n",
       "    </tr>\n",
       "    <tr>\n",
       "      <th>2020-07-15 15:30:50</th>\n",
       "      <td>1.009753</td>\n",
       "    </tr>\n",
       "    <tr>\n",
       "      <th>2020-07-15 15:31:00</th>\n",
       "      <td>1.976666</td>\n",
       "    </tr>\n",
       "    <tr>\n",
       "      <th>2020-07-15 15:31:10</th>\n",
       "      <td>0.980233</td>\n",
       "    </tr>\n",
       "    <tr>\n",
       "      <th>2020-07-15 15:31:20</th>\n",
       "      <td>0.988718</td>\n",
       "    </tr>\n",
       "    <tr>\n",
       "      <th>2020-07-15 15:31:30</th>\n",
       "      <td>1.004505</td>\n",
       "    </tr>\n",
       "    <tr>\n",
       "      <th>2020-07-15 15:31:40</th>\n",
       "      <td>1.019716</td>\n",
       "    </tr>\n",
       "    <tr>\n",
       "      <th>2020-07-15 15:31:50</th>\n",
       "      <td>0.980289</td>\n",
       "    </tr>\n",
       "    <tr>\n",
       "      <th>2020-07-15 15:32:00</th>\n",
       "      <td>0.980185</td>\n",
       "    </tr>\n",
       "    <tr>\n",
       "      <th>2020-07-15 15:32:10</th>\n",
       "      <td>1.013318</td>\n",
       "    </tr>\n",
       "    <tr>\n",
       "      <th>2020-07-15 15:32:20</th>\n",
       "      <td>0.979756</td>\n",
       "    </tr>\n",
       "    <tr>\n",
       "      <th>2020-07-15 15:32:30</th>\n",
       "      <td>1.016846</td>\n",
       "    </tr>\n",
       "    <tr>\n",
       "      <th>2020-07-15 15:32:40</th>\n",
       "      <td>1.012850</td>\n",
       "    </tr>\n",
       "    <tr>\n",
       "      <th>2020-07-15 15:32:50</th>\n",
       "      <td>1.011529</td>\n",
       "    </tr>\n",
       "  </tbody>\n",
       "</table>\n",
       "</div>"
      ],
      "text/plain": [
       "component               panne\n",
       "time                         \n",
       "2020-07-15 15:29:40  1.006691\n",
       "2020-07-15 15:29:50  1.017785\n",
       "2020-07-15 15:30:00  1.017664\n",
       "2020-07-15 15:30:10  1.013110\n",
       "2020-07-15 15:30:20  1.010653\n",
       "2020-07-15 15:30:30  1.004613\n",
       "2020-07-15 15:30:40  1.003949\n",
       "2020-07-15 15:30:50  1.009753\n",
       "2020-07-15 15:31:00  1.976666\n",
       "2020-07-15 15:31:10  0.980233\n",
       "2020-07-15 15:31:20  0.988718\n",
       "2020-07-15 15:31:30  1.004505\n",
       "2020-07-15 15:31:40  1.019716\n",
       "2020-07-15 15:31:50  0.980289\n",
       "2020-07-15 15:32:00  0.980185\n",
       "2020-07-15 15:32:10  1.013318\n",
       "2020-07-15 15:32:20  0.979756\n",
       "2020-07-15 15:32:30  1.016846\n",
       "2020-07-15 15:32:40  1.012850\n",
       "2020-07-15 15:32:50  1.011529"
      ]
     },
     "metadata": {},
     "output_type": "display_data"
    },
    {
     "data": {
      "image/png": "[encoded data removed]",
      "text/plain": [
       "<Figure size 1200x500 with 1 Axes>"
      ]
     },
     "metadata": {},
     "output_type": "display_data"
    }
   ],
   "source": [
    "##########################################\n",
    "## 8 - Prédictions sur l'ensemble Test  ##\n",
    "##########################################\n",
    "\n",
    "from darts.utils.timeseries_generation import datetime_attribute_timeseries\n",
    "\n",
    "# Vérifier la dernière date des covariables futures actuelles\n",
    "last_timestamp = future_covariates_test.end_time()\n",
    "\n",
    "# Générer de nouvelles dates futures pour couvrir toute la prédiction\n",
    "new_future_dates = pd.date_range(\n",
    "    start=last_timestamp + pd.Timedelta(seconds=10),  \n",
    "    periods=output_chunk_length_test + 60,  \n",
    "    freq=\"10s\"  # Remplace \"S\" par \"s\" pour éviter le warning\n",
    ")\n",
    "\n",
    "# Générer les futures covariables temporelles\n",
    "new_future_covariates = datetime_attribute_timeseries(\n",
    "    TimeSeries.from_times_and_values(new_future_dates, np.zeros((len(new_future_dates), future_covariates_test.width))),\n",
    "    attribute=\"month\",\n",
    "    one_hot=True\n",
    ")\n",
    "\n",
    "# Étendre les covariables futures\n",
    "future_covariates_test_extended = future_covariates_test.append(new_future_covariates)\n",
    "print(f\"Les covariables futures ont été étendues jusqu'à {future_covariates_test_extended.end_time()}.\")\n",
    "\n",
    "# Vérifier que les covariables couvrent toute la période de test\n",
    "assert future_covariates_test_extended.end_time() >= series_transformed_test.end_time() + pd.Timedelta(seconds=10 * output_chunk_length_test)\n",
    "\n",
    "# **Prédiction en boucle avec `overlap_end=True` pour éviter les erreurs**\n",
    "extended_predictions = model.historical_forecasts(\n",
    "    series=series_transformed_test,  \n",
    "    future_covariates=future_covariates_test_extended,  \n",
    "    start=series_transformed_test.end_time() - pd.Timedelta(seconds=10 * output_chunk_length_test),  # Ajuster le début\n",
    "    forecast_horizon=output_chunk_length_test,  # 10 minutes à la fois\n",
    "    stride=1,  # 🔥 Permet de prédire chaque pas de temps\n",
    "    retrain=False,  \n",
    "    overlap_end=True,   # Permet de faire des prédictions jusqu’à la fin de la série\n",
    "    verbose=True\n",
    ")\n",
    "\n",
    "# Affichage des prédictions\n",
    "print(\"Prédictions générées avec succès !\")\n",
    "display(extended_predictions.pd_dataframe().head(20))  # Afficher les 20 premières valeurs\n",
    "\n",
    "\n",
    "# Visualisation\n",
    "import matplotlib.pyplot as plt\n",
    "\n",
    "plt.figure(figsize=(12, 5))\n",
    "series_transformed_test.plot(label=\"Série réelle\")\n",
    "extended_predictions.plot(label=\"Prédictions\", linestyle=\"dashed\")\n",
    "plt.title(\"Prédictions TFT sur l'ensemble de test\")\n",
    "plt.legend()\n",
    "plt.show()"
   ]
  },
  {
   "cell_type": "code",
   "execution_count": 82,
   "id": "285200fb-7738-46fd-8ecd-705f401a63bf",
   "metadata": {},
   "outputs": [
    {
     "name": "stdout",
     "output_type": "stream",
     "text": [
      "Plage de la série test : 2020-07-15 13:30:00 → 2020-07-15 15:29:50\n",
      "Plage des covariables futures : 2020-07-15 13:30:00 → 2020-07-15 15:49:50\n"
     ]
    }
   ],
   "source": [
    "print(f\"Plage de la série test : {series_transformed_test.start_time()} → {series_transformed_test.end_time()}\")\n",
    "print(f\"Plage des covariables futures : {future_covariates_test_extended.start_time()} → {future_covariates_test_extended.end_time()}\")"
   ]
  },
  {
   "cell_type": "code",
   "execution_count": 84,
   "id": "cad04881-bd9c-44b9-ad28-d98f35edc9c8",
   "metadata": {},
   "outputs": [
    {
     "data": {
      "text/html": [
       "<div>\n",
       "<style scoped>\n",
       "    .dataframe tbody tr th:only-of-type {\n",
       "        vertical-align: middle;\n",
       "    }\n",
       "\n",
       "    .dataframe tbody tr th {\n",
       "        vertical-align: top;\n",
       "    }\n",
       "\n",
       "    .dataframe thead th {\n",
       "        text-align: right;\n",
       "    }\n",
       "</style>\n",
       "<table border=\"1\" class=\"dataframe\">\n",
       "  <thead>\n",
       "    <tr style=\"text-align: right;\">\n",
       "      <th>component</th>\n",
       "      <th>panne</th>\n",
       "    </tr>\n",
       "    <tr>\n",
       "      <th>time</th>\n",
       "      <th></th>\n",
       "    </tr>\n",
       "  </thead>\n",
       "  <tbody>\n",
       "    <tr>\n",
       "      <th>2020-07-15 15:29:40</th>\n",
       "      <td>1.006691</td>\n",
       "    </tr>\n",
       "    <tr>\n",
       "      <th>2020-07-15 15:29:50</th>\n",
       "      <td>1.017785</td>\n",
       "    </tr>\n",
       "    <tr>\n",
       "      <th>2020-07-15 15:30:00</th>\n",
       "      <td>1.017664</td>\n",
       "    </tr>\n",
       "    <tr>\n",
       "      <th>2020-07-15 15:30:10</th>\n",
       "      <td>1.013110</td>\n",
       "    </tr>\n",
       "    <tr>\n",
       "      <th>2020-07-15 15:30:20</th>\n",
       "      <td>1.010653</td>\n",
       "    </tr>\n",
       "    <tr>\n",
       "      <th>...</th>\n",
       "      <td>...</td>\n",
       "    </tr>\n",
       "    <tr>\n",
       "      <th>2020-07-15 15:39:10</th>\n",
       "      <td>0.994959</td>\n",
       "    </tr>\n",
       "    <tr>\n",
       "      <th>2020-07-15 15:39:20</th>\n",
       "      <td>0.986341</td>\n",
       "    </tr>\n",
       "    <tr>\n",
       "      <th>2020-07-15 15:39:30</th>\n",
       "      <td>1.009196</td>\n",
       "    </tr>\n",
       "    <tr>\n",
       "      <th>2020-07-15 15:39:40</th>\n",
       "      <td>0.997616</td>\n",
       "    </tr>\n",
       "    <tr>\n",
       "      <th>2020-07-15 15:39:50</th>\n",
       "      <td>0.995317</td>\n",
       "    </tr>\n",
       "  </tbody>\n",
       "</table>\n",
       "<p>62 rows × 1 columns</p>\n",
       "</div>"
      ],
      "text/plain": [
       "component               panne\n",
       "time                         \n",
       "2020-07-15 15:29:40  1.006691\n",
       "2020-07-15 15:29:50  1.017785\n",
       "2020-07-15 15:30:00  1.017664\n",
       "2020-07-15 15:30:10  1.013110\n",
       "2020-07-15 15:30:20  1.010653\n",
       "...                       ...\n",
       "2020-07-15 15:39:10  0.994959\n",
       "2020-07-15 15:39:20  0.986341\n",
       "2020-07-15 15:39:30  1.009196\n",
       "2020-07-15 15:39:40  0.997616\n",
       "2020-07-15 15:39:50  0.995317\n",
       "\n",
       "[62 rows x 1 columns]"
      ]
     },
     "metadata": {},
     "output_type": "display_data"
    }
   ],
   "source": [
    "# Vérifions la structure des prédictions\n",
    "display(extended_predictions.pd_dataframe())\n",
    "# On a 100 samples (num_samples=100 )\n",
    "# modèle produit 100 prédictions par pas de temps\n",
    "# C'est lié à l'option num_samples=100, qui indique au modèle d'utiliser une approche probabiliste (quantile regression).\n",
    "# Au lieu de donner une seule valeur prédite, il génère 100 échantillons pour approximer la distribution de la variable cible."
   ]
  },
  {
   "cell_type": "code",
   "execution_count": 85,
   "id": "49495201-826d-4a9c-baa2-ffd1fcd44c5a",
   "metadata": {},
   "outputs": [
    {
     "name": "stdout",
     "output_type": "stream",
     "text": [
      "Le modèle prédit la classe panne : [1 2]\n"
     ]
    },
    {
     "name": "stderr",
     "output_type": "stream",
     "text": [
      "C:\\Users\\usermine\\Amine-Jupiter\\SESSION6\\ProjetSynthese\\Modele1_Classification\\TFT\\tft_env\\Lib\\site-packages\\pandas\\plotting\\_matplotlib\\core.py:981: UserWarning: This axis already has a converter set and is updating to a potentially incompatible converter\n",
      "  return ax.plot(*args, **kwds)\n"
     ]
    },
    {
     "data": {
      "image/png": "[encoded data removed]",
      "text/plain": [
       "<Figure size 1200x500 with 1 Axes>"
      ]
     },
     "metadata": {},
     "output_type": "display_data"
    }
   ],
   "source": [
    "# Transformer les prédictions en DataFrame Pandas\n",
    "predictions_df = extended_predictions.pd_dataframe()\n",
    "\n",
    "# 🔄 Prendre la moyenne des 100 échantillons et arrondir aux classes {0,1,2}\n",
    "predicted_classes = predictions_df.mean(axis=1).round().clip(0, 2).astype(int)\n",
    "\n",
    "# Ajouter la colonne `panne` avec les classes corrigées\n",
    "predictions_df[\"panne\"] = predicted_classes\n",
    "\n",
    "# Vérifier les valeurs obtenues\n",
    "print(\"Le modèle prédit la classe panne :\", predictions_df[\"panne\"].unique())\n",
    "\n",
    "# Visualisation des prédictions corrigées\n",
    "plt.figure(figsize=(12, 5))\n",
    "series_transformed_test.plot(label=\"Série réelle\")\n",
    "predictions_df[\"panne\"].plot(label=\"Prédictions (catégoriques)\", linestyle=\"dashed\")\n",
    "plt.title(\"Prédictions TFT sur l'ensemble de test (catégoriques)\")\n",
    "plt.legend()\n",
    "plt.show()\n"
   ]
  },
  {
   "cell_type": "code",
   "execution_count": 86,
   "id": "077aa8c8-2dae-4724-8d5f-255004ffc168",
   "metadata": {},
   "outputs": [
    {
     "name": "stdout",
     "output_type": "stream",
     "text": [
      "Affichage des 100 échantillons de prédictions de panne pour les premières lignes :\n"
     ]
    },
    {
     "data": {
      "text/html": [
       "<div>\n",
       "<style scoped>\n",
       "    .dataframe tbody tr th:only-of-type {\n",
       "        vertical-align: middle;\n",
       "    }\n",
       "\n",
       "    .dataframe tbody tr th {\n",
       "        vertical-align: top;\n",
       "    }\n",
       "\n",
       "    .dataframe thead th {\n",
       "        text-align: right;\n",
       "    }\n",
       "</style>\n",
       "<table border=\"1\" class=\"dataframe\">\n",
       "  <thead>\n",
       "    <tr style=\"text-align: right;\">\n",
       "      <th>component</th>\n",
       "      <th>panne</th>\n",
       "    </tr>\n",
       "    <tr>\n",
       "      <th>time</th>\n",
       "      <th></th>\n",
       "    </tr>\n",
       "  </thead>\n",
       "  <tbody>\n",
       "    <tr>\n",
       "      <th>2020-07-15 15:29:40</th>\n",
       "      <td>1.006691</td>\n",
       "    </tr>\n",
       "    <tr>\n",
       "      <th>2020-07-15 15:29:50</th>\n",
       "      <td>1.017785</td>\n",
       "    </tr>\n",
       "    <tr>\n",
       "      <th>2020-07-15 15:30:00</th>\n",
       "      <td>1.017664</td>\n",
       "    </tr>\n",
       "    <tr>\n",
       "      <th>2020-07-15 15:30:10</th>\n",
       "      <td>1.013110</td>\n",
       "    </tr>\n",
       "    <tr>\n",
       "      <th>2020-07-15 15:30:20</th>\n",
       "      <td>1.010653</td>\n",
       "    </tr>\n",
       "    <tr>\n",
       "      <th>2020-07-15 15:30:30</th>\n",
       "      <td>1.004613</td>\n",
       "    </tr>\n",
       "    <tr>\n",
       "      <th>2020-07-15 15:30:40</th>\n",
       "      <td>1.003949</td>\n",
       "    </tr>\n",
       "    <tr>\n",
       "      <th>2020-07-15 15:30:50</th>\n",
       "      <td>1.009753</td>\n",
       "    </tr>\n",
       "    <tr>\n",
       "      <th>2020-07-15 15:31:00</th>\n",
       "      <td>1.976666</td>\n",
       "    </tr>\n",
       "    <tr>\n",
       "      <th>2020-07-15 15:31:10</th>\n",
       "      <td>0.980233</td>\n",
       "    </tr>\n",
       "  </tbody>\n",
       "</table>\n",
       "</div>"
      ],
      "text/plain": [
       "component               panne\n",
       "time                         \n",
       "2020-07-15 15:29:40  1.006691\n",
       "2020-07-15 15:29:50  1.017785\n",
       "2020-07-15 15:30:00  1.017664\n",
       "2020-07-15 15:30:10  1.013110\n",
       "2020-07-15 15:30:20  1.010653\n",
       "2020-07-15 15:30:30  1.004613\n",
       "2020-07-15 15:30:40  1.003949\n",
       "2020-07-15 15:30:50  1.009753\n",
       "2020-07-15 15:31:00  1.976666\n",
       "2020-07-15 15:31:10  0.980233"
      ]
     },
     "metadata": {},
     "output_type": "display_data"
    },
    {
     "name": "stdout",
     "output_type": "stream",
     "text": [
      "Les 100 échantillons de panne pour le timestamp 2020-07-15 15:29:40 :\n",
      "component\n",
      "panne    1.006691\n",
      "Name: 2020-07-15 15:29:40, dtype: float64\n",
      "Les 100 échantillons de panne pour le timestamp 2020-07-15 15:30:30 :\n",
      "component\n",
      "panne    1.004613\n",
      "Name: 2020-07-15 15:30:30, dtype: float64\n",
      "Les 100 échantillons de panne pour 2020-07-15 15:29:40:\n",
      "component\n",
      "panne    1.006691\n",
      "Name: 2020-07-15 15:29:40, dtype: float64\n",
      "\n",
      "--------------------------------------------------\n",
      "\n",
      "Les 100 échantillons de panne pour 2020-07-15 15:29:50:\n",
      "component\n",
      "panne    1.017785\n",
      "Name: 2020-07-15 15:29:50, dtype: float64\n",
      "\n",
      "--------------------------------------------------\n",
      "\n",
      "Les 100 échantillons de panne pour 2020-07-15 15:30:00:\n",
      "component\n",
      "panne    1.017664\n",
      "Name: 2020-07-15 15:30:00, dtype: float64\n",
      "\n",
      "--------------------------------------------------\n",
      "\n",
      "Les 100 échantillons de panne pour 2020-07-15 15:30:10:\n",
      "component\n",
      "panne    1.01311\n",
      "Name: 2020-07-15 15:30:10, dtype: float64\n",
      "\n",
      "--------------------------------------------------\n",
      "\n",
      "Les 100 échantillons de panne pour 2020-07-15 15:30:20:\n",
      "component\n",
      "panne    1.010653\n",
      "Name: 2020-07-15 15:30:20, dtype: float64\n",
      "\n",
      "--------------------------------------------------\n",
      "\n"
     ]
    }
   ],
   "source": [
    "# Convertir les prédictions en DataFrame\n",
    "predictions_df = extended_predictions.pd_dataframe()\n",
    "\n",
    "# Afficher les 100 échantillons de prédiction pour chaque timestamp\n",
    "print(f\"Affichage des 100 échantillons de prédictions de panne pour les premières lignes :\")\n",
    "display(predictions_df.head(10))  # Affiche les 10 premiers timestamps avec leurs 100 échantillons\n",
    "\n",
    "# Vous pouvez également afficher toutes les prédictions pour un timestamp spécifique\n",
    "timestamp_example = predictions_df.index[0]  # Choisir un timestamp à afficher, par exemple le premier\n",
    "print(f\"Les 100 échantillons de panne pour le timestamp {timestamp_example} :\")\n",
    "print(predictions_df.loc[timestamp_example])\n",
    "\n",
    "# Si vous souhaitez explorer un autre timestamp, vous pouvez simplement changer l'index\n",
    "timestamp_example = predictions_df.index[5]  # Par exemple, pour le 6ème timestamp\n",
    "print(f\"Les 100 échantillons de panne pour le timestamp {timestamp_example} :\")\n",
    "print(predictions_df.loc[timestamp_example])\n",
    "\n",
    "# Vous pouvez également explorer tous les 100 échantillons pour chaque timestamp dans une boucle\n",
    "for timestamp in predictions_df.index[:5]:  # Affichage des 5 premiers timestamps avec leurs 100 échantillons\n",
    "    print(f\"Les 100 échantillons de panne pour {timestamp}:\")\n",
    "    print(predictions_df.loc[timestamp])\n",
    "    print(\"\\n\" + \"-\"*50 + \"\\n\")\n"
   ]
  },
  {
   "cell_type": "code",
   "execution_count": null,
   "id": "c047472e-7b14-42c2-8786-1e6597315da4",
   "metadata": {},
   "outputs": [],
   "source": []
  },
  {
   "cell_type": "code",
   "execution_count": null,
   "id": "99925949-9535-4c7b-9343-5643e43f3c19",
   "metadata": {},
   "outputs": [],
   "source": []
  },
  {
   "cell_type": "code",
   "execution_count": null,
   "id": "d1c2e974-e6a0-4211-a52e-befd887cee3a",
   "metadata": {},
   "outputs": [],
   "source": []
  },
  {
   "cell_type": "code",
   "execution_count": null,
   "id": "6e3f382d-0abd-4c65-b1be-349629fb67e3",
   "metadata": {},
   "outputs": [],
   "source": []
  },
  {
   "cell_type": "code",
   "execution_count": null,
   "id": "c7483c66-dbfd-4ae5-99b1-e32a70d3b3f7",
   "metadata": {},
   "outputs": [],
   "source": []
  },
  {
   "cell_type": "code",
   "execution_count": null,
   "id": "6b6052f7-f355-4b45-ba36-81eabdfd8f7e",
   "metadata": {},
   "outputs": [],
   "source": []
  },
  {
   "cell_type": "code",
   "execution_count": null,
   "id": "f11aa484-86ce-4e86-ad71-c6c5d8ddcf31",
   "metadata": {},
   "outputs": [],
   "source": []
  },
  {
   "cell_type": "code",
   "execution_count": null,
   "id": "f1a7d939-9ce1-460c-ae4b-0c4f1f1477ed",
   "metadata": {},
   "outputs": [],
   "source": [
    "##########################################\n",
    "## 12 - Chargement du Modele            ##\n",
    "##########################################\n",
    "\n",
    "# Autoriser les classes utilisées dans le modèle\n",
    "torch.serialization.add_safe_globals([QuantileRegression])\n",
    "\n",
    "# Définir l'epoch et le chemin du modèle\n",
    "epoch = 4  # Remplace par l'epoch voulu\n",
    "model_path = rf\"..\\..\\Generated_Files\\TFT\\tft_model_epoch_{epoch}\\tft_model.pth\"\n",
    "\n",
    "# Charger le modèle en désactivant `weights_only`\n",
    "model = torch.load(model_path, weights_only=False)\n",
    "print(\"Modèle chargé avec succès !\")"
   ]
  },
  {
   "cell_type": "code",
   "execution_count": null,
   "id": "4515b9ec-3c7c-445a-838a-2608321c6d47",
   "metadata": {},
   "outputs": [],
   "source": [
    "import torch\n",
    "from darts.models.forecasting.tft_model import TFTModel\n",
    "from darts.utils.likelihood_models import QuantileRegression\n",
    "\n",
    "# Charger le fichier `.ckpt`\n",
    "checkpoint_path = r\"..\\..\\Generated_Files\\TFT\\tft_model_epoch_4\\tft_model.pth.ckpt\"\n",
    "\n",
    "# Charger le checkpoint avec PyTorch\n",
    "checkpoint = torch.load(checkpoint_path, map_location=\"cpu\")\n",
    "\n",
    "# Extraire les hyperparamètres\n",
    "hparams = checkpoint[\"hyper_parameters\"]\n",
    "\n",
    "# Supprimer les hyperparamètres invalides\n",
    "invalid_keys = [\"output_dim\", \"variables_meta\", \"num_static_components\"]\n",
    "for key in invalid_keys:\n",
    "    hparams.pop(key, None)  # Supprime la clé si elle existe\n",
    "\n",
    "# Recréer un modèle TFT avec les hyperparamètres filtrés\n",
    "model = TFTModel(**hparams)\n",
    "\n",
    "# Charger les poids du modèle depuis le checkpoint\n",
    "model.load_state_dict(checkpoint[\"state_dict\"])\n",
    "\n",
    "print(\"Modèle TFT chargé avec succès depuis `.ckpt` après filtrage des hyperparamètres incorrects !\")\n"
   ]
  },
  {
   "cell_type": "code",
   "execution_count": null,
   "id": "225ba511-1e5c-40f2-a337-4dabe6c65b3e",
   "metadata": {},
   "outputs": [],
   "source": [
    "checkpoint_tar = r\"..\\..\\Modele1_Classification\\TFT\\tft_checkpoints\\tft_model_checkpoint_epoch_4.tar\"\n",
    "\n",
    "try:\n",
    "    model = torch.load(checkpoint_tar, map_location=\"cpu\")\n",
    "    print(\"Checkpoint chargé avec `torch.load()`\")\n",
    "except Exception as e:\n",
    "    print(f\"Erreur avec le fichier `.tar` : {e}\")\n"
   ]
  },
  {
   "cell_type": "code",
   "execution_count": null,
   "id": "70c747a5-8222-49d9-87bb-6833503bf975",
   "metadata": {},
   "outputs": [],
   "source": []
  },
  {
   "cell_type": "code",
   "execution_count": null,
   "id": "ec6fe425-9e89-4756-b86f-931344528b73",
   "metadata": {},
   "outputs": [],
   "source": []
  },
  {
   "cell_type": "code",
   "execution_count": null,
   "id": "3686ad44-630e-49f2-9088-bf920cadd4ed",
   "metadata": {},
   "outputs": [],
   "source": []
  },
  {
   "cell_type": "code",
   "execution_count": null,
   "id": "00cfcfc7-1f8c-4256-bf2a-637737acf089",
   "metadata": {},
   "outputs": [],
   "source": [
    "from darts.utils.timeseries_generation import datetime_attribute_timeseries\n",
    "\n",
    "############################################\n",
    "## 13 - Étendre les Covariables Futures  ##\n",
    "############################################\n",
    "\n",
    "# Nombre de pas supplémentaires nécessaires (60 pas = 10 minutes)\n",
    "n_extra_steps = output_chunk_length_test  \n",
    "\n",
    "# Trouver la dernière date des covariables futures actuelles\n",
    "last_timestamp = future_covariates_test.end_time()\n",
    "\n",
    "# Générer de nouvelles dates futures (10 secondes d'intervalle)\n",
    "new_future_dates = pd.date_range(\n",
    "    start=last_timestamp + pd.Timedelta(seconds=10),\n",
    "    periods=n_extra_steps,\n",
    "    freq=\"10S\"\n",
    ")\n",
    "\n",
    "# Générer les nouvelles covariables temporelles pour ces nouvelles dates\n",
    "new_future_covariates = datetime_attribute_timeseries(\n",
    "    TimeSeries.from_times_and_values(new_future_dates, np.zeros((n_extra_steps, future_covariates_test.width))),\n",
    "    attribute=\"month\",\n",
    "    one_hot=True\n",
    ")\n",
    "\n",
    "# Concaténer les anciennes et nouvelles covariables futures\n",
    "future_covariates_test_extended = future_covariates_test.append(new_future_covariates)\n",
    "\n",
    "############################################\n",
    "## 14 - Prédictions sur l'ensemble Test   ##\n",
    "############################################\n",
    "\n",
    "n_forecast_steps = output_chunk_length_test  \n",
    "\n",
    "# Générer les prédictions avec les covariables étendues\n",
    "predictions = model.predict(\n",
    "    n=n_forecast_steps,  \n",
    "    series=series_transformed_test,  \n",
    "    future_covariates=future_covariates_test_extended,  \n",
    "    num_samples=100  \n",
    ")\n",
    "\n",
    "# Affichage des prédictions\n",
    "print(\"Prédictions générées avec succès !\")\n",
    "display(predictions.pd_dataframe().head(10))\n"
   ]
  },
  {
   "cell_type": "code",
   "execution_count": null,
   "id": "ebc059d9-0caf-4a8f-9317-f0cc2ffacea6",
   "metadata": {},
   "outputs": [],
   "source": []
  },
  {
   "cell_type": "code",
   "execution_count": null,
   "id": "99f5370c-c034-42e5-b256-d4f49f5eeab3",
   "metadata": {},
   "outputs": [],
   "source": []
  },
  {
   "cell_type": "code",
   "execution_count": null,
   "id": "a48d4ff6-e7e6-4ef2-91d6-a8463ab75913",
   "metadata": {},
   "outputs": [],
   "source": []
  },
  {
   "cell_type": "code",
   "execution_count": null,
   "id": "f7f6ca53-7861-41a8-84c3-b0a88a2d89f6",
   "metadata": {},
   "outputs": [],
   "source": []
  },
  {
   "cell_type": "code",
   "execution_count": null,
   "id": "11a94c09-5931-46d9-9cce-7cdcc35e2e5c",
   "metadata": {},
   "outputs": [],
   "source": []
  },
  {
   "cell_type": "code",
   "execution_count": null,
   "id": "5404ad00-92d0-4c10-823b-3ea6d971d6d8",
   "metadata": {},
   "outputs": [],
   "source": []
  },
  {
   "cell_type": "code",
   "execution_count": null,
   "id": "4e48e335-540b-4225-9b37-a2c4be97cbfc",
   "metadata": {},
   "outputs": [],
   "source": []
  },
  {
   "cell_type": "code",
   "execution_count": null,
   "id": "d5f1c311-0b5c-4aab-a65b-15ac55228914",
   "metadata": {},
   "outputs": [],
   "source": []
  },
  {
   "cell_type": "code",
   "execution_count": null,
   "id": "9bfb89f7-fa67-4316-97d4-ac2671df4bef",
   "metadata": {},
   "outputs": [],
   "source": []
  },
  {
   "cell_type": "code",
   "execution_count": null,
   "id": "070a3448-b464-444f-b0e8-ef7520f89872",
   "metadata": {},
   "outputs": [],
   "source": [
    "# 🔹 Vérifier si le modèle contient des métriques enregistrées\n",
    "if hasattr(model, \"trainer\") and model.trainer is not None:\n",
    "    metrics = model.trainer.logged_metrics\n",
    "    print(\"📊 Métriques du modèle :\")\n",
    "    for metric_name, values in metrics.items():\n",
    "        print(f\"{metric_name}: {values}\")\n",
    "else:\n",
    "    print(\"❌ Aucune métrique enregistrée dans le modèle.\")"
   ]
  },
  {
   "cell_type": "code",
   "execution_count": null,
   "id": "c8ea3de8-0c34-490d-b2c0-7cdfd66cdffb",
   "metadata": {},
   "outputs": [],
   "source": [
    "\n",
    "mlflow.log_artifacts(model_dir, artifact_path=f\"tft_model_epoch_{epoch}\")\n",
    "# 🔹 Récupérer la liste des runs MLflow\n",
    "client = mlflow.tracking.MlflowClient()\n",
    "runs = client.search_runs(experiment_ids=[\"0\"])  # \"0\" est l'ID par défaut\n",
    "\n",
    "# 🔹 Afficher les runs disponibles\n",
    "if runs:\n",
    "    print(\"📊 Liste des runs enregistrés dans MLflow :\")\n",
    "    for run in runs:\n",
    "        print(f\"Run ID: {run.info.run_id}, Date: {run.info.start_time}, Status: {run.info.status}\")\n",
    "else:\n",
    "    print(\"❌ Aucun run trouvé dans MLflow.\")\n"
   ]
  },
  {
   "cell_type": "code",
   "execution_count": null,
   "id": "28553886-4f21-47f5-9cab-2cdba2c66d63",
   "metadata": {},
   "outputs": [],
   "source": [
    "# 🔹 Récupérer l'ID du dernier run terminé\n",
    "last_finished_run = None\n",
    "for run in runs:\n",
    "    if run.info.status == \"FINISHED\":\n",
    "        last_finished_run = run\n",
    "        break  # On prend le plus récent\n",
    "\n",
    "if last_finished_run:\n",
    "    run_id = last_finished_run.info.run_id\n",
    "    print(f\"📊 Récupération des métriques pour le run: {run_id}\")\n",
    "\n",
    "    # 🔹 Récupérer les métriques associées\n",
    "    metrics = mlflow.get_run(run_id).data.metrics\n",
    "    if metrics:\n",
    "        print(\"📊 Métriques trouvées dans MLflow :\")\n",
    "        for metric, value in metrics.items():\n",
    "            print(f\"{metric}: {value}\")\n",
    "    else:\n",
    "        print(\"❌ Aucune métrique trouvée dans ce run.\")\n",
    "else:\n",
    "    print(\"❌ Aucun run terminé trouvé.\")\n"
   ]
  },
  {
   "cell_type": "code",
   "execution_count": null,
   "id": "42567450-4c95-4919-af37-3d5667b6eeb1",
   "metadata": {},
   "outputs": [],
   "source": [
    "# 🔹 Définir l'ID du dernier run terminé (celui qui a les métriques)\n",
    "run_id = \"40a8332d78734c1a812cef5c8f9d0934\"  # Mets ici l'ID du run où tu as trouvé les métriques\n",
    "\n",
    "# 🔹 Récupérer les métriques depuis MLflow\n",
    "metrics = mlflow.get_run(run_id).data.metrics\n",
    "\n",
    "# 🔹 Extraire les valeurs des pertes\n",
    "epochs = [1]  # On met un seul point pour chaque métrique\n",
    "train_loss = [metrics[\"train_loss\"]]\n",
    "val_loss = [metrics[\"val_loss\"]]\n",
    "\n",
    "# 🔹 Tracer les courbes (un seul point par métrique)\n",
    "plt.figure(figsize=(6, 4))\n",
    "plt.scatter(epochs, train_loss, label=\"Train Loss\", color=\"blue\", marker=\"o\")\n",
    "plt.scatter(epochs, val_loss, label=\"Validation Loss\", color=\"red\", marker=\"x\")\n",
    "\n",
    "plt.xlabel(\"Epochs\")\n",
    "plt.ylabel(\"Loss\")\n",
    "plt.title(\"Loss après la dernière epoch\")\n",
    "plt.legend()\n",
    "plt.grid()\n",
    "plt.show()\n"
   ]
  },
  {
   "cell_type": "code",
   "execution_count": null,
   "id": "2947a9a0-7237-4406-b1f4-f8f9bad2840b",
   "metadata": {},
   "outputs": [],
   "source": [
    "# 🔹 Vérifier si `df_test` contient des données\n",
    "if df_test.empty:\n",
    "    print(\"❌ Aucun échantillon trouvé dans cette plage temporelle !\")\n",
    "else:\n",
    "    print(f\"✅ Nombre d'échantillons dans `test_series` : {len(df_test)}\")\n",
    "\n",
    "display(df_test.head())  # Afficher un aperçu des données filtrées"
   ]
  },
  {
   "cell_type": "code",
   "execution_count": null,
   "id": "34a256a8-552f-4d56-9129-e5c7b07be1fa",
   "metadata": {},
   "outputs": [],
   "source": [
    "# 🔹 Définir les features continues et catégoriques\n",
    "continuous_features = [\"TP2\", \"H1\", \"DV_pressure\", \"Oil_temperature\", \"Motor_current\"]\n",
    "categorical_features = [\"COMP\", \"DV_eletric\", \"MPG\"]  # Ne pas normaliser ces features\n",
    "\n",
    "# 🔹 Transformer `test_df` en `test_series` pour chaque type de données\n",
    "test_series_raw_continuous = TimeSeries.from_dataframe(df_test, value_cols=continuous_features)\n",
    "test_series_raw_categorical = TimeSeries.from_dataframe(df_test, value_cols=categorical_features)\n",
    "\n",
    "# 🔹 Appliquer la normalisation uniquement sur les features continues\n",
    "test_series_continuous = scaler_continuous.transform(test_series_raw_continuous)\n",
    "\n",
    "# 🔹 Réassembler les données normalisées et non normalisées\n",
    "test_series = test_series_continuous.stack(test_series_raw_categorical)\n",
    "\n",
    "print(f\"✅ `test_series` normalisé et prêt pour la prédiction avec {test_series.width} features !\")\n"
   ]
  },
  {
   "cell_type": "code",
   "execution_count": null,
   "id": "18da6049-d2ee-4aab-80cd-56fff23214c1",
   "metadata": {},
   "outputs": [],
   "source": [
    "# 🔹 Transformer `test_df` en `test_series` en utilisant uniquement la colonne \"panne\"\n",
    "test_series = TimeSeries.from_dataframe(test_df, value_cols=[\"panne\"])\n",
    "\n",
    "print(f\"✅ `test_series` préparé avec succès avec {test_series.width} feature(s) !\")\n"
   ]
  },
  {
   "cell_type": "code",
   "execution_count": null,
   "id": "68514b8f-abfd-4568-82f0-b8d9c1c4db15",
   "metadata": {},
   "outputs": [],
   "source": [
    "# 🔹 Charger le modèle\n",
    "epoch = 1  # Choisir l'epoch à tester\n",
    "model_path = rf\"..\\..\\Generated_Files\\TFT\\tft_model_epoch_{epoch}\\tft_model.pth\"\n",
    "model = torch.load(model_path, weights_only=False)\n",
    "print(\"✅ Modèle chargé avec succès !\")\n",
    "\n",
    "# 🔹 Vérifier les features utilisées à l'entraînement\n",
    "train_features = model.input_dim  # Nombre de features utilisées à l'entraînement\n",
    "print(f\"📊 Le modèle a été entraîné avec {train_features} features.\")\n",
    "\n",
    "# 🔹 S'assurer que `test_series` contient les mêmes features\n",
    "test_features = continuous_features + categorical_features  # Liste des colonnes utilisées\n",
    "test_series = TimeSeries.from_dataframe(test_df[test_features])  # Sélectionner uniquement ces colonnes\n",
    "\n",
    "# Vérifier que les dimensions correspondent\n",
    "if test_series.width != train_features:\n",
    "    raise ValueError(f\"🚨 Mismatch des dimensions : test_series a {test_series.width} features au lieu de {train_features} !\")\n",
    "\n",
    "# 🔹 Définir `n`\n",
    "n = len(test_series)\n",
    "print(f\"📊 Nombre d'échantillons dans `test_series`: {n}\")\n",
    "\n",
    "# 🔹 Faire des prédictions\n",
    "y_pred = model.predict(n=n, series=test_series)\n",
    "\n",
    "# 🔹 Convertir en tableau NumPy\n",
    "y_pred_values = y_pred.values().flatten()\n",
    "\n",
    "# 🔹 Récupérer les vraies étiquettes\n",
    "y_true = test_df[\"panne\"].values  # Colonne cible du dataset de test\n",
    "\n",
    "# 🔹 Convertir les prédictions en 0/1 (panne ou pas)\n",
    "threshold = 0.5  # Ajustable\n",
    "y_pred_bin = (y_pred_values > threshold).astype(int)\n",
    "\n",
    "# 🔹 Calculer les métriques de classification\n",
    "accuracy = accuracy_score(y_true, y_pred_bin)\n",
    "precision = precision_score(y_true, y_pred_bin, zero_division=1)\n",
    "recall = recall_score(y_true, y_pred_bin, zero_division=1)\n",
    "f1 = f1_score(y_true, y_pred_bin, zero_division=1)\n",
    "\n",
    "print(f\"📊 Performance du modèle (Classification des pannes) :\")\n",
    "print(f\"✅ Accuracy  : {accuracy:.4f}\")\n",
    "print(f\"✅ Precision : {precision:.4f}\")\n",
    "print(f\"✅ Recall    : {recall:.4f}\")\n",
    "print(f\"✅ F1-score  : {f1:.4f}\")\n",
    "\n",
    "# 🔹 Afficher la matrice de confusion\n",
    "conf_matrix = confusion_matrix(y_true, y_pred_bin)\n",
    "\n",
    "plt.figure(figsize=(6, 4))\n",
    "sns.heatmap(conf_matrix, annot=True, fmt=\"d\", cmap=\"Blues\", xticklabels=[\"Pas de panne\", \"Panne\"], yticklabels=[\"Pas de panne\", \"Panne\"])\n",
    "plt.xlabel(\"Prédictions\")\n",
    "plt.ylabel(\"Vraies valeurs\")\n",
    "plt.title(\"Matrice de confusion\")\n",
    "plt.show()\n"
   ]
  },
  {
   "cell_type": "code",
   "execution_count": null,
   "id": "f0efe4dc-98e3-4ec6-8f85-9fa9aaea4ab8",
   "metadata": {},
   "outputs": [],
   "source": [
    "# 🔹 Vérifier les dimensions attendues par le modèle\n",
    "if hasattr(model, \"train_sample\"):\n",
    "    train_sample = model.train_sample\n",
    "    expected_features = train_sample[0].shape[1]  # Le deuxième axe (features)\n",
    "    print(f\"📊 Le modèle a été entraîné avec {expected_features} features.\")\n",
    "else:\n",
    "    raise ValueError(\"🚨 Impossible de récupérer les dimensions des features du modèle !\")\n"
   ]
  },
  {
   "cell_type": "code",
   "execution_count": null,
   "id": "98459d1a-e7fc-4359-ba7b-71c1a95a8a7d",
   "metadata": {},
   "outputs": [],
   "source": [
    "# 🔹 Vérifier les dimensions attendues par le modèle\n",
    "if hasattr(model, \"train_sample\"):\n",
    "    train_sample = model.train_sample\n",
    "    expected_features = train_sample[0].shape[1]  # Nombre de features utilisées à l'entraînement\n",
    "    print(f\"📊 Le modèle a été entraîné avec {expected_features} features.\")\n",
    "else:\n",
    "    raise ValueError(\"🚨 Impossible de récupérer les dimensions des features du modèle !\")\n"
   ]
  },
  {
   "cell_type": "code",
   "execution_count": null,
   "id": "4cb9bf89-4a0f-4a49-ba1c-c6345716d1ba",
   "metadata": {},
   "outputs": [],
   "source": [
    "from darts import TimeSeries\n",
    "\n",
    "# 🔹 Créer `test_series` en utilisant uniquement la colonne \"panne\"\n",
    "test_series = TimeSeries.from_dataframe(test_df, value_cols=[\"panne\"])\n",
    "\n",
    "print(f\"✅ `test_series` préparé avec succès avec {test_series.width} feature(s) !\")\n"
   ]
  },
  {
   "cell_type": "code",
   "execution_count": null,
   "id": "8e8e3ffd-92fe-491e-8eae-a7e62bef06e3",
   "metadata": {},
   "outputs": [],
   "source": [
    "# 🔹 Vérifier si le modèle a été entraîné avec des covariates\n",
    "print(f\"📊 Uses Past Covariates? {model.uses_past_covariates}\")\n",
    "print(f\"📊 Uses Future Covariates? {model.uses_future_covariates}\")\n",
    "print(f\"📊 Uses Static Covariates? {model.uses_static_covariates}\")\n"
   ]
  },
  {
   "cell_type": "code",
   "execution_count": null,
   "id": "c20fc807-0ea8-4fbf-844c-6d87661d5af9",
   "metadata": {},
   "outputs": [],
   "source": []
  },
  {
   "cell_type": "code",
   "execution_count": null,
   "id": "a4bdad96-cd99-48c5-bbb5-3b727e762458",
   "metadata": {},
   "outputs": [],
   "source": [
    "# 🔹 Créer `test_series` en utilisant uniquement la colonne \"panne\"\n",
    "test_series = TimeSeries.from_dataframe(test_df, value_cols=[\"panne\"])\n",
    "\n",
    "print(f\"✅ `test_series` préparé avec succès avec {test_series.width} feature(s) !\")\n",
    "\n",
    "future_covariates_train = covariates_transformed.slice_intersect(train)\n",
    "future_covariates_val = covariates_transformed.slice_intersect(val)\n",
    "\n",
    "# 🔹 Recréer les `historic_future_covariates` à partir de `covariates_transformed`\n",
    "test_future_covariates = covariates_transformed.slice(new_test_start, new_test_end)\n",
    "\n",
    "# 🔹 Vérifier si les covariates existent bien\n",
    "print(f\"✅ `historic_future_covariates` créés avec {test_future_covariates.width} features et {test_future_covariates.n_samples} échantillons.\")\n",
    "\n",
    "\n",
    "\n",
    "\n",
    "# 🔹 Charger le modèle\n",
    "epoch = 1  # Choisir l'epoch à tester\n",
    "model_path = rf\"..\\..\\Generated_Files\\TFT\\tft_model_epoch_{epoch}\\tft_model.pth\"\n",
    "model = torch.load(model_path, weights_only=False)\n",
    "print(\"✅ Modèle chargé avec succès !\")\n",
    "\n",
    "# 🔹 Vérifier la dimension de `test_series`\n",
    "print(f\"📊 `test_series` contient {test_series.width} feature(s), le modèle attend la même dimension.\")\n",
    "\n",
    "# 🔹 Définir `n` pour les prédictions\n",
    "n = len(test_series)\n",
    "print(f\"📊 Nombre d'échantillons dans `test_series`: {n}\")\n",
    "\n",
    "# 🔹 Faire des prédictions\n",
    "\n",
    "y_pred = model.predict(n=n, series=test_series, future_covariates=test_future_covariates)\n",
    "\n",
    "\n",
    "\n",
    "\n",
    "# 🔹 Convertir en tableau NumPy\n",
    "y_pred_values = y_pred.values().flatten()\n",
    "\n",
    "# 🔹 Récupérer les vraies étiquettes\n",
    "y_true = test_df[\"panne\"].values  # Colonne cible du dataset de test\n",
    "\n",
    "# 🔹 Vérifier la taille des résultats\n",
    "if len(y_pred_values) != len(y_true):\n",
    "    print(f\"⚠️ Mismatch de longueur : {len(y_pred_values)} prédictions contre {len(y_true)} vraies valeurs.\")\n",
    "\n",
    "# 🔹 Convertir les prédictions en 0/1 (panne ou pas)\n",
    "threshold = 0.5  # Ajustable\n",
    "y_pred_bin = (y_pred_values > threshold).astype(int)\n",
    "\n",
    "# 🔹 Calculer les métriques de classification\n",
    "accuracy = accuracy_score(y_true, y_pred_bin)\n",
    "precision = precision_score(y_true, y_pred_bin, zero_division=1)\n",
    "recall = recall_score(y_true, y_pred_bin, zero_division=1)\n",
    "f1 = f1_score(y_true, y_pred_bin, zero_division=1)\n",
    "\n",
    "print(f\"📊 Performance du modèle (Classification des pannes) :\")\n",
    "print(f\"✅ Accuracy  : {accuracy:.4f}\")\n",
    "print(f\"✅ Precision : {precision:.4f}\")\n",
    "print(f\"✅ Recall    : {recall:.4f}\")\n",
    "print(f\"✅ F1-score  : {f1:.4f}\")\n",
    "\n",
    "# 🔹 Afficher la matrice de confusion\n",
    "conf_matrix = confusion_matrix(y_true, y_pred_bin)\n",
    "\n",
    "plt.figure(figsize=(6, 4))\n",
    "sns.heatmap(conf_matrix, annot=True, fmt=\"d\", cmap=\"Blues\", xticklabels=[\"Pas de panne\", \"Panne\"], yticklabels=[\"Pas de panne\", \"Panne\"])\n",
    "plt.xlabel(\"Prédictions\")\n",
    "plt.ylabel(\"Vraies valeurs\")\n",
    "plt.title(\"Matrice de confusion\")\n",
    "plt.show()\n"
   ]
  },
  {
   "cell_type": "code",
   "execution_count": null,
   "id": "7f98270e-9ce2-428d-9951-082987939378",
   "metadata": {},
   "outputs": [],
   "source": [
    "# 🔹 Vérifier si le modèle a été entraîné avec des covariates\n",
    "print(f\"📊 Uses Past Covariates? {model.uses_past_covariates}\")\n",
    "print(f\"📊 Uses Future Covariates? {model.uses_future_covariates}\")\n",
    "print(f\"📊 Uses Static Covariates? {model.uses_static_covariates}\")\n",
    "print(f\"📊 Uses Historic Future Covariates? {model.supports_future_covariates}\")  # Important pour le message d'erreur\n"
   ]
  },
  {
   "cell_type": "code",
   "execution_count": null,
   "id": "c2083822-a99d-4295-ba0b-4da70ed3cb8d",
   "metadata": {},
   "outputs": [],
   "source": []
  },
  {
   "cell_type": "code",
   "execution_count": null,
   "id": "6795e322-7ae1-4ca3-bf71-a96433e16069",
   "metadata": {},
   "outputs": [],
   "source": []
  },
  {
   "cell_type": "code",
   "execution_count": null,
   "id": "39f65efb-b05e-4229-bbd1-a45d2d865895",
   "metadata": {},
   "outputs": [],
   "source": []
  },
  {
   "cell_type": "code",
   "execution_count": null,
   "id": "79822790-b30c-4bcd-9011-e2497d0b4d6e",
   "metadata": {},
   "outputs": [],
   "source": []
  },
  {
   "cell_type": "code",
   "execution_count": null,
   "id": "55e24042-5e5b-40ac-b53c-65a9b82d2c8d",
   "metadata": {},
   "outputs": [],
   "source": []
  },
  {
   "cell_type": "code",
   "execution_count": null,
   "id": "d3414608-a00d-4e54-bf9b-af714c4cb258",
   "metadata": {},
   "outputs": [],
   "source": []
  },
  {
   "cell_type": "code",
   "execution_count": null,
   "id": "dd58c39e-0a6a-46f0-b931-8b010121ca10",
   "metadata": {},
   "outputs": [],
   "source": []
  },
  {
   "cell_type": "code",
   "execution_count": null,
   "id": "5ba5de9d-10d2-4243-8f7e-2f23975e2a38",
   "metadata": {},
   "outputs": [],
   "source": []
  },
  {
   "cell_type": "code",
   "execution_count": null,
   "id": "d180a0e0-8859-4a70-b4c7-c2776effbd3e",
   "metadata": {},
   "outputs": [],
   "source": [
    "# 🔹 Vérifier les attributs disponibles dans le modèle\n",
    "print(\"📊 Liste des attributs du modèle :\")\n",
    "print(dir(model))  # Affiche tous les attributs disponibles\n",
    "\n",
    "# 🔹 Essayer de récupérer `input_chunk_length` et `output_chunk_length`\n",
    "if hasattr(model, \"input_chunk_length\"):\n",
    "    input_chunk_length = model.input_chunk_length\n",
    "    print(f\"✅ input_chunk_length: {input_chunk_length}\")\n",
    "else:\n",
    "    print(\"❌ `input_chunk_length` non trouvé dans le modèle.\")\n",
    "\n",
    "if hasattr(model, \"output_chunk_length\"):\n",
    "    output_chunk_length = model.output_chunk_length\n",
    "    print(f\"✅ output_chunk_length: {output_chunk_length}\")\n",
    "else:\n",
    "    print(\"❌ `output_chunk_length` non trouvé dans le modèle.\")\n",
    "\n",
    "# 🔹 Vérifier la présence d'autres hyperparamètres enregistrés\n",
    "print(\"📊 Autres hyperparamètres disponibles :\")\n",
    "for attr in dir(model):\n",
    "    if \"chunk\" in attr or \"dim\" in attr or \"features\" in attr:\n",
    "        print(f\"- {attr}: {getattr(model, attr)}\")\n"
   ]
  },
  {
   "cell_type": "code",
   "execution_count": null,
   "id": "c4bacdc9-c995-43f6-a734-626bce332c0d",
   "metadata": {},
   "outputs": [],
   "source": [
    "# 🔹 Vérifier la dimension de `test_series`\n",
    "print(f\"📊 `test_series` a {test_series.width} features, mais le modèle attend {output_dim[1]}.\")\n",
    "\n",
    "# 🔹 Vérifier les colonnes de `test_series`\n",
    "print(\"🧐 Colonnes dans `test_series` :\", test_series.columns)\n",
    "\n",
    "# 🔹 Vérifier les colonnes utilisées lors de l'entraînement\n",
    "expected_features = continuous_features + categorical_features\n",
    "print(\"✅ Colonnes attendues par le modèle :\", expected_features)\n",
    "\n",
    "# 🔹 Vérifier si elles correspondent\n",
    "missing_features = set(expected_features) - set(test_series.columns)\n",
    "extra_features = set(test_series.columns) - set(expected_features)\n",
    "\n",
    "if missing_features:\n",
    "    print(f\"🚨 Features manquantes dans `test_series`: {missing_features}\")\n",
    "if extra_features:\n",
    "    print(f\"⚠️ Features supplémentaires non utilisées par le modèle: {extra_features}\")\n"
   ]
  },
  {
   "cell_type": "code",
   "execution_count": null,
   "id": "1ed09958-291c-469f-bde3-c881b4ffae2c",
   "metadata": {},
   "outputs": [],
   "source": []
  },
  {
   "cell_type": "code",
   "execution_count": null,
   "id": "d3a52b74-05dc-4066-bcc7-410bb62ee3c3",
   "metadata": {},
   "outputs": [],
   "source": []
  },
  {
   "cell_type": "code",
   "execution_count": null,
   "id": "8635c1a0-3a65-4881-b10b-2e33c0365888",
   "metadata": {},
   "outputs": [],
   "source": []
  },
  {
   "cell_type": "code",
   "execution_count": null,
   "id": "e37fd8c1-4e3a-4c73-8fee-9892729961b2",
   "metadata": {},
   "outputs": [],
   "source": []
  },
  {
   "cell_type": "code",
   "execution_count": null,
   "id": "7265e806-16b0-490c-977c-41597d727fa3",
   "metadata": {},
   "outputs": [],
   "source": []
  },
  {
   "cell_type": "code",
   "execution_count": null,
   "id": "b40e1e8e-fd5c-4920-84ae-40a0b91b3e0d",
   "metadata": {},
   "outputs": [],
   "source": []
  },
  {
   "cell_type": "code",
   "execution_count": null,
   "id": "68f74081-582e-463a-a7e8-c981332c7608",
   "metadata": {},
   "outputs": [],
   "source": []
  },
  {
   "cell_type": "code",
   "execution_count": null,
   "id": "6ace0189-0a4b-4451-9e4b-d4caadd19f71",
   "metadata": {},
   "outputs": [],
   "source": []
  },
  {
   "cell_type": "code",
   "execution_count": null,
   "id": "b643b87f-37d4-45be-b329-0475e6e82d52",
   "metadata": {},
   "outputs": [],
   "source": []
  },
  {
   "cell_type": "code",
   "execution_count": null,
   "id": "742d494b-0991-4353-a11d-9644a2af2216",
   "metadata": {},
   "outputs": [],
   "source": []
  },
  {
   "cell_type": "code",
   "execution_count": null,
   "id": "ac3923da-382d-4f93-92a3-d19ae7e3fea6",
   "metadata": {},
   "outputs": [],
   "source": []
  },
  {
   "cell_type": "code",
   "execution_count": null,
   "id": "3c217d56-e46c-40ec-a0cd-b13eb49dc556",
   "metadata": {},
   "outputs": [],
   "source": []
  },
  {
   "cell_type": "code",
   "execution_count": null,
   "id": "07c512fe-7b46-4e5b-9535-4a260e3eda3e",
   "metadata": {},
   "outputs": [],
   "source": []
  },
  {
   "cell_type": "code",
   "execution_count": null,
   "id": "df0271d1-b10f-4f70-ba46-6f3f4b31de09",
   "metadata": {},
   "outputs": [],
   "source": []
  },
  {
   "cell_type": "code",
   "execution_count": null,
   "id": "aa57e57d-ed56-42c5-a27a-1c0a259d7e38",
   "metadata": {},
   "outputs": [],
   "source": []
  },
  {
   "cell_type": "code",
   "execution_count": null,
   "id": "6e94b762-a61a-474d-9972-37b5e05b2807",
   "metadata": {},
   "outputs": [],
   "source": []
  },
  {
   "cell_type": "code",
   "execution_count": null,
   "id": "15a29a24",
   "metadata": {},
   "outputs": [],
   "source": [
    "##########################################\n",
    "## 10 - Prédictions                     ##\n",
    "##########################################\n",
    "\n",
    "# Nombre de pas de temps pour la prédiction\n",
    "n = 60  # 10 minutes de prédictions (si les données sont collectées toutes les 10 secondes)\n",
    "\n",
    "# Faire la prédiction sur `val_dataset`\n",
    "print(\"Prédiction en cours sur l'ensemble de test...\")\n",
    "\n",
    "predictions = model.predict(\n",
    "    n=n,  # Nombre de pas de temps à prédire\n",
    "    series=val_series,  # Série temporelle de test\n",
    "    future_covariates=future_covariates_val  # Covariables futures associées\n",
    ")\n",
    "\n",
    "print(\"Prédiction terminée !\")\n"
   ]
  },
  {
   "cell_type": "code",
   "execution_count": null,
   "id": "dfd57463-1e6e-496e-8508-a3847739383d",
   "metadata": {},
   "outputs": [],
   "source": [
    "##########################################\n",
    "## 11 - Visualiser les Prédictions      ##\n",
    "##########################################\n",
    "\n",
    "\n",
    "# Affichage des prédictions et des vraies valeurs\n",
    "plt.figure(figsize=(12, 6))\n",
    "val_series.plot(label=\"Vraies valeurs (Test)\")\n",
    "predictions.plot(label=\"Prédictions (Modèle TFT)\")\n",
    "plt.title(\"Prédiction sur l'ensemble de test\")\n",
    "plt.legend()\n",
    "plt.show()\n"
   ]
  },
  {
   "cell_type": "code",
   "execution_count": null,
   "id": "5990c0dd",
   "metadata": {},
   "outputs": [],
   "source": [
    "##########################################\n",
    "## 11 - Métrics                         ##\n",
    "##########################################\n",
    "\n",
    "# Calculer les erreurs sur les prédictions\n",
    "mae_value = mae(val, forecast)  \n",
    "rmse_value = rmse(val, forecast)  \n",
    "mape_value = mape(val, forecast)  \n",
    "\n",
    "print(f\"**Métriques du modèle TFT :**\")\n",
    "print(f\"MAE  (Mean Absolute Error)   : {mae_value:.4f}\")\n",
    "print(f\"RMSE (Root Mean Squared Error): {rmse_value:.4f}\")\n",
    "print(f\"MAPE (Mean Absolute Percentage Error) : {mape_value:.2f}%\")"
   ]
  },
  {
   "cell_type": "code",
   "execution_count": null,
   "id": "b5193f2f",
   "metadata": {},
   "outputs": [],
   "source": [
    "##########################################\n",
    "## 12 - Matrice de Confusion            ##\n",
    "##########################################\n",
    "\n",
    "# Définir un seuil pour classifier les prédictions\n",
    "threshold = 0.5  \n",
    "\n",
    "# Extraire les vraies valeurs correspondant aux prédictions\n",
    "y_true = val[-10:].values().flatten()  # On garde les 10 dernières valeurs du test\n",
    "y_pred = forecast.values().flatten()  # Prédictions TFT\n",
    "\n",
    "# Vérifier les dimensions\n",
    "print(f\"Taille de y_true : {len(y_true)}, Taille de y_pred : {len(y_pred)}\")\n",
    "\n",
    "# Appliquer le seuil pour transformer en classes binaires\n",
    "y_true_binary = (y_true >= threshold).astype(int)  # Conversion en binaire\n",
    "y_pred_binary = (y_pred >= threshold).astype(int)\n",
    "\n",
    "# Calculer la matrice de confusion\n",
    "cm = confusion_matrix(y_true_binary, y_pred_binary)\n",
    "\n",
    "# Afficher la matrice sous forme graphique\n",
    "plt.figure(figsize=(6, 4))\n",
    "sns.heatmap(cm, annot=True, fmt=\"d\", cmap=\"Blues\", xticklabels=[\"Pas de panne\", \"Panne\"], yticklabels=[\"Pas de panne\", \"Panne\"])\n",
    "plt.xlabel(\"Prédictions\")\n",
    "plt.ylabel(\"Vraies valeurs\")\n",
    "plt.title(\"Matrice de Confusion - TFT\")\n",
    "plt.show()\n",
    "\n",
    "# Afficher le rapport de classification\n",
    "print(\"\\n**Rapport de Classification** :\\n\", classification_report(y_true_binary, y_pred_binary))\n"
   ]
  },
  {
   "cell_type": "code",
   "execution_count": null,
   "id": "a28c9116",
   "metadata": {},
   "outputs": [],
   "source": [
    "##############################################\n",
    "## 13 Sauvegarde et chargement du modèle   ##\n",
    "#############################################\n",
    "\n",
    "# Sauvegarde du modèle\n",
    "model_path = r\"..\\..\\Generated_Files\\TFT\\tft_model_final.pth\"\n",
    "if not model_path.endswith(\".pth\"):  # S'assurer que l'extension est correcte\n",
    "    model_path += \".pth\"\n",
    "    \n",
    "model.save(model_path)\n",
    "print(f\" Modèle sauvegardé correctement sous `{model_path}`\")"
   ]
  },
  {
   "cell_type": "code",
   "execution_count": null,
   "id": "5a55c873",
   "metadata": {},
   "outputs": [],
   "source": [
    "import torch\n",
    "from darts.models import TFTModel\n",
    "\n",
    "# 📌 Chemin du modèle sauvegardé\n",
    "model_path = r\"..\\..\\Generated_Files\\TFT\\tft_model_final.pth\"\n",
    "\n",
    "# 📌 Charger le modèle avec weights_only=False\n",
    "model = torch.load(model_path, weights_only=False)\n",
    "\n",
    "print(\"✅ Modèle chargé avec succès !\")\n"
   ]
  },
  {
   "cell_type": "code",
   "execution_count": null,
   "id": "13c4a90d-b181-4017-b113-93c246c00fe1",
   "metadata": {},
   "outputs": [],
   "source": []
  }
 ],
 "metadata": {
  "kernelspec": {
   "display_name": "Python (TFT)",
   "language": "python",
   "name": "tft_env"
  },
  "language_info": {
   "codemirror_mode": {
    "name": "ipython",
    "version": 3
   },
   "file_extension": ".py",
   "mimetype": "text/x-python",
   "name": "python",
   "nbconvert_exporter": "python",
   "pygments_lexer": "ipython3",
   "version": "3.11.4"
  }
 },
 "nbformat": 4,
 "nbformat_minor": 5
}
